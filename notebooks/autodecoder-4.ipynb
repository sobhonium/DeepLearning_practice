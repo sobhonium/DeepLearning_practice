{
 "cells": [
  {
   "cell_type": "code",
   "execution_count": 1,
   "id": "cf109f6b",
   "metadata": {},
   "outputs": [],
   "source": [
    "# Feb 2023 - freezed\n",
    "# Auto-Decoder -->  convolusion added\n",
    "# just added a conv on datasets. \n",
    "# I don't apply fuzzy outputs of conv on outputs(labels) and instead for labels\n",
    "# I only used 0 and 1. "
   ]
  },
  {
   "cell_type": "code",
   "execution_count": null,
   "id": "fe66759c",
   "metadata": {},
   "outputs": [],
   "source": []
  },
  {
   "cell_type": "code",
   "execution_count": 2,
   "id": "d5c35241",
   "metadata": {},
   "outputs": [
    {
     "name": "stderr",
     "output_type": "stream",
     "text": [
      "/home/sobhan/miniconda3/envs/ml-dl/lib/python3.9/site-packages/torch/cuda/__init__.py:83: UserWarning: CUDA initialization: The NVIDIA driver on your system is too old (found version 9010). Please update your GPU driver by downloading and installing a new version from the URL: http://www.nvidia.com/Download/index.aspx Alternatively, go to: https://pytorch.org to install a PyTorch version that has been compiled with your version of the CUDA driver. (Triggered internally at  ../c10/cuda/CUDAFunctions.cpp:109.)\n",
      "  return torch._C._cuda_getDeviceCount() > 0\n"
     ]
    }
   ],
   "source": [
    "import torch\n",
    "import torch.nn as nn\n",
    "import torch.nn.functional as F\n",
    "from torch.utils.data import DataLoader\n",
    "import numpy as np\n",
    "import matplotlib.pyplot as plt\n"
   ]
  },
  {
   "cell_type": "code",
   "execution_count": null,
   "id": "8801356f",
   "metadata": {},
   "outputs": [],
   "source": []
  },
  {
   "cell_type": "code",
   "execution_count": null,
   "id": "f0887ed6",
   "metadata": {},
   "outputs": [],
   "source": []
  },
  {
   "cell_type": "code",
   "execution_count": null,
   "id": "4e75cde5-c47e-45ba-a259-c7ea917d262f",
   "metadata": {},
   "outputs": [],
   "source": []
  },
  {
   "cell_type": "code",
   "execution_count": null,
   "id": "fa7c8d83-8a15-4974-aa5e-102196cb239c",
   "metadata": {},
   "outputs": [],
   "source": []
  },
  {
   "cell_type": "code",
   "execution_count": 3,
   "id": "d6baf523",
   "metadata": {},
   "outputs": [],
   "source": [
    "from math import sqrt, floor\n",
    "\n",
    "def circle(radius=2, box_size=28):\n",
    "    '''\n",
    "    to put some solid boxes in plain white images\n",
    "    returns image(s) with boxes on them with the radius defined for them\n",
    "    Comment: radius is a misnormer here. I wanted to show a scale thing for box in image\n",
    "    firstly I wrote a cricle function (not a box) that is why I left radius like this \n",
    "    '''\n",
    "    box_siz = (box_size//2) * 2\n",
    "    if isinstance(radius, int):\n",
    "        radius = np.array([radius])\n",
    "    \n",
    "    elif isinstance(radius, float):\n",
    "        radius = np.array([floor(radius)])\n",
    "        \n",
    "    elif not isinstance(radius, np.ndarray):\n",
    "        rads = np.array(radius)\n",
    "        \n",
    "    rads = np.array(radius)\n",
    "\n",
    "    position = np.zeros((rads.size, box_size//2 * 2, box_size//2 * 2))\n",
    "#     print(rads)\n",
    "\n",
    "    for i, r in enumerate(rads-1):\n",
    "\n",
    "        for  x in range(-box_size//2, box_size//2):\n",
    "            for y in range(-box_size//2, box_size//2):\n",
    "                if (x**2+y**2 - r**2 <0.1):\n",
    "                    position[i, x+box_size//2 , y+box_size//2] =  1    \n",
    "                \n",
    "\n",
    "                \n",
    "    return   torch.from_numpy(position)\n",
    "#     return  torch.from_numpy(position).flatten(start_dim=1)"
   ]
  },
  {
   "cell_type": "code",
   "execution_count": null,
   "id": "6c1af28c",
   "metadata": {},
   "outputs": [],
   "source": []
  },
  {
   "cell_type": "code",
   "execution_count": 4,
   "id": "42be7e71",
   "metadata": {},
   "outputs": [],
   "source": [
    "from math import sqrt, floor\n",
    "\n",
    "def line(radius=2, box_size=28, line_ori = 'x'):\n",
    "    '''\n",
    "    to put some solid boxes in plain white images\n",
    "    returns image(s) with boxes on them with the radius defined for them\n",
    "    Comment: radius is a misnormer here. I wanted to show a scale thing for box in image\n",
    "    firstly I wrote a cricle function (not a box) that is why I left radius like this \n",
    "    '''\n",
    "    box_siz = (box_size//2) * 2\n",
    "    if isinstance(radius, int):\n",
    "        radius = np.array([radius])\n",
    "    \n",
    "    elif isinstance(radius, float):\n",
    "        radius = np.array([floor(radius)])\n",
    "        \n",
    "    elif not isinstance(radius, np.ndarray):\n",
    "        rads = np.array(radius)\n",
    "        \n",
    "    rads = np.array(radius)\n",
    "\n",
    "    position = np.zeros((rads.size, box_size//2 * 2, box_size//2 * 2))\n",
    "#     print(rads)\n",
    "\n",
    "    for i, r in enumerate(rads-1):\n",
    "\n",
    "        for  x in range(box_siz):\n",
    "            for y in range(box_siz):\n",
    "                \n",
    "                if (x>=y-r and (x<=y+r) and line_ori=='diag'):\n",
    "                    position[i, x , y] = 1\n",
    "                if (box_size-x>=y-r and (box_size-x<=y+r) and line_ori=='anti_diag'):\n",
    "                    position[i, x , y] = 1  \n",
    "                    \n",
    "                elif (x>=r and (x<=r+1) and line_ori=='x') :\n",
    "                    position[i, x , y] = 1\n",
    "                \n",
    "                elif (y>=r and (y<=r+1) and line_ori=='y') :\n",
    "                    position[i, x , y] = 1    \n",
    "                \n",
    "\n",
    "                \n",
    "    return   torch.from_numpy(position)\n",
    "#     return  torch.from_numpy(position).flatten(start_dim=1)"
   ]
  },
  {
   "cell_type": "code",
   "execution_count": null,
   "id": "2418cd28",
   "metadata": {},
   "outputs": [],
   "source": []
  },
  {
   "cell_type": "code",
   "execution_count": 5,
   "id": "0244552c",
   "metadata": {},
   "outputs": [
    {
     "data": {
      "text/plain": [
       "tensor([[[0., 0., 0., 0., 0., 0., 0., 0., 0., 1., 1., 1., 1., 1.],\n",
       "         [0., 0., 0., 0., 0., 0., 0., 0., 1., 1., 1., 1., 1., 1.],\n",
       "         [0., 0., 0., 0., 0., 0., 0., 1., 1., 1., 1., 1., 1., 1.],\n",
       "         [0., 0., 0., 0., 0., 0., 1., 1., 1., 1., 1., 1., 1., 1.],\n",
       "         [0., 0., 0., 0., 0., 1., 1., 1., 1., 1., 1., 1., 1., 1.],\n",
       "         [0., 0., 0., 0., 1., 1., 1., 1., 1., 1., 1., 1., 1., 1.],\n",
       "         [0., 0., 0., 1., 1., 1., 1., 1., 1., 1., 1., 1., 1., 1.],\n",
       "         [0., 0., 1., 1., 1., 1., 1., 1., 1., 1., 1., 1., 1., 1.],\n",
       "         [0., 1., 1., 1., 1., 1., 1., 1., 1., 1., 1., 1., 1., 1.],\n",
       "         [1., 1., 1., 1., 1., 1., 1., 1., 1., 1., 1., 1., 1., 0.],\n",
       "         [1., 1., 1., 1., 1., 1., 1., 1., 1., 1., 1., 1., 0., 0.],\n",
       "         [1., 1., 1., 1., 1., 1., 1., 1., 1., 1., 1., 0., 0., 0.],\n",
       "         [1., 1., 1., 1., 1., 1., 1., 1., 1., 1., 0., 0., 0., 0.],\n",
       "         [1., 1., 1., 1., 1., 1., 1., 1., 1., 0., 0., 0., 0., 0.]]],\n",
       "       dtype=torch.float64)"
      ]
     },
     "execution_count": 5,
     "metadata": {},
     "output_type": "execute_result"
    }
   ],
   "source": [
    "line(radius=7, box_size=15, line_ori='anti_diag')"
   ]
  },
  {
   "cell_type": "code",
   "execution_count": null,
   "id": "7952896c",
   "metadata": {},
   "outputs": [],
   "source": []
  },
  {
   "cell_type": "code",
   "execution_count": null,
   "id": "c5ee652f",
   "metadata": {},
   "outputs": [],
   "source": []
  },
  {
   "cell_type": "code",
   "execution_count": 6,
   "id": "f2d66b34",
   "metadata": {},
   "outputs": [],
   "source": [
    "from math import sqrt, floor\n",
    "\n",
    "def box(radius=2, box_size=28):\n",
    "    '''\n",
    "    to put some solid boxes in plain white images\n",
    "    returns image(s) with boxes on them with the radius defined for them\n",
    "    Comment: radius is a misnormer here. I wanted to show a scale thing for box in image\n",
    "    firstly I wrote a cricle function (not a box) that is why I left radius like this \n",
    "    '''\n",
    "    box_siz = (box_size//2) * 2\n",
    "    if isinstance(radius, int):\n",
    "        radius = np.array([radius])\n",
    "    \n",
    "    elif isinstance(radius, float):\n",
    "        radius = np.array([floor(radius)])\n",
    "        \n",
    "    elif not isinstance(radius, np.ndarray):\n",
    "        rads = np.array(radius)\n",
    "        \n",
    "    rads = np.array(radius)\n",
    "\n",
    "    position = np.zeros((rads.size, box_size//2 * 2, box_size//2 * 2))\n",
    "#     print(rads)\n",
    "\n",
    "    for i, r in enumerate(rads-1):\n",
    "#         for  x in range(0, box_siz):\n",
    "#             for  y in range(0, box_siz):\n",
    "#                 if (x<=r or x+r>=box_siz-1): #and   (y>=r and y+r<box_siz) :\n",
    "#                     position[i, x , y] = 1\n",
    "#                 elif (y<=r or y+r>=box_siz-1): # and (x>=r and x+r<box_siz) :\n",
    "#                     position[i, x , y] = 1\n",
    "                    \n",
    "                    \n",
    "#                 elif (y==r or y+r==(box_size//2)*2-1) and (x>=r and x+r<(box_size//2)*2) :\n",
    "#                     position[i, x , y] = 1 \n",
    "\n",
    "        for  x in range(-box_size//2, box_size//2):\n",
    "            for y in range(-box_size//2, box_size//2):\n",
    "#                 if (x**2+y**2 - r**2 <0.1):\n",
    "#                     position[i, x+box_size//2 , y+box_size//2] =  1    \n",
    "                \n",
    "                if ((abs(x) - r) < 0.01 and (abs(y) - r) < 0.01 ):\n",
    "                    position[i, x+box_size//2 , y+box_size//2] = 1\n",
    "\n",
    "\n",
    "#                 if ((abs(x) - r) < 1 and (abs(y) - r) < 0.01 ):\n",
    "#                     position[i, x+box_size//2 , y+box_size//2] = 1\n",
    "                \n",
    "    return   torch.from_numpy(position)\n",
    "#     return  torch.from_numpy(position).flatten(start_dim=1)\n",
    "    "
   ]
  },
  {
   "cell_type": "code",
   "execution_count": 7,
   "id": "6e06b544",
   "metadata": {},
   "outputs": [
    {
     "data": {
      "text/plain": [
       "tensor([[[0., 0., 0., 0., 0., 0., 0., 0.],\n",
       "         [0., 0., 0., 0., 1., 0., 0., 0.],\n",
       "         [0., 0., 1., 1., 1., 1., 1., 0.],\n",
       "         [0., 0., 1., 1., 1., 1., 1., 0.],\n",
       "         [0., 1., 1., 1., 1., 1., 1., 1.],\n",
       "         [0., 0., 1., 1., 1., 1., 1., 0.],\n",
       "         [0., 0., 1., 1., 1., 1., 1., 0.],\n",
       "         [0., 0., 0., 0., 1., 0., 0., 0.]]], dtype=torch.float64)"
      ]
     },
     "execution_count": 7,
     "metadata": {},
     "output_type": "execute_result"
    }
   ],
   "source": [
    "circle(radius=4, box_size=9)"
   ]
  },
  {
   "cell_type": "code",
   "execution_count": 8,
   "id": "ad78f110",
   "metadata": {},
   "outputs": [
    {
     "data": {
      "text/plain": [
       "tensor([[[0., 0., 0., 0., 0., 0., 0., 0.],\n",
       "         [0., 1., 1., 1., 1., 1., 1., 1.],\n",
       "         [0., 1., 1., 1., 1., 1., 1., 1.],\n",
       "         [0., 1., 1., 1., 1., 1., 1., 1.],\n",
       "         [0., 1., 1., 1., 1., 1., 1., 1.],\n",
       "         [0., 1., 1., 1., 1., 1., 1., 1.],\n",
       "         [0., 1., 1., 1., 1., 1., 1., 1.],\n",
       "         [0., 1., 1., 1., 1., 1., 1., 1.]]], dtype=torch.float64)"
      ]
     },
     "execution_count": 8,
     "metadata": {},
     "output_type": "execute_result"
    }
   ],
   "source": [
    "box(radius=4, box_size=9)"
   ]
  },
  {
   "cell_type": "code",
   "execution_count": 9,
   "id": "cc367a8c",
   "metadata": {},
   "outputs": [
    {
     "data": {
      "text/plain": [
       "tensor([[[0., 0., 0., 0., 0., 0., 0., 0.],\n",
       "         [0., 0., 0., 0., 0., 0., 0., 0.],\n",
       "         [0., 0., 0., 0., 0., 0., 0., 0.],\n",
       "         [1., 1., 1., 1., 1., 1., 1., 1.],\n",
       "         [1., 1., 1., 1., 1., 1., 1., 1.],\n",
       "         [0., 0., 0., 0., 0., 0., 0., 0.],\n",
       "         [0., 0., 0., 0., 0., 0., 0., 0.],\n",
       "         [0., 0., 0., 0., 0., 0., 0., 0.]]], dtype=torch.float64)"
      ]
     },
     "execution_count": 9,
     "metadata": {},
     "output_type": "execute_result"
    }
   ],
   "source": [
    "line(radius=4, box_size=9)"
   ]
  },
  {
   "cell_type": "code",
   "execution_count": null,
   "id": "0beb8e80-e9ba-444e-affd-466e5f3349a1",
   "metadata": {},
   "outputs": [],
   "source": []
  },
  {
   "cell_type": "code",
   "execution_count": null,
   "id": "9ff7877e-a8d2-4c79-bc62-46dfabf5abc3",
   "metadata": {},
   "outputs": [],
   "source": []
  },
  {
   "cell_type": "markdown",
   "id": "69596c32-db03-4b29-b607-d1ae874c2eb0",
   "metadata": {},
   "source": [
    "# Visualization of exmaples"
   ]
  },
  {
   "cell_type": "code",
   "execution_count": null,
   "id": "84532393-f4bc-42e0-82b9-b251c942fdff",
   "metadata": {},
   "outputs": [],
   "source": []
  },
  {
   "cell_type": "code",
   "execution_count": 10,
   "id": "22a72278",
   "metadata": {},
   "outputs": [
    {
     "data": {
      "image/png": "[encoded data removed]",
      "text/plain": [
       "<Figure size 1080x864 with 7 Axes>"
      ]
     },
     "metadata": {
      "needs_background": "light"
     },
     "output_type": "display_data"
    }
   ],
   "source": [
    "plt.figure(figsize=(15, 12))\n",
    "plt.subplots_adjust(hspace=0.2)\n",
    "plt.suptitle(\"---\", fontsize=18, y=0.95)\n",
    "plt.subplots_adjust(left=0.1,\n",
    "                    bottom=0.3,\n",
    "                    right=0.9,\n",
    "                    top=1.39,\n",
    "                    wspace=0.4,\n",
    "                    hspace=0.17)\n",
    "# set number of columns (use 3 to demonstrate the change)\n",
    "\n",
    "box_size = 8\n",
    "half_box_size = box_size//2\n",
    "box_size = half_box_size* 2  # updated\n",
    "\n",
    "ncols = box_size\n",
    "nrows =1\n",
    "for idx in range (1, box_size):\n",
    "    ax = plt.subplot(nrows, ncols, idx + 1)\n",
    "    ax.title.set_text('input= '+str(idx))\n",
    "    y = line(radius=idx, box_size=box_size, line_ori='x').float()\n",
    "    plt.imshow(y.reshape(box_size,box_size).detach().numpy(), cmap='Greys',  interpolation='nearest')\n"
   ]
  },
  {
   "cell_type": "code",
   "execution_count": 11,
   "id": "f597d782",
   "metadata": {},
   "outputs": [
    {
     "data": {
      "image/png": "[encoded data removed]",
      "text/plain": [
       "<Figure size 432x288 with 8 Axes>"
      ]
     },
     "metadata": {
      "needs_background": "light"
     },
     "output_type": "display_data"
    }
   ],
   "source": [
    "for idx in range (box_size, box_size + box_size):    \n",
    "    ax = plt.subplot(nrows+1 , ncols, idx+1 )\n",
    "    ax.title.set_text('input= '+str(idx))\n",
    "    y = line(radius=idx-box_size, box_size=box_size, line_ori='y').float()\n",
    "    plt.imshow(y.reshape(box_size,box_size).detach().numpy(), cmap='Greys',  interpolation='nearest')"
   ]
  },
  {
   "cell_type": "code",
   "execution_count": 12,
   "id": "1d0aa750",
   "metadata": {},
   "outputs": [],
   "source": [
    "box_siz = 8\n",
    "num_samples = 64\n",
    "half_box_siz = box_siz//2\n",
    "box_siz = half_box_siz * 2 # updating box size (now it is not an odd number)"
   ]
  },
  {
   "cell_type": "code",
   "execution_count": 13,
   "id": "c967d7b8",
   "metadata": {},
   "outputs": [],
   "source": [
    "def func(num, divider):\n",
    "    return num//divider + 1\n",
    "l1 =  np.arange(num_samples//2)\n",
    "l2 =  np.arange(num_samples//2)"
   ]
  },
  {
   "cell_type": "code",
   "execution_count": null,
   "id": "82ee7a1c-84f7-46e9-8c4b-1c4a8402a7b9",
   "metadata": {},
   "outputs": [],
   "source": []
  },
  {
   "cell_type": "code",
   "execution_count": 14,
   "id": "1d1719c9-17df-49fa-b4f8-fd3b5add0edf",
   "metadata": {},
   "outputs": [
    {
     "data": {
      "text/plain": [
       "array([ 0,  1,  2,  3,  4,  5,  6,  7,  8,  9, 10, 11, 12, 13, 14, 15, 16,\n",
       "       17, 18, 19, 20, 21, 22, 23, 24, 25, 26, 27, 28, 29, 30, 31])"
      ]
     },
     "execution_count": 14,
     "metadata": {},
     "output_type": "execute_result"
    }
   ],
   "source": [
    "l1"
   ]
  },
  {
   "cell_type": "code",
   "execution_count": 15,
   "id": "5e842b69-7787-4097-b233-42a9fbf77077",
   "metadata": {},
   "outputs": [
    {
     "data": {
      "text/plain": [
       "8.0"
      ]
     },
     "execution_count": 15,
     "metadata": {},
     "output_type": "execute_result"
    }
   ],
   "source": [
    "(num_samples)/box_siz"
   ]
  },
  {
   "cell_type": "code",
   "execution_count": 16,
   "id": "642b6b73",
   "metadata": {},
   "outputs": [
    {
     "data": {
      "text/plain": [
       "tensor([1., 1., 1., 1., 2., 2., 2., 2., 3., 3., 3., 3., 4., 4., 4., 4., 5., 5.,\n",
       "        5., 5., 6., 6., 6., 6., 7., 7., 7., 7., 8., 8., 8., 8.],\n",
       "       dtype=torch.float64)"
      ]
     },
     "execution_count": 16,
     "metadata": {},
     "output_type": "execute_result"
    }
   ],
   "source": [
    "torch.tensor(list(map(func, l1, [(num_samples//2)/box_siz]*(num_samples//2))))\n"
   ]
  },
  {
   "cell_type": "code",
   "execution_count": 17,
   "id": "dbc365a9",
   "metadata": {},
   "outputs": [],
   "source": [
    "# you can use each of the followings for seeing how random number of class samples or fix number of\n",
    "# class samples might affect the results. one very import factor for training here is to \n",
    "# have equal number of samples in each class. Just uncomment the line and comment the other one.\n",
    "\n",
    "# rand_radious = torch.randint(1, centralbox_size+1, (num_samples,)) # create a random array of raduis \n",
    "rand_radious1 = torch.tensor(list(map(func, l1, [(num_samples//2)/box_siz]*(num_samples//2))))\n",
    "# rand_radious2 = torch.tensor(list(map(func, l2, [(num_samples)/half_box_siz]*(num_samples//2))))\n",
    "# features1 = circle(radius=rand_radious1, box_size=box_siz)  # data set\n",
    "features1 = line(radius=rand_radious1, box_size=box_siz, line_ori='x')  # data set\n",
    "\n",
    "rand_radious2 = torch.tensor(list(map(func, l2, [(num_samples//2)/box_siz]*(num_samples//2))))\n",
    "# features2 = circle(radius=rand_radious2, box_size=box_siz)  # data set\n",
    "features2 = line(radius=rand_radious2, box_size=box_siz, line_ori='y')  # data set"
   ]
  },
  {
   "cell_type": "code",
   "execution_count": 18,
   "id": "b716b64a",
   "metadata": {},
   "outputs": [],
   "source": [
    "features =  torch.cat((features1, features2), axis=0)"
   ]
  },
  {
   "cell_type": "code",
   "execution_count": 19,
   "id": "dc7c5472",
   "metadata": {},
   "outputs": [
    {
     "data": {
      "text/plain": [
       "(torch.Size([64, 8, 8]), torch.Size([32, 8, 8]), torch.Size([32, 8, 8]))"
      ]
     },
     "execution_count": 19,
     "metadata": {},
     "output_type": "execute_result"
    }
   ],
   "source": [
    "features.shape, features1.shape, features2.shape"
   ]
  },
  {
   "cell_type": "code",
   "execution_count": 20,
   "id": "637f59b6",
   "metadata": {},
   "outputs": [],
   "source": [
    "# rand_radious1 = torch.tensor([1]*(num_samples//2))\n",
    "# rand_radious2 = torch.tensor([2]*(num_samples//2))\n",
    "# rand_radious = torch.cat((rand_radious1, rand_radious2), axis=0)\n",
    "\n",
    "\n",
    "# features = box(radius=rand_radious, box_size=box_siz)  # data set"
   ]
  },
  {
   "cell_type": "code",
   "execution_count": 21,
   "id": "08701857",
   "metadata": {},
   "outputs": [
    {
     "data": {
      "text/plain": [
       "tensor([1., 1., 1., 1., 2., 2., 2., 2., 3., 3., 3., 3., 4., 4., 4., 4., 5., 5.,\n",
       "        5., 5., 6., 6., 6., 6., 7., 7., 7., 7., 8., 8., 8., 8.],\n",
       "       dtype=torch.float64)"
      ]
     },
     "execution_count": 21,
     "metadata": {},
     "output_type": "execute_result"
    }
   ],
   "source": [
    "rand_radious1"
   ]
  },
  {
   "cell_type": "code",
   "execution_count": 22,
   "id": "bad09f95",
   "metadata": {},
   "outputs": [
    {
     "data": {
      "text/plain": [
       "4"
      ]
     },
     "execution_count": 22,
     "metadata": {},
     "output_type": "execute_result"
    }
   ],
   "source": [
    "half_box_siz\n"
   ]
  },
  {
   "cell_type": "code",
   "execution_count": 23,
   "id": "a5ea080a",
   "metadata": {},
   "outputs": [],
   "source": [
    "# torch.tensor(list(map(func, l1, [(num_samples//2)/half_box_siz]*(num_samples//2))))"
   ]
  },
  {
   "cell_type": "code",
   "execution_count": 24,
   "id": "a82894fb",
   "metadata": {},
   "outputs": [
    {
     "data": {
      "text/plain": [
       "torch.Size([64, 8, 8])"
      ]
     },
     "execution_count": 24,
     "metadata": {},
     "output_type": "execute_result"
    }
   ],
   "source": [
    "features.shape"
   ]
  },
  {
   "cell_type": "code",
   "execution_count": 25,
   "id": "4a783eb3-f891-4c01-8ba9-183d6e0c64a2",
   "metadata": {},
   "outputs": [
    {
     "data": {
      "text/plain": [
       "tensor([[1., 1., 1., 1., 1., 1., 1., 1.],\n",
       "        [1., 1., 1., 1., 1., 1., 1., 1.],\n",
       "        [0., 0., 0., 0., 0., 0., 0., 0.],\n",
       "        [0., 0., 0., 0., 0., 0., 0., 0.],\n",
       "        [0., 0., 0., 0., 0., 0., 0., 0.],\n",
       "        [0., 0., 0., 0., 0., 0., 0., 0.],\n",
       "        [0., 0., 0., 0., 0., 0., 0., 0.],\n",
       "        [0., 0., 0., 0., 0., 0., 0., 0.]], dtype=torch.float64)"
      ]
     },
     "execution_count": 25,
     "metadata": {},
     "output_type": "execute_result"
    }
   ],
   "source": [
    "features[0]"
   ]
  },
  {
   "cell_type": "code",
   "execution_count": 26,
   "id": "b7f8e667",
   "metadata": {},
   "outputs": [],
   "source": [
    "# rand_radious = torch.cat((rand_radious1, rand_radious2), axis=0)"
   ]
  },
  {
   "cell_type": "code",
   "execution_count": 27,
   "id": "463a1236",
   "metadata": {},
   "outputs": [],
   "source": [
    "# rand_radious.shape"
   ]
  },
  {
   "cell_type": "code",
   "execution_count": 28,
   "id": "9888d44d",
   "metadata": {},
   "outputs": [],
   "source": [
    "\n",
    "# l2 =  np.arange(1,box_siz//2)"
   ]
  },
  {
   "cell_type": "code",
   "execution_count": null,
   "id": "445de09e",
   "metadata": {},
   "outputs": [],
   "source": []
  },
  {
   "cell_type": "code",
   "execution_count": 29,
   "id": "a929af13",
   "metadata": {},
   "outputs": [],
   "source": [
    "# rand_radious = torch.tensor(list(map(func, l1, [200//(box_siz//2)]*200)))"
   ]
  },
  {
   "cell_type": "code",
   "execution_count": 30,
   "id": "64391920",
   "metadata": {},
   "outputs": [],
   "source": [
    "# rand_radious"
   ]
  },
  {
   "cell_type": "code",
   "execution_count": 31,
   "id": "56afdb83",
   "metadata": {},
   "outputs": [],
   "source": [
    "#  np.unique(features, axis=0).shape"
   ]
  },
  {
   "cell_type": "code",
   "execution_count": 32,
   "id": "9ced0db0",
   "metadata": {},
   "outputs": [],
   "source": [
    "# select unique data samples only\n",
    "# features = torch.from_numpy(np.unique(features, axis=0))#.shape"
   ]
  },
  {
   "cell_type": "code",
   "execution_count": 33,
   "id": "00b8cc57",
   "metadata": {},
   "outputs": [
    {
     "data": {
      "text/plain": [
       "5"
      ]
     },
     "execution_count": 33,
     "metadata": {},
     "output_type": "execute_result"
    }
   ],
   "source": [
    "half_box_siz+1"
   ]
  },
  {
   "cell_type": "code",
   "execution_count": 34,
   "id": "e9f2ccda",
   "metadata": {},
   "outputs": [],
   "source": [
    "# features.shape"
   ]
  },
  {
   "cell_type": "code",
   "execution_count": null,
   "id": "660e8677",
   "metadata": {},
   "outputs": [],
   "source": []
  },
  {
   "cell_type": "code",
   "execution_count": 35,
   "id": "65909757",
   "metadata": {},
   "outputs": [],
   "source": [
    "# rand_radious"
   ]
  },
  {
   "cell_type": "code",
   "execution_count": 36,
   "id": "320e72d8",
   "metadata": {},
   "outputs": [],
   "source": [
    "# rand_radious/rand_radious.max()"
   ]
  },
  {
   "cell_type": "code",
   "execution_count": null,
   "id": "3d79d41f",
   "metadata": {},
   "outputs": [],
   "source": []
  },
  {
   "cell_type": "code",
   "execution_count": 37,
   "id": "985800c5",
   "metadata": {},
   "outputs": [],
   "source": [
    "# rand_radious[10]/rand_radious.max()"
   ]
  },
  {
   "cell_type": "code",
   "execution_count": 38,
   "id": "91ec21f0",
   "metadata": {},
   "outputs": [
    {
     "data": {
      "text/plain": [
       "tensor([[0., 0., 0., 0., 0., 0., 0., 0.],\n",
       "        [0., 0., 0., 0., 0., 0., 0., 0.],\n",
       "        [1., 1., 1., 1., 1., 1., 1., 1.],\n",
       "        [1., 1., 1., 1., 1., 1., 1., 1.],\n",
       "        [0., 0., 0., 0., 0., 0., 0., 0.],\n",
       "        [0., 0., 0., 0., 0., 0., 0., 0.],\n",
       "        [0., 0., 0., 0., 0., 0., 0., 0.],\n",
       "        [0., 0., 0., 0., 0., 0., 0., 0.]], dtype=torch.float64)"
      ]
     },
     "execution_count": 38,
     "metadata": {},
     "output_type": "execute_result"
    }
   ],
   "source": [
    "features[10]"
   ]
  },
  {
   "cell_type": "code",
   "execution_count": 39,
   "id": "fc5b893a",
   "metadata": {},
   "outputs": [
    {
     "data": {
      "text/plain": [
       "torch.Size([64, 8, 8])"
      ]
     },
     "execution_count": 39,
     "metadata": {},
     "output_type": "execute_result"
    }
   ],
   "source": [
    "features.shape"
   ]
  },
  {
   "cell_type": "code",
   "execution_count": null,
   "id": "d58ae32b",
   "metadata": {},
   "outputs": [],
   "source": []
  },
  {
   "cell_type": "code",
   "execution_count": 40,
   "id": "277fc741",
   "metadata": {},
   "outputs": [],
   "source": [
    "# Code is 2d and the first col is designated to the first shape family. and the second is for subclass examples.\n",
    "\n",
    "code = torch.zeros((num_samples, 2))\n",
    "\n",
    "code[0             : num_samples//2, 0] = 1\n",
    "code[num_samples//2: num_samples   , 0] = 2\n",
    "\n",
    "code[0             : num_samples//2, 1] = rand_radious1\n",
    "code[num_samples//2: num_samples   , 1] = rand_radious2"
   ]
  },
  {
   "cell_type": "code",
   "execution_count": 41,
   "id": "a4c4cb96",
   "metadata": {},
   "outputs": [
    {
     "data": {
      "text/plain": [
       "tensor([[1., 1.],\n",
       "        [1., 1.],\n",
       "        [1., 1.],\n",
       "        [1., 1.],\n",
       "        [1., 2.],\n",
       "        [1., 2.],\n",
       "        [1., 2.],\n",
       "        [1., 2.],\n",
       "        [1., 3.],\n",
       "        [1., 3.],\n",
       "        [1., 3.],\n",
       "        [1., 3.],\n",
       "        [1., 4.],\n",
       "        [1., 4.],\n",
       "        [1., 4.],\n",
       "        [1., 4.],\n",
       "        [1., 5.],\n",
       "        [1., 5.],\n",
       "        [1., 5.],\n",
       "        [1., 5.],\n",
       "        [1., 6.],\n",
       "        [1., 6.],\n",
       "        [1., 6.],\n",
       "        [1., 6.],\n",
       "        [1., 7.],\n",
       "        [1., 7.],\n",
       "        [1., 7.],\n",
       "        [1., 7.],\n",
       "        [1., 8.],\n",
       "        [1., 8.],\n",
       "        [1., 8.],\n",
       "        [1., 8.],\n",
       "        [2., 1.],\n",
       "        [2., 1.],\n",
       "        [2., 1.],\n",
       "        [2., 1.],\n",
       "        [2., 2.],\n",
       "        [2., 2.],\n",
       "        [2., 2.],\n",
       "        [2., 2.],\n",
       "        [2., 3.],\n",
       "        [2., 3.],\n",
       "        [2., 3.],\n",
       "        [2., 3.],\n",
       "        [2., 4.],\n",
       "        [2., 4.],\n",
       "        [2., 4.],\n",
       "        [2., 4.],\n",
       "        [2., 5.],\n",
       "        [2., 5.],\n",
       "        [2., 5.],\n",
       "        [2., 5.],\n",
       "        [2., 6.],\n",
       "        [2., 6.],\n",
       "        [2., 6.],\n",
       "        [2., 6.],\n",
       "        [2., 7.],\n",
       "        [2., 7.],\n",
       "        [2., 7.],\n",
       "        [2., 7.],\n",
       "        [2., 8.],\n",
       "        [2., 8.],\n",
       "        [2., 8.],\n",
       "        [2., 8.]])"
      ]
     },
     "execution_count": 41,
     "metadata": {},
     "output_type": "execute_result"
    }
   ],
   "source": [
    "code"
   ]
  },
  {
   "cell_type": "code",
   "execution_count": 42,
   "id": "4c7a8797",
   "metadata": {},
   "outputs": [
    {
     "data": {
      "text/plain": [
       "torch.Size([64, 2])"
      ]
     },
     "execution_count": 42,
     "metadata": {},
     "output_type": "execute_result"
    }
   ],
   "source": [
    "code.shape"
   ]
  },
  {
   "cell_type": "code",
   "execution_count": 43,
   "id": "8696cf22",
   "metadata": {},
   "outputs": [
    {
     "data": {
      "text/plain": [
       "tensor([2., 8.])"
      ]
     },
     "execution_count": 43,
     "metadata": {},
     "output_type": "execute_result"
    }
   ],
   "source": [
    "torch.max(code, axis=0).values"
   ]
  },
  {
   "cell_type": "code",
   "execution_count": 44,
   "id": "e0a21df8",
   "metadata": {},
   "outputs": [],
   "source": [
    "code = code/torch.max(code, axis=0).values"
   ]
  },
  {
   "cell_type": "code",
   "execution_count": 45,
   "id": "a1c3b76f",
   "metadata": {},
   "outputs": [
    {
     "data": {
      "text/plain": [
       "tensor([[0.5000, 0.1250],\n",
       "        [0.5000, 0.1250],\n",
       "        [0.5000, 0.1250],\n",
       "        [0.5000, 0.1250],\n",
       "        [0.5000, 0.2500],\n",
       "        [0.5000, 0.2500],\n",
       "        [0.5000, 0.2500],\n",
       "        [0.5000, 0.2500],\n",
       "        [0.5000, 0.3750],\n",
       "        [0.5000, 0.3750],\n",
       "        [0.5000, 0.3750],\n",
       "        [0.5000, 0.3750],\n",
       "        [0.5000, 0.5000],\n",
       "        [0.5000, 0.5000],\n",
       "        [0.5000, 0.5000],\n",
       "        [0.5000, 0.5000],\n",
       "        [0.5000, 0.6250],\n",
       "        [0.5000, 0.6250],\n",
       "        [0.5000, 0.6250],\n",
       "        [0.5000, 0.6250],\n",
       "        [0.5000, 0.7500],\n",
       "        [0.5000, 0.7500],\n",
       "        [0.5000, 0.7500],\n",
       "        [0.5000, 0.7500],\n",
       "        [0.5000, 0.8750],\n",
       "        [0.5000, 0.8750],\n",
       "        [0.5000, 0.8750],\n",
       "        [0.5000, 0.8750],\n",
       "        [0.5000, 1.0000],\n",
       "        [0.5000, 1.0000],\n",
       "        [0.5000, 1.0000],\n",
       "        [0.5000, 1.0000],\n",
       "        [1.0000, 0.1250],\n",
       "        [1.0000, 0.1250],\n",
       "        [1.0000, 0.1250],\n",
       "        [1.0000, 0.1250],\n",
       "        [1.0000, 0.2500],\n",
       "        [1.0000, 0.2500],\n",
       "        [1.0000, 0.2500],\n",
       "        [1.0000, 0.2500],\n",
       "        [1.0000, 0.3750],\n",
       "        [1.0000, 0.3750],\n",
       "        [1.0000, 0.3750],\n",
       "        [1.0000, 0.3750],\n",
       "        [1.0000, 0.5000],\n",
       "        [1.0000, 0.5000],\n",
       "        [1.0000, 0.5000],\n",
       "        [1.0000, 0.5000],\n",
       "        [1.0000, 0.6250],\n",
       "        [1.0000, 0.6250],\n",
       "        [1.0000, 0.6250],\n",
       "        [1.0000, 0.6250],\n",
       "        [1.0000, 0.7500],\n",
       "        [1.0000, 0.7500],\n",
       "        [1.0000, 0.7500],\n",
       "        [1.0000, 0.7500],\n",
       "        [1.0000, 0.8750],\n",
       "        [1.0000, 0.8750],\n",
       "        [1.0000, 0.8750],\n",
       "        [1.0000, 0.8750],\n",
       "        [1.0000, 1.0000],\n",
       "        [1.0000, 1.0000],\n",
       "        [1.0000, 1.0000],\n",
       "        [1.0000, 1.0000]])"
      ]
     },
     "execution_count": 45,
     "metadata": {},
     "output_type": "execute_result"
    }
   ],
   "source": [
    "code"
   ]
  },
  {
   "cell_type": "code",
   "execution_count": 46,
   "id": "95dd79eb",
   "metadata": {},
   "outputs": [],
   "source": [
    "# random code\n",
    "# code = torch.randint(1, 5, (features.shape[0],1))"
   ]
  },
  {
   "cell_type": "code",
   "execution_count": 47,
   "id": "acf1cd2b",
   "metadata": {},
   "outputs": [],
   "source": [
    "# for i in range(features.shape[0]):\n",
    "# code  = rand_radious/rand_radious.max()\n",
    "    \n",
    "#     print(rand_radious[i]/rand_radious.max() )\n",
    "#     code [i, 0] = features[i].sum()\n",
    "#     code [i, 1] = features[i].sum()"
   ]
  },
  {
   "cell_type": "code",
   "execution_count": null,
   "id": "b6757ae3",
   "metadata": {},
   "outputs": [],
   "source": []
  },
  {
   "cell_type": "code",
   "execution_count": 48,
   "id": "3345fa2d",
   "metadata": {},
   "outputs": [
    {
     "data": {
      "text/plain": [
       "torch.Size([64, 2])"
      ]
     },
     "execution_count": 48,
     "metadata": {},
     "output_type": "execute_result"
    }
   ],
   "source": [
    "code.shape"
   ]
  },
  {
   "cell_type": "code",
   "execution_count": 49,
   "id": "7a1546ef",
   "metadata": {},
   "outputs": [],
   "source": [
    "# code[0:]"
   ]
  },
  {
   "cell_type": "code",
   "execution_count": 50,
   "id": "4e9cc0a8",
   "metadata": {},
   "outputs": [],
   "source": [
    "# features = features/features.shape[1]"
   ]
  },
  {
   "cell_type": "code",
   "execution_count": 51,
   "id": "02b13dfa",
   "metadata": {},
   "outputs": [
    {
     "data": {
      "text/plain": [
       "64"
      ]
     },
     "execution_count": 51,
     "metadata": {},
     "output_type": "execute_result"
    }
   ],
   "source": [
    "features.shape[0]"
   ]
  },
  {
   "cell_type": "code",
   "execution_count": 52,
   "id": "ad203d2a",
   "metadata": {},
   "outputs": [],
   "source": [
    "# code  = code/code.max()"
   ]
  },
  {
   "cell_type": "code",
   "execution_count": 53,
   "id": "27831a3c-3191-4822-8634-df488023823f",
   "metadata": {},
   "outputs": [],
   "source": [
    "def add_pad(mat, pad_x=0, pad_y=0):\n",
    "    assert(pad_x>=0 and pad_y>=0)\n",
    "    pad_mat = torch.zeros(mat.shape[0]+2*pad_x, mat.shape[1]+2*pad_y)\n",
    "    pad_mat[pad_x:mat.shape[0]+pad_x, pad_y:mat.shape[1]+pad_y] = mat\n",
    "    return pad_mat"
   ]
  },
  {
   "cell_type": "code",
   "execution_count": 54,
   "id": "70f6db7c-9715-4494-98d5-bf95459c9ecf",
   "metadata": {},
   "outputs": [
    {
     "data": {
      "text/plain": [
       "tensor([[0., 0., 0., 0., 0.],\n",
       "        [0., 7., 9., 5., 0.],\n",
       "        [0., 3., 6., 9., 0.],\n",
       "        [0., 7., 9., 4., 0.],\n",
       "        [0., 0., 0., 0., 0.]])"
      ]
     },
     "execution_count": 54,
     "metadata": {},
     "output_type": "execute_result"
    }
   ],
   "source": [
    "a = torch.randint(3, 10, (3, 3))\n",
    "add_pad(a, 1, 1)"
   ]
  },
  {
   "cell_type": "code",
   "execution_count": 55,
   "id": "ef20a72f",
   "metadata": {},
   "outputs": [],
   "source": [
    "def conv(src_matices, filter_mat ):\n",
    "    '''Works on 2d covn\n",
    "       returns conv matrix of the same shape, with zero-padded \n",
    "       filter_mat shape must be (odd,odd)\n",
    "    '''\n",
    "    i_filt = filter_mat.shape[0]\n",
    "    j_filt = filter_mat.shape[1]\n",
    "    \n",
    "    # if only one matrix is given, rather than a bunch\n",
    "    if(src_matices.dim()==2):\n",
    "        # add another dim in 0th\n",
    "        src_matices = torch.unsqueeze(src_matices, dim=0)\n",
    "     \n",
    "    \n",
    "    new_mat = torch.zeros(src_matices.shape)\n",
    "    \n",
    "    for idx, src_mat in enumerate(src_matices):\n",
    "        padded_mat = add_pad(src_mat, i_filt//2, j_filt//2) \n",
    "        \n",
    "        # print(new_mat.shape)\n",
    "\n",
    "        for i in range(i_filt//2,padded_mat.shape[0]-i_filt//2):\n",
    "            for j in range(i_filt//2,padded_mat.shape[1]-j_filt//2):\n",
    "\n",
    "                    s= padded_mat[i-i_filt//2: i+i_filt//2+1, j-j_filt//2: j+j_filt//2+1 ]\n",
    "                    # print()\n",
    "                    new_mat[idx, i-i_filt//2,j-j_filt//2] =  (s.float()@torch.transpose(filter_mat.float(), 0, 1)).sum()/(filter_mat.shape[0]*filter_mat.shape[1])\n",
    "                    \n",
    "    return new_mat/torch.max(new_mat)    "
   ]
  },
  {
   "cell_type": "code",
   "execution_count": 56,
   "id": "67333b41-efb5-42c1-af98-0a19569ee571",
   "metadata": {},
   "outputs": [
    {
     "data": {
      "text/plain": [
       "tensor([[[0.6667, 1.0000, 1.0000, 1.0000, 1.0000, 1.0000, 1.0000, 0.6667],\n",
       "         [0.6667, 1.0000, 1.0000, 1.0000, 1.0000, 1.0000, 1.0000, 0.6667],\n",
       "         [0.3333, 0.5000, 0.5000, 0.5000, 0.5000, 0.5000, 0.5000, 0.3333],\n",
       "         [0.0000, 0.0000, 0.0000, 0.0000, 0.0000, 0.0000, 0.0000, 0.0000],\n",
       "         [0.0000, 0.0000, 0.0000, 0.0000, 0.0000, 0.0000, 0.0000, 0.0000],\n",
       "         [0.0000, 0.0000, 0.0000, 0.0000, 0.0000, 0.0000, 0.0000, 0.0000],\n",
       "         [0.0000, 0.0000, 0.0000, 0.0000, 0.0000, 0.0000, 0.0000, 0.0000],\n",
       "         [0.0000, 0.0000, 0.0000, 0.0000, 0.0000, 0.0000, 0.0000, 0.0000]]])"
      ]
     },
     "execution_count": 56,
     "metadata": {},
     "output_type": "execute_result"
    }
   ],
   "source": [
    "a =  torch.randint(1,2, (3,3))\n",
    "conv(features[0], a)"
   ]
  },
  {
   "cell_type": "code",
   "execution_count": null,
   "id": "b2a89165-6cba-4658-b028-a7ef77b89a9e",
   "metadata": {},
   "outputs": [],
   "source": []
  },
  {
   "cell_type": "code",
   "execution_count": null,
   "id": "5b0b0dcf-7888-4a2a-a134-ea3b4741d99e",
   "metadata": {},
   "outputs": [],
   "source": []
  },
  {
   "cell_type": "code",
   "execution_count": 57,
   "id": "b9ffe6a1-2c85-4b4f-afdf-ba070039d702",
   "metadata": {},
   "outputs": [
    {
     "data": {
      "text/plain": [
       "<matplotlib.image.AxesImage at 0x7fb3b339a730>"
      ]
     },
     "execution_count": 57,
     "metadata": {},
     "output_type": "execute_result"
    },
    {
     "data": {
      "image/png": "[encoded data removed]",
      "text/plain": [
       "<Figure size 432x288 with 1 Axes>"
      ]
     },
     "metadata": {
      "needs_background": "light"
     },
     "output_type": "display_data"
    }
   ],
   "source": [
    "a = torch.randint(1, 3, (3, 3))\n",
    "conv(features[0], a)\n",
    "plt.imshow(conv(features[0], a)[0],cmap='Greys', interpolation='none')"
   ]
  },
  {
   "cell_type": "code",
   "execution_count": 58,
   "id": "237d4511-e404-461d-9c7f-40ae9cde8a51",
   "metadata": {},
   "outputs": [
    {
     "data": {
      "text/plain": [
       "<matplotlib.image.AxesImage at 0x7fb3b3e50760>"
      ]
     },
     "execution_count": 58,
     "metadata": {},
     "output_type": "execute_result"
    },
    {
     "data": {
      "image/png": "[encoded data removed]",
      "text/plain": [
       "<Figure size 432x288 with 1 Axes>"
      ]
     },
     "metadata": {
      "needs_background": "light"
     },
     "output_type": "display_data"
    }
   ],
   "source": [
    "plt.imshow(features[0],cmap='Greys', interpolation='none')\n"
   ]
  },
  {
   "cell_type": "code",
   "execution_count": 59,
   "id": "02a2c28d-7f54-4fa2-b599-ea08daac8c88",
   "metadata": {},
   "outputs": [
    {
     "data": {
      "text/plain": [
       "tensor([[[0.0000, 0.0000, 0.0000, 0.0000, 0.0000, 0.0000, 0.0000, 0.0000],\n",
       "         [0.0000, 0.0000, 0.0000, 0.0000, 0.0000, 0.0000, 0.0000, 0.0000],\n",
       "         [0.0000, 0.0000, 0.0000, 0.0000, 0.0000, 0.0000, 0.0000, 0.0000],\n",
       "         [0.0000, 0.0000, 0.0000, 0.0000, 0.0000, 0.0000, 0.0000, 0.0000],\n",
       "         [0.0000, 0.0000, 0.0000, 0.0000, 0.0000, 0.0000, 0.0000, 0.0000],\n",
       "         [0.3333, 0.5000, 0.5000, 0.5000, 0.5000, 0.5000, 0.5000, 0.3000],\n",
       "         [0.6667, 1.0000, 1.0000, 1.0000, 1.0000, 1.0000, 1.0000, 0.6000],\n",
       "         [0.6667, 1.0000, 1.0000, 1.0000, 1.0000, 1.0000, 1.0000, 0.6000]]])"
      ]
     },
     "execution_count": 59,
     "metadata": {},
     "output_type": "execute_result"
    }
   ],
   "source": [
    "conv(features[25], a)"
   ]
  },
  {
   "cell_type": "code",
   "execution_count": 60,
   "id": "2f255dde",
   "metadata": {},
   "outputs": [
    {
     "data": {
      "text/plain": [
       "tensor([[1., 1., 1., 1., 1., 1., 1., 1.],\n",
       "        [1., 1., 1., 1., 1., 1., 1., 1.],\n",
       "        [0., 0., 0., 0., 0., 0., 0., 0.],\n",
       "        [0., 0., 0., 0., 0., 0., 0., 0.],\n",
       "        [0., 0., 0., 0., 0., 0., 0., 0.],\n",
       "        [0., 0., 0., 0., 0., 0., 0., 0.],\n",
       "        [0., 0., 0., 0., 0., 0., 0., 0.],\n",
       "        [0., 0., 0., 0., 0., 0., 0., 0.]], dtype=torch.float64)"
      ]
     },
     "execution_count": 60,
     "metadata": {},
     "output_type": "execute_result"
    }
   ],
   "source": [
    "features[0]"
   ]
  },
  {
   "cell_type": "code",
   "execution_count": 61,
   "id": "c5e82cfe-3164-40ce-a6bc-60561cb870d2",
   "metadata": {},
   "outputs": [],
   "source": [
    "# filter_ = torch.randint(3, 10, (3, 3))\n",
    "# conv(features[0], filter_)"
   ]
  },
  {
   "cell_type": "code",
   "execution_count": null,
   "id": "716cc597-546f-42e5-b090-71999f648735",
   "metadata": {},
   "outputs": [],
   "source": []
  },
  {
   "cell_type": "code",
   "execution_count": 62,
   "id": "eb8bde4e-0aa2-4176-9d4b-1b9473e2923c",
   "metadata": {},
   "outputs": [],
   "source": [
    " # torch.randint(3, 10, (3, 3))"
   ]
  },
  {
   "cell_type": "code",
   "execution_count": null,
   "id": "4633cd85-e8c1-46da-9f21-9b87dcd9af6c",
   "metadata": {},
   "outputs": [],
   "source": []
  },
  {
   "cell_type": "code",
   "execution_count": 63,
   "id": "7b274c66-76b7-4b63-ad77-9194d6e03400",
   "metadata": {},
   "outputs": [
    {
     "data": {
      "text/plain": [
       "<matplotlib.image.AxesImage at 0x7fb3b42c2d30>"
      ]
     },
     "execution_count": 63,
     "metadata": {},
     "output_type": "execute_result"
    },
    {
     "data": {
      "image/png": "[encoded data removed]",
      "text/plain": [
       "<Figure size 432x288 with 1 Axes>"
      ]
     },
     "metadata": {
      "needs_background": "light"
     },
     "output_type": "display_data"
    }
   ],
   "source": [
    "plt.imshow(features[0],cmap='Greys', interpolation='none')\n",
    "# plt.axis('off');"
   ]
  },
  {
   "cell_type": "code",
   "execution_count": 64,
   "id": "b148b06f-7fbc-424e-a67d-cbcdb8a5a061",
   "metadata": {},
   "outputs": [
    {
     "data": {
      "text/plain": [
       "torch.Size([8, 8])"
      ]
     },
     "execution_count": 64,
     "metadata": {},
     "output_type": "execute_result"
    }
   ],
   "source": [
    "features[0] .shape"
   ]
  },
  {
   "cell_type": "code",
   "execution_count": null,
   "id": "08bd8986",
   "metadata": {},
   "outputs": [],
   "source": []
  },
  {
   "cell_type": "code",
   "execution_count": null,
   "id": "58c3c560-acc4-4444-8557-ad950f7870b7",
   "metadata": {},
   "outputs": [],
   "source": []
  },
  {
   "cell_type": "code",
   "execution_count": null,
   "id": "6d24b5ef-06c1-4713-a577-419f49f2fea9",
   "metadata": {},
   "outputs": [],
   "source": []
  },
  {
   "cell_type": "code",
   "execution_count": 65,
   "id": "8bcfbf10-862a-422b-8c77-ef99c5be945f",
   "metadata": {},
   "outputs": [],
   "source": [
    "temp_features = features"
   ]
  },
  {
   "cell_type": "code",
   "execution_count": 66,
   "id": "5f35e184-58b5-4921-b5e3-49199d67f5b7",
   "metadata": {},
   "outputs": [],
   "source": [
    "# apply conv filter on all dataset\n",
    "# it lets you do average-pooling on data\n",
    "filter_ = torch.randint(1, 5, (3, 3))\n",
    "features = conv(features, filter_)\n",
    "# plt.imshow(conv(features[0], a)[0],cmap='Greys', interpolation='none')"
   ]
  },
  {
   "cell_type": "code",
   "execution_count": 67,
   "id": "d8e40225-8bac-4cd2-a4c2-f5bf1ea7e60a",
   "metadata": {},
   "outputs": [
    {
     "data": {
      "text/plain": [
       "tensor([[3, 3, 3],\n",
       "        [1, 2, 3],\n",
       "        [4, 3, 3]])"
      ]
     },
     "execution_count": 67,
     "metadata": {},
     "output_type": "execute_result"
    }
   ],
   "source": [
    "torch.randint(1, 5, (3, 3))"
   ]
  },
  {
   "cell_type": "code",
   "execution_count": 68,
   "id": "4d8ee35b",
   "metadata": {},
   "outputs": [],
   "source": [
    "# temp_features = features"
   ]
  },
  {
   "cell_type": "code",
   "execution_count": 69,
   "id": "288b9239",
   "metadata": {},
   "outputs": [
    {
     "data": {
      "text/plain": [
       "torch.Size([64, 8, 8])"
      ]
     },
     "execution_count": 69,
     "metadata": {},
     "output_type": "execute_result"
    }
   ],
   "source": [
    "temp_features.shape"
   ]
  },
  {
   "cell_type": "code",
   "execution_count": 70,
   "id": "71465557",
   "metadata": {},
   "outputs": [
    {
     "data": {
      "text/plain": [
       "tensor([[0.5652, 1.0000, 1.0000, 1.0000, 1.0000, 1.0000, 1.0000, 0.6522],\n",
       "        [0.5652, 1.0000, 1.0000, 1.0000, 1.0000, 1.0000, 1.0000, 0.6522],\n",
       "        [0.2826, 0.5000, 0.5000, 0.5000, 0.5000, 0.5000, 0.5000, 0.3261],\n",
       "        [0.0000, 0.0000, 0.0000, 0.0000, 0.0000, 0.0000, 0.0000, 0.0000],\n",
       "        [0.0000, 0.0000, 0.0000, 0.0000, 0.0000, 0.0000, 0.0000, 0.0000],\n",
       "        [0.0000, 0.0000, 0.0000, 0.0000, 0.0000, 0.0000, 0.0000, 0.0000],\n",
       "        [0.0000, 0.0000, 0.0000, 0.0000, 0.0000, 0.0000, 0.0000, 0.0000],\n",
       "        [0.0000, 0.0000, 0.0000, 0.0000, 0.0000, 0.0000, 0.0000, 0.0000]])"
      ]
     },
     "execution_count": 70,
     "metadata": {},
     "output_type": "execute_result"
    }
   ],
   "source": [
    "features[0]"
   ]
  },
  {
   "cell_type": "code",
   "execution_count": 71,
   "id": "f738ccce",
   "metadata": {},
   "outputs": [
    {
     "data": {
      "text/plain": [
       "2"
      ]
     },
     "execution_count": 71,
     "metadata": {},
     "output_type": "execute_result"
    }
   ],
   "source": [
    "code.shape[1]"
   ]
  },
  {
   "cell_type": "code",
   "execution_count": 72,
   "id": "1e5ba700",
   "metadata": {},
   "outputs": [],
   "source": [
    "features = torch.zeros(temp_features.shape[0]*temp_features.shape[1]* temp_features.shape[2], 2+code.shape[1])\n",
    "labels = torch.zeros(temp_features.shape[0]*temp_features.shape[1]* temp_features.shape[2])"
   ]
  },
  {
   "cell_type": "code",
   "execution_count": 73,
   "id": "aa807546",
   "metadata": {},
   "outputs": [
    {
     "data": {
      "text/plain": [
       "torch.Size([4096, 4])"
      ]
     },
     "execution_count": 73,
     "metadata": {},
     "output_type": "execute_result"
    }
   ],
   "source": [
    "features.shape"
   ]
  },
  {
   "cell_type": "code",
   "execution_count": 74,
   "id": "2130100e",
   "metadata": {},
   "outputs": [
    {
     "data": {
      "text/plain": [
       "tensor([1, 2, 3, 1, 2, 3])"
      ]
     },
     "execution_count": 74,
     "metadata": {},
     "output_type": "execute_result"
    }
   ],
   "source": [
    "# how cat function works?\n",
    "x = torch.tensor([1,2,3])\n",
    "torch.cat((x, x), axis=0)"
   ]
  },
  {
   "cell_type": "code",
   "execution_count": 75,
   "id": "4d7029d8",
   "metadata": {},
   "outputs": [
    {
     "data": {
      "text/plain": [
       "8"
      ]
     },
     "execution_count": 75,
     "metadata": {},
     "output_type": "execute_result"
    }
   ],
   "source": [
    "(temp_features.shape[1])"
   ]
  },
  {
   "cell_type": "code",
   "execution_count": 76,
   "id": "149f5f5b",
   "metadata": {},
   "outputs": [
    {
     "name": "stderr",
     "output_type": "stream",
     "text": [
      "<ipython-input-76-ed4df0383927>:6: UserWarning: To copy construct from a tensor, it is recommended to use sourceTensor.clone().detach() or sourceTensor.clone().detach().requires_grad_(True), rather than torch.tensor(sourceTensor).\n",
      "  features[count] = torch.cat((torch.tensor([j,k])/temp_features.shape[1],  torch.tensor(code[i])), axis=0)\n"
     ]
    }
   ],
   "source": [
    "#  building data set: first I needed to put all the cooridates (x, y) of pixels in rows of data set and add colums for its codes\n",
    "count = 0 \n",
    "for i in range(temp_features.shape[0]):\n",
    "    for j in range(temp_features.shape[1]):\n",
    "        for k in range(temp_features.shape[2]):\n",
    "            features[count] = torch.cat((torch.tensor([j,k])/temp_features.shape[1],  torch.tensor(code[i])), axis=0)\n",
    "            labels[count] = temp_features[i][j][k]\n",
    "            count += 1\n",
    "#             print(temp_features[i])\n"
   ]
  },
  {
   "cell_type": "code",
   "execution_count": 77,
   "id": "7c77de81",
   "metadata": {},
   "outputs": [
    {
     "data": {
      "text/plain": [
       "(torch.Size([4096, 4]), torch.Size([4096]))"
      ]
     },
     "execution_count": 77,
     "metadata": {},
     "output_type": "execute_result"
    }
   ],
   "source": [
    "features.shape, labels.shape"
   ]
  },
  {
   "cell_type": "code",
   "execution_count": 78,
   "id": "9b2f39a5",
   "metadata": {},
   "outputs": [
    {
     "data": {
      "text/plain": [
       "(tensor([0.6250, 0.1250, 0.5000, 0.6250]), tensor(1.))"
      ]
     },
     "execution_count": 78,
     "metadata": {},
     "output_type": "execute_result"
    }
   ],
   "source": [
    "features[1065], labels[1065]"
   ]
  },
  {
   "cell_type": "code",
   "execution_count": 79,
   "id": "a78aa3e4",
   "metadata": {},
   "outputs": [],
   "source": [
    "# for feature in features:\n",
    "#     print(feature)\n",
    "    \n"
   ]
  },
  {
   "cell_type": "code",
   "execution_count": 80,
   "id": "e3563c91",
   "metadata": {},
   "outputs": [],
   "source": [
    "# labels[1450]"
   ]
  },
  {
   "cell_type": "code",
   "execution_count": null,
   "id": "ff89751d",
   "metadata": {},
   "outputs": [],
   "source": []
  },
  {
   "cell_type": "code",
   "execution_count": 81,
   "id": "3819c283",
   "metadata": {},
   "outputs": [],
   "source": [
    "# from itertools import permutations\n",
    "# for i,j, k  in permutations(range(0, 3)):\n",
    "#     print(i,j,k)"
   ]
  },
  {
   "cell_type": "code",
   "execution_count": 82,
   "id": "3e576811",
   "metadata": {},
   "outputs": [],
   "source": [
    "# m = nn.LogSoftmax(dim=1)\n"
   ]
  },
  {
   "cell_type": "code",
   "execution_count": null,
   "id": "0027dabe-fc7d-4645-961e-8ad3ae7413c6",
   "metadata": {},
   "outputs": [],
   "source": []
  },
  {
   "cell_type": "code",
   "execution_count": null,
   "id": "35ba5e16-1620-4480-95ee-db87c95fcca1",
   "metadata": {},
   "outputs": [],
   "source": []
  },
  {
   "cell_type": "code",
   "execution_count": 83,
   "id": "e18b879c",
   "metadata": {},
   "outputs": [],
   "source": [
    "input_dim = 2  # x, y poisitons of one pixel\n",
    "hidden_dim = 40 # this one is so decisive"
   ]
  },
  {
   "cell_type": "code",
   "execution_count": null,
   "id": "9aa20142-b323-4911-9151-ab901792825f",
   "metadata": {},
   "outputs": [],
   "source": []
  },
  {
   "cell_type": "code",
   "execution_count": 84,
   "id": "014d6032",
   "metadata": {},
   "outputs": [],
   "source": [
    "# defining dropout_layer\n",
    "def dropout_layer(X, dropout):\n",
    "    assert 0 <= dropout <= 1\n",
    "    # In this case, all elements are dropped out\n",
    "    if dropout == 1:\n",
    "        return torch.zeros_like(X)\n",
    "    # In this case, all elements are kept\n",
    "    if dropout == 0:\n",
    "        return X\n",
    "    mask = (torch.rand(X.shape) > dropout).float()\n",
    "    return mask * X / (1.0 - dropout)"
   ]
  },
  {
   "cell_type": "code",
   "execution_count": null,
   "id": "e18ce418",
   "metadata": {},
   "outputs": [],
   "source": []
  },
  {
   "cell_type": "code",
   "execution_count": 85,
   "id": "978facae",
   "metadata": {},
   "outputs": [],
   "source": [
    "class Model(nn.Module):\n",
    "    def __init__(self):\n",
    "        super(Model, self).__init__()\n",
    "        is_training = True\n",
    "#         self.func1 = nn.Linear(input_dim + code.shape[1], hidden_dim)\n",
    "        self.func1 = nn.Linear(input_dim + 2, hidden_dim)\n",
    "\n",
    "        self.func2 = nn.Linear(hidden_dim, hidden_dim)\n",
    "        self.func3 = nn.Linear(hidden_dim, hidden_dim)\n",
    "        self.func4 = nn.Linear(hidden_dim, hidden_dim)\n",
    "        self.func5 = nn.Linear(hidden_dim, 1)\n",
    "        \n",
    "        self.outp = nn.ReLU()\n",
    "        \n",
    "                \n",
    "                \n",
    "    def forward(self, x):\n",
    "#         z = torch.cat((x, code_), axis=0)\n",
    "        z = nn.functional.relu(self.func1(x.float()))\n",
    "#         return self.outp(self.func5(z))\n",
    "            # Use dropout only when training the model\n",
    "        if self.training == True:\n",
    "            # Add a dropout layer after the first fully connected layer\n",
    "            z = dropout_layer(z, dropout=0.080)\n",
    "#         return self.outp(self.func5(z))    \n",
    "        z = nn.functional.relu(self.func2(z.float()))\n",
    "        \n",
    "        if self.training == True:\n",
    "            # Add a dropout layer after the first fully connected layer\n",
    "            z = dropout_layer(z, dropout=0.10)\n",
    "        \n",
    "        z = nn.functional.relu(self.func3(z))\n",
    "        \n",
    "        if self.training == True:\n",
    "            # Add a dropout layer after the first fully connected layer\n",
    "            z = dropout_layer(z, dropout=0.10)\n",
    "        \n",
    "        z = nn.functional.relu(self.func4(z))\n",
    "        \n",
    "        if self.training == True:\n",
    "            # Add a dropout layer after the first fully connected layer\n",
    "            z = dropout_layer(z, dropout=0.10)\n",
    "        \n",
    "        z = self.func5(z)\n",
    "#         z = self.func5(z)\n",
    "        \n",
    "        \n",
    "        return self.outp(z)"
   ]
  },
  {
   "cell_type": "code",
   "execution_count": 86,
   "id": "8ca4771f",
   "metadata": {},
   "outputs": [],
   "source": [
    "model = Model()"
   ]
  },
  {
   "cell_type": "code",
   "execution_count": null,
   "id": "10cbeda5",
   "metadata": {},
   "outputs": [],
   "source": []
  },
  {
   "cell_type": "code",
   "execution_count": 87,
   "id": "71388c8e",
   "metadata": {},
   "outputs": [],
   "source": [
    "a = torch.tensor([1,2,3, 4])\n",
    "b = torch.tensor([1,2,3])"
   ]
  },
  {
   "cell_type": "code",
   "execution_count": 88,
   "id": "5287d4be",
   "metadata": {},
   "outputs": [
    {
     "data": {
      "text/plain": [
       "tensor([0.5000, 0.1250])"
      ]
     },
     "execution_count": 88,
     "metadata": {},
     "output_type": "execute_result"
    }
   ],
   "source": [
    "code[0]"
   ]
  },
  {
   "cell_type": "code",
   "execution_count": 89,
   "id": "7a290b59",
   "metadata": {},
   "outputs": [],
   "source": [
    "# features[1250]"
   ]
  },
  {
   "cell_type": "code",
   "execution_count": 90,
   "id": "884a5beb",
   "metadata": {},
   "outputs": [
    {
     "data": {
      "text/plain": [
       "tensor([0.], grad_fn=<ReluBackward0>)"
      ]
     },
     "execution_count": 90,
     "metadata": {},
     "output_type": "execute_result"
    }
   ],
   "source": [
    "model(features[1])"
   ]
  },
  {
   "cell_type": "code",
   "execution_count": 91,
   "id": "6076a80d",
   "metadata": {},
   "outputs": [
    {
     "data": {
      "text/plain": [
       "tensor([1, 2, 3, 4, 1, 2, 3])"
      ]
     },
     "execution_count": 91,
     "metadata": {},
     "output_type": "execute_result"
    }
   ],
   "source": [
    "torch.cat((a, b), axis=0)"
   ]
  },
  {
   "cell_type": "code",
   "execution_count": 92,
   "id": "ecebf1bf",
   "metadata": {},
   "outputs": [],
   "source": [
    "from torch.utils import data\n",
    "\n",
    "def load_array(data_arrays, batch_size, is_train=True): #@save\n",
    "    \"\"\"Construct a PyTorch data iterator.\"\"\"\n",
    "    dataset = data.TensorDataset(*data_arrays)\n",
    "    return data.DataLoader(dataset, batch_size, shuffle=is_train)"
   ]
  },
  {
   "cell_type": "code",
   "execution_count": 93,
   "id": "b648b321",
   "metadata": {},
   "outputs": [],
   "source": [
    "# for i in range(features[0].shape[0]):\n",
    "#     for j in range(features[0].shape[1]):\n",
    "#         print(model(features[0][i][j]))"
   ]
  },
  {
   "cell_type": "code",
   "execution_count": 94,
   "id": "1017c76f",
   "metadata": {},
   "outputs": [
    {
     "name": "stdout",
     "output_type": "stream",
     "text": [
      "train size= torch.Size([3276, 4]), test size= torch.Size([820, 4]), batch size= 820\n",
      "train size= torch.Size([3276]), test size= torch.Size([820]), batch size= 820\n"
     ]
    }
   ],
   "source": [
    "train_x = features[:-features.shape[0]*20//100]\n",
    "test_x  = features[-features.shape[0]*20//100:]\n",
    "train_y = labels[:-labels.shape[0]*20//100]\n",
    "test_y  = labels[-labels.shape[0]*20//100:]\n",
    "\n",
    "batch_size = test_x.shape[0]\n",
    "\n",
    "print(f'train size= {train_x.shape}, test size= {test_x.shape}, batch size= {batch_size}')\n",
    "print(f'train size= {train_y.shape}, test size= {test_y.shape}, batch size= {batch_size}')\n",
    "train_loader = load_array((train_x, train_y), batch_size)\n",
    "test_loader  = load_array((test_x, test_y), batch_size)"
   ]
  },
  {
   "cell_type": "code",
   "execution_count": 95,
   "id": "9434e3d0",
   "metadata": {},
   "outputs": [
    {
     "data": {
      "text/plain": [
       "<generator object Module.parameters at 0x7fb40ff8d200>"
      ]
     },
     "execution_count": 95,
     "metadata": {},
     "output_type": "execute_result"
    }
   ],
   "source": [
    "model.parameters()"
   ]
  },
  {
   "cell_type": "code",
   "execution_count": null,
   "id": "d1e21d94",
   "metadata": {},
   "outputs": [],
   "source": []
  },
  {
   "cell_type": "code",
   "execution_count": 96,
   "id": "9a975063",
   "metadata": {},
   "outputs": [],
   "source": [
    "# hyperparameters\n",
    "\n",
    "lr = 2e-2\n",
    "\n",
    "epochs = 300\n",
    "DEVICE = 'cpu'\n",
    "print_step = 50"
   ]
  },
  {
   "cell_type": "code",
   "execution_count": null,
   "id": "efd46e82",
   "metadata": {},
   "outputs": [],
   "source": []
  },
  {
   "cell_type": "code",
   "execution_count": null,
   "id": "c2577a9e",
   "metadata": {},
   "outputs": [],
   "source": []
  },
  {
   "cell_type": "code",
   "execution_count": 97,
   "id": "32ecc351",
   "metadata": {},
   "outputs": [],
   "source": [
    "# features[:-20].shape, features[-20:].shape"
   ]
  },
  {
   "cell_type": "code",
   "execution_count": 98,
   "id": "ad9a5f42",
   "metadata": {},
   "outputs": [
    {
     "data": {
      "text/plain": [
       "819"
      ]
     },
     "execution_count": 98,
     "metadata": {},
     "output_type": "execute_result"
    }
   ],
   "source": [
    "# we want to allow only 20% of data for test and the rest on training data\n",
    "features.shape[0]*20//100"
   ]
  },
  {
   "cell_type": "code",
   "execution_count": null,
   "id": "db4828c9",
   "metadata": {},
   "outputs": [],
   "source": []
  },
  {
   "cell_type": "code",
   "execution_count": 99,
   "id": "2e371feb",
   "metadata": {},
   "outputs": [],
   "source": [
    "# 80% for traning test, and 20% for test\n"
   ]
  },
  {
   "cell_type": "code",
   "execution_count": 100,
   "id": "03280d1f",
   "metadata": {},
   "outputs": [
    {
     "data": {
      "text/plain": [
       "(torch.Size([3276, 4]), torch.Size([820, 4]))"
      ]
     },
     "execution_count": 100,
     "metadata": {},
     "output_type": "execute_result"
    }
   ],
   "source": [
    "train_x.shape, test_x.shape"
   ]
  },
  {
   "cell_type": "code",
   "execution_count": null,
   "id": "f398357e",
   "metadata": {},
   "outputs": [],
   "source": []
  },
  {
   "cell_type": "code",
   "execution_count": null,
   "id": "d3d505fb",
   "metadata": {},
   "outputs": [],
   "source": []
  },
  {
   "cell_type": "markdown",
   "id": "1a012aa7",
   "metadata": {},
   "source": [
    "# Defining loss function"
   ]
  },
  {
   "cell_type": "code",
   "execution_count": 101,
   "id": "949572bb",
   "metadata": {},
   "outputs": [],
   "source": [
    "def clamp(a, b):\n",
    "#     a = torch.tensor(x)\n",
    "#     b = torch.tensor(delta)\n",
    "    return torch.min(b, torch.max(-b, a))"
   ]
  },
  {
   "cell_type": "code",
   "execution_count": 102,
   "id": "eb64a987",
   "metadata": {},
   "outputs": [
    {
     "data": {
      "text/plain": [
       "tensor([-1.0000,  1.2000,  1.2000,  1.2000])"
      ]
     },
     "execution_count": 102,
     "metadata": {},
     "output_type": "execute_result"
    }
   ],
   "source": [
    "a = torch.tensor([-1, 5, 1.2, 2])\n",
    "b = torch.tensor([1.2])\n",
    "clamp(a, b)"
   ]
  },
  {
   "cell_type": "code",
   "execution_count": 103,
   "id": "2c2ebfb1",
   "metadata": {},
   "outputs": [
    {
     "data": {
      "text/plain": [
       "tensor([1.2000, 5.0000, 1.2000, 2.0000])"
      ]
     },
     "execution_count": 103,
     "metadata": {},
     "output_type": "execute_result"
    }
   ],
   "source": [
    "torch.max(b, a)"
   ]
  },
  {
   "cell_type": "code",
   "execution_count": null,
   "id": "9ab9af4f",
   "metadata": {},
   "outputs": [],
   "source": []
  },
  {
   "cell_type": "markdown",
   "id": "6b855420",
   "metadata": {},
   "source": [
    "# Training"
   ]
  },
  {
   "cell_type": "code",
   "execution_count": 104,
   "id": "f3b0bca6",
   "metadata": {},
   "outputs": [],
   "source": [
    "optimizer = torch.optim.Adam(model.parameters(), lr=0.03)"
   ]
  },
  {
   "cell_type": "code",
   "execution_count": 105,
   "id": "3833a4f7",
   "metadata": {},
   "outputs": [],
   "source": [
    "# torch.randn(3, 5).softmax(dim=1), torch.randn(3, 5)"
   ]
  },
  {
   "cell_type": "code",
   "execution_count": 106,
   "id": "87caabee",
   "metadata": {},
   "outputs": [],
   "source": [
    "# loss = nn.CrossEntropyLoss(reduction='none')\n",
    "# def loss(y_hat, y):\n",
    "#     return (y_hat-y).sum()\n",
    "loss = nn.MSELoss()\n",
    "# loss = nn.CrossEntropyLoss()\n",
    "# loss = nn.BCEWithLogitsLoss()\n"
   ]
  },
  {
   "cell_type": "code",
   "execution_count": 107,
   "id": "c904c937",
   "metadata": {},
   "outputs": [],
   "source": [
    "# num_epochs = 30\n",
    "# for epoch in range(num_epochs):\n",
    "#     for X,Y in train_loader:\n",
    "#     #     print(X,Y)\n",
    "# #         x = X.T\n",
    "# #         y = Y\n",
    "#         print(X.shape,Y.shape, model(X.float()).shape)\n",
    "#         l = loss(model(X.float())[:,0], Y.float())\n",
    "#         optimizer.zero_grad()\n",
    "#         l.backward()\n",
    "#         optimizer.step() #optimizer\n",
    "# #     l = loss(model(x_truth.float()), y_truth.float())\n",
    "# #     print(f'epoch {epoch + 1}, loss {l:f}')"
   ]
  },
  {
   "cell_type": "code",
   "execution_count": null,
   "id": "05ce2476",
   "metadata": {},
   "outputs": [],
   "source": []
  },
  {
   "cell_type": "code",
   "execution_count": 108,
   "id": "3b6cbce4",
   "metadata": {},
   "outputs": [
    {
     "name": "stdout",
     "output_type": "stream",
     "text": [
      "Start training ...\n",
      "\tEpoch 1 complete! \tAverage Loss:  0.00034303836585060365\n",
      "0.843874379992485\n",
      "\tEpoch 2 complete! \tAverage Loss:  0.0003037226696809133\n",
      "0.7471577674150467\n",
      "\tEpoch 3 complete! \tAverage Loss:  0.0002982329970937434\n",
      "0.7336531728506088\n",
      "\tEpoch 4 complete! \tAverage Loss:  0.00029412168191700447\n",
      "0.723539337515831\n",
      "\tEpoch 5 complete! \tAverage Loss:  0.0002905308170531823\n",
      "0.7147058099508286\n",
      "\tEpoch 6 complete! \tAverage Loss:  0.0002802258342262206\n",
      "0.6893555521965027\n",
      "\tEpoch 7 complete! \tAverage Loss:  0.0002665653703658561\n",
      "0.6557508111000061\n",
      "\tEpoch 8 complete! \tAverage Loss:  0.00025023732606957596\n",
      "0.6155838221311569\n",
      "\tEpoch 9 complete! \tAverage Loss:  0.00022991099129847394\n",
      "0.5655810385942459\n",
      "\tEpoch 10 complete! \tAverage Loss:  0.00021406207687971068\n",
      "0.5265927091240883\n",
      "\tEpoch 11 complete! \tAverage Loss:  0.00019693007859272686\n",
      "0.48444799333810806\n",
      "\tEpoch 12 complete! \tAverage Loss:  0.00017413460021096515\n",
      "0.4283711165189743\n",
      "\tEpoch 13 complete! \tAverage Loss:  0.0001579720769228974\n",
      "0.3886113092303276\n",
      "\tEpoch 14 complete! \tAverage Loss:  0.0001438778590380661\n",
      "0.3539395332336426\n",
      "\tEpoch 15 complete! \tAverage Loss:  0.00013512356615648038\n",
      "0.3324039727449417\n",
      "\tEpoch 16 complete! \tAverage Loss:  0.00012271638687064008\n",
      "0.3018823117017746\n",
      "\tEpoch 17 complete! \tAverage Loss:  0.00011834277794128511\n",
      "0.29112323373556137\n",
      "\tEpoch 18 complete! \tAverage Loss:  0.0001074356867409334\n",
      "0.26429178938269615\n",
      "\tEpoch 19 complete! \tAverage Loss:  0.00010033738685817253\n",
      "0.24682997167110443\n",
      "\tEpoch 20 complete! \tAverage Loss:  9.120288115691363e-05\n",
      "0.22435908764600754\n",
      "\tEpoch 21 complete! \tAverage Loss:  8.079639931277531e-05\n",
      "0.19875914230942726\n",
      "\tEpoch 22 complete! \tAverage Loss:  7.679578431738102e-05\n",
      "0.1889176294207573\n",
      "\tEpoch 23 complete! \tAverage Loss:  7.530661769271866e-05\n",
      "0.1852542795240879\n",
      "\tEpoch 24 complete! \tAverage Loss:  9.42902563790965e-05\n",
      "0.23195403069257736\n",
      "\tEpoch 25 complete! \tAverage Loss:  0.00010741084087185743\n",
      "0.2642306685447693\n",
      "\tEpoch 26 complete! \tAverage Loss:  8.617053035555816e-05\n",
      "0.21197950467467308\n",
      "\tEpoch 27 complete! \tAverage Loss:  7.691416525986137e-05\n",
      "0.18920884653925896\n",
      "\tEpoch 28 complete! \tAverage Loss:  7.281024311858465e-05\n",
      "0.17911319807171822\n",
      "\tEpoch 29 complete! \tAverage Loss:  6.515669325987497e-05\n",
      "0.16028546541929245\n",
      "\tEpoch 30 complete! \tAverage Loss:  6.166302364289276e-05\n",
      "0.1516910381615162\n",
      "Finish!!\n"
     ]
    }
   ],
   "source": [
    "\n",
    "print(\"Start training ...\")\n",
    "model.train()\n",
    "\n",
    "for epoch in range(30):\n",
    "    overall_loss = 0\n",
    "    for batch_idx, (x, y) in enumerate(train_loader):\n",
    "#         x = x.view(batch_size, x_dim)\n",
    "        x = x.to(DEVICE)\n",
    "\n",
    "        optimizer.zero_grad()\n",
    "\n",
    "#         x_hat, mean, log_var = \n",
    "        y_hat = model(x.float()).float()\n",
    "#         y_hat = y_hat.reshape(-1)\n",
    "#         y = y.reshape(-1)\n",
    "#         print(x.shape, y_hat.shape, y.shape)\n",
    "#         print(y_hat, y)\n",
    "#         y_hat = y_hat.type(torch.LongTensor)\n",
    "\n",
    "        l = loss(y_hat.flatten(), y.float().flatten())\n",
    "#         l = torch.sum(torch.abs(clamp(y_hat.flatten(), torch.tensor([1])) - clamp(y.float().flatten(), torch.tensor([1]))))\n",
    "#         print(l)\n",
    "        overall_loss += l.item()\n",
    "        \n",
    "        l.backward()\n",
    "        optimizer.step()\n",
    "        \n",
    "    print(\"\\tEpoch\", epoch + 1, \"complete!\", \"\\tAverage Loss: \", overall_loss / (batch_idx*batch_size))\n",
    "    print(overall_loss)\n",
    "    \n",
    "print(\"Finish!!\")\n"
   ]
  },
  {
   "cell_type": "code",
   "execution_count": null,
   "id": "804c9663",
   "metadata": {},
   "outputs": [],
   "source": []
  },
  {
   "cell_type": "code",
   "execution_count": 109,
   "id": "c8f0cc03",
   "metadata": {},
   "outputs": [],
   "source": [
    "# list(model.named_parameters())"
   ]
  },
  {
   "cell_type": "code",
   "execution_count": 110,
   "id": "520ea683",
   "metadata": {},
   "outputs": [],
   "source": [
    "# a = torch.tensor([0.01, 0.12, 0.72, 0.74])\n",
    "# model(a)"
   ]
  },
  {
   "cell_type": "code",
   "execution_count": null,
   "id": "c2627db1",
   "metadata": {},
   "outputs": [],
   "source": []
  },
  {
   "cell_type": "code",
   "execution_count": 111,
   "id": "c1b72c59",
   "metadata": {},
   "outputs": [],
   "source": [
    "test_sample = torch.zeros((box_siz, box_siz))"
   ]
  },
  {
   "cell_type": "code",
   "execution_count": 112,
   "id": "98f9c797",
   "metadata": {},
   "outputs": [
    {
     "data": {
      "text/plain": [
       "(torch.Size([8, 8]),\n",
       " torch.Size([8, 8]),\n",
       " tensor([0.0000, 0.0000, 0.5000, 0.1250]))"
      ]
     },
     "execution_count": 112,
     "metadata": {},
     "output_type": "execute_result"
    }
   ],
   "source": [
    "test_sample.shape, temp_features[0].shape, features[0]"
   ]
  },
  {
   "cell_type": "code",
   "execution_count": 113,
   "id": "e9421e15",
   "metadata": {},
   "outputs": [],
   "source": [
    "for i in range(box_siz):\n",
    "    for j in range(box_siz):\n",
    "#         test_sample [i,j] = torch.tensor([i/10, j/10, 0.25,0.25])\n",
    "        test_sample [i,j] = model(torch.tensor([i/box_siz, j/box_siz, 0.5002667, 0.0565]))\n",
    "#         model(torch.tensor([i, j, 0.8, 0.6]))"
   ]
  },
  {
   "cell_type": "code",
   "execution_count": 114,
   "id": "e84ebb3e",
   "metadata": {},
   "outputs": [
    {
     "data": {
      "text/plain": [
       "<matplotlib.image.AxesImage at 0x7fb3b3efb3d0>"
      ]
     },
     "execution_count": 114,
     "metadata": {},
     "output_type": "execute_result"
    },
    {
     "data": {
      "image/png": "[encoded data removed]",
      "text/plain": [
       "<Figure size 432x288 with 1 Axes>"
      ]
     },
     "metadata": {
      "needs_background": "light"
     },
     "output_type": "display_data"
    }
   ],
   "source": [
    "plt.subplot(211)\n",
    "plt.imshow(temp_features[0].detach().numpy(), cmap='Greys')"
   ]
  },
  {
   "cell_type": "code",
   "execution_count": 115,
   "id": "7f1770dc",
   "metadata": {},
   "outputs": [
    {
     "data": {
      "text/plain": [
       "<matplotlib.image.AxesImage at 0x7fb3b3640fa0>"
      ]
     },
     "execution_count": 115,
     "metadata": {},
     "output_type": "execute_result"
    },
    {
     "data": {
      "image/png": "[encoded data removed]",
      "text/plain": [
       "<Figure size 432x288 with 1 Axes>"
      ]
     },
     "metadata": {
      "needs_background": "light"
     },
     "output_type": "display_data"
    }
   ],
   "source": [
    "plt.subplot(222)\n",
    "plt.imshow(test_sample.detach().numpy(), cmap='Greys')"
   ]
  },
  {
   "cell_type": "code",
   "execution_count": 116,
   "id": "1c12f161",
   "metadata": {},
   "outputs": [],
   "source": [
    "# test_sample"
   ]
  },
  {
   "cell_type": "code",
   "execution_count": null,
   "id": "842e2f75",
   "metadata": {},
   "outputs": [],
   "source": []
  },
  {
   "cell_type": "code",
   "execution_count": 117,
   "id": "db0c0f9a",
   "metadata": {},
   "outputs": [],
   "source": [
    "# test_sample.shape, temp_features.shape"
   ]
  },
  {
   "cell_type": "code",
   "execution_count": 118,
   "id": "d90c7187",
   "metadata": {},
   "outputs": [],
   "source": [
    "# plt.subplot(211)\n",
    "# plt.imshow(test_sample.detach().numpy(), cmap='Greys')"
   ]
  },
  {
   "cell_type": "code",
   "execution_count": null,
   "id": "c970ad5f",
   "metadata": {},
   "outputs": [],
   "source": []
  },
  {
   "cell_type": "code",
   "execution_count": null,
   "id": "200bf0f5",
   "metadata": {},
   "outputs": [],
   "source": []
  },
  {
   "cell_type": "code",
   "execution_count": 119,
   "id": "97ded53d",
   "metadata": {},
   "outputs": [],
   "source": [
    "for i in range(box_siz):\n",
    "    for j in range(box_siz):\n",
    "#         test_sample [i,j] = model(torch.tensor([i/10, j/10, 0.25,0.25]))\n",
    "        test_sample [i,j] = model(torch.tensor([i/box_siz, j/box_siz, 0.51, 0.86]))"
   ]
  },
  {
   "cell_type": "code",
   "execution_count": 120,
   "id": "d473ecca",
   "metadata": {},
   "outputs": [
    {
     "data": {
      "text/plain": [
       "torch.Size([8, 8])"
      ]
     },
     "execution_count": 120,
     "metadata": {},
     "output_type": "execute_result"
    }
   ],
   "source": [
    "test_sample.shape"
   ]
  },
  {
   "cell_type": "code",
   "execution_count": 121,
   "id": "98c4486c",
   "metadata": {},
   "outputs": [
    {
     "data": {
      "text/plain": [
       "torch.Size([8, 8])"
      ]
     },
     "execution_count": 121,
     "metadata": {},
     "output_type": "execute_result"
    }
   ],
   "source": [
    "test_sample.shape"
   ]
  },
  {
   "cell_type": "code",
   "execution_count": 122,
   "id": "d398c951",
   "metadata": {},
   "outputs": [
    {
     "data": {
      "text/plain": [
       "torch.Size([4096, 4])"
      ]
     },
     "execution_count": 122,
     "metadata": {},
     "output_type": "execute_result"
    }
   ],
   "source": [
    "features.shape"
   ]
  },
  {
   "cell_type": "code",
   "execution_count": null,
   "id": "ff58be6e",
   "metadata": {},
   "outputs": [],
   "source": []
  },
  {
   "cell_type": "code",
   "execution_count": 123,
   "id": "a38b4c51",
   "metadata": {},
   "outputs": [
    {
     "data": {
      "text/plain": [
       "<matplotlib.image.AxesImage at 0x7fb3b3f1b850>"
      ]
     },
     "execution_count": 123,
     "metadata": {},
     "output_type": "execute_result"
    },
    {
     "data": {
      "image/png": "[encoded data removed]",
      "text/plain": [
       "<Figure size 432x288 with 1 Axes>"
      ]
     },
     "metadata": {
      "needs_background": "light"
     },
     "output_type": "display_data"
    }
   ],
   "source": [
    "plt.subplot(211)\n",
    "plt.imshow(test_sample.detach().numpy(), cmap='Greys')\n"
   ]
  },
  {
   "cell_type": "code",
   "execution_count": null,
   "id": "31283384",
   "metadata": {},
   "outputs": [],
   "source": []
  },
  {
   "cell_type": "markdown",
   "id": "bfc24cd6",
   "metadata": {},
   "source": [
    "# Generate new samples"
   ]
  },
  {
   "cell_type": "code",
   "execution_count": 124,
   "id": "fe5bc420",
   "metadata": {},
   "outputs": [],
   "source": [
    "# now taking decoder we can produce new data samples"
   ]
  },
  {
   "cell_type": "code",
   "execution_count": null,
   "id": "d1f9f8f8-1d3d-44d3-8c38-e2d082120b1c",
   "metadata": {},
   "outputs": [],
   "source": []
  },
  {
   "cell_type": "code",
   "execution_count": 125,
   "id": "80e5fbf7-d8f1-4155-875e-dd5e64ecf664",
   "metadata": {},
   "outputs": [],
   "source": [
    "st = rand_radious1.min()/ rand_radious1.max()"
   ]
  },
  {
   "cell_type": "code",
   "execution_count": null,
   "id": "1dcc278f-c186-4e85-b6c8-3c8c40c8fd56",
   "metadata": {},
   "outputs": [],
   "source": []
  },
  {
   "cell_type": "code",
   "execution_count": null,
   "id": "a45c291f-c6b3-4daa-a99d-0665ba2e1219",
   "metadata": {},
   "outputs": [],
   "source": []
  },
  {
   "cell_type": "code",
   "execution_count": 126,
   "id": "9eb77db9",
   "metadata": {},
   "outputs": [],
   "source": [
    "num_test = 8\n",
    "with torch.no_grad():\n",
    "#     new_code = torch.linspace(0.5, 1, steps=50)\n",
    "    tia_class = torch.linspace(0.5, 1, steps=num_test).reshape(-1,1)\n",
    "    tia_sample = torch.linspace(st, 1, steps=num_test).reshape(-1,1)\n",
    "    new_code = torch.cat((tia_class, tia_sample), axis=1)\n",
    "#     noise = torch.rand(10, 1).to(DEVICE)\n",
    "#     model(torch.tensor())\n",
    "#     generated_sample = model(noise)"
   ]
  },
  {
   "cell_type": "code",
   "execution_count": 127,
   "id": "7da8efb7",
   "metadata": {},
   "outputs": [],
   "source": [
    "# new_code = new_code.reshape(-1, 1)"
   ]
  },
  {
   "cell_type": "code",
   "execution_count": 128,
   "id": "e68c85ee",
   "metadata": {},
   "outputs": [],
   "source": [
    "import itertools\n",
    "# list(itertools.product(tia, tia))"
   ]
  },
  {
   "cell_type": "code",
   "execution_count": 129,
   "id": "2248114b",
   "metadata": {},
   "outputs": [],
   "source": [
    "new_code = torch.tensor(list(itertools.product(tia_class, tia_sample)))"
   ]
  },
  {
   "cell_type": "code",
   "execution_count": 130,
   "id": "a9ff6f67",
   "metadata": {},
   "outputs": [],
   "source": [
    "#  torch.cartesian_prod(tia, tia)"
   ]
  },
  {
   "cell_type": "code",
   "execution_count": null,
   "id": "fb49d999",
   "metadata": {},
   "outputs": [],
   "source": []
  },
  {
   "cell_type": "code",
   "execution_count": 131,
   "id": "cb031094",
   "metadata": {},
   "outputs": [
    {
     "data": {
      "text/plain": [
       "torch.Size([64, 2])"
      ]
     },
     "execution_count": 131,
     "metadata": {},
     "output_type": "execute_result"
    }
   ],
   "source": [
    "new_code.shape"
   ]
  },
  {
   "cell_type": "code",
   "execution_count": 132,
   "id": "f0eb9e67",
   "metadata": {},
   "outputs": [
    {
     "data": {
      "text/plain": [
       "tensor([[0.5000, 0.1250],\n",
       "        [0.5000, 0.2500],\n",
       "        [0.5000, 0.3750],\n",
       "        [0.5000, 0.5000],\n",
       "        [0.5000, 0.6250],\n",
       "        [0.5000, 0.7500],\n",
       "        [0.5000, 0.8750],\n",
       "        [0.5000, 1.0000],\n",
       "        [0.5714, 0.1250],\n",
       "        [0.5714, 0.2500],\n",
       "        [0.5714, 0.3750],\n",
       "        [0.5714, 0.5000],\n",
       "        [0.5714, 0.6250],\n",
       "        [0.5714, 0.7500],\n",
       "        [0.5714, 0.8750],\n",
       "        [0.5714, 1.0000],\n",
       "        [0.6429, 0.1250],\n",
       "        [0.6429, 0.2500],\n",
       "        [0.6429, 0.3750],\n",
       "        [0.6429, 0.5000],\n",
       "        [0.6429, 0.6250],\n",
       "        [0.6429, 0.7500],\n",
       "        [0.6429, 0.8750],\n",
       "        [0.6429, 1.0000],\n",
       "        [0.7143, 0.1250],\n",
       "        [0.7143, 0.2500],\n",
       "        [0.7143, 0.3750],\n",
       "        [0.7143, 0.5000],\n",
       "        [0.7143, 0.6250],\n",
       "        [0.7143, 0.7500],\n",
       "        [0.7143, 0.8750],\n",
       "        [0.7143, 1.0000],\n",
       "        [0.7857, 0.1250],\n",
       "        [0.7857, 0.2500],\n",
       "        [0.7857, 0.3750],\n",
       "        [0.7857, 0.5000],\n",
       "        [0.7857, 0.6250],\n",
       "        [0.7857, 0.7500],\n",
       "        [0.7857, 0.8750],\n",
       "        [0.7857, 1.0000],\n",
       "        [0.8571, 0.1250],\n",
       "        [0.8571, 0.2500],\n",
       "        [0.8571, 0.3750],\n",
       "        [0.8571, 0.5000],\n",
       "        [0.8571, 0.6250],\n",
       "        [0.8571, 0.7500],\n",
       "        [0.8571, 0.8750],\n",
       "        [0.8571, 1.0000],\n",
       "        [0.9286, 0.1250],\n",
       "        [0.9286, 0.2500],\n",
       "        [0.9286, 0.3750],\n",
       "        [0.9286, 0.5000],\n",
       "        [0.9286, 0.6250],\n",
       "        [0.9286, 0.7500],\n",
       "        [0.9286, 0.8750],\n",
       "        [0.9286, 1.0000],\n",
       "        [1.0000, 0.1250],\n",
       "        [1.0000, 0.2500],\n",
       "        [1.0000, 0.3750],\n",
       "        [1.0000, 0.5000],\n",
       "        [1.0000, 0.6250],\n",
       "        [1.0000, 0.7500],\n",
       "        [1.0000, 0.8750],\n",
       "        [1.0000, 1.0000]])"
      ]
     },
     "execution_count": 132,
     "metadata": {},
     "output_type": "execute_result"
    }
   ],
   "source": [
    "new_code"
   ]
  },
  {
   "cell_type": "code",
   "execution_count": 133,
   "id": "99c54be0",
   "metadata": {},
   "outputs": [
    {
     "data": {
      "text/plain": [
       "8"
      ]
     },
     "execution_count": 133,
     "metadata": {},
     "output_type": "execute_result"
    }
   ],
   "source": [
    "box_siz//2 * 2"
   ]
  },
  {
   "cell_type": "code",
   "execution_count": null,
   "id": "22a4793f",
   "metadata": {},
   "outputs": [],
   "source": []
  },
  {
   "cell_type": "code",
   "execution_count": 134,
   "id": "38612736",
   "metadata": {},
   "outputs": [
    {
     "name": "stdout",
     "output_type": "stream",
     "text": [
      "torch.Size([64, 64])\n"
     ]
    }
   ],
   "source": [
    "count = 0\n",
    "generated_sample = torch.empty((new_code.shape[0], box_siz ** 2))\n",
    "print(generated_sample.shape)\n",
    "for c in new_code:\n",
    "    for i in range(box_siz):\n",
    "        for j in range(box_siz):\n",
    "            test_sample [i,j] = model(torch.cat((torch.tensor([i/box_siz, j/box_siz]), c)))\n",
    "    \n",
    "#     print(test_sample.shape, test_sample.flatten().shape)\n",
    "    generated_sample[count] = test_sample.flatten()\n",
    "    count += 1\n",
    "#     generated_sample = torch.cat((generated_sample, test_sample.flatten()), axis=0)"
   ]
  },
  {
   "cell_type": "code",
   "execution_count": 135,
   "id": "8a8d616b",
   "metadata": {},
   "outputs": [],
   "source": [
    "# noise.shape"
   ]
  },
  {
   "cell_type": "code",
   "execution_count": 136,
   "id": "5c8db1bc",
   "metadata": {},
   "outputs": [
    {
     "data": {
      "text/plain": [
       "torch.Size([64, 64])"
      ]
     },
     "execution_count": 136,
     "metadata": {},
     "output_type": "execute_result"
    }
   ],
   "source": [
    "generated_sample.shape"
   ]
  },
  {
   "cell_type": "code",
   "execution_count": 137,
   "id": "230c892f",
   "metadata": {},
   "outputs": [
    {
     "data": {
      "text/plain": [
       "7.0"
      ]
     },
     "execution_count": 137,
     "metadata": {},
     "output_type": "execute_result"
    }
   ],
   "source": [
    "203/29"
   ]
  },
  {
   "cell_type": "code",
   "execution_count": 138,
   "id": "742d111a",
   "metadata": {},
   "outputs": [],
   "source": [
    "# generated_sample[0]"
   ]
  },
  {
   "cell_type": "code",
   "execution_count": 139,
   "id": "8120c328",
   "metadata": {},
   "outputs": [
    {
     "data": {
      "text/plain": [
       "8"
      ]
     },
     "execution_count": 139,
     "metadata": {},
     "output_type": "execute_result"
    }
   ],
   "source": [
    "box_siz//2 *2"
   ]
  },
  {
   "cell_type": "code",
   "execution_count": null,
   "id": "b76ff86b",
   "metadata": {},
   "outputs": [],
   "source": []
  },
  {
   "cell_type": "code",
   "execution_count": 140,
   "id": "9a93a88a",
   "metadata": {},
   "outputs": [],
   "source": [
    "# plt.subplot(212)\n",
    "# y = generated_sample[2].reshape(box_siz//2 *2,box_siz//2 *2).float()\n",
    "# plt.imshow(y.detach().numpy(), cmap='Greys',  interpolation='nearest')"
   ]
  },
  {
   "cell_type": "code",
   "execution_count": 141,
   "id": "f2756b22",
   "metadata": {},
   "outputs": [
    {
     "data": {
      "text/plain": [
       "tensor([1, 2])"
      ]
     },
     "execution_count": 141,
     "metadata": {},
     "output_type": "execute_result"
    }
   ],
   "source": [
    "torch.tensor([1,2])"
   ]
  },
  {
   "cell_type": "code",
   "execution_count": null,
   "id": "1cbeee42",
   "metadata": {},
   "outputs": [],
   "source": []
  },
  {
   "cell_type": "code",
   "execution_count": 142,
   "id": "3ce86a97",
   "metadata": {},
   "outputs": [
    {
     "data": {
      "image/png": "[encoded data removed]",
      "text/plain": [
       "<Figure size 1080x864 with 64 Axes>"
      ]
     },
     "metadata": {
      "needs_background": "light"
     },
     "output_type": "display_data"
    }
   ],
   "source": [
    "plt.figure(figsize=(15, 12))\n",
    "plt.subplots_adjust(hspace=0.2)\n",
    "plt.suptitle(\"---\", fontsize=18, y=0.95)\n",
    "plt.subplots_adjust(left=0.1,\n",
    "                    bottom=0.3,\n",
    "                    right=0.9,\n",
    "                    top=2.9,\n",
    "                    wspace=0.4,\n",
    "                    hspace=0.7)\n",
    "# set number of columns (use 3 to demonstrate the change)\n",
    "ncols =5\n",
    "\n",
    "nrows = new_code.shape[0]//ncols +1\n",
    "if (nrows==0):\n",
    "    nrows =1\n",
    "    \n",
    "for idx, sample in enumerate (generated_sample):\n",
    "#     print(sample.shape)\n",
    "    ax = plt.subplot(nrows, ncols, idx + 1)\n",
    "    ax.title.set_text(str(new_code[idx]))\n",
    "#     print([idx])\n",
    "    y = sample.reshape(box_siz, box_siz).float()\n",
    "\n",
    "    plt.imshow(y.detach().numpy(), cmap='Greys',  interpolation='nearest')\n",
    "    \n"
   ]
  },
  {
   "cell_type": "code",
   "execution_count": null,
   "id": "adf859f4",
   "metadata": {},
   "outputs": [],
   "source": []
  },
  {
   "cell_type": "markdown",
   "id": "aecfee85",
   "metadata": {},
   "source": [
    "# comment"
   ]
  },
  {
   "cell_type": "code",
   "execution_count": 143,
   "id": "4ecfa268",
   "metadata": {},
   "outputs": [],
   "source": [
    "# dataset should be evenly splited with samples from each class. Random setting is not good, as you might\n",
    "# not providing equal (sufficient) samples of one specefic class and over provide for another class.\n",
    "# This produces bias for the training. To see this go up and uncomment the line.\n",
    "\n",
    "# if you like to produce black square or circles you only need to edit box function on the top of \n",
    "# this notebook file.\n",
    "\n",
    "# Adding more sample data was the best practice for accuracy. \n",
    "# For seeing the results it was best to choose a larger box size.\n",
    "\n",
    "# adding dropout was a good practice.\n",
    "\n",
    "# there are more than one loss functions I tested here. loss = nn.MSELoss() is the best\n",
    "# loss = nn.BCEWithLogitsLoss() was not good. Don't know why.\n",
    "\n",
    "# sometimes you need to run this notebook file more than once to have a good result\n",
    "\n",
    "# sometimes you should play with hidden layers numbers and ... to fine tune the results.\n",
    "\n",
    "# when I incresed box size, it produces more zerots in the plane and ones. sometimes it is not good\n",
    "# as it only thinks that majority of pixels are zero and trains zero planes.\n"
   ]
  },
  {
   "cell_type": "code",
   "execution_count": null,
   "id": "adea12a5",
   "metadata": {},
   "outputs": [],
   "source": []
  },
  {
   "cell_type": "code",
   "execution_count": null,
   "id": "70caae38",
   "metadata": {},
   "outputs": [],
   "source": []
  },
  {
   "cell_type": "code",
   "execution_count": null,
   "id": "bf579d79",
   "metadata": {},
   "outputs": [],
   "source": []
  },
  {
   "cell_type": "code",
   "execution_count": null,
   "id": "02530fcd",
   "metadata": {},
   "outputs": [],
   "source": []
  },
  {
   "cell_type": "code",
   "execution_count": null,
   "id": "ceb9f8b2",
   "metadata": {},
   "outputs": [],
   "source": []
  },
  {
   "cell_type": "code",
   "execution_count": null,
   "id": "184e89fb",
   "metadata": {},
   "outputs": [],
   "source": []
  },
  {
   "cell_type": "code",
   "execution_count": null,
   "id": "be40769c",
   "metadata": {},
   "outputs": [],
   "source": []
  }
 ],
 "metadata": {
  "kernelspec": {
   "display_name": "Python 3",
   "language": "python",
   "name": "python3"
  },
  "language_info": {
   "codemirror_mode": {
    "name": "ipython",
    "version": 3
   },
   "file_extension": ".py",
   "mimetype": "text/x-python",
   "name": "python",
   "nbconvert_exporter": "python",
   "pygments_lexer": "ipython3",
   "version": "3.9.12"
  }
 },
 "nbformat": 4,
 "nbformat_minor": 5
}
