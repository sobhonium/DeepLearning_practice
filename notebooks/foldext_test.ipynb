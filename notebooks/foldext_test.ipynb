{
 "cells": [
  {
   "cell_type": "code",
   "execution_count": 1,
   "id": "d6f378d6",
   "metadata": {},
   "outputs": [],
   "source": [
    "# testing fold"
   ]
  },
  {
   "cell_type": "code",
   "execution_count": 3,
   "id": "83a7b1c8",
   "metadata": {},
   "outputs": [],
   "source": [
    "import torchfold\n",
    "from torchfold import Fold\n",
    "import torch\n",
    "from torch.autograd import Variable\n",
    "\n"
   ]
  },
  {
   "cell_type": "code",
   "execution_count": 16,
   "id": "d045fef2",
   "metadata": {},
   "outputs": [],
   "source": [
    "\n",
    "class FoldExt(Fold):\n",
    "\n",
    "    def __init__(self, volatile=False, cuda=False):\n",
    "        Fold.__init__(self, volatile, cuda)\n",
    "\n",
    "\n",
    "    def add(self, op, *args):\n",
    "        \"\"\"Add op to the fold.\"\"\"\n",
    "        self.total_nodes += 1\n",
    "        if not all([isinstance(arg, (\n",
    "            Fold.Node, int, torch.Tensor, torch.FloatTensor, torch.LongTensor, Variable)) for arg in args]):\n",
    "            raise ValueError(\n",
    "                \"All args should be Tensor, Variable, int or Node, got: %s\" % str(args))\n",
    "        print(self.cached_nodes)    \n",
    "        if args not in self.cached_nodes[op]:\n",
    "            step = max([0] + [arg.step + 1 for arg in args\n",
    "                              if isinstance(arg, Fold.Node)])\n",
    "            node = Fold.Node(op, step, len(self.steps[step][op]), *args)\n",
    "            self.steps[step][op].append(args)\n",
    "            self.cached_nodes[op][args] = node\n",
    "        \n",
    "        print(self.cached_nodes)        \n",
    "        return self.cached_nodes[op][args]\n",
    "\n",
    "\n",
    "    def _batch_args(self, arg_lists, values):\n",
    "        res = []\n",
    "        for arg in arg_lists:\n",
    "            r = []\n",
    "            if isinstance(arg[0], Fold.Node):\n",
    "                if arg[0].batch:\n",
    "                    for x in arg:\n",
    "                        r.append(x.get(values))\n",
    "                    res.append(torch.cat(r, 0))\n",
    "                else:\n",
    "                    for i in range(2, len(arg)):\n",
    "                        if arg[i] != arg[0]:\n",
    "                            raise ValueError(\"Can not use more then one of nobatch argument, got: %s.\" % str(arg))\n",
    "                    x = arg[0]\n",
    "                    res.append(x.get(values))\n",
    "            else:\n",
    "                # Below is what this extension changes against the original version:\n",
    "                #   We make Fold handle float tensor\n",
    "                try:\n",
    "                    if (isinstance(arg[0], Variable)):\n",
    "                        var = torch.cat(arg, 0)\n",
    "                    else:\n",
    "                        var = Variable(torch.cat(arg, 0), volatile=self.volatile)\n",
    "                    if self._cuda:\n",
    "                        var = var.cuda()\n",
    "                    res.append(var)\n",
    "                except:\n",
    "                    print(\"Constructing float tensor from %s\" % str(arg))\n",
    "                    raise\n",
    "        return res"
   ]
  },
  {
   "cell_type": "code",
   "execution_count": null,
   "id": "109456ab",
   "metadata": {},
   "outputs": [],
   "source": []
  },
  {
   "cell_type": "code",
   "execution_count": 27,
   "id": "6509263f",
   "metadata": {},
   "outputs": [],
   "source": [
    "fe = FoldExt()"
   ]
  },
  {
   "cell_type": "code",
   "execution_count": 28,
   "id": "f58e9137",
   "metadata": {},
   "outputs": [
    {
     "name": "stdout",
     "output_type": "stream",
     "text": [
      "defaultdict(<class 'dict'>, {})\n",
      "defaultdict(<class 'dict'>, {'1': {(): [0:0]1}})\n"
     ]
    },
    {
     "data": {
      "text/plain": [
       "[0:0]1"
      ]
     },
     "execution_count": 28,
     "metadata": {},
     "output_type": "execute_result"
    }
   ],
   "source": [
    "fe.add('1')"
   ]
  },
  {
   "cell_type": "code",
   "execution_count": 33,
   "id": "da3d05b6",
   "metadata": {},
   "outputs": [
    {
     "name": "stdout",
     "output_type": "stream",
     "text": [
      "defaultdict(<class 'dict'>, {'1': {(): [0:0]1, (tensor([2, 4]),): [0:1]1}, tensor([2, 4]): {(): [0:0]tensor([2, 4])}, '2': {(): [0:0]2}})\n",
      "defaultdict(<class 'dict'>, {'1': {(): [0:0]1, (tensor([2, 4]),): [0:1]1}, tensor([2, 4]): {(): [0:0]tensor([2, 4])}, '2': {(): [0:0]2, (tensor([2, 4]),): [0:1]2}})\n"
     ]
    },
    {
     "data": {
      "text/plain": [
       "[0:1]2"
      ]
     },
     "execution_count": 33,
     "metadata": {},
     "output_type": "execute_result"
    }
   ],
   "source": [
    "fe.add('2',torch.tensor([2,4]))"
   ]
  },
  {
   "cell_type": "code",
   "execution_count": 31,
   "id": "226e2dac",
   "metadata": {},
   "outputs": [
    {
     "name": "stdout",
     "output_type": "stream",
     "text": [
      "defaultdict(<class 'dict'>, {'1': {(): [0:0]1}, tensor([2, 4]): {(): [0:0]tensor([2, 4])}})\n",
      "defaultdict(<class 'dict'>, {'1': {(): [0:0]1}, tensor([2, 4]): {(): [0:0]tensor([2, 4])}, '2': {(): [0:0]2}})\n"
     ]
    },
    {
     "data": {
      "text/plain": [
       "[0:0]2"
      ]
     },
     "execution_count": 31,
     "metadata": {},
     "output_type": "execute_result"
    }
   ],
   "source": [
    "fe.add('2')"
   ]
  },
  {
   "cell_type": "code",
   "execution_count": null,
   "id": "5fa38beb",
   "metadata": {},
   "outputs": [],
   "source": []
  },
  {
   "cell_type": "code",
   "execution_count": null,
   "id": "9761f5e7",
   "metadata": {},
   "outputs": [],
   "source": []
  }
 ],
 "metadata": {
  "kernelspec": {
   "display_name": "Python 3 (ipykernel)",
   "language": "python",
   "name": "python3"
  },
  "language_info": {
   "codemirror_mode": {
    "name": "ipython",
    "version": 3
   },
   "file_extension": ".py",
   "mimetype": "text/x-python",
   "name": "python",
   "nbconvert_exporter": "python",
   "pygments_lexer": "ipython3",
   "version": "3.10.11"
  }
 },
 "nbformat": 4,
 "nbformat_minor": 5
}
