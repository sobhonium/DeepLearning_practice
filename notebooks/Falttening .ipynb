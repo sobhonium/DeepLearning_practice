{
 "cells": [
  {
   "cell_type": "code",
   "execution_count": 11,
   "id": "aadf3f52",
   "metadata": {},
   "outputs": [],
   "source": [
    "# June 2023"
   ]
  },
  {
   "cell_type": "code",
   "execution_count": 12,
   "id": "992f22c0",
   "metadata": {},
   "outputs": [],
   "source": [
    "# In this notebook, you learn about Falttening based on start_dim\n",
    "## very important"
   ]
  },
  {
   "cell_type": "code",
   "execution_count": 13,
   "id": "fe049c46",
   "metadata": {},
   "outputs": [],
   "source": [
    "import torch"
   ]
  },
  {
   "cell_type": "code",
   "execution_count": 20,
   "id": "ce9964d5",
   "metadata": {},
   "outputs": [],
   "source": [
    "img = torch.rand(7, 8, 50, 20)"
   ]
  },
  {
   "cell_type": "code",
   "execution_count": 21,
   "id": "c19c61b9",
   "metadata": {},
   "outputs": [
    {
     "data": {
      "text/plain": [
       "torch.Size([7, 8, 50, 20])"
      ]
     },
     "execution_count": 21,
     "metadata": {},
     "output_type": "execute_result"
    }
   ],
   "source": [
    "img.shape"
   ]
  },
  {
   "cell_type": "code",
   "execution_count": 22,
   "id": "368eb7f8",
   "metadata": {},
   "outputs": [
    {
     "data": {
      "text/plain": [
       "torch.Size([56000])"
      ]
     },
     "execution_count": 22,
     "metadata": {},
     "output_type": "execute_result"
    }
   ],
   "source": [
    "torch.flatten(img, start_dim=0).shape"
   ]
  },
  {
   "cell_type": "code",
   "execution_count": 23,
   "id": "fde9e42a",
   "metadata": {},
   "outputs": [
    {
     "data": {
      "text/plain": [
       "torch.Size([7, 8000])"
      ]
     },
     "execution_count": 23,
     "metadata": {},
     "output_type": "execute_result"
    }
   ],
   "source": [
    "torch.flatten(img, start_dim=1).shape"
   ]
  },
  {
   "cell_type": "code",
   "execution_count": 24,
   "id": "bb69d353",
   "metadata": {},
   "outputs": [
    {
     "data": {
      "text/plain": [
       "torch.Size([7, 8, 1000])"
      ]
     },
     "execution_count": 24,
     "metadata": {},
     "output_type": "execute_result"
    }
   ],
   "source": [
    "torch.flatten(img, start_dim=2).shape"
   ]
  },
  {
   "cell_type": "code",
   "execution_count": 19,
   "id": "e743a642",
   "metadata": {},
   "outputs": [
    {
     "data": {
      "text/plain": [
       "torch.Size([10, 15, 100, 200])"
      ]
     },
     "execution_count": 19,
     "metadata": {},
     "output_type": "execute_result"
    }
   ],
   "source": [
    "torch.flatten(img, start_dim=3).shape"
   ]
  },
  {
   "cell_type": "code",
   "execution_count": null,
   "id": "75b3eb2d",
   "metadata": {},
   "outputs": [],
   "source": []
  },
  {
   "cell_type": "code",
   "execution_count": 25,
   "id": "46e7dfc3",
   "metadata": {},
   "outputs": [],
   "source": [
    "# very important when working with nn.sequential() when it need FC (fully connected) \n",
    "# layers or anything like that"
   ]
  },
  {
   "cell_type": "code",
   "execution_count": 33,
   "id": "19cc63fd",
   "metadata": {},
   "outputs": [],
   "source": [
    "# torch.flatten is similar to torch.nn.flatten:"
   ]
  },
  {
   "cell_type": "code",
   "execution_count": null,
   "id": "ef0c7898",
   "metadata": {},
   "outputs": [],
   "source": []
  },
  {
   "cell_type": "code",
   "execution_count": 26,
   "id": "c006e3f3",
   "metadata": {},
   "outputs": [],
   "source": [
    "from torch import nn"
   ]
  },
  {
   "cell_type": "code",
   "execution_count": 37,
   "id": "21bb7d36",
   "metadata": {},
   "outputs": [
    {
     "data": {
      "text/plain": [
       "torch.Size([56000])"
      ]
     },
     "execution_count": 37,
     "metadata": {},
     "output_type": "execute_result"
    }
   ],
   "source": [
    "flatten_layer = nn.Flatten(start_dim=0)\n",
    "flatten_layer(img).shape"
   ]
  },
  {
   "cell_type": "code",
   "execution_count": 34,
   "id": "084f617d",
   "metadata": {},
   "outputs": [
    {
     "data": {
      "text/plain": [
       "torch.Size([7, 8000])"
      ]
     },
     "execution_count": 34,
     "metadata": {},
     "output_type": "execute_result"
    }
   ],
   "source": [
    "flatten_layer = nn.Flatten(start_dim=1)\n",
    "flatten_layer(img).shape"
   ]
  },
  {
   "cell_type": "code",
   "execution_count": 35,
   "id": "a7eca587",
   "metadata": {},
   "outputs": [
    {
     "data": {
      "text/plain": [
       "torch.Size([7, 8, 1000])"
      ]
     },
     "execution_count": 35,
     "metadata": {},
     "output_type": "execute_result"
    }
   ],
   "source": [
    "flatten_layer = nn.Flatten(start_dim=2)\n",
    "flatten_layer(img).shape"
   ]
  },
  {
   "cell_type": "code",
   "execution_count": 36,
   "id": "2c2f51c4",
   "metadata": {},
   "outputs": [
    {
     "data": {
      "text/plain": [
       "torch.Size([7, 8, 50, 20])"
      ]
     },
     "execution_count": 36,
     "metadata": {},
     "output_type": "execute_result"
    }
   ],
   "source": [
    "flatten_layer = nn.Flatten(start_dim=3)\n",
    "flatten_layer(img).shape"
   ]
  },
  {
   "cell_type": "code",
   "execution_count": null,
   "id": "810a30ca",
   "metadata": {},
   "outputs": [],
   "source": []
  }
 ],
 "metadata": {
  "kernelspec": {
   "display_name": "Python 3 (ipykernel)",
   "language": "python",
   "name": "python3"
  },
  "language_info": {
   "codemirror_mode": {
    "name": "ipython",
    "version": 3
   },
   "file_extension": ".py",
   "mimetype": "text/x-python",
   "name": "python",
   "nbconvert_exporter": "python",
   "pygments_lexer": "ipython3",
   "version": "3.10.11"
  }
 },
 "nbformat": 4,
 "nbformat_minor": 5
}
