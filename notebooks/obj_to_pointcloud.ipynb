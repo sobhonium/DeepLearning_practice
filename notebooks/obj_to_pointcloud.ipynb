{
 "cells": [
  {
   "cell_type": "code",
   "execution_count": null,
   "id": "cf109f6b",
   "metadata": {},
   "outputs": [],
   "source": []
  },
  {
   "cell_type": "code",
   "execution_count": null,
   "id": "fe66759c",
   "metadata": {},
   "outputs": [],
   "source": []
  },
  {
   "cell_type": "code",
   "execution_count": 2,
   "id": "8801356f",
   "metadata": {},
   "outputs": [],
   "source": [
    "# test"
   ]
  },
  {
   "cell_type": "code",
   "execution_count": 12,
   "id": "d5c35241",
   "metadata": {},
   "outputs": [],
   "source": [
    "\n",
    "\n",
    "import torch\n",
    "import torch.nn as nn\n",
    "import torch.nn.functional as F\n",
    "from torch.utils.data import DataLoader\n",
    "import numpy as np"
   ]
  },
  {
   "cell_type": "code",
   "execution_count": null,
   "id": "f0887ed6",
   "metadata": {},
   "outputs": [],
   "source": []
  },
  {
   "cell_type": "code",
   "execution_count": 13,
   "id": "d436c711",
   "metadata": {},
   "outputs": [],
   "source": [
    "from utils.show_mesh import *\n",
    "from utils.obj_file_toolkit import *\n",
    "# show(filename)"
   ]
  },
  {
   "cell_type": "code",
   "execution_count": 14,
   "id": "c5251b5b-959a-4808-be10-6f2b9d1e4369",
   "metadata": {},
   "outputs": [],
   "source": [
    "filename = '../dataset/SPRING0053.obj'"
   ]
  },
  {
   "cell_type": "code",
   "execution_count": 15,
   "id": "a1d37a29-cef3-40a7-90fe-f0a60ac4a9fe",
   "metadata": {},
   "outputs": [
    {
     "data": {
      "text/plain": [
       "((12500, 3), (12500, 3), (25000, 3))"
      ]
     },
     "execution_count": 15,
     "metadata": {},
     "output_type": "execute_result"
    }
   ],
   "source": [
    "ver, nver,  fac = read_obj(filename)\n",
    "ver.shape, nver.shape, fac.shape"
   ]
  },
  {
   "cell_type": "code",
   "execution_count": 16,
   "id": "e8df0602-3dbf-4d69-a9a0-61771ce10c50",
   "metadata": {},
   "outputs": [],
   "source": [
    "from pathlib import Path\n",
    "parent_folder = Path('/home/sbn/Downloads/datasets/') \n",
    "female_folder = parent_folder / Path('SPRING_FEMALE')\n",
    "male_folder = parent_folder / Path('SPRING_MALE')\n",
    "\n",
    "# male_folder   = parent_folder / Path('SPRING_MALE')"
   ]
  },
  {
   "cell_type": "code",
   "execution_count": 17,
   "id": "eafebc25-a178-45a9-8b41-469721092a4b",
   "metadata": {},
   "outputs": [
    {
     "data": {
      "text/plain": [
       "PosixPath('/home/sbn/Downloads/datasets/SPRING_MALE')"
      ]
     },
     "execution_count": 17,
     "metadata": {},
     "output_type": "execute_result"
    }
   ],
   "source": [
    "male_folder"
   ]
  },
  {
   "cell_type": "code",
   "execution_count": null,
   "id": "84398763",
   "metadata": {},
   "outputs": [],
   "source": []
  },
  {
   "cell_type": "code",
   "execution_count": 32,
   "id": "4f680953-3460-4cef-97c1-22c9f8aa539a",
   "metadata": {},
   "outputs": [],
   "source": [
    "\n",
    "num_samples = 100 # threshold for filling our dataset\n",
    "features  = torch.empty((num_samples, 12500, 3))\n",
    "\n",
    "for idx, male_mesh in enumerate(male_folder.iterdir()):\n",
    "    # show(str(male_mesh))\n",
    "    ver, _, _ = read_obj(str(male_mesh))\n",
    "    # print(np.max(ver))\n",
    "    features[idx] = torch.tensor(ver)\n",
    "    # print(torch.max(features[idx]))\n",
    "    if idx+1 >= num_samples:\n",
    "        break"
   ]
  },
  {
   "cell_type": "code",
   "execution_count": 33,
   "id": "13e585ff-275a-47f5-9262-6fe3b2ae1ab2",
   "metadata": {},
   "outputs": [
    {
     "data": {
      "text/plain": [
       "torch.Size([100, 12500, 3])"
      ]
     },
     "execution_count": 33,
     "metadata": {},
     "output_type": "execute_result"
    }
   ],
   "source": [
    "features.shape"
   ]
  },
  {
   "cell_type": "code",
   "execution_count": 34,
   "id": "dc8dc59c-bd0e-40a6-a9e8-c7192bb5da71",
   "metadata": {},
   "outputs": [
    {
     "data": {
      "text/plain": [
       "torch.Size([12500, 3])"
      ]
     },
     "execution_count": 34,
     "metadata": {},
     "output_type": "execute_result"
    }
   ],
   "source": [
    "features[0].shape"
   ]
  },
  {
   "cell_type": "code",
   "execution_count": 35,
   "id": "dbc365a9",
   "metadata": {},
   "outputs": [],
   "source": [
    "# box_siz = 24\n",
    "# num_samples = 1000   # sample data number\n",
    "# rand_radious= torch.randint(3, 150, (num_samples,))/10 # create a random array of raduis\n",
    "# features = box(radius=rand_radious, box_size=box_siz)  # data set"
   ]
  },
  {
   "cell_type": "code",
   "execution_count": 36,
   "id": "a82894fb",
   "metadata": {},
   "outputs": [
    {
     "data": {
      "text/plain": [
       "torch.Size([100, 12500, 3])"
      ]
     },
     "execution_count": 36,
     "metadata": {},
     "output_type": "execute_result"
    }
   ],
   "source": [
    "features.shape"
   ]
  },
  {
   "cell_type": "code",
   "execution_count": null,
   "id": "fe88fcaf-803a-4c8f-8a28-3a356a8e5ec1",
   "metadata": {},
   "outputs": [],
   "source": []
  },
  {
   "cell_type": "code",
   "execution_count": 37,
   "id": "92a8a8b5-b7c1-4fe3-8263-f2a2659457d9",
   "metadata": {},
   "outputs": [],
   "source": [
    "back_features = features\n",
    "features[:,0] = (features[:,0] - torch.mean(features[:,0]))/torch.std(features[:,0])\n",
    "features[:,1] = (features[:,1] - torch.mean(features[:,1]))/torch.std(features[:,1])\n",
    "features[:,2] = (features[:,2] - torch.mean(features[:,2]))/torch.std(features[:,2])"
   ]
  },
  {
   "cell_type": "code",
   "execution_count": null,
   "id": "84a4422a-b752-471d-ae03-b5b82cbdb842",
   "metadata": {},
   "outputs": [],
   "source": []
  },
  {
   "cell_type": "markdown",
   "id": "e964d5d8",
   "metadata": {},
   "source": [
    "# Junks"
   ]
  },
  {
   "cell_type": "code",
   "execution_count": null,
   "id": "331e2cf2-3b16-48d1-a478-b06388562f16",
   "metadata": {},
   "outputs": [],
   "source": [
    "# the rest is just junks"
   ]
  },
  {
   "cell_type": "code",
   "execution_count": 38,
   "id": "f0c9e332-eec9-491f-a383-4dcced31efce",
   "metadata": {},
   "outputs": [],
   "source": [
    "# import pandas as pd\n",
    "# _ = pd.DataFrame(features.reshape(-1,3).detach().numpy(), columns=[\"0\",\"1\",\"2\"]).hist()\n",
    "# _ = pd.DataFrame(back_features.reshape(-1,3).detach().numpy(), columns=[\"0\",\"1\",\"2\"]).hist()\n"
   ]
  },
  {
   "cell_type": "code",
   "execution_count": 39,
   "id": "2a0df024-9f37-40ef-a2c9-e47074bca52b",
   "metadata": {},
   "outputs": [],
   "source": [
    "# output_file = 'point_cloud_'+time.strftime(\"%Y%m%d-%H%M%S\")+'.xyz'\n",
    "# np.savetxt(output_file, features.reshape(-1, 3).detach().numpy(), delimiter=' ')"
   ]
  },
  {
   "cell_type": "code",
   "execution_count": 40,
   "id": "901fcd22-f487-4755-9bdd-6f1f04792260",
   "metadata": {},
   "outputs": [],
   "source": [
    "# output_file = 'point_cloud_'+time.strftime(\"%Y%m%d-%H%M%S\")+'.xyz'\n",
    "# np.savetxt(output_file, back_features.reshape(-1, 3).detach().numpy(), delimiter=' ')"
   ]
  },
  {
   "cell_type": "code",
   "execution_count": 41,
   "id": "dd593d33-c40e-4d64-8acd-49fdaca4e7fc",
   "metadata": {},
   "outputs": [
    {
     "data": {
      "text/plain": [
       "torch.Size([100, 12500, 3])"
      ]
     },
     "execution_count": 41,
     "metadata": {},
     "output_type": "execute_result"
    }
   ],
   "source": [
    "features.shape"
   ]
  },
  {
   "cell_type": "code",
   "execution_count": 42,
   "id": "dd8eccf5-8d66-4ee4-bd25-9b814b7f0641",
   "metadata": {},
   "outputs": [
    {
     "data": {
      "text/plain": [
       "torch.Size([3750000])"
      ]
     },
     "execution_count": 42,
     "metadata": {},
     "output_type": "execute_result"
    }
   ],
   "source": [
    "torch.flatten(features, start_dim=0).shape"
   ]
  },
  {
   "cell_type": "code",
   "execution_count": 43,
   "id": "30506893-bfa7-4497-a1d9-467ce435e84a",
   "metadata": {},
   "outputs": [
    {
     "data": {
      "text/plain": [
       "torch.Size([100, 37500])"
      ]
     },
     "execution_count": 43,
     "metadata": {},
     "output_type": "execute_result"
    }
   ],
   "source": [
    "torch.flatten(features, start_dim=1).shape"
   ]
  },
  {
   "cell_type": "code",
   "execution_count": 45,
   "id": "aadf8d20",
   "metadata": {},
   "outputs": [
    {
     "data": {
      "text/plain": [
       "torch.Size([100, 37500])"
      ]
     },
     "execution_count": 45,
     "metadata": {},
     "output_type": "execute_result"
    }
   ],
   "source": [
    "torch.flatten(features, start_dim=1).shape"
   ]
  },
  {
   "cell_type": "code",
   "execution_count": 44,
   "id": "9773d46b-ccd6-4587-a0d2-e3a222132376",
   "metadata": {},
   "outputs": [],
   "source": [
    "# import pandas as pd\n",
    "# _ = pd.DataFrame(features.reshape(-1,3).detach().numpy()).hist()\n",
    "# _ = pd.DataFrame(back_features.reshape(-1,3).detach().numpy(), columns=[\"0\",\"1\",\"2\"]).hist()\n"
   ]
  },
  {
   "cell_type": "code",
   "execution_count": null,
   "id": "ba10e94d-4a13-4091-884a-5fa87a93a41c",
   "metadata": {},
   "outputs": [],
   "source": [
    "features.shape"
   ]
  },
  {
   "cell_type": "code",
   "execution_count": null,
   "id": "0468392e-24d5-4324-9bc0-21547988e22e",
   "metadata": {},
   "outputs": [],
   "source": [
    "features.numel()//num_samples"
   ]
  },
  {
   "cell_type": "code",
   "execution_count": null,
   "id": "9a975063",
   "metadata": {},
   "outputs": [],
   "source": [
    "batch_size = 40\n",
    "# img_size = (32, 32) # (width, height)\n",
    "# x_dim  = 784\n",
    "# x_dim  = 784\n",
    "\n",
    "input_dim = features.numel()//num_samples\n",
    "# input_dim = 3\n",
    "\n",
    "hidden_dim = 5000\n",
    "latent_dim = 20\n",
    "\n",
    "\n",
    "# input_dim = 3\n",
    "# hidden_dim = 128\n",
    "# n_embeddings= 768\n",
    "output_dim = input_dim\n",
    "\n",
    "lr = 2e-4\n",
    "\n",
    "epochs = 300\n",
    "DEVICE = 'cpu'\n",
    "print_step = 50"
   ]
  },
  {
   "cell_type": "code",
   "execution_count": null,
   "id": "efd46e82",
   "metadata": {},
   "outputs": [],
   "source": []
  },
  {
   "cell_type": "code",
   "execution_count": null,
   "id": "c2577a9e",
   "metadata": {},
   "outputs": [],
   "source": [
    "from torch.utils import data\n",
    "\n",
    "def load_array(data_arrays, batch_size, is_train=True): #@save\n",
    "    \"\"\"Construct a PyTorch data iterator.\"\"\"\n",
    "    dataset = data.TensorDataset(*data_arrays)\n",
    "    return data.DataLoader(dataset, batch_size, shuffle=is_train)"
   ]
  },
  {
   "cell_type": "code",
   "execution_count": null,
   "id": "2e371feb",
   "metadata": {},
   "outputs": [],
   "source": [
    "# 80% for training and 20% for testing\n",
    "train_x = features#[:-num_samples*80//100]\n",
    "test_x  = features#[-num_samples*80//100:]\n",
    "\n",
    "train_loader = load_array((train_x, train_x), batch_size)\n",
    "# train_loader = DataLoader(dataset=train_dataset, batch_size=batch_size, shuffle=True)\n",
    "test_loader  = load_array((test_x, test_x), 10)"
   ]
  },
  {
   "cell_type": "code",
   "execution_count": null,
   "id": "03280d1f",
   "metadata": {},
   "outputs": [],
   "source": [
    "train_x.shape, test_x.shape"
   ]
  },
  {
   "cell_type": "code",
   "execution_count": null,
   "id": "f398357e",
   "metadata": {},
   "outputs": [],
   "source": []
  },
  {
   "cell_type": "code",
   "execution_count": null,
   "id": "8ffc7e3e",
   "metadata": {},
   "outputs": [],
   "source": [
    "\"\"\"\n",
    "    A simple implementation of Gaussian MLP Encoder and Decoder\n",
    "\"\"\"\n",
    "\n",
    "class Encoder(nn.Module):\n",
    "    \n",
    "    def __init__(self, input_dim, hidden_dim, latent_dim):\n",
    "        super(Encoder, self).__init__()\n",
    "\n",
    "        self.FC_input = nn.Linear(input_dim, hidden_dim)\n",
    "        self.FC_input2 = nn.Linear(hidden_dim, hidden_dim)\n",
    "        self.FC_mean  = nn.Linear(hidden_dim, latent_dim)\n",
    "        self.FC_var   = nn.Linear (hidden_dim, latent_dim)\n",
    "        \n",
    "        self.LeakyReLU = nn.LeakyReLU(0.2)\n",
    "        \n",
    "        self.training = True\n",
    "        \n",
    "    def forward(self, x):\n",
    "        h_       = self.LeakyReLU(self.FC_input(x))\n",
    "        h_       = self.LeakyReLU(self.FC_input2(h_))\n",
    "        mean     = self.FC_mean(h_)\n",
    "        log_var  = self.FC_var(h_)                     # encoder produces mean and log of variance \n",
    "                                                       #             (i.e., parateters of simple tractable normal distribution \"q\"\n",
    "        \n",
    "        return mean, log_var"
   ]
  },
  {
   "cell_type": "code",
   "execution_count": null,
   "id": "acab8689",
   "metadata": {},
   "outputs": [],
   "source": []
  },
  {
   "cell_type": "code",
   "execution_count": null,
   "id": "d987fbd1",
   "metadata": {},
   "outputs": [],
   "source": [
    "\n",
    "class Decoder(nn.Module):\n",
    "    def __init__(self, latent_dim, hidden_dim, output_dim):\n",
    "        super(Decoder, self).__init__()\n",
    "        self.FC_hidden = nn.Linear(latent_dim, hidden_dim)\n",
    "        self.FC_hidden2 = nn.Linear(hidden_dim, hidden_dim)\n",
    "        self.FC_output = nn.Linear(hidden_dim, output_dim)\n",
    "        \n",
    "        self.LeakyReLU = nn.LeakyReLU(0.2)\n",
    "        \n",
    "    def forward(self, x):\n",
    "        h     = self.LeakyReLU(self.FC_hidden(x))\n",
    "        h     = self.LeakyReLU(self.FC_hidden2(h))\n",
    "        \n",
    "        x_hat = torch.sigmoid(self.FC_output(h))\n",
    "        return x_hat"
   ]
  },
  {
   "cell_type": "code",
   "execution_count": null,
   "id": "edc2b43f",
   "metadata": {},
   "outputs": [],
   "source": [
    "# This took me a while to understand it.\n",
    "# z[i]= mu[i]+eps[i]*std[i]   for decoder \n",
    "# see bellow:"
   ]
  },
  {
   "cell_type": "markdown",
   "id": "4997201e",
   "metadata": {},
   "source": [
    "![image](VAE.jpg)"
   ]
  },
  {
   "cell_type": "code",
   "execution_count": null,
   "id": "8be7b2a9",
   "metadata": {},
   "outputs": [],
   "source": []
  },
  {
   "cell_type": "code",
   "execution_count": null,
   "id": "651a3bb8",
   "metadata": {},
   "outputs": [],
   "source": []
  },
  {
   "cell_type": "code",
   "execution_count": null,
   "id": "39ea9e92",
   "metadata": {},
   "outputs": [],
   "source": [
    "class Model(nn.Module):\n",
    "    def __init__(self, Encoder, Decoder):\n",
    "        super(Model, self).__init__()\n",
    "        self.Encoder = Encoder\n",
    "        self.Decoder = Decoder\n",
    "        \n",
    "    def reparameterization(self, mean, var):\n",
    "        epsilon = torch.randn_like(var).to(DEVICE)        # sampling epsilon        \n",
    "        z = mean + var*epsilon                          # reparameterization trick\n",
    "        return z\n",
    "        \n",
    "                \n",
    "    def forward(self, x):\n",
    "        mean, log_var = self.Encoder(x)\n",
    "        z = self.reparameterization(mean, torch.exp(0.5 * log_var)) # takes exponential function (log var -> var)\n",
    "        x_hat            = self.Decoder(z)\n",
    "        \n",
    "        return x_hat, mean, log_var\n",
    "\n",
    "\n"
   ]
  },
  {
   "cell_type": "code",
   "execution_count": null,
   "id": "2d35cf94",
   "metadata": {},
   "outputs": [],
   "source": []
  },
  {
   "cell_type": "code",
   "execution_count": null,
   "id": "3d0c8a51",
   "metadata": {},
   "outputs": [],
   "source": [
    "encoder = Encoder(input_dim=input_dim, hidden_dim=hidden_dim, latent_dim=latent_dim)\n",
    "decoder = Decoder(latent_dim=latent_dim, hidden_dim = hidden_dim, output_dim = output_dim)\n",
    "\n",
    "model = Model(Encoder=encoder, Decoder=decoder).to(DEVICE)\n"
   ]
  },
  {
   "cell_type": "code",
   "execution_count": null,
   "id": "a6d60395",
   "metadata": {},
   "outputs": [],
   "source": []
  },
  {
   "cell_type": "code",
   "execution_count": null,
   "id": "ab4609f0",
   "metadata": {},
   "outputs": [],
   "source": [
    "# model(features[0].float())"
   ]
  },
  {
   "cell_type": "code",
   "execution_count": null,
   "id": "d3d505fb",
   "metadata": {},
   "outputs": [],
   "source": []
  },
  {
   "cell_type": "markdown",
   "id": "1a012aa7",
   "metadata": {},
   "source": [
    "# Defining loss function"
   ]
  },
  {
   "cell_type": "code",
   "execution_count": null,
   "id": "e7106b83",
   "metadata": {},
   "outputs": [],
   "source": [
    "\n",
    "\n",
    "from torch.optim import Adam\n",
    "\n",
    "BCE_loss = nn.BCELoss()\n",
    "\n",
    "def loss_function(x, x_hat, mean, log_var):\n",
    "    reproduction_loss = nn.functional.binary_cross_entropy(x_hat.float(), x.float(), reduction='sum')\n",
    "    KLD      = - 0.5 * torch.sum(1+ log_var - mean.pow(2) - log_var.exp())\n",
    "\n",
    "    return torch.abs(reproduction_loss + KLD)\n",
    "\n",
    "\n",
    "optimizer = Adam(model.parameters(), lr=lr)\n",
    "\n"
   ]
  },
  {
   "cell_type": "markdown",
   "id": "6b855420",
   "metadata": {},
   "source": [
    "# Training"
   ]
  },
  {
   "cell_type": "code",
   "execution_count": null,
   "id": "87caabee",
   "metadata": {},
   "outputs": [],
   "source": []
  },
  {
   "cell_type": "code",
   "execution_count": null,
   "id": "3b6cbce4",
   "metadata": {},
   "outputs": [],
   "source": [
    "print(\"Start training VAE...\")\n",
    "model.train()\n",
    "\n",
    "for epoch in range(300):\n",
    "    overall_loss = 0\n",
    "    for batch_idx, (x, _) in enumerate(train_loader):\n",
    "#         x = x.view(batch_size, x_dim)\n",
    "        x = x.to(DEVICE)\n",
    "\n",
    "        optimizer.zero_grad()\n",
    "\n",
    "        x_hat, mean, log_var = model(x.float())\n",
    "        loss = loss_function(x, x_hat, mean, log_var)\n",
    "        \n",
    "        overall_loss += loss.item()\n",
    "        \n",
    "        loss.backward()\n",
    "        optimizer.step()\n",
    "        \n",
    "    # print(\"\\tEpoch\", epoch + 1, \"complete!\", \"\\tAverage Loss: \", overall_loss / (batch_idx*batch_size))\n",
    "    print(\"\\tEpoch\", epoch + 1, \"complete!\", \"\\tAverage Loss: \", overall_loss )\n",
    "    \n",
    "print(\"Finish!!\")\n"
   ]
  },
  {
   "cell_type": "code",
   "execution_count": null,
   "id": "804c9663",
   "metadata": {},
   "outputs": [],
   "source": []
  },
  {
   "cell_type": "code",
   "execution_count": null,
   "id": "c8f0cc03",
   "metadata": {},
   "outputs": [],
   "source": []
  },
  {
   "cell_type": "code",
   "execution_count": null,
   "id": "c970ad5f",
   "metadata": {},
   "outputs": [],
   "source": [
    "import matplotlib.pyplot as plt\n",
    "import numpy as np"
   ]
  },
  {
   "cell_type": "code",
   "execution_count": null,
   "id": "ea1ab3d5-5542-4cb1-a8e4-6030c015322b",
   "metadata": {},
   "outputs": [],
   "source": [
    "# var.shape, y.shape, mu.shape"
   ]
  },
  {
   "cell_type": "code",
   "execution_count": null,
   "id": "2f833186-1bcd-4f7d-bbbf-a2ab07de4efa",
   "metadata": {},
   "outputs": [],
   "source": [
    "# mu"
   ]
  },
  {
   "cell_type": "code",
   "execution_count": null,
   "id": "ff58be6e",
   "metadata": {},
   "outputs": [],
   "source": [
    "\n",
    "sample_example = 0\n",
    "x = features[sample_example]#.reshape(-1,3).float()\n",
    "y, mu, var = model(x)\n",
    "# y = mu + y*var\n",
    "y = y.reshape(-1,3)"
   ]
  },
  {
   "cell_type": "code",
   "execution_count": null,
   "id": "7e165e03-a2fc-4480-a22a-c727a28a6d00",
   "metadata": {},
   "outputs": [],
   "source": [
    "# y = features[0].reshape(-1,3)"
   ]
  },
  {
   "cell_type": "code",
   "execution_count": null,
   "id": "bdcb02f3-7917-4b95-8e39-27f421f4ddc1",
   "metadata": {},
   "outputs": [],
   "source": [
    "(features[:,0] - torch.mean(features[:,0]))/torch.std(features[:,0])"
   ]
  },
  {
   "cell_type": "code",
   "execution_count": null,
   "id": "a9dd98dd-e153-483d-a947-5399892fc7bd",
   "metadata": {},
   "outputs": [],
   "source": [
    "\n",
    "y[:, 0] = y[:,0]*torch.std(back_features[:,0]) + torch.mean(back_features[:,0])\n",
    "y[:, 1] = y[:,1]*torch.std(back_features[:,1]) + torch.mean(back_features[:,1])\n",
    "y[:, 2] = y[:,2]*torch.std(back_features[:,2]) + torch.mean(back_features[:,2])"
   ]
  },
  {
   "cell_type": "code",
   "execution_count": null,
   "id": "a38b4c51",
   "metadata": {},
   "outputs": [],
   "source": [
    "# plt.subplot(211)\n",
    "# plt.imshow(x.detach().numpy(), cmap='Greys')\n",
    "# plt.subplot(212)\n",
    "# plt.imshow(y.detach().numpy(), cmap='Greys',  interpolation='nearest')"
   ]
  },
  {
   "cell_type": "code",
   "execution_count": null,
   "id": "8cea7a20-2d94-49a9-aa8d-060e4613103f",
   "metadata": {},
   "outputs": [],
   "source": [
    "import time"
   ]
  },
  {
   "cell_type": "code",
   "execution_count": null,
   "id": "31283384",
   "metadata": {},
   "outputs": [],
   "source": [
    "output_file = 'point_cloud_'+time.strftime(\"%Y%m%d-%H%M%S\")+'.xyz'\n",
    "np.savetxt(output_file, ver, delimiter=' ')\n"
   ]
  },
  {
   "cell_type": "code",
   "execution_count": null,
   "id": "9d3938b9-b927-4889-adc5-128d2a072b77",
   "metadata": {},
   "outputs": [],
   "source": [
    "output_file = 'point_cloud_'+time.strftime(\"%Y%m%d-%H%M%S\")+'.xyz'\n",
    "np.savetxt(output_file, (y).detach().numpy(), delimiter=' ')"
   ]
  },
  {
   "cell_type": "markdown",
   "id": "bfc24cd6",
   "metadata": {},
   "source": [
    "# Generate new samples"
   ]
  },
  {
   "cell_type": "code",
   "execution_count": null,
   "id": "fe5bc420",
   "metadata": {},
   "outputs": [],
   "source": [
    "# now taking decoder we can produce new data samples"
   ]
  },
  {
   "cell_type": "code",
   "execution_count": null,
   "id": "75a682ae-afda-4b48-acd9-60d824859057",
   "metadata": {},
   "outputs": [],
   "source": [
    "batch_size"
   ]
  },
  {
   "cell_type": "code",
   "execution_count": null,
   "id": "9eb77db9",
   "metadata": {},
   "outputs": [],
   "source": [
    "with torch.no_grad():\n",
    "    noise = torch.randn(batch_size, latent_dim).to(DEVICE)\n",
    "    generated_sample = decoder(noise)"
   ]
  },
  {
   "cell_type": "code",
   "execution_count": null,
   "id": "f0eb9e67",
   "metadata": {},
   "outputs": [],
   "source": [
    "output_file = 'point_cloud_'+time.strftime(\"%Y%m%d-%H%M%S\")+'.xyz'\n",
    "np.savetxt(output_file, generated_sample.detach().numpy(), delimiter=' ')"
   ]
  },
  {
   "cell_type": "code",
   "execution_count": null,
   "id": "230c892f",
   "metadata": {},
   "outputs": [],
   "source": [
    "generated_sample"
   ]
  },
  {
   "cell_type": "code",
   "execution_count": null,
   "id": "742d111a",
   "metadata": {},
   "outputs": [],
   "source": [
    "generated_sample[0].shape"
   ]
  },
  {
   "cell_type": "code",
   "execution_count": null,
   "id": "8120c328",
   "metadata": {},
   "outputs": [],
   "source": []
  },
  {
   "cell_type": "code",
   "execution_count": null,
   "id": "9a93a88a",
   "metadata": {},
   "outputs": [],
   "source": [
    "plt.subplot(212)\n",
    "y = generated_sample[17].reshape(-1,3).float()\n",
    "plt.imshow(y.detach().numpy(), cmap='Greys',  interpolation='nearest')"
   ]
  },
  {
   "cell_type": "code",
   "execution_count": null,
   "id": "f2756b22",
   "metadata": {},
   "outputs": [],
   "source": []
  },
  {
   "cell_type": "code",
   "execution_count": null,
   "id": "3ce86a97",
   "metadata": {},
   "outputs": [],
   "source": [
    "plt.figure(figsize=(15, 12))\n",
    "plt.subplots_adjust(hspace=0.2)\n",
    "plt.suptitle(\"Daily closing prices\", fontsize=18, y=0.95)\n",
    "\n",
    "# set number of columns (use 3 to demonstrate the change)\n",
    "ncols =5\n",
    "# calculate number of rows\n",
    "nrows =batch_size//ncols\n",
    "for idx, sample in enumerate (generated_sample):\n",
    "\n",
    "    ax = plt.subplot(nrows, ncols, idx + 1)\n",
    "    y = sample.reshape(box_siz//2 *2,box_siz//2 *2).float()\n",
    "\n",
    "    plt.imshow(y.detach().numpy(), cmap='Greys',  interpolation='nearest')\n"
   ]
  },
  {
   "cell_type": "code",
   "execution_count": null,
   "id": "adf859f4",
   "metadata": {},
   "outputs": [],
   "source": []
  },
  {
   "cell_type": "markdown",
   "id": "aecfee85",
   "metadata": {},
   "source": [
    "# comment"
   ]
  },
  {
   "cell_type": "code",
   "execution_count": null,
   "id": "f839cebb",
   "metadata": {},
   "outputs": [],
   "source": [
    "#  Based on what the programmer said in: \n",
    "#     https://github.com/Jackson-Kang/Pytorch-VAE-tutorial/blob/master/01_Variational_AutoEncoder.ipynb"
   ]
  },
  {
   "cell_type": "markdown",
   "id": "9c73d72e",
   "metadata": {},
   "source": [
    "\n",
    "\n",
    "Please note that this is not the correct generative process.\n",
    "\n",
    "    Even if we don't know exact p(z|x), we can generate images from noise, since the loss function of training VAE regulates the q(z|x) (simple and tractable posteriors) must close enough to N(0, I). If q(z|x) is close to N(0, I) \"enough\"(but not tightly close due to posterior collapse problem), N(0, I) may replace the encoder of VAE.\n",
    "\n",
    "    To show this, I just tested with a noise vector sampled from N(0, I) similar with Generative Adversarial Network.\n",
    "\n"
   ]
  },
  {
   "cell_type": "code",
   "execution_count": null,
   "id": "1c4f85f2",
   "metadata": {},
   "outputs": [],
   "source": []
  },
  {
   "cell_type": "code",
   "execution_count": null,
   "id": "da31abdc",
   "metadata": {},
   "outputs": [],
   "source": []
  }
 ],
 "metadata": {
  "kernelspec": {
   "display_name": "Python 3 (ipykernel)",
   "language": "python",
   "name": "python3"
  },
  "language_info": {
   "codemirror_mode": {
    "name": "ipython",
    "version": 3
   },
   "file_extension": ".py",
   "mimetype": "text/x-python",
   "name": "python",
   "nbconvert_exporter": "python",
   "pygments_lexer": "ipython3",
   "version": "3.10.11"
  }
 },
 "nbformat": 4,
 "nbformat_minor": 5
}
