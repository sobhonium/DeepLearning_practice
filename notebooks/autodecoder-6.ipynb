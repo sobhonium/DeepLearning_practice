{
 "cells": [
  {
   "cell_type": "code",
   "execution_count": 1,
   "id": "cf109f6b",
   "metadata": {},
   "outputs": [],
   "source": [
    "# Feb 2023 - \n",
    "# some functions added from seperate files to make it more clean.\n",
    "# more than two code(length) added (6).\n"
   ]
  },
  {
   "cell_type": "code",
   "execution_count": null,
   "id": "fe66759c",
   "metadata": {},
   "outputs": [],
   "source": []
  },
  {
   "cell_type": "code",
   "execution_count": 2,
   "id": "d5c35241",
   "metadata": {},
   "outputs": [
    {
     "name": "stderr",
     "output_type": "stream",
     "text": [
      "/home/sobhan/miniconda3/envs/ml-dl/lib/python3.9/site-packages/torch/cuda/__init__.py:83: UserWarning: CUDA initialization: The NVIDIA driver on your system is too old (found version 9010). Please update your GPU driver by downloading and installing a new version from the URL: http://www.nvidia.com/Download/index.aspx Alternatively, go to: https://pytorch.org to install a PyTorch version that has been compiled with your version of the CUDA driver. (Triggered internally at  ../c10/cuda/CUDAFunctions.cpp:109.)\n",
      "  return torch._C._cuda_getDeviceCount() > 0\n"
     ]
    }
   ],
   "source": [
    "import torch\n",
    "import torch.nn as nn\n",
    "import torch.nn.functional as F\n",
    "from torch.utils.data import DataLoader\n",
    "import numpy as np\n",
    "import matplotlib.pyplot as plt\n"
   ]
  },
  {
   "cell_type": "code",
   "execution_count": null,
   "id": "fa7c8d83-8a15-4974-aa5e-102196cb239c",
   "metadata": {},
   "outputs": [],
   "source": []
  },
  {
   "cell_type": "code",
   "execution_count": 3,
   "id": "0beb8e80-e9ba-444e-affd-466e5f3349a1",
   "metadata": {},
   "outputs": [],
   "source": [
    "from shapes import *"
   ]
  },
  {
   "cell_type": "code",
   "execution_count": 4,
   "id": "9ff7877e-a8d2-4c79-bc62-46dfabf5abc3",
   "metadata": {},
   "outputs": [
    {
     "data": {
      "text/plain": [
       "array([[[0., 0., 0., 0., 0., 0., 0., 0.],\n",
       "        [0., 0., 0., 0., 0., 0., 0., 0.],\n",
       "        [0., 0., 0., 0., 0., 0., 0., 0.],\n",
       "        [1., 1., 1., 1., 1., 1., 1., 1.],\n",
       "        [1., 1., 1., 1., 1., 1., 1., 1.],\n",
       "        [0., 0., 0., 0., 0., 0., 0., 0.],\n",
       "        [0., 0., 0., 0., 0., 0., 0., 0.],\n",
       "        [0., 0., 0., 0., 0., 0., 0., 0.]]])"
      ]
     },
     "execution_count": 4,
     "metadata": {},
     "output_type": "execute_result"
    }
   ],
   "source": [
    "Line(line_position=4, box_size=9).get_image()"
   ]
  },
  {
   "cell_type": "markdown",
   "id": "69596c32-db03-4b29-b607-d1ae874c2eb0",
   "metadata": {},
   "source": [
    "# Visualization of exmaples"
   ]
  },
  {
   "cell_type": "code",
   "execution_count": null,
   "id": "84532393-f4bc-42e0-82b9-b251c942fdff",
   "metadata": {},
   "outputs": [],
   "source": []
  },
  {
   "cell_type": "code",
   "execution_count": 5,
   "id": "22a72278",
   "metadata": {},
   "outputs": [],
   "source": [
    "def visualize_mat(inp, num_col=5, label_text='empty'):\n",
    "    '''preferably the label_text size should be similar to\n",
    "       inp size. otherwise it won't wrok properly.\n",
    "    '''\n",
    "    if isinstance(label_text, str):\n",
    "        label_text = [label_text]*inp.shape[0]\n",
    "        \n",
    "    elif label_text.shape[0] != inp.shape[0] :\n",
    "        label_text = ['text']*inp.shape[0]\n",
    "        \n",
    "    if inp.ndim<3:\n",
    "        if inp.ndim<2:\n",
    "            raise ValueError(\"the dim of input matrix should be 2 or more!\")\n",
    "        inp = inp.reshape(1,inp.shape[0],inp.shape[1])\n",
    "        \n",
    "    if inp.dtype in [ torch.float, torch.int,  torch.chalf, torch.cfloat, torch.cdouble]:\n",
    "        inp = inp.detach().numpy()\n",
    "        # print('yes, of type troch.tensor')\n",
    "        \n",
    "    # if label_text == 'empty':\n",
    "    #     label_text = inp\n",
    "    plt.figure(figsize=(15, 12))\n",
    "    # plt.subplots_adjust(hspace=0.2)\n",
    "    # plt.suptitle(\"sample visualization\", fontsize=18, y=0.09, va='baseline')\n",
    "    plt.subplots_adjust(left=0.1,\n",
    "                        bottom=0.2,\n",
    "                        right=0.9,\n",
    "                        top=0.59,\n",
    "                        wspace=0.4,\n",
    "                        hspace=0.17)\n",
    "\n",
    "  \n",
    "    nrows =inp.shape[0]//num_col +1\n",
    "    for idx, inpu in  enumerate(inp):\n",
    "        ax = plt.subplot(nrows, num_col, idx + 1)\n",
    "        ax.title.set_text('input= '+str(label_text[idx]))\n",
    "        plt.imshow(inpu, cmap='Greys',  interpolation='nearest')\n"
   ]
  },
  {
   "cell_type": "code",
   "execution_count": 6,
   "id": "22f1fe44-fe13-4448-9b2b-9e82aefe0694",
   "metadata": {},
   "outputs": [
    {
     "data": {
      "image/png": "[encoded data removed]",
      "text/plain": [
       "<Figure size 1080x864 with 4 Axes>"
      ]
     },
     "metadata": {
      "needs_background": "light"
     },
     "output_type": "display_data"
    },
    {
     "data": {
      "image/png": "[encoded data removed]",
      "text/plain": [
       "<Figure size 1080x864 with 4 Axes>"
      ]
     },
     "metadata": {
      "needs_background": "light"
     },
     "output_type": "display_data"
    }
   ],
   "source": [
    "box_size=4\n",
    "idx = range(box_size)\n",
    "out1 = Line(line_position=idx, box_size=box_size, line_ori='x').get_image()\n",
    "out2 = Line(line_position=idx, box_size=box_size, line_ori='y').get_image()\n",
    "\n",
    "visualize_mat(out1, \n",
    "              label_text=np.arange(out1.size),\n",
    "              num_col=8)\n",
    "visualize_mat(out2,\n",
    "              label_text=np.arange(out2.size),\n",
    "              num_col=8)"
   ]
  },
  {
   "cell_type": "code",
   "execution_count": 7,
   "id": "c95ead8d-962f-4c6b-8f65-12b9c6d252ad",
   "metadata": {},
   "outputs": [
    {
     "data": {
      "text/plain": [
       "2"
      ]
     },
     "execution_count": 7,
     "metadata": {},
     "output_type": "execute_result"
    }
   ],
   "source": [
    "torch.rand((5,5)).ndim"
   ]
  },
  {
   "cell_type": "code",
   "execution_count": 8,
   "id": "aa94b7d6-e68e-419c-9647-cf7968fc1f01",
   "metadata": {},
   "outputs": [
    {
     "data": {
      "image/png": "[encoded data removed]",
      "text/plain": [
       "<Figure size 1080x864 with 1 Axes>"
      ]
     },
     "metadata": {
      "needs_background": "light"
     },
     "output_type": "display_data"
    }
   ],
   "source": [
    "matx = torch.rand((5,5))\n",
    "visualize_mat(matx, label_text='s')"
   ]
  },
  {
   "cell_type": "code",
   "execution_count": 9,
   "id": "6890d07a-3f59-43c1-9981-b1a0eb3179c1",
   "metadata": {},
   "outputs": [
    {
     "data": {
      "text/plain": [
       "(64,)"
      ]
     },
     "execution_count": 9,
     "metadata": {},
     "output_type": "execute_result"
    }
   ],
   "source": [
    "np.arange(out1.size).shape"
   ]
  },
  {
   "cell_type": "code",
   "execution_count": null,
   "id": "860443bd-f337-40d1-a23f-8a19884b679f",
   "metadata": {},
   "outputs": [],
   "source": []
  },
  {
   "cell_type": "code",
   "execution_count": 10,
   "id": "1d0aa750",
   "metadata": {},
   "outputs": [],
   "source": [
    "box_siz = 16 # preferably of order 2\n",
    "num_samples = 512 # preferably of order 2\n",
    "half_box_siz = box_siz//2\n",
    "box_siz = half_box_siz * 2 # updating box size (now it is not an odd number)"
   ]
  },
  {
   "cell_type": "code",
   "execution_count": 11,
   "id": "c967d7b8",
   "metadata": {},
   "outputs": [],
   "source": [
    "def func(num, divider):\n",
    "    return num//divider + 1\n",
    "l1 =  np.arange(num_samples//2)\n",
    "l2 =  np.arange(num_samples//2)"
   ]
  },
  {
   "cell_type": "code",
   "execution_count": null,
   "id": "82ee7a1c-84f7-46e9-8c4b-1c4a8402a7b9",
   "metadata": {},
   "outputs": [],
   "source": []
  },
  {
   "cell_type": "code",
   "execution_count": 12,
   "id": "1d1719c9-17df-49fa-b4f8-fd3b5add0edf",
   "metadata": {},
   "outputs": [
    {
     "data": {
      "text/plain": [
       "array([  0,   1,   2,   3,   4,   5,   6,   7,   8,   9,  10,  11,  12,\n",
       "        13,  14,  15,  16,  17,  18,  19,  20,  21,  22,  23,  24,  25,\n",
       "        26,  27,  28,  29,  30,  31,  32,  33,  34,  35,  36,  37,  38,\n",
       "        39,  40,  41,  42,  43,  44,  45,  46,  47,  48,  49,  50,  51,\n",
       "        52,  53,  54,  55,  56,  57,  58,  59,  60,  61,  62,  63,  64,\n",
       "        65,  66,  67,  68,  69,  70,  71,  72,  73,  74,  75,  76,  77,\n",
       "        78,  79,  80,  81,  82,  83,  84,  85,  86,  87,  88,  89,  90,\n",
       "        91,  92,  93,  94,  95,  96,  97,  98,  99, 100, 101, 102, 103,\n",
       "       104, 105, 106, 107, 108, 109, 110, 111, 112, 113, 114, 115, 116,\n",
       "       117, 118, 119, 120, 121, 122, 123, 124, 125, 126, 127, 128, 129,\n",
       "       130, 131, 132, 133, 134, 135, 136, 137, 138, 139, 140, 141, 142,\n",
       "       143, 144, 145, 146, 147, 148, 149, 150, 151, 152, 153, 154, 155,\n",
       "       156, 157, 158, 159, 160, 161, 162, 163, 164, 165, 166, 167, 168,\n",
       "       169, 170, 171, 172, 173, 174, 175, 176, 177, 178, 179, 180, 181,\n",
       "       182, 183, 184, 185, 186, 187, 188, 189, 190, 191, 192, 193, 194,\n",
       "       195, 196, 197, 198, 199, 200, 201, 202, 203, 204, 205, 206, 207,\n",
       "       208, 209, 210, 211, 212, 213, 214, 215, 216, 217, 218, 219, 220,\n",
       "       221, 222, 223, 224, 225, 226, 227, 228, 229, 230, 231, 232, 233,\n",
       "       234, 235, 236, 237, 238, 239, 240, 241, 242, 243, 244, 245, 246,\n",
       "       247, 248, 249, 250, 251, 252, 253, 254, 255])"
      ]
     },
     "execution_count": 12,
     "metadata": {},
     "output_type": "execute_result"
    }
   ],
   "source": [
    "l1"
   ]
  },
  {
   "cell_type": "code",
   "execution_count": 13,
   "id": "5e842b69-7787-4097-b233-42a9fbf77077",
   "metadata": {},
   "outputs": [
    {
     "data": {
      "text/plain": [
       "array([ 1.,  1.,  1.,  1.,  1.,  1.,  1.,  1.,  1.,  1.,  1.,  1.,  1.,\n",
       "        1.,  1.,  1.,  2.,  2.,  2.,  2.,  2.,  2.,  2.,  2.,  2.,  2.,\n",
       "        2.,  2.,  2.,  2.,  2.,  2.,  3.,  3.,  3.,  3.,  3.,  3.,  3.,\n",
       "        3.,  3.,  3.,  3.,  3.,  3.,  3.,  3.,  3.,  4.,  4.,  4.,  4.,\n",
       "        4.,  4.,  4.,  4.,  4.,  4.,  4.,  4.,  4.,  4.,  4.,  4.,  5.,\n",
       "        5.,  5.,  5.,  5.,  5.,  5.,  5.,  5.,  5.,  5.,  5.,  5.,  5.,\n",
       "        5.,  5.,  6.,  6.,  6.,  6.,  6.,  6.,  6.,  6.,  6.,  6.,  6.,\n",
       "        6.,  6.,  6.,  6.,  6.,  7.,  7.,  7.,  7.,  7.,  7.,  7.,  7.,\n",
       "        7.,  7.,  7.,  7.,  7.,  7.,  7.,  7.,  8.,  8.,  8.,  8.,  8.,\n",
       "        8.,  8.,  8.,  8.,  8.,  8.,  8.,  8.,  8.,  8.,  8.,  9.,  9.,\n",
       "        9.,  9.,  9.,  9.,  9.,  9.,  9.,  9.,  9.,  9.,  9.,  9.,  9.,\n",
       "        9., 10., 10., 10., 10., 10., 10., 10., 10., 10., 10., 10., 10.,\n",
       "       10., 10., 10., 10., 11., 11., 11., 11., 11., 11., 11., 11., 11.,\n",
       "       11., 11., 11., 11., 11., 11., 11., 12., 12., 12., 12., 12., 12.,\n",
       "       12., 12., 12., 12., 12., 12., 12., 12., 12., 12., 13., 13., 13.,\n",
       "       13., 13., 13., 13., 13., 13., 13., 13., 13., 13., 13., 13., 13.,\n",
       "       14., 14., 14., 14., 14., 14., 14., 14., 14., 14., 14., 14., 14.,\n",
       "       14., 14., 14., 15., 15., 15., 15., 15., 15., 15., 15., 15., 15.,\n",
       "       15., 15., 15., 15., 15., 15., 16., 16., 16., 16., 16., 16., 16.,\n",
       "       16., 16., 16., 16., 16., 16., 16., 16., 16.])"
      ]
     },
     "execution_count": 13,
     "metadata": {},
     "output_type": "execute_result"
    }
   ],
   "source": [
    "l1//((num_samples//2)/box_siz)+1"
   ]
  },
  {
   "cell_type": "code",
   "execution_count": 14,
   "id": "1628af4c-1f7c-48e3-ad28-6d1bb95196c3",
   "metadata": {},
   "outputs": [
    {
     "data": {
      "text/plain": [
       "16"
      ]
     },
     "execution_count": 14,
     "metadata": {},
     "output_type": "execute_result"
    }
   ],
   "source": [
    "int((num_samples//2)/box_siz)"
   ]
  },
  {
   "cell_type": "code",
   "execution_count": 15,
   "id": "642b6b73",
   "metadata": {},
   "outputs": [
    {
     "data": {
      "text/plain": [
       "tensor([ 1.,  1.,  1.,  1.,  1.,  1.,  1.,  1.,  1.,  1.,  1.,  1.,  1.,  1.,\n",
       "         1.,  1.,  2.,  2.,  2.,  2.,  2.,  2.,  2.,  2.,  2.,  2.,  2.,  2.,\n",
       "         2.,  2.,  2.,  2.,  3.,  3.,  3.,  3.,  3.,  3.,  3.,  3.,  3.,  3.,\n",
       "         3.,  3.,  3.,  3.,  3.,  3.,  4.,  4.,  4.,  4.,  4.,  4.,  4.,  4.,\n",
       "         4.,  4.,  4.,  4.,  4.,  4.,  4.,  4.,  5.,  5.,  5.,  5.,  5.,  5.,\n",
       "         5.,  5.,  5.,  5.,  5.,  5.,  5.,  5.,  5.,  5.,  6.,  6.,  6.,  6.,\n",
       "         6.,  6.,  6.,  6.,  6.,  6.,  6.,  6.,  6.,  6.,  6.,  6.,  7.,  7.,\n",
       "         7.,  7.,  7.,  7.,  7.,  7.,  7.,  7.,  7.,  7.,  7.,  7.,  7.,  7.,\n",
       "         8.,  8.,  8.,  8.,  8.,  8.,  8.,  8.,  8.,  8.,  8.,  8.,  8.,  8.,\n",
       "         8.,  8.,  9.,  9.,  9.,  9.,  9.,  9.,  9.,  9.,  9.,  9.,  9.,  9.,\n",
       "         9.,  9.,  9.,  9., 10., 10., 10., 10., 10., 10., 10., 10., 10., 10.,\n",
       "        10., 10., 10., 10., 10., 10., 11., 11., 11., 11., 11., 11., 11., 11.,\n",
       "        11., 11., 11., 11., 11., 11., 11., 11., 12., 12., 12., 12., 12., 12.,\n",
       "        12., 12., 12., 12., 12., 12., 12., 12., 12., 12., 13., 13., 13., 13.,\n",
       "        13., 13., 13., 13., 13., 13., 13., 13., 13., 13., 13., 13., 14., 14.,\n",
       "        14., 14., 14., 14., 14., 14., 14., 14., 14., 14., 14., 14., 14., 14.,\n",
       "        15., 15., 15., 15., 15., 15., 15., 15., 15., 15., 15., 15., 15., 15.,\n",
       "        15., 15., 16., 16., 16., 16., 16., 16., 16., 16., 16., 16., 16., 16.,\n",
       "        16., 16., 16., 16.], dtype=torch.float64)"
      ]
     },
     "execution_count": 15,
     "metadata": {},
     "output_type": "execute_result"
    }
   ],
   "source": [
    "torch.tensor(list(map(func, l1, [(num_samples//2)/box_siz]*(num_samples//2))))"
   ]
  },
  {
   "cell_type": "code",
   "execution_count": null,
   "id": "ac4f9340-7992-462b-84ca-87a0f42833b1",
   "metadata": {},
   "outputs": [],
   "source": []
  },
  {
   "cell_type": "code",
   "execution_count": null,
   "id": "77951e99-aed0-47fd-8da4-f9a81e282ba6",
   "metadata": {},
   "outputs": [],
   "source": []
  },
  {
   "cell_type": "code",
   "execution_count": null,
   "id": "9e7be5c4-58cf-4c31-a7cf-a8e63e6434ff",
   "metadata": {},
   "outputs": [],
   "source": []
  },
  {
   "cell_type": "code",
   "execution_count": null,
   "id": "9f6e7c12-cd91-45be-a3a4-53627d893f56",
   "metadata": {},
   "outputs": [],
   "source": []
  },
  {
   "cell_type": "code",
   "execution_count": 16,
   "id": "dbc365a9",
   "metadata": {},
   "outputs": [],
   "source": [
    "# you can use each of the followings for seeing how random number of class samples or fix number of\n",
    "# class samples might affect the results. one very import factor for training here is to \n",
    "# have equal number of samples in each class. Just uncomment the line and comment the other one.\n",
    "\n",
    "# rand_radious = torch.randint(1, centralbox_size+1, (num_samples,)) # create a random array of raduis \n",
    "rand_radious1 = torch.tensor(list(map(func, l1, [(num_samples//2)/box_siz]*(num_samples//2))))\n",
    "# rand_radious2 = torch.tensor(list(map(func, l2, [(num_samples)/half_box_siz]*(num_samples//2))))\n",
    "# features1 = circle(radius=rand_radious1, box_size=box_siz)  # data set\n",
    "features1 = torch.from_numpy(Line(line_position=rand_radious1, \n",
    "                                   box_size=box_siz, \n",
    "                                    line_ori='x').get_image())  # data set\n",
    "\n",
    "rand_radious2 = torch.tensor(list(map(func, l2, [(num_samples//2)/box_siz]*(num_samples//2))))\n",
    "# features2 = circle(radius=rand_radious2, box_size=box_siz)  # data set\n",
    "features2 = torch.from_numpy(Line(line_position=rand_radious2, \n",
    "                                   box_size=box_siz, \n",
    "                                    line_ori='y').get_image())  # data set"
   ]
  },
  {
   "cell_type": "code",
   "execution_count": 17,
   "id": "b716b64a",
   "metadata": {},
   "outputs": [],
   "source": [
    "features =  torch.cat((features1, features2), axis=0)"
   ]
  },
  {
   "cell_type": "code",
   "execution_count": 18,
   "id": "dc7c5472",
   "metadata": {},
   "outputs": [
    {
     "data": {
      "text/plain": [
       "(torch.Size([512, 16, 16]),\n",
       " torch.Size([256, 16, 16]),\n",
       " torch.Size([256, 16, 16]))"
      ]
     },
     "execution_count": 18,
     "metadata": {},
     "output_type": "execute_result"
    }
   ],
   "source": [
    "features.shape, features1.shape, features2.shape"
   ]
  },
  {
   "cell_type": "code",
   "execution_count": 19,
   "id": "637f59b6",
   "metadata": {},
   "outputs": [],
   "source": [
    "# rand_radious1 = torch.tensor([1]*(num_samples//2))\n",
    "# rand_radious2 = torch.tensor([2]*(num_samples//2))\n",
    "# rand_radious = torch.cat((rand_radious1, rand_radious2), axis=0)\n",
    "\n",
    "\n",
    "# features = box(radius=rand_radious, box_size=box_siz)  # data set"
   ]
  },
  {
   "cell_type": "code",
   "execution_count": 20,
   "id": "08701857",
   "metadata": {},
   "outputs": [
    {
     "data": {
      "text/plain": [
       "tensor([ 1.,  1.,  1.,  1.,  1.,  1.,  1.,  1.,  1.,  1.,  1.,  1.,  1.,  1.,\n",
       "         1.,  1.,  2.,  2.,  2.,  2.,  2.,  2.,  2.,  2.,  2.,  2.,  2.,  2.,\n",
       "         2.,  2.,  2.,  2.,  3.,  3.,  3.,  3.,  3.,  3.,  3.,  3.,  3.,  3.,\n",
       "         3.,  3.,  3.,  3.,  3.,  3.,  4.,  4.,  4.,  4.,  4.,  4.,  4.,  4.,\n",
       "         4.,  4.,  4.,  4.,  4.,  4.,  4.,  4.,  5.,  5.,  5.,  5.,  5.,  5.,\n",
       "         5.,  5.,  5.,  5.,  5.,  5.,  5.,  5.,  5.,  5.,  6.,  6.,  6.,  6.,\n",
       "         6.,  6.,  6.,  6.,  6.,  6.,  6.,  6.,  6.,  6.,  6.,  6.,  7.,  7.,\n",
       "         7.,  7.,  7.,  7.,  7.,  7.,  7.,  7.,  7.,  7.,  7.,  7.,  7.,  7.,\n",
       "         8.,  8.,  8.,  8.,  8.,  8.,  8.,  8.,  8.,  8.,  8.,  8.,  8.,  8.,\n",
       "         8.,  8.,  9.,  9.,  9.,  9.,  9.,  9.,  9.,  9.,  9.,  9.,  9.,  9.,\n",
       "         9.,  9.,  9.,  9., 10., 10., 10., 10., 10., 10., 10., 10., 10., 10.,\n",
       "        10., 10., 10., 10., 10., 10., 11., 11., 11., 11., 11., 11., 11., 11.,\n",
       "        11., 11., 11., 11., 11., 11., 11., 11., 12., 12., 12., 12., 12., 12.,\n",
       "        12., 12., 12., 12., 12., 12., 12., 12., 12., 12., 13., 13., 13., 13.,\n",
       "        13., 13., 13., 13., 13., 13., 13., 13., 13., 13., 13., 13., 14., 14.,\n",
       "        14., 14., 14., 14., 14., 14., 14., 14., 14., 14., 14., 14., 14., 14.,\n",
       "        15., 15., 15., 15., 15., 15., 15., 15., 15., 15., 15., 15., 15., 15.,\n",
       "        15., 15., 16., 16., 16., 16., 16., 16., 16., 16., 16., 16., 16., 16.,\n",
       "        16., 16., 16., 16.], dtype=torch.float64)"
      ]
     },
     "execution_count": 20,
     "metadata": {},
     "output_type": "execute_result"
    }
   ],
   "source": [
    "rand_radious1"
   ]
  },
  {
   "cell_type": "code",
   "execution_count": 21,
   "id": "bad09f95",
   "metadata": {},
   "outputs": [
    {
     "data": {
      "text/plain": [
       "8"
      ]
     },
     "execution_count": 21,
     "metadata": {},
     "output_type": "execute_result"
    }
   ],
   "source": [
    "half_box_siz\n"
   ]
  },
  {
   "cell_type": "code",
   "execution_count": 22,
   "id": "a5ea080a",
   "metadata": {},
   "outputs": [],
   "source": [
    "# torch.tensor(list(map(func, l1, [(num_samples//2)/half_box_siz]*(num_samples//2))))"
   ]
  },
  {
   "cell_type": "code",
   "execution_count": 23,
   "id": "a82894fb",
   "metadata": {},
   "outputs": [
    {
     "data": {
      "text/plain": [
       "torch.Size([512, 16, 16])"
      ]
     },
     "execution_count": 23,
     "metadata": {},
     "output_type": "execute_result"
    }
   ],
   "source": [
    "features.shape"
   ]
  },
  {
   "cell_type": "code",
   "execution_count": 24,
   "id": "4a783eb3-f891-4c01-8ba9-183d6e0c64a2",
   "metadata": {},
   "outputs": [
    {
     "data": {
      "text/plain": [
       "tensor([[1., 1., 1., 1., 1., 1., 1., 1., 1., 1., 1., 1., 1., 1., 1., 1.],\n",
       "        [1., 1., 1., 1., 1., 1., 1., 1., 1., 1., 1., 1., 1., 1., 1., 1.],\n",
       "        [0., 0., 0., 0., 0., 0., 0., 0., 0., 0., 0., 0., 0., 0., 0., 0.],\n",
       "        [0., 0., 0., 0., 0., 0., 0., 0., 0., 0., 0., 0., 0., 0., 0., 0.],\n",
       "        [0., 0., 0., 0., 0., 0., 0., 0., 0., 0., 0., 0., 0., 0., 0., 0.],\n",
       "        [0., 0., 0., 0., 0., 0., 0., 0., 0., 0., 0., 0., 0., 0., 0., 0.],\n",
       "        [0., 0., 0., 0., 0., 0., 0., 0., 0., 0., 0., 0., 0., 0., 0., 0.],\n",
       "        [0., 0., 0., 0., 0., 0., 0., 0., 0., 0., 0., 0., 0., 0., 0., 0.],\n",
       "        [0., 0., 0., 0., 0., 0., 0., 0., 0., 0., 0., 0., 0., 0., 0., 0.],\n",
       "        [0., 0., 0., 0., 0., 0., 0., 0., 0., 0., 0., 0., 0., 0., 0., 0.],\n",
       "        [0., 0., 0., 0., 0., 0., 0., 0., 0., 0., 0., 0., 0., 0., 0., 0.],\n",
       "        [0., 0., 0., 0., 0., 0., 0., 0., 0., 0., 0., 0., 0., 0., 0., 0.],\n",
       "        [0., 0., 0., 0., 0., 0., 0., 0., 0., 0., 0., 0., 0., 0., 0., 0.],\n",
       "        [0., 0., 0., 0., 0., 0., 0., 0., 0., 0., 0., 0., 0., 0., 0., 0.],\n",
       "        [0., 0., 0., 0., 0., 0., 0., 0., 0., 0., 0., 0., 0., 0., 0., 0.],\n",
       "        [0., 0., 0., 0., 0., 0., 0., 0., 0., 0., 0., 0., 0., 0., 0., 0.]],\n",
       "       dtype=torch.float64)"
      ]
     },
     "execution_count": 24,
     "metadata": {},
     "output_type": "execute_result"
    }
   ],
   "source": [
    "features[0]"
   ]
  },
  {
   "cell_type": "code",
   "execution_count": 25,
   "id": "b7f8e667",
   "metadata": {},
   "outputs": [],
   "source": [
    "# rand_radious = torch.cat((rand_radious1, rand_radious2), axis=0)"
   ]
  },
  {
   "cell_type": "code",
   "execution_count": 26,
   "id": "463a1236",
   "metadata": {},
   "outputs": [],
   "source": [
    "# rand_radious.shape"
   ]
  },
  {
   "cell_type": "code",
   "execution_count": 27,
   "id": "9888d44d",
   "metadata": {},
   "outputs": [],
   "source": [
    "\n",
    "# l2 =  np.arange(1,box_siz//2)"
   ]
  },
  {
   "cell_type": "code",
   "execution_count": null,
   "id": "445de09e",
   "metadata": {},
   "outputs": [],
   "source": []
  },
  {
   "cell_type": "code",
   "execution_count": 28,
   "id": "a929af13",
   "metadata": {},
   "outputs": [],
   "source": [
    "# rand_radious = torch.tensor(list(map(func, l1, [200//(box_siz//2)]*200)))"
   ]
  },
  {
   "cell_type": "code",
   "execution_count": 29,
   "id": "64391920",
   "metadata": {},
   "outputs": [],
   "source": [
    "# rand_radious"
   ]
  },
  {
   "cell_type": "code",
   "execution_count": 30,
   "id": "56afdb83",
   "metadata": {},
   "outputs": [],
   "source": [
    "#  np.unique(features, axis=0).shape"
   ]
  },
  {
   "cell_type": "code",
   "execution_count": 31,
   "id": "9ced0db0",
   "metadata": {},
   "outputs": [],
   "source": [
    "# select unique data samples only\n",
    "# features = torch.from_numpy(np.unique(features, axis=0))#.shape"
   ]
  },
  {
   "cell_type": "code",
   "execution_count": 32,
   "id": "00b8cc57",
   "metadata": {},
   "outputs": [
    {
     "data": {
      "text/plain": [
       "9"
      ]
     },
     "execution_count": 32,
     "metadata": {},
     "output_type": "execute_result"
    }
   ],
   "source": [
    "half_box_siz+1"
   ]
  },
  {
   "cell_type": "code",
   "execution_count": 33,
   "id": "e9f2ccda",
   "metadata": {},
   "outputs": [],
   "source": [
    "# features.shape"
   ]
  },
  {
   "cell_type": "code",
   "execution_count": null,
   "id": "660e8677",
   "metadata": {},
   "outputs": [],
   "source": []
  },
  {
   "cell_type": "code",
   "execution_count": 34,
   "id": "65909757",
   "metadata": {},
   "outputs": [],
   "source": [
    "# rand_radious"
   ]
  },
  {
   "cell_type": "code",
   "execution_count": 35,
   "id": "320e72d8",
   "metadata": {},
   "outputs": [],
   "source": [
    "# rand_radious/rand_radious.max()"
   ]
  },
  {
   "cell_type": "code",
   "execution_count": null,
   "id": "3d79d41f",
   "metadata": {},
   "outputs": [],
   "source": []
  },
  {
   "cell_type": "code",
   "execution_count": 36,
   "id": "985800c5",
   "metadata": {},
   "outputs": [],
   "source": [
    "# rand_radious[10]/rand_radious.max()"
   ]
  },
  {
   "cell_type": "code",
   "execution_count": 37,
   "id": "91ec21f0",
   "metadata": {},
   "outputs": [
    {
     "data": {
      "text/plain": [
       "tensor([[1., 1., 1., 1., 1., 1., 1., 1., 1., 1., 1., 1., 1., 1., 1., 1.],\n",
       "        [1., 1., 1., 1., 1., 1., 1., 1., 1., 1., 1., 1., 1., 1., 1., 1.],\n",
       "        [0., 0., 0., 0., 0., 0., 0., 0., 0., 0., 0., 0., 0., 0., 0., 0.],\n",
       "        [0., 0., 0., 0., 0., 0., 0., 0., 0., 0., 0., 0., 0., 0., 0., 0.],\n",
       "        [0., 0., 0., 0., 0., 0., 0., 0., 0., 0., 0., 0., 0., 0., 0., 0.],\n",
       "        [0., 0., 0., 0., 0., 0., 0., 0., 0., 0., 0., 0., 0., 0., 0., 0.],\n",
       "        [0., 0., 0., 0., 0., 0., 0., 0., 0., 0., 0., 0., 0., 0., 0., 0.],\n",
       "        [0., 0., 0., 0., 0., 0., 0., 0., 0., 0., 0., 0., 0., 0., 0., 0.],\n",
       "        [0., 0., 0., 0., 0., 0., 0., 0., 0., 0., 0., 0., 0., 0., 0., 0.],\n",
       "        [0., 0., 0., 0., 0., 0., 0., 0., 0., 0., 0., 0., 0., 0., 0., 0.],\n",
       "        [0., 0., 0., 0., 0., 0., 0., 0., 0., 0., 0., 0., 0., 0., 0., 0.],\n",
       "        [0., 0., 0., 0., 0., 0., 0., 0., 0., 0., 0., 0., 0., 0., 0., 0.],\n",
       "        [0., 0., 0., 0., 0., 0., 0., 0., 0., 0., 0., 0., 0., 0., 0., 0.],\n",
       "        [0., 0., 0., 0., 0., 0., 0., 0., 0., 0., 0., 0., 0., 0., 0., 0.],\n",
       "        [0., 0., 0., 0., 0., 0., 0., 0., 0., 0., 0., 0., 0., 0., 0., 0.],\n",
       "        [0., 0., 0., 0., 0., 0., 0., 0., 0., 0., 0., 0., 0., 0., 0., 0.]],\n",
       "       dtype=torch.float64)"
      ]
     },
     "execution_count": 37,
     "metadata": {},
     "output_type": "execute_result"
    }
   ],
   "source": [
    "features[10]"
   ]
  },
  {
   "cell_type": "code",
   "execution_count": 38,
   "id": "fc5b893a",
   "metadata": {},
   "outputs": [
    {
     "data": {
      "text/plain": [
       "torch.Size([512, 16, 16])"
      ]
     },
     "execution_count": 38,
     "metadata": {},
     "output_type": "execute_result"
    }
   ],
   "source": [
    "features.shape"
   ]
  },
  {
   "cell_type": "code",
   "execution_count": null,
   "id": "d58ae32b",
   "metadata": {},
   "outputs": [],
   "source": []
  },
  {
   "cell_type": "code",
   "execution_count": 39,
   "id": "44ce3058-9b52-451c-9ade-7bd749c1fa7f",
   "metadata": {},
   "outputs": [
    {
     "data": {
      "text/plain": [
       "256"
      ]
     },
     "execution_count": 39,
     "metadata": {},
     "output_type": "execute_result"
    }
   ],
   "source": [
    "num_samples//2"
   ]
  },
  {
   "cell_type": "code",
   "execution_count": 40,
   "id": "277fc741",
   "metadata": {},
   "outputs": [],
   "source": [
    "# Code is 2d and the first col is designated to the first shape family. and the second is for subclass examples.\n",
    "\n",
    "code = torch.zeros((num_samples, 6))\n",
    "\n",
    "code[0             : num_samples//2, 0] = 1\n",
    "code[num_samples//2: num_samples   , 0] = 0\n",
    "\n",
    "\n",
    "code[0             : num_samples//2, 1] = 0\n",
    "code[num_samples//2: num_samples   , 1] = 1\n",
    "\n",
    "\n",
    "code[0             : num_samples//2, 2] = rand_radious1\n",
    "code[num_samples//2: num_samples   , 2] = rand_radious2\n",
    "\n",
    "code[0             : num_samples//2, 3] = rand_radious1\n",
    "code[num_samples//2: num_samples   , 3] = rand_radious2\n",
    "\n",
    "code[0             : num_samples//2, 4] = rand_radious1\n",
    "code[num_samples//2: num_samples   , 4] = rand_radious2\n",
    "\n",
    "code[0             : num_samples//2, 5] = rand_radious1\n",
    "code[num_samples//2: num_samples   , 5] = rand_radious2"
   ]
  },
  {
   "cell_type": "code",
   "execution_count": 41,
   "id": "aabed58d-ddcb-4f61-ba5a-c202d16d2377",
   "metadata": {},
   "outputs": [],
   "source": [
    "# code = torch.zeros((num_samples, 2))\n",
    "\n",
    "# code[0             : num_samples//2, 0] = rand_radious1\n",
    "# code[0             : num_samples//2, 1] = 0\n",
    "\n",
    "# code[num_samples//2: num_samples   , 0] = 0\n",
    "# code[num_samples//2: num_samples   , 1] = rand_radious2"
   ]
  },
  {
   "cell_type": "code",
   "execution_count": null,
   "id": "ac6351af-1224-4d75-ad89-6fe18a98b20a",
   "metadata": {},
   "outputs": [],
   "source": []
  },
  {
   "cell_type": "code",
   "execution_count": 42,
   "id": "a4c4cb96",
   "metadata": {},
   "outputs": [
    {
     "data": {
      "text/plain": [
       "tensor([[ 1.,  0.,  1.,  1.,  1.,  1.],\n",
       "        [ 1.,  0.,  1.,  1.,  1.,  1.],\n",
       "        [ 1.,  0.,  1.,  1.,  1.,  1.],\n",
       "        ...,\n",
       "        [ 0.,  1., 16., 16., 16., 16.],\n",
       "        [ 0.,  1., 16., 16., 16., 16.],\n",
       "        [ 0.,  1., 16., 16., 16., 16.]])"
      ]
     },
     "execution_count": 42,
     "metadata": {},
     "output_type": "execute_result"
    }
   ],
   "source": [
    "code"
   ]
  },
  {
   "cell_type": "code",
   "execution_count": 43,
   "id": "4c7a8797",
   "metadata": {},
   "outputs": [
    {
     "data": {
      "text/plain": [
       "torch.Size([512, 6])"
      ]
     },
     "execution_count": 43,
     "metadata": {},
     "output_type": "execute_result"
    }
   ],
   "source": [
    "code.shape"
   ]
  },
  {
   "cell_type": "code",
   "execution_count": 44,
   "id": "8696cf22",
   "metadata": {},
   "outputs": [
    {
     "data": {
      "text/plain": [
       "tensor([ 1.,  1., 16., 16., 16., 16.])"
      ]
     },
     "execution_count": 44,
     "metadata": {},
     "output_type": "execute_result"
    }
   ],
   "source": [
    "torch.max(code, axis=0).values"
   ]
  },
  {
   "cell_type": "code",
   "execution_count": 45,
   "id": "e0a21df8",
   "metadata": {},
   "outputs": [],
   "source": [
    "code = code/torch.max(code, axis=0).values"
   ]
  },
  {
   "cell_type": "code",
   "execution_count": 46,
   "id": "a1c3b76f",
   "metadata": {},
   "outputs": [
    {
     "data": {
      "text/plain": [
       "tensor([1., 1., 1., 1., 1., 1.])"
      ]
     },
     "execution_count": 46,
     "metadata": {},
     "output_type": "execute_result"
    }
   ],
   "source": [
    "torch.max(code, axis=0).values"
   ]
  },
  {
   "cell_type": "code",
   "execution_count": 47,
   "id": "95dd79eb",
   "metadata": {},
   "outputs": [],
   "source": [
    "# random code\n",
    "# code = torch.randint(1, 5, (features.shape[0],1))"
   ]
  },
  {
   "cell_type": "code",
   "execution_count": 48,
   "id": "acf1cd2b",
   "metadata": {},
   "outputs": [],
   "source": [
    "# for i in range(features.shape[0]):\n",
    "# code  = rand_radious/rand_radious.max()\n",
    "    \n",
    "#     print(rand_radious[i]/rand_radious.max() )\n",
    "#     code [i, 0] = features[i].sum()\n",
    "#     code [i, 1] = features[i].sum()"
   ]
  },
  {
   "cell_type": "code",
   "execution_count": null,
   "id": "b6757ae3",
   "metadata": {},
   "outputs": [],
   "source": []
  },
  {
   "cell_type": "code",
   "execution_count": 49,
   "id": "3345fa2d",
   "metadata": {},
   "outputs": [
    {
     "data": {
      "text/plain": [
       "torch.Size([512, 6])"
      ]
     },
     "execution_count": 49,
     "metadata": {},
     "output_type": "execute_result"
    }
   ],
   "source": [
    "code.shape"
   ]
  },
  {
   "cell_type": "code",
   "execution_count": 50,
   "id": "7a1546ef",
   "metadata": {},
   "outputs": [],
   "source": [
    "# code[0:]"
   ]
  },
  {
   "cell_type": "code",
   "execution_count": 51,
   "id": "4e9cc0a8",
   "metadata": {},
   "outputs": [],
   "source": [
    "# features = features/features.shape[1]"
   ]
  },
  {
   "cell_type": "code",
   "execution_count": 52,
   "id": "02b13dfa",
   "metadata": {},
   "outputs": [
    {
     "data": {
      "text/plain": [
       "512"
      ]
     },
     "execution_count": 52,
     "metadata": {},
     "output_type": "execute_result"
    }
   ],
   "source": [
    "features.shape[0]"
   ]
  },
  {
   "cell_type": "code",
   "execution_count": 53,
   "id": "ad203d2a",
   "metadata": {},
   "outputs": [],
   "source": [
    "# code  = code/code.max()"
   ]
  },
  {
   "cell_type": "code",
   "execution_count": 54,
   "id": "27831a3c-3191-4822-8634-df488023823f",
   "metadata": {},
   "outputs": [],
   "source": [
    "def add_pad(mat, pad_x=0, pad_y=0):\n",
    "    assert(pad_x>=0 and pad_y>=0)\n",
    "    pad_mat = torch.zeros(mat.shape[0]+2*pad_x, mat.shape[1]+2*pad_y)\n",
    "    pad_mat[pad_x:mat.shape[0]+pad_x, pad_y:mat.shape[1]+pad_y] = mat\n",
    "    return pad_mat"
   ]
  },
  {
   "cell_type": "code",
   "execution_count": 55,
   "id": "70f6db7c-9715-4494-98d5-bf95459c9ecf",
   "metadata": {},
   "outputs": [
    {
     "data": {
      "text/plain": [
       "tensor([[0., 0., 0., 0., 0.],\n",
       "        [0., 9., 3., 9., 0.],\n",
       "        [0., 6., 5., 5., 0.],\n",
       "        [0., 4., 8., 3., 0.],\n",
       "        [0., 0., 0., 0., 0.]])"
      ]
     },
     "execution_count": 55,
     "metadata": {},
     "output_type": "execute_result"
    }
   ],
   "source": [
    "a = torch.randint(3, 10, (3, 3))\n",
    "add_pad(a, 1, 1)"
   ]
  },
  {
   "cell_type": "code",
   "execution_count": 56,
   "id": "ef20a72f",
   "metadata": {},
   "outputs": [],
   "source": [
    "def conv(src_matices, filter_mat ):\n",
    "    '''Works on 2d covn\n",
    "       returns conv matrix of the same shape, with zero-padded \n",
    "       filter_mat shape must be (odd,odd)\n",
    "    '''\n",
    "    i_filt = filter_mat.shape[0]\n",
    "    j_filt = filter_mat.shape[1]\n",
    "    \n",
    "    # if only one matrix is given, rather than a bunch\n",
    "    if(src_matices.dim()==2):\n",
    "        # add another dim in 0th\n",
    "        src_matices = torch.unsqueeze(src_matices, dim=0)\n",
    "     \n",
    "    \n",
    "    new_mat = torch.zeros(src_matices.shape)\n",
    "    \n",
    "    for idx, src_mat in enumerate(src_matices):\n",
    "        padded_mat = add_pad(src_mat, i_filt//2, j_filt//2) \n",
    "        \n",
    "        # print(new_mat.shape)\n",
    "\n",
    "        for i in range(i_filt//2,padded_mat.shape[0]-i_filt//2):\n",
    "            for j in range(i_filt//2,padded_mat.shape[1]-j_filt//2):\n",
    "\n",
    "                    s= padded_mat[i-i_filt//2: i+i_filt//2+1, j-j_filt//2: j+j_filt//2+1 ]\n",
    "                    # print()\n",
    "                    new_mat[idx, i-i_filt//2,j-j_filt//2] =  (s.float()@torch.transpose(filter_mat.float(), 0, 1)).sum()/(filter_mat.shape[0]*filter_mat.shape[1])\n",
    "                    \n",
    "    return new_mat/torch.max(new_mat)    "
   ]
  },
  {
   "cell_type": "code",
   "execution_count": 57,
   "id": "67333b41-efb5-42c1-af98-0a19569ee571",
   "metadata": {},
   "outputs": [
    {
     "data": {
      "text/plain": [
       "tensor([[[0.6667, 1.0000, 1.0000, 1.0000, 1.0000, 1.0000, 1.0000, 1.0000,\n",
       "          1.0000, 1.0000, 1.0000, 1.0000, 1.0000, 1.0000, 1.0000, 0.6667],\n",
       "         [0.6667, 1.0000, 1.0000, 1.0000, 1.0000, 1.0000, 1.0000, 1.0000,\n",
       "          1.0000, 1.0000, 1.0000, 1.0000, 1.0000, 1.0000, 1.0000, 0.6667],\n",
       "         [0.3333, 0.5000, 0.5000, 0.5000, 0.5000, 0.5000, 0.5000, 0.5000,\n",
       "          0.5000, 0.5000, 0.5000, 0.5000, 0.5000, 0.5000, 0.5000, 0.3333],\n",
       "         [0.0000, 0.0000, 0.0000, 0.0000, 0.0000, 0.0000, 0.0000, 0.0000,\n",
       "          0.0000, 0.0000, 0.0000, 0.0000, 0.0000, 0.0000, 0.0000, 0.0000],\n",
       "         [0.0000, 0.0000, 0.0000, 0.0000, 0.0000, 0.0000, 0.0000, 0.0000,\n",
       "          0.0000, 0.0000, 0.0000, 0.0000, 0.0000, 0.0000, 0.0000, 0.0000],\n",
       "         [0.0000, 0.0000, 0.0000, 0.0000, 0.0000, 0.0000, 0.0000, 0.0000,\n",
       "          0.0000, 0.0000, 0.0000, 0.0000, 0.0000, 0.0000, 0.0000, 0.0000],\n",
       "         [0.0000, 0.0000, 0.0000, 0.0000, 0.0000, 0.0000, 0.0000, 0.0000,\n",
       "          0.0000, 0.0000, 0.0000, 0.0000, 0.0000, 0.0000, 0.0000, 0.0000],\n",
       "         [0.0000, 0.0000, 0.0000, 0.0000, 0.0000, 0.0000, 0.0000, 0.0000,\n",
       "          0.0000, 0.0000, 0.0000, 0.0000, 0.0000, 0.0000, 0.0000, 0.0000],\n",
       "         [0.0000, 0.0000, 0.0000, 0.0000, 0.0000, 0.0000, 0.0000, 0.0000,\n",
       "          0.0000, 0.0000, 0.0000, 0.0000, 0.0000, 0.0000, 0.0000, 0.0000],\n",
       "         [0.0000, 0.0000, 0.0000, 0.0000, 0.0000, 0.0000, 0.0000, 0.0000,\n",
       "          0.0000, 0.0000, 0.0000, 0.0000, 0.0000, 0.0000, 0.0000, 0.0000],\n",
       "         [0.0000, 0.0000, 0.0000, 0.0000, 0.0000, 0.0000, 0.0000, 0.0000,\n",
       "          0.0000, 0.0000, 0.0000, 0.0000, 0.0000, 0.0000, 0.0000, 0.0000],\n",
       "         [0.0000, 0.0000, 0.0000, 0.0000, 0.0000, 0.0000, 0.0000, 0.0000,\n",
       "          0.0000, 0.0000, 0.0000, 0.0000, 0.0000, 0.0000, 0.0000, 0.0000],\n",
       "         [0.0000, 0.0000, 0.0000, 0.0000, 0.0000, 0.0000, 0.0000, 0.0000,\n",
       "          0.0000, 0.0000, 0.0000, 0.0000, 0.0000, 0.0000, 0.0000, 0.0000],\n",
       "         [0.0000, 0.0000, 0.0000, 0.0000, 0.0000, 0.0000, 0.0000, 0.0000,\n",
       "          0.0000, 0.0000, 0.0000, 0.0000, 0.0000, 0.0000, 0.0000, 0.0000],\n",
       "         [0.0000, 0.0000, 0.0000, 0.0000, 0.0000, 0.0000, 0.0000, 0.0000,\n",
       "          0.0000, 0.0000, 0.0000, 0.0000, 0.0000, 0.0000, 0.0000, 0.0000],\n",
       "         [0.0000, 0.0000, 0.0000, 0.0000, 0.0000, 0.0000, 0.0000, 0.0000,\n",
       "          0.0000, 0.0000, 0.0000, 0.0000, 0.0000, 0.0000, 0.0000, 0.0000]]])"
      ]
     },
     "execution_count": 57,
     "metadata": {},
     "output_type": "execute_result"
    }
   ],
   "source": [
    "a =  torch.randint(1,2, (3,3))\n",
    "conv(features[0], a)"
   ]
  },
  {
   "cell_type": "code",
   "execution_count": null,
   "id": "b2a89165-6cba-4658-b028-a7ef77b89a9e",
   "metadata": {},
   "outputs": [],
   "source": []
  },
  {
   "cell_type": "code",
   "execution_count": null,
   "id": "5b0b0dcf-7888-4a2a-a134-ea3b4741d99e",
   "metadata": {},
   "outputs": [],
   "source": []
  },
  {
   "cell_type": "code",
   "execution_count": 58,
   "id": "b9ffe6a1-2c85-4b4f-afdf-ba070039d702",
   "metadata": {},
   "outputs": [
    {
     "data": {
      "text/plain": [
       "<matplotlib.image.AxesImage at 0x7fc976b635b0>"
      ]
     },
     "execution_count": 58,
     "metadata": {},
     "output_type": "execute_result"
    },
    {
     "data": {
      "image/png": "[encoded data removed]",
      "text/plain": [
       "<Figure size 432x288 with 1 Axes>"
      ]
     },
     "metadata": {
      "needs_background": "light"
     },
     "output_type": "display_data"
    }
   ],
   "source": [
    "a = torch.randint(1, 3, (3, 3))\n",
    "conv(features[0], a)\n",
    "plt.imshow(conv(features[0], a)[0],cmap='Greys', interpolation='none')"
   ]
  },
  {
   "cell_type": "code",
   "execution_count": 59,
   "id": "237d4511-e404-461d-9c7f-40ae9cde8a51",
   "metadata": {},
   "outputs": [
    {
     "data": {
      "text/plain": [
       "<matplotlib.image.AxesImage at 0x7fc976b3cfa0>"
      ]
     },
     "execution_count": 59,
     "metadata": {},
     "output_type": "execute_result"
    },
    {
     "data": {
      "image/png": "[encoded data removed]",
      "text/plain": [
       "<Figure size 432x288 with 1 Axes>"
      ]
     },
     "metadata": {
      "needs_background": "light"
     },
     "output_type": "display_data"
    }
   ],
   "source": [
    "plt.imshow(features[0],cmap='Greys', interpolation='none')\n"
   ]
  },
  {
   "cell_type": "code",
   "execution_count": 60,
   "id": "02a2c28d-7f54-4fa2-b599-ea08daac8c88",
   "metadata": {},
   "outputs": [
    {
     "data": {
      "text/plain": [
       "tensor([[[0.3333, 0.5000, 0.5000, 0.5000, 0.5000, 0.5000, 0.5000, 0.5000,\n",
       "          0.5000, 0.5000, 0.5000, 0.5000, 0.5000, 0.5000, 0.5000, 0.3333],\n",
       "         [0.6667, 1.0000, 1.0000, 1.0000, 1.0000, 1.0000, 1.0000, 1.0000,\n",
       "          1.0000, 1.0000, 1.0000, 1.0000, 1.0000, 1.0000, 1.0000, 0.6667],\n",
       "         [0.6667, 1.0000, 1.0000, 1.0000, 1.0000, 1.0000, 1.0000, 1.0000,\n",
       "          1.0000, 1.0000, 1.0000, 1.0000, 1.0000, 1.0000, 1.0000, 0.6667],\n",
       "         [0.3333, 0.5000, 0.5000, 0.5000, 0.5000, 0.5000, 0.5000, 0.5000,\n",
       "          0.5000, 0.5000, 0.5000, 0.5000, 0.5000, 0.5000, 0.5000, 0.3333],\n",
       "         [0.0000, 0.0000, 0.0000, 0.0000, 0.0000, 0.0000, 0.0000, 0.0000,\n",
       "          0.0000, 0.0000, 0.0000, 0.0000, 0.0000, 0.0000, 0.0000, 0.0000],\n",
       "         [0.0000, 0.0000, 0.0000, 0.0000, 0.0000, 0.0000, 0.0000, 0.0000,\n",
       "          0.0000, 0.0000, 0.0000, 0.0000, 0.0000, 0.0000, 0.0000, 0.0000],\n",
       "         [0.0000, 0.0000, 0.0000, 0.0000, 0.0000, 0.0000, 0.0000, 0.0000,\n",
       "          0.0000, 0.0000, 0.0000, 0.0000, 0.0000, 0.0000, 0.0000, 0.0000],\n",
       "         [0.0000, 0.0000, 0.0000, 0.0000, 0.0000, 0.0000, 0.0000, 0.0000,\n",
       "          0.0000, 0.0000, 0.0000, 0.0000, 0.0000, 0.0000, 0.0000, 0.0000],\n",
       "         [0.0000, 0.0000, 0.0000, 0.0000, 0.0000, 0.0000, 0.0000, 0.0000,\n",
       "          0.0000, 0.0000, 0.0000, 0.0000, 0.0000, 0.0000, 0.0000, 0.0000],\n",
       "         [0.0000, 0.0000, 0.0000, 0.0000, 0.0000, 0.0000, 0.0000, 0.0000,\n",
       "          0.0000, 0.0000, 0.0000, 0.0000, 0.0000, 0.0000, 0.0000, 0.0000],\n",
       "         [0.0000, 0.0000, 0.0000, 0.0000, 0.0000, 0.0000, 0.0000, 0.0000,\n",
       "          0.0000, 0.0000, 0.0000, 0.0000, 0.0000, 0.0000, 0.0000, 0.0000],\n",
       "         [0.0000, 0.0000, 0.0000, 0.0000, 0.0000, 0.0000, 0.0000, 0.0000,\n",
       "          0.0000, 0.0000, 0.0000, 0.0000, 0.0000, 0.0000, 0.0000, 0.0000],\n",
       "         [0.0000, 0.0000, 0.0000, 0.0000, 0.0000, 0.0000, 0.0000, 0.0000,\n",
       "          0.0000, 0.0000, 0.0000, 0.0000, 0.0000, 0.0000, 0.0000, 0.0000],\n",
       "         [0.0000, 0.0000, 0.0000, 0.0000, 0.0000, 0.0000, 0.0000, 0.0000,\n",
       "          0.0000, 0.0000, 0.0000, 0.0000, 0.0000, 0.0000, 0.0000, 0.0000],\n",
       "         [0.0000, 0.0000, 0.0000, 0.0000, 0.0000, 0.0000, 0.0000, 0.0000,\n",
       "          0.0000, 0.0000, 0.0000, 0.0000, 0.0000, 0.0000, 0.0000, 0.0000],\n",
       "         [0.0000, 0.0000, 0.0000, 0.0000, 0.0000, 0.0000, 0.0000, 0.0000,\n",
       "          0.0000, 0.0000, 0.0000, 0.0000, 0.0000, 0.0000, 0.0000, 0.0000]]])"
      ]
     },
     "execution_count": 60,
     "metadata": {},
     "output_type": "execute_result"
    }
   ],
   "source": [
    "conv(features[25], a)"
   ]
  },
  {
   "cell_type": "code",
   "execution_count": 61,
   "id": "2f255dde",
   "metadata": {},
   "outputs": [
    {
     "data": {
      "text/plain": [
       "tensor([[1., 1., 1., 1., 1., 1., 1., 1., 1., 1., 1., 1., 1., 1., 1., 1.],\n",
       "        [1., 1., 1., 1., 1., 1., 1., 1., 1., 1., 1., 1., 1., 1., 1., 1.],\n",
       "        [0., 0., 0., 0., 0., 0., 0., 0., 0., 0., 0., 0., 0., 0., 0., 0.],\n",
       "        [0., 0., 0., 0., 0., 0., 0., 0., 0., 0., 0., 0., 0., 0., 0., 0.],\n",
       "        [0., 0., 0., 0., 0., 0., 0., 0., 0., 0., 0., 0., 0., 0., 0., 0.],\n",
       "        [0., 0., 0., 0., 0., 0., 0., 0., 0., 0., 0., 0., 0., 0., 0., 0.],\n",
       "        [0., 0., 0., 0., 0., 0., 0., 0., 0., 0., 0., 0., 0., 0., 0., 0.],\n",
       "        [0., 0., 0., 0., 0., 0., 0., 0., 0., 0., 0., 0., 0., 0., 0., 0.],\n",
       "        [0., 0., 0., 0., 0., 0., 0., 0., 0., 0., 0., 0., 0., 0., 0., 0.],\n",
       "        [0., 0., 0., 0., 0., 0., 0., 0., 0., 0., 0., 0., 0., 0., 0., 0.],\n",
       "        [0., 0., 0., 0., 0., 0., 0., 0., 0., 0., 0., 0., 0., 0., 0., 0.],\n",
       "        [0., 0., 0., 0., 0., 0., 0., 0., 0., 0., 0., 0., 0., 0., 0., 0.],\n",
       "        [0., 0., 0., 0., 0., 0., 0., 0., 0., 0., 0., 0., 0., 0., 0., 0.],\n",
       "        [0., 0., 0., 0., 0., 0., 0., 0., 0., 0., 0., 0., 0., 0., 0., 0.],\n",
       "        [0., 0., 0., 0., 0., 0., 0., 0., 0., 0., 0., 0., 0., 0., 0., 0.],\n",
       "        [0., 0., 0., 0., 0., 0., 0., 0., 0., 0., 0., 0., 0., 0., 0., 0.]],\n",
       "       dtype=torch.float64)"
      ]
     },
     "execution_count": 61,
     "metadata": {},
     "output_type": "execute_result"
    }
   ],
   "source": [
    "features[0]"
   ]
  },
  {
   "cell_type": "code",
   "execution_count": 62,
   "id": "c5e82cfe-3164-40ce-a6bc-60561cb870d2",
   "metadata": {},
   "outputs": [],
   "source": [
    "# filter_ = torch.randint(3, 10, (3, 3))\n",
    "# conv(features[0], filter_)"
   ]
  },
  {
   "cell_type": "code",
   "execution_count": null,
   "id": "716cc597-546f-42e5-b090-71999f648735",
   "metadata": {},
   "outputs": [],
   "source": []
  },
  {
   "cell_type": "code",
   "execution_count": 63,
   "id": "eb8bde4e-0aa2-4176-9d4b-1b9473e2923c",
   "metadata": {},
   "outputs": [],
   "source": [
    " # torch.randint(3, 10, (3, 3))"
   ]
  },
  {
   "cell_type": "code",
   "execution_count": null,
   "id": "4633cd85-e8c1-46da-9f21-9b87dcd9af6c",
   "metadata": {},
   "outputs": [],
   "source": []
  },
  {
   "cell_type": "code",
   "execution_count": 64,
   "id": "7b274c66-76b7-4b63-ad77-9194d6e03400",
   "metadata": {},
   "outputs": [
    {
     "data": {
      "text/plain": [
       "<matplotlib.image.AxesImage at 0x7fc9767f9820>"
      ]
     },
     "execution_count": 64,
     "metadata": {},
     "output_type": "execute_result"
    },
    {
     "data": {
      "image/png": "[encoded data removed]",
      "text/plain": [
       "<Figure size 432x288 with 1 Axes>"
      ]
     },
     "metadata": {
      "needs_background": "light"
     },
     "output_type": "display_data"
    }
   ],
   "source": [
    "plt.imshow(features[0],cmap='Greys', interpolation='none')\n",
    "# plt.axis('off');"
   ]
  },
  {
   "cell_type": "code",
   "execution_count": 65,
   "id": "b148b06f-7fbc-424e-a67d-cbcdb8a5a061",
   "metadata": {},
   "outputs": [
    {
     "data": {
      "text/plain": [
       "torch.Size([16, 16])"
      ]
     },
     "execution_count": 65,
     "metadata": {},
     "output_type": "execute_result"
    }
   ],
   "source": [
    "features[0] .shape"
   ]
  },
  {
   "cell_type": "code",
   "execution_count": null,
   "id": "08bd8986",
   "metadata": {},
   "outputs": [],
   "source": []
  },
  {
   "cell_type": "code",
   "execution_count": null,
   "id": "58c3c560-acc4-4444-8557-ad950f7870b7",
   "metadata": {},
   "outputs": [],
   "source": []
  },
  {
   "cell_type": "code",
   "execution_count": null,
   "id": "6d24b5ef-06c1-4713-a577-419f49f2fea9",
   "metadata": {},
   "outputs": [],
   "source": []
  },
  {
   "cell_type": "code",
   "execution_count": 66,
   "id": "8bcfbf10-862a-422b-8c77-ef99c5be945f",
   "metadata": {},
   "outputs": [],
   "source": [
    "temp_features = features"
   ]
  },
  {
   "cell_type": "code",
   "execution_count": 67,
   "id": "5f35e184-58b5-4921-b5e3-49199d67f5b7",
   "metadata": {},
   "outputs": [],
   "source": [
    "# apply conv filter on all dataset\n",
    "# it lets you do average-pooling on data\n",
    "filter_ = torch.randint(1, 5, (5, 5))\n",
    "features = conv(features, filter_)\n",
    "\n",
    "# plt.imshow(conv(features[0], a)[0],cmap='Greys', interpolation='none')"
   ]
  },
  {
   "cell_type": "code",
   "execution_count": 68,
   "id": "d8e40225-8bac-4cd2-a4c2-f5bf1ea7e60a",
   "metadata": {},
   "outputs": [
    {
     "data": {
      "text/plain": [
       "tensor([[1, 1, 4],\n",
       "        [4, 3, 4],\n",
       "        [3, 1, 4]])"
      ]
     },
     "execution_count": 68,
     "metadata": {},
     "output_type": "execute_result"
    }
   ],
   "source": [
    "torch.randint(1, 5, (3, 3))"
   ]
  },
  {
   "cell_type": "code",
   "execution_count": 69,
   "id": "4d8ee35b",
   "metadata": {},
   "outputs": [],
   "source": [
    "# temp_features = features"
   ]
  },
  {
   "cell_type": "code",
   "execution_count": 70,
   "id": "288b9239",
   "metadata": {},
   "outputs": [
    {
     "data": {
      "text/plain": [
       "torch.Size([512, 16, 16])"
      ]
     },
     "execution_count": 70,
     "metadata": {},
     "output_type": "execute_result"
    }
   ],
   "source": [
    "temp_features.shape"
   ]
  },
  {
   "cell_type": "code",
   "execution_count": 71,
   "id": "71465557",
   "metadata": {},
   "outputs": [
    {
     "data": {
      "text/plain": [
       "tensor([[0.5103, 0.6621, 0.7448, 0.7448, 0.7448, 0.7448, 0.7448, 0.7448, 0.7448,\n",
       "         0.7448, 0.7448, 0.7448, 0.7448, 0.7448, 0.6345, 0.4138],\n",
       "        [0.5103, 0.6621, 0.7448, 0.7448, 0.7448, 0.7448, 0.7448, 0.7448, 0.7448,\n",
       "         0.7448, 0.7448, 0.7448, 0.7448, 0.7448, 0.6345, 0.4138],\n",
       "        [0.5103, 0.6621, 0.7448, 0.7448, 0.7448, 0.7448, 0.7448, 0.7448, 0.7448,\n",
       "         0.7448, 0.7448, 0.7448, 0.7448, 0.7448, 0.6345, 0.4138],\n",
       "        [0.2552, 0.3310, 0.3724, 0.3724, 0.3724, 0.3724, 0.3724, 0.3724, 0.3724,\n",
       "         0.3724, 0.3724, 0.3724, 0.3724, 0.3724, 0.3172, 0.2069],\n",
       "        [0.0000, 0.0000, 0.0000, 0.0000, 0.0000, 0.0000, 0.0000, 0.0000, 0.0000,\n",
       "         0.0000, 0.0000, 0.0000, 0.0000, 0.0000, 0.0000, 0.0000],\n",
       "        [0.0000, 0.0000, 0.0000, 0.0000, 0.0000, 0.0000, 0.0000, 0.0000, 0.0000,\n",
       "         0.0000, 0.0000, 0.0000, 0.0000, 0.0000, 0.0000, 0.0000],\n",
       "        [0.0000, 0.0000, 0.0000, 0.0000, 0.0000, 0.0000, 0.0000, 0.0000, 0.0000,\n",
       "         0.0000, 0.0000, 0.0000, 0.0000, 0.0000, 0.0000, 0.0000],\n",
       "        [0.0000, 0.0000, 0.0000, 0.0000, 0.0000, 0.0000, 0.0000, 0.0000, 0.0000,\n",
       "         0.0000, 0.0000, 0.0000, 0.0000, 0.0000, 0.0000, 0.0000],\n",
       "        [0.0000, 0.0000, 0.0000, 0.0000, 0.0000, 0.0000, 0.0000, 0.0000, 0.0000,\n",
       "         0.0000, 0.0000, 0.0000, 0.0000, 0.0000, 0.0000, 0.0000],\n",
       "        [0.0000, 0.0000, 0.0000, 0.0000, 0.0000, 0.0000, 0.0000, 0.0000, 0.0000,\n",
       "         0.0000, 0.0000, 0.0000, 0.0000, 0.0000, 0.0000, 0.0000],\n",
       "        [0.0000, 0.0000, 0.0000, 0.0000, 0.0000, 0.0000, 0.0000, 0.0000, 0.0000,\n",
       "         0.0000, 0.0000, 0.0000, 0.0000, 0.0000, 0.0000, 0.0000],\n",
       "        [0.0000, 0.0000, 0.0000, 0.0000, 0.0000, 0.0000, 0.0000, 0.0000, 0.0000,\n",
       "         0.0000, 0.0000, 0.0000, 0.0000, 0.0000, 0.0000, 0.0000],\n",
       "        [0.0000, 0.0000, 0.0000, 0.0000, 0.0000, 0.0000, 0.0000, 0.0000, 0.0000,\n",
       "         0.0000, 0.0000, 0.0000, 0.0000, 0.0000, 0.0000, 0.0000],\n",
       "        [0.0000, 0.0000, 0.0000, 0.0000, 0.0000, 0.0000, 0.0000, 0.0000, 0.0000,\n",
       "         0.0000, 0.0000, 0.0000, 0.0000, 0.0000, 0.0000, 0.0000],\n",
       "        [0.0000, 0.0000, 0.0000, 0.0000, 0.0000, 0.0000, 0.0000, 0.0000, 0.0000,\n",
       "         0.0000, 0.0000, 0.0000, 0.0000, 0.0000, 0.0000, 0.0000],\n",
       "        [0.0000, 0.0000, 0.0000, 0.0000, 0.0000, 0.0000, 0.0000, 0.0000, 0.0000,\n",
       "         0.0000, 0.0000, 0.0000, 0.0000, 0.0000, 0.0000, 0.0000]])"
      ]
     },
     "execution_count": 71,
     "metadata": {},
     "output_type": "execute_result"
    }
   ],
   "source": [
    "features[0]"
   ]
  },
  {
   "cell_type": "code",
   "execution_count": 72,
   "id": "f738ccce",
   "metadata": {},
   "outputs": [
    {
     "data": {
      "text/plain": [
       "6"
      ]
     },
     "execution_count": 72,
     "metadata": {},
     "output_type": "execute_result"
    }
   ],
   "source": [
    "code.shape[1]"
   ]
  },
  {
   "cell_type": "code",
   "execution_count": 73,
   "id": "1e5ba700",
   "metadata": {},
   "outputs": [],
   "source": [
    "features = torch.zeros(temp_features.shape[0]*temp_features.shape[1]* temp_features.shape[2], 2+code.shape[1])\n",
    "labels = torch.zeros(temp_features.shape[0]*temp_features.shape[1]* temp_features.shape[2])"
   ]
  },
  {
   "cell_type": "code",
   "execution_count": 74,
   "id": "aa807546",
   "metadata": {},
   "outputs": [
    {
     "data": {
      "text/plain": [
       "torch.Size([131072, 8])"
      ]
     },
     "execution_count": 74,
     "metadata": {},
     "output_type": "execute_result"
    }
   ],
   "source": [
    "features.shape"
   ]
  },
  {
   "cell_type": "code",
   "execution_count": 75,
   "id": "2130100e",
   "metadata": {},
   "outputs": [
    {
     "data": {
      "text/plain": [
       "tensor([1, 2, 3, 1, 2, 3])"
      ]
     },
     "execution_count": 75,
     "metadata": {},
     "output_type": "execute_result"
    }
   ],
   "source": [
    "# how cat function works?\n",
    "x = torch.tensor([1,2,3])\n",
    "torch.cat((x, x), axis=0)"
   ]
  },
  {
   "cell_type": "code",
   "execution_count": 76,
   "id": "4d7029d8",
   "metadata": {},
   "outputs": [
    {
     "data": {
      "text/plain": [
       "16"
      ]
     },
     "execution_count": 76,
     "metadata": {},
     "output_type": "execute_result"
    }
   ],
   "source": [
    "(temp_features.shape[1])"
   ]
  },
  {
   "cell_type": "code",
   "execution_count": 77,
   "id": "149f5f5b",
   "metadata": {},
   "outputs": [
    {
     "name": "stderr",
     "output_type": "stream",
     "text": [
      "<ipython-input-77-ed4df0383927>:6: UserWarning: To copy construct from a tensor, it is recommended to use sourceTensor.clone().detach() or sourceTensor.clone().detach().requires_grad_(True), rather than torch.tensor(sourceTensor).\n",
      "  features[count] = torch.cat((torch.tensor([j,k])/temp_features.shape[1],  torch.tensor(code[i])), axis=0)\n"
     ]
    }
   ],
   "source": [
    "#  building data set: first I needed to put all the cooridates (x, y) of pixels in rows of data set and add colums for its codes\n",
    "count = 0 \n",
    "for i in range(temp_features.shape[0]):\n",
    "    for j in range(temp_features.shape[1]):\n",
    "        for k in range(temp_features.shape[2]):\n",
    "            features[count] = torch.cat((torch.tensor([j,k])/temp_features.shape[1],  torch.tensor(code[i])), axis=0)\n",
    "            labels[count] = temp_features[i][j][k]\n",
    "            count += 1\n",
    "#             print(temp_features[i])\n"
   ]
  },
  {
   "cell_type": "code",
   "execution_count": 78,
   "id": "7c77de81",
   "metadata": {},
   "outputs": [
    {
     "data": {
      "text/plain": [
       "(torch.Size([131072, 8]), torch.Size([131072]))"
      ]
     },
     "execution_count": 78,
     "metadata": {},
     "output_type": "execute_result"
    }
   ],
   "source": [
    "features.shape, labels.shape"
   ]
  },
  {
   "cell_type": "code",
   "execution_count": 79,
   "id": "9b2f39a5",
   "metadata": {},
   "outputs": [
    {
     "data": {
      "text/plain": [
       "(tensor([0.1250, 0.5625, 1.0000, 0.0000, 0.0625, 0.0625, 0.0625, 0.0625]),\n",
       " tensor(0.))"
      ]
     },
     "execution_count": 79,
     "metadata": {},
     "output_type": "execute_result"
    }
   ],
   "source": [
    "features[1065], labels[1065]"
   ]
  },
  {
   "cell_type": "code",
   "execution_count": 80,
   "id": "a78aa3e4",
   "metadata": {},
   "outputs": [],
   "source": [
    "# for feature in features:\n",
    "#     print(feature)\n",
    "    \n"
   ]
  },
  {
   "cell_type": "code",
   "execution_count": 81,
   "id": "e3563c91",
   "metadata": {},
   "outputs": [],
   "source": [
    "# labels[1450]"
   ]
  },
  {
   "cell_type": "code",
   "execution_count": null,
   "id": "ff89751d",
   "metadata": {},
   "outputs": [],
   "source": []
  },
  {
   "cell_type": "code",
   "execution_count": 82,
   "id": "3819c283",
   "metadata": {},
   "outputs": [],
   "source": [
    "# from itertools import permutations\n",
    "# for i,j, k  in permutations(range(0, 3)):\n",
    "#     print(i,j,k)"
   ]
  },
  {
   "cell_type": "code",
   "execution_count": 83,
   "id": "3e576811",
   "metadata": {},
   "outputs": [],
   "source": [
    "# m = nn.LogSoftmax(dim=1)\n"
   ]
  },
  {
   "cell_type": "code",
   "execution_count": null,
   "id": "0027dabe-fc7d-4645-961e-8ad3ae7413c6",
   "metadata": {},
   "outputs": [],
   "source": []
  },
  {
   "cell_type": "code",
   "execution_count": null,
   "id": "35ba5e16-1620-4480-95ee-db87c95fcca1",
   "metadata": {},
   "outputs": [],
   "source": []
  },
  {
   "cell_type": "code",
   "execution_count": 84,
   "id": "e18b879c",
   "metadata": {},
   "outputs": [],
   "source": [
    "input_dim = 2  # x, y poisitons of one pixel\n",
    "hidden_dim = 40 # this one is so decisive"
   ]
  },
  {
   "cell_type": "code",
   "execution_count": null,
   "id": "9aa20142-b323-4911-9151-ab901792825f",
   "metadata": {},
   "outputs": [],
   "source": []
  },
  {
   "cell_type": "code",
   "execution_count": 85,
   "id": "014d6032",
   "metadata": {},
   "outputs": [],
   "source": [
    "# defining dropout_layer\n",
    "def dropout_layer(X, dropout):\n",
    "    assert 0 <= dropout <= 1\n",
    "    # In this case, all elements are dropped out\n",
    "    if dropout == 1:\n",
    "        return torch.zeros_like(X)\n",
    "    # In this case, all elements are kept\n",
    "    if dropout == 0:\n",
    "        return X\n",
    "    mask = (torch.rand(X.shape) > dropout).float()\n",
    "    return mask * X / (1.0 - dropout)"
   ]
  },
  {
   "cell_type": "code",
   "execution_count": null,
   "id": "e18ce418",
   "metadata": {},
   "outputs": [],
   "source": []
  },
  {
   "cell_type": "code",
   "execution_count": 86,
   "id": "978facae",
   "metadata": {},
   "outputs": [],
   "source": [
    "class Model(nn.Module):\n",
    "    def __init__(self):\n",
    "        super(Model, self).__init__()\n",
    "        is_training = True\n",
    "#         self.func1 = nn.Linear(input_dim + code.shape[1], hidden_dim)\n",
    "        self.func1 = nn.Linear(input_dim + code.shape[1], hidden_dim)\n",
    "\n",
    "        self.func2 = nn.Linear(hidden_dim, hidden_dim)\n",
    "        self.func3 = nn.Linear(hidden_dim, hidden_dim)\n",
    "        self.func4 = nn.Linear(hidden_dim, hidden_dim)\n",
    "        self.func5 = nn.Linear(hidden_dim, 1)\n",
    "        \n",
    "        self.outp = nn.ReLU()\n",
    "        \n",
    "                \n",
    "                \n",
    "    def forward(self, x):\n",
    "#         z = torch.cat((x, code_), axis=0)\n",
    "        z = nn.functional.relu(self.func1(x.float()))\n",
    "#         return self.outp(self.func5(z))\n",
    "            # Use dropout only when training the model\n",
    "        if self.training == True:\n",
    "            # Add a dropout layer after the first fully connected layer\n",
    "            z = dropout_layer(z, dropout=0.080)\n",
    "#         return self.outp(self.func5(z))    \n",
    "        z = nn.functional.relu(self.func2(z.float()))\n",
    "        \n",
    "        if self.training == True:\n",
    "            # Add a dropout layer after the first fully connected layer\n",
    "            z = dropout_layer(z, dropout=0.10)\n",
    "        \n",
    "        z = nn.functional.relu(self.func3(z))\n",
    "        \n",
    "        if self.training == True:\n",
    "            # Add a dropout layer after the first fully connected layer\n",
    "            z = dropout_layer(z, dropout=0.10)\n",
    "        \n",
    "        z = nn.functional.relu(self.func4(z))\n",
    "        \n",
    "        if self.training == True:\n",
    "            # Add a dropout layer after the first fully connected layer\n",
    "            z = dropout_layer(z, dropout=0.10)\n",
    "        \n",
    "        z = self.func5(z)\n",
    "#         z = self.func5(z)\n",
    "        \n",
    "        \n",
    "        return self.outp(z)"
   ]
  },
  {
   "cell_type": "code",
   "execution_count": 87,
   "id": "8ca4771f",
   "metadata": {},
   "outputs": [],
   "source": [
    "model = Model()"
   ]
  },
  {
   "cell_type": "code",
   "execution_count": null,
   "id": "10cbeda5",
   "metadata": {},
   "outputs": [],
   "source": []
  },
  {
   "cell_type": "code",
   "execution_count": 88,
   "id": "71388c8e",
   "metadata": {},
   "outputs": [],
   "source": [
    "a = torch.tensor([1,2,3, 4])\n",
    "b = torch.tensor([1,2,3])"
   ]
  },
  {
   "cell_type": "code",
   "execution_count": 89,
   "id": "5287d4be",
   "metadata": {},
   "outputs": [
    {
     "data": {
      "text/plain": [
       "tensor([1.0000, 0.0000, 0.0625, 0.0625, 0.0625, 0.0625])"
      ]
     },
     "execution_count": 89,
     "metadata": {},
     "output_type": "execute_result"
    }
   ],
   "source": [
    "code[0]"
   ]
  },
  {
   "cell_type": "code",
   "execution_count": 90,
   "id": "7a290b59",
   "metadata": {},
   "outputs": [],
   "source": [
    "# features[1250]"
   ]
  },
  {
   "cell_type": "code",
   "execution_count": 91,
   "id": "884a5beb",
   "metadata": {},
   "outputs": [
    {
     "data": {
      "text/plain": [
       "tensor([0.0414], grad_fn=<ReluBackward0>)"
      ]
     },
     "execution_count": 91,
     "metadata": {},
     "output_type": "execute_result"
    }
   ],
   "source": [
    "model(features[1])"
   ]
  },
  {
   "cell_type": "code",
   "execution_count": 92,
   "id": "6076a80d",
   "metadata": {},
   "outputs": [
    {
     "data": {
      "text/plain": [
       "tensor([1, 2, 3, 4, 1, 2, 3])"
      ]
     },
     "execution_count": 92,
     "metadata": {},
     "output_type": "execute_result"
    }
   ],
   "source": [
    "torch.cat((a, b), axis=0)"
   ]
  },
  {
   "cell_type": "code",
   "execution_count": 93,
   "id": "ecebf1bf",
   "metadata": {},
   "outputs": [],
   "source": [
    "from torch.utils import data\n",
    "\n",
    "def load_array(data_arrays, batch_size, is_train=True): #@save\n",
    "    \"\"\"Construct a PyTorch data iterator.\"\"\"\n",
    "    dataset = data.TensorDataset(*data_arrays)\n",
    "    return data.DataLoader(dataset, batch_size, shuffle=is_train)"
   ]
  },
  {
   "cell_type": "code",
   "execution_count": 94,
   "id": "b648b321",
   "metadata": {},
   "outputs": [],
   "source": [
    "# for i in range(features[0].shape[0]):\n",
    "#     for j in range(features[0].shape[1]):\n",
    "#         print(model(features[0][i][j]))"
   ]
  },
  {
   "cell_type": "code",
   "execution_count": 95,
   "id": "1017c76f",
   "metadata": {},
   "outputs": [
    {
     "name": "stdout",
     "output_type": "stream",
     "text": [
      "train size= torch.Size([104857, 8]), test size= torch.Size([26215, 8]), batch size= 26215\n",
      "train size= torch.Size([104857]), test size= torch.Size([26215]), batch size= 26215\n"
     ]
    }
   ],
   "source": [
    "train_x = features[:-features.shape[0]*20//100]\n",
    "test_x  = features[-features.shape[0]*20//100:]\n",
    "train_y = labels[:-labels.shape[0]*20//100]\n",
    "test_y  = labels[-labels.shape[0]*20//100:]\n",
    "\n",
    "batch_size = test_x.shape[0]\n",
    "\n",
    "print(f'train size= {train_x.shape}, test size= {test_x.shape}, batch size= {batch_size}')\n",
    "print(f'train size= {train_y.shape}, test size= {test_y.shape}, batch size= {batch_size}')\n",
    "train_loader = load_array((train_x, train_y), batch_size)\n",
    "test_loader  = load_array((test_x, test_y), batch_size)"
   ]
  },
  {
   "cell_type": "code",
   "execution_count": 96,
   "id": "9434e3d0",
   "metadata": {},
   "outputs": [
    {
     "data": {
      "text/plain": [
       "<generator object Module.parameters at 0x7fc976ad8660>"
      ]
     },
     "execution_count": 96,
     "metadata": {},
     "output_type": "execute_result"
    }
   ],
   "source": [
    "model.parameters()"
   ]
  },
  {
   "cell_type": "code",
   "execution_count": null,
   "id": "d1e21d94",
   "metadata": {},
   "outputs": [],
   "source": []
  },
  {
   "cell_type": "code",
   "execution_count": 97,
   "id": "9a975063",
   "metadata": {},
   "outputs": [],
   "source": [
    "# hyperparameters\n",
    "\n",
    "lr = 2e-2\n",
    "\n",
    "epochs = 300\n",
    "DEVICE = 'cpu'\n",
    "print_step = 50"
   ]
  },
  {
   "cell_type": "code",
   "execution_count": null,
   "id": "efd46e82",
   "metadata": {},
   "outputs": [],
   "source": []
  },
  {
   "cell_type": "code",
   "execution_count": null,
   "id": "c2577a9e",
   "metadata": {},
   "outputs": [],
   "source": []
  },
  {
   "cell_type": "code",
   "execution_count": 98,
   "id": "32ecc351",
   "metadata": {},
   "outputs": [],
   "source": [
    "# features[:-20].shape, features[-20:].shape"
   ]
  },
  {
   "cell_type": "code",
   "execution_count": 99,
   "id": "ad9a5f42",
   "metadata": {},
   "outputs": [
    {
     "data": {
      "text/plain": [
       "26214"
      ]
     },
     "execution_count": 99,
     "metadata": {},
     "output_type": "execute_result"
    }
   ],
   "source": [
    "# we want to allow only 20% of data for test and the rest on training data\n",
    "features.shape[0]*20//100"
   ]
  },
  {
   "cell_type": "code",
   "execution_count": null,
   "id": "db4828c9",
   "metadata": {},
   "outputs": [],
   "source": []
  },
  {
   "cell_type": "code",
   "execution_count": 100,
   "id": "2e371feb",
   "metadata": {},
   "outputs": [],
   "source": [
    "# 80% for traning test, and 20% for test\n"
   ]
  },
  {
   "cell_type": "code",
   "execution_count": 101,
   "id": "03280d1f",
   "metadata": {},
   "outputs": [
    {
     "data": {
      "text/plain": [
       "(torch.Size([104857, 8]), torch.Size([26215, 8]))"
      ]
     },
     "execution_count": 101,
     "metadata": {},
     "output_type": "execute_result"
    }
   ],
   "source": [
    "train_x.shape, test_x.shape"
   ]
  },
  {
   "cell_type": "code",
   "execution_count": null,
   "id": "f398357e",
   "metadata": {},
   "outputs": [],
   "source": []
  },
  {
   "cell_type": "code",
   "execution_count": null,
   "id": "d3d505fb",
   "metadata": {},
   "outputs": [],
   "source": []
  },
  {
   "cell_type": "markdown",
   "id": "1a012aa7",
   "metadata": {},
   "source": [
    "# Defining loss function"
   ]
  },
  {
   "cell_type": "code",
   "execution_count": 102,
   "id": "949572bb",
   "metadata": {},
   "outputs": [],
   "source": [
    "def clamp(a, b):\n",
    "#     a = torch.tensor(x)\n",
    "#     b = torch.tensor(delta)\n",
    "    return torch.min(b, torch.max(-b, a))"
   ]
  },
  {
   "cell_type": "code",
   "execution_count": 103,
   "id": "eb64a987",
   "metadata": {},
   "outputs": [
    {
     "data": {
      "text/plain": [
       "tensor([-1.0000,  1.2000,  1.2000,  1.2000])"
      ]
     },
     "execution_count": 103,
     "metadata": {},
     "output_type": "execute_result"
    }
   ],
   "source": [
    "a = torch.tensor([-1, 5, 1.2, 2])\n",
    "b = torch.tensor([1.2])\n",
    "clamp(a, b)"
   ]
  },
  {
   "cell_type": "code",
   "execution_count": 104,
   "id": "2c2ebfb1",
   "metadata": {},
   "outputs": [
    {
     "data": {
      "text/plain": [
       "tensor([1.2000, 5.0000, 1.2000, 2.0000])"
      ]
     },
     "execution_count": 104,
     "metadata": {},
     "output_type": "execute_result"
    }
   ],
   "source": [
    "torch.max(b, a)"
   ]
  },
  {
   "cell_type": "code",
   "execution_count": null,
   "id": "9ab9af4f",
   "metadata": {},
   "outputs": [],
   "source": []
  },
  {
   "cell_type": "markdown",
   "id": "6b855420",
   "metadata": {},
   "source": [
    "# Training"
   ]
  },
  {
   "cell_type": "code",
   "execution_count": 105,
   "id": "f3b0bca6",
   "metadata": {},
   "outputs": [],
   "source": [
    "optimizer = torch.optim.Adam(model.parameters(), lr=0.03)"
   ]
  },
  {
   "cell_type": "code",
   "execution_count": 106,
   "id": "3833a4f7",
   "metadata": {},
   "outputs": [],
   "source": [
    "# torch.randn(3, 5).softmax(dim=1), torch.randn(3, 5)"
   ]
  },
  {
   "cell_type": "code",
   "execution_count": 107,
   "id": "87caabee",
   "metadata": {},
   "outputs": [],
   "source": [
    "# loss = nn.CrossEntropyLoss(reduction='none')\n",
    "# def loss(y_hat, y):\n",
    "#     return (y_hat-y).sum()\n",
    "loss = nn.MSELoss()\n",
    "# loss = nn.CrossEntropyLoss()\n",
    "# loss = nn.BCEWithLogitsLoss()\n"
   ]
  },
  {
   "cell_type": "code",
   "execution_count": 108,
   "id": "c904c937",
   "metadata": {},
   "outputs": [],
   "source": [
    "# num_epochs = 30\n",
    "# for epoch in range(num_epochs):\n",
    "#     for X,Y in train_loader:\n",
    "#     #     print(X,Y)\n",
    "# #         x = X.T\n",
    "# #         y = Y\n",
    "#         print(X.shape,Y.shape, model(X.float()).shape)\n",
    "#         l = loss(model(X.float())[:,0], Y.float())\n",
    "#         optimizer.zero_grad()\n",
    "#         l.backward()\n",
    "#         optimizer.step() #optimizer\n",
    "# #     l = loss(model(x_truth.float()), y_truth.float())\n",
    "# #     print(f'epoch {epoch + 1}, loss {l:f}')"
   ]
  },
  {
   "cell_type": "code",
   "execution_count": 109,
   "id": "05ce2476",
   "metadata": {},
   "outputs": [
    {
     "data": {
      "text/plain": [
       "256"
      ]
     },
     "execution_count": 109,
     "metadata": {},
     "output_type": "execute_result"
    }
   ],
   "source": [
    "num_samples//2"
   ]
  },
  {
   "cell_type": "code",
   "execution_count": 110,
   "id": "3b6cbce4",
   "metadata": {},
   "outputs": [
    {
     "name": "stdout",
     "output_type": "stream",
     "text": [
      "Start training ...\n",
      "\tEpoch 1 complete! \tAverage Loss:  8.732835891340927e-06\n",
      "0.6867938786745071\n",
      "\tEpoch 2 complete! \tAverage Loss:  5.829094195822158e-06\n",
      "0.45842911303043365\n",
      "\tEpoch 3 complete! \tAverage Loss:  5.532568856487362e-06\n",
      "0.43510887771844864\n",
      "\tEpoch 4 complete! \tAverage Loss:  5.497043195990417e-06\n",
      "0.4323149621486664\n",
      "\tEpoch 5 complete! \tAverage Loss:  5.471678916690566e-06\n",
      "0.4303201884031296\n",
      "\tEpoch 6 complete! \tAverage Loss:  5.400200616654774e-06\n",
      "0.42469877749681473\n",
      "\tEpoch 7 complete! \tAverage Loss:  5.305819585232538e-06\n",
      "0.41727618128061295\n",
      "\tEpoch 8 complete! \tAverage Loss:  5.195385676571991e-06\n",
      "0.4085911065340042\n",
      "\tEpoch 9 complete! \tAverage Loss:  5.112996626752143e-06\n",
      "0.40211161971092224\n",
      "\tEpoch 10 complete! \tAverage Loss:  4.911048992567337e-06\n",
      "0.3862294480204582\n",
      "\tEpoch 11 complete! \tAverage Loss:  4.626551445369173e-06\n",
      "0.36385513842105865\n",
      "\tEpoch 12 complete! \tAverage Loss:  4.714451812198699e-06\n",
      "0.37076806277036667\n",
      "\tEpoch 13 complete! \tAverage Loss:  4.577638424013535e-06\n",
      "0.3600083738565445\n",
      "\tEpoch 14 complete! \tAverage Loss:  4.375648537187797e-06\n",
      "0.34412287920713425\n",
      "\tEpoch 15 complete! \tAverage Loss:  4.18777377980293e-06\n",
      "0.32934746891260147\n",
      "\tEpoch 16 complete! \tAverage Loss:  3.835882701894394e-06\n",
      "0.3016729950904846\n",
      "\tEpoch 17 complete! \tAverage Loss:  3.8559736431846255e-06\n",
      "0.30325304716825485\n",
      "\tEpoch 18 complete! \tAverage Loss:  4.230222431306307e-06\n",
      "0.33268584311008453\n",
      "\tEpoch 19 complete! \tAverage Loss:  3.98848389357497e-06\n",
      "0.31367431581020355\n",
      "\tEpoch 20 complete! \tAverage Loss:  3.8225921621097685e-06\n",
      "0.30062776058912277\n",
      "\tEpoch 21 complete! \tAverage Loss:  3.3015721941245884e-06\n",
      "0.25965214520692825\n",
      "\tEpoch 22 complete! \tAverage Loss:  2.8771366001547264e-06\n",
      "0.22627240791916847\n",
      "\tEpoch 23 complete! \tAverage Loss:  2.9067747435587044e-06\n",
      "0.2286032997071743\n",
      "\tEpoch 24 complete! \tAverage Loss:  2.551659438620536e-06\n",
      "0.20067525655031204\n",
      "\tEpoch 25 complete! \tAverage Loss:  1.950704721358888e-06\n",
      "0.15341317281126976\n",
      "\tEpoch 26 complete! \tAverage Loss:  1.6074878927392478e-06\n",
      "0.12642088532447815\n",
      "\tEpoch 27 complete! \tAverage Loss:  2.0320283130481075e-06\n",
      "0.15980886667966843\n",
      "\tEpoch 28 complete! \tAverage Loss:  1.8205685293888953e-06\n",
      "0.14317861199378967\n",
      "\tEpoch 29 complete! \tAverage Loss:  1.5796114997253209e-06\n",
      "0.12422854639589787\n",
      "\tEpoch 30 complete! \tAverage Loss:  1.1405126051405895e-06\n",
      "0.08969561383128166\n",
      "Finish!!\n"
     ]
    }
   ],
   "source": [
    "\n",
    "print(\"Start training ...\")\n",
    "model.train()\n",
    "\n",
    "for epoch in range(30):\n",
    "    overall_loss = 0\n",
    "    for batch_idx, (x, y) in enumerate(train_loader):\n",
    "        optimizer.zero_grad()\n",
    "        y_hat = model(x.float()).float()\n",
    "        ll = loss(y_hat.flatten(), y.float().flatten())\n",
    "        overall_loss += ll.item()\n",
    "        ll.backward()\n",
    "        optimizer.step()\n",
    "        \n",
    "    print(\"\\tEpoch\", epoch + 1, \"complete!\", \"\\tAverage Loss: \", overall_loss / (batch_idx*batch_size))\n",
    "    print(overall_loss)\n",
    "    \n",
    "print(\"Finish!!\")\n"
   ]
  },
  {
   "cell_type": "code",
   "execution_count": null,
   "id": "a7466acb-fc08-4591-8760-25a465fb1d5f",
   "metadata": {},
   "outputs": [],
   "source": []
  },
  {
   "cell_type": "code",
   "execution_count": null,
   "id": "d40b32b5-146a-457e-98a0-4712af521067",
   "metadata": {},
   "outputs": [],
   "source": []
  },
  {
   "cell_type": "code",
   "execution_count": null,
   "id": "01188bee-a512-4605-b3f9-1752a73999ce",
   "metadata": {},
   "outputs": [],
   "source": []
  },
  {
   "cell_type": "code",
   "execution_count": null,
   "id": "0acbfcc4-0338-46c1-9c5a-b5130dfe2a5f",
   "metadata": {},
   "outputs": [],
   "source": []
  },
  {
   "cell_type": "code",
   "execution_count": 111,
   "id": "0bb69b9a-54d7-4e63-9c13-a47105f77bca",
   "metadata": {},
   "outputs": [],
   "source": [
    "# for p in model.parameters():\n",
    "#     print(p)"
   ]
  },
  {
   "cell_type": "code",
   "execution_count": 112,
   "id": "38d6f66b-44d9-4bc9-9de4-d366fa3d30cc",
   "metadata": {},
   "outputs": [
    {
     "name": "stdout",
     "output_type": "stream",
     "text": [
      "('func1', Linear(in_features=8, out_features=40, bias=True))\n",
      "('func2', Linear(in_features=40, out_features=40, bias=True))\n",
      "('func3', Linear(in_features=40, out_features=40, bias=True))\n",
      "('func4', Linear(in_features=40, out_features=40, bias=True))\n",
      "('func5', Linear(in_features=40, out_features=1, bias=True))\n",
      "('outp', ReLU())\n"
     ]
    }
   ],
   "source": [
    "for m in model.named_children():\n",
    "    print(m)"
   ]
  },
  {
   "cell_type": "code",
   "execution_count": null,
   "id": "804c9663",
   "metadata": {},
   "outputs": [],
   "source": []
  },
  {
   "cell_type": "code",
   "execution_count": 113,
   "id": "5bd867a2-5a89-482a-9285-029481e8718f",
   "metadata": {},
   "outputs": [],
   "source": [
    "model.func1.weight.requires_grad = False\n",
    "model.func1.bias.requires_grad = False\n",
    "\n",
    "model.func2.weight.requires_grad = False\n",
    "model.func2.bias.requires_grad = False\n",
    "\n",
    "model.func3.weight.requires_grad = False\n",
    "model.func3.bias.requires_grad = False\n",
    "\n",
    "model.func4.weight.requires_grad = False\n",
    "model.func4.bias.requires_grad = False\n",
    "\n",
    "model.func5.weight.requires_grad = False\n",
    "model.func5.bias.requires_grad = False\n"
   ]
  },
  {
   "cell_type": "code",
   "execution_count": null,
   "id": "1ec9aca3-d08c-4ca5-88be-37b9180b8ee4",
   "metadata": {},
   "outputs": [],
   "source": []
  },
  {
   "cell_type": "code",
   "execution_count": 114,
   "id": "8cf27117-a6d6-430b-b585-d84a2d1bb098",
   "metadata": {},
   "outputs": [
    {
     "data": {
      "text/plain": [
       "False"
      ]
     },
     "execution_count": 114,
     "metadata": {},
     "output_type": "execute_result"
    }
   ],
   "source": [
    "model.func1.weight.requires_grad"
   ]
  },
  {
   "cell_type": "code",
   "execution_count": 115,
   "id": "379b1b62-60e7-41e8-b246-99ea66d7b912",
   "metadata": {},
   "outputs": [
    {
     "data": {
      "text/plain": [
       "256"
      ]
     },
     "execution_count": 115,
     "metadata": {},
     "output_type": "execute_result"
    }
   ],
   "source": [
    "num_samples//2"
   ]
  },
  {
   "cell_type": "code",
   "execution_count": 116,
   "id": "bdad8dbe-07fe-4d14-9ec8-7a6861011e3d",
   "metadata": {},
   "outputs": [
    {
     "name": "stderr",
     "output_type": "stream",
     "text": [
      "<ipython-input-116-127521b8eb62>:1: UserWarning: To copy construct from a tensor, it is recommended to use sourceTensor.clone().detach() or sourceTensor.clone().detach().requires_grad_(True), rather than torch.tensor(sourceTensor).\n",
      "  torch.tensor(code [0], requires_grad=True)\n"
     ]
    },
    {
     "data": {
      "text/plain": [
       "tensor([1.0000, 0.0000, 0.0625, 0.0625, 0.0625, 0.0625], requires_grad=True)"
      ]
     },
     "execution_count": 116,
     "metadata": {},
     "output_type": "execute_result"
    }
   ],
   "source": [
    "torch.tensor(code [0], requires_grad=True)"
   ]
  },
  {
   "cell_type": "code",
   "execution_count": 117,
   "id": "f349b4c5-5dc8-4286-a3b5-f919a1a79c4c",
   "metadata": {},
   "outputs": [
    {
     "data": {
      "text/plain": [
       "torch.Size([8])"
      ]
     },
     "execution_count": 117,
     "metadata": {},
     "output_type": "execute_result"
    }
   ],
   "source": [
    "features[0].shape"
   ]
  },
  {
   "cell_type": "code",
   "execution_count": 118,
   "id": "50bf18c5-ba50-4ac9-9380-bb4a6fd2494a",
   "metadata": {},
   "outputs": [
    {
     "name": "stdout",
     "output_type": "stream",
     "text": [
      "torch.Size([2]) torch.Size([6])\n"
     ]
    },
    {
     "name": "stderr",
     "output_type": "stream",
     "text": [
      "<ipython-input-118-91d5b2e7d1cb>:1: UserWarning: To copy construct from a tensor, it is recommended to use sourceTensor.clone().detach() or sourceTensor.clone().detach().requires_grad_(True), rather than torch.tensor(sourceTensor).\n",
      "  x = torch.tensor(features[0][:2])\n",
      "<ipython-input-118-91d5b2e7d1cb>:2: UserWarning: To copy construct from a tensor, it is recommended to use sourceTensor.clone().detach() or sourceTensor.clone().detach().requires_grad_(True), rather than torch.tensor(sourceTensor).\n",
      "  codee = torch.tensor(code [0], requires_grad=True)\n"
     ]
    },
    {
     "data": {
      "text/plain": [
       "tensor([1.0312], grad_fn=<ReluBackward0>)"
      ]
     },
     "execution_count": 118,
     "metadata": {},
     "output_type": "execute_result"
    }
   ],
   "source": [
    "x = torch.tensor(features[0][:2])\n",
    "codee = torch.tensor(code [0], requires_grad=True)\n",
    "print(x.shape, codee.shape)\n",
    "j = torch.cat((x, codee), axis=0)\n",
    "j\n",
    "model(j)"
   ]
  },
  {
   "cell_type": "code",
   "execution_count": null,
   "id": "2b827610-a1e5-4956-ba4f-47ce6cd0f3f1",
   "metadata": {},
   "outputs": [],
   "source": []
  },
  {
   "cell_type": "code",
   "execution_count": 119,
   "id": "1658aeb2-3850-4d0e-9a15-03ce07ff621d",
   "metadata": {},
   "outputs": [
    {
     "data": {
      "text/plain": [
       "<bound method Module.parameters of Model(\n",
       "  (func1): Linear(in_features=8, out_features=40, bias=True)\n",
       "  (func2): Linear(in_features=40, out_features=40, bias=True)\n",
       "  (func3): Linear(in_features=40, out_features=40, bias=True)\n",
       "  (func4): Linear(in_features=40, out_features=40, bias=True)\n",
       "  (func5): Linear(in_features=40, out_features=1, bias=True)\n",
       "  (outp): ReLU()\n",
       ")>"
      ]
     },
     "execution_count": 119,
     "metadata": {},
     "output_type": "execute_result"
    }
   ],
   "source": [
    "model.parameters"
   ]
  },
  {
   "cell_type": "code",
   "execution_count": 120,
   "id": "3de0fe69-7bdc-4098-b2f6-bc36e44ec104",
   "metadata": {},
   "outputs": [
    {
     "data": {
      "text/plain": [
       "tensor([[0.0000, 0.0000, 1.0000,  ..., 0.0625, 0.0625, 0.0625],\n",
       "        [0.0000, 0.0625, 1.0000,  ..., 0.0625, 0.0625, 0.0625],\n",
       "        [0.0000, 0.1250, 1.0000,  ..., 0.0625, 0.0625, 0.0625],\n",
       "        ...,\n",
       "        [0.9375, 0.8125, 0.0000,  ..., 1.0000, 1.0000, 1.0000],\n",
       "        [0.9375, 0.8750, 0.0000,  ..., 1.0000, 1.0000, 1.0000],\n",
       "        [0.9375, 0.9375, 0.0000,  ..., 1.0000, 1.0000, 1.0000]])"
      ]
     },
     "execution_count": 120,
     "metadata": {},
     "output_type": "execute_result"
    }
   ],
   "source": [
    "features"
   ]
  },
  {
   "cell_type": "code",
   "execution_count": 121,
   "id": "aa8e0c28-17bf-4712-8d61-bcefeba22221",
   "metadata": {},
   "outputs": [],
   "source": [
    "# code"
   ]
  },
  {
   "cell_type": "code",
   "execution_count": 122,
   "id": "6d27cbec-69b3-4883-ab59-0b587909cbcc",
   "metadata": {},
   "outputs": [
    {
     "data": {
      "text/plain": [
       "32.0"
      ]
     },
     "execution_count": 122,
     "metadata": {},
     "output_type": "execute_result"
    }
   ],
   "source": [
    "(num_samples)/box_siz"
   ]
  },
  {
   "cell_type": "code",
   "execution_count": 123,
   "id": "108deb8f-60d3-40c8-a122-6af20b11896d",
   "metadata": {},
   "outputs": [
    {
     "data": {
      "text/plain": [
       "(tensor([0.0000, 0.0000, 1.0000, 0.0000, 0.0625, 0.0625, 0.0625, 0.0625]),\n",
       " tensor([0.4375, 0.7500, 1.0000, 0.0000, 0.0625, 0.0625, 0.0625, 0.0625]),\n",
       " tensor([0.9375, 0.6250, 1.0000, 0.0000, 0.0625, 0.0625, 0.0625, 0.0625]))"
      ]
     },
     "execution_count": 123,
     "metadata": {},
     "output_type": "execute_result"
    }
   ],
   "source": [
    "features[0], features[124], features[250]"
   ]
  },
  {
   "cell_type": "code",
   "execution_count": null,
   "id": "80d6691e-48d8-4042-a35d-99c25d8d8a8b",
   "metadata": {},
   "outputs": [],
   "source": []
  },
  {
   "cell_type": "code",
   "execution_count": 124,
   "id": "76ec0c4a-d601-4099-b940-448692b72702",
   "metadata": {},
   "outputs": [],
   "source": [
    "step = int((num_samples//2)/box_siz)\n",
    "num_distic_codes = step"
   ]
  },
  {
   "cell_type": "code",
   "execution_count": 125,
   "id": "7209e7ce-abf4-4edd-b0cf-45d86dd42fa1",
   "metadata": {},
   "outputs": [
    {
     "data": {
      "text/plain": [
       "16"
      ]
     },
     "execution_count": 125,
     "metadata": {},
     "output_type": "execute_result"
    }
   ],
   "source": [
    "step"
   ]
  },
  {
   "cell_type": "code",
   "execution_count": 126,
   "id": "08b316e3-dd60-47be-bfa2-5cd92af0db20",
   "metadata": {},
   "outputs": [
    {
     "data": {
      "text/plain": [
       "torch.Size([512, 6])"
      ]
     },
     "execution_count": 126,
     "metadata": {},
     "output_type": "execute_result"
    }
   ],
   "source": [
    "optim_code = torch.empty(code.shape)\n",
    "optim_code.shape"
   ]
  },
  {
   "cell_type": "code",
   "execution_count": null,
   "id": "06f64edc-f83d-4092-81dd-0488f125853b",
   "metadata": {},
   "outputs": [],
   "source": []
  },
  {
   "cell_type": "code",
   "execution_count": 127,
   "id": "5a598242-6585-4251-ac9e-8f24b8498110",
   "metadata": {},
   "outputs": [
    {
     "data": {
      "text/plain": [
       "tensor([[0.0000, 0.0000, 1.0000, 0.0000, 0.0625, 0.0625, 0.0625, 0.0625],\n",
       "        [0.0000, 0.0625, 1.0000, 0.0000, 0.0625, 0.0625, 0.0625, 0.0625],\n",
       "        [0.0000, 0.1250, 1.0000, 0.0000, 0.0625, 0.0625, 0.0625, 0.0625],\n",
       "        [0.0000, 0.1875, 1.0000, 0.0000, 0.0625, 0.0625, 0.0625, 0.0625],\n",
       "        [0.0000, 0.2500, 1.0000, 0.0000, 0.0625, 0.0625, 0.0625, 0.0625],\n",
       "        [0.0000, 0.3125, 1.0000, 0.0000, 0.0625, 0.0625, 0.0625, 0.0625]])"
      ]
     },
     "execution_count": 127,
     "metadata": {},
     "output_type": "execute_result"
    }
   ],
   "source": [
    "features[0:6]"
   ]
  },
  {
   "cell_type": "code",
   "execution_count": 128,
   "id": "946f3bd5-9297-4d90-9c9e-e31ce52a283f",
   "metadata": {},
   "outputs": [
    {
     "data": {
      "text/plain": [
       "16"
      ]
     },
     "execution_count": 128,
     "metadata": {},
     "output_type": "execute_result"
    }
   ],
   "source": [
    "step"
   ]
  },
  {
   "cell_type": "code",
   "execution_count": 129,
   "id": "ae4fcd3d-6531-4ab8-9e27-b356685f875a",
   "metadata": {},
   "outputs": [
    {
     "name": "stdout",
     "output_type": "stream",
     "text": [
      "before: tensor([1.0000, 0.0000, 0.0625, 0.0625, 0.0625, 0.0625])\n"
     ]
    },
    {
     "name": "stderr",
     "output_type": "stream",
     "text": [
      "<ipython-input-129-a7cedc42854b>:3: UserWarning: To copy construct from a tensor, it is recommended to use sourceTensor.clone().detach() or sourceTensor.clone().detach().requires_grad_(True), rather than torch.tensor(sourceTensor).\n",
      "  codee = torch.tensor(code [k])#, requires_grad=True)\n",
      "<ipython-input-129-a7cedc42854b>:10: UserWarning: To copy construct from a tensor, it is recommended to use sourceTensor.clone().detach() or sourceTensor.clone().detach().requires_grad_(True), rather than torch.tensor(sourceTensor).\n",
      "  xx = torch.tensor(features[i])\n",
      "<ipython-input-129-a7cedc42854b>:17: UserWarning: To copy construct from a tensor, it is recommended to use sourceTensor.clone().detach() or sourceTensor.clone().detach().requires_grad_(True), rather than torch.tensor(sourceTensor).\n",
      "  X = torch.tensor(x,\n",
      "/home/sobhan/miniconda3/envs/ml-dl/lib/python3.9/site-packages/torch/nn/modules/loss.py:530: UserWarning: Using a target size (torch.Size([])) that is different to the input size (torch.Size([1])). This will likely lead to incorrect results due to broadcasting. Please ensure they have the same size.\n",
      "  return F.mse_loss(input, target, reduction=self.reduction)\n",
      "<ipython-input-129-a7cedc42854b>:34: UserWarning: To copy construct from a tensor, it is recommended to use sourceTensor.clone().detach() or sourceTensor.clone().detach().requires_grad_(True), rather than torch.tensor(sourceTensor).\n",
      "  codee = torch.tensor(X[2:], requires_grad=True )\n"
     ]
    },
    {
     "name": "stdout",
     "output_type": "stream",
     "text": [
      "after: tensor([1.0102, 0.0400, 0.0547, 0.0546, 0.0509, 0.0582], requires_grad=True)\n",
      "========================================\n",
      "before: tensor([1.0000, 0.0000, 0.1250, 0.1250, 0.1250, 0.1250])\n",
      "after: tensor([1.0024, 0.0343, 0.1131, 0.1195, 0.1139, 0.1182], requires_grad=True)\n",
      "========================================\n",
      "before: tensor([1.0000, 0.0000, 0.1875, 0.1875, 0.1875, 0.1875])\n",
      "after: tensor([ 0.9765, -0.1231,  0.2706,  0.2507,  0.2440,  0.2543],\n",
      "       requires_grad=True)\n",
      "========================================\n",
      "before: tensor([1.0000, 0.0000, 0.2500, 0.2500, 0.2500, 0.2500])\n",
      "after: tensor([ 0.9763, -0.1227,  0.3334,  0.3114,  0.3061,  0.3162],\n",
      "       requires_grad=True)\n",
      "========================================\n",
      "before: tensor([1.0000, 0.0000, 0.3125, 0.3125, 0.3125, 0.3125])\n",
      "after: tensor([ 0.9773, -0.1229,  0.3949,  0.3741,  0.3683,  0.3793],\n",
      "       requires_grad=True)\n",
      "========================================\n",
      "before: tensor([1.0000, 0.0000, 0.3750, 0.3750, 0.3750, 0.3750])\n",
      "after: tensor([ 0.9779, -0.1201,  0.4539,  0.4371,  0.4304,  0.4399],\n",
      "       requires_grad=True)\n",
      "========================================\n",
      "before: tensor([1.0000, 0.0000, 0.4375, 0.4375, 0.4375, 0.4375])\n",
      "after: tensor([ 0.9781, -0.1203,  0.5143,  0.4980,  0.4922,  0.4978],\n",
      "       requires_grad=True)\n",
      "========================================\n",
      "before: tensor([1.0000, 0.0000, 0.5000, 0.5000, 0.5000, 0.5000])\n",
      "after: tensor([ 0.9795, -0.1149,  0.5766,  0.5591,  0.5506,  0.5603],\n",
      "       requires_grad=True)\n",
      "========================================\n",
      "before: tensor([1.0000, 0.0000, 0.5625, 0.5625, 0.5625, 0.5625])\n",
      "after: tensor([ 0.9803, -0.1148,  0.6369,  0.6186,  0.6124,  0.6203],\n",
      "       requires_grad=True)\n",
      "========================================\n",
      "before: tensor([1.0000, 0.0000, 0.6250, 0.6250, 0.6250, 0.6250])\n",
      "after: tensor([ 0.9805, -0.1114,  0.6954,  0.6776,  0.6744,  0.6797],\n",
      "       requires_grad=True)\n",
      "========================================\n",
      "before: tensor([1.0000, 0.0000, 0.6875, 0.6875, 0.6875, 0.6875])\n",
      "after: tensor([ 0.9833, -0.1125,  0.7548,  0.7352,  0.7342,  0.7377],\n",
      "       requires_grad=True)\n",
      "========================================\n",
      "before: tensor([1.0000, 0.0000, 0.7500, 0.7500, 0.7500, 0.7500])\n",
      "after: tensor([ 0.9847, -0.1115,  0.8149,  0.7953,  0.7945,  0.7967],\n",
      "       requires_grad=True)\n",
      "========================================\n",
      "before: tensor([1.0000, 0.0000, 0.8125, 0.8125, 0.8125, 0.8125])\n",
      "after: tensor([ 0.9851, -0.1189,  0.8785,  0.8539,  0.8589,  0.8586],\n",
      "       requires_grad=True)\n",
      "========================================\n",
      "before: tensor([1.0000, 0.0000, 0.8750, 0.8750, 0.8750, 0.8750])\n",
      "after: tensor([ 0.9845, -0.1158,  0.9368,  0.9146,  0.9198,  0.9184],\n",
      "       requires_grad=True)\n",
      "========================================\n",
      "before: tensor([1.0000, 0.0000, 0.9375, 0.9375, 0.9375, 0.9375])\n",
      "after: tensor([ 0.9810, -0.1127,  1.0019,  0.9719,  0.9813,  0.9830],\n",
      "       requires_grad=True)\n",
      "========================================\n",
      "before: tensor([1., 0., 1., 1., 1., 1.])\n",
      "after: tensor([ 0.9783, -0.1145,  1.0630,  1.0329,  1.0460,  1.0423],\n",
      "       requires_grad=True)\n",
      "========================================\n",
      "before: tensor([0.0000, 1.0000, 0.0625, 0.0625, 0.0625, 0.0625])\n",
      "after: tensor([0.0892, 1.0115, 0.1005, 0.0598, 0.0827, 0.0742], requires_grad=True)\n",
      "========================================\n",
      "before: tensor([0.0000, 1.0000, 0.1250, 0.1250, 0.1250, 0.1250])\n",
      "after: tensor([0.0882, 0.9892, 0.0891, 0.1303, 0.0999, 0.0800], requires_grad=True)\n",
      "========================================\n",
      "before: tensor([0.0000, 1.0000, 0.1875, 0.1875, 0.1875, 0.1875])\n",
      "after: tensor([-0.0983,  1.0021,  0.1869,  0.1822,  0.1872,  0.2074],\n",
      "       requires_grad=True)\n",
      "========================================\n",
      "before: tensor([0.0000, 1.0000, 0.2500, 0.2500, 0.2500, 0.2500])\n",
      "after: tensor([-0.0926,  1.0015,  0.2467,  0.2467,  0.2484,  0.2651],\n",
      "       requires_grad=True)\n",
      "========================================\n",
      "before: tensor([0.0000, 1.0000, 0.3125, 0.3125, 0.3125, 0.3125])\n",
      "after: tensor([-0.0811,  0.9998,  0.3058,  0.3106,  0.3093,  0.3226],\n",
      "       requires_grad=True)\n",
      "========================================\n",
      "before: tensor([0.0000, 1.0000, 0.3750, 0.3750, 0.3750, 0.3750])\n",
      "after: tensor([-0.0807,  1.0013,  0.3716,  0.3728,  0.3735,  0.3870],\n",
      "       requires_grad=True)\n",
      "========================================\n",
      "before: tensor([0.0000, 1.0000, 0.4375, 0.4375, 0.4375, 0.4375])\n",
      "after: tensor([-0.0725,  1.0011,  0.4265,  0.4348,  0.4288,  0.4412],\n",
      "       requires_grad=True)\n",
      "========================================\n",
      "before: tensor([0.0000, 1.0000, 0.5000, 0.5000, 0.5000, 0.5000])\n",
      "after: tensor([-0.0741,  1.0035,  0.4888,  0.4944,  0.4880,  0.5040],\n",
      "       requires_grad=True)\n",
      "========================================\n",
      "before: tensor([0.0000, 1.0000, 0.5625, 0.5625, 0.5625, 0.5625])\n",
      "after: tensor([-0.0797,  1.0109,  0.5651,  0.5544,  0.5564,  0.5756],\n",
      "       requires_grad=True)\n",
      "========================================\n",
      "before: tensor([0.0000, 1.0000, 0.6250, 0.6250, 0.6250, 0.6250])\n",
      "after: tensor([-0.0850,  1.0080,  0.6172,  0.6172,  0.6123,  0.6317],\n",
      "       requires_grad=True)\n",
      "========================================\n",
      "before: tensor([0.0000, 1.0000, 0.6875, 0.6875, 0.6875, 0.6875])\n",
      "after: tensor([-0.0891,  1.0128,  0.6893,  0.6787,  0.6795,  0.7002],\n",
      "       requires_grad=True)\n",
      "========================================\n",
      "before: tensor([0.0000, 1.0000, 0.7500, 0.7500, 0.7500, 0.7500])\n",
      "after: tensor([-0.0912,  1.0156,  0.7577,  0.7393,  0.7443,  0.7677],\n",
      "       requires_grad=True)\n",
      "========================================\n",
      "before: tensor([0.0000, 1.0000, 0.8125, 0.8125, 0.8125, 0.8125])\n",
      "after: tensor([-0.0976,  1.0149,  0.8165,  0.8017,  0.8043,  0.8285],\n",
      "       requires_grad=True)\n",
      "========================================\n",
      "before: tensor([0.0000, 1.0000, 0.8750, 0.8750, 0.8750, 0.8750])\n",
      "after: tensor([-0.1037,  1.0145,  0.8759,  0.8643,  0.8647,  0.8895],\n",
      "       requires_grad=True)\n",
      "========================================\n",
      "before: tensor([0.0000, 1.0000, 0.9375, 0.9375, 0.9375, 0.9375])\n",
      "after: tensor([-0.1045,  1.0175,  0.9456,  0.9248,  0.9303,  0.9578],\n",
      "       requires_grad=True)\n",
      "========================================\n",
      "before: tensor([0., 1., 1., 1., 1., 1.])\n",
      "after: tensor([-0.0843,  1.0306,  1.0454,  0.9831,  1.0135,  1.0434],\n",
      "       requires_grad=True)\n",
      "========================================\n",
      "Finish!!\n"
     ]
    }
   ],
   "source": [
    "for k in range(0, num_samples, step):\n",
    "    # for each code\n",
    "    codee = torch.tensor(code [k])#, requires_grad=True)      \n",
    "    print('before:', codee)\n",
    "    for epoch in range(100):\n",
    "        overall_loss = 0\n",
    "        # int((num_samples//2)/box_siz)\n",
    "        for i in range(k, k+step):\n",
    "            optimizer.zero_grad()\n",
    "            xx = torch.tensor(features[i])\n",
    "            x = xx.clone()\n",
    "            # print(x.shape, codee.shape)\n",
    "            # X = torch.cat((x, codee), axis=0)\n",
    "            # X = torch.cat((features[i], codee))\n",
    "            # X = torch.tensor(features[i], requires_grad=True)\n",
    "            x[2:] = codee\n",
    "            X = torch.tensor(x, \n",
    "                             requires_grad=True )\n",
    "            # X = torch.tensor([x[0], x[1], codee[0], codee[1]], requires_grad=True )\n",
    "            # print(features[i])\n",
    "            # print(X.shape)\n",
    "            # features[i].requires_grad = True\n",
    "            y_hat = model(X.float()).float()\n",
    "            l = loss(y_hat, labels[i].float())\n",
    "            # print(l)\n",
    "            overall_loss += l.item()\n",
    "            l.backward()\n",
    "            # print('x grad=',X.grad)\n",
    "            # optimizer.step()\n",
    "            # print(X.grad)\n",
    "            # print(X)\n",
    "            X = X -X.grad*0.02/100\n",
    "            # print(X-features[i])\n",
    "            codee = torch.tensor(X[2:], requires_grad=True )\n",
    "\n",
    "            # print(features[i])\n",
    "            # codee = torch.tensor([X[2], x[3]], requires_grad=True)\n",
    "            # codee = X[2:3] # only one\n",
    "            # print('*'*100)\n",
    "        # print(\"\\tEpoch\", epoch + 1, \"complete!\", \"\\tAverage Loss: \", overall_loss / (batch_idx*batch_size))\n",
    "        # print(overall_loss)\n",
    "    print('after:', codee)\n",
    "    print('='*40)\n",
    "    optim_code[k:k+step] = codee\n",
    "print(\"Finish!!\")"
   ]
  },
  {
   "cell_type": "code",
   "execution_count": null,
   "id": "cc031255-714a-4996-bd01-816bcb401488",
   "metadata": {},
   "outputs": [],
   "source": []
  },
  {
   "cell_type": "code",
   "execution_count": 130,
   "id": "f53dd1e4-0cb3-454a-82a0-35c7dd3f2fab",
   "metadata": {},
   "outputs": [
    {
     "data": {
      "image/png": "[encoded data removed]",
      "text/plain": [
       "<Figure size 432x288 with 6 Axes>"
      ]
     },
     "metadata": {
      "needs_background": "light"
     },
     "output_type": "display_data"
    }
   ],
   "source": [
    "from matplotlib import pyplot\n",
    "dif = code.detach().numpy()\n",
    "fig, axs = plt.subplots(1, code.shape[1], sharey=True, tight_layout=True)\n",
    "# We can set the number of bins with the *bins* keyword argument.\n",
    "for idx in range(code.shape[1]):\n",
    "    # _ = axs[0].hist(dif[:,0], bins=30)\n",
    "    _ = axs[idx].hist(dif[:,idx], bins=num_distic_codes*2)"
   ]
  },
  {
   "cell_type": "code",
   "execution_count": 131,
   "id": "86e7a42b-3e6d-4134-adf7-8c30399731e6",
   "metadata": {},
   "outputs": [
    {
     "data": {
      "image/png": "[encoded data removed]",
      "text/plain": [
       "<Figure size 432x288 with 6 Axes>"
      ]
     },
     "metadata": {
      "needs_background": "light"
     },
     "output_type": "display_data"
    },
    {
     "data": {
      "text/plain": [
       "<Figure size 1080x864 with 0 Axes>"
      ]
     },
     "metadata": {},
     "output_type": "display_data"
    }
   ],
   "source": [
    "from matplotlib import pyplot\n",
    "dif = optim_code.detach().numpy()\n",
    "fig, axs = plt.subplots(1, optim_code.shape[1], sharey=True, tight_layout=True)\n",
    "plt.figure(figsize=(15, 12))\n",
    "for idx in range(optim_code.shape[1]):\n",
    "    # _ = axs[0].hist(dif[:,0], bins=30)\n",
    "    _ = axs[idx].hist(dif[:,idx], bins=num_distic_codes*2)"
   ]
  },
  {
   "cell_type": "code",
   "execution_count": null,
   "id": "0c17361f-b445-43d8-8bea-e01422612d33",
   "metadata": {},
   "outputs": [],
   "source": []
  },
  {
   "cell_type": "code",
   "execution_count": 132,
   "id": "59cf0e5c-993c-43b9-b9f9-808dd2fe9689",
   "metadata": {},
   "outputs": [
    {
     "data": {
      "text/plain": [
       "torch.return_types.min(\n",
       "values=tensor([-0.1045, -0.1231,  0.0547,  0.0546,  0.0509,  0.0582],\n",
       "       grad_fn=<MinBackward0>),\n",
       "indices=tensor([480,  32,   0,   0,   0,   0]))"
      ]
     },
     "execution_count": 132,
     "metadata": {},
     "output_type": "execute_result"
    }
   ],
   "source": [
    "torch.min(optim_code, axis=0)"
   ]
  },
  {
   "cell_type": "code",
   "execution_count": 133,
   "id": "931ce7bc-e8c6-46b1-bd60-4adbd5ae66f0",
   "metadata": {},
   "outputs": [],
   "source": [
    "opt_min, _ = optim_code.min(axis=0)\n",
    "opt_max, _ = optim_code.max(axis=0)"
   ]
  },
  {
   "cell_type": "code",
   "execution_count": 134,
   "id": "05f91c47-c559-48a3-8254-1427bbf1279a",
   "metadata": {},
   "outputs": [
    {
     "data": {
      "text/plain": [
       "(tensor([-0.1045, -0.1231,  0.0547,  0.0546,  0.0509,  0.0582],\n",
       "        grad_fn=<MinBackward0>),\n",
       " tensor([1.0102, 1.0306, 1.0630, 1.0329, 1.0460, 1.0434],\n",
       "        grad_fn=<MaxBackward0>))"
      ]
     },
     "execution_count": 134,
     "metadata": {},
     "output_type": "execute_result"
    }
   ],
   "source": [
    "opt_min, opt_max"
   ]
  },
  {
   "cell_type": "code",
   "execution_count": 135,
   "id": "7e55acf3-1ab6-4bf1-a1f6-bb92bd8b15ba",
   "metadata": {},
   "outputs": [
    {
     "data": {
      "text/plain": [
       "(torch.Size([512, 6]), torch.Size([512, 6]))"
      ]
     },
     "execution_count": 135,
     "metadata": {},
     "output_type": "execute_result"
    }
   ],
   "source": [
    "code.shape, optim_code.shape"
   ]
  },
  {
   "cell_type": "code",
   "execution_count": null,
   "id": "c1b72c59",
   "metadata": {},
   "outputs": [],
   "source": []
  },
  {
   "cell_type": "code",
   "execution_count": null,
   "id": "98f9c797",
   "metadata": {},
   "outputs": [],
   "source": []
  },
  {
   "cell_type": "code",
   "execution_count": null,
   "id": "28878f42-8367-4df9-b980-54ccaea6f94a",
   "metadata": {},
   "outputs": [],
   "source": []
  },
  {
   "cell_type": "code",
   "execution_count": null,
   "id": "e9421e15",
   "metadata": {},
   "outputs": [],
   "source": []
  },
  {
   "cell_type": "code",
   "execution_count": null,
   "id": "e84ebb3e",
   "metadata": {},
   "outputs": [],
   "source": []
  },
  {
   "cell_type": "code",
   "execution_count": null,
   "id": "7f1770dc",
   "metadata": {},
   "outputs": [],
   "source": []
  },
  {
   "cell_type": "code",
   "execution_count": null,
   "id": "db1aa426-88eb-4ed8-bb9e-bcef96a90393",
   "metadata": {},
   "outputs": [],
   "source": []
  },
  {
   "cell_type": "code",
   "execution_count": null,
   "id": "2fabd3dc-3965-4692-b6a2-67ed16861da5",
   "metadata": {},
   "outputs": [],
   "source": []
  },
  {
   "cell_type": "code",
   "execution_count": 136,
   "id": "7da2eccf-8cec-4694-a724-6c1ec322b0fd",
   "metadata": {},
   "outputs": [
    {
     "data": {
      "text/plain": [
       "32"
      ]
     },
     "execution_count": 136,
     "metadata": {},
     "output_type": "execute_result"
    }
   ],
   "source": [
    "num_samples//step"
   ]
  },
  {
   "cell_type": "code",
   "execution_count": 137,
   "id": "1bc1e657-6d83-4253-a5e1-6c51b436108f",
   "metadata": {},
   "outputs": [],
   "source": [
    "def generate_sample(model, code, size=(8 , 8)):\n",
    "    count = 0\n",
    "    if isinstance(code, np.ndarray):\n",
    "        raise TypeError(\"This should of type tensor. Not np.ndarray!\")\n",
    "    if isinstance(code, list):\n",
    "        code = torch.tensor(code)\n",
    "    if code.ndim==1:\n",
    "        code = code.reshape(1,-1)\n",
    "    sample = torch.empty((code.shape[0], size[0] , size[1]))\n",
    "\n",
    "    test_sample = torch.zeros((size[0] , size[1]))\n",
    " \n",
    "    print(code.shape)\n",
    "        \n",
    "    for c in code:\n",
    "\n",
    "        for i in range(size[0]):\n",
    "            for j in range(size[1]):\n",
    "                point_loc= torch.tensor([i/size[0], j/size[1]])\n",
    "                test_sample [i,j] = model(torch.cat((point_loc, c)))\n",
    "\n",
    "    \n",
    "        sample[count] = test_sample#.flatten()\n",
    "        count += 1\n",
    "    return sample    "
   ]
  },
  {
   "cell_type": "code",
   "execution_count": 138,
   "id": "fa86d665-a1e0-42f7-b5f3-548ee46ccfef",
   "metadata": {},
   "outputs": [
    {
     "data": {
      "text/plain": [
       "tensor([1, 2, 2, 3])"
      ]
     },
     "execution_count": 138,
     "metadata": {},
     "output_type": "execute_result"
    }
   ],
   "source": [
    "torch.tensor([1,2,2,3])"
   ]
  },
  {
   "cell_type": "code",
   "execution_count": null,
   "id": "bbe541e1-0d96-4a97-a2d4-d355b8ae23f6",
   "metadata": {},
   "outputs": [],
   "source": []
  },
  {
   "cell_type": "code",
   "execution_count": 139,
   "id": "093609d5-b4c3-4c0b-8e6c-bd97e8f20a27",
   "metadata": {},
   "outputs": [
    {
     "data": {
      "text/plain": [
       "torch.Size([6])"
      ]
     },
     "execution_count": 139,
     "metadata": {},
     "output_type": "execute_result"
    }
   ],
   "source": [
    "code[0].shape"
   ]
  },
  {
   "cell_type": "code",
   "execution_count": 140,
   "id": "9041c814-0dff-4b47-b136-0609b6d2f461",
   "metadata": {},
   "outputs": [
    {
     "name": "stdout",
     "output_type": "stream",
     "text": [
      "torch.Size([1, 6])\n"
     ]
    },
    {
     "data": {
      "image/png": "[encoded data removed]",
      "text/plain": [
       "<Figure size 1080x864 with 1 Axes>"
      ]
     },
     "metadata": {
      "needs_background": "light"
     },
     "output_type": "display_data"
    }
   ],
   "source": [
    "n_samples = generate_sample(model=model, \n",
    "                            code=code[0], \n",
    "                            size=(box_siz , box_siz))\n",
    "visualize_mat(n_samples, num_col=8)"
   ]
  },
  {
   "cell_type": "code",
   "execution_count": 141,
   "id": "b154f6cd-d3e4-44e4-a747-35ba94cb724f",
   "metadata": {},
   "outputs": [
    {
     "name": "stdout",
     "output_type": "stream",
     "text": [
      "torch.Size([32, 6])\n"
     ]
    },
    {
     "data": {
      "image/png": "[encoded data removed]",
      "text/plain": [
       "<Figure size 1080x864 with 32 Axes>"
      ]
     },
     "metadata": {
      "needs_background": "light"
     },
     "output_type": "display_data"
    }
   ],
   "source": [
    "# fancy indexing. For all different possible codes (not repeated).\n",
    "c = code[range(0, num_samples, step)]\n",
    "\n",
    "n_samples = generate_sample(model=model, \n",
    "                            code=c, \n",
    "                            size=(box_siz , box_siz))\n",
    "visualize_mat(n_samples, num_col=8, label_text='d')"
   ]
  },
  {
   "cell_type": "code",
   "execution_count": 142,
   "id": "38b6d32c-41b4-4690-a6b0-b2670748e754",
   "metadata": {},
   "outputs": [
    {
     "name": "stdout",
     "output_type": "stream",
     "text": [
      "torch.Size([32, 6])\n"
     ]
    },
    {
     "data": {
      "image/png": "[encoded data removed]",
      "text/plain": [
       "<Figure size 1080x864 with 32 Axes>"
      ]
     },
     "metadata": {
      "needs_background": "light"
     },
     "output_type": "display_data"
    }
   ],
   "source": [
    "c = optim_code[range(0, num_samples, step)]\n",
    "n_samples = generate_sample(model=model, \n",
    "                            code=c,\n",
    "                            size=(box_siz , box_siz))\n",
    "visualize_mat(n_samples, num_col=8)"
   ]
  },
  {
   "cell_type": "code",
   "execution_count": null,
   "id": "f01e51ee-14ce-4de8-9bc8-5089a382ae6e",
   "metadata": {},
   "outputs": [],
   "source": [
    "\n"
   ]
  },
  {
   "cell_type": "code",
   "execution_count": null,
   "id": "50f11f97-6049-414c-8056-19defd17cfca",
   "metadata": {},
   "outputs": [],
   "source": []
  },
  {
   "cell_type": "code",
   "execution_count": null,
   "id": "200bf0f5",
   "metadata": {},
   "outputs": [],
   "source": []
  },
  {
   "cell_type": "code",
   "execution_count": null,
   "id": "d1f9f8f8-1d3d-44d3-8c38-e2d082120b1c",
   "metadata": {},
   "outputs": [],
   "source": []
  },
  {
   "cell_type": "code",
   "execution_count": null,
   "id": "22a4793f",
   "metadata": {},
   "outputs": [],
   "source": []
  },
  {
   "cell_type": "code",
   "execution_count": null,
   "id": "38612736",
   "metadata": {},
   "outputs": [],
   "source": []
  },
  {
   "cell_type": "code",
   "execution_count": null,
   "id": "1cbeee42",
   "metadata": {},
   "outputs": [],
   "source": []
  },
  {
   "cell_type": "code",
   "execution_count": null,
   "id": "3ce86a97",
   "metadata": {},
   "outputs": [],
   "source": []
  },
  {
   "cell_type": "code",
   "execution_count": null,
   "id": "adf859f4",
   "metadata": {},
   "outputs": [],
   "source": []
  },
  {
   "cell_type": "code",
   "execution_count": null,
   "id": "adea12a5",
   "metadata": {},
   "outputs": [],
   "source": []
  },
  {
   "cell_type": "code",
   "execution_count": null,
   "id": "70caae38",
   "metadata": {},
   "outputs": [],
   "source": []
  },
  {
   "cell_type": "code",
   "execution_count": null,
   "id": "bf579d79",
   "metadata": {},
   "outputs": [],
   "source": []
  },
  {
   "cell_type": "code",
   "execution_count": 143,
   "id": "02530fcd",
   "metadata": {},
   "outputs": [],
   "source": [
    "from __future__ import print_function\n",
    "from ipywidgets import interact, interactive, fixed, interact_manual\n",
    "import ipywidgets as widgets\n",
    "\n"
   ]
  },
  {
   "cell_type": "code",
   "execution_count": 144,
   "id": "ceb9f8b2",
   "metadata": {},
   "outputs": [],
   "source": [
    "size = (box_siz, box_siz)"
   ]
  },
  {
   "cell_type": "code",
   "execution_count": 145,
   "id": "184e89fb",
   "metadata": {},
   "outputs": [],
   "source": [
    "def f(**code):\n",
    "\n",
    "    c = torch.tensor([value for value in code.values()])\n",
    "    test_sample = torch.zeros((size[0], size[1]))\n",
    "    for i in range(box_siz):\n",
    "        for j in range(box_siz):\n",
    "            # with code\n",
    "            point_loc= torch.tensor([i/size[0], j/size[1]])\n",
    "            test_sample [i,j] = model(torch.cat((point_loc, c)))\n",
    "            \n",
    "\n",
    "            \n",
    "    plt.subplot(211)\n",
    "    plt.imshow(test_sample.detach().numpy(), cmap='Greys')\n",
    "    # return np.sin(x)\n",
    "\n"
   ]
  },
  {
   "cell_type": "code",
   "execution_count": 146,
   "id": "0a351675-918f-4742-8127-c77ac8088fc1",
   "metadata": {},
   "outputs": [],
   "source": [
    "inter_code = {\n",
    "        'code1':(0.0, 1.0, 0.001), \n",
    "        'code2':(0.0, 1.0, 0.001), \n",
    "        'code3':(0.0, 1.0, 0.001),\n",
    "        'code4':(0.0, 1.0, 0.001),\n",
    "        'code5':(0.0, 1.0, 0.001),\n",
    "        'code6':(0.0, 1.0, 0.001)\n",
    "}"
   ]
  },
  {
   "cell_type": "code",
   "execution_count": 147,
   "id": "be40769c",
   "metadata": {},
   "outputs": [
    {
     "data": {
      "application/vnd.jupyter.widget-view+json": {
       "model_id": "a40511ef9a424d5497c56eaf1284cc18",
       "version_major": 2,
       "version_minor": 0
      },
      "text/plain": [
       "interactive(children=(FloatSlider(value=0.5, description='code1', max=1.0, step=0.001), FloatSlider(value=0.5,…"
      ]
     },
     "metadata": {},
     "output_type": "display_data"
    }
   ],
   "source": [
    "\n",
    "interact(f, **inter_code);\n",
    "\n"
   ]
  },
  {
   "cell_type": "code",
   "execution_count": null,
   "id": "7ee8f64d-a608-4dba-bc94-d92d4b0d1169",
   "metadata": {},
   "outputs": [],
   "source": []
  },
  {
   "cell_type": "markdown",
   "id": "434c7f65-23d2-4799-a6fb-628387acfff0",
   "metadata": {},
   "source": [
    "# Comments"
   ]
  },
  {
   "cell_type": "code",
   "execution_count": 148,
   "id": "64698223-1c60-4a5b-b4ee-69f05488ed6d",
   "metadata": {},
   "outputs": [],
   "source": [
    "# one hot for coding the main class is alot better experimentally."
   ]
  },
  {
   "cell_type": "code",
   "execution_count": null,
   "id": "cd8905c2-9d8b-4d2e-95b9-f268c5193500",
   "metadata": {},
   "outputs": [],
   "source": []
  }
 ],
 "metadata": {
  "kernelspec": {
   "display_name": "Python 3",
   "language": "python",
   "name": "python3"
  },
  "language_info": {
   "codemirror_mode": {
    "name": "ipython",
    "version": 3
   },
   "file_extension": ".py",
   "mimetype": "text/x-python",
   "name": "python",
   "nbconvert_exporter": "python",
   "pygments_lexer": "ipython3",
   "version": "3.9.12"
  }
 },
 "nbformat": 4,
 "nbformat_minor": 5
}
