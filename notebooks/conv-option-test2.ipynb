{
 "cells": [
  {
   "cell_type": "code",
   "execution_count": null,
   "id": "cbcc5ec6",
   "metadata": {},
   "outputs": [],
   "source": []
  },
  {
   "cell_type": "code",
   "execution_count": 9,
   "id": "9dd6d8b6",
   "metadata": {},
   "outputs": [],
   "source": [
    "import torch"
   ]
  },
  {
   "cell_type": "code",
   "execution_count": null,
   "id": "6e37a403",
   "metadata": {},
   "outputs": [],
   "source": []
  },
  {
   "cell_type": "code",
   "execution_count": 39,
   "id": "2c708432",
   "metadata": {},
   "outputs": [],
   "source": [
    "img  = torch.rand((1, 3, 4,4,4))"
   ]
  },
  {
   "cell_type": "code",
   "execution_count": null,
   "id": "ae89ffd1",
   "metadata": {},
   "outputs": [],
   "source": []
  },
  {
   "cell_type": "code",
   "execution_count": 40,
   "id": "5fb873ba",
   "metadata": {},
   "outputs": [],
   "source": [
    "conv_layer = torch.nn.Conv3d(in_channels=3, out_channels=1, kernel_size=(3,3,3), padding=1, stride=1)"
   ]
  },
  {
   "cell_type": "code",
   "execution_count": 41,
   "id": "e64fc0b0",
   "metadata": {},
   "outputs": [
    {
     "data": {
      "text/plain": [
       "torch.Size([1, 1, 4, 4, 4])"
      ]
     },
     "execution_count": 41,
     "metadata": {},
     "output_type": "execute_result"
    }
   ],
   "source": [
    "conv_layer(img).shape"
   ]
  },
  {
   "cell_type": "code",
   "execution_count": null,
   "id": "10c480d4",
   "metadata": {},
   "outputs": [],
   "source": []
  },
  {
   "cell_type": "code",
   "execution_count": 42,
   "id": "925c35c8",
   "metadata": {},
   "outputs": [],
   "source": [
    "max_pool_layer = torch.nn.MaxPool3d(kernel_size=(2,2,2), padding=1, stride=2)"
   ]
  },
  {
   "cell_type": "code",
   "execution_count": 43,
   "id": "7293ad1a",
   "metadata": {},
   "outputs": [
    {
     "data": {
      "text/plain": [
       "torch.Size([1, 3, 3, 3, 3])"
      ]
     },
     "execution_count": 43,
     "metadata": {},
     "output_type": "execute_result"
    }
   ],
   "source": [
    "max_pool_layer(img).shape"
   ]
  },
  {
   "cell_type": "code",
   "execution_count": null,
   "id": "2e055452",
   "metadata": {},
   "outputs": [],
   "source": []
  }
 ],
 "metadata": {
  "kernelspec": {
   "display_name": "Python 3 (ipykernel)",
   "language": "python",
   "name": "python3"
  },
  "language_info": {
   "codemirror_mode": {
    "name": "ipython",
    "version": 3
   },
   "file_extension": ".py",
   "mimetype": "text/x-python",
   "name": "python",
   "nbconvert_exporter": "python",
   "pygments_lexer": "ipython3",
   "version": "3.9.12"
  }
 },
 "nbformat": 4,
 "nbformat_minor": 5
}
