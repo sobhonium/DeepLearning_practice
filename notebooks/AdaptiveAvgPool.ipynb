{
 "cells": [
  {
   "cell_type": "code",
   "execution_count": 1,
   "id": "881fd96a",
   "metadata": {},
   "outputs": [],
   "source": [
    "# May 2023\n",
    "# AdaptiveAvgPool2d is explained"
   ]
  },
  {
   "cell_type": "code",
   "execution_count": 3,
   "id": "83d83da6",
   "metadata": {},
   "outputs": [],
   "source": [
    "import torch\n",
    "import torch.nn as nn"
   ]
  },
  {
   "cell_type": "raw",
   "id": "d6731304",
   "metadata": {},
   "source": [
    "The output is of size H x W, for any input size. The number of output features is equal to the number of input planes."
   ]
  },
  {
   "cell_type": "code",
   "execution_count": 4,
   "id": "10426b11",
   "metadata": {},
   "outputs": [],
   "source": [
    "img = torch.randn(10, 64, 8, 9)"
   ]
  },
  {
   "cell_type": "code",
   "execution_count": 5,
   "id": "e022f8b3",
   "metadata": {},
   "outputs": [],
   "source": [
    "m = nn.AdaptiveAvgPool2d((5, 7))\n",
    "output = m(img)"
   ]
  },
  {
   "cell_type": "code",
   "execution_count": 6,
   "id": "a8f7c747",
   "metadata": {},
   "outputs": [
    {
     "data": {
      "text/plain": [
       "(torch.Size([10, 64, 8, 9]), torch.Size([10, 64, 5, 7]))"
      ]
     },
     "execution_count": 6,
     "metadata": {},
     "output_type": "execute_result"
    }
   ],
   "source": [
    "img.shape, output.shape"
   ]
  },
  {
   "cell_type": "code",
   "execution_count": 7,
   "id": "bd6bcae2",
   "metadata": {},
   "outputs": [],
   "source": [
    "# it's a very important feature to get involved with when training or evaluating\n",
    "# other methods (before trainig) are used like torchvision.transforms.resize()\n",
    "# but this one is for traing and evaluaing. A really brilliant idea."
   ]
  },
  {
   "cell_type": "code",
   "execution_count": 8,
   "id": "5f3fd292",
   "metadata": {},
   "outputs": [],
   "source": [
    "# Efficient_b0 model is using this technique"
   ]
  },
  {
   "cell_type": "code",
   "execution_count": null,
   "id": "5a31ac00",
   "metadata": {},
   "outputs": [],
   "source": []
  },
  {
   "cell_type": "code",
   "execution_count": null,
   "id": "9655771f",
   "metadata": {},
   "outputs": [],
   "source": [
    "img = "
   ]
  }
 ],
 "metadata": {
  "kernelspec": {
   "display_name": "Python 3 (ipykernel)",
   "language": "python",
   "name": "python3"
  },
  "language_info": {
   "codemirror_mode": {
    "name": "ipython",
    "version": 3
   },
   "file_extension": ".py",
   "mimetype": "text/x-python",
   "name": "python",
   "nbconvert_exporter": "python",
   "pygments_lexer": "ipython3",
   "version": "3.10.11"
  }
 },
 "nbformat": 4,
 "nbformat_minor": 5
}
