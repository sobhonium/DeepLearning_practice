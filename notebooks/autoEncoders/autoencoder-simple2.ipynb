{
 "cells": [
  {
   "cell_type": "code",
   "execution_count": 1,
   "id": "6d76749c",
   "metadata": {},
   "outputs": [],
   "source": [
    "# Understanding autoencoders via a simple example"
   ]
  },
  {
   "cell_type": "code",
   "execution_count": null,
   "id": "1fc61f75",
   "metadata": {},
   "outputs": [],
   "source": []
  },
  {
   "cell_type": "markdown",
   "id": "d7df0b9a",
   "metadata": {},
   "source": [
    "## generate the same dataset"
   ]
  },
  {
   "cell_type": "code",
   "execution_count": 41,
   "id": "9e07250f",
   "metadata": {},
   "outputs": [],
   "source": [
    "import numpy as np\n",
    "import torch\n",
    "from torch.utils import data\n",
    "from d2l import torch as d2l\n"
   ]
  },
  {
   "cell_type": "code",
   "execution_count": 42,
   "id": "a3d15117",
   "metadata": {},
   "outputs": [],
   "source": [
    "# I feel that there should be a relationship between columns in dataset.  not just random. Let's see if I'm right?\n",
    "## Comment: after figuring this in my mind, I realized it is always true to have a realtionship between features\n",
    "## in simple words, yeah they must have a relationship...!"
   ]
  },
  {
   "cell_type": "code",
   "execution_count": 43,
   "id": "2f028793",
   "metadata": {},
   "outputs": [],
   "source": [
    "first_col_random = torch.rand(10,1) # producing a random column\n",
    "features = torch.cat((first_col_random, 2*first_col_random), 1) # that is how a relationship between cols \n",
    "# are introduced here in my example."
   ]
  },
  {
   "cell_type": "code",
   "execution_count": 44,
   "id": "2bafac6e",
   "metadata": {},
   "outputs": [],
   "source": [
    "# now, I want to have more columns. each colmn is multiplied from first column\n",
    "first_col_random = torch.rand(1000,1) \n",
    "features = first_col_random # initial values for the fist col\n",
    "for i in range(2,5):\n",
    "    features = torch.cat((features, i*first_col_random), 1) # creation of other colmn"
   ]
  },
  {
   "cell_type": "code",
   "execution_count": null,
   "id": "9a0ff1cb",
   "metadata": {},
   "outputs": [],
   "source": []
  },
  {
   "cell_type": "code",
   "execution_count": 45,
   "id": "364fdf9c",
   "metadata": {},
   "outputs": [
    {
     "data": {
      "text/plain": [
       "tensor([[0.8258, 1.6516, 2.4774, 3.3032],\n",
       "        [0.0995, 0.1989, 0.2984, 0.3978],\n",
       "        [0.3325, 0.6649, 0.9974, 1.3299],\n",
       "        ...,\n",
       "        [0.8316, 1.6632, 2.4947, 3.3263],\n",
       "        [0.0720, 0.1440, 0.2160, 0.2880],\n",
       "        [0.7045, 1.4091, 2.1136, 2.8181]])"
      ]
     },
     "execution_count": 45,
     "metadata": {},
     "output_type": "execute_result"
    }
   ],
   "source": [
    "# see? they are multipied from the first col\n",
    "features"
   ]
  },
  {
   "cell_type": "code",
   "execution_count": 46,
   "id": "3d8ca338",
   "metadata": {},
   "outputs": [],
   "source": [
    "# first_col_random"
   ]
  },
  {
   "cell_type": "code",
   "execution_count": 53,
   "id": "f7fedbe2",
   "metadata": {},
   "outputs": [],
   "source": [
    "from matplotlib.pyplot import plot as plt"
   ]
  },
  {
   "cell_type": "code",
   "execution_count": 54,
   "id": "75a29bc2",
   "metadata": {},
   "outputs": [
    {
     "ename": "AttributeError",
     "evalue": "'function' object has no attribute 'imshow'",
     "output_type": "error",
     "traceback": [
      "\u001b[0;31m---------------------------------------------------------------------------\u001b[0m",
      "\u001b[0;31mAttributeError\u001b[0m                            Traceback (most recent call last)",
      "Input \u001b[0;32mIn [54]\u001b[0m, in \u001b[0;36m<cell line: 1>\u001b[0;34m()\u001b[0m\n\u001b[0;32m----> 1\u001b[0m \u001b[43mplt\u001b[49m\u001b[38;5;241;43m.\u001b[39;49m\u001b[43mimshow\u001b[49m(features)\n",
      "\u001b[0;31mAttributeError\u001b[0m: 'function' object has no attribute 'imshow'"
     ]
    }
   ],
   "source": [
    "plt.imshow(features)"
   ]
  },
  {
   "cell_type": "code",
   "execution_count": 47,
   "id": "a2845a55",
   "metadata": {},
   "outputs": [],
   "source": [
    "# in auto encoder we want a reperesentation of our data. The best representation here is the one\n",
    "# shows that colmns are multiplied from the first one (abvious). But this one seems like to be \n",
    "# an unsupervised learning. But no. Let's think differently. We want a representation x_ of our data x\n",
    "# so, I guess now it is a supervised learning. We only need to define ground truth as y = x and\n",
    "# come up with wieghts and biases (through training) to best fit this.\n",
    "\n",
    "# based on the explanation above, let's figure this out:\n",
    "labels = features"
   ]
  },
  {
   "cell_type": "code",
   "execution_count": 48,
   "id": "100f8b5d",
   "metadata": {},
   "outputs": [
    {
     "data": {
      "text/plain": [
       "(torch.Size([1000, 4]), torch.Size([1000, 4]))"
      ]
     },
     "execution_count": 48,
     "metadata": {},
     "output_type": "execute_result"
    }
   ],
   "source": [
    "features.shape, labels.shape"
   ]
  },
  {
   "cell_type": "code",
   "execution_count": 49,
   "id": "ae333ec5",
   "metadata": {},
   "outputs": [
    {
     "data": {
      "text/plain": [
       "(tensor([0.8258, 1.6516, 2.4774, 3.3032]),\n",
       " tensor([0.8258, 1.6516, 2.4774, 3.3032]))"
      ]
     },
     "execution_count": 49,
     "metadata": {},
     "output_type": "execute_result"
    }
   ],
   "source": [
    "features[0], labels[0]"
   ]
  },
  {
   "cell_type": "code",
   "execution_count": null,
   "id": "883cd045",
   "metadata": {},
   "outputs": [],
   "source": []
  },
  {
   "cell_type": "markdown",
   "id": "30693f40",
   "metadata": {},
   "source": [
    "## Reading the data set"
   ]
  },
  {
   "cell_type": "code",
   "execution_count": null,
   "id": "29caf6b9",
   "metadata": {},
   "outputs": [],
   "source": []
  },
  {
   "cell_type": "code",
   "execution_count": 50,
   "id": "92a4a549",
   "metadata": {},
   "outputs": [],
   "source": [
    "def load_array(data_arrays, batch_size, is_train=True): #@save\n",
    "    \"\"\"Construct a PyTorch data iterator.\"\"\"\n",
    "    dataset = data.TensorDataset(*data_arrays)\n",
    "    return data.DataLoader(dataset, batch_size, shuffle=is_train)\n"
   ]
  },
  {
   "cell_type": "code",
   "execution_count": 17,
   "id": "ae2e8965",
   "metadata": {},
   "outputs": [],
   "source": [
    "batch_size = 10\n",
    "data_iter = load_array((features, labels), batch_size)"
   ]
  },
  {
   "cell_type": "code",
   "execution_count": 18,
   "id": "81c1a5e4",
   "metadata": {},
   "outputs": [
    {
     "data": {
      "text/plain": [
       "<torch.utils.data.dataloader.DataLoader at 0x7f4db12615e0>"
      ]
     },
     "execution_count": 18,
     "metadata": {},
     "output_type": "execute_result"
    }
   ],
   "source": [
    "data_iter"
   ]
  },
  {
   "cell_type": "code",
   "execution_count": 19,
   "id": "05e37aa7",
   "metadata": {},
   "outputs": [
    {
     "data": {
      "text/plain": [
       "[tensor([[0.9713, 1.9426, 2.9138, 3.8851],\n",
       "         [0.3541, 0.7083, 1.0624, 1.4165],\n",
       "         [0.4076, 0.8151, 1.2227, 1.6302],\n",
       "         [0.5732, 1.1463, 1.7195, 2.2926],\n",
       "         [0.5761, 1.1522, 1.7283, 2.3044],\n",
       "         [0.6568, 1.3137, 1.9705, 2.6273],\n",
       "         [0.2455, 0.4910, 0.7366, 0.9821],\n",
       "         [0.7789, 1.5577, 2.3366, 3.1154],\n",
       "         [0.5109, 1.0219, 1.5328, 2.0437],\n",
       "         [0.5673, 1.1347, 1.7020, 2.2694]]),\n",
       " tensor([[0.9713, 1.9426, 2.9138, 3.8851],\n",
       "         [0.3541, 0.7083, 1.0624, 1.4165],\n",
       "         [0.4076, 0.8151, 1.2227, 1.6302],\n",
       "         [0.5732, 1.1463, 1.7195, 2.2926],\n",
       "         [0.5761, 1.1522, 1.7283, 2.3044],\n",
       "         [0.6568, 1.3137, 1.9705, 2.6273],\n",
       "         [0.2455, 0.4910, 0.7366, 0.9821],\n",
       "         [0.7789, 1.5577, 2.3366, 3.1154],\n",
       "         [0.5109, 1.0219, 1.5328, 2.0437],\n",
       "         [0.5673, 1.1347, 1.7020, 2.2694]])]"
      ]
     },
     "execution_count": 19,
     "metadata": {},
     "output_type": "execute_result"
    }
   ],
   "source": [
    "# it is import to use iterator for that\n",
    "next(iter(data_iter))"
   ]
  },
  {
   "cell_type": "code",
   "execution_count": null,
   "id": "7ee07d08",
   "metadata": {},
   "outputs": [],
   "source": []
  },
  {
   "cell_type": "markdown",
   "id": "f0a65df7",
   "metadata": {},
   "source": [
    "## Defining the Model"
   ]
  },
  {
   "cell_type": "code",
   "execution_count": null,
   "id": "cdff8c75",
   "metadata": {},
   "outputs": [],
   "source": []
  },
  {
   "cell_type": "code",
   "execution_count": 20,
   "id": "6de822be",
   "metadata": {},
   "outputs": [],
   "source": [
    "# The bottleneck here is only of dim 2"
   ]
  },
  {
   "cell_type": "code",
   "execution_count": 21,
   "id": "a40c2145",
   "metadata": {},
   "outputs": [],
   "source": [
    "import torch.nn as nn\n",
    "import torch as T\n",
    "\n",
    "class Net(T.nn.Module):\n",
    "    def __init__(self):\n",
    "        super(Net, self).__init__()\n",
    "        self.hid1 = T.nn.Linear(4, 2)  # 6-(10-10)-3\n",
    "        self.oupt = T.nn.Linear(2, 4)\n",
    "    \n",
    "\n",
    "        T.nn.init.xavier_uniform_(self.hid1.weight)\n",
    "        T.nn.init.zeros_(self.hid1.bias)\n",
    "        T.nn.init.xavier_uniform_(self.oupt.weight)\n",
    "        T.nn.init.zeros_(self.oupt.bias)\n",
    "\n",
    "    def forward(self, x):\n",
    "        z = T.tanh(self.hid1(x))\n",
    "        z = self.oupt(z)  # no softmax: CrossEntropyLoss() \n",
    "        \n",
    "        return z"
   ]
  },
  {
   "cell_type": "code",
   "execution_count": 22,
   "id": "8aaccf27",
   "metadata": {},
   "outputs": [],
   "source": [
    "net = Net()"
   ]
  },
  {
   "cell_type": "code",
   "execution_count": 23,
   "id": "b48cf064",
   "metadata": {},
   "outputs": [
    {
     "data": {
      "text/plain": [
       "Net(\n",
       "  (hid1): Linear(in_features=4, out_features=2, bias=True)\n",
       "  (oupt): Linear(in_features=2, out_features=4, bias=True)\n",
       ")"
      ]
     },
     "execution_count": 23,
     "metadata": {},
     "output_type": "execute_result"
    }
   ],
   "source": [
    "# model:\n",
    "net"
   ]
  },
  {
   "cell_type": "markdown",
   "id": "23ecee0a",
   "metadata": {},
   "source": [
    "## Initializing Model Parameters"
   ]
  },
  {
   "cell_type": "code",
   "execution_count": 24,
   "id": "6f8ea420",
   "metadata": {},
   "outputs": [],
   "source": [
    "# net[0] has accesss to the first layer of net\n",
    "\n",
    "# net[0].weight.data.normal_(0, 0.01)\n",
    "# net[0].bias.data.fill_(0)"
   ]
  },
  {
   "cell_type": "code",
   "execution_count": null,
   "id": "3de58aec",
   "metadata": {},
   "outputs": [],
   "source": []
  },
  {
   "cell_type": "markdown",
   "id": "0b74164e",
   "metadata": {},
   "source": [
    "## Defining the Loss Function"
   ]
  },
  {
   "cell_type": "code",
   "execution_count": 25,
   "id": "44434b7a",
   "metadata": {},
   "outputs": [],
   "source": [
    "loss = nn.MSELoss()"
   ]
  },
  {
   "cell_type": "code",
   "execution_count": 26,
   "id": "defee6f0",
   "metadata": {},
   "outputs": [
    {
     "data": {
      "text/plain": [
       "tensor(2.0736, grad_fn=<MseLossBackward0>)"
      ]
     },
     "execution_count": 26,
     "metadata": {},
     "output_type": "execute_result"
    }
   ],
   "source": [
    "# testing loss function:\n",
    "X = torch.tensor([[-1.2373,  0.3100, -1.4755, -1.1790]])\n",
    "y = X\n",
    "# net(X)\n",
    "loss(net(X), y)"
   ]
  },
  {
   "cell_type": "markdown",
   "id": "ea8a0bd5",
   "metadata": {},
   "source": [
    "## Defining the Optimization Algorithm\n"
   ]
  },
  {
   "cell_type": "code",
   "execution_count": 28,
   "id": "727b6183",
   "metadata": {},
   "outputs": [],
   "source": [
    "# Minibatch stochastic gradient descent is a standard tool for optimizing neural networks and thus\n",
    "# PyTorch supports it alongside a number of variations on this algorithm in the optim module. When\n",
    "# we instantiate an SGD instance, we will specify the parameters to optimize over (obtainable from\n",
    "# our net via net.parameters()), with a dictionary of hyperparameters required by our optimization\n",
    "# algorithm. Minibatch stochastic gradient descent just requires that we set the value lr, which is\n",
    "# set to 0.03 here.\n",
    "\n",
    "trainer = torch.optim.SGD(net.parameters(), lr=0.03)"
   ]
  },
  {
   "cell_type": "code",
   "execution_count": 29,
   "id": "75d6ba01",
   "metadata": {},
   "outputs": [
    {
     "data": {
      "text/plain": [
       "<generator object Module.parameters at 0x7f4db16ceba0>"
      ]
     },
     "execution_count": 29,
     "metadata": {},
     "output_type": "execute_result"
    }
   ],
   "source": [
    "net.parameters()"
   ]
  },
  {
   "cell_type": "code",
   "execution_count": 30,
   "id": "5d1dccb0",
   "metadata": {},
   "outputs": [
    {
     "data": {
      "text/plain": [
       "[Parameter containing:\n",
       " tensor([[-0.3413,  0.6577,  0.2600,  0.1821],\n",
       "         [-0.5019, -0.3456, -0.9326,  0.5788]], requires_grad=True),\n",
       " Parameter containing:\n",
       " tensor([0., 0.], requires_grad=True),\n",
       " Parameter containing:\n",
       " tensor([[ 0.7173,  0.5408],\n",
       "         [ 0.4470, -0.4491],\n",
       "         [-0.2223,  0.7532],\n",
       "         [-0.6478, -0.5310]], requires_grad=True),\n",
       " Parameter containing:\n",
       " tensor([0., 0., 0., 0.], requires_grad=True)]"
      ]
     },
     "execution_count": 30,
     "metadata": {},
     "output_type": "execute_result"
    }
   ],
   "source": [
    "list(net.parameters())"
   ]
  },
  {
   "cell_type": "code",
   "execution_count": null,
   "id": "b3c1cc5f",
   "metadata": {},
   "outputs": [],
   "source": []
  },
  {
   "cell_type": "code",
   "execution_count": 31,
   "id": "c932f078",
   "metadata": {},
   "outputs": [
    {
     "name": "stdout",
     "output_type": "stream",
     "text": [
      "epoch 1, loss 0.200671\n",
      "epoch 11, loss 0.006001\n",
      "epoch 21, loss 0.002899\n",
      "epoch 31, loss 0.002154\n",
      "epoch 41, loss 0.001544\n",
      "epoch 51, loss 0.001318\n",
      "epoch 61, loss 0.000999\n",
      "epoch 71, loss 0.001042\n",
      "epoch 81, loss 0.001461\n",
      "epoch 91, loss 0.000862\n",
      "epoch 101, loss 0.001274\n",
      "epoch 111, loss 0.000681\n",
      "epoch 121, loss 0.000654\n",
      "epoch 131, loss 0.000694\n",
      "epoch 141, loss 0.000631\n",
      "epoch 151, loss 0.000670\n",
      "epoch 161, loss 0.000588\n",
      "epoch 171, loss 0.000710\n",
      "epoch 181, loss 0.000576\n",
      "epoch 191, loss 0.000542\n"
     ]
    }
   ],
   "source": [
    "num_epochs = 200\n",
    "for epoch in range(num_epochs):\n",
    "    for X,Y in data_iter:\n",
    "#         print(X,Y)\n",
    "        l = loss(net(X), Y)\n",
    "        trainer.zero_grad()\n",
    "        l.backward()\n",
    "        trainer.step() #optimizer\n",
    "    l = loss(net(features), labels)\n",
    "#     print(net[0].weight.data)\n",
    "    if (epoch%10 == 0):\n",
    "        print(f'epoch {epoch + 1}, loss {l:f}')"
   ]
  },
  {
   "cell_type": "code",
   "execution_count": null,
   "id": "f44d8b7d",
   "metadata": {},
   "outputs": [],
   "source": []
  },
  {
   "cell_type": "code",
   "execution_count": null,
   "id": "d0c2258f",
   "metadata": {},
   "outputs": [],
   "source": []
  },
  {
   "cell_type": "code",
   "execution_count": null,
   "id": "b99547f2",
   "metadata": {},
   "outputs": [],
   "source": []
  },
  {
   "cell_type": "code",
   "execution_count": null,
   "id": "08290fa9",
   "metadata": {},
   "outputs": [],
   "source": []
  },
  {
   "cell_type": "code",
   "execution_count": null,
   "id": "e98421b6",
   "metadata": {},
   "outputs": [],
   "source": []
  },
  {
   "cell_type": "code",
   "execution_count": null,
   "id": "85cc8dc6",
   "metadata": {},
   "outputs": [],
   "source": []
  },
  {
   "cell_type": "code",
   "execution_count": 27,
   "id": "e7a85921",
   "metadata": {},
   "outputs": [
    {
     "data": {
      "text/plain": [
       "tensor([0.0988, 0.2021, 0.3215, 0.4062], grad_fn=<AddBackward0>)"
      ]
     },
     "execution_count": 27,
     "metadata": {},
     "output_type": "execute_result"
    }
   ],
   "source": [
    "# how our model represent a data sample like this: [0.1, 0.2, 0.3, 0.4]\n",
    "x = torch.tensor([0.1, 0.2, 0.3, 0.4])\n",
    "net(x)"
   ]
  },
  {
   "cell_type": "code",
   "execution_count": null,
   "id": "caefe94f",
   "metadata": {},
   "outputs": [],
   "source": []
  },
  {
   "cell_type": "code",
   "execution_count": 28,
   "id": "39c1c460",
   "metadata": {},
   "outputs": [],
   "source": [
    "# That was just a simple example with linear relationship between colmns. \n",
    "# How about more complex relationships? Read on through next notebooks."
   ]
  },
  {
   "cell_type": "code",
   "execution_count": null,
   "id": "71a9737a",
   "metadata": {},
   "outputs": [],
   "source": []
  },
  {
   "cell_type": "code",
   "execution_count": null,
   "id": "5da48656-0b0c-4940-9a55-9b4fc5343fd5",
   "metadata": {},
   "outputs": [],
   "source": []
  },
  {
   "cell_type": "code",
   "execution_count": null,
   "id": "e9e2664a-5dde-4658-9f7b-1c869ebfa7fe",
   "metadata": {},
   "outputs": [],
   "source": []
  },
  {
   "cell_type": "code",
   "execution_count": null,
   "id": "b0b74ca7-827c-48d2-8561-cc8399088041",
   "metadata": {},
   "outputs": [],
   "source": []
  },
  {
   "cell_type": "code",
   "execution_count": null,
   "id": "7b4addfd-67a7-48ea-965a-f11d4d16d2a4",
   "metadata": {},
   "outputs": [],
   "source": []
  },
  {
   "cell_type": "code",
   "execution_count": null,
   "id": "3bddb2e6-c75d-474d-85d9-6472c2a19287",
   "metadata": {},
   "outputs": [],
   "source": []
  },
  {
   "cell_type": "code",
   "execution_count": null,
   "id": "f03544a5-b354-44a6-b9ca-7fbf9d683a1b",
   "metadata": {},
   "outputs": [],
   "source": []
  },
  {
   "cell_type": "code",
   "execution_count": null,
   "id": "b92a93dd-4e3d-4b99-9052-6a95841eed6c",
   "metadata": {},
   "outputs": [],
   "source": []
  }
 ],
 "metadata": {
  "kernelspec": {
   "display_name": "Python 3",
   "language": "python",
   "name": "python3"
  },
  "language_info": {
   "codemirror_mode": {
    "name": "ipython",
    "version": 3
   },
   "file_extension": ".py",
   "mimetype": "text/x-python",
   "name": "python",
   "nbconvert_exporter": "python",
   "pygments_lexer": "ipython3",
   "version": "3.9.12"
  }
 },
 "nbformat": 4,
 "nbformat_minor": 5
}
