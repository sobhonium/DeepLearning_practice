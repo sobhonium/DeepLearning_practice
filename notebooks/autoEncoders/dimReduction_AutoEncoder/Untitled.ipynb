{
 "cells": [
  {
   "cell_type": "code",
   "execution_count": null,
   "id": "b84c8d81-71b0-4a02-9cf6-f0aedc6c1938",
   "metadata": {},
   "outputs": [],
   "source": []
  },
  {
   "cell_type": "code",
   "execution_count": 1,
   "id": "d43a9014-ccf7-43fa-9700-348e75c4fd21",
   "metadata": {},
   "outputs": [
    {
     "name": "stderr",
     "output_type": "stream",
     "text": [
      "/home/sobhan/miniconda3/envs/ml-dl/lib/python3.9/site-packages/torch/cuda/__init__.py:83: UserWarning: CUDA initialization: The NVIDIA driver on your system is too old (found version 9010). Please update your GPU driver by downloading and installing a new version from the URL: http://www.nvidia.com/Download/index.aspx Alternatively, go to: https://pytorch.org to install a PyTorch version that has been compiled with your version of the CUDA driver. (Triggered internally at  ../c10/cuda/CUDAFunctions.cpp:109.)\n",
      "  return torch._C._cuda_getDeviceCount() > 0\n"
     ]
    }
   ],
   "source": [
    "import torch"
   ]
  },
  {
   "cell_type": "code",
   "execution_count": 31,
   "id": "505ce8b3-bed9-4da9-95e0-74b706300533",
   "metadata": {},
   "outputs": [],
   "source": [
    "from torch import nn"
   ]
  },
  {
   "cell_type": "code",
   "execution_count": null,
   "id": "521bf909-0ba3-44ec-9aae-f3bad91c7c9c",
   "metadata": {},
   "outputs": [],
   "source": []
  },
  {
   "cell_type": "code",
   "execution_count": 80,
   "id": "1e325850-cc57-4a9c-9530-32723969bf17",
   "metadata": {},
   "outputs": [],
   "source": [
    "inp = torch.rand((1, 1,  8,8))"
   ]
  },
  {
   "cell_type": "code",
   "execution_count": 81,
   "id": "39e8206c-1590-443a-bfde-0c935bec404e",
   "metadata": {},
   "outputs": [
    {
     "data": {
      "text/plain": [
       "torch.Size([1, 1, 8, 8])"
      ]
     },
     "execution_count": 81,
     "metadata": {},
     "output_type": "execute_result"
    }
   ],
   "source": [
    "inp.shape"
   ]
  },
  {
   "cell_type": "code",
   "execution_count": 82,
   "id": "189dd1c0-71cc-410e-bc6a-c5ac9c3203c7",
   "metadata": {},
   "outputs": [],
   "source": [
    "conv2d = nn.Sequential(\n",
    "                        nn.Conv2d(in_channels=1, out_channels=1, kernel_size=(3,3), padding=1, padding_mode='circular' )\n",
    "    )"
   ]
  },
  {
   "cell_type": "code",
   "execution_count": 83,
   "id": "c3af6a4d-918e-49d4-bcb9-ccc8e53fec29",
   "metadata": {},
   "outputs": [
    {
     "data": {
      "text/plain": [
       "torch.Size([1, 1, 8, 8])"
      ]
     },
     "execution_count": 83,
     "metadata": {},
     "output_type": "execute_result"
    }
   ],
   "source": [
    "conv2d(inp).shape"
   ]
  },
  {
   "cell_type": "code",
   "execution_count": 84,
   "id": "d991c3fa-ed63-476c-9bc1-b9862f49aa20",
   "metadata": {},
   "outputs": [
    {
     "data": {
      "text/plain": [
       "tensor([[[[ 0.2013,  0.1961,  0.1287, -0.0040,  0.2438,  0.1158,  0.2117,\n",
       "            0.2508],\n",
       "          [ 0.1372, -0.0087,  0.1810,  0.2404,  0.2648,  0.0526,  0.0786,\n",
       "            0.3093],\n",
       "          [ 0.1120,  0.1049,  0.0068,  0.0114,  0.0915,  0.1665,  0.2386,\n",
       "            0.0901],\n",
       "          [ 0.2332,  0.1381,  0.1432,  0.1068,  0.1469,  0.3199,  0.0932,\n",
       "            0.1930],\n",
       "          [ 0.1462,  0.1788,  0.1657,  0.2518,  0.1377,  0.1315,  0.1465,\n",
       "            0.0907],\n",
       "          [ 0.1537,  0.1089,  0.2098,  0.0765, -0.0075,  0.1412, -0.0485,\n",
       "            0.1074],\n",
       "          [ 0.0219,  0.0590,  0.0538,  0.3766,  0.2427,  0.0006,  0.0771,\n",
       "            0.0826],\n",
       "          [ 0.1637,  0.3199,  0.0801,  0.1369,  0.3261,  0.1510,  0.1315,\n",
       "            0.0364]]]], grad_fn=<ConvolutionBackward0>)"
      ]
     },
     "execution_count": 84,
     "metadata": {},
     "output_type": "execute_result"
    }
   ],
   "source": [
    "conv2d(inp)"
   ]
  },
  {
   "cell_type": "code",
   "execution_count": 85,
   "id": "52f1a369-e6b2-4884-a35e-41e6d6cf2c77",
   "metadata": {},
   "outputs": [
    {
     "data": {
      "text/plain": [
       "OrderedDict([('0.weight',\n",
       "              tensor([[[[-0.1011, -0.1651,  0.0065],\n",
       "                        [ 0.2536,  0.0363, -0.1115],\n",
       "                        [ 0.1152,  0.0192,  0.0655]]]])),\n",
       "             ('0.bias', tensor([0.0836]))])"
      ]
     },
     "execution_count": 85,
     "metadata": {},
     "output_type": "execute_result"
    }
   ],
   "source": [
    "conv2d.state_dict()"
   ]
  },
  {
   "cell_type": "code",
   "execution_count": 86,
   "id": "0c48f418-8735-451d-b7d5-c6c4dc2a2cbe",
   "metadata": {},
   "outputs": [
    {
     "data": {
      "text/plain": [
       "tensor([[[[0.7402, 0.5755, 0.1095, 0.7621, 0.1777, 0.3660, 0.4312, 0.6223],\n",
       "          [0.1792, 0.7044, 0.7901, 0.9427, 0.0970, 0.3180, 0.8317, 0.9875],\n",
       "          [0.5367, 0.3452, 0.3888, 0.2949, 0.2794, 0.5913, 0.8805, 0.2058],\n",
       "          [0.2393, 0.2682, 0.1931, 0.2357, 0.8824, 0.8266, 0.4304, 0.8500],\n",
       "          [0.5346, 0.3881, 0.6919, 0.7648, 0.8529, 0.4778, 0.6609, 0.2324],\n",
       "          [0.3576, 0.7220, 0.5316, 0.1218, 0.7513, 0.2780, 0.2902, 0.8430],\n",
       "          [0.1665, 0.1890, 0.8938, 0.7173, 0.1739, 0.1647, 0.4117, 0.1519],\n",
       "          [0.9934, 0.4527, 0.8370, 0.9411, 0.2174, 0.1711, 0.0682, 0.0498]]]])"
      ]
     },
     "execution_count": 86,
     "metadata": {},
     "output_type": "execute_result"
    }
   ],
   "source": [
    "inp"
   ]
  },
  {
   "cell_type": "code",
   "execution_count": 93,
   "id": "b792e245-4f43-4cf1-afce-350879c4f943",
   "metadata": {},
   "outputs": [],
   "source": [
    "a = torch.tensor(\n",
    "[[0.1665, 0.1890, 0.8938], \n",
    " [0.9934, 0.4527, 0.8370], \n",
    " [0.7402, 0.5755, 0.1095]]\n",
    ")"
   ]
  },
  {
   "cell_type": "code",
   "execution_count": 94,
   "id": "618575ba-c49d-4dd6-bbbb-c49b5a04a1cb",
   "metadata": {},
   "outputs": [],
   "source": [
    "w = torch.tensor(\n",
    "    [[-0.1011, -0.1651,  0.0065],\n",
    "                        [ 0.2536,  0.0363, -0.1115],\n",
    "                        [ 0.1152,  0.0192,  0.0655]]\n",
    ")"
   ]
  },
  {
   "cell_type": "code",
   "execution_count": 95,
   "id": "c4513c02-fa54-4717-9339-987e8a12d375",
   "metadata": {},
   "outputs": [
    {
     "data": {
      "text/plain": [
       "tensor(0.3199)"
      ]
     },
     "execution_count": 95,
     "metadata": {},
     "output_type": "execute_result"
    }
   ],
   "source": [
    "torch.sum(a*w)+0.0836"
   ]
  },
  {
   "cell_type": "code",
   "execution_count": null,
   "id": "fc263608-8d69-4c86-9ec2-1e1a68e73c75",
   "metadata": {},
   "outputs": [],
   "source": []
  }
 ],
 "metadata": {
  "kernelspec": {
   "display_name": "Python 3",
   "language": "python",
   "name": "python3"
  },
  "language_info": {
   "codemirror_mode": {
    "name": "ipython",
    "version": 3
   },
   "file_extension": ".py",
   "mimetype": "text/x-python",
   "name": "python",
   "nbconvert_exporter": "python",
   "pygments_lexer": "ipython3",
   "version": "3.9.12"
  }
 },
 "nbformat": 4,
 "nbformat_minor": 5
}
