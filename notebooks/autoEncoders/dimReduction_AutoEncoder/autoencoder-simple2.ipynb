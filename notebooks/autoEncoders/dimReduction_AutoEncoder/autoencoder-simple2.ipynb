{
 "cells": [
  {
   "cell_type": "code",
   "execution_count": 1,
   "id": "6d76749c",
   "metadata": {},
   "outputs": [],
   "source": [
    "# Understanding autoencoders via a simple example"
   ]
  },
  {
   "cell_type": "code",
   "execution_count": null,
   "id": "1fc61f75",
   "metadata": {},
   "outputs": [],
   "source": []
  },
  {
   "cell_type": "markdown",
   "id": "d7df0b9a",
   "metadata": {},
   "source": []
  },
  {
   "cell_type": "code",
   "execution_count": 97,
   "id": "9e07250f",
   "metadata": {},
   "outputs": [],
   "source": [
    "import numpy as np\n",
    "import torch\n",
    "from torch.utils import data\n",
    "from d2l import torch as d2l\n",
    "from itertools import product\n",
    "from torch import nn"
   ]
  },
  {
   "cell_type": "code",
   "execution_count": 98,
   "id": "a3d15117",
   "metadata": {},
   "outputs": [],
   "source": [
    "# I only need labels(sdf) here to form cubes 3d for each sample of ax, by, cz\n",
    "# I need to have these inputs (cubes) into a CNN autoencoder and apply conv3d.\n",
    "# Don't get fret if you see features=labels, as I'm using 'features' term for inputs.\n",
    "# In previous attempts, I used occupany (x,y,z) and coef(ax, by, cz) and codes(3) and\n",
    "# in total I end up having 3+3+3=9 params. But, it isn't good to have 9 params, \n",
    "# too much for further usages in real applications.\n",
    "# (In real application like minimizing objective functions like Impedance, pressure\n",
    "# drop, etc).\n",
    "# I tested that in an autoDecoder. But now, I want to use Autodecoder to shorten the\n",
    "# codes in bottelneck layer. Let's see how it goes..."
   ]
  },
  {
   "cell_type": "code",
   "execution_count": null,
   "id": "884dc06f-c2e3-4b3e-91a6-3ff3a24045db",
   "metadata": {},
   "outputs": [],
   "source": []
  },
  {
   "cell_type": "code",
   "execution_count": 136,
   "id": "67df795b-cd1b-49e9-ae3a-d0e25148357f",
   "metadata": {},
   "outputs": [],
   "source": [
    "from dataset.tig_based_dataset import (load_gyroid_sdf_dataset,\n",
    "                                       load_primitive_sdf_dataset)"
   ]
  },
  {
   "cell_type": "code",
   "execution_count": 137,
   "id": "9fe6eaf9-aeb9-4dd0-9825-463ae514cdad",
   "metadata": {},
   "outputs": [],
   "source": [
    "# gyroid-like\n",
    "repeat = 3\n",
    "num_coef_chuk = 5\n",
    "axis_chuk = 50\n",
    "coef=list(product(np.linspace(1,2, num_coef_chuk), repeat=repeat))\n",
    "features1, labels1 = load_gyroid_sdf_dataset(coef=coef, axis_chuncks=axis_chuk)"
   ]
  },
  {
   "cell_type": "code",
   "execution_count": null,
   "id": "b29725a9-d047-4680-94f8-c21480270e19",
   "metadata": {},
   "outputs": [],
   "source": []
  },
  {
   "cell_type": "code",
   "execution_count": 235,
   "id": "1fdc7303-341d-4b23-9f9b-51d696c8af5e",
   "metadata": {},
   "outputs": [
    {
     "data": {
      "text/plain": [
       "125"
      ]
     },
     "execution_count": 235,
     "metadata": {},
     "output_type": "execute_result"
    }
   ],
   "source": [
    "len(coef)"
   ]
  },
  {
   "cell_type": "code",
   "execution_count": 236,
   "id": "0f7ecf9e-80e1-41e9-8e3d-f18c1537357b",
   "metadata": {},
   "outputs": [
    {
     "data": {
      "text/plain": [
       "torch.Size([15625000, 6])"
      ]
     },
     "execution_count": 236,
     "metadata": {},
     "output_type": "execute_result"
    }
   ],
   "source": [
    "features1.shape"
   ]
  },
  {
   "cell_type": "code",
   "execution_count": 237,
   "id": "7551fa20-896c-421d-a1ca-e0a396d7dbce",
   "metadata": {},
   "outputs": [
    {
     "data": {
      "text/plain": [
       "torch.Size([15625000])"
      ]
     },
     "execution_count": 237,
     "metadata": {},
     "output_type": "execute_result"
    }
   ],
   "source": [
    "labels1.shape"
   ]
  },
  {
   "cell_type": "code",
   "execution_count": 238,
   "id": "3a0c498c-8b25-44e5-8bbb-5791ff2a03de",
   "metadata": {},
   "outputs": [],
   "source": [
    "# features = features1"
   ]
  },
  {
   "cell_type": "code",
   "execution_count": 239,
   "id": "6227156b-dbc4-4a3d-b274-125c92cdeb71",
   "metadata": {},
   "outputs": [
    {
     "data": {
      "text/plain": [
       "torch.Size([125, 50, 50, 50])"
      ]
     },
     "execution_count": 239,
     "metadata": {},
     "output_type": "execute_result"
    }
   ],
   "source": [
    "labels1.reshape(num_coef_chuk**repeat, axis_chuk, axis_chuk, axis_chuk).shape"
   ]
  },
  {
   "cell_type": "code",
   "execution_count": 240,
   "id": "c935f901-2675-4860-a331-ebb651bbb30f",
   "metadata": {},
   "outputs": [],
   "source": [
    "features  = labels1.reshape(num_coef_chuk**repeat, axis_chuk, axis_chuk, axis_chuk)"
   ]
  },
  {
   "cell_type": "code",
   "execution_count": 241,
   "id": "fa886998-471c-4d50-b759-b1cd06953862",
   "metadata": {},
   "outputs": [
    {
     "data": {
      "text/plain": [
       "torch.Size([125, 50, 50, 50])"
      ]
     },
     "execution_count": 241,
     "metadata": {},
     "output_type": "execute_result"
    }
   ],
   "source": [
    "features.shape"
   ]
  },
  {
   "cell_type": "code",
   "execution_count": 242,
   "id": "2f028793",
   "metadata": {},
   "outputs": [],
   "source": [
    "# first_col_random = torch.rand(10,1) # producing a random column\n",
    "# features = torch.cat((first_col_random, 2*first_col_random), 1) # that is how a relationship between cols \n",
    "# are introduced here in my example."
   ]
  },
  {
   "cell_type": "code",
   "execution_count": 243,
   "id": "2bafac6e",
   "metadata": {},
   "outputs": [],
   "source": [
    "# # now, I want to have more columns. each colmn is multiplied from first column\n",
    "# first_col_random = torch.rand(1000,1) \n",
    "# features = first_col_random # initial values for the fist col\n",
    "# for i in range(2,5):\n",
    "#     features = torch.cat((features, i*first_col_random), 1) # creation of other colmn"
   ]
  },
  {
   "cell_type": "code",
   "execution_count": null,
   "id": "9a0ff1cb",
   "metadata": {},
   "outputs": [],
   "source": []
  },
  {
   "cell_type": "code",
   "execution_count": 244,
   "id": "364fdf9c",
   "metadata": {},
   "outputs": [],
   "source": [
    "# see? they are multipied from the first col\n",
    "# features"
   ]
  },
  {
   "cell_type": "code",
   "execution_count": 245,
   "id": "3d8ca338",
   "metadata": {},
   "outputs": [],
   "source": [
    "# first_col_random"
   ]
  },
  {
   "cell_type": "code",
   "execution_count": null,
   "id": "f7fedbe2",
   "metadata": {},
   "outputs": [],
   "source": []
  },
  {
   "cell_type": "code",
   "execution_count": null,
   "id": "75a29bc2",
   "metadata": {},
   "outputs": [],
   "source": []
  },
  {
   "cell_type": "code",
   "execution_count": 246,
   "id": "a2845a55",
   "metadata": {},
   "outputs": [],
   "source": [
    "# in auto encoder we want a reperesentation of our data. The best representation here is the one\n",
    "# shows that colmns are multiplied from the first one (abvious). But this one seems like to be \n",
    "# an unsupervised learning. But no. Let's think differently. We want a representation x_ of our data x\n",
    "# so, I guess now it is a supervised learning. We only need to define ground truth as y = x and\n",
    "# come up with wieghts and biases (through training) to best fit this.\n",
    "\n",
    "# based on the explanation above, let's figure this out:\n",
    "labels = features"
   ]
  },
  {
   "cell_type": "code",
   "execution_count": 247,
   "id": "100f8b5d",
   "metadata": {},
   "outputs": [
    {
     "data": {
      "text/plain": [
       "(torch.Size([125, 50, 50, 50]), torch.Size([125, 50, 50, 50]))"
      ]
     },
     "execution_count": 247,
     "metadata": {},
     "output_type": "execute_result"
    }
   ],
   "source": [
    "features.shape, labels.shape"
   ]
  },
  {
   "cell_type": "code",
   "execution_count": 248,
   "id": "ae333ec5",
   "metadata": {},
   "outputs": [],
   "source": [
    "# features[0], labels[0]"
   ]
  },
  {
   "cell_type": "code",
   "execution_count": 345,
   "id": "883cd045",
   "metadata": {},
   "outputs": [],
   "source": [
    "encoder = nn.Sequential(\n",
    "    nn.Conv3d(in_channels=1, out_channels=25, kernel_size=(7,7,7), padding=3, padding_mode='circular'),\n",
    "    nn.MaxPool3d(kernel_size=(2,2,2), stride=2),\n",
    "    # nn.ReLU(),\n",
    "    nn.Conv3d(in_channels=25, out_channels=1, kernel_size=(3,3,3), padding=1, padding_mode='circular'),\n",
    "    nn.MaxPool3d(kernel_size=(2,2,2), stride=2),\n",
    "    # nn.ReLU(),\n",
    "    nn.BatchNorm3d(1)  ,\n",
    "    nn.Flatten(start_dim=1),\n",
    "    nn.Linear(1728,500),\n",
    "    # nn.ReLU(),\n",
    "    nn.Linear(500,80),\n",
    "    # nn.ReLU(),\n",
    "    nn.Linear(80,15),\n",
    "    # nn.ReLU(),\n",
    "    nn.Linear(15,3),    \n",
    "    nn.Tanh(),\n",
    ")"
   ]
  },
  {
   "cell_type": "code",
   "execution_count": 346,
   "id": "eaac649f-4ff4-4340-b12e-358b4a2e35c2",
   "metadata": {},
   "outputs": [],
   "source": [
    "# encoder.state_dict()"
   ]
  },
  {
   "cell_type": "code",
   "execution_count": 347,
   "id": "4e443ae9-be6a-4945-8558-fd05385bde0f",
   "metadata": {},
   "outputs": [
    {
     "data": {
      "text/plain": [
       "torch.Size([125, 1, 50, 50, 50])"
      ]
     },
     "execution_count": 347,
     "metadata": {},
     "output_type": "execute_result"
    }
   ],
   "source": [
    "features.shape"
   ]
  },
  {
   "cell_type": "code",
   "execution_count": 348,
   "id": "afbd84cf-3583-43cb-a59c-eb2bd7c44d17",
   "metadata": {},
   "outputs": [],
   "source": [
    "features = features.reshape(125,1, 50,50,50).float()"
   ]
  },
  {
   "cell_type": "code",
   "execution_count": 349,
   "id": "9a281d55-4014-447b-b3f6-2def4cacc0d9",
   "metadata": {},
   "outputs": [],
   "source": [
    "# features[0]"
   ]
  },
  {
   "cell_type": "code",
   "execution_count": 350,
   "id": "162961a6-6aec-4d5f-bb8b-bf97198bcd79",
   "metadata": {},
   "outputs": [
    {
     "data": {
      "text/plain": [
       "torch.Size([1, 3])"
      ]
     },
     "execution_count": 350,
     "metadata": {},
     "output_type": "execute_result"
    }
   ],
   "source": [
    "encoder(features[0:1]).shape"
   ]
  },
  {
   "cell_type": "code",
   "execution_count": 351,
   "id": "1aadb19c-dbe7-4da6-b0b5-3104f22cb223",
   "metadata": {},
   "outputs": [
    {
     "data": {
      "text/plain": [
       "tensor([[ 0.1997,  0.1075,  0.0062],\n",
       "        [ 0.1995,  0.1052, -0.0037],\n",
       "        [ 0.1996,  0.1027, -0.0130],\n",
       "        [ 0.2006,  0.1000, -0.0217],\n",
       "        [ 0.2019,  0.0977, -0.0307],\n",
       "        [ 0.2093,  0.0814,  0.0119],\n",
       "        [ 0.2094,  0.0786,  0.0024],\n",
       "        [ 0.2096,  0.0758, -0.0072],\n",
       "        [ 0.2102,  0.0734, -0.0164],\n",
       "        [ 0.2118,  0.0713, -0.0254]], grad_fn=<TanhBackward0>)"
      ]
     },
     "execution_count": 351,
     "metadata": {},
     "output_type": "execute_result"
    }
   ],
   "source": [
    "encoder(features[0:10])"
   ]
  },
  {
   "cell_type": "code",
   "execution_count": 352,
   "id": "415f3f07-a196-4ac4-8c5e-8eda120239d7",
   "metadata": {},
   "outputs": [],
   "source": [
    "decoder = nn.Sequential(\n",
    "    nn.Linear(3,10),\n",
    "    \n",
    "    nn.ReLU(True),\n",
    "    nn.Linear(10,20),\n",
    "    nn.ReLU(True),\n",
    "    nn.Linear(20,270),\n",
    "    nn.ReLU(True),\n",
    "    nn.Unflatten(dim=1, unflattened_size=(10, 3, 3,3)),\n",
    "                                   # [1, 1, 30, 3, 3]\n",
    "    nn.ConvTranspose3d(10, 16, 3,  output_padding=0),\n",
    "    # nn.BatchNorm2d(16),\n",
    "    nn.ReLU(True),\n",
    "    nn.ConvTranspose3d(16, 8, 3, stride=2, padding=0, output_padding=1),\n",
    "    # # nn.BatchNorm2d(8),\n",
    "    nn.ReLU(True),\n",
    "    nn.ConvTranspose3d(8, 2, 3, stride=2, padding=1, output_padding=1),\n",
    "    nn.ReLU(True),\n",
    "    nn.ConvTranspose3d(2, 1, 3, stride=2, padding=0, output_padding=1)\n",
    "\n",
    ")\n"
   ]
  },
  {
   "cell_type": "code",
   "execution_count": 295,
   "id": "f56a0d67-455d-460e-9192-b71450412f84",
   "metadata": {},
   "outputs": [
    {
     "data": {
      "text/plain": [
       "torch.Size([1, 1, 50, 50, 50])"
      ]
     },
     "execution_count": 295,
     "metadata": {},
     "output_type": "execute_result"
    }
   ],
   "source": [
    "inp = torch.tensor([[0.2, 0.8, 0.9]])\n",
    "decoder(inp).shape"
   ]
  },
  {
   "cell_type": "markdown",
   "id": "30693f40",
   "metadata": {},
   "source": [
    "## Reading the data set"
   ]
  },
  {
   "cell_type": "code",
   "execution_count": 296,
   "id": "29caf6b9",
   "metadata": {},
   "outputs": [
    {
     "data": {
      "text/plain": [
       "[1, 1, 30, 3, 3]"
      ]
     },
     "execution_count": 296,
     "metadata": {},
     "output_type": "execute_result"
    }
   ],
   "source": [
    "[1, 1, 30, 3, 3]"
   ]
  },
  {
   "cell_type": "code",
   "execution_count": 297,
   "id": "92a4a549",
   "metadata": {},
   "outputs": [],
   "source": [
    "def load_array(data_arrays, batch_size, is_train=True): #@save\n",
    "    \"\"\"Construct a PyTorch data iterator.\"\"\"\n",
    "    dataset = data.TensorDataset(*data_arrays)\n",
    "    return data.DataLoader(dataset, batch_size, shuffle=is_train)\n"
   ]
  },
  {
   "cell_type": "code",
   "execution_count": 298,
   "id": "ae2e8965",
   "metadata": {},
   "outputs": [],
   "source": [
    "batch_size = 10\n",
    "data_iter = load_array((features, features), batch_size)"
   ]
  },
  {
   "cell_type": "code",
   "execution_count": 299,
   "id": "81c1a5e4",
   "metadata": {},
   "outputs": [
    {
     "data": {
      "text/plain": [
       "<torch.utils.data.dataloader.DataLoader at 0x7f717298ba30>"
      ]
     },
     "execution_count": 299,
     "metadata": {},
     "output_type": "execute_result"
    }
   ],
   "source": [
    "data_iter"
   ]
  },
  {
   "cell_type": "code",
   "execution_count": 300,
   "id": "05e37aa7",
   "metadata": {},
   "outputs": [],
   "source": [
    "# it is import to use iterator for that\n",
    "# next(iter(data_iter))"
   ]
  },
  {
   "cell_type": "code",
   "execution_count": 301,
   "id": "7ee07d08",
   "metadata": {},
   "outputs": [
    {
     "data": {
      "text/plain": [
       "torch.Size([125, 1, 50, 50, 50])"
      ]
     },
     "execution_count": 301,
     "metadata": {},
     "output_type": "execute_result"
    }
   ],
   "source": [
    "features.shape"
   ]
  },
  {
   "cell_type": "markdown",
   "id": "f0a65df7",
   "metadata": {},
   "source": [
    "## Defining the Model"
   ]
  },
  {
   "cell_type": "code",
   "execution_count": 302,
   "id": "cdff8c75",
   "metadata": {},
   "outputs": [],
   "source": [
    "#model = Autoencoder(encoded_space_dim=encoded_space_dim)\n",
    "# encoder = encoder(features[0])\n",
    "# decoder = decoder()\n",
    "lr= 0.003\n",
    "params_to_optimize = [\n",
    "    {'params': encoder.parameters()},\n",
    "    {'params': decoder.parameters()}\n",
    "]\n",
    "\n",
    "optim = torch.optim.Adam(params_to_optimize, lr=lr, weight_decay=1e-05)"
   ]
  },
  {
   "cell_type": "code",
   "execution_count": null,
   "id": "6de822be",
   "metadata": {},
   "outputs": [],
   "source": []
  },
  {
   "cell_type": "code",
   "execution_count": null,
   "id": "44d98fb7-9507-46cb-acf9-d2690fcf97b0",
   "metadata": {},
   "outputs": [],
   "source": []
  },
  {
   "cell_type": "code",
   "execution_count": 303,
   "id": "5905a36a-8ce3-46e7-aecf-7ad9c10e2356",
   "metadata": {},
   "outputs": [],
   "source": [
    "def train_epoch(encoder, decoder, dataloader, loss_fn, optimizer):\n",
    "    # Set train mode for both the encoder and the decoder\n",
    "    encoder.train()\n",
    "    decoder.train()\n",
    "    for epoch in range(20):\n",
    "        train_loss = []\n",
    "        # Iterate the dataloader (we do not need the label values, this is unsupervised learning)\n",
    "        for image_batch, _ in dataloader: # with \"_\" we just ignore the labels (the second element of the dataloader tuple)\n",
    "            # Move tensor to the proper device\n",
    "            image_batch = image_batch.to('cpu')\n",
    "            # Encode data\n",
    "            encoded_data = encoder(image_batch)\n",
    "            # Decode data\n",
    "            decoded_data = decoder(encoded_data)\n",
    "            # Evaluate loss\n",
    "            loss = loss_fn(decoded_data, image_batch)\n",
    "            # Backward pass\n",
    "            optimizer.zero_grad()\n",
    "            loss.backward()\n",
    "            optimizer.step()\n",
    "            train_loss.append(loss.detach().cpu().numpy())\n",
    "            # Print batch loss\n",
    "        print(f' epoch: {epoch}:  {np.mean(train_loss)}')\n",
    "        \n",
    "\n",
    "    return np.mean(train_loss)"
   ]
  },
  {
   "cell_type": "code",
   "execution_count": 304,
   "id": "4ed32294-105e-4e0d-a1ac-acbb357d05b4",
   "metadata": {},
   "outputs": [],
   "source": [
    "loss_fn = torch.nn.MSELoss()"
   ]
  },
  {
   "cell_type": "code",
   "execution_count": 305,
   "id": "e3694200-12ec-4d0e-b4b8-860a11141933",
   "metadata": {},
   "outputs": [
    {
     "name": "stdout",
     "output_type": "stream",
     "text": [
      " epoch: 0:  1.801883578300476\n",
      " epoch: 1:  1.7876091003417969\n",
      " epoch: 2:  1.7844170331954956\n",
      " epoch: 3:  1.6780542135238647\n",
      " epoch: 4:  1.4389528036117554\n",
      " epoch: 5:  1.2600939273834229\n",
      " epoch: 6:  1.2091008424758911\n",
      " epoch: 7:  1.13994300365448\n",
      " epoch: 8:  1.105690836906433\n",
      " epoch: 9:  1.071576714515686\n",
      " epoch: 10:  1.0426870584487915\n",
      " epoch: 11:  1.0113604068756104\n",
      " epoch: 12:  0.9935566186904907\n",
      " epoch: 13:  0.9691020250320435\n",
      " epoch: 14:  0.9564538598060608\n",
      " epoch: 15:  0.9328920841217041\n",
      " epoch: 16:  0.9277929067611694\n",
      " epoch: 17:  0.9151195287704468\n",
      " epoch: 18:  0.8944242000579834\n",
      " epoch: 19:  0.8831093907356262\n"
     ]
    },
    {
     "data": {
      "text/plain": [
       "0.8831094"
      ]
     },
     "execution_count": 305,
     "metadata": {},
     "output_type": "execute_result"
    }
   ],
   "source": [
    "train_epoch(encoder=encoder, \n",
    "            decoder=decoder,  \n",
    "            dataloader=data_iter, \n",
    "            loss_fn=loss_fn, \n",
    "            optimizer=optim)"
   ]
  },
  {
   "cell_type": "code",
   "execution_count": 306,
   "id": "bba240fa-aeaa-4624-bbed-bde98536b581",
   "metadata": {},
   "outputs": [],
   "source": [
    "def test_epoch(encoder, decoder, dataloader, loss_fn):\n",
    "    # Set evaluation mode for encoder and decoder\n",
    "    encoder.eval()\n",
    "    decoder.eval()\n",
    "    with torch.no_grad(): # No need to track the gradients\n",
    "        # Define the lists to store the outputs for each batch\n",
    "        conc_out = []\n",
    "        conc_label = []\n",
    "        for image_batch, _ in dataloader:\n",
    "            # Move tensor to the proper device\n",
    "            image_batch = image_batch.to('cpu')\n",
    "            # Encode data\n",
    "            encoded_data = encoder(image_batch)\n",
    "            # Decode data\n",
    "            decoded_data = decoder(encoded_data)\n",
    "            # Append the network output and the original image to the lists\n",
    "            conc_out.append(decoded_data.cpu())\n",
    "            conc_label.append(image_batch.cpu())\n",
    "        # Create a single tensor with all the values in the lists\n",
    "        conc_out = torch.cat(conc_out)\n",
    "        conc_label = torch.cat(conc_label) \n",
    "        # Evaluate global loss\n",
    "        val_loss = loss_fn(conc_out, conc_label)\n",
    "    return val_loss.data"
   ]
  },
  {
   "cell_type": "code",
   "execution_count": null,
   "id": "719454a7-3339-4490-9718-74f29d07aeb3",
   "metadata": {},
   "outputs": [],
   "source": []
  },
  {
   "cell_type": "code",
   "execution_count": 307,
   "id": "89f3110e-74f6-4d3e-bf76-9fae98f09de2",
   "metadata": {},
   "outputs": [
    {
     "data": {
      "text/plain": [
       "tensor(0.8800)"
      ]
     },
     "execution_count": 307,
     "metadata": {},
     "output_type": "execute_result"
    }
   ],
   "source": [
    "test_epoch(encoder, decoder, dataloader=data_iter, loss_fn=loss_fn)"
   ]
  },
  {
   "cell_type": "code",
   "execution_count": null,
   "id": "cf7e6f6b-a3b6-492e-b16a-cbd799086a36",
   "metadata": {},
   "outputs": [],
   "source": []
  },
  {
   "cell_type": "code",
   "execution_count": 308,
   "id": "97d44785-bbb3-426d-a309-783ca795f082",
   "metadata": {},
   "outputs": [],
   "source": [
    "from utils.plot import d3_plot"
   ]
  },
  {
   "cell_type": "code",
   "execution_count": 309,
   "id": "7d65303d-a75b-4f48-b943-ff649b19150e",
   "metadata": {},
   "outputs": [],
   "source": [
    "scalar_field = decoder(encoder(features[0:1])).reshape(50,50,50).detach().numpy()"
   ]
  },
  {
   "cell_type": "code",
   "execution_count": 310,
   "id": "70cd3dc2-da72-40a1-b943-a00eeeb9e2e1",
   "metadata": {},
   "outputs": [
    {
     "data": {
      "image/png": "[encoded data removed]",
      "text/plain": [
       "<PIL.Image.Image image mode=RGB size=800x600>"
      ]
     },
     "metadata": {},
     "output_type": "display_data"
    }
   ],
   "source": [
    "d3_plot(scalar_field)"
   ]
  },
  {
   "cell_type": "code",
   "execution_count": 311,
   "id": "0a1e3a63-1da6-4ddb-a1af-0c56c5301681",
   "metadata": {},
   "outputs": [],
   "source": [
    "# features[0:2, 0:2, 0:2, 0:2, 0:2]"
   ]
  },
  {
   "cell_type": "code",
   "execution_count": 314,
   "id": "89ca1d72-72df-4a92-8c04-135a652d85b5",
   "metadata": {},
   "outputs": [
    {
     "name": "stdout",
     "output_type": "stream",
     "text": [
      "[[ 0.23796092 -0.46654508  0.062759  ]\n",
      " [ 0.20804963 -0.4250763   0.06002622]\n",
      " [ 0.17692406 -0.3804645   0.05727704]\n",
      " [ 0.11219519 -0.28326172  0.05188962]\n",
      " [-0.11002948  0.0095574   0.01196872]\n",
      " [ 0.20861845 -0.42626384  0.05982835]\n",
      " [ 0.17881875 -0.38352787  0.05725586]\n",
      " [ 0.12050113 -0.29634205  0.05239731]\n",
      " [-0.02834037 -0.07733874  0.03634141]\n",
      " [-0.2980441   0.22447495 -0.1459867 ]]\n"
     ]
    }
   ],
   "source": [
    "print(encoder(features[0:10]).detach().numpy())"
   ]
  },
  {
   "cell_type": "code",
   "execution_count": 313,
   "id": "7da335e8-6b19-437b-a670-134cc661246a",
   "metadata": {},
   "outputs": [
    {
     "data": {
      "text/plain": [
       "array([[ 0.23796092, -0.46654508,  0.062759  ]], dtype=float32)"
      ]
     },
     "execution_count": 313,
     "metadata": {},
     "output_type": "execute_result"
    }
   ],
   "source": [
    "(encoder(features[0:1])).detach().numpy()"
   ]
  },
  {
   "cell_type": "code",
   "execution_count": null,
   "id": "d7bef7b0-e602-4355-8508-83bacc947482",
   "metadata": {},
   "outputs": [],
   "source": []
  },
  {
   "cell_type": "code",
   "execution_count": 366,
   "id": "71a9737a",
   "metadata": {},
   "outputs": [
    {
     "data": {
      "text/html": [
       "\n",
       "<style>\n",
       ".output_png {\n",
       "    display: table-cell;\n",
       "    text-align: right;\n",
       "    vertical-align: middle;\n",
       "}\n",
       "</style>\n"
      ],
      "text/plain": [
       "<IPython.core.display.HTML object>"
      ]
     },
     "execution_count": 366,
     "metadata": {},
     "output_type": "execute_result"
    }
   ],
   "source": [
    "# Center align images\n",
    "from IPython.core.display import HTML\n",
    "HTML(\"\"\"\n",
    "<style>\n",
    ".output_png {\n",
    "    display: table-cell;\n",
    "    text-align: right;\n",
    "    vertical-align: middle;\n",
    "}\n",
    "</style>\n",
    "\"\"\")"
   ]
  },
  {
   "cell_type": "code",
   "execution_count": 367,
   "id": "af370122-65d7-42dc-827c-795f31577931",
   "metadata": {},
   "outputs": [
    {
     "data": {
      "image/png": "[encoded data removed]",
      "text/plain": [
       "<Figure size 432x288 with 1 Axes>"
      ]
     },
     "metadata": {
      "needs_background": "light"
     },
     "output_type": "display_data"
    }
   ],
   "source": [
    "import matplotlib.pyplot as plt\n",
    "sigmoid = lambda x: 1 / (1 + np.exp(-x))\n",
    "x = np.linspace(-10,10,1000)\n",
    "\n",
    "plt.plot(x,sigmoid(x),'b')\n",
    "plt.grid()\n",
    "plt.xlabel('X Axis')\n",
    "plt.ylabel('Y Axis')\n",
    "plt.title('Sigmoid Function')\n",
    "plt.text(4,0.8,r'$\\sigma(x)=\\frac{1}{1+e^{-x}}$',fontsize=18)\n",
    "plt.show()"
   ]
  },
  {
   "cell_type": "code",
   "execution_count": null,
   "id": "ef696c16-a79d-4635-9d1c-e9d8d2bb6794",
   "metadata": {},
   "outputs": [],
   "source": []
  },
  {
   "cell_type": "code",
   "execution_count": null,
   "id": "6a2669ab-be9c-4c4a-8dcc-396649627249",
   "metadata": {},
   "outputs": [],
   "source": []
  }
 ],
 "metadata": {
  "kernelspec": {
   "display_name": "Python 3",
   "language": "python",
   "name": "python3"
  },
  "language_info": {
   "codemirror_mode": {
    "name": "ipython",
    "version": 3
   },
   "file_extension": ".py",
   "mimetype": "text/x-python",
   "name": "python",
   "nbconvert_exporter": "python",
   "pygments_lexer": "ipython3",
   "version": "3.9.12"
  }
 },
 "nbformat": 4,
 "nbformat_minor": 5
}
