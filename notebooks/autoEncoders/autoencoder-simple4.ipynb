{
 "cells": [
  {
   "cell_type": "code",
   "execution_count": 1,
   "id": "cf109f6b",
   "metadata": {},
   "outputs": [],
   "source": [
    "# Understanding autoencoders via a another example---> simple solid boxes in an image \n",
    "# This time I want to apply variational autoencoder (VAE )"
   ]
  },
  {
   "cell_type": "code",
   "execution_count": null,
   "id": "fe66759c",
   "metadata": {},
   "outputs": [],
   "source": []
  },
  {
   "cell_type": "code",
   "execution_count": 1,
   "id": "8801356f",
   "metadata": {},
   "outputs": [],
   "source": [
    "# written by the help of this:\n",
    "# https://github.com/Jackson-Kang/Pytorch-VAE-tutorial/blob/master/01_Variational_AutoEncoder.ipynb"
   ]
  },
  {
   "cell_type": "code",
   "execution_count": 2,
   "id": "d5c35241",
   "metadata": {},
   "outputs": [
    {
     "name": "stderr",
     "output_type": "stream",
     "text": [
      "/home/sobhan/miniconda3/envs/ml-dl/lib/python3.9/site-packages/torch/cuda/__init__.py:83: UserWarning: CUDA initialization: The NVIDIA driver on your system is too old (found version 9010). Please update your GPU driver by downloading and installing a new version from the URL: http://www.nvidia.com/Download/index.aspx Alternatively, go to: https://pytorch.org to install a PyTorch version that has been compiled with your version of the CUDA driver. (Triggered internally at  ../c10/cuda/CUDAFunctions.cpp:109.)\n",
      "  return torch._C._cuda_getDeviceCount() > 0\n"
     ]
    }
   ],
   "source": [
    "\n",
    "\n",
    "import torch\n",
    "import torch.nn as nn\n",
    "import torch.nn.functional as F\n",
    "from torch.utils.data import DataLoader\n",
    "import numpy as np"
   ]
  },
  {
   "cell_type": "code",
   "execution_count": null,
   "id": "f0887ed6",
   "metadata": {},
   "outputs": [],
   "source": []
  },
  {
   "cell_type": "code",
   "execution_count": 3,
   "id": "f2d66b34",
   "metadata": {},
   "outputs": [],
   "source": [
    "from math import sqrt\n",
    "\n",
    "def box(radius=2, box_size=28):\n",
    "    '''\n",
    "    to put some solid boxes in plain white images\n",
    "    returns image(s) with boxes on them with the radius defined for them\n",
    "    Comment: radius is a misnormer here. I wanted to show a scale thing for box in image\n",
    "    firstly I wrote a cricle function (not a box) that is why I left radius like this \n",
    "    '''\n",
    "    \n",
    "    if isinstance(radius, int):\n",
    "        rads = np.array([radius])\n",
    "    elif not isinstance(radius, np.ndarray):\n",
    "        rads = np.array(radius)\n",
    "        \n",
    "    rads = np.array(radius)\n",
    "\n",
    "    position = np.zeros((rads.size, box_size//2 * 2, box_size//2 * 2))\n",
    "    for i, r in enumerate(rads):\n",
    "        \n",
    "        for  x in range(-box_size//2, box_size//2):\n",
    "            for y in range(-box_size//2, box_size//2):\n",
    "                if ((abs(x) - r) < 0.01 and (abs(y) - r) < 0.01 ):\n",
    "                    position[i, x+box_size//2 , y+box_size//2] = 1\n",
    "   \n",
    "    return  torch.from_numpy(position).flatten(start_dim=1)\n",
    "    "
   ]
  },
  {
   "cell_type": "code",
   "execution_count": null,
   "id": "d436c711",
   "metadata": {},
   "outputs": [],
   "source": []
  },
  {
   "cell_type": "code",
   "execution_count": 4,
   "id": "dbc365a9",
   "metadata": {},
   "outputs": [],
   "source": [
    "box_siz = 24\n",
    "num_samples = 1000   # sample data number\n",
    "rand_radious= torch.randint(3, 150, (num_samples,))/10 # create a random array of raduis\n",
    "features = box(radius=rand_radious, box_size=box_siz)  # data set"
   ]
  },
  {
   "cell_type": "code",
   "execution_count": 5,
   "id": "a82894fb",
   "metadata": {},
   "outputs": [
    {
     "data": {
      "text/plain": [
       "torch.Size([1000, 576])"
      ]
     },
     "execution_count": 5,
     "metadata": {},
     "output_type": "execute_result"
    }
   ],
   "source": [
    "features.shape"
   ]
  },
  {
   "cell_type": "code",
   "execution_count": 6,
   "id": "9a975063",
   "metadata": {},
   "outputs": [],
   "source": [
    "batch_size = 40\n",
    "# img_size = (32, 32) # (width, height)\n",
    "# x_dim  = 784\n",
    "# x_dim  = 784\n",
    "\n",
    "input_dim = (box_siz//2 * 2)**2\n",
    "hidden_dim = 400\n",
    "latent_dim = 20\n",
    "\n",
    "\n",
    "# input_dim = 3\n",
    "# hidden_dim = 128\n",
    "# n_embeddings= 768\n",
    "output_dim = input_dim\n",
    "\n",
    "lr = 2e-4\n",
    "\n",
    "epochs = 300\n",
    "DEVICE = 'cpu'\n",
    "print_step = 50"
   ]
  },
  {
   "cell_type": "code",
   "execution_count": null,
   "id": "efd46e82",
   "metadata": {},
   "outputs": [],
   "source": []
  },
  {
   "cell_type": "code",
   "execution_count": 7,
   "id": "c2577a9e",
   "metadata": {},
   "outputs": [],
   "source": [
    "from torch.utils import data\n",
    "\n",
    "def load_array(data_arrays, batch_size, is_train=True): #@save\n",
    "    \"\"\"Construct a PyTorch data iterator.\"\"\"\n",
    "    dataset = data.TensorDataset(*data_arrays)\n",
    "    return data.DataLoader(dataset, batch_size, shuffle=is_train)"
   ]
  },
  {
   "cell_type": "code",
   "execution_count": 8,
   "id": "2e371feb",
   "metadata": {},
   "outputs": [],
   "source": [
    "train_x = features[:-20]\n",
    "test_x  = features[-20:]\n",
    "\n",
    "train_loader = load_array((train_x, train_x), batch_size)\n",
    "# train_loader = DataLoader(dataset=train_dataset, batch_size=batch_size, shuffle=True)\n",
    "test_loader  = load_array((test_x, test_x), 10)"
   ]
  },
  {
   "cell_type": "code",
   "execution_count": 9,
   "id": "03280d1f",
   "metadata": {},
   "outputs": [
    {
     "data": {
      "text/plain": [
       "(torch.Size([980, 576]), torch.Size([20, 576]))"
      ]
     },
     "execution_count": 9,
     "metadata": {},
     "output_type": "execute_result"
    }
   ],
   "source": [
    "train_x.shape, test_x.shape"
   ]
  },
  {
   "cell_type": "code",
   "execution_count": null,
   "id": "f398357e",
   "metadata": {},
   "outputs": [],
   "source": []
  },
  {
   "cell_type": "code",
   "execution_count": 10,
   "id": "8ffc7e3e",
   "metadata": {},
   "outputs": [],
   "source": [
    "\"\"\"\n",
    "    A simple implementation of Gaussian MLP Encoder and Decoder\n",
    "\"\"\"\n",
    "\n",
    "class Encoder(nn.Module):\n",
    "    \n",
    "    def __init__(self, input_dim, hidden_dim, latent_dim):\n",
    "        super(Encoder, self).__init__()\n",
    "\n",
    "        self.FC_input = nn.Linear(input_dim, hidden_dim)\n",
    "        self.FC_input2 = nn.Linear(hidden_dim, hidden_dim)\n",
    "        self.FC_mean  = nn.Linear(hidden_dim, latent_dim)\n",
    "        self.FC_var   = nn.Linear (hidden_dim, latent_dim)\n",
    "        \n",
    "        self.LeakyReLU = nn.LeakyReLU(0.2)\n",
    "        \n",
    "        self.training = True\n",
    "        \n",
    "    def forward(self, x):\n",
    "        h_       = self.LeakyReLU(self.FC_input(x))\n",
    "        h_       = self.LeakyReLU(self.FC_input2(h_))\n",
    "        mean     = self.FC_mean(h_)\n",
    "        log_var  = self.FC_var(h_)                     # encoder produces mean and log of variance \n",
    "                                                       #             (i.e., parateters of simple tractable normal distribution \"q\"\n",
    "        \n",
    "        return mean, log_var"
   ]
  },
  {
   "cell_type": "code",
   "execution_count": null,
   "id": "acab8689",
   "metadata": {},
   "outputs": [],
   "source": []
  },
  {
   "cell_type": "code",
   "execution_count": 11,
   "id": "d987fbd1",
   "metadata": {},
   "outputs": [],
   "source": [
    "\n",
    "class Decoder(nn.Module):\n",
    "    def __init__(self, latent_dim, hidden_dim, output_dim):\n",
    "        super(Decoder, self).__init__()\n",
    "        self.FC_hidden = nn.Linear(latent_dim, hidden_dim)\n",
    "        self.FC_hidden2 = nn.Linear(hidden_dim, hidden_dim)\n",
    "        self.FC_output = nn.Linear(hidden_dim, output_dim)\n",
    "        \n",
    "        self.LeakyReLU = nn.LeakyReLU(0.2)\n",
    "        \n",
    "    def forward(self, x):\n",
    "        h     = self.LeakyReLU(self.FC_hidden(x))\n",
    "        h     = self.LeakyReLU(self.FC_hidden2(h))\n",
    "        \n",
    "        x_hat = torch.sigmoid(self.FC_output(h))\n",
    "        return x_hat"
   ]
  },
  {
   "cell_type": "code",
   "execution_count": 12,
   "id": "edc2b43f",
   "metadata": {},
   "outputs": [],
   "source": [
    "# This took me a while to understand it.\n",
    "# z[i]= mu[i]+eps[i]*std[i]   for decoder \n",
    "# see bellow:"
   ]
  },
  {
   "cell_type": "markdown",
   "id": "4997201e",
   "metadata": {},
   "source": [
    "![image](VAE.jpg)"
   ]
  },
  {
   "cell_type": "code",
   "execution_count": null,
   "id": "8be7b2a9",
   "metadata": {},
   "outputs": [],
   "source": []
  },
  {
   "cell_type": "code",
   "execution_count": null,
   "id": "651a3bb8",
   "metadata": {},
   "outputs": [],
   "source": []
  },
  {
   "cell_type": "code",
   "execution_count": 14,
   "id": "39ea9e92",
   "metadata": {},
   "outputs": [],
   "source": [
    "class Model(nn.Module):\n",
    "    def __init__(self, Encoder, Decoder):\n",
    "        super(Model, self).__init__()\n",
    "        self.Encoder = Encoder\n",
    "        self.Decoder = Decoder\n",
    "        \n",
    "    def reparameterization(self, mean, var):\n",
    "        epsilon = torch.randn_like(var).to(DEVICE)        # sampling epsilon        \n",
    "        z = mean + var*epsilon                          # reparameterization trick\n",
    "        return z\n",
    "        \n",
    "                \n",
    "    def forward(self, x):\n",
    "        mean, log_var = self.Encoder(x)\n",
    "        z = self.reparameterization(mean, torch.exp(0.5 * log_var)) # takes exponential function (log var -> var)\n",
    "        x_hat            = self.Decoder(z)\n",
    "        \n",
    "        return x_hat, mean, log_var\n",
    "\n",
    "\n"
   ]
  },
  {
   "cell_type": "code",
   "execution_count": null,
   "id": "2d35cf94",
   "metadata": {},
   "outputs": [],
   "source": []
  },
  {
   "cell_type": "code",
   "execution_count": 15,
   "id": "3d0c8a51",
   "metadata": {},
   "outputs": [],
   "source": [
    "encoder = Encoder(input_dim=input_dim, hidden_dim=hidden_dim, latent_dim=latent_dim)\n",
    "decoder = Decoder(latent_dim=latent_dim, hidden_dim = hidden_dim, output_dim = output_dim)\n",
    "\n",
    "model = Model(Encoder=encoder, Decoder=decoder).to(DEVICE)\n"
   ]
  },
  {
   "cell_type": "code",
   "execution_count": null,
   "id": "a6d60395",
   "metadata": {},
   "outputs": [],
   "source": []
  },
  {
   "cell_type": "code",
   "execution_count": 16,
   "id": "ab4609f0",
   "metadata": {},
   "outputs": [],
   "source": [
    "# model(features[0].float())"
   ]
  },
  {
   "cell_type": "code",
   "execution_count": null,
   "id": "d3d505fb",
   "metadata": {},
   "outputs": [],
   "source": []
  },
  {
   "cell_type": "markdown",
   "id": "1a012aa7",
   "metadata": {},
   "source": [
    "# Defining loss function"
   ]
  },
  {
   "cell_type": "code",
   "execution_count": 17,
   "id": "e7106b83",
   "metadata": {},
   "outputs": [],
   "source": [
    "\n",
    "\n",
    "from torch.optim import Adam\n",
    "\n",
    "BCE_loss = nn.BCELoss()\n",
    "\n",
    "def loss_function(x, x_hat, mean, log_var):\n",
    "    reproduction_loss = nn.functional.binary_cross_entropy(x_hat.float(), x.float(), reduction='sum')\n",
    "    KLD      = - 0.5 * torch.sum(1+ log_var - mean.pow(2) - log_var.exp())\n",
    "\n",
    "    return reproduction_loss + KLD\n",
    "\n",
    "\n",
    "optimizer = Adam(model.parameters(), lr=lr)\n",
    "\n"
   ]
  },
  {
   "cell_type": "markdown",
   "id": "6b855420",
   "metadata": {},
   "source": [
    "# Training"
   ]
  },
  {
   "cell_type": "code",
   "execution_count": null,
   "id": "87caabee",
   "metadata": {},
   "outputs": [],
   "source": []
  },
  {
   "cell_type": "code",
   "execution_count": 18,
   "id": "3b6cbce4",
   "metadata": {},
   "outputs": [
    {
     "name": "stdout",
     "output_type": "stream",
     "text": [
      "Start training VAE...\n",
      "\tEpoch 1 complete! \tAverage Loss:  390.58460795084636\n",
      "\tEpoch 2 complete! \tAverage Loss:  248.53755009969075\n",
      "\tEpoch 3 complete! \tAverage Loss:  107.22409362792969\n",
      "\tEpoch 4 complete! \tAverage Loss:  70.99181098937989\n",
      "\tEpoch 5 complete! \tAverage Loss:  56.212481053670246\n",
      "\tEpoch 6 complete! \tAverage Loss:  45.619019444783525\n",
      "\tEpoch 7 complete! \tAverage Loss:  41.46055323282878\n",
      "\tEpoch 8 complete! \tAverage Loss:  38.14867312113444\n",
      "\tEpoch 9 complete! \tAverage Loss:  35.78027057647705\n",
      "\tEpoch 10 complete! \tAverage Loss:  32.842362594604495\n",
      "\tEpoch 11 complete! \tAverage Loss:  30.520989227294923\n",
      "\tEpoch 12 complete! \tAverage Loss:  29.196020317077636\n",
      "\tEpoch 13 complete! \tAverage Loss:  27.977867126464844\n",
      "\tEpoch 14 complete! \tAverage Loss:  27.877230389912924\n",
      "\tEpoch 15 complete! \tAverage Loss:  25.936965465545654\n",
      "\tEpoch 16 complete! \tAverage Loss:  24.822387631734212\n",
      "\tEpoch 17 complete! \tAverage Loss:  25.15625718434652\n",
      "\tEpoch 18 complete! \tAverage Loss:  22.891132831573486\n",
      "\tEpoch 19 complete! \tAverage Loss:  22.193071556091308\n",
      "\tEpoch 20 complete! \tAverage Loss:  23.50212968190511\n",
      "\tEpoch 21 complete! \tAverage Loss:  21.374302609761557\n",
      "\tEpoch 22 complete! \tAverage Loss:  21.303582859039306\n",
      "\tEpoch 23 complete! \tAverage Loss:  21.227515697479248\n",
      "\tEpoch 24 complete! \tAverage Loss:  20.382059160868327\n",
      "\tEpoch 25 complete! \tAverage Loss:  19.506647237141927\n",
      "\tEpoch 26 complete! \tAverage Loss:  19.51231549580892\n",
      "\tEpoch 27 complete! \tAverage Loss:  19.175733375549317\n",
      "\tEpoch 28 complete! \tAverage Loss:  19.16701577504476\n",
      "\tEpoch 29 complete! \tAverage Loss:  18.878332551320394\n",
      "\tEpoch 30 complete! \tAverage Loss:  18.203617699941\n",
      "\tEpoch 31 complete! \tAverage Loss:  17.671693515777587\n",
      "\tEpoch 32 complete! \tAverage Loss:  17.625210094451905\n",
      "\tEpoch 33 complete! \tAverage Loss:  18.11477762858073\n",
      "\tEpoch 34 complete! \tAverage Loss:  18.229035504659016\n",
      "\tEpoch 35 complete! \tAverage Loss:  18.620413080851236\n",
      "\tEpoch 36 complete! \tAverage Loss:  16.825585556030273\n",
      "\tEpoch 37 complete! \tAverage Loss:  15.911838785807292\n",
      "\tEpoch 38 complete! \tAverage Loss:  17.940693664550782\n",
      "\tEpoch 39 complete! \tAverage Loss:  18.666225973765055\n",
      "\tEpoch 40 complete! \tAverage Loss:  17.001131852467854\n",
      "\tEpoch 41 complete! \tAverage Loss:  15.986586825052898\n",
      "\tEpoch 42 complete! \tAverage Loss:  16.042417685190838\n",
      "\tEpoch 43 complete! \tAverage Loss:  14.741049226125082\n",
      "\tEpoch 44 complete! \tAverage Loss:  15.441005992889405\n",
      "\tEpoch 45 complete! \tAverage Loss:  15.84748919804891\n",
      "\tEpoch 46 complete! \tAverage Loss:  14.25499849319458\n",
      "\tEpoch 47 complete! \tAverage Loss:  14.393964831034342\n",
      "\tEpoch 48 complete! \tAverage Loss:  14.96530459721883\n",
      "\tEpoch 49 complete! \tAverage Loss:  14.882640997568766\n",
      "\tEpoch 50 complete! \tAverage Loss:  14.083522160847982\n",
      "\tEpoch 51 complete! \tAverage Loss:  13.832966645558676\n",
      "\tEpoch 52 complete! \tAverage Loss:  13.582178942362468\n",
      "\tEpoch 53 complete! \tAverage Loss:  14.410143693288168\n",
      "\tEpoch 54 complete! \tAverage Loss:  14.264233779907226\n",
      "\tEpoch 55 complete! \tAverage Loss:  14.21818544069926\n",
      "\tEpoch 56 complete! \tAverage Loss:  12.963579432169597\n",
      "\tEpoch 57 complete! \tAverage Loss:  13.195357259114584\n",
      "\tEpoch 58 complete! \tAverage Loss:  13.014967060089111\n",
      "\tEpoch 59 complete! \tAverage Loss:  12.805196650822957\n",
      "\tEpoch 60 complete! \tAverage Loss:  12.711262512207032\n",
      "\tEpoch 61 complete! \tAverage Loss:  12.428686157862346\n",
      "\tEpoch 62 complete! \tAverage Loss:  12.116680018107097\n",
      "\tEpoch 63 complete! \tAverage Loss:  12.186131731669109\n",
      "\tEpoch 64 complete! \tAverage Loss:  12.33508432706197\n",
      "\tEpoch 65 complete! \tAverage Loss:  12.23973560333252\n",
      "\tEpoch 66 complete! \tAverage Loss:  14.864946301778158\n",
      "\tEpoch 67 complete! \tAverage Loss:  12.033480151494343\n",
      "\tEpoch 68 complete! \tAverage Loss:  12.303973086675008\n",
      "\tEpoch 69 complete! \tAverage Loss:  11.007621892293294\n",
      "\tEpoch 70 complete! \tAverage Loss:  11.76906385421753\n",
      "\tEpoch 71 complete! \tAverage Loss:  12.133139737447102\n",
      "\tEpoch 72 complete! \tAverage Loss:  11.20212589899699\n",
      "\tEpoch 73 complete! \tAverage Loss:  11.071567503611247\n",
      "\tEpoch 74 complete! \tAverage Loss:  11.158902899424236\n",
      "\tEpoch 75 complete! \tAverage Loss:  12.087800598144531\n",
      "\tEpoch 76 complete! \tAverage Loss:  10.885630432764689\n",
      "\tEpoch 77 complete! \tAverage Loss:  10.834816757837931\n",
      "\tEpoch 78 complete! \tAverage Loss:  10.524679295221965\n",
      "\tEpoch 79 complete! \tAverage Loss:  10.68899811108907\n",
      "\tEpoch 80 complete! \tAverage Loss:  10.3692520459493\n",
      "\tEpoch 81 complete! \tAverage Loss:  9.9204474290212\n",
      "\tEpoch 82 complete! \tAverage Loss:  10.296245447794597\n",
      "\tEpoch 83 complete! \tAverage Loss:  10.240473079681397\n",
      "\tEpoch 84 complete! \tAverage Loss:  10.094162766138712\n",
      "\tEpoch 85 complete! \tAverage Loss:  10.026032829284668\n",
      "\tEpoch 86 complete! \tAverage Loss:  15.158128992716472\n",
      "\tEpoch 87 complete! \tAverage Loss:  14.758051824569701\n",
      "\tEpoch 88 complete! \tAverage Loss:  11.662973896662395\n",
      "\tEpoch 89 complete! \tAverage Loss:  10.667917188008627\n",
      "\tEpoch 90 complete! \tAverage Loss:  12.309903462727865\n",
      "\tEpoch 91 complete! \tAverage Loss:  12.168645668029786\n",
      "\tEpoch 92 complete! \tAverage Loss:  10.745565684636434\n",
      "\tEpoch 93 complete! \tAverage Loss:  10.37022918065389\n",
      "\tEpoch 94 complete! \tAverage Loss:  10.494556442896526\n",
      "\tEpoch 95 complete! \tAverage Loss:  9.289477411905924\n",
      "\tEpoch 96 complete! \tAverage Loss:  9.532230536142984\n",
      "\tEpoch 97 complete! \tAverage Loss:  10.28073066075643\n",
      "\tEpoch 98 complete! \tAverage Loss:  9.462041441599528\n",
      "\tEpoch 99 complete! \tAverage Loss:  9.273937590916951\n",
      "\tEpoch 100 complete! \tAverage Loss:  12.684807618459066\n",
      "\tEpoch 101 complete! \tAverage Loss:  12.686542002360026\n",
      "\tEpoch 102 complete! \tAverage Loss:  10.340488640467326\n",
      "\tEpoch 103 complete! \tAverage Loss:  9.361603546142579\n",
      "\tEpoch 104 complete! \tAverage Loss:  9.560645484924317\n",
      "\tEpoch 105 complete! \tAverage Loss:  9.38997418085734\n",
      "\tEpoch 106 complete! \tAverage Loss:  8.898969395955403\n",
      "\tEpoch 107 complete! \tAverage Loss:  9.242335971196493\n",
      "\tEpoch 108 complete! \tAverage Loss:  9.109302520751953\n",
      "\tEpoch 109 complete! \tAverage Loss:  9.811531130472819\n",
      "\tEpoch 110 complete! \tAverage Loss:  10.769190120697022\n",
      "\tEpoch 111 complete! \tAverage Loss:  9.313743940989177\n",
      "\tEpoch 112 complete! \tAverage Loss:  8.85102458000183\n",
      "\tEpoch 113 complete! \tAverage Loss:  9.709031597773235\n",
      "\tEpoch 114 complete! \tAverage Loss:  9.339516925811768\n",
      "\tEpoch 115 complete! \tAverage Loss:  9.019491179784138\n",
      "\tEpoch 116 complete! \tAverage Loss:  9.727088689804077\n",
      "\tEpoch 117 complete! \tAverage Loss:  9.296774641672771\n",
      "\tEpoch 118 complete! \tAverage Loss:  8.554369735717774\n",
      "\tEpoch 119 complete! \tAverage Loss:  8.855491320292154\n",
      "\tEpoch 120 complete! \tAverage Loss:  8.431037298838298\n",
      "\tEpoch 121 complete! \tAverage Loss:  9.501777172088623\n",
      "\tEpoch 122 complete! \tAverage Loss:  8.757564067840576\n",
      "\tEpoch 123 complete! \tAverage Loss:  9.435296440124512\n",
      "\tEpoch 124 complete! \tAverage Loss:  8.460342915852864\n",
      "\tEpoch 125 complete! \tAverage Loss:  8.480409463246664\n",
      "\tEpoch 126 complete! \tAverage Loss:  8.197576856613159\n",
      "\tEpoch 127 complete! \tAverage Loss:  8.942072836558024\n",
      "\tEpoch 128 complete! \tAverage Loss:  13.162822453180949\n",
      "\tEpoch 129 complete! \tAverage Loss:  15.74770639737447\n",
      "\tEpoch 130 complete! \tAverage Loss:  11.328298775355021\n",
      "\tEpoch 131 complete! \tAverage Loss:  11.635041840871175\n",
      "\tEpoch 132 complete! \tAverage Loss:  9.969204552968343\n",
      "\tEpoch 133 complete! \tAverage Loss:  9.04542940457662\n",
      "\tEpoch 134 complete! \tAverage Loss:  9.21756739616394\n",
      "\tEpoch 135 complete! \tAverage Loss:  10.744397481282553\n",
      "\tEpoch 136 complete! \tAverage Loss:  9.719481976826986\n",
      "\tEpoch 137 complete! \tAverage Loss:  9.966221809387207\n",
      "\tEpoch 138 complete! \tAverage Loss:  8.333995819091797\n",
      "\tEpoch 139 complete! \tAverage Loss:  8.629531129201252\n",
      "\tEpoch 140 complete! \tAverage Loss:  8.631107266743978\n",
      "\tEpoch 141 complete! \tAverage Loss:  8.335423644383749\n",
      "\tEpoch 142 complete! \tAverage Loss:  8.184301074345907\n",
      "\tEpoch 143 complete! \tAverage Loss:  7.7044926961263025\n",
      "\tEpoch 144 complete! \tAverage Loss:  8.799071073532104\n",
      "\tEpoch 145 complete! \tAverage Loss:  14.311332861582438\n",
      "\tEpoch 146 complete! \tAverage Loss:  12.212659549713134\n",
      "\tEpoch 147 complete! \tAverage Loss:  10.660543473561605\n",
      "\tEpoch 148 complete! \tAverage Loss:  8.894847758611043\n",
      "\tEpoch 149 complete! \tAverage Loss:  8.834480889638265\n",
      "\tEpoch 150 complete! \tAverage Loss:  8.95049721399943\n",
      "\tEpoch 151 complete! \tAverage Loss:  12.88199814160665\n",
      "\tEpoch 152 complete! \tAverage Loss:  10.174294106165569\n",
      "\tEpoch 153 complete! \tAverage Loss:  9.470000791549683\n",
      "\tEpoch 154 complete! \tAverage Loss:  8.241450277964274\n",
      "\tEpoch 155 complete! \tAverage Loss:  8.71652684211731\n",
      "\tEpoch 156 complete! \tAverage Loss:  8.315130917231242\n",
      "\tEpoch 157 complete! \tAverage Loss:  7.942971817652384\n",
      "\tEpoch 158 complete! \tAverage Loss:  8.446384175618489\n",
      "\tEpoch 159 complete! \tAverage Loss:  7.643827152252197\n",
      "\tEpoch 160 complete! \tAverage Loss:  8.213473351796468\n",
      "\tEpoch 161 complete! \tAverage Loss:  7.903796195983887\n",
      "\tEpoch 162 complete! \tAverage Loss:  8.033434724807739\n",
      "\tEpoch 163 complete! \tAverage Loss:  8.549835046132406\n",
      "\tEpoch 164 complete! \tAverage Loss:  11.16306702295939\n",
      "\tEpoch 165 complete! \tAverage Loss:  8.513862403233846\n",
      "\tEpoch 166 complete! \tAverage Loss:  7.469099553426107\n",
      "\tEpoch 167 complete! \tAverage Loss:  9.16562172571818\n",
      "\tEpoch 168 complete! \tAverage Loss:  8.943140427271524\n",
      "\tEpoch 169 complete! \tAverage Loss:  8.168155304590861\n",
      "\tEpoch 170 complete! \tAverage Loss:  8.12079161008199\n",
      "\tEpoch 171 complete! \tAverage Loss:  7.263492663701375\n",
      "\tEpoch 172 complete! \tAverage Loss:  7.911916526158651\n",
      "\tEpoch 173 complete! \tAverage Loss:  7.700509977340698\n",
      "\tEpoch 174 complete! \tAverage Loss:  8.82898006439209\n",
      "\tEpoch 175 complete! \tAverage Loss:  9.860294802983601\n",
      "\tEpoch 176 complete! \tAverage Loss:  7.996788851420084\n",
      "\tEpoch 177 complete! \tAverage Loss:  8.923479557037354\n",
      "\tEpoch 178 complete! \tAverage Loss:  8.078824520111084\n",
      "\tEpoch 179 complete! \tAverage Loss:  7.606429386138916\n",
      "\tEpoch 180 complete! \tAverage Loss:  7.311341142654419\n",
      "\tEpoch 181 complete! \tAverage Loss:  13.025902620951335\n",
      "\tEpoch 182 complete! \tAverage Loss:  14.960329055786133\n",
      "\tEpoch 183 complete! \tAverage Loss:  11.057000923156739\n",
      "\tEpoch 184 complete! \tAverage Loss:  9.402482064565023\n",
      "\tEpoch 185 complete! \tAverage Loss:  8.947089020411173\n",
      "\tEpoch 186 complete! \tAverage Loss:  8.47234034538269\n",
      "\tEpoch 187 complete! \tAverage Loss:  8.383884382247924\n",
      "\tEpoch 188 complete! \tAverage Loss:  8.00886869430542\n",
      "\tEpoch 189 complete! \tAverage Loss:  8.32888487180074\n",
      "\tEpoch 190 complete! \tAverage Loss:  7.721821308135986\n",
      "\tEpoch 191 complete! \tAverage Loss:  7.81353988647461\n",
      "\tEpoch 192 complete! \tAverage Loss:  7.800656414031982\n",
      "\tEpoch 193 complete! \tAverage Loss:  7.583559306462606\n",
      "\tEpoch 194 complete! \tAverage Loss:  8.448064804077148\n",
      "\tEpoch 195 complete! \tAverage Loss:  9.753163925806682\n",
      "\tEpoch 196 complete! \tAverage Loss:  8.355978520711263\n",
      "\tEpoch 197 complete! \tAverage Loss:  8.855632559458416\n",
      "\tEpoch 198 complete! \tAverage Loss:  8.070780436197916\n",
      "\tEpoch 199 complete! \tAverage Loss:  7.959451373418172\n",
      "\tEpoch 200 complete! \tAverage Loss:  7.786028337478638\n",
      "\tEpoch 201 complete! \tAverage Loss:  7.888991451263427\n",
      "\tEpoch 202 complete! \tAverage Loss:  8.315920543670654\n",
      "\tEpoch 203 complete! \tAverage Loss:  7.222005351384481\n",
      "\tEpoch 204 complete! \tAverage Loss:  7.056882158915202\n",
      "\tEpoch 205 complete! \tAverage Loss:  7.301964950561524\n",
      "\tEpoch 206 complete! \tAverage Loss:  7.7076665242513025\n",
      "\tEpoch 207 complete! \tAverage Loss:  7.473795588811239\n",
      "\tEpoch 208 complete! \tAverage Loss:  7.10289454460144\n",
      "\tEpoch 209 complete! \tAverage Loss:  7.993118381500244\n",
      "\tEpoch 210 complete! \tAverage Loss:  7.621935828526815\n",
      "\tEpoch 211 complete! \tAverage Loss:  7.281637279192607\n",
      "\tEpoch 212 complete! \tAverage Loss:  7.02404416402181\n",
      "\tEpoch 213 complete! \tAverage Loss:  7.617082802454631\n",
      "\tEpoch 214 complete! \tAverage Loss:  7.629078467686971\n",
      "\tEpoch 215 complete! \tAverage Loss:  7.146720258394877\n",
      "\tEpoch 216 complete! \tAverage Loss:  7.358956623077392\n",
      "\tEpoch 217 complete! \tAverage Loss:  8.390196371078492\n",
      "\tEpoch 218 complete! \tAverage Loss:  7.370240116119385\n",
      "\tEpoch 219 complete! \tAverage Loss:  7.393571742375692\n",
      "\tEpoch 220 complete! \tAverage Loss:  7.055892737706502\n",
      "\tEpoch 221 complete! \tAverage Loss:  6.926895014444987\n",
      "\tEpoch 222 complete! \tAverage Loss:  7.409156862894694\n",
      "\tEpoch 223 complete! \tAverage Loss:  6.9251097440719604\n",
      "\tEpoch 224 complete! \tAverage Loss:  6.673015864690145\n",
      "\tEpoch 225 complete! \tAverage Loss:  8.041605011622112\n",
      "\tEpoch 226 complete! \tAverage Loss:  8.379617691040039\n",
      "\tEpoch 227 complete! \tAverage Loss:  7.987644942601522\n",
      "\tEpoch 228 complete! \tAverage Loss:  7.1969004074732466\n",
      "\tEpoch 229 complete! \tAverage Loss:  6.708746004104614\n",
      "\tEpoch 230 complete! \tAverage Loss:  6.626986368497213\n",
      "\tEpoch 231 complete! \tAverage Loss:  7.357872931162516\n",
      "\tEpoch 232 complete! \tAverage Loss:  6.764671031634013\n",
      "\tEpoch 233 complete! \tAverage Loss:  7.5852729956309\n",
      "\tEpoch 234 complete! \tAverage Loss:  7.407923777898152\n",
      "\tEpoch 235 complete! \tAverage Loss:  6.805457758903503\n",
      "\tEpoch 236 complete! \tAverage Loss:  6.864756623903911\n",
      "\tEpoch 237 complete! \tAverage Loss:  6.547146916389465\n",
      "\tEpoch 238 complete! \tAverage Loss:  6.858991622924805\n",
      "\tEpoch 239 complete! \tAverage Loss:  7.266557598114014\n",
      "\tEpoch 240 complete! \tAverage Loss:  7.207509501775106\n",
      "\tEpoch 241 complete! \tAverage Loss:  8.349449412027996\n",
      "\tEpoch 242 complete! \tAverage Loss:  7.628709491093954\n",
      "\tEpoch 243 complete! \tAverage Loss:  7.196958573659261\n",
      "\tEpoch 244 complete! \tAverage Loss:  6.924431626001994\n",
      "\tEpoch 245 complete! \tAverage Loss:  6.41829104423523\n",
      "\tEpoch 246 complete! \tAverage Loss:  6.961855268478393\n",
      "\tEpoch 247 complete! \tAverage Loss:  7.173184704780579\n",
      "\tEpoch 248 complete! \tAverage Loss:  7.181353839238485\n",
      "\tEpoch 249 complete! \tAverage Loss:  6.867298086484273\n",
      "\tEpoch 250 complete! \tAverage Loss:  6.864414707819621\n",
      "\tEpoch 251 complete! \tAverage Loss:  6.608807992935181\n",
      "\tEpoch 252 complete! \tAverage Loss:  6.546443080902099\n",
      "\tEpoch 253 complete! \tAverage Loss:  7.033931414286296\n",
      "\tEpoch 254 complete! \tAverage Loss:  6.855538662274679\n",
      "\tEpoch 255 complete! \tAverage Loss:  7.400380420684814\n",
      "\tEpoch 256 complete! \tAverage Loss:  7.51409850915273\n",
      "\tEpoch 257 complete! \tAverage Loss:  6.757535592714945\n",
      "\tEpoch 258 complete! \tAverage Loss:  6.299750463167826\n",
      "\tEpoch 259 complete! \tAverage Loss:  6.934484322865804\n",
      "\tEpoch 260 complete! \tAverage Loss:  6.852666838963827\n",
      "\tEpoch 261 complete! \tAverage Loss:  8.153278764088949\n",
      "\tEpoch 262 complete! \tAverage Loss:  7.381536769866943\n",
      "\tEpoch 263 complete! \tAverage Loss:  7.606119918823242\n",
      "\tEpoch 264 complete! \tAverage Loss:  7.501260423660279\n",
      "\tEpoch 265 complete! \tAverage Loss:  6.541932551066081\n",
      "\tEpoch 266 complete! \tAverage Loss:  7.263951508204142\n",
      "\tEpoch 267 complete! \tAverage Loss:  7.769649283091227\n",
      "\tEpoch 268 complete! \tAverage Loss:  6.833863671620687\n",
      "\tEpoch 269 complete! \tAverage Loss:  7.147648032506307\n",
      "\tEpoch 270 complete! \tAverage Loss:  6.39093763033549\n",
      "\tEpoch 271 complete! \tAverage Loss:  6.306865366299947\n",
      "\tEpoch 272 complete! \tAverage Loss:  6.253621117273966\n",
      "\tEpoch 273 complete! \tAverage Loss:  6.236351362864176\n",
      "\tEpoch 274 complete! \tAverage Loss:  6.078354660669962\n",
      "\tEpoch 275 complete! \tAverage Loss:  5.900365646680196\n",
      "\tEpoch 276 complete! \tAverage Loss:  5.836898636817932\n",
      "\tEpoch 277 complete! \tAverage Loss:  6.041825739542643\n",
      "\tEpoch 278 complete! \tAverage Loss:  6.585146299997965\n",
      "\tEpoch 279 complete! \tAverage Loss:  6.16214104493459\n",
      "\tEpoch 280 complete! \tAverage Loss:  5.919903516769409\n",
      "\tEpoch 281 complete! \tAverage Loss:  6.13647871017456\n",
      "\tEpoch 282 complete! \tAverage Loss:  5.865467985471089\n",
      "\tEpoch 283 complete! \tAverage Loss:  6.5690711498260494\n",
      "\tEpoch 284 complete! \tAverage Loss:  6.888276743888855\n",
      "\tEpoch 285 complete! \tAverage Loss:  7.330054346720377\n",
      "\tEpoch 286 complete! \tAverage Loss:  6.376438013712565\n",
      "\tEpoch 287 complete! \tAverage Loss:  5.899819358189901\n",
      "\tEpoch 288 complete! \tAverage Loss:  5.87588807741801\n",
      "\tEpoch 289 complete! \tAverage Loss:  5.754069177309672\n",
      "\tEpoch 290 complete! \tAverage Loss:  5.4745949904123945\n",
      "\tEpoch 291 complete! \tAverage Loss:  6.173233572642008\n",
      "\tEpoch 292 complete! \tAverage Loss:  6.6663044134775795\n",
      "\tEpoch 293 complete! \tAverage Loss:  6.6336067835489905\n",
      "\tEpoch 294 complete! \tAverage Loss:  6.508795483907064\n",
      "\tEpoch 295 complete! \tAverage Loss:  5.89816312789917\n",
      "\tEpoch 296 complete! \tAverage Loss:  6.602120081583659\n",
      "\tEpoch 297 complete! \tAverage Loss:  6.070526679356893\n",
      "\tEpoch 298 complete! \tAverage Loss:  6.141938495635986\n",
      "\tEpoch 299 complete! \tAverage Loss:  5.997216502825419\n",
      "\tEpoch 300 complete! \tAverage Loss:  5.892497213681539\n",
      "Finish!!\n"
     ]
    }
   ],
   "source": [
    "print(\"Start training VAE...\")\n",
    "model.train()\n",
    "\n",
    "for epoch in range(epochs):\n",
    "    overall_loss = 0\n",
    "    for batch_idx, (x, _) in enumerate(train_loader):\n",
    "#         x = x.view(batch_size, x_dim)\n",
    "        x = x.to(DEVICE)\n",
    "\n",
    "        optimizer.zero_grad()\n",
    "\n",
    "        x_hat, mean, log_var = model(x.float())\n",
    "        loss = loss_function(x, x_hat, mean, log_var)\n",
    "        \n",
    "        overall_loss += loss.item()\n",
    "        \n",
    "        loss.backward()\n",
    "        optimizer.step()\n",
    "        \n",
    "    print(\"\\tEpoch\", epoch + 1, \"complete!\", \"\\tAverage Loss: \", overall_loss / (batch_idx*batch_size))\n",
    "    \n",
    "print(\"Finish!!\")\n"
   ]
  },
  {
   "cell_type": "code",
   "execution_count": null,
   "id": "804c9663",
   "metadata": {},
   "outputs": [],
   "source": []
  },
  {
   "cell_type": "code",
   "execution_count": null,
   "id": "c8f0cc03",
   "metadata": {},
   "outputs": [],
   "source": []
  },
  {
   "cell_type": "code",
   "execution_count": 19,
   "id": "c970ad5f",
   "metadata": {},
   "outputs": [],
   "source": [
    "import matplotlib.pyplot as plt\n",
    "import numpy as np"
   ]
  },
  {
   "cell_type": "code",
   "execution_count": 20,
   "id": "ff58be6e",
   "metadata": {},
   "outputs": [],
   "source": [
    "\n",
    "sample_example = 5\n",
    "x = features[sample_example].reshape(box_siz//2 *2,box_siz//2 *2).float()\n",
    "y, mu, var = model(features[sample_example].float())\n",
    "# y = mu + y*var\n",
    "y = y.reshape(box_siz//2 *2,box_siz//2 *2).float()"
   ]
  },
  {
   "cell_type": "code",
   "execution_count": 21,
   "id": "a38b4c51",
   "metadata": {},
   "outputs": [
    {
     "data": {
      "text/plain": [
       "<matplotlib.image.AxesImage at 0x7fa53aa783d0>"
      ]
     },
     "execution_count": 21,
     "metadata": {},
     "output_type": "execute_result"
    },
    {
     "data": {
      "image/png": "[encoded data removed]",
      "text/plain": [
       "<Figure size 432x288 with 2 Axes>"
      ]
     },
     "metadata": {
      "needs_background": "light"
     },
     "output_type": "display_data"
    }
   ],
   "source": [
    "plt.subplot(211)\n",
    "plt.imshow(x.detach().numpy(), cmap='Greys')\n",
    "plt.subplot(212)\n",
    "plt.imshow(y.detach().numpy(), cmap='Greys',  interpolation='nearest')"
   ]
  },
  {
   "cell_type": "code",
   "execution_count": null,
   "id": "31283384",
   "metadata": {},
   "outputs": [],
   "source": []
  },
  {
   "cell_type": "markdown",
   "id": "bfc24cd6",
   "metadata": {},
   "source": [
    "# Generate new samples"
   ]
  },
  {
   "cell_type": "code",
   "execution_count": 22,
   "id": "fe5bc420",
   "metadata": {},
   "outputs": [],
   "source": [
    "# now taking decoder we can produce new data samples"
   ]
  },
  {
   "cell_type": "code",
   "execution_count": 23,
   "id": "9eb77db9",
   "metadata": {},
   "outputs": [],
   "source": [
    "with torch.no_grad():\n",
    "    noise = torch.randn(batch_size, latent_dim).to(DEVICE)\n",
    "    generated_sample = decoder(noise)"
   ]
  },
  {
   "cell_type": "code",
   "execution_count": null,
   "id": "f0eb9e67",
   "metadata": {},
   "outputs": [],
   "source": []
  },
  {
   "cell_type": "code",
   "execution_count": 24,
   "id": "230c892f",
   "metadata": {},
   "outputs": [
    {
     "data": {
      "text/plain": [
       "tensor([[6.4448e-07, 5.4139e-07, 9.3890e-07,  ..., 2.7061e-03, 2.0500e-03,\n",
       "         2.4460e-03],\n",
       "        [8.9692e-01, 9.1562e-01, 9.0832e-01,  ..., 9.8773e-01, 9.8902e-01,\n",
       "         9.8606e-01],\n",
       "        [8.3196e-04, 9.0354e-04, 8.9273e-04,  ..., 1.0000e+00, 1.0000e+00,\n",
       "         1.0000e+00],\n",
       "        ...,\n",
       "        [7.8035e-06, 7.7178e-06, 1.1643e-05,  ..., 7.0637e-02, 4.1615e-02,\n",
       "         7.7021e-02],\n",
       "        [2.4641e-25, 4.6598e-25, 1.4240e-24,  ..., 2.3447e-24, 7.7154e-25,\n",
       "         2.5312e-23],\n",
       "        [1.1093e-08, 6.4591e-09, 9.7673e-09,  ..., 1.5216e-07, 6.7318e-08,\n",
       "         1.7078e-07]])"
      ]
     },
     "execution_count": 24,
     "metadata": {},
     "output_type": "execute_result"
    }
   ],
   "source": [
    "generated_sample"
   ]
  },
  {
   "cell_type": "code",
   "execution_count": 25,
   "id": "742d111a",
   "metadata": {},
   "outputs": [
    {
     "data": {
      "text/plain": [
       "torch.Size([576])"
      ]
     },
     "execution_count": 25,
     "metadata": {},
     "output_type": "execute_result"
    }
   ],
   "source": [
    "generated_sample[0].shape"
   ]
  },
  {
   "cell_type": "code",
   "execution_count": null,
   "id": "8120c328",
   "metadata": {},
   "outputs": [],
   "source": []
  },
  {
   "cell_type": "code",
   "execution_count": 26,
   "id": "9a93a88a",
   "metadata": {},
   "outputs": [
    {
     "data": {
      "text/plain": [
       "<matplotlib.image.AxesImage at 0x7fa53a73ad90>"
      ]
     },
     "execution_count": 26,
     "metadata": {},
     "output_type": "execute_result"
    },
    {
     "data": {
      "image/png": "[encoded data removed]",
      "text/plain": [
       "<Figure size 432x288 with 1 Axes>"
      ]
     },
     "metadata": {
      "needs_background": "light"
     },
     "output_type": "display_data"
    }
   ],
   "source": [
    "plt.subplot(212)\n",
    "y = generated_sample[17].reshape(box_siz//2 *2,box_siz//2 *2).float()\n",
    "plt.imshow(y.detach().numpy(), cmap='Greys',  interpolation='nearest')"
   ]
  },
  {
   "cell_type": "code",
   "execution_count": null,
   "id": "f2756b22",
   "metadata": {},
   "outputs": [],
   "source": []
  },
  {
   "cell_type": "code",
   "execution_count": 27,
   "id": "3ce86a97",
   "metadata": {},
   "outputs": [
    {
     "data": {
      "image/png": "[encoded data removed]",
      "text/plain": [
       "<Figure size 1080x864 with 40 Axes>"
      ]
     },
     "metadata": {
      "needs_background": "light"
     },
     "output_type": "display_data"
    }
   ],
   "source": [
    "plt.figure(figsize=(15, 12))\n",
    "plt.subplots_adjust(hspace=0.2)\n",
    "plt.suptitle(\"Daily closing prices\", fontsize=18, y=0.95)\n",
    "\n",
    "# set number of columns (use 3 to demonstrate the change)\n",
    "ncols =5\n",
    "# calculate number of rows\n",
    "nrows =batch_size//ncols\n",
    "for idx, sample in enumerate (generated_sample):\n",
    "\n",
    "    ax = plt.subplot(nrows, ncols, idx + 1)\n",
    "    y = sample.reshape(box_siz//2 *2,box_siz//2 *2).float()\n",
    "\n",
    "    plt.imshow(y.detach().numpy(), cmap='Greys',  interpolation='nearest')\n"
   ]
  },
  {
   "cell_type": "code",
   "execution_count": null,
   "id": "adf859f4",
   "metadata": {},
   "outputs": [],
   "source": []
  },
  {
   "cell_type": "markdown",
   "id": "aecfee85",
   "metadata": {},
   "source": [
    "# comment"
   ]
  },
  {
   "cell_type": "code",
   "execution_count": 28,
   "id": "f839cebb",
   "metadata": {},
   "outputs": [],
   "source": [
    "#  Based on what the programmer said in: \n",
    "#     https://github.com/Jackson-Kang/Pytorch-VAE-tutorial/blob/master/01_Variational_AutoEncoder.ipynb"
   ]
  },
  {
   "cell_type": "markdown",
   "id": "9c73d72e",
   "metadata": {},
   "source": [
    "\n",
    "\n",
    "Please note that this is not the correct generative process.\n",
    "\n",
    "    Even if we don't know exact p(z|x), we can generate images from noise, since the loss function of training VAE regulates the q(z|x) (simple and tractable posteriors) must close enough to N(0, I). If q(z|x) is close to N(0, I) \"enough\"(but not tightly close due to posterior collapse problem), N(0, I) may replace the encoder of VAE.\n",
    "\n",
    "    To show this, I just tested with a noise vector sampled from N(0, I) similar with Generative Adversarial Network.\n",
    "\n"
   ]
  },
  {
   "cell_type": "code",
   "execution_count": null,
   "id": "1c4f85f2",
   "metadata": {},
   "outputs": [],
   "source": []
  }
 ],
 "metadata": {
  "kernelspec": {
   "display_name": "Python 3 (ipykernel)",
   "language": "python",
   "name": "python3"
  },
  "language_info": {
   "codemirror_mode": {
    "name": "ipython",
    "version": 3
   },
   "file_extension": ".py",
   "mimetype": "text/x-python",
   "name": "python",
   "nbconvert_exporter": "python",
   "pygments_lexer": "ipython3",
   "version": "3.10.11"
  }
 },
 "nbformat": 4,
 "nbformat_minor": 5
}
