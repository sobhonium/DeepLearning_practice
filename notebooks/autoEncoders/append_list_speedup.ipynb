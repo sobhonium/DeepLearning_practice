{
 "cells": [
  {
   "cell_type": "code",
   "execution_count": null,
   "id": "e0fe26fa-d7d8-4483-8919-ac5bb5b93491",
   "metadata": {},
   "outputs": [],
   "source": [
    "# Always use list append method for appending an elament, not '+' !"
   ]
  },
  {
   "cell_type": "code",
   "execution_count": null,
   "id": "2f5a1442-bc87-4d25-b078-0e973163e547",
   "metadata": {},
   "outputs": [],
   "source": [
    "# testing li = li + [] vs. li.append([])"
   ]
  },
  {
   "cell_type": "code",
   "execution_count": 3,
   "id": "c076e421-83da-4aa3-9e32-0acba7d88151",
   "metadata": {},
   "outputs": [
    {
     "name": "stdout",
     "output_type": "stream",
     "text": [
      "292 ms ± 3.21 ms per loop (mean ± std. dev. of 7 runs, 1 loop each)\n"
     ]
    }
   ],
   "source": [
    "%%timeit\n",
    "li = []\n",
    "for i in range(10000):\n",
    "    li = li + [1,2,3]"
   ]
  },
  {
   "cell_type": "code",
   "execution_count": null,
   "id": "474d3969-c185-45e1-909a-4c84d6bd620d",
   "metadata": {},
   "outputs": [],
   "source": []
  },
  {
   "cell_type": "code",
   "execution_count": 4,
   "id": "58d12636-e0ee-4206-99dd-34313bfe880a",
   "metadata": {},
   "outputs": [
    {
     "name": "stdout",
     "output_type": "stream",
     "text": [
      "1.01 ms ± 9.08 µs per loop (mean ± std. dev. of 7 runs, 1,000 loops each)\n"
     ]
    }
   ],
   "source": [
    "%%timeit\n",
    "li = []\n",
    "for i in range(10000):\n",
    "    li.append([1,2,3])"
   ]
  },
  {
   "cell_type": "code",
   "execution_count": null,
   "id": "ff9e73e1-a612-440c-aba9-de992041cd89",
   "metadata": {},
   "outputs": [],
   "source": []
  }
 ],
 "metadata": {
  "kernelspec": {
   "display_name": "Python 3",
   "language": "python",
   "name": "python3"
  },
  "language_info": {
   "codemirror_mode": {
    "name": "ipython",
    "version": 3
   },
   "file_extension": ".py",
   "mimetype": "text/x-python",
   "name": "python",
   "nbconvert_exporter": "python",
   "pygments_lexer": "ipython3",
   "version": "3.9.12"
  }
 },
 "nbformat": 4,
 "nbformat_minor": 5
}
