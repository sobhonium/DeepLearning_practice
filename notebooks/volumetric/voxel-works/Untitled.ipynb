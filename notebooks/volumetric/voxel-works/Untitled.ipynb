{
 "cells": [
  {
   "cell_type": "code",
   "execution_count": null,
   "id": "c889e165",
   "metadata": {},
   "outputs": [],
   "source": []
  },
  {
   "cell_type": "code",
   "execution_count": null,
   "id": "23a586ef",
   "metadata": {},
   "outputs": [],
   "source": []
  },
  {
   "cell_type": "code",
   "execution_count": null,
   "id": "98ed2417",
   "metadata": {},
   "outputs": [],
   "source": []
  },
  {
   "cell_type": "markdown",
   "id": "3a62890d",
   "metadata": {},
   "source": [
    "Neural networks, unlike the machine learning methods that came before it do not rest upon any probabilistic or statistical assumptions about the data they are fed. However, one of the most, if not the most important element required to ensure that neural networks learn properly is that the data fed to the layers of a neural network exhibit certain properties.\n",
    "\n",
    "- The data distribution should be **zero centered**, i.e the mean of the distribution should be around zero. Absence of this can cause **vanishing gradients** and **jittery training**.\n",
    "    \n",
    "- It is preferred that the distribution be a **normal** one. Absence of this can cause the network to **overfit** to a domain of input space."
   ]
  },
  {
   "cell_type": "code",
   "execution_count": null,
   "id": "e12f990c",
   "metadata": {},
   "outputs": [],
   "source": []
  },
  {
   "cell_type": "raw",
   "id": "afe6eccb",
   "metadata": {},
   "source": [
    "the problem of vanishing gradients is well documented, and gets much more pronounced as we go deeper and deeper with neural networks"
   ]
  },
  {
   "cell_type": "code",
   "execution_count": null,
   "id": "6aa21865",
   "metadata": {},
   "outputs": [],
   "source": []
  },
  {
   "cell_type": "code",
   "execution_count": 1,
   "id": "d2b53cea",
   "metadata": {},
   "outputs": [],
   "source": [
    "# now keep reading at this:\n",
    "# https://blog.paperspace.com/vanishing-gradients-activation-function/"
   ]
  },
  {
   "cell_type": "raw",
   "id": "6a64fe7f",
   "metadata": {},
   "source": [
    "From this blog, find 'Saturated Neurons' to learn that. Wow This blog is amazing, specially its conclusion"
   ]
  },
  {
   "cell_type": "code",
   "execution_count": null,
   "id": "8cb2f2a8",
   "metadata": {},
   "outputs": [],
   "source": []
  }
 ],
 "metadata": {
  "kernelspec": {
   "display_name": "Python 3 (ipykernel)",
   "language": "python",
   "name": "python3"
  },
  "language_info": {
   "codemirror_mode": {
    "name": "ipython",
    "version": 3
   },
   "file_extension": ".py",
   "mimetype": "text/x-python",
   "name": "python",
   "nbconvert_exporter": "python",
   "pygments_lexer": "ipython3",
   "version": "3.10.11"
  }
 },
 "nbformat": 4,
 "nbformat_minor": 5
}
