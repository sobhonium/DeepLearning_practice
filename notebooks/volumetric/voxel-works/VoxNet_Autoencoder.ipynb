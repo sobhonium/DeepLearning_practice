{
 "cells": [
  {
   "cell_type": "code",
   "execution_count": 1,
   "id": "24fcedf3",
   "metadata": {},
   "outputs": [],
   "source": [
    "# July 2023\n",
    "# Implementing VoxNet for Autoencoder (not classification that explained previously):\n",
    "# you can see the VoxNet's architecture at https://github.com/AutoDeep/VoxNet"
   ]
  },
  {
   "cell_type": "code",
   "execution_count": 2,
   "id": "1a448a4e",
   "metadata": {},
   "outputs": [],
   "source": [
    "# VoxnetEncoder is a name I myself selected here. I'm not sure if there is something similar out\n",
    "# there for this or not..."
   ]
  },
  {
   "cell_type": "code",
   "execution_count": null,
   "id": "2d5c6be9",
   "metadata": {},
   "outputs": [],
   "source": []
  },
  {
   "cell_type": "markdown",
   "id": "61c11361",
   "metadata": {},
   "source": [
    "# 1) Voxeling Modelnet10"
   ]
  },
  {
   "cell_type": "code",
   "execution_count": 3,
   "id": "51da2d7d",
   "metadata": {},
   "outputs": [],
   "source": [
    "dataset_addr = '/home/sbn/Downloads/datasets/data_/ModelNet10/'"
   ]
  },
  {
   "cell_type": "code",
   "execution_count": 4,
   "id": "85a45b47",
   "metadata": {},
   "outputs": [
    {
     "name": "stdout",
     "output_type": "stream",
     "text": [
      "{'bathtub': 0, 'chair': 1, 'dresser': 2, 'night_stand': 3, 'sofa': 4, 'toilet': 5, 'bed': 6, 'desk': 7, 'monitor': 8, 'table': 9}\n"
     ]
    }
   ],
   "source": [
    "import torch\n",
    "from torch.utils.data import DataLoader\n",
    "import numpy as np\n",
    "\n",
    "\n",
    "\n",
    "\n",
    "# import sys\n",
    "# sys.path.insert(0, dataset_addr)\n",
    "from modelnet10 import ModelNet10\n",
    "\n",
    "CLASSES = {\n",
    "    0: 'bathtub',\n",
    "    1: 'chair',\n",
    "    2: 'dresser',\n",
    "    3: 'night_stand',\n",
    "    4: 'sofa',\n",
    "    5: 'toilet',\n",
    "    6: 'bed',\n",
    "    7: 'desk',\n",
    "    8: 'monitor',\n",
    "    9: 'table'\n",
    "}\n",
    "N_CLASSES = len(CLASSES)\n",
    "\n",
    "\n",
    "\n",
    "train_dataset = ModelNet10(data_root= dataset_addr, \n",
    "                           n_classes=N_CLASSES, \n",
    "                           idx2cls=CLASSES, \n",
    "                           split='train')\n",
    "\n",
    "train_dataloader = DataLoader(train_dataset, \n",
    "                              batch_size=1, \n",
    "                              shuffle=True)\n",
    "\n",
    "\n"
   ]
  },
  {
   "cell_type": "code",
   "execution_count": null,
   "id": "59bb8efb",
   "metadata": {},
   "outputs": [],
   "source": []
  },
  {
   "cell_type": "markdown",
   "id": "db90fae6",
   "metadata": {},
   "source": [
    "# Testing voxel"
   ]
  },
  {
   "cell_type": "code",
   "execution_count": null,
   "id": "9e5879b6",
   "metadata": {},
   "outputs": [],
   "source": []
  },
  {
   "cell_type": "code",
   "execution_count": 5,
   "id": "0e1662bb",
   "metadata": {},
   "outputs": [
    {
     "name": "stdout",
     "output_type": "stream",
     "text": [
      "torch.Size([1, 1, 32, 32, 32])\n"
     ]
    }
   ],
   "source": [
    "for sample in train_dataloader:\n",
    "    voxel, cls_idx = sample['voxel'], sample['cls_idx']\n",
    "    print(voxel.shape)\n",
    "    break"
   ]
  },
  {
   "cell_type": "code",
   "execution_count": null,
   "id": "81be1b4f",
   "metadata": {},
   "outputs": [],
   "source": []
  },
  {
   "cell_type": "markdown",
   "id": "d0000d36",
   "metadata": {},
   "source": [
    "# VoxNet Encoder/ Decoder"
   ]
  },
  {
   "cell_type": "code",
   "execution_count": null,
   "id": "bdd76fb8",
   "metadata": {},
   "outputs": [],
   "source": []
  },
  {
   "cell_type": "markdown",
   "id": "689d390f",
   "metadata": {},
   "source": [
    "<!-- ![image](images/VoxNet.png) -->"
   ]
  },
  {
   "cell_type": "code",
   "execution_count": null,
   "id": "243b3020",
   "metadata": {},
   "outputs": [],
   "source": []
  },
  {
   "cell_type": "raw",
   "id": "9796a57b",
   "metadata": {},
   "source": [
    "By voxelization I have a \"Occupany Grid\"...already."
   ]
  },
  {
   "cell_type": "code",
   "execution_count": null,
   "id": "210bcfea",
   "metadata": {},
   "outputs": [],
   "source": []
  },
  {
   "cell_type": "code",
   "execution_count": 6,
   "id": "3e0a5911",
   "metadata": {},
   "outputs": [],
   "source": [
    "import torch\n",
    "from torch import nn"
   ]
  },
  {
   "cell_type": "code",
   "execution_count": null,
   "id": "a3330c3e",
   "metadata": {},
   "outputs": [],
   "source": []
  },
  {
   "cell_type": "code",
   "execution_count": 7,
   "id": "585ba1be",
   "metadata": {},
   "outputs": [
    {
     "ename": "SyntaxError",
     "evalue": "unmatched ')' (3046689517.py, line 10)",
     "output_type": "error",
     "traceback": [
      "\u001b[0;36m  Cell \u001b[0;32mIn[7], line 10\u001b[0;36m\u001b[0m\n\u001b[0;31m    )\u001b[0m\n\u001b[0m    ^\u001b[0m\n\u001b[0;31mSyntaxError\u001b[0m\u001b[0;31m:\u001b[0m unmatched ')'\n"
     ]
    }
   ],
   "source": [
    "# VoxNetEncoder = nn.Sequential(\n",
    "#                 nn.Conv3d(in_channels=1, out_channels=32, kernel_size=(5,5,5), stride=2),\n",
    "#                 nn.Conv3d(in_channels=32, out_channels=32, kernel_size=(3,3,3), stride=1),\n",
    "#                 nn.AvgPool3d(kernel_size=(2,2,2), stride=2),\n",
    "#                 nn.Flatten(start_dim=1),\n",
    "#                 nn.Linear(6912, 128),\n",
    "#                 nn.Linear(128, 25),\n",
    "#                 nn.Linear(25,3),\n",
    "#                 nn.ReLU()\n",
    ")\n",
    "    "
   ]
  },
  {
   "cell_type": "code",
   "execution_count": null,
   "id": "fc3e7265",
   "metadata": {},
   "outputs": [],
   "source": []
  },
  {
   "cell_type": "code",
   "execution_count": 8,
   "id": "44e32366",
   "metadata": {},
   "outputs": [],
   "source": [
    "# VoxNetDecoder = nn.Sequential(\n",
    "#                 nn.Linear(3,25),\n",
    "#                 nn.Linear(25, 128),\n",
    "#                 nn.Linear(128, 1000),\n",
    "#                 nn.Unflatten(dim=1, unflattened_size=(10,10,10)),\n",
    "\n",
    "#                 nn.ConvTranspose3d(in_channels=1, out_channels=32, kernel_size=(7,7,7), dilation=2),\n",
    "#                 nn.ReLU(),\n",
    "#                 nn.ConvTranspose3d(in_channels=32, out_channels=32, kernel_size=(5,5,5), dilation=2),\n",
    "#                 nn.ReLU(),\n",
    "#                 nn.ConvTranspose3d(in_channels=32, out_channels=1, kernel_size=(5,5,5), dilation=1, \n",
    "#                                    output_padding=0,\n",
    "#                                   padding=1,\n",
    "#                                    stride=1),     \n",
    "#                 nn.Tanh()\n",
    "# )\n",
    "    "
   ]
  },
  {
   "cell_type": "code",
   "execution_count": 9,
   "id": "29ca58ab",
   "metadata": {},
   "outputs": [],
   "source": [
    "# VoxNetAutoencoder = nn.Sequential(\n",
    "#                 VoxNetEncoder(),\n",
    "#                 VoxNetDecoder(),\n",
    "# )"
   ]
  },
  {
   "cell_type": "code",
   "execution_count": null,
   "id": "f02a726b",
   "metadata": {},
   "outputs": [],
   "source": []
  },
  {
   "cell_type": "code",
   "execution_count": 10,
   "id": "2488bb55",
   "metadata": {},
   "outputs": [],
   "source": [
    "class VoxNetAutoencoder(nn.Module):\n",
    "    def __init__(self):\n",
    "        super(VoxNetAutoencoder, self).__init__()\n",
    "        \n",
    "        self.VoxNetEncoder = nn.Sequential(\n",
    "                nn.Conv3d(in_channels=1, out_channels=32, kernel_size=(5,5,5), stride=2),\n",
    "                nn.Conv3d(in_channels=32, out_channels=32, kernel_size=(3,3,3), stride=1),\n",
    "                nn.AvgPool3d(kernel_size=(2,2,2), stride=2),\n",
    "                nn.Flatten(start_dim=1),\n",
    "                nn.Linear(6912, 128),\n",
    "                nn.Linear(128, 25),\n",
    "                nn.Linear(25,3),\n",
    "                nn.ReLU()\n",
    "        )\n",
    "        \n",
    "        self.VoxNetDecoder = nn.Sequential(\n",
    "                nn.Linear(3,25),\n",
    "                nn.Linear(25, 128),\n",
    "                nn.Linear(128, 1000),\n",
    "                nn.Unflatten(dim=1, unflattened_size=(10,10,10)),\n",
    "\n",
    "                nn.ConvTranspose3d(in_channels=1, out_channels=32, kernel_size=(7,7,7), dilation=2),\n",
    "                nn.ReLU(),\n",
    "                nn.ConvTranspose3d(in_channels=32, out_channels=32, kernel_size=(5,5,5), dilation=2),\n",
    "                nn.ReLU(),\n",
    "                nn.ConvTranspose3d(in_channels=32, out_channels=1, kernel_size=(5,5,5), dilation=1, \n",
    "                                   output_padding=0,\n",
    "                                   padding=1,\n",
    "                                   stride=1),     \n",
    "                nn.Tanh()\n",
    "        )\n",
    "        \n",
    "\n",
    "                \n",
    "    def forward(self, x):\n",
    "        x = self.VoxNetEncoder(x)\n",
    "        return self.VoxNetDecoder(x)\n",
    "        "
   ]
  },
  {
   "cell_type": "code",
   "execution_count": 12,
   "id": "bf545c6d",
   "metadata": {},
   "outputs": [],
   "source": [
    "# VoxNetDecoder(VoxNetEncoder(voxel.float())).shape"
   ]
  },
  {
   "cell_type": "code",
   "execution_count": 13,
   "id": "dfc8c9d4",
   "metadata": {},
   "outputs": [],
   "source": [
    "model = VoxNetAutoencoder()\n"
   ]
  },
  {
   "cell_type": "code",
   "execution_count": 14,
   "id": "5c8a739c",
   "metadata": {},
   "outputs": [
    {
     "data": {
      "text/plain": [
       "torch.Size([1, 32, 32, 32])"
      ]
     },
     "execution_count": 14,
     "metadata": {},
     "output_type": "execute_result"
    }
   ],
   "source": [
    "model(voxel.float()).shape"
   ]
  },
  {
   "cell_type": "code",
   "execution_count": null,
   "id": "dc6d82b1",
   "metadata": {},
   "outputs": [],
   "source": []
  },
  {
   "cell_type": "code",
   "execution_count": null,
   "id": "177a1b87",
   "metadata": {},
   "outputs": [],
   "source": []
  },
  {
   "cell_type": "code",
   "execution_count": 15,
   "id": "e2508f95",
   "metadata": {},
   "outputs": [],
   "source": [
    "optimizer = torch.optim.SGD(model.parameters(), lr=0.003)"
   ]
  },
  {
   "cell_type": "code",
   "execution_count": 16,
   "id": "6682d996",
   "metadata": {},
   "outputs": [],
   "source": [
    "loss = nn.MSELoss()"
   ]
  },
  {
   "cell_type": "code",
   "execution_count": null,
   "id": "4a532775",
   "metadata": {},
   "outputs": [],
   "source": []
  },
  {
   "cell_type": "code",
   "execution_count": 17,
   "id": "3d6e5732",
   "metadata": {},
   "outputs": [
    {
     "name": "stdout",
     "output_type": "stream",
     "text": [
      "Start training ...\n"
     ]
    },
    {
     "name": "stderr",
     "output_type": "stream",
     "text": [
      "/home/sbn/miniconda3/envs/deeplearning0/lib/python3.10/site-packages/torch/nn/modules/loss.py:536: UserWarning: Using a target size (torch.Size([1])) that is different to the input size (torch.Size([1, 32, 32, 32])). This will likely lead to incorrect results due to broadcasting. Please ensure they have the same size.\n",
      "  return F.mse_loss(input, target, reduction=self.reduction)\n"
     ]
    },
    {
     "ename": "KeyboardInterrupt",
     "evalue": "",
     "output_type": "error",
     "traceback": [
      "\u001b[0;31m---------------------------------------------------------------------------\u001b[0m",
      "\u001b[0;31mKeyboardInterrupt\u001b[0m                         Traceback (most recent call last)",
      "Cell \u001b[0;32mIn[17], line 13\u001b[0m\n\u001b[1;32m     11\u001b[0m         ll \u001b[38;5;241m=\u001b[39m loss(y_hat, y\u001b[38;5;241m.\u001b[39mfloat())\n\u001b[1;32m     12\u001b[0m         overall_loss \u001b[38;5;241m+\u001b[39m\u001b[38;5;241m=\u001b[39m ll\u001b[38;5;241m.\u001b[39mitem()\n\u001b[0;32m---> 13\u001b[0m         \u001b[43mll\u001b[49m\u001b[38;5;241;43m.\u001b[39;49m\u001b[43mbackward\u001b[49m\u001b[43m(\u001b[49m\u001b[43m)\u001b[49m\n\u001b[1;32m     14\u001b[0m         optimizer\u001b[38;5;241m.\u001b[39mstep()\n\u001b[1;32m     16\u001b[0m \u001b[38;5;66;03m#     print(\"\\tEpoch\", epoch + 1, \"complete!\", \"\\tAverage Loss: \", overall_loss / (batch_idx*batch_size))\u001b[39;00m\n",
      "File \u001b[0;32m~/miniconda3/envs/deeplearning0/lib/python3.10/site-packages/torch/_tensor.py:488\u001b[0m, in \u001b[0;36mTensor.backward\u001b[0;34m(self, gradient, retain_graph, create_graph, inputs)\u001b[0m\n\u001b[1;32m    478\u001b[0m \u001b[38;5;28;01mif\u001b[39;00m has_torch_function_unary(\u001b[38;5;28mself\u001b[39m):\n\u001b[1;32m    479\u001b[0m     \u001b[38;5;28;01mreturn\u001b[39;00m handle_torch_function(\n\u001b[1;32m    480\u001b[0m         Tensor\u001b[38;5;241m.\u001b[39mbackward,\n\u001b[1;32m    481\u001b[0m         (\u001b[38;5;28mself\u001b[39m,),\n\u001b[0;32m   (...)\u001b[0m\n\u001b[1;32m    486\u001b[0m         inputs\u001b[38;5;241m=\u001b[39minputs,\n\u001b[1;32m    487\u001b[0m     )\n\u001b[0;32m--> 488\u001b[0m \u001b[43mtorch\u001b[49m\u001b[38;5;241;43m.\u001b[39;49m\u001b[43mautograd\u001b[49m\u001b[38;5;241;43m.\u001b[39;49m\u001b[43mbackward\u001b[49m\u001b[43m(\u001b[49m\n\u001b[1;32m    489\u001b[0m \u001b[43m    \u001b[49m\u001b[38;5;28;43mself\u001b[39;49m\u001b[43m,\u001b[49m\u001b[43m \u001b[49m\u001b[43mgradient\u001b[49m\u001b[43m,\u001b[49m\u001b[43m \u001b[49m\u001b[43mretain_graph\u001b[49m\u001b[43m,\u001b[49m\u001b[43m \u001b[49m\u001b[43mcreate_graph\u001b[49m\u001b[43m,\u001b[49m\u001b[43m \u001b[49m\u001b[43minputs\u001b[49m\u001b[38;5;241;43m=\u001b[39;49m\u001b[43minputs\u001b[49m\n\u001b[1;32m    490\u001b[0m \u001b[43m\u001b[49m\u001b[43m)\u001b[49m\n",
      "File \u001b[0;32m~/miniconda3/envs/deeplearning0/lib/python3.10/site-packages/torch/autograd/__init__.py:197\u001b[0m, in \u001b[0;36mbackward\u001b[0;34m(tensors, grad_tensors, retain_graph, create_graph, grad_variables, inputs)\u001b[0m\n\u001b[1;32m    192\u001b[0m     retain_graph \u001b[38;5;241m=\u001b[39m create_graph\n\u001b[1;32m    194\u001b[0m \u001b[38;5;66;03m# The reason we repeat same the comment below is that\u001b[39;00m\n\u001b[1;32m    195\u001b[0m \u001b[38;5;66;03m# some Python versions print out the first line of a multi-line function\u001b[39;00m\n\u001b[1;32m    196\u001b[0m \u001b[38;5;66;03m# calls in the traceback and some print out the last line\u001b[39;00m\n\u001b[0;32m--> 197\u001b[0m \u001b[43mVariable\u001b[49m\u001b[38;5;241;43m.\u001b[39;49m\u001b[43m_execution_engine\u001b[49m\u001b[38;5;241;43m.\u001b[39;49m\u001b[43mrun_backward\u001b[49m\u001b[43m(\u001b[49m\u001b[43m  \u001b[49m\u001b[38;5;66;43;03m# Calls into the C++ engine to run the backward pass\u001b[39;49;00m\n\u001b[1;32m    198\u001b[0m \u001b[43m    \u001b[49m\u001b[43mtensors\u001b[49m\u001b[43m,\u001b[49m\u001b[43m \u001b[49m\u001b[43mgrad_tensors_\u001b[49m\u001b[43m,\u001b[49m\u001b[43m \u001b[49m\u001b[43mretain_graph\u001b[49m\u001b[43m,\u001b[49m\u001b[43m \u001b[49m\u001b[43mcreate_graph\u001b[49m\u001b[43m,\u001b[49m\u001b[43m \u001b[49m\u001b[43minputs\u001b[49m\u001b[43m,\u001b[49m\n\u001b[1;32m    199\u001b[0m \u001b[43m    \u001b[49m\u001b[43mallow_unreachable\u001b[49m\u001b[38;5;241;43m=\u001b[39;49m\u001b[38;5;28;43;01mTrue\u001b[39;49;00m\u001b[43m,\u001b[49m\u001b[43m \u001b[49m\u001b[43maccumulate_grad\u001b[49m\u001b[38;5;241;43m=\u001b[39;49m\u001b[38;5;28;43;01mTrue\u001b[39;49;00m\u001b[43m)\u001b[49m\n",
      "\u001b[0;31mKeyboardInterrupt\u001b[0m: "
     ]
    }
   ],
   "source": [
    "print(\"Start training ...\")\n",
    "model.train()\n",
    "\n",
    "for epoch in range(30):\n",
    "    overall_loss = 0\n",
    "    for batch_idx, sample in enumerate(train_dataloader):\n",
    "        x,y =  sample['voxel'], sample['cls_idx']\n",
    "        \n",
    "        optimizer.zero_grad()\n",
    "        y_hat = model(x.float()).float()\n",
    "        ll = loss(y_hat, y.float())\n",
    "        overall_loss += ll.item()\n",
    "        ll.backward()\n",
    "        optimizer.step()\n",
    "        \n",
    "#     print(\"\\tEpoch\", epoch + 1, \"complete!\", \"\\tAverage Loss: \", overall_loss / (batch_idx*batch_size))\n",
    "    print(overall_loss)\n",
    "    \n",
    "print(\"Finish!!\")"
   ]
  },
  {
   "cell_type": "code",
   "execution_count": null,
   "id": "f76929ce",
   "metadata": {},
   "outputs": [],
   "source": []
  },
  {
   "cell_type": "markdown",
   "id": "ca19b95a",
   "metadata": {},
   "source": [
    "# Test Sample:"
   ]
  },
  {
   "cell_type": "code",
   "execution_count": 18,
   "id": "d051a8a2",
   "metadata": {},
   "outputs": [
    {
     "name": "stdout",
     "output_type": "stream",
     "text": [
      "Test Sample:\n",
      "tensor([[0.0335, 0.0000, 0.0979]], grad_fn=<ReluBackward0>)\n",
      "Ground Truth  = tensor([2])\n"
     ]
    }
   ],
   "source": [
    "model.eval()\n",
    "\n",
    "print('Test Sample:')\n",
    "for sample in train_dataloader:\n",
    "    sample_x, sample_y = sample['voxel'], sample['cls_idx']\n",
    "#     sample_y_hat = torch.argmax(\n",
    "    bottle_neck = model.VoxNetEncoder(sample_x.float())\n",
    "    print(bottle_neck)\n",
    "    print('Ground Truth  =', sample_y)\n",
    "#     print('Predicted     =', sample_y_hat)\n",
    "#     print(voxel.shape)\n",
    "    break"
   ]
  },
  {
   "cell_type": "code",
   "execution_count": null,
   "id": "787dddee",
   "metadata": {},
   "outputs": [],
   "source": []
  },
  {
   "cell_type": "code",
   "execution_count": 112,
   "id": "91508bc0",
   "metadata": {},
   "outputs": [],
   "source": [
    "# Saving VoxNet model and its parameters.\n",
    "torch.save(VoxNet.state_dict(), \"model/AutoEncoderVoxNetmodel.params\")\n",
    "torch.save(VoxNet.state_dict(), \"model/AutoEncoderVoxNetmodel.params.pt\")\n",
    "torch.save(VoxNet, \"model/enitre_AutoEncoderVoxNetmodell\")"
   ]
  },
  {
   "cell_type": "code",
   "execution_count": null,
   "id": "4a159318",
   "metadata": {},
   "outputs": [],
   "source": []
  },
  {
   "cell_type": "code",
   "execution_count": 114,
   "id": "307a6374",
   "metadata": {},
   "outputs": [
    {
     "data": {
      "text/plain": [
       "Sequential(\n",
       "  (0): Conv3d(1, 32, kernel_size=(5, 5, 5), stride=(2, 2, 2))\n",
       "  (1): Conv3d(32, 32, kernel_size=(3, 3, 3), stride=(1, 1, 1))\n",
       "  (2): AvgPool3d(kernel_size=(2, 2, 2), stride=2, padding=0)\n",
       "  (3): Flatten(start_dim=1, end_dim=-1)\n",
       "  (4): Linear(in_features=6912, out_features=128, bias=True)\n",
       "  (5): Linear(in_features=128, out_features=10, bias=True)\n",
       "  (6): ReLU()\n",
       ")"
      ]
     },
     "execution_count": 114,
     "metadata": {},
     "output_type": "execute_result"
    }
   ],
   "source": [
    "#  (Uncomment this if you want):\n",
    "# # Whenever it's needed you can do loading the trained model with*:\n",
    "# model = torch.load(\"model/enitre_VoxNetmodel\")\n",
    "# model.eval()"
   ]
  },
  {
   "cell_type": "code",
   "execution_count": 183,
   "id": "c841e39c",
   "metadata": {},
   "outputs": [],
   "source": [
    "# print('Test Sample:')\n",
    "# for sample in train_dataloader:\n",
    "#     sample_x, sample_y = sample['voxel'], sample['cls_idx']\n",
    "#     sample_y_hat = torch.argmax(model(sample_x.float()))\n",
    "#     print('Ground Truth  =', sample_y)\n",
    "#     print('Predicted     =', sample_y_hat)\n",
    "# #     print(voxel.shape)\n",
    "#     break"
   ]
  },
  {
   "cell_type": "code",
   "execution_count": null,
   "id": "0fa6156b",
   "metadata": {},
   "outputs": [],
   "source": []
  },
  {
   "cell_type": "code",
   "execution_count": null,
   "id": "9fa7750e",
   "metadata": {},
   "outputs": [],
   "source": []
  }
 ],
 "metadata": {
  "kernelspec": {
   "display_name": "Python 3 (ipykernel)",
   "language": "python",
   "name": "python3"
  },
  "language_info": {
   "codemirror_mode": {
    "name": "ipython",
    "version": 3
   },
   "file_extension": ".py",
   "mimetype": "text/x-python",
   "name": "python",
   "nbconvert_exporter": "python",
   "pygments_lexer": "ipython3",
   "version": "3.10.11"
  }
 },
 "nbformat": 4,
 "nbformat_minor": 5
}
