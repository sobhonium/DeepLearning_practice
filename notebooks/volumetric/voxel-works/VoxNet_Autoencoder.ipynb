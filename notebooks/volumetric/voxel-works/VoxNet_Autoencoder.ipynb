{
 "cells": [
  {
   "cell_type": "code",
   "execution_count": 1,
   "id": "24fcedf3",
   "metadata": {},
   "outputs": [],
   "source": [
    "# July 2023\n",
    "# Implementing VoxNet for Autoencoder (not classification that explained previously):\n",
    "# you can see the VoxNet's architecture at https://github.com/AutoDeep/VoxNet"
   ]
  },
  {
   "cell_type": "code",
   "execution_count": 2,
   "id": "65392f7d",
   "metadata": {},
   "outputs": [],
   "source": [
    "# VoxnetEncoder is a name I myself selected here. I'm not sure if there is something similar out\n",
    "# there for this or not..."
   ]
  },
  {
   "cell_type": "code",
   "execution_count": null,
   "id": "5fe94f59",
   "metadata": {},
   "outputs": [],
   "source": []
  },
  {
   "cell_type": "markdown",
   "id": "61c11361",
   "metadata": {},
   "source": [
    "# 1) Voxeling Modelnet10"
   ]
  },
  {
   "cell_type": "code",
   "execution_count": 3,
   "id": "51da2d7d",
   "metadata": {},
   "outputs": [],
   "source": [
    "dataset_addr = '/home/sbn/Downloads/datasets/data_/ModelNet10/'"
   ]
  },
  {
   "cell_type": "code",
   "execution_count": 60,
   "id": "85a45b47",
   "metadata": {},
   "outputs": [
    {
     "name": "stdout",
     "output_type": "stream",
     "text": [
      "{'bathtub': 0, 'chair': 1, 'dresser': 2, 'night_stand': 3, 'sofa': 4, 'toilet': 5, 'bed': 6, 'desk': 7, 'monitor': 8, 'table': 9}\n"
     ]
    }
   ],
   "source": [
    "import torch\n",
    "from torch.utils.data import DataLoader\n",
    "import numpy as np\n",
    "\n",
    "\n",
    "\n",
    "\n",
    "# import sys\n",
    "# sys.path.insert(0, dataset_addr)\n",
    "from modelnet10 import ModelNet10\n",
    "\n",
    "CLASSES = {\n",
    "    0: 'bathtub',\n",
    "    1: 'chair',\n",
    "    2: 'dresser',\n",
    "    3: 'night_stand',\n",
    "    4: 'sofa',\n",
    "    5: 'toilet',\n",
    "    6: 'bed',\n",
    "    7: 'desk',\n",
    "    8: 'monitor',\n",
    "    9: 'table'\n",
    "}\n",
    "N_CLASSES = len(CLASSES)\n",
    "\n",
    "\n",
    "\n",
    "train_dataset = ModelNet10(data_root= dataset_addr, \n",
    "                           n_classes=N_CLASSES, \n",
    "                           idx2cls=CLASSES, \n",
    "                           split='train')\n",
    "\n",
    "train_dataloader = DataLoader(train_dataset, \n",
    "                              batch_size=1, \n",
    "                              shuffle=True)\n",
    "\n",
    "\n"
   ]
  },
  {
   "cell_type": "code",
   "execution_count": null,
   "id": "59bb8efb",
   "metadata": {},
   "outputs": [],
   "source": []
  },
  {
   "cell_type": "markdown",
   "id": "db90fae6",
   "metadata": {},
   "source": [
    "# Testing voxel"
   ]
  },
  {
   "cell_type": "code",
   "execution_count": null,
   "id": "9e5879b6",
   "metadata": {},
   "outputs": [],
   "source": []
  },
  {
   "cell_type": "code",
   "execution_count": 61,
   "id": "0e1662bb",
   "metadata": {},
   "outputs": [
    {
     "name": "stdout",
     "output_type": "stream",
     "text": [
      "torch.Size([1, 1, 32, 32, 32])\n"
     ]
    }
   ],
   "source": [
    "for sample in train_dataloader:\n",
    "    voxel, cls_idx = sample['voxel'], sample['cls_idx']\n",
    "    print(voxel.shape)\n",
    "    break"
   ]
  },
  {
   "cell_type": "code",
   "execution_count": null,
   "id": "81be1b4f",
   "metadata": {},
   "outputs": [],
   "source": []
  },
  {
   "cell_type": "markdown",
   "id": "d0000d36",
   "metadata": {},
   "source": [
    "# VoxNet Encoder/ Decoder"
   ]
  },
  {
   "cell_type": "code",
   "execution_count": null,
   "id": "bdd76fb8",
   "metadata": {},
   "outputs": [],
   "source": []
  },
  {
   "cell_type": "markdown",
   "id": "689d390f",
   "metadata": {},
   "source": [
    "<!-- ![image](images/VoxNet.png) -->"
   ]
  },
  {
   "cell_type": "code",
   "execution_count": null,
   "id": "243b3020",
   "metadata": {},
   "outputs": [],
   "source": []
  },
  {
   "cell_type": "raw",
   "id": "9796a57b",
   "metadata": {},
   "source": [
    "By voxelization I have a \"Occupany Grid\"...already."
   ]
  },
  {
   "cell_type": "code",
   "execution_count": null,
   "id": "210bcfea",
   "metadata": {},
   "outputs": [],
   "source": []
  },
  {
   "cell_type": "code",
   "execution_count": 62,
   "id": "3e0a5911",
   "metadata": {},
   "outputs": [],
   "source": [
    "import torch\n",
    "from torch import nn"
   ]
  },
  {
   "cell_type": "code",
   "execution_count": null,
   "id": "af7936a0",
   "metadata": {},
   "outputs": [],
   "source": []
  },
  {
   "cell_type": "code",
   "execution_count": null,
   "id": "18b2194c",
   "metadata": {},
   "outputs": [],
   "source": [
    "\n",
    "    "
   ]
  },
  {
   "cell_type": "code",
   "execution_count": null,
   "id": "7b3fff22",
   "metadata": {},
   "outputs": [],
   "source": []
  },
  {
   "cell_type": "code",
   "execution_count": 63,
   "id": "cfa7f743",
   "metadata": {},
   "outputs": [],
   "source": [
    "# VoxNetDecoder = nn.Sequential(\n",
    "#                 nn.Linear(3,25),\n",
    "#                 nn.Linear(25, 128),\n",
    "#                 nn.Linear(128, 1000),\n",
    "#                 nn.Unflatten(dim=1, unflattened_size=(10,10,10)),\n",
    "\n",
    "#                 nn.ConvTranspose3d(in_channels=1, out_channels=32, kernel_size=(7,7,7), dilation=2),\n",
    "#                 nn.ReLU(),\n",
    "#                 nn.ConvTranspose3d(in_channels=32, out_channels=32, kernel_size=(5,5,5), dilation=2),\n",
    "#                 nn.ReLU(),\n",
    "#                 nn.ConvTranspose3d(in_channels=32, out_channels=1, kernel_size=(5,5,5), dilation=1, \n",
    "#                                    output_padding=0,\n",
    "#                                   padding=1,\n",
    "#                                    stride=1),     \n",
    "#                 nn.Tanh()\n",
    "# )\n",
    "    "
   ]
  },
  {
   "cell_type": "code",
   "execution_count": 64,
   "id": "29ca58ab",
   "metadata": {},
   "outputs": [],
   "source": [
    "# VoxNetAutoencoder = nn.Sequential(\n",
    "#                 VoxNetEncoder(),\n",
    "#                 VoxNetDecoder(),\n",
    "# )"
   ]
  },
  {
   "cell_type": "code",
   "execution_count": 65,
   "id": "f02a726b",
   "metadata": {},
   "outputs": [],
   "source": [
    "class BinaryActication(torch.autograd.Function):\n",
    "    @staticmethod\n",
    "    def forward(ctx, z):\n",
    "        \n",
    "        ctx.save_for_backward(z) # saves z in y=f(z). z is an array for all output neurons.\n",
    "        y = torch.sign(z)        # y shows y in y=f(z). Here just I know the size is like z'size.              \n",
    "        return y\n",
    "    \n",
    "    @staticmethod\n",
    "    def backward(ctx, grad_output):\n",
    "        z, = ctx.saved_tensors\n",
    "        dy_dz = z.clone()\n",
    "        dy_dz[(dy_dz>=-1) * (dy_dz<=1)] = 1\n",
    "        dy_dz[(dy_dz!=1)] = 0\n",
    "        # print('dy/dz=', dy_dz)\n",
    "        return  dy_dz"
   ]
  },
  {
   "cell_type": "code",
   "execution_count": 66,
   "id": "113b9933",
   "metadata": {},
   "outputs": [
    {
     "data": {
      "text/plain": [
       "tensor(1.)"
      ]
     },
     "execution_count": 66,
     "metadata": {},
     "output_type": "execute_result"
    }
   ],
   "source": [
    "torch.sign(torch.tensor(0.01))"
   ]
  },
  {
   "cell_type": "code",
   "execution_count": null,
   "id": "99bee329",
   "metadata": {},
   "outputs": [],
   "source": []
  },
  {
   "cell_type": "code",
   "execution_count": 76,
   "id": "2488bb55",
   "metadata": {},
   "outputs": [],
   "source": [
    "class VoxNetAutoencoder(nn.Module):\n",
    "    def __init__(self):\n",
    "        super(VoxNetAutoencoder, self).__init__()\n",
    "        self.VoxNetEncoder = nn.Sequential(\n",
    "                nn.Conv3d(in_channels=1, out_channels=16, kernel_size=(5,5,5), stride=2),\n",
    "                nn.BatchNorm3d(16),\n",
    "                nn.ReLU(),\n",
    "                nn.Conv3d(in_channels=16, out_channels=32, kernel_size=(3,3,3), stride=1),\n",
    "                nn.BatchNorm3d(32),\n",
    "                nn.ReLU(),\n",
    "                nn.AvgPool3d(kernel_size=(2,2,2), stride=2),\n",
    "                nn.Flatten(start_dim=1),\n",
    "                nn.Linear(6912, 128),\n",
    "                nn.ReLU(),\n",
    "                nn.Linear(128, 25),\n",
    "                nn.ReLU(),\n",
    "                nn.Linear(25,3),\n",
    "                nn.ReLU()\n",
    "        )\n",
    "        \n",
    "        self.VoxNetDecoder = nn.Sequential(\n",
    "                nn.Linear(3,25),\n",
    "                nn.ReLU(),\n",
    "                nn.Linear(25, 128), nn.ReLU(),\n",
    "                nn.Linear(128, 1000), nn.ReLU(),\n",
    "            nn.Linear(1000, 1000), nn.ReLU(),\n",
    "                nn.Unflatten(dim=1, unflattened_size=(1,10,10,10)),\n",
    "                nn.ConvTranspose3d(in_channels=1, out_channels=16, kernel_size=(7,7,7), dilation=2),\n",
    "                nn.BatchNorm3d(16),\n",
    "                nn.ReLU(),\n",
    "                nn.ConvTranspose3d(in_channels=16, out_channels=16, kernel_size=(5,5,5), dilation=2),\n",
    "                nn.BatchNorm3d(16),\n",
    "                nn.ReLU(),\n",
    "                nn.ConvTranspose3d(in_channels=16, out_channels=1, kernel_size=(5,5,5), dilation=1, \n",
    "                                   output_padding=0,\n",
    "                                   padding=1,\n",
    "                                   stride=1),\n",
    "#                 nn.Tanh()\n",
    "                \n",
    "        )\n",
    "        \n",
    "\n",
    "                \n",
    "    def forward(self, x):\n",
    "        x = self.VoxNetEncoder(x)\n",
    "        x = self.VoxNetDecoder(x)\n",
    "        return BinaryActication.apply(x) \n",
    "#         return \n",
    "        "
   ]
  },
  {
   "cell_type": "code",
   "execution_count": 77,
   "id": "bf545c6d",
   "metadata": {},
   "outputs": [],
   "source": [
    "# VoxNetDecoder(VoxNetEncoder(voxel.float())).shape"
   ]
  },
  {
   "cell_type": "code",
   "execution_count": 78,
   "id": "84f3d67c",
   "metadata": {},
   "outputs": [],
   "source": [
    "model = VoxNetAutoencoder()"
   ]
  },
  {
   "cell_type": "code",
   "execution_count": 79,
   "id": "b8b8e2c5",
   "metadata": {},
   "outputs": [],
   "source": [
    "from torchsummary import summary"
   ]
  },
  {
   "cell_type": "code",
   "execution_count": 80,
   "id": "d3b733a9",
   "metadata": {},
   "outputs": [
    {
     "name": "stdout",
     "output_type": "stream",
     "text": [
      "----------------------------------------------------------------\n",
      "        Layer (type)               Output Shape         Param #\n",
      "================================================================\n",
      "            Conv3d-1        [5, 16, 14, 14, 14]           2,016\n",
      "       BatchNorm3d-2        [5, 16, 14, 14, 14]              32\n",
      "              ReLU-3        [5, 16, 14, 14, 14]               0\n",
      "            Conv3d-4        [5, 32, 12, 12, 12]          13,856\n",
      "       BatchNorm3d-5        [5, 32, 12, 12, 12]              64\n",
      "              ReLU-6        [5, 32, 12, 12, 12]               0\n",
      "         AvgPool3d-7           [5, 32, 6, 6, 6]               0\n",
      "           Flatten-8                  [5, 6912]               0\n",
      "            Linear-9                   [5, 128]         884,864\n",
      "             ReLU-10                   [5, 128]               0\n",
      "           Linear-11                    [5, 25]           3,225\n",
      "             ReLU-12                    [5, 25]               0\n",
      "           Linear-13                     [5, 3]              78\n",
      "             ReLU-14                     [5, 3]               0\n",
      "           Linear-15                    [5, 25]             100\n",
      "             ReLU-16                    [5, 25]               0\n",
      "           Linear-17                   [5, 128]           3,328\n",
      "             ReLU-18                   [5, 128]               0\n",
      "           Linear-19                  [5, 1000]         129,000\n",
      "             ReLU-20                  [5, 1000]               0\n",
      "           Linear-21                  [5, 1000]       1,001,000\n",
      "             ReLU-22                  [5, 1000]               0\n",
      "        Unflatten-23         [5, 1, 10, 10, 10]               0\n",
      "  ConvTranspose3d-24        [5, 16, 22, 22, 22]           5,504\n",
      "      BatchNorm3d-25        [5, 16, 22, 22, 22]              32\n",
      "             ReLU-26        [5, 16, 22, 22, 22]               0\n",
      "  ConvTranspose3d-27        [5, 16, 30, 30, 30]          32,016\n",
      "      BatchNorm3d-28        [5, 16, 30, 30, 30]              32\n",
      "             ReLU-29        [5, 16, 30, 30, 30]               0\n",
      "  ConvTranspose3d-30         [5, 1, 32, 32, 32]           2,001\n",
      "================================================================\n",
      "Total params: 2,077,148\n",
      "Trainable params: 2,077,148\n",
      "Non-trainable params: 0\n",
      "----------------------------------------------------------------\n",
      "Input size (MB): 0.62\n",
      "Forward/backward pass size (MB): 82.28\n",
      "Params size (MB): 7.92\n",
      "Estimated Total Size (MB): 90.83\n",
      "----------------------------------------------------------------\n"
     ]
    }
   ],
   "source": [
    "# the input size is = (5,1, 32,32,32), in which 5 is batch_size, 1 = channel. \n",
    "summary(model, (1,32,32,32), batch_size=5)"
   ]
  },
  {
   "cell_type": "code",
   "execution_count": 81,
   "id": "d3a1b0a1",
   "metadata": {},
   "outputs": [
    {
     "data": {
      "text/plain": [
       "torch.Size([1, 1, 32, 32, 32])"
      ]
     },
     "execution_count": 81,
     "metadata": {},
     "output_type": "execute_result"
    }
   ],
   "source": [
    "voxel.shape"
   ]
  },
  {
   "cell_type": "code",
   "execution_count": 82,
   "id": "dfc8c9d4",
   "metadata": {},
   "outputs": [],
   "source": [
    "model = VoxNetAutoencoder()\n"
   ]
  },
  {
   "cell_type": "code",
   "execution_count": 83,
   "id": "5c8a739c",
   "metadata": {},
   "outputs": [
    {
     "data": {
      "text/plain": [
       "torch.Size([1, 1, 32, 32, 32])"
      ]
     },
     "execution_count": 83,
     "metadata": {},
     "output_type": "execute_result"
    }
   ],
   "source": [
    "model(voxel.float()).shape"
   ]
  },
  {
   "cell_type": "code",
   "execution_count": null,
   "id": "dc6d82b1",
   "metadata": {},
   "outputs": [],
   "source": []
  },
  {
   "cell_type": "code",
   "execution_count": 99,
   "id": "177a1b87",
   "metadata": {},
   "outputs": [
    {
     "name": "stdout",
     "output_type": "stream",
     "text": [
      "Test Sample:\n",
      "tensor([[0.0000, 1.5216, 0.0000]], grad_fn=<ReluBackward0>)\n",
      "Ground Truth  = tensor([9])\n",
      "torch.Size([32, 32, 32])\n"
     ]
    }
   ],
   "source": [
    "model.eval()\n",
    "\n",
    "print('Test Sample:')\n",
    "for sample in train_dataloader:\n",
    "    sample_x, sample_y = sample['voxel'], sample['cls_idx']\n",
    "#     sample_y_hat = torch.argmax(\n",
    "    bottle_neck = model.VoxNetEncoder(sample_x.float())\n",
    "    print(bottle_neck)\n",
    "    print('Ground Truth  =', sample_y)\n",
    "#     print('Predicted     =', sample_y_hat)\n",
    "#     print(voxel.shape)\n",
    "    \n",
    "    reconstructed_sample = BinaryActication.apply(model.VoxNetDecoder(bottle_neck)).reshape(32,32,32)\n",
    "    sample = np.empty((1,3))\n",
    "    for i in range(32):\n",
    "        for j in range(32):\n",
    "            for k in range(32):\n",
    "                if reconstructed_sample[i][j][k]>0:\n",
    "                    print(reconstructed_sample[i][j][k]>0)\n",
    "                if (reconstructed_sample[i][j][k]>0):\n",
    "                    sample = np.vstack((sample, np.array([i,j,k])))\n",
    "#                 print(i,j,k,': ', reconstructed_sample[i][j][k] )\n",
    "    break\n",
    "# print(sample.shape)    \n",
    "print(reconstructed_sample.shape)\n",
    "np.savetxt('sample.xyz',sample)    "
   ]
  },
  {
   "cell_type": "code",
   "execution_count": null,
   "id": "91927844",
   "metadata": {},
   "outputs": [],
   "source": []
  },
  {
   "cell_type": "code",
   "execution_count": null,
   "id": "5102f086",
   "metadata": {},
   "outputs": [],
   "source": []
  },
  {
   "cell_type": "code",
   "execution_count": 85,
   "id": "e2508f95",
   "metadata": {},
   "outputs": [],
   "source": [
    "optimizer = torch.optim.SGD(model.parameters(), lr=0.003)"
   ]
  },
  {
   "cell_type": "code",
   "execution_count": 86,
   "id": "6682d996",
   "metadata": {},
   "outputs": [],
   "source": [
    "loss = nn.MSELoss()"
   ]
  },
  {
   "cell_type": "code",
   "execution_count": null,
   "id": "e34edee2",
   "metadata": {},
   "outputs": [],
   "source": []
  },
  {
   "cell_type": "code",
   "execution_count": 101,
   "id": "3d6e5732",
   "metadata": {},
   "outputs": [
    {
     "name": "stdout",
     "output_type": "stream",
     "text": [
      "Start training ...\n",
      "tensor(1.1876, grad_fn=<MseLossBackward0>)\n",
      "1.187591552734375\n",
      "tensor(1.1700, grad_fn=<MseLossBackward0>)\n",
      "1.170013427734375\n",
      "tensor(1.2194, grad_fn=<MseLossBackward0>)\n",
      "1.2193603515625\n",
      "tensor(1.0430, grad_fn=<MseLossBackward0>)\n",
      "1.04302978515625\n",
      "tensor(1.0530, grad_fn=<MseLossBackward0>)\n",
      "1.053009033203125\n",
      "tensor(1.3318, grad_fn=<MseLossBackward0>)\n",
      "1.331787109375\n",
      "tensor(1.0005, grad_fn=<MseLossBackward0>)\n",
      "1.00054931640625\n",
      "tensor(1.3253, grad_fn=<MseLossBackward0>)\n",
      "1.325286865234375\n",
      "tensor(1.2501, grad_fn=<MseLossBackward0>)\n",
      "1.2501220703125\n",
      "tensor(1.1415, grad_fn=<MseLossBackward0>)\n",
      "1.14154052734375\n",
      "tensor(1.2598, grad_fn=<MseLossBackward0>)\n",
      "1.25982666015625\n",
      "tensor(1.3057, grad_fn=<MseLossBackward0>)\n",
      "1.305694580078125\n",
      "tensor(1.1198, grad_fn=<MseLossBackward0>)\n",
      "1.1197509765625\n",
      "tensor(1.5615, grad_fn=<MseLossBackward0>)\n",
      "1.561492919921875\n",
      "tensor(2.1978, grad_fn=<MseLossBackward0>)\n",
      "2.197784423828125\n",
      "tensor(1.3864, grad_fn=<MseLossBackward0>)\n",
      "1.386444091796875\n",
      "tensor(1.0780, grad_fn=<MseLossBackward0>)\n",
      "1.0780029296875\n",
      "tensor(1.0721, grad_fn=<MseLossBackward0>)\n",
      "1.0721435546875\n",
      "tensor(1.2159, grad_fn=<MseLossBackward0>)\n",
      "1.21588134765625\n",
      "tensor(1.3018, grad_fn=<MseLossBackward0>)\n",
      "1.301849365234375\n",
      "tensor(1.1339, grad_fn=<MseLossBackward0>)\n",
      "1.13385009765625\n",
      "tensor(1.0190, grad_fn=<MseLossBackward0>)\n",
      "1.01904296875\n",
      "tensor(1.1289, grad_fn=<MseLossBackward0>)\n",
      "1.12890625\n",
      "tensor(1.7489, grad_fn=<MseLossBackward0>)\n",
      "1.7489013671875\n",
      "tensor(1.1593, grad_fn=<MseLossBackward0>)\n",
      "1.1593017578125\n",
      "tensor(1.1415, grad_fn=<MseLossBackward0>)\n",
      "1.14154052734375\n",
      "tensor(1.1718, grad_fn=<MseLossBackward0>)\n",
      "1.171844482421875\n",
      "tensor(2.1165, grad_fn=<MseLossBackward0>)\n",
      "2.116485595703125\n",
      "tensor(1.0318, grad_fn=<MseLossBackward0>)\n",
      "1.031768798828125\n",
      "tensor(1.2346, grad_fn=<MseLossBackward0>)\n",
      "1.23455810546875\n",
      "Finish!!\n"
     ]
    }
   ],
   "source": [
    "print(\"Start training ...\")\n",
    "model.train()\n",
    "\n",
    "for epoch in range(30):\n",
    "    overall_loss = 0\n",
    "    for batch_idx, sample in enumerate(train_dataloader):\n",
    "        x,y =  sample['voxel'], sample['cls_idx']\n",
    "        \n",
    "        optimizer.zero_grad()\n",
    "        y_hat = model(x.float()).float()\n",
    "        ll = loss(y_hat, x.float())\n",
    "#         print(ll)\n",
    "        overall_loss += ll.item()\n",
    "        ll.backward()\n",
    "        optimizer.step()\n",
    "        \n",
    "#         break\n",
    "        \n",
    "#     print(\"\\tEpoch\", epoch + 1, \"complete!\", \"\\tAverage Loss: \", overall_loss / (batch_idx*batch_size))\n",
    "    print(overall_loss)\n",
    "    \n",
    "print(\"Finish!!\")"
   ]
  },
  {
   "cell_type": "code",
   "execution_count": null,
   "id": "f76929ce",
   "metadata": {},
   "outputs": [],
   "source": []
  },
  {
   "cell_type": "markdown",
   "id": "ca19b95a",
   "metadata": {},
   "source": [
    "# Test Sample:"
   ]
  },
  {
   "cell_type": "code",
   "execution_count": 96,
   "id": "d051a8a2",
   "metadata": {},
   "outputs": [
    {
     "name": "stdout",
     "output_type": "stream",
     "text": [
      "Test Sample:\n",
      "tensor([[0.0000, 2.5145, 0.0000]], grad_fn=<ReluBackward0>)\n",
      "Ground Truth  = tensor([4])\n"
     ]
    }
   ],
   "source": [
    "model.eval()\n",
    "\n",
    "print('Test Sample:')\n",
    "for sample in train_dataloader:\n",
    "    sample_x, sample_y = sample['voxel'], sample['cls_idx']\n",
    "#     sample_y_hat = torch.argmax(\n",
    "    bottle_neck = model.VoxNetEncoder(sample_x.float())\n",
    "    print(bottle_neck)\n",
    "    print('Ground Truth  =', sample_y)\n",
    "#     print('Predicted     =', sample_y_hat)\n",
    "#     print(voxel.shape)\n",
    "    break"
   ]
  },
  {
   "cell_type": "code",
   "execution_count": null,
   "id": "787dddee",
   "metadata": {},
   "outputs": [],
   "source": []
  },
  {
   "cell_type": "code",
   "execution_count": 97,
   "id": "91508bc0",
   "metadata": {},
   "outputs": [],
   "source": [
    "# Saving VoxNet model and its parameters.\n",
    "torch.save(model.state_dict(), \"model/AutoEncoderVoxNetmodel.params\")\n",
    "torch.save(model.state_dict(), \"model/AutoEncoderVoxNetmodel.params.pt\")\n",
    "torch.save(model, \"model/enitre_AutoEncoderVoxNetmodell\")"
   ]
  },
  {
   "cell_type": "code",
   "execution_count": null,
   "id": "d8e207a4",
   "metadata": {},
   "outputs": [],
   "source": []
  },
  {
   "cell_type": "code",
   "execution_count": null,
   "id": "285ad99c",
   "metadata": {},
   "outputs": [],
   "source": []
  },
  {
   "cell_type": "code",
   "execution_count": 98,
   "id": "4a159318",
   "metadata": {},
   "outputs": [
    {
     "name": "stdout",
     "output_type": "stream",
     "text": [
      "Test Sample:\n",
      "tensor([[0.0000, 2.4059, 0.0000]], grad_fn=<ReluBackward0>)\n",
      "Ground Truth  = tensor([4])\n",
      "torch.Size([32, 32, 32])\n"
     ]
    }
   ],
   "source": [
    "model.eval()\n",
    "\n",
    "print('Test Sample:')\n",
    "for sample in train_dataloader:\n",
    "    sample_x, sample_y = sample['voxel'], sample['cls_idx']\n",
    "#     sample_y_hat = torch.argmax(\n",
    "    bottle_neck = model.VoxNetEncoder(sample_x.float())\n",
    "    print(bottle_neck)\n",
    "    print('Ground Truth  =', sample_y)\n",
    "#     print('Predicted     =', sample_y_hat)\n",
    "#     print(voxel.shape)\n",
    "    \n",
    "    reconstructed_sample = BinaryActication.apply(model.VoxNetDecoder(bottle_neck)).reshape(32,32,32)\n",
    "    sample = np.empty((1,3))\n",
    "    for i in range(32):\n",
    "        for j in range(32):\n",
    "            for k in range(32):\n",
    "                if reconstructed_sample[i][j][k]>0:\n",
    "                    print(reconstructed_sample[i][j][k]>0)\n",
    "                if (reconstructed_sample[i][j][k]>0):\n",
    "                    sample = np.vstack((sample, np.array([i,j,k])))\n",
    "#                 print(i,j,k,': ', reconstructed_sample[i][j][k] )\n",
    "    break\n",
    "# print(sample.shape)    \n",
    "print(reconstructed_sample.shape)\n",
    "np.savetxt('sample.xyz',sample)    "
   ]
  },
  {
   "cell_type": "code",
   "execution_count": null,
   "id": "307a6374",
   "metadata": {},
   "outputs": [],
   "source": [
    "#  (Uncomment this if you want):\n",
    "# # Whenever it's needed you can do loading the trained model with*:\n",
    "# model = torch.load(\"model/enitre_VoxNetmodel\")\n",
    "# model.eval()"
   ]
  },
  {
   "cell_type": "code",
   "execution_count": null,
   "id": "c841e39c",
   "metadata": {},
   "outputs": [],
   "source": [
    "# print('Test Sample:')\n",
    "# for sample in train_dataloader:\n",
    "#     sample_x, sample_y = sample['voxel'], sample['cls_idx']\n",
    "#     sample_y_hat = torch.argmax(model(sample_x.float()))\n",
    "#     print('Ground Truth  =', sample_y)\n",
    "#     print('Predicted     =', sample_y_hat)\n",
    "# #     print(voxel.shape)\n",
    "#     break"
   ]
  },
  {
   "cell_type": "code",
   "execution_count": null,
   "id": "0fa6156b",
   "metadata": {},
   "outputs": [],
   "source": []
  },
  {
   "cell_type": "code",
   "execution_count": null,
   "id": "9fa7750e",
   "metadata": {},
   "outputs": [],
   "source": []
  }
 ],
 "metadata": {
  "kernelspec": {
   "display_name": "Python 3 (ipykernel)",
   "language": "python",
   "name": "python3"
  },
  "language_info": {
   "codemirror_mode": {
    "name": "ipython",
    "version": 3
   },
   "file_extension": ".py",
   "mimetype": "text/x-python",
   "name": "python",
   "nbconvert_exporter": "python",
   "pygments_lexer": "ipython3",
   "version": "3.10.11"
  }
 },
 "nbformat": 4,
 "nbformat_minor": 5
}
