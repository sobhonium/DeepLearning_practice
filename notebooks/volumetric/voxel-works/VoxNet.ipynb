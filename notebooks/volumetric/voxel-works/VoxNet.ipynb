{
 "cells": [
  {
   "cell_type": "code",
   "execution_count": 1,
   "id": "24fcedf3",
   "metadata": {},
   "outputs": [],
   "source": [
    "# July 2023\n",
    "# Implementing VoxNet:\n",
    "# you can see the VoxNet's architecture at https://github.com/AutoDeep/VoxNet"
   ]
  },
  {
   "cell_type": "markdown",
   "id": "61c11361",
   "metadata": {},
   "source": [
    "# 1) Voxeling Modelnet10"
   ]
  },
  {
   "cell_type": "code",
   "execution_count": 6,
   "id": "51da2d7d",
   "metadata": {},
   "outputs": [],
   "source": [
    "dataset_addr = '/home/sbn/Downloads/datasets/data_/ModelNet10/'"
   ]
  },
  {
   "cell_type": "code",
   "execution_count": 7,
   "id": "85a45b47",
   "metadata": {},
   "outputs": [
    {
     "name": "stdout",
     "output_type": "stream",
     "text": [
      "{'bathtub': 0, 'chair': 1, 'dresser': 2, 'night_stand': 3, 'sofa': 4, 'toilet': 5, 'bed': 6, 'desk': 7, 'monitor': 8, 'table': 9}\n"
     ]
    }
   ],
   "source": [
    "import torch\n",
    "from torch.utils.data import DataLoader\n",
    "import numpy as np\n",
    "\n",
    "\n",
    "\n",
    "\n",
    "# import sys\n",
    "# sys.path.insert(0, dataset_addr)\n",
    "from modelnet10 import ModelNet10\n",
    "\n",
    "CLASSES = {\n",
    "    0: 'bathtub',\n",
    "    1: 'chair',\n",
    "    2: 'dresser',\n",
    "    3: 'night_stand',\n",
    "    4: 'sofa',\n",
    "    5: 'toilet',\n",
    "    6: 'bed',\n",
    "    7: 'desk',\n",
    "    8: 'monitor',\n",
    "    9: 'table'\n",
    "}\n",
    "N_CLASSES = len(CLASSES)\n",
    "\n",
    "\n",
    "\n",
    "train_dataset = ModelNet10(data_root= dataset_addr, \n",
    "                           n_classes=N_CLASSES, \n",
    "                           idx2cls=CLASSES, \n",
    "                           split='train')\n",
    "\n",
    "train_dataloader = DataLoader(train_dataset, \n",
    "                              batch_size=1, \n",
    "                              shuffle=True)\n",
    "\n",
    "\n"
   ]
  },
  {
   "cell_type": "code",
   "execution_count": null,
   "id": "59bb8efb",
   "metadata": {},
   "outputs": [],
   "source": []
  },
  {
   "cell_type": "markdown",
   "id": "db90fae6",
   "metadata": {},
   "source": [
    "# Testing voxel"
   ]
  },
  {
   "cell_type": "code",
   "execution_count": null,
   "id": "9e5879b6",
   "metadata": {},
   "outputs": [],
   "source": []
  },
  {
   "cell_type": "code",
   "execution_count": 8,
   "id": "0e1662bb",
   "metadata": {},
   "outputs": [
    {
     "name": "stdout",
     "output_type": "stream",
     "text": [
      "torch.Size([1, 1, 32, 32, 32])\n"
     ]
    }
   ],
   "source": [
    "for sample in train_dataloader:\n",
    "    voxel, cls_idx = sample['voxel'], sample['cls_idx']\n",
    "    print(voxel.shape)\n",
    "    break"
   ]
  },
  {
   "cell_type": "code",
   "execution_count": null,
   "id": "81be1b4f",
   "metadata": {},
   "outputs": [],
   "source": []
  },
  {
   "cell_type": "markdown",
   "id": "d0000d36",
   "metadata": {},
   "source": [
    "# VoxNet"
   ]
  },
  {
   "cell_type": "code",
   "execution_count": null,
   "id": "bdd76fb8",
   "metadata": {},
   "outputs": [],
   "source": []
  },
  {
   "cell_type": "markdown",
   "id": "689d390f",
   "metadata": {},
   "source": [
    "![image](images/VoxNet.png)"
   ]
  },
  {
   "cell_type": "code",
   "execution_count": null,
   "id": "243b3020",
   "metadata": {},
   "outputs": [],
   "source": []
  },
  {
   "cell_type": "raw",
   "id": "9796a57b",
   "metadata": {},
   "source": [
    "Based on the image above, I have to start \"Occupany Grid\" downward, since I already have that\n",
    "with code I wrote on top of this page."
   ]
  },
  {
   "cell_type": "code",
   "execution_count": null,
   "id": "210bcfea",
   "metadata": {},
   "outputs": [],
   "source": []
  },
  {
   "cell_type": "code",
   "execution_count": 9,
   "id": "3e0a5911",
   "metadata": {},
   "outputs": [],
   "source": [
    "import torch\n",
    "from torch import nn"
   ]
  },
  {
   "cell_type": "code",
   "execution_count": 10,
   "id": "29ca58ab",
   "metadata": {},
   "outputs": [],
   "source": [
    "VoxNet = nn.Sequential(\n",
    "                nn.Conv3d(in_channels=1, out_channels=32, kernel_size=(5,5,5), stride=2),\n",
    "                nn.Conv3d(in_channels=32, out_channels=32, kernel_size=(3,3,3), stride=1),\n",
    "                nn.AvgPool3d(kernel_size=(2,2,2), stride=2),\n",
    "                nn.Flatten(start_dim=1),\n",
    "                nn.Linear(6912, 128),\n",
    "                nn.Linear(128, len(CLASSES)), \n",
    "                nn.ReLU()\n",
    ")"
   ]
  },
  {
   "cell_type": "code",
   "execution_count": null,
   "id": "f02a726b",
   "metadata": {},
   "outputs": [],
   "source": []
  },
  {
   "cell_type": "code",
   "execution_count": 11,
   "id": "2488bb55",
   "metadata": {},
   "outputs": [],
   "source": [
    "# voxel"
   ]
  },
  {
   "cell_type": "code",
   "execution_count": 12,
   "id": "bf545c6d",
   "metadata": {},
   "outputs": [
    {
     "data": {
      "text/plain": [
       "torch.Size([1, 10])"
      ]
     },
     "execution_count": 12,
     "metadata": {},
     "output_type": "execute_result"
    }
   ],
   "source": [
    "VoxNet(voxel.float()).shape"
   ]
  },
  {
   "cell_type": "code",
   "execution_count": 123,
   "id": "dfc8c9d4",
   "metadata": {},
   "outputs": [],
   "source": [
    "# img = torch.randint(low=0, high=2, size=(1,1,32,32,32))"
   ]
  },
  {
   "cell_type": "code",
   "execution_count": 117,
   "id": "5c8a739c",
   "metadata": {},
   "outputs": [],
   "source": [
    "# conv_layer(img.float())"
   ]
  },
  {
   "cell_type": "code",
   "execution_count": 103,
   "id": "dc6d82b1",
   "metadata": {},
   "outputs": [],
   "source": [
    "# flatt = nn.Flatten(start_dim=1)"
   ]
  },
  {
   "cell_type": "code",
   "execution_count": 104,
   "id": "177a1b87",
   "metadata": {},
   "outputs": [],
   "source": [
    "# flatt(conv_layer(voxel.float())).shape"
   ]
  },
  {
   "cell_type": "code",
   "execution_count": null,
   "id": "e2508f95",
   "metadata": {},
   "outputs": [],
   "source": []
  }
 ],
 "metadata": {
  "kernelspec": {
   "display_name": "Python 3 (ipykernel)",
   "language": "python",
   "name": "python3"
  },
  "language_info": {
   "codemirror_mode": {
    "name": "ipython",
    "version": 3
   },
   "file_extension": ".py",
   "mimetype": "text/x-python",
   "name": "python",
   "nbconvert_exporter": "python",
   "pygments_lexer": "ipython3",
   "version": "3.10.11"
  }
 },
 "nbformat": 4,
 "nbformat_minor": 5
}
