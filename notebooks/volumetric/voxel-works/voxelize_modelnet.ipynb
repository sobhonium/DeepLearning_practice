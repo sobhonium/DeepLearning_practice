{
 "cells": [
  {
   "cell_type": "code",
   "execution_count": 1,
   "id": "c914b039",
   "metadata": {},
   "outputs": [],
   "source": [
    "# July 2023\n",
    "# voxelizing modelnet\n",
    "# its hard to voxelize modelnet except using a 3rd party tool like the one\n",
    "# used in modelnet10.py here"
   ]
  },
  {
   "cell_type": "code",
   "execution_count": null,
   "id": "d4782492",
   "metadata": {},
   "outputs": [],
   "source": []
  },
  {
   "cell_type": "code",
   "execution_count": 2,
   "id": "25695690",
   "metadata": {},
   "outputs": [],
   "source": [
    "dataset_addr = '/home/sbn/Downloads/datasets/data_/ModelNet10/'"
   ]
  },
  {
   "cell_type": "code",
   "execution_count": null,
   "id": "1e9c6d5e",
   "metadata": {},
   "outputs": [],
   "source": []
  },
  {
   "cell_type": "code",
   "execution_count": 3,
   "id": "cf031a55",
   "metadata": {},
   "outputs": [],
   "source": [
    "import torch\n",
    "from torch.utils.data import DataLoader\n",
    "import numpy as np\n",
    "\n",
    "\n",
    "\n",
    "\n",
    "# import sys\n",
    "# sys.path.insert(0, dataset_addr)\n",
    "from modelnet10 import ModelNet10\n",
    "\n",
    "CLASSES = {\n",
    "    0: 'bathtub',\n",
    "    1: 'chair',\n",
    "    2: 'dresser',\n",
    "    3: 'night_stand',\n",
    "    4: 'sofa',\n",
    "    5: 'toilet',\n",
    "    6: 'bed',\n",
    "    7: 'desk',\n",
    "    8: 'monitor',\n",
    "    9: 'table'\n",
    "}\n",
    "N_CLASSES = len(CLASSES)\n",
    "\n",
    "\n",
    "\n",
    "train_dataset = ModelNet10(data_root= dataset_addr, \n",
    "                           n_classes=N_CLASSES, \n",
    "                           idx2cls=CLASSES, \n",
    "                           split='train')\n",
    "\n",
    "train_dataloader = DataLoader(train_dataset, \n",
    "                              batch_size=1, \n",
    "                              shuffle=True)\n",
    "\n",
    "\n",
    "\n"
   ]
  },
  {
   "cell_type": "code",
   "execution_count": 19,
   "id": "6dc20f1b",
   "metadata": {},
   "outputs": [],
   "source": [
    "# Done!\n",
    "# now you have a voxelized dataset of modelnet.\n",
    "# We can now work on an occupancy grid."
   ]
  },
  {
   "cell_type": "code",
   "execution_count": null,
   "id": "55588a38",
   "metadata": {},
   "outputs": [],
   "source": []
  },
  {
   "cell_type": "markdown",
   "id": "785ee6ea",
   "metadata": {},
   "source": [
    "# Visualize voxel file"
   ]
  },
  {
   "cell_type": "code",
   "execution_count": null,
   "id": "27c585c1",
   "metadata": {},
   "outputs": [],
   "source": []
  },
  {
   "cell_type": "code",
   "execution_count": null,
   "id": "b893bd23",
   "metadata": {},
   "outputs": [],
   "source": []
  },
  {
   "cell_type": "code",
   "execution_count": 12,
   "id": "12c241c8",
   "metadata": {},
   "outputs": [],
   "source": [
    "for sample in train_dataloader:\n",
    "    voxel, cls_idx = sample['voxel'], sample['cls_idx']\n",
    "    print(voxel[0][0].shape)\n",
    "    break"
   ]
  },
  {
   "cell_type": "code",
   "execution_count": null,
   "id": "05718d4f",
   "metadata": {},
   "outputs": [],
   "source": []
  },
  {
   "cell_type": "code",
   "execution_count": 13,
   "id": "f676788c",
   "metadata": {},
   "outputs": [],
   "source": [
    "voxel.shape"
   ]
  },
  {
   "cell_type": "code",
   "execution_count": 14,
   "id": "b20c7f18",
   "metadata": {},
   "outputs": [],
   "source": [
    "voxel[0][0].shape"
   ]
  },
  {
   "cell_type": "code",
   "execution_count": 15,
   "id": "e509ddeb",
   "metadata": {},
   "outputs": [],
   "source": [
    "sample = np.empty((1,3))"
   ]
  },
  {
   "cell_type": "code",
   "execution_count": 16,
   "id": "5a48d6a7",
   "metadata": {},
   "outputs": [],
   "source": [
    "for i in range(32):\n",
    "    for j in range(32):\n",
    "        for k in range(32):\n",
    "            if (voxel[0][0][i][j][k]==1):\n",
    "                sample = np.vstack((sample, np.array([i,j,k])))"
   ]
  },
  {
   "cell_type": "code",
   "execution_count": 17,
   "id": "f981550b",
   "metadata": {},
   "outputs": [],
   "source": [
    "sample.shape"
   ]
  },
  {
   "cell_type": "code",
   "execution_count": 10,
   "id": "7bcd54c4",
   "metadata": {},
   "outputs": [],
   "source": [
    "# save an open it via meshlab\n",
    "np.savetxt('sample.xyz',sample)"
   ]
  },
  {
   "cell_type": "code",
   "execution_count": null,
   "id": "6542387a",
   "metadata": {},
   "outputs": [],
   "source": []
  },
  {
   "cell_type": "code",
   "execution_count": null,
   "id": "80f215da",
   "metadata": {},
   "outputs": [],
   "source": []
  },
  {
   "cell_type": "markdown",
   "id": "0735784b",
   "metadata": {},
   "source": [
    "# commenets"
   ]
  },
  {
   "cell_type": "code",
   "execution_count": null,
   "id": "4031cc5e",
   "metadata": {},
   "outputs": [],
   "source": []
  },
  {
   "cell_type": "code",
   "execution_count": null,
   "id": "aa4d7316",
   "metadata": {},
   "outputs": [],
   "source": []
  }
 ],
 "metadata": {
  "kernelspec": {
   "display_name": "Python 3 (ipykernel)",
   "language": "python",
   "name": "python3"
  },
  "language_info": {
   "codemirror_mode": {
    "name": "ipython",
    "version": 3
   },
   "file_extension": ".py",
   "mimetype": "text/x-python",
   "name": "python",
   "nbconvert_exporter": "python",
   "pygments_lexer": "ipython3",
   "version": "3.10.11"
  }
 },
 "nbformat": 4,
 "nbformat_minor": 5
}
