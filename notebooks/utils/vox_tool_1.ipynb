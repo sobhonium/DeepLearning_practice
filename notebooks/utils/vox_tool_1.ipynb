{
 "cells": [
  {
   "cell_type": "code",
   "execution_count": 162,
   "id": "30c7820b",
   "metadata": {},
   "outputs": [],
   "source": [
    "import torch"
   ]
  },
  {
   "cell_type": "code",
   "execution_count": 163,
   "id": "b0fe03c9",
   "metadata": {},
   "outputs": [],
   "source": [
    "import numpy as np"
   ]
  },
  {
   "cell_type": "code",
   "execution_count": null,
   "id": "12ef424c",
   "metadata": {},
   "outputs": [],
   "source": []
  },
  {
   "cell_type": "code",
   "execution_count": null,
   "id": "90674f49",
   "metadata": {},
   "outputs": [],
   "source": []
  },
  {
   "cell_type": "code",
   "execution_count": null,
   "id": "c2be3636",
   "metadata": {},
   "outputs": [],
   "source": []
  },
  {
   "cell_type": "code",
   "execution_count": null,
   "id": "b4159ee1",
   "metadata": {},
   "outputs": [],
   "source": []
  },
  {
   "cell_type": "code",
   "execution_count": null,
   "id": "70e279d7",
   "metadata": {},
   "outputs": [],
   "source": []
  },
  {
   "cell_type": "code",
   "execution_count": 188,
   "id": "74b82890",
   "metadata": {},
   "outputs": [],
   "source": [
    "def get_feas_vox(vox, k):\n",
    "    n =  vox.shape[0]\n",
    "    if n<k:\n",
    "        print('dim must be larger than k')\n",
    "        return\n",
    "    \n",
    "    # all non-zero\n",
    "    if np.all(vox!=0):\n",
    "        feas_all = vox;\n",
    "        label = np.array([0]);\n",
    "        return feas_all, label;\n",
    "    \n",
    "    # all zero\n",
    "    if np.all(vox==0):\n",
    "        feas_all = np.zeros((k,k,k));\n",
    "        label = np.array([1]);\n",
    "        return feas_all, label;\n",
    "\n",
    "    if n==k:\n",
    "        feas_all = vox;\n",
    "        label = np.array([2]);\n",
    "        return feas_all, label;\n",
    "        \n",
    "    \n",
    "    \n",
    "    feas1,l1 = get_feas_vox(vox[:n//2  , :n//2  , :n//2],k);\n",
    "    feas2,l2 = get_feas_vox(vox[n//2:n , :n//2  , :n//2],k);\n",
    "    feas3,l3 = get_feas_vox(vox[:n//2  , n//2:n , :n//2],k);\n",
    "    feas4,l4 = get_feas_vox(vox[n//2:n , n//2:n , :n//2],k);\n",
    "    \n",
    "    feas5,l5 = get_feas_vox(vox[:n//2  , :n//2 , n//2:n],k);\n",
    "    feas6,l6 = get_feas_vox(vox[n//2:n , :n//2 , n//2:n],k);\n",
    "    feas7,l7 = get_feas_vox(vox[:n//2  , n//2:n, n//2:n],k);\n",
    "    feas8,l8 = get_feas_vox(vox[n//2:n , n//2:n, n//2:n],k);\n",
    "\n",
    "    feas_all = np.concatenate((feas1,feas2,feas3,\n",
    "                               feas4,feas5,feas6,feas7,feas8), axis=0)\n",
    "    label = np.concatenate((l1, l2, l3, l4, l5, l6, l7, l8, np.array([3])), axis=0)\n",
    "\n",
    "    \n",
    "    return feas_all.reshape(k,k,k, -1), label\n",
    "    "
   ]
  },
  {
   "cell_type": "code",
   "execution_count": 194,
   "id": "652d9fde",
   "metadata": {},
   "outputs": [],
   "source": [
    "v = np.array([\n",
    "[[0,1,2,1],[0,1,0,0],[3,1,2,1],[1,1,2,1]], \n",
    "[[0,0,3,1],[1,1,1,1],[2,0,2,0],[3,3,3,1]],\n",
    "[[0,1,2,1],[0,1,2,2],[3,2,2,1],[1,0,0,1]],    \n",
    "[[0,1,2,1],[3,1,2,0],[3,1,0,0],[0,0,0,1]]])\n",
    "    "
   ]
  },
  {
   "cell_type": "code",
   "execution_count": 195,
   "id": "5ed5757c",
   "metadata": {},
   "outputs": [
    {
     "data": {
      "text/plain": [
       "array([2, 2, 2, 2, 2, 2, 2, 2, 3])"
      ]
     },
     "execution_count": 195,
     "metadata": {},
     "output_type": "execute_result"
    }
   ],
   "source": [
    "# v = np.random.randint(low=0, high=4, size=(32,32,32))\n",
    "feas, labels = get_feas_vox(v, 2)\n",
    "labels"
   ]
  },
  {
   "cell_type": "code",
   "execution_count": 196,
   "id": "aca1ee41",
   "metadata": {},
   "outputs": [],
   "source": [
    "# v"
   ]
  },
  {
   "cell_type": "code",
   "execution_count": 197,
   "id": "9dcfa3df",
   "metadata": {},
   "outputs": [
    {
     "data": {
      "text/plain": [
       "((2, 2, 2, 8), (9,))"
      ]
     },
     "execution_count": 197,
     "metadata": {},
     "output_type": "execute_result"
    }
   ],
   "source": [
    "feas.shape, labels.shape"
   ]
  },
  {
   "cell_type": "code",
   "execution_count": 198,
   "id": "02905bec",
   "metadata": {},
   "outputs": [
    {
     "data": {
      "text/plain": [
       "array([[[[0, 1, 0, 1, 0, 0, 1, 1],\n",
       "         [0, 1, 0, 1, 0, 1, 3, 1]],\n",
       "\n",
       "        [[3, 1, 1, 1, 2, 0, 3, 3],\n",
       "         [3, 2, 1, 0, 3, 1, 0, 0]]],\n",
       "\n",
       "\n",
       "       [[[2, 1, 0, 0, 3, 1, 1, 1],\n",
       "         [2, 1, 2, 2, 2, 1, 2, 0]],\n",
       "\n",
       "        [[2, 1, 2, 1, 2, 0, 3, 1],\n",
       "         [2, 1, 0, 1, 0, 0, 0, 1]]]])"
      ]
     },
     "execution_count": 198,
     "metadata": {},
     "output_type": "execute_result"
    }
   ],
   "source": [
    "feas"
   ]
  },
  {
   "cell_type": "code",
   "execution_count": null,
   "id": "2958b0e2",
   "metadata": {},
   "outputs": [],
   "source": []
  }
 ],
 "metadata": {
  "kernelspec": {
   "display_name": "Python 3 (ipykernel)",
   "language": "python",
   "name": "python3"
  },
  "language_info": {
   "codemirror_mode": {
    "name": "ipython",
    "version": 3
   },
   "file_extension": ".py",
   "mimetype": "text/x-python",
   "name": "python",
   "nbconvert_exporter": "python",
   "pygments_lexer": "ipython3",
   "version": "3.10.9"
  }
 },
 "nbformat": 4,
 "nbformat_minor": 5
}
