{
 "cells": [
  {
   "cell_type": "code",
   "execution_count": 1,
   "id": "4562e613-d467-428e-ac70-434f8f76d03c",
   "metadata": {},
   "outputs": [],
   "source": [
    "# April 2023\n",
    "# A walkthrough for seed and the purpose of using seeds in pytorch."
   ]
  },
  {
   "cell_type": "code",
   "execution_count": 4,
   "id": "b9469afc-be07-457f-a18b-df46d61a8764",
   "metadata": {},
   "outputs": [],
   "source": [
    "import torch \n",
    "from torch import nn"
   ]
  },
  {
   "cell_type": "code",
   "execution_count": 5,
   "id": "2668be8f-2bbb-415b-a0ec-e9c1b3d76453",
   "metadata": {},
   "outputs": [],
   "source": [
    "# if you like your wieghts to be constant through different trials\n",
    "# (which is very helpful for comparing neural networks), you had better \n",
    "# use torch.manual_seed(<an int value>)"
   ]
  },
  {
   "cell_type": "code",
   "execution_count": 6,
   "id": "bb2a427a-ce4f-449d-b6ca-2301917f5811",
   "metadata": {},
   "outputs": [],
   "source": [
    "img = torch.rand((100,3,  28,28))"
   ]
  },
  {
   "cell_type": "code",
   "execution_count": null,
   "id": "543f7253-bd50-4dbe-b1b4-2055e7fb8748",
   "metadata": {},
   "outputs": [],
   "source": []
  },
  {
   "cell_type": "code",
   "execution_count": null,
   "id": "d20c6587-0dda-42c6-95fe-74d4b2ec7404",
   "metadata": {},
   "outputs": [],
   "source": []
  },
  {
   "cell_type": "code",
   "execution_count": 7,
   "id": "bc62e22d-342d-4c9f-b597-10d291b8c1ef",
   "metadata": {},
   "outputs": [],
   "source": [
    "# run the followoing code twice to see the weights are chainging through\n",
    "# diff runs"
   ]
  },
  {
   "cell_type": "code",
   "execution_count": null,
   "id": "37b1bdb7-36a6-45ab-aaa0-99919e9a5ec7",
   "metadata": {},
   "outputs": [],
   "source": []
  },
  {
   "cell_type": "code",
   "execution_count": null,
   "id": "8888c9f7-ed05-4754-bb9d-6cdc40367237",
   "metadata": {},
   "outputs": [],
   "source": []
  },
  {
   "cell_type": "code",
   "execution_count": 17,
   "id": "a4a8fc58-5382-412e-b8b3-02820b655c46",
   "metadata": {},
   "outputs": [
    {
     "data": {
      "text/plain": [
       "OrderedDict([('0.weight',\n",
       "              tensor([[[[ 0.1136]],\n",
       "              \n",
       "                       [[-0.3246]],\n",
       "              \n",
       "                       [[ 0.1903]]]])),\n",
       "             ('0.bias', tensor([-0.5718]))])"
      ]
     },
     "execution_count": 17,
     "metadata": {},
     "output_type": "execute_result"
    }
   ],
   "source": [
    "net = nn.Sequential(\n",
    "nn.Conv2d(in_channels=3, out_channels=1, kernel_size=(1,1))\n",
    ")\n",
    "\n",
    "net.state_dict()"
   ]
  },
  {
   "cell_type": "code",
   "execution_count": null,
   "id": "e294d9e0-fa60-4805-ac11-6caa43cac3c2",
   "metadata": {},
   "outputs": [],
   "source": []
  },
  {
   "cell_type": "code",
   "execution_count": null,
   "id": "dbea5fe7-cfe0-43f0-b012-06c6cb9b2699",
   "metadata": {},
   "outputs": [],
   "source": []
  },
  {
   "cell_type": "code",
   "execution_count": null,
   "id": "7f9f2ba6-491d-4625-8e99-5c1e4e1ef7a4",
   "metadata": {},
   "outputs": [],
   "source": []
  },
  {
   "cell_type": "code",
   "execution_count": 18,
   "id": "5ce96cc0-de90-4981-9a7d-44f4976a5b21",
   "metadata": {},
   "outputs": [],
   "source": [
    "# now run it twice with torch.manual_seed() when it is set"
   ]
  },
  {
   "cell_type": "code",
   "execution_count": 25,
   "id": "92db440c-7bda-4fe8-bbe1-49791ab12edf",
   "metadata": {},
   "outputs": [],
   "source": [
    "torch.manual_seed(10)\n",
    "net = nn.Sequential(\n",
    "nn.Conv2d(in_channels=3, out_channels=1, kernel_size=(1,1))\n",
    ")"
   ]
  },
  {
   "cell_type": "code",
   "execution_count": 26,
   "id": "753c2fee-4b15-40e6-8122-3c5c08df7770",
   "metadata": {},
   "outputs": [
    {
     "data": {
      "text/plain": [
       "torch.Size([100, 1, 28, 28])"
      ]
     },
     "execution_count": 26,
     "metadata": {},
     "output_type": "execute_result"
    }
   ],
   "source": [
    "net(img).shape"
   ]
  },
  {
   "cell_type": "code",
   "execution_count": 27,
   "id": "c2ed80a7-5c67-491e-bc52-558611691b05",
   "metadata": {},
   "outputs": [
    {
     "data": {
      "text/plain": [
       "OrderedDict([('0.weight',\n",
       "              tensor([[[[-0.0484]],\n",
       "              \n",
       "                       [[-0.0198]],\n",
       "              \n",
       "                       [[-0.2165]]]])),\n",
       "             ('0.bias', tensor([0.1328]))])"
      ]
     },
     "execution_count": 27,
     "metadata": {},
     "output_type": "execute_result"
    }
   ],
   "source": [
    "net.state_dict()"
   ]
  },
  {
   "cell_type": "code",
   "execution_count": 28,
   "id": "d8cd9ff6-5a35-43a9-b780-515f010d2924",
   "metadata": {},
   "outputs": [],
   "source": [
    "# see? nothing changed. That is the application of seeds."
   ]
  },
  {
   "cell_type": "code",
   "execution_count": null,
   "id": "a12395e0-2f75-4b29-befd-0ce7e32f4567",
   "metadata": {},
   "outputs": [],
   "source": []
  }
 ],
 "metadata": {
  "kernelspec": {
   "display_name": "Python 3 (ipykernel)",
   "language": "python",
   "name": "python3"
  },
  "language_info": {
   "codemirror_mode": {
    "name": "ipython",
    "version": 3
   },
   "file_extension": ".py",
   "mimetype": "text/x-python",
   "name": "python",
   "nbconvert_exporter": "python",
   "pygments_lexer": "ipython3",
   "version": "3.9.12"
  }
 },
 "nbformat": 4,
 "nbformat_minor": 5
}
