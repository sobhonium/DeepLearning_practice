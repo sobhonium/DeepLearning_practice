{
 "cells": [
  {
   "cell_type": "code",
   "execution_count": 1,
   "id": "77634747-f3b7-4e17-ba8e-95a689114df6",
   "metadata": {},
   "outputs": [],
   "source": [
    "import numpy as np"
   ]
  },
  {
   "cell_type": "code",
   "execution_count": null,
   "id": "8849b841-02bd-4434-8c3c-8c812b749bb5",
   "metadata": {},
   "outputs": [],
   "source": []
  },
  {
   "cell_type": "code",
   "execution_count": 2,
   "id": "85b7b8c4-e1d6-410e-9b9b-135899e43527",
   "metadata": {},
   "outputs": [],
   "source": [
    "filename = '/home/sobhan/Downloads/datasets/SPRING_FEMALE/mesh/SPRING0014.obj'"
   ]
  },
  {
   "cell_type": "code",
   "execution_count": null,
   "id": "5ba7dddd-939d-44e6-a05c-777e6608a277",
   "metadata": {},
   "outputs": [],
   "source": []
  },
  {
   "cell_type": "code",
   "execution_count": 3,
   "id": "75aff5fd-72fe-4f38-aa7c-ef8d7a980ff9",
   "metadata": {},
   "outputs": [],
   "source": [
    "from utils.show_mesh import *\n",
    "# show(filename)"
   ]
  },
  {
   "cell_type": "code",
   "execution_count": 4,
   "id": "554d561d-a479-4b86-ae46-2a2c57adcaed",
   "metadata": {},
   "outputs": [
    {
     "data": {
      "text/plain": [
       "((12500, 3), (12500, 3), (25000, 3))"
      ]
     },
     "execution_count": 4,
     "metadata": {},
     "output_type": "execute_result"
    }
   ],
   "source": [
    "from utils.obj_file_toolkit import *\n",
    "ver, nver,  fac = read_obj(filename)\n",
    "ver.shape, nver.shape, fac.shape"
   ]
  },
  {
   "cell_type": "code",
   "execution_count": null,
   "id": "65abac5c-720c-4e89-8efe-5e0858b4d86c",
   "metadata": {},
   "outputs": [],
   "source": []
  },
  {
   "cell_type": "code",
   "execution_count": 5,
   "id": "f5ca194d-5060-4d72-86f4-d791ca1e967e",
   "metadata": {},
   "outputs": [],
   "source": [
    "from pathlib import Path"
   ]
  },
  {
   "cell_type": "code",
   "execution_count": 6,
   "id": "f7f2656e-0680-479e-bd80-9314486da590",
   "metadata": {},
   "outputs": [],
   "source": [
    "parent_folder = Path('/home/sobhan/Downloads/datasets/') \n",
    "female_folder = parent_folder/ Path('SPRING_FEMALE/mesh')\n",
    "male_folder = parent_folder/ Path('SPRING_MALE')"
   ]
  },
  {
   "cell_type": "code",
   "execution_count": 7,
   "id": "9fe98ced-e22d-4edc-90e1-26535975d9ab",
   "metadata": {},
   "outputs": [],
   "source": [
    "# [male_mesh for male_mesh in male_folder if male_mesh.is_file()]"
   ]
  },
  {
   "cell_type": "code",
   "execution_count": 8,
   "id": "af24243e-754b-45a0-b233-82312dc041ed",
   "metadata": {},
   "outputs": [],
   "source": [
    "# count = 0\n",
    "# for male_mesh in male_folder.iterdir():\n",
    "#     show(str(male_mesh))\n",
    "#     count+=1\n",
    "#     if count >2:\n",
    "#         break"
   ]
  },
  {
   "cell_type": "code",
   "execution_count": 9,
   "id": "a1840ffc-ded5-42d3-bcc4-93c54f1584a2",
   "metadata": {},
   "outputs": [],
   "source": [
    "# show(filename)"
   ]
  },
  {
   "cell_type": "code",
   "execution_count": 10,
   "id": "e4d61af6-8238-4363-9dfa-657b72edc168",
   "metadata": {},
   "outputs": [],
   "source": [
    "output_file = 'pointcloud.xyz'"
   ]
  },
  {
   "cell_type": "code",
   "execution_count": null,
   "id": "b91b2fb3-5a53-4969-8d87-bd6995394603",
   "metadata": {},
   "outputs": [],
   "source": []
  },
  {
   "cell_type": "code",
   "execution_count": 11,
   "id": "a201e1a7-9346-4520-981f-99e76cb9207a",
   "metadata": {},
   "outputs": [
    {
     "data": {
      "text/plain": [
       "'20230528-144356'"
      ]
     },
     "execution_count": 11,
     "metadata": {},
     "output_type": "execute_result"
    }
   ],
   "source": [
    "import time\n",
    "time.strftime(\"%Y%m%d-%H%M%S\")"
   ]
  },
  {
   "cell_type": "code",
   "execution_count": 12,
   "id": "6bffed31-1a99-4514-8cd1-5efc1f9e8541",
   "metadata": {},
   "outputs": [],
   "source": [
    "# with open('point_cloud_'+time.strftime(\"%Y%m%d-%H%M%S\")+'.xyz', 'w') as f:\n",
    "#     f.write(str(ver))"
   ]
  },
  {
   "cell_type": "code",
   "execution_count": 13,
   "id": "2e1c7be0-27fc-4166-9cd8-7f527c1bae05",
   "metadata": {},
   "outputs": [],
   "source": [
    "# saving pointcloud\n",
    "output_file = 'point_cloud_'+time.strftime(\"%Y%m%d-%H%M%S\")+'.xyz'\n",
    "np.savetxt(output_file, ver, delimiter=' ')"
   ]
  },
  {
   "cell_type": "code",
   "execution_count": 14,
   "id": "2f4a7ec5-1239-48e8-be28-0f551ed86c48",
   "metadata": {},
   "outputs": [],
   "source": [
    "# count = 0\n",
    "# for male_mesh in male_folder.iterdir():\n",
    "#     show(str(male_mesh))\n",
    "#     count+=1\n",
    "#     if count >2:\n",
    "#         break"
   ]
  },
  {
   "cell_type": "code",
   "execution_count": null,
   "id": "7b8808d4-fbef-402e-b034-b0c65a293e58",
   "metadata": {},
   "outputs": [],
   "source": []
  },
  {
   "cell_type": "code",
   "execution_count": 15,
   "id": "d3b0bc33-8d10-42b1-8b21-c0f5d70487c1",
   "metadata": {},
   "outputs": [],
   "source": [
    "import torch"
   ]
  },
  {
   "cell_type": "code",
   "execution_count": 16,
   "id": "c6f08581-425c-4f65-b936-8ce48bf9c9bf",
   "metadata": {},
   "outputs": [],
   "source": [
    "# torch.ones((2,2))"
   ]
  },
  {
   "cell_type": "code",
   "execution_count": null,
   "id": "3a5429e9-b666-453c-897b-fe2da69b5a71",
   "metadata": {},
   "outputs": [],
   "source": []
  },
  {
   "cell_type": "code",
   "execution_count": 80,
   "id": "5b3c508a-b727-4d52-8e2c-2cfbd509d474",
   "metadata": {},
   "outputs": [],
   "source": [
    "Domain = namedtuple('domain', ['axis', 'min','max'])"
   ]
  },
  {
   "cell_type": "code",
   "execution_count": 85,
   "id": "35b771a3",
   "metadata": {},
   "outputs": [],
   "source": [
    "x = Domain(axis='x', min=0, max=2)\n",
    "y = Domain(axis='y', min=0, max=2)"
   ]
  },
  {
   "cell_type": "code",
   "execution_count": null,
   "id": "2019c408",
   "metadata": {},
   "outputs": [],
   "source": []
  },
  {
   "cell_type": "code",
   "execution_count": null,
   "id": "4174a3cb",
   "metadata": {},
   "outputs": [],
   "source": []
  },
  {
   "cell_type": "code",
   "execution_count": 37,
   "id": "8686ca68-77a3-43fa-8218-25f13fa06a54",
   "metadata": {},
   "outputs": [],
   "source": [
    "from collections import namedtuple"
   ]
  },
  {
   "cell_type": "code",
   "execution_count": 38,
   "id": "ea9b8db1-e0a8-4e3e-9956-3836edd4dcd9",
   "metadata": {},
   "outputs": [],
   "source": [
    "point = namedtuple('point', ['x','y','z'])"
   ]
  },
  {
   "cell_type": "code",
   "execution_count": 19,
   "id": "530207a9-aece-443b-9d84-8867a0ea9f5f",
   "metadata": {},
   "outputs": [],
   "source": [
    "p = point(1, 2, 3)"
   ]
  },
  {
   "cell_type": "code",
   "execution_count": 20,
   "id": "8de25aeb-87c9-40dd-96d5-2b5aa608d1e6",
   "metadata": {},
   "outputs": [
    {
     "data": {
      "text/plain": [
       "3"
      ]
     },
     "execution_count": 20,
     "metadata": {},
     "output_type": "execute_result"
    }
   ],
   "source": [
    "p.x + p.y"
   ]
  },
  {
   "cell_type": "code",
   "execution_count": 21,
   "id": "5d2e6605-b593-4740-8cea-68b040848d9e",
   "metadata": {},
   "outputs": [],
   "source": [
    "from itertools import product"
   ]
  },
  {
   "cell_type": "code",
   "execution_count": 22,
   "id": "76c3afca-1f94-411c-a2bc-9de4afbaa80c",
   "metadata": {},
   "outputs": [
    {
     "data": {
      "text/plain": [
       "[(1, 1, 1),\n",
       " (1, 1, 2),\n",
       " (1, 2, 1),\n",
       " (1, 2, 2),\n",
       " (2, 1, 1),\n",
       " (2, 1, 2),\n",
       " (2, 2, 1),\n",
       " (2, 2, 2)]"
      ]
     },
     "execution_count": 22,
     "metadata": {},
     "output_type": "execute_result"
    }
   ],
   "source": [
    "li = list(product([1,2], repeat=3))\n",
    "li"
   ]
  },
  {
   "cell_type": "code",
   "execution_count": 23,
   "id": "a351d4fe-b1fc-4a8c-8c87-bf4845a5d10c",
   "metadata": {},
   "outputs": [],
   "source": [
    "point = namedtuple('point', ['x','y','z'])"
   ]
  },
  {
   "cell_type": "code",
   "execution_count": 24,
   "id": "9d59ad54-27b1-4676-914d-a9bb53d075ea",
   "metadata": {},
   "outputs": [
    {
     "data": {
      "text/plain": [
       "point(x=1, y=2, z=23)"
      ]
     },
     "execution_count": 24,
     "metadata": {},
     "output_type": "execute_result"
    }
   ],
   "source": [
    "point(1,2,23)"
   ]
  },
  {
   "cell_type": "code",
   "execution_count": 25,
   "id": "f22c7dcc-af82-4edb-a9fd-86d1bfaff624",
   "metadata": {},
   "outputs": [
    {
     "data": {
      "text/plain": [
       "(1, 1, 1)"
      ]
     },
     "execution_count": 25,
     "metadata": {},
     "output_type": "execute_result"
    }
   ],
   "source": [
    "li[0]"
   ]
  },
  {
   "cell_type": "code",
   "execution_count": 26,
   "id": "73260f28-1f46-41a3-b6d8-5e0ebbb98bad",
   "metadata": {},
   "outputs": [
    {
     "data": {
      "text/plain": [
       "0"
      ]
     },
     "execution_count": 26,
     "metadata": {},
     "output_type": "execute_result"
    }
   ],
   "source": [
    "li[0].index(1)"
   ]
  },
  {
   "cell_type": "code",
   "execution_count": 27,
   "id": "2a25d7d3-cc78-47c6-b1bf-5d518ef4a2c7",
   "metadata": {},
   "outputs": [
    {
     "data": {
      "text/plain": [
       "[(1, 1), (1, 2), (2, 1), (2, 2), (3, 1), (3, 2)]"
      ]
     },
     "execution_count": 27,
     "metadata": {},
     "output_type": "execute_result"
    }
   ],
   "source": [
    "list(product([1, 2, 3], [1, 2]))"
   ]
  },
  {
   "cell_type": "code",
   "execution_count": null,
   "id": "84140096-07cc-4818-a501-731b1b1ba6bb",
   "metadata": {},
   "outputs": [],
   "source": []
  },
  {
   "cell_type": "code",
   "execution_count": null,
   "id": "6217b3fd",
   "metadata": {},
   "outputs": [],
   "source": []
  }
 ],
 "metadata": {
  "kernelspec": {
   "display_name": "Python 3 (ipykernel)",
   "language": "python",
   "name": "python3"
  },
  "language_info": {
   "codemirror_mode": {
    "name": "ipython",
    "version": 3
   },
   "file_extension": ".py",
   "mimetype": "text/x-python",
   "name": "python",
   "nbconvert_exporter": "python",
   "pygments_lexer": "ipython3",
   "version": "3.9.12"
  }
 },
 "nbformat": 4,
 "nbformat_minor": 5
}
