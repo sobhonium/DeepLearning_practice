{
 "cells": [
  {
   "cell_type": "code",
   "execution_count": null,
   "id": "8a5ac316",
   "metadata": {},
   "outputs": [],
   "source": []
  },
  {
   "cell_type": "code",
   "execution_count": 2,
   "id": "06ab6996",
   "metadata": {},
   "outputs": [],
   "source": [
    "import torch\n",
    "from torch import nn"
   ]
  },
  {
   "cell_type": "code",
   "execution_count": null,
   "id": "c366cb5c",
   "metadata": {},
   "outputs": [],
   "source": []
  },
  {
   "cell_type": "code",
   "execution_count": 4,
   "id": "4b04197a",
   "metadata": {},
   "outputs": [],
   "source": [
    "img = torch.rand((1,1, 32, 32))"
   ]
  },
  {
   "cell_type": "code",
   "execution_count": 21,
   "id": "a15b65de",
   "metadata": {},
   "outputs": [],
   "source": [
    "conv_layer = nn.Sequential(\n",
    "             nn.Conv2d(in_channels=1, out_channels=1, kernel_size=(3,3)),\n",
    "             nn.AvgPool2d(kernel_size=(2,2), stride=2),\n",
    "             nn.Conv2d(in_channels=1, out_channels=1, kernel_size=(3,3))\n",
    "\n",
    ")"
   ]
  },
  {
   "cell_type": "code",
   "execution_count": null,
   "id": "3fe83365",
   "metadata": {},
   "outputs": [],
   "source": []
  },
  {
   "cell_type": "code",
   "execution_count": 22,
   "id": "a3989e42",
   "metadata": {},
   "outputs": [
    {
     "data": {
      "text/plain": [
       "torch.Size([1, 1, 13, 13])"
      ]
     },
     "execution_count": 22,
     "metadata": {},
     "output_type": "execute_result"
    }
   ],
   "source": [
    "conv_layer(img).shape"
   ]
  },
  {
   "cell_type": "code",
   "execution_count": null,
   "id": "b3292825",
   "metadata": {},
   "outputs": [],
   "source": []
  },
  {
   "cell_type": "code",
   "execution_count": null,
   "id": "9181e302",
   "metadata": {},
   "outputs": [],
   "source": []
  },
  {
   "cell_type": "code",
   "execution_count": 23,
   "id": "87740172",
   "metadata": {},
   "outputs": [],
   "source": [
    "# instead of above lenghty process, it's better to use summary like bellow: \n",
    "# summary(<model-name>, <input-size>, <batch-size>)"
   ]
  },
  {
   "cell_type": "code",
   "execution_count": 24,
   "id": "8b2c6503",
   "metadata": {},
   "outputs": [],
   "source": [
    "from torchsummary import summary"
   ]
  },
  {
   "cell_type": "code",
   "execution_count": 29,
   "id": "a10e9434",
   "metadata": {},
   "outputs": [
    {
     "name": "stdout",
     "output_type": "stream",
     "text": [
      "----------------------------------------------------------------\n",
      "        Layer (type)               Output Shape         Param #\n",
      "================================================================\n",
      "            Conv2d-1             [2, 1, 30, 30]              10\n",
      "         AvgPool2d-2             [2, 1, 15, 15]               0\n",
      "            Conv2d-3             [2, 1, 13, 13]              10\n",
      "================================================================\n",
      "Total params: 20\n",
      "Trainable params: 20\n",
      "Non-trainable params: 0\n",
      "----------------------------------------------------------------\n",
      "Input size (MB): 0.01\n",
      "Forward/backward pass size (MB): 0.02\n",
      "Params size (MB): 0.00\n",
      "Estimated Total Size (MB): 0.03\n",
      "----------------------------------------------------------------\n"
     ]
    }
   ],
   "source": [
    "# in the following in_channel=1, batch_size=2 \n",
    "summary(conv_layer, (1, 32,32), 2)"
   ]
  },
  {
   "cell_type": "code",
   "execution_count": null,
   "id": "862d6ab9",
   "metadata": {},
   "outputs": [],
   "source": []
  },
  {
   "cell_type": "code",
   "execution_count": null,
   "id": "840fe1a2",
   "metadata": {},
   "outputs": [],
   "source": []
  }
 ],
 "metadata": {
  "kernelspec": {
   "display_name": "Python 3 (ipykernel)",
   "language": "python",
   "name": "python3"
  },
  "language_info": {
   "codemirror_mode": {
    "name": "ipython",
    "version": 3
   },
   "file_extension": ".py",
   "mimetype": "text/x-python",
   "name": "python",
   "nbconvert_exporter": "python",
   "pygments_lexer": "ipython3",
   "version": "3.10.11"
  }
 },
 "nbformat": 4,
 "nbformat_minor": 5
}
