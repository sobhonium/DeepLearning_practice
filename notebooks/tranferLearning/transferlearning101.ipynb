{
 "cells": [
  {
   "cell_type": "code",
   "execution_count": 1,
   "id": "ecd5dea9",
   "metadata": {},
   "outputs": [],
   "source": [
    "# May 2023\n",
    "# Transfer learning explained"
   ]
  },
  {
   "cell_type": "code",
   "execution_count": null,
   "id": "fab78f7c",
   "metadata": {},
   "outputs": [],
   "source": []
  },
  {
   "cell_type": "raw",
   "id": "731daf3b",
   "metadata": {},
   "source": [
    "Which pretrained model should you use?\n",
    "\n",
    "It depends on your problem/the device you're working with.\n",
    "\n",
    "Generally, the higher number in the model name (e.g. efficientnet_b0() -> efficientnet_b1() -> efficientnet_b7()) means better performance but a larger model.\n",
    "\n",
    "You might think better performance is always better, right?\n",
    "\n",
    "That's true but some better performing models are too big for some devices."
   ]
  },
  {
   "cell_type": "code",
   "execution_count": null,
   "id": "f721c919",
   "metadata": {},
   "outputs": [],
   "source": []
  },
  {
   "cell_type": "raw",
   "id": "de18b05c",
   "metadata": {},
   "source": [
    "Even though we're using efficientnet_bX, it's important not to get too attached to any one architecture, as they are always changing as new research gets released. Best to experiment, experiment, experiment and see what works for your problem."
   ]
  },
  {
   "cell_type": "code",
   "execution_count": null,
   "id": "15d9765a",
   "metadata": {},
   "outputs": [],
   "source": []
  },
  {
   "cell_type": "markdown",
   "id": "4d45a563",
   "metadata": {},
   "source": [
    "###  Resources"
   ]
  },
  {
   "cell_type": "markdown",
   "id": "6fa0a912",
   "metadata": {},
   "source": [
    "[1] https://www.learnpytorch.io/06_pytorch_transfer_learning/\n",
    "\n",
    "\n"
   ]
  },
  {
   "cell_type": "code",
   "execution_count": null,
   "id": "c62214e0",
   "metadata": {},
   "outputs": [],
   "source": []
  }
 ],
 "metadata": {
  "kernelspec": {
   "display_name": "Python 3 (ipykernel)",
   "language": "python",
   "name": "python3"
  },
  "language_info": {
   "codemirror_mode": {
    "name": "ipython",
    "version": 3
   },
   "file_extension": ".py",
   "mimetype": "text/x-python",
   "name": "python",
   "nbconvert_exporter": "python",
   "pygments_lexer": "ipython3",
   "version": "3.9.12"
  }
 },
 "nbformat": 4,
 "nbformat_minor": 5
}
