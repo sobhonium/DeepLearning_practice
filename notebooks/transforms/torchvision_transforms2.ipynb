{
 "cells": [
  {
   "cell_type": "code",
   "execution_count": 85,
   "id": "f795229d",
   "metadata": {},
   "outputs": [],
   "source": [
    "import torch"
   ]
  },
  {
   "cell_type": "code",
   "execution_count": 86,
   "id": "0cd0186a",
   "metadata": {},
   "outputs": [],
   "source": [
    "import torchvision"
   ]
  },
  {
   "cell_type": "code",
   "execution_count": 87,
   "id": "4dec1837",
   "metadata": {},
   "outputs": [
    {
     "data": {
      "text/plain": [
       "'1.7.1'"
      ]
     },
     "execution_count": 87,
     "metadata": {},
     "output_type": "execute_result"
    }
   ],
   "source": [
    "torch.__version__"
   ]
  },
  {
   "cell_type": "code",
   "execution_count": 88,
   "id": "136efb2c",
   "metadata": {},
   "outputs": [
    {
     "data": {
      "text/plain": [
       "'0.8.0a0'"
      ]
     },
     "execution_count": 88,
     "metadata": {},
     "output_type": "execute_result"
    }
   ],
   "source": [
    "torchvision.__version__"
   ]
  },
  {
   "cell_type": "code",
   "execution_count": null,
   "id": "d15dc1d2",
   "metadata": {},
   "outputs": [],
   "source": []
  },
  {
   "cell_type": "code",
   "execution_count": null,
   "id": "620a6daf",
   "metadata": {},
   "outputs": [],
   "source": [
    "# From torvhvision official page: \n",
    "# All transformations accept PIL Image, Tensor Image or batch of Tensor Images as input. \n",
    "# Tensor Image is a tensor with (C, H, W) shape, where C is a number of channels, H and \n",
    "# W are image height and width. Batch of Tensor Images is a tensor of (B, C, H, W) shape, \n",
    "# where B is a number of images in the batch. Deterministic or random transformations \n",
    "# applied on the batch of Tensor Images identically transform all the images of the batch."
   ]
  },
  {
   "cell_type": "code",
   "execution_count": null,
   "id": "3b71ce3d",
   "metadata": {},
   "outputs": [],
   "source": []
  },
  {
   "cell_type": "code",
   "execution_count": 124,
   "id": "d4ee0cfb",
   "metadata": {},
   "outputs": [],
   "source": [
    "# about PIL and Pillow:\n",
    "# PIL stands for 'Python Imaging Library', and it's \n",
    "# the original library that enabled Python to deal with images. PIL was discontinued\n",
    "# in 2011 and only supports Python 2. To use its developers' own description, Pillow is the friendly \n",
    "# PIL fork that kept the library alive and includes support for Python 3."
   ]
  },
  {
   "cell_type": "raw",
   "id": "d30afcb9",
   "metadata": {},
   "source": [
    "Pillow and its predecessor, PIL, are the original Python libraries for dealing with images. Even though there are other Python libraries for image processing, Pillow remains an important tool for understanding and dealing with images.\n",
    "\n",
    "To manipulate and process images, Pillow provides tools that are similar to ones found in image processing software such as Photoshop. Some of the more modern Python image processing libraries are built on top of Pillow and often provide more advanced functionality"
   ]
  },
  {
   "cell_type": "code",
   "execution_count": null,
   "id": "e44aa1d4",
   "metadata": {},
   "outputs": [],
   "source": []
  },
  {
   "cell_type": "code",
   "execution_count": 111,
   "id": "96cbc5eb",
   "metadata": {},
   "outputs": [],
   "source": [
    "# from PIL import Image\n",
    "# import matplotlib.pyplot as plt\n",
    "\n",
    "# img = Image.open('data/1.jpeg')"
   ]
  },
  {
   "cell_type": "code",
   "execution_count": 112,
   "id": "4c12ba10",
   "metadata": {},
   "outputs": [],
   "source": [
    "# type(img)"
   ]
  },
  {
   "cell_type": "code",
   "execution_count": 119,
   "id": "eb899385",
   "metadata": {},
   "outputs": [],
   "source": [
    "transf = torchvision.transforms.Compose([torchvision.transforms.Resize(50),\n",
    "                               torchvision.transforms.ToTensor()])"
   ]
  },
  {
   "cell_type": "code",
   "execution_count": null,
   "id": "dcc98843",
   "metadata": {},
   "outputs": [],
   "source": []
  },
  {
   "cell_type": "code",
   "execution_count": 120,
   "id": "d2ccfa98",
   "metadata": {},
   "outputs": [],
   "source": [
    "from matplotlib import image\n",
    "from matplotlib import pyplot\n",
    "# load image as pixel array\n",
    "img = image.imread('data/1.jpeg')"
   ]
  },
  {
   "cell_type": "code",
   "execution_count": 121,
   "id": "65f2bda8",
   "metadata": {},
   "outputs": [],
   "source": [
    "import torchvision.transforms.functional as F\n",
    "img = F.to_pil_image(img)"
   ]
  },
  {
   "cell_type": "code",
   "execution_count": 122,
   "id": "8ccfc091",
   "metadata": {},
   "outputs": [],
   "source": [
    "# img.shape"
   ]
  },
  {
   "cell_type": "code",
   "execution_count": null,
   "id": "6232cf74",
   "metadata": {},
   "outputs": [],
   "source": []
  },
  {
   "cell_type": "code",
   "execution_count": 123,
   "id": "1371a0da",
   "metadata": {},
   "outputs": [
    {
     "data": {
      "image/png": "[encoded data removed]",
      "text/plain": [
       "<PIL.Image.Image image mode=RGB size=50x75 at 0x7F74B2438B50>"
      ]
     },
     "execution_count": 123,
     "metadata": {},
     "output_type": "execute_result"
    }
   ],
   "source": [
    "\n",
    "import torchvision.transforms.functional as F\n",
    "F.to_pil_image(transf(img))"
   ]
  },
  {
   "cell_type": "code",
   "execution_count": null,
   "id": "e9341a22",
   "metadata": {},
   "outputs": [],
   "source": []
  },
  {
   "cell_type": "code",
   "execution_count": null,
   "id": "c136f062",
   "metadata": {},
   "outputs": [],
   "source": []
  }
 ],
 "metadata": {
  "kernelspec": {
   "display_name": "Python 3 (ipykernel)",
   "language": "python",
   "name": "python3"
  },
  "language_info": {
   "codemirror_mode": {
    "name": "ipython",
    "version": 3
   },
   "file_extension": ".py",
   "mimetype": "text/x-python",
   "name": "python",
   "nbconvert_exporter": "python",
   "pygments_lexer": "ipython3",
   "version": "3.9.12"
  }
 },
 "nbformat": 4,
 "nbformat_minor": 5
}
