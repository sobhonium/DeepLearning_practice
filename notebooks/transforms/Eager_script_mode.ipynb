{
 "cells": [
  {
   "cell_type": "raw",
   "id": "addc0548",
   "metadata": {},
   "source": [
    "PyTorch supports 2 separate modes to handle research and production environment.\n",
    "First is the Eager mode. It is built for faster prototyping, training, and experimentation (Research mode).\n",
    "Second is the Script mode. It is focused on the production use case. It has 2 components PyTorch JIT and TorchScript(production mode)."
   ]
  },
  {
   "cell_type": "code",
   "execution_count": null,
   "id": "43278ec6",
   "metadata": {},
   "outputs": [],
   "source": []
  },
  {
   "cell_type": "code",
   "execution_count": null,
   "id": "c8d9acd2",
   "metadata": {},
   "outputs": [],
   "source": []
  }
 ],
 "metadata": {
  "kernelspec": {
   "display_name": "Python 3 (ipykernel)",
   "language": "python",
   "name": "python3"
  },
  "language_info": {
   "codemirror_mode": {
    "name": "ipython",
    "version": 3
   },
   "file_extension": ".py",
   "mimetype": "text/x-python",
   "name": "python",
   "nbconvert_exporter": "python",
   "pygments_lexer": "ipython3",
   "version": "3.9.12"
  }
 },
 "nbformat": 4,
 "nbformat_minor": 5
}
