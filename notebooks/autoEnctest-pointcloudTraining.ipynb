{
 "cells": [
  {
   "cell_type": "code",
   "execution_count": 1,
   "id": "cf109f6b",
   "metadata": {},
   "outputs": [],
   "source": [
    "# Understanding autoencoders via a another example---> simple solid boxes in an image \n",
    "# This time I want to apply variational autoencoder (VAE )"
   ]
  },
  {
   "cell_type": "code",
   "execution_count": null,
   "id": "fe66759c",
   "metadata": {},
   "outputs": [],
   "source": []
  },
  {
   "cell_type": "code",
   "execution_count": 31,
   "id": "8801356f",
   "metadata": {},
   "outputs": [],
   "source": [
    "# test\n"
   ]
  },
  {
   "cell_type": "code",
   "execution_count": 154,
   "id": "d5c35241",
   "metadata": {},
   "outputs": [],
   "source": [
    "\n",
    "\n",
    "import torch\n",
    "import torch.nn as nn\n",
    "import torch.nn.functional as F\n",
    "from torch.utils.data import DataLoader\n",
    "import numpy as np"
   ]
  },
  {
   "cell_type": "code",
   "execution_count": null,
   "id": "f0887ed6",
   "metadata": {},
   "outputs": [],
   "source": []
  },
  {
   "cell_type": "code",
   "execution_count": 155,
   "id": "d436c711",
   "metadata": {},
   "outputs": [],
   "source": [
    "from utils.show_mesh import *\n",
    "from utils.obj_file_toolkit import *\n",
    "# show(filename)"
   ]
  },
  {
   "cell_type": "code",
   "execution_count": 156,
   "id": "c5251b5b-959a-4808-be10-6f2b9d1e4369",
   "metadata": {},
   "outputs": [],
   "source": [
    "filename = '/home/sobhan/Downloads/datasets/SPRING_FEMALE/mesh/SPRING0014.obj'"
   ]
  },
  {
   "cell_type": "code",
   "execution_count": 157,
   "id": "a1d37a29-cef3-40a7-90fe-f0a60ac4a9fe",
   "metadata": {},
   "outputs": [
    {
     "data": {
      "text/plain": [
       "((12500, 3), (12500, 3), (25000, 3))"
      ]
     },
     "execution_count": 157,
     "metadata": {},
     "output_type": "execute_result"
    }
   ],
   "source": [
    "ver, nver,  fac = read_obj(filename)\n",
    "ver.shape, nver.shape, fac.shape"
   ]
  },
  {
   "cell_type": "code",
   "execution_count": 158,
   "id": "e8df0602-3dbf-4d69-a9a0-61771ce10c50",
   "metadata": {},
   "outputs": [],
   "source": [
    "from pathlib import Path\n",
    "parent_folder = Path('/home/sobhan/Downloads/datasets/') \n",
    "female_folder = parent_folder / Path('SPRING_FEMALE/mesh')\n",
    "male_folder   = parent_folder / Path('SPRING_MALE')"
   ]
  },
  {
   "cell_type": "code",
   "execution_count": null,
   "id": "eafebc25-a178-45a9-8b41-469721092a4b",
   "metadata": {},
   "outputs": [],
   "source": []
  },
  {
   "cell_type": "code",
   "execution_count": 219,
   "id": "4f680953-3460-4cef-97c1-22c9f8aa539a",
   "metadata": {},
   "outputs": [],
   "source": [
    "\n",
    "num_samples = 100 # threshold for filling our dataset\n",
    "features  = torch.empty((num_samples, 12500, 3))\n",
    "\n",
    "for idx, male_mesh in enumerate(male_folder.iterdir()):\n",
    "    # show(str(male_mesh))\n",
    "    ver, _, _ = read_obj(str(male_mesh))\n",
    "    # print(np.max(ver))\n",
    "    features[idx] = torch.tensor(ver)\n",
    "    # print(torch.max(features[idx]))\n",
    "    if idx+1 >= num_samples:\n",
    "        break"
   ]
  },
  {
   "cell_type": "code",
   "execution_count": 220,
   "id": "13e585ff-275a-47f5-9262-6fe3b2ae1ab2",
   "metadata": {},
   "outputs": [
    {
     "data": {
      "text/plain": [
       "torch.Size([100, 12500, 3])"
      ]
     },
     "execution_count": 220,
     "metadata": {},
     "output_type": "execute_result"
    }
   ],
   "source": [
    "features.shape"
   ]
  },
  {
   "cell_type": "code",
   "execution_count": 221,
   "id": "dc8dc59c-bd0e-40a6-a9e8-c7192bb5da71",
   "metadata": {},
   "outputs": [
    {
     "data": {
      "text/plain": [
       "torch.Size([12500, 3])"
      ]
     },
     "execution_count": 221,
     "metadata": {},
     "output_type": "execute_result"
    }
   ],
   "source": [
    "features[0].shape"
   ]
  },
  {
   "cell_type": "code",
   "execution_count": 222,
   "id": "dbc365a9",
   "metadata": {},
   "outputs": [],
   "source": [
    "# box_siz = 24\n",
    "# num_samples = 1000   # sample data number\n",
    "# rand_radious= torch.randint(3, 150, (num_samples,))/10 # create a random array of raduis\n",
    "# features = box(radius=rand_radious, box_size=box_siz)  # data set"
   ]
  },
  {
   "cell_type": "code",
   "execution_count": 223,
   "id": "a82894fb",
   "metadata": {},
   "outputs": [
    {
     "data": {
      "text/plain": [
       "torch.Size([100, 12500, 3])"
      ]
     },
     "execution_count": 223,
     "metadata": {},
     "output_type": "execute_result"
    }
   ],
   "source": [
    "features.shape"
   ]
  },
  {
   "cell_type": "code",
   "execution_count": null,
   "id": "fe88fcaf-803a-4c8f-8a28-3a356a8e5ec1",
   "metadata": {},
   "outputs": [],
   "source": []
  },
  {
   "cell_type": "code",
   "execution_count": 224,
   "id": "92a8a8b5-b7c1-4fe3-8263-f2a2659457d9",
   "metadata": {},
   "outputs": [],
   "source": [
    "back_features = features\n",
    "features[:,0] = (features[:,0] - torch.mean(features[:,0]))/torch.std(features[:,0])\n",
    "features[:,1] = (features[:,1] - torch.mean(features[:,1]))/torch.std(features[:,1])\n",
    "features[:,2] = (features[:,2] - torch.mean(features[:,2]))/torch.std(features[:,2])"
   ]
  },
  {
   "cell_type": "code",
   "execution_count": null,
   "id": "84a4422a-b752-471d-ae03-b5b82cbdb842",
   "metadata": {},
   "outputs": [],
   "source": []
  },
  {
   "cell_type": "code",
   "execution_count": null,
   "id": "331e2cf2-3b16-48d1-a478-b06388562f16",
   "metadata": {},
   "outputs": [],
   "source": []
  },
  {
   "cell_type": "code",
   "execution_count": 225,
   "id": "f0c9e332-eec9-491f-a383-4dcced31efce",
   "metadata": {},
   "outputs": [],
   "source": [
    "# import pandas as pd\n",
    "# _ = pd.DataFrame(features.reshape(-1,3).detach().numpy(), columns=[\"0\",\"1\",\"2\"]).hist()\n",
    "# _ = pd.DataFrame(back_features.reshape(-1,3).detach().numpy(), columns=[\"0\",\"1\",\"2\"]).hist()\n"
   ]
  },
  {
   "cell_type": "code",
   "execution_count": 226,
   "id": "2a0df024-9f37-40ef-a2c9-e47074bca52b",
   "metadata": {},
   "outputs": [],
   "source": [
    "# output_file = 'point_cloud_'+time.strftime(\"%Y%m%d-%H%M%S\")+'.xyz'\n",
    "# np.savetxt(output_file, features.reshape(-1, 3).detach().numpy(), delimiter=' ')"
   ]
  },
  {
   "cell_type": "code",
   "execution_count": 227,
   "id": "901fcd22-f487-4755-9bdd-6f1f04792260",
   "metadata": {},
   "outputs": [],
   "source": [
    "# output_file = 'point_cloud_'+time.strftime(\"%Y%m%d-%H%M%S\")+'.xyz'\n",
    "# np.savetxt(output_file, back_features.reshape(-1, 3).detach().numpy(), delimiter=' ')"
   ]
  },
  {
   "cell_type": "code",
   "execution_count": null,
   "id": "dd593d33-c40e-4d64-8acd-49fdaca4e7fc",
   "metadata": {},
   "outputs": [],
   "source": []
  },
  {
   "cell_type": "code",
   "execution_count": 228,
   "id": "dd8eccf5-8d66-4ee4-bd25-9b814b7f0641",
   "metadata": {},
   "outputs": [
    {
     "data": {
      "text/plain": [
       "tensor([ 0.4775,  0.8816, -1.3775,  ...,  0.0509,  0.0229, -0.1746])"
      ]
     },
     "execution_count": 228,
     "metadata": {},
     "output_type": "execute_result"
    }
   ],
   "source": [
    "torch.flatten(features, start_dim=0)"
   ]
  },
  {
   "cell_type": "code",
   "execution_count": 229,
   "id": "30506893-bfa7-4497-a1d9-467ce435e84a",
   "metadata": {},
   "outputs": [],
   "source": [
    "features = torch.flatten(features, start_dim=1)"
   ]
  },
  {
   "cell_type": "code",
   "execution_count": 191,
   "id": "9773d46b-ccd6-4587-a0d2-e3a222132376",
   "metadata": {},
   "outputs": [],
   "source": [
    "# import pandas as pd\n",
    "# _ = pd.DataFrame(features.reshape(-1,3).detach().numpy()).hist()\n",
    "# _ = pd.DataFrame(back_features.reshape(-1,3).detach().numpy(), columns=[\"0\",\"1\",\"2\"]).hist()\n"
   ]
  },
  {
   "cell_type": "code",
   "execution_count": 230,
   "id": "ba10e94d-4a13-4091-884a-5fa87a93a41c",
   "metadata": {},
   "outputs": [
    {
     "data": {
      "text/plain": [
       "torch.Size([100, 37500])"
      ]
     },
     "execution_count": 230,
     "metadata": {},
     "output_type": "execute_result"
    }
   ],
   "source": [
    "features.shape"
   ]
  },
  {
   "cell_type": "code",
   "execution_count": 231,
   "id": "0468392e-24d5-4324-9bc0-21547988e22e",
   "metadata": {},
   "outputs": [
    {
     "data": {
      "text/plain": [
       "37500"
      ]
     },
     "execution_count": 231,
     "metadata": {},
     "output_type": "execute_result"
    }
   ],
   "source": [
    "features.numel()//num_samples"
   ]
  },
  {
   "cell_type": "code",
   "execution_count": 232,
   "id": "9a975063",
   "metadata": {},
   "outputs": [],
   "source": [
    "batch_size = 40\n",
    "# img_size = (32, 32) # (width, height)\n",
    "# x_dim  = 784\n",
    "# x_dim  = 784\n",
    "\n",
    "input_dim = features.numel()//num_samples\n",
    "# input_dim = 3\n",
    "\n",
    "hidden_dim = 5000\n",
    "latent_dim = 20\n",
    "\n",
    "\n",
    "# input_dim = 3\n",
    "# hidden_dim = 128\n",
    "# n_embeddings= 768\n",
    "output_dim = input_dim\n",
    "\n",
    "lr = 2e-4\n",
    "\n",
    "epochs = 300\n",
    "DEVICE = 'cpu'\n",
    "print_step = 50"
   ]
  },
  {
   "cell_type": "code",
   "execution_count": null,
   "id": "efd46e82",
   "metadata": {},
   "outputs": [],
   "source": []
  },
  {
   "cell_type": "code",
   "execution_count": 194,
   "id": "c2577a9e",
   "metadata": {},
   "outputs": [],
   "source": [
    "from torch.utils import data\n",
    "\n",
    "def load_array(data_arrays, batch_size, is_train=True): #@save\n",
    "    \"\"\"Construct a PyTorch data iterator.\"\"\"\n",
    "    dataset = data.TensorDataset(*data_arrays)\n",
    "    return data.DataLoader(dataset, batch_size, shuffle=is_train)"
   ]
  },
  {
   "cell_type": "code",
   "execution_count": 195,
   "id": "2e371feb",
   "metadata": {},
   "outputs": [],
   "source": [
    "# 80% for training and 20% for testing\n",
    "train_x = features#[:-num_samples*80//100]\n",
    "test_x  = features#[-num_samples*80//100:]\n",
    "\n",
    "train_loader = load_array((train_x, train_x), batch_size)\n",
    "# train_loader = DataLoader(dataset=train_dataset, batch_size=batch_size, shuffle=True)\n",
    "test_loader  = load_array((test_x, test_x), 10)"
   ]
  },
  {
   "cell_type": "code",
   "execution_count": 196,
   "id": "03280d1f",
   "metadata": {},
   "outputs": [
    {
     "data": {
      "text/plain": [
       "(torch.Size([1, 37500]), torch.Size([1, 37500]))"
      ]
     },
     "execution_count": 196,
     "metadata": {},
     "output_type": "execute_result"
    }
   ],
   "source": [
    "train_x.shape, test_x.shape"
   ]
  },
  {
   "cell_type": "code",
   "execution_count": null,
   "id": "f398357e",
   "metadata": {},
   "outputs": [],
   "source": []
  },
  {
   "cell_type": "code",
   "execution_count": 197,
   "id": "8ffc7e3e",
   "metadata": {},
   "outputs": [],
   "source": [
    "\"\"\"\n",
    "    A simple implementation of Gaussian MLP Encoder and Decoder\n",
    "\"\"\"\n",
    "\n",
    "class Encoder(nn.Module):\n",
    "    \n",
    "    def __init__(self, input_dim, hidden_dim, latent_dim):\n",
    "        super(Encoder, self).__init__()\n",
    "\n",
    "        self.FC_input = nn.Linear(input_dim, hidden_dim)\n",
    "        self.FC_input2 = nn.Linear(hidden_dim, hidden_dim)\n",
    "        self.FC_mean  = nn.Linear(hidden_dim, latent_dim)\n",
    "        self.FC_var   = nn.Linear (hidden_dim, latent_dim)\n",
    "        \n",
    "        self.LeakyReLU = nn.LeakyReLU(0.2)\n",
    "        \n",
    "        self.training = True\n",
    "        \n",
    "    def forward(self, x):\n",
    "        h_       = self.LeakyReLU(self.FC_input(x))\n",
    "        h_       = self.LeakyReLU(self.FC_input2(h_))\n",
    "        mean     = self.FC_mean(h_)\n",
    "        log_var  = self.FC_var(h_)                     # encoder produces mean and log of variance \n",
    "                                                       #             (i.e., parateters of simple tractable normal distribution \"q\"\n",
    "        \n",
    "        return mean, log_var"
   ]
  },
  {
   "cell_type": "code",
   "execution_count": null,
   "id": "acab8689",
   "metadata": {},
   "outputs": [],
   "source": []
  },
  {
   "cell_type": "code",
   "execution_count": 198,
   "id": "d987fbd1",
   "metadata": {},
   "outputs": [],
   "source": [
    "\n",
    "class Decoder(nn.Module):\n",
    "    def __init__(self, latent_dim, hidden_dim, output_dim):\n",
    "        super(Decoder, self).__init__()\n",
    "        self.FC_hidden = nn.Linear(latent_dim, hidden_dim)\n",
    "        self.FC_hidden2 = nn.Linear(hidden_dim, hidden_dim)\n",
    "        self.FC_output = nn.Linear(hidden_dim, output_dim)\n",
    "        \n",
    "        self.LeakyReLU = nn.LeakyReLU(0.2)\n",
    "        \n",
    "    def forward(self, x):\n",
    "        h     = self.LeakyReLU(self.FC_hidden(x))\n",
    "        h     = self.LeakyReLU(self.FC_hidden2(h))\n",
    "        \n",
    "        x_hat = torch.sigmoid(self.FC_output(h))\n",
    "        return x_hat"
   ]
  },
  {
   "cell_type": "code",
   "execution_count": 199,
   "id": "edc2b43f",
   "metadata": {},
   "outputs": [],
   "source": [
    "# This took me a while to understand it.\n",
    "# z[i]= mu[i]+eps[i]*std[i]   for decoder \n",
    "# see bellow:"
   ]
  },
  {
   "cell_type": "markdown",
   "id": "4997201e",
   "metadata": {},
   "source": [
    "![image](VAE.jpg)"
   ]
  },
  {
   "cell_type": "code",
   "execution_count": null,
   "id": "8be7b2a9",
   "metadata": {},
   "outputs": [],
   "source": []
  },
  {
   "cell_type": "code",
   "execution_count": null,
   "id": "651a3bb8",
   "metadata": {},
   "outputs": [],
   "source": []
  },
  {
   "cell_type": "code",
   "execution_count": 200,
   "id": "39ea9e92",
   "metadata": {},
   "outputs": [],
   "source": [
    "class Model(nn.Module):\n",
    "    def __init__(self, Encoder, Decoder):\n",
    "        super(Model, self).__init__()\n",
    "        self.Encoder = Encoder\n",
    "        self.Decoder = Decoder\n",
    "        \n",
    "    def reparameterization(self, mean, var):\n",
    "        epsilon = torch.randn_like(var).to(DEVICE)        # sampling epsilon        \n",
    "        z = mean + var*epsilon                          # reparameterization trick\n",
    "        return z\n",
    "        \n",
    "                \n",
    "    def forward(self, x):\n",
    "        mean, log_var = self.Encoder(x)\n",
    "        z = self.reparameterization(mean, torch.exp(0.5 * log_var)) # takes exponential function (log var -> var)\n",
    "        x_hat            = self.Decoder(z)\n",
    "        \n",
    "        return x_hat, mean, log_var\n",
    "\n",
    "\n"
   ]
  },
  {
   "cell_type": "code",
   "execution_count": null,
   "id": "2d35cf94",
   "metadata": {},
   "outputs": [],
   "source": []
  },
  {
   "cell_type": "code",
   "execution_count": 201,
   "id": "3d0c8a51",
   "metadata": {},
   "outputs": [],
   "source": [
    "encoder = Encoder(input_dim=input_dim, hidden_dim=hidden_dim, latent_dim=latent_dim)\n",
    "decoder = Decoder(latent_dim=latent_dim, hidden_dim = hidden_dim, output_dim = output_dim)\n",
    "\n",
    "model = Model(Encoder=encoder, Decoder=decoder).to(DEVICE)\n"
   ]
  },
  {
   "cell_type": "code",
   "execution_count": null,
   "id": "a6d60395",
   "metadata": {},
   "outputs": [],
   "source": []
  },
  {
   "cell_type": "code",
   "execution_count": 202,
   "id": "ab4609f0",
   "metadata": {},
   "outputs": [],
   "source": [
    "# model(features[0].float())"
   ]
  },
  {
   "cell_type": "code",
   "execution_count": null,
   "id": "d3d505fb",
   "metadata": {},
   "outputs": [],
   "source": []
  },
  {
   "cell_type": "markdown",
   "id": "1a012aa7",
   "metadata": {},
   "source": [
    "# Defining loss function"
   ]
  },
  {
   "cell_type": "code",
   "execution_count": 203,
   "id": "e7106b83",
   "metadata": {},
   "outputs": [],
   "source": [
    "\n",
    "\n",
    "from torch.optim import Adam\n",
    "\n",
    "BCE_loss = nn.BCELoss()\n",
    "\n",
    "def loss_function(x, x_hat, mean, log_var):\n",
    "    reproduction_loss = nn.functional.binary_cross_entropy(x_hat.float(), x.float(), reduction='sum')\n",
    "    KLD      = - 0.5 * torch.sum(1+ log_var - mean.pow(2) - log_var.exp())\n",
    "\n",
    "    return torch.abs(reproduction_loss + KLD)\n",
    "\n",
    "\n",
    "optimizer = Adam(model.parameters(), lr=lr)\n",
    "\n"
   ]
  },
  {
   "cell_type": "markdown",
   "id": "6b855420",
   "metadata": {},
   "source": [
    "# Training"
   ]
  },
  {
   "cell_type": "code",
   "execution_count": null,
   "id": "87caabee",
   "metadata": {},
   "outputs": [],
   "source": []
  },
  {
   "cell_type": "code",
   "execution_count": 206,
   "id": "3b6cbce4",
   "metadata": {},
   "outputs": [
    {
     "name": "stdout",
     "output_type": "stream",
     "text": [
      "Start training VAE...\n",
      "\tEpoch 1 complete! \tAverage Loss:  0.0\n",
      "\tEpoch 2 complete! \tAverage Loss:  0.0\n",
      "\tEpoch 3 complete! \tAverage Loss:  1.0\n"
     ]
    },
    {
     "name": "stderr",
     "output_type": "stream",
     "text": [
      "<ipython-input-206-1591c315d5d6>:13: UserWarning: __floordiv__ is deprecated, and its behavior will change in a future version of pytorch. It currently rounds toward 0 (like the 'trunc' function NOT 'floor'). This results in incorrect rounding for negative values. To keep the current behavior, use torch.div(a, b, rounding_mode='trunc'), or for actual floor division, use torch.div(a, b, rounding_mode='floor').\n",
      "  loss = loss_function(x, x_hat, mean, log_var)//100\n"
     ]
    },
    {
     "name": "stdout",
     "output_type": "stream",
     "text": [
      "\tEpoch 4 complete! \tAverage Loss:  1.0\n",
      "\tEpoch 5 complete! \tAverage Loss:  1.0\n",
      "\tEpoch 6 complete! \tAverage Loss:  2.0\n",
      "\tEpoch 7 complete! \tAverage Loss:  2.0\n",
      "\tEpoch 8 complete! \tAverage Loss:  2.0\n",
      "\tEpoch 9 complete! \tAverage Loss:  2.0\n",
      "\tEpoch 10 complete! \tAverage Loss:  3.0\n",
      "\tEpoch 11 complete! \tAverage Loss:  3.0\n",
      "\tEpoch 12 complete! \tAverage Loss:  3.0\n",
      "\tEpoch 13 complete! \tAverage Loss:  3.0\n",
      "\tEpoch 14 complete! \tAverage Loss:  3.0\n",
      "\tEpoch 15 complete! \tAverage Loss:  4.0\n",
      "\tEpoch 16 complete! \tAverage Loss:  3.0\n",
      "\tEpoch 17 complete! \tAverage Loss:  4.0\n",
      "\tEpoch 18 complete! \tAverage Loss:  4.0\n",
      "\tEpoch 19 complete! \tAverage Loss:  4.0\n",
      "\tEpoch 20 complete! \tAverage Loss:  4.0\n",
      "\tEpoch 21 complete! \tAverage Loss:  4.0\n",
      "\tEpoch 22 complete! \tAverage Loss:  4.0\n",
      "\tEpoch 23 complete! \tAverage Loss:  4.0\n",
      "\tEpoch 24 complete! \tAverage Loss:  4.0\n",
      "\tEpoch 25 complete! \tAverage Loss:  4.0\n",
      "\tEpoch 26 complete! \tAverage Loss:  4.0\n",
      "\tEpoch 27 complete! \tAverage Loss:  4.0\n",
      "\tEpoch 28 complete! \tAverage Loss:  4.0\n",
      "\tEpoch 29 complete! \tAverage Loss:  4.0\n",
      "\tEpoch 30 complete! \tAverage Loss:  4.0\n",
      "\tEpoch 31 complete! \tAverage Loss:  5.0\n",
      "\tEpoch 32 complete! \tAverage Loss:  4.0\n",
      "\tEpoch 33 complete! \tAverage Loss:  5.0\n",
      "\tEpoch 34 complete! \tAverage Loss:  4.0\n",
      "\tEpoch 35 complete! \tAverage Loss:  5.0\n",
      "\tEpoch 36 complete! \tAverage Loss:  4.0\n",
      "\tEpoch 37 complete! \tAverage Loss:  4.0\n",
      "\tEpoch 38 complete! \tAverage Loss:  4.0\n",
      "\tEpoch 39 complete! \tAverage Loss:  4.0\n",
      "\tEpoch 40 complete! \tAverage Loss:  5.0\n",
      "\tEpoch 41 complete! \tAverage Loss:  5.0\n",
      "\tEpoch 42 complete! \tAverage Loss:  5.0\n",
      "\tEpoch 43 complete! \tAverage Loss:  5.0\n",
      "\tEpoch 44 complete! \tAverage Loss:  4.0\n",
      "\tEpoch 45 complete! \tAverage Loss:  4.0\n",
      "\tEpoch 46 complete! \tAverage Loss:  5.0\n",
      "\tEpoch 47 complete! \tAverage Loss:  4.0\n",
      "\tEpoch 48 complete! \tAverage Loss:  5.0\n",
      "\tEpoch 49 complete! \tAverage Loss:  5.0\n",
      "\tEpoch 50 complete! \tAverage Loss:  4.0\n",
      "\tEpoch 51 complete! \tAverage Loss:  5.0\n",
      "\tEpoch 52 complete! \tAverage Loss:  5.0\n",
      "\tEpoch 53 complete! \tAverage Loss:  5.0\n",
      "\tEpoch 54 complete! \tAverage Loss:  5.0\n",
      "\tEpoch 55 complete! \tAverage Loss:  5.0\n",
      "\tEpoch 56 complete! \tAverage Loss:  5.0\n",
      "\tEpoch 57 complete! \tAverage Loss:  5.0\n",
      "\tEpoch 58 complete! \tAverage Loss:  5.0\n",
      "\tEpoch 59 complete! \tAverage Loss:  5.0\n",
      "\tEpoch 60 complete! \tAverage Loss:  5.0\n",
      "\tEpoch 61 complete! \tAverage Loss:  4.0\n",
      "\tEpoch 62 complete! \tAverage Loss:  5.0\n",
      "\tEpoch 63 complete! \tAverage Loss:  5.0\n",
      "\tEpoch 64 complete! \tAverage Loss:  5.0\n",
      "\tEpoch 65 complete! \tAverage Loss:  5.0\n",
      "\tEpoch 66 complete! \tAverage Loss:  5.0\n",
      "\tEpoch 67 complete! \tAverage Loss:  5.0\n",
      "\tEpoch 68 complete! \tAverage Loss:  5.0\n",
      "\tEpoch 69 complete! \tAverage Loss:  5.0\n",
      "\tEpoch 70 complete! \tAverage Loss:  5.0\n",
      "\tEpoch 71 complete! \tAverage Loss:  5.0\n",
      "\tEpoch 72 complete! \tAverage Loss:  4.0\n",
      "\tEpoch 73 complete! \tAverage Loss:  5.0\n",
      "\tEpoch 74 complete! \tAverage Loss:  5.0\n",
      "\tEpoch 75 complete! \tAverage Loss:  5.0\n",
      "\tEpoch 76 complete! \tAverage Loss:  5.0\n",
      "\tEpoch 77 complete! \tAverage Loss:  5.0\n",
      "\tEpoch 78 complete! \tAverage Loss:  5.0\n",
      "\tEpoch 79 complete! \tAverage Loss:  5.0\n",
      "\tEpoch 80 complete! \tAverage Loss:  5.0\n",
      "\tEpoch 81 complete! \tAverage Loss:  5.0\n",
      "\tEpoch 82 complete! \tAverage Loss:  4.0\n",
      "\tEpoch 83 complete! \tAverage Loss:  5.0\n",
      "\tEpoch 84 complete! \tAverage Loss:  5.0\n",
      "\tEpoch 85 complete! \tAverage Loss:  5.0\n",
      "\tEpoch 86 complete! \tAverage Loss:  5.0\n",
      "\tEpoch 87 complete! \tAverage Loss:  5.0\n",
      "\tEpoch 88 complete! \tAverage Loss:  4.0\n",
      "\tEpoch 89 complete! \tAverage Loss:  5.0\n",
      "\tEpoch 90 complete! \tAverage Loss:  5.0\n",
      "\tEpoch 91 complete! \tAverage Loss:  4.0\n",
      "\tEpoch 92 complete! \tAverage Loss:  5.0\n",
      "\tEpoch 93 complete! \tAverage Loss:  5.0\n",
      "\tEpoch 94 complete! \tAverage Loss:  4.0\n",
      "\tEpoch 95 complete! \tAverage Loss:  5.0\n",
      "\tEpoch 96 complete! \tAverage Loss:  5.0\n",
      "\tEpoch 97 complete! \tAverage Loss:  5.0\n",
      "\tEpoch 98 complete! \tAverage Loss:  5.0\n",
      "\tEpoch 99 complete! \tAverage Loss:  5.0\n",
      "\tEpoch 100 complete! \tAverage Loss:  5.0\n",
      "\tEpoch 101 complete! \tAverage Loss:  5.0\n",
      "\tEpoch 102 complete! \tAverage Loss:  5.0\n",
      "\tEpoch 103 complete! \tAverage Loss:  5.0\n",
      "\tEpoch 104 complete! \tAverage Loss:  5.0\n",
      "\tEpoch 105 complete! \tAverage Loss:  5.0\n",
      "\tEpoch 106 complete! \tAverage Loss:  4.0\n",
      "\tEpoch 107 complete! \tAverage Loss:  4.0\n",
      "\tEpoch 108 complete! \tAverage Loss:  5.0\n",
      "\tEpoch 109 complete! \tAverage Loss:  5.0\n",
      "\tEpoch 110 complete! \tAverage Loss:  5.0\n",
      "\tEpoch 111 complete! \tAverage Loss:  5.0\n",
      "\tEpoch 112 complete! \tAverage Loss:  5.0\n",
      "\tEpoch 113 complete! \tAverage Loss:  5.0\n",
      "\tEpoch 114 complete! \tAverage Loss:  5.0\n",
      "\tEpoch 115 complete! \tAverage Loss:  5.0\n",
      "\tEpoch 116 complete! \tAverage Loss:  5.0\n",
      "\tEpoch 117 complete! \tAverage Loss:  5.0\n",
      "\tEpoch 118 complete! \tAverage Loss:  5.0\n",
      "\tEpoch 119 complete! \tAverage Loss:  5.0\n",
      "\tEpoch 120 complete! \tAverage Loss:  5.0\n",
      "\tEpoch 121 complete! \tAverage Loss:  5.0\n",
      "\tEpoch 122 complete! \tAverage Loss:  5.0\n",
      "\tEpoch 123 complete! \tAverage Loss:  5.0\n",
      "\tEpoch 124 complete! \tAverage Loss:  5.0\n",
      "\tEpoch 125 complete! \tAverage Loss:  5.0\n",
      "\tEpoch 126 complete! \tAverage Loss:  5.0\n",
      "\tEpoch 127 complete! \tAverage Loss:  5.0\n",
      "\tEpoch 128 complete! \tAverage Loss:  5.0\n",
      "\tEpoch 129 complete! \tAverage Loss:  5.0\n",
      "\tEpoch 130 complete! \tAverage Loss:  5.0\n",
      "\tEpoch 131 complete! \tAverage Loss:  5.0\n",
      "\tEpoch 132 complete! \tAverage Loss:  5.0\n",
      "\tEpoch 133 complete! \tAverage Loss:  5.0\n",
      "\tEpoch 134 complete! \tAverage Loss:  5.0\n",
      "\tEpoch 135 complete! \tAverage Loss:  5.0\n",
      "\tEpoch 136 complete! \tAverage Loss:  5.0\n",
      "\tEpoch 137 complete! \tAverage Loss:  5.0\n",
      "\tEpoch 138 complete! \tAverage Loss:  5.0\n",
      "\tEpoch 139 complete! \tAverage Loss:  5.0\n",
      "\tEpoch 140 complete! \tAverage Loss:  4.0\n",
      "\tEpoch 141 complete! \tAverage Loss:  5.0\n",
      "\tEpoch 142 complete! \tAverage Loss:  5.0\n",
      "\tEpoch 143 complete! \tAverage Loss:  5.0\n",
      "\tEpoch 144 complete! \tAverage Loss:  5.0\n",
      "\tEpoch 145 complete! \tAverage Loss:  5.0\n",
      "\tEpoch 146 complete! \tAverage Loss:  5.0\n",
      "\tEpoch 147 complete! \tAverage Loss:  5.0\n",
      "\tEpoch 148 complete! \tAverage Loss:  5.0\n",
      "\tEpoch 149 complete! \tAverage Loss:  4.0\n",
      "\tEpoch 150 complete! \tAverage Loss:  4.0\n",
      "\tEpoch 151 complete! \tAverage Loss:  5.0\n",
      "\tEpoch 152 complete! \tAverage Loss:  5.0\n",
      "\tEpoch 153 complete! \tAverage Loss:  5.0\n",
      "\tEpoch 154 complete! \tAverage Loss:  4.0\n",
      "\tEpoch 155 complete! \tAverage Loss:  5.0\n",
      "\tEpoch 156 complete! \tAverage Loss:  5.0\n",
      "\tEpoch 157 complete! \tAverage Loss:  5.0\n",
      "\tEpoch 158 complete! \tAverage Loss:  4.0\n",
      "\tEpoch 159 complete! \tAverage Loss:  5.0\n",
      "\tEpoch 160 complete! \tAverage Loss:  5.0\n",
      "\tEpoch 161 complete! \tAverage Loss:  5.0\n",
      "\tEpoch 162 complete! \tAverage Loss:  5.0\n",
      "\tEpoch 163 complete! \tAverage Loss:  5.0\n",
      "\tEpoch 164 complete! \tAverage Loss:  4.0\n",
      "\tEpoch 165 complete! \tAverage Loss:  5.0\n",
      "\tEpoch 166 complete! \tAverage Loss:  5.0\n",
      "\tEpoch 167 complete! \tAverage Loss:  5.0\n",
      "\tEpoch 168 complete! \tAverage Loss:  5.0\n",
      "\tEpoch 169 complete! \tAverage Loss:  5.0\n",
      "\tEpoch 170 complete! \tAverage Loss:  5.0\n",
      "\tEpoch 171 complete! \tAverage Loss:  5.0\n",
      "\tEpoch 172 complete! \tAverage Loss:  5.0\n",
      "\tEpoch 173 complete! \tAverage Loss:  5.0\n",
      "\tEpoch 174 complete! \tAverage Loss:  5.0\n",
      "\tEpoch 175 complete! \tAverage Loss:  5.0\n",
      "\tEpoch 176 complete! \tAverage Loss:  5.0\n",
      "\tEpoch 177 complete! \tAverage Loss:  5.0\n",
      "\tEpoch 178 complete! \tAverage Loss:  5.0\n",
      "\tEpoch 179 complete! \tAverage Loss:  4.0\n",
      "\tEpoch 180 complete! \tAverage Loss:  5.0\n",
      "\tEpoch 181 complete! \tAverage Loss:  5.0\n",
      "\tEpoch 182 complete! \tAverage Loss:  4.0\n",
      "\tEpoch 183 complete! \tAverage Loss:  5.0\n",
      "\tEpoch 184 complete! \tAverage Loss:  5.0\n",
      "\tEpoch 185 complete! \tAverage Loss:  5.0\n",
      "\tEpoch 186 complete! \tAverage Loss:  5.0\n",
      "\tEpoch 187 complete! \tAverage Loss:  4.0\n",
      "\tEpoch 188 complete! \tAverage Loss:  5.0\n",
      "\tEpoch 189 complete! \tAverage Loss:  5.0\n",
      "\tEpoch 190 complete! \tAverage Loss:  5.0\n",
      "\tEpoch 191 complete! \tAverage Loss:  5.0\n",
      "\tEpoch 192 complete! \tAverage Loss:  5.0\n",
      "\tEpoch 193 complete! \tAverage Loss:  4.0\n",
      "\tEpoch 194 complete! \tAverage Loss:  5.0\n",
      "\tEpoch 195 complete! \tAverage Loss:  5.0\n",
      "\tEpoch 196 complete! \tAverage Loss:  5.0\n",
      "\tEpoch 197 complete! \tAverage Loss:  5.0\n",
      "\tEpoch 198 complete! \tAverage Loss:  5.0\n",
      "\tEpoch 199 complete! \tAverage Loss:  5.0\n",
      "\tEpoch 200 complete! \tAverage Loss:  5.0\n",
      "\tEpoch 201 complete! \tAverage Loss:  5.0\n",
      "\tEpoch 202 complete! \tAverage Loss:  5.0\n",
      "\tEpoch 203 complete! \tAverage Loss:  4.0\n",
      "\tEpoch 204 complete! \tAverage Loss:  4.0\n",
      "\tEpoch 205 complete! \tAverage Loss:  5.0\n",
      "\tEpoch 206 complete! \tAverage Loss:  5.0\n",
      "\tEpoch 207 complete! \tAverage Loss:  5.0\n",
      "\tEpoch 208 complete! \tAverage Loss:  5.0\n",
      "\tEpoch 209 complete! \tAverage Loss:  5.0\n",
      "\tEpoch 210 complete! \tAverage Loss:  5.0\n",
      "\tEpoch 211 complete! \tAverage Loss:  5.0\n",
      "\tEpoch 212 complete! \tAverage Loss:  5.0\n",
      "\tEpoch 213 complete! \tAverage Loss:  4.0\n",
      "\tEpoch 214 complete! \tAverage Loss:  5.0\n",
      "\tEpoch 215 complete! \tAverage Loss:  5.0\n",
      "\tEpoch 216 complete! \tAverage Loss:  5.0\n",
      "\tEpoch 217 complete! \tAverage Loss:  5.0\n",
      "\tEpoch 218 complete! \tAverage Loss:  5.0\n",
      "\tEpoch 219 complete! \tAverage Loss:  5.0\n",
      "\tEpoch 220 complete! \tAverage Loss:  5.0\n",
      "\tEpoch 221 complete! \tAverage Loss:  5.0\n",
      "\tEpoch 222 complete! \tAverage Loss:  5.0\n",
      "\tEpoch 223 complete! \tAverage Loss:  5.0\n",
      "\tEpoch 224 complete! \tAverage Loss:  5.0\n",
      "\tEpoch 225 complete! \tAverage Loss:  5.0\n",
      "\tEpoch 226 complete! \tAverage Loss:  5.0\n",
      "\tEpoch 227 complete! \tAverage Loss:  5.0\n",
      "\tEpoch 228 complete! \tAverage Loss:  4.0\n",
      "\tEpoch 229 complete! \tAverage Loss:  5.0\n",
      "\tEpoch 230 complete! \tAverage Loss:  5.0\n",
      "\tEpoch 231 complete! \tAverage Loss:  4.0\n",
      "\tEpoch 232 complete! \tAverage Loss:  5.0\n",
      "\tEpoch 233 complete! \tAverage Loss:  5.0\n",
      "\tEpoch 234 complete! \tAverage Loss:  5.0\n",
      "\tEpoch 235 complete! \tAverage Loss:  5.0\n",
      "\tEpoch 236 complete! \tAverage Loss:  5.0\n",
      "\tEpoch 237 complete! \tAverage Loss:  5.0\n",
      "\tEpoch 238 complete! \tAverage Loss:  5.0\n",
      "\tEpoch 239 complete! \tAverage Loss:  5.0\n",
      "\tEpoch 240 complete! \tAverage Loss:  5.0\n",
      "\tEpoch 241 complete! \tAverage Loss:  5.0\n",
      "\tEpoch 242 complete! \tAverage Loss:  5.0\n",
      "\tEpoch 243 complete! \tAverage Loss:  5.0\n",
      "\tEpoch 244 complete! \tAverage Loss:  5.0\n",
      "\tEpoch 245 complete! \tAverage Loss:  5.0\n",
      "\tEpoch 246 complete! \tAverage Loss:  5.0\n",
      "\tEpoch 247 complete! \tAverage Loss:  5.0\n",
      "\tEpoch 248 complete! \tAverage Loss:  5.0\n",
      "\tEpoch 249 complete! \tAverage Loss:  5.0\n",
      "\tEpoch 250 complete! \tAverage Loss:  5.0\n",
      "\tEpoch 251 complete! \tAverage Loss:  5.0\n",
      "\tEpoch 252 complete! \tAverage Loss:  4.0\n",
      "\tEpoch 253 complete! \tAverage Loss:  5.0\n",
      "\tEpoch 254 complete! \tAverage Loss:  5.0\n",
      "\tEpoch 255 complete! \tAverage Loss:  5.0\n",
      "\tEpoch 256 complete! \tAverage Loss:  5.0\n",
      "\tEpoch 257 complete! \tAverage Loss:  4.0\n",
      "\tEpoch 258 complete! \tAverage Loss:  4.0\n",
      "\tEpoch 259 complete! \tAverage Loss:  5.0\n",
      "\tEpoch 260 complete! \tAverage Loss:  5.0\n",
      "\tEpoch 261 complete! \tAverage Loss:  5.0\n",
      "\tEpoch 262 complete! \tAverage Loss:  4.0\n",
      "\tEpoch 263 complete! \tAverage Loss:  5.0\n",
      "\tEpoch 264 complete! \tAverage Loss:  4.0\n",
      "\tEpoch 265 complete! \tAverage Loss:  5.0\n",
      "\tEpoch 266 complete! \tAverage Loss:  5.0\n",
      "\tEpoch 267 complete! \tAverage Loss:  5.0\n",
      "\tEpoch 268 complete! \tAverage Loss:  5.0\n",
      "\tEpoch 269 complete! \tAverage Loss:  4.0\n",
      "\tEpoch 270 complete! \tAverage Loss:  5.0\n",
      "\tEpoch 271 complete! \tAverage Loss:  5.0\n",
      "\tEpoch 272 complete! \tAverage Loss:  5.0\n",
      "\tEpoch 273 complete! \tAverage Loss:  5.0\n",
      "\tEpoch 274 complete! \tAverage Loss:  5.0\n",
      "\tEpoch 275 complete! \tAverage Loss:  5.0\n",
      "\tEpoch 276 complete! \tAverage Loss:  5.0\n",
      "\tEpoch 277 complete! \tAverage Loss:  5.0\n",
      "\tEpoch 278 complete! \tAverage Loss:  5.0\n",
      "\tEpoch 279 complete! \tAverage Loss:  4.0\n",
      "\tEpoch 280 complete! \tAverage Loss:  5.0\n",
      "\tEpoch 281 complete! \tAverage Loss:  4.0\n",
      "\tEpoch 282 complete! \tAverage Loss:  5.0\n",
      "\tEpoch 283 complete! \tAverage Loss:  5.0\n",
      "\tEpoch 284 complete! \tAverage Loss:  5.0\n",
      "\tEpoch 285 complete! \tAverage Loss:  5.0\n",
      "\tEpoch 286 complete! \tAverage Loss:  5.0\n",
      "\tEpoch 287 complete! \tAverage Loss:  4.0\n",
      "\tEpoch 288 complete! \tAverage Loss:  5.0\n",
      "\tEpoch 289 complete! \tAverage Loss:  5.0\n",
      "\tEpoch 290 complete! \tAverage Loss:  5.0\n",
      "\tEpoch 291 complete! \tAverage Loss:  5.0\n",
      "\tEpoch 292 complete! \tAverage Loss:  5.0\n",
      "\tEpoch 293 complete! \tAverage Loss:  5.0\n",
      "\tEpoch 294 complete! \tAverage Loss:  5.0\n",
      "\tEpoch 295 complete! \tAverage Loss:  5.0\n",
      "\tEpoch 296 complete! \tAverage Loss:  5.0\n",
      "\tEpoch 297 complete! \tAverage Loss:  5.0\n",
      "\tEpoch 298 complete! \tAverage Loss:  4.0\n",
      "\tEpoch 299 complete! \tAverage Loss:  4.0\n",
      "\tEpoch 300 complete! \tAverage Loss:  5.0\n",
      "\tEpoch 301 complete! \tAverage Loss:  5.0\n",
      "\tEpoch 302 complete! \tAverage Loss:  4.0\n",
      "\tEpoch 303 complete! \tAverage Loss:  4.0\n",
      "\tEpoch 304 complete! \tAverage Loss:  5.0\n",
      "\tEpoch 305 complete! \tAverage Loss:  5.0\n",
      "\tEpoch 306 complete! \tAverage Loss:  5.0\n",
      "\tEpoch 307 complete! \tAverage Loss:  5.0\n",
      "\tEpoch 308 complete! \tAverage Loss:  5.0\n",
      "\tEpoch 309 complete! \tAverage Loss:  5.0\n",
      "\tEpoch 310 complete! \tAverage Loss:  5.0\n",
      "\tEpoch 311 complete! \tAverage Loss:  5.0\n",
      "\tEpoch 312 complete! \tAverage Loss:  5.0\n",
      "\tEpoch 313 complete! \tAverage Loss:  5.0\n",
      "\tEpoch 314 complete! \tAverage Loss:  5.0\n",
      "\tEpoch 315 complete! \tAverage Loss:  5.0\n",
      "\tEpoch 316 complete! \tAverage Loss:  5.0\n",
      "\tEpoch 317 complete! \tAverage Loss:  4.0\n"
     ]
    },
    {
     "ename": "KeyboardInterrupt",
     "evalue": "",
     "output_type": "error",
     "traceback": [
      "\u001b[0;31m---------------------------------------------------------------------------\u001b[0m",
      "\u001b[0;31mKeyboardInterrupt\u001b[0m                         Traceback (most recent call last)",
      "Input \u001b[0;32mIn [206]\u001b[0m, in \u001b[0;36m<cell line: 4>\u001b[0;34m()\u001b[0m\n\u001b[1;32m     15\u001b[0m     overall_loss \u001b[38;5;241m+\u001b[39m\u001b[38;5;241m=\u001b[39m loss\u001b[38;5;241m.\u001b[39mitem()\n\u001b[1;32m     17\u001b[0m     loss\u001b[38;5;241m.\u001b[39mbackward()\n\u001b[0;32m---> 18\u001b[0m     \u001b[43moptimizer\u001b[49m\u001b[38;5;241;43m.\u001b[39;49m\u001b[43mstep\u001b[49m\u001b[43m(\u001b[49m\u001b[43m)\u001b[49m\n\u001b[1;32m     20\u001b[0m \u001b[38;5;66;03m# print(\"\\tEpoch\", epoch + 1, \"complete!\", \"\\tAverage Loss: \", overall_loss / (batch_idx*batch_size))\u001b[39;00m\n\u001b[1;32m     21\u001b[0m \u001b[38;5;28mprint\u001b[39m(\u001b[38;5;124m\"\u001b[39m\u001b[38;5;130;01m\\t\u001b[39;00m\u001b[38;5;124mEpoch\u001b[39m\u001b[38;5;124m\"\u001b[39m, epoch \u001b[38;5;241m+\u001b[39m \u001b[38;5;241m1\u001b[39m, \u001b[38;5;124m\"\u001b[39m\u001b[38;5;124mcomplete!\u001b[39m\u001b[38;5;124m\"\u001b[39m, \u001b[38;5;124m\"\u001b[39m\u001b[38;5;130;01m\\t\u001b[39;00m\u001b[38;5;124mAverage Loss: \u001b[39m\u001b[38;5;124m\"\u001b[39m, overall_loss )\n",
      "File \u001b[0;32m~/miniconda3/envs/ml-dl/lib/python3.9/site-packages/torch/optim/optimizer.py:109\u001b[0m, in \u001b[0;36mOptimizer._hook_for_profile.<locals>.profile_hook_step.<locals>.wrapper\u001b[0;34m(*args, **kwargs)\u001b[0m\n\u001b[1;32m    107\u001b[0m profile_name \u001b[38;5;241m=\u001b[39m \u001b[38;5;124m\"\u001b[39m\u001b[38;5;124mOptimizer.step#\u001b[39m\u001b[38;5;132;01m{}\u001b[39;00m\u001b[38;5;124m.step\u001b[39m\u001b[38;5;124m\"\u001b[39m\u001b[38;5;241m.\u001b[39mformat(obj\u001b[38;5;241m.\u001b[39m\u001b[38;5;18m__class__\u001b[39m\u001b[38;5;241m.\u001b[39m\u001b[38;5;18m__name__\u001b[39m)\n\u001b[1;32m    108\u001b[0m \u001b[38;5;28;01mwith\u001b[39;00m torch\u001b[38;5;241m.\u001b[39mautograd\u001b[38;5;241m.\u001b[39mprofiler\u001b[38;5;241m.\u001b[39mrecord_function(profile_name):\n\u001b[0;32m--> 109\u001b[0m     \u001b[38;5;28;01mreturn\u001b[39;00m \u001b[43mfunc\u001b[49m\u001b[43m(\u001b[49m\u001b[38;5;241;43m*\u001b[39;49m\u001b[43margs\u001b[49m\u001b[43m,\u001b[49m\u001b[43m \u001b[49m\u001b[38;5;241;43m*\u001b[39;49m\u001b[38;5;241;43m*\u001b[39;49m\u001b[43mkwargs\u001b[49m\u001b[43m)\u001b[49m\n",
      "File \u001b[0;32m~/miniconda3/envs/ml-dl/lib/python3.9/site-packages/torch/autograd/grad_mode.py:27\u001b[0m, in \u001b[0;36m_DecoratorContextManager.__call__.<locals>.decorate_context\u001b[0;34m(*args, **kwargs)\u001b[0m\n\u001b[1;32m     24\u001b[0m \u001b[38;5;129m@functools\u001b[39m\u001b[38;5;241m.\u001b[39mwraps(func)\n\u001b[1;32m     25\u001b[0m \u001b[38;5;28;01mdef\u001b[39;00m \u001b[38;5;21mdecorate_context\u001b[39m(\u001b[38;5;241m*\u001b[39margs, \u001b[38;5;241m*\u001b[39m\u001b[38;5;241m*\u001b[39mkwargs):\n\u001b[1;32m     26\u001b[0m     \u001b[38;5;28;01mwith\u001b[39;00m \u001b[38;5;28mself\u001b[39m\u001b[38;5;241m.\u001b[39mclone():\n\u001b[0;32m---> 27\u001b[0m         \u001b[38;5;28;01mreturn\u001b[39;00m \u001b[43mfunc\u001b[49m\u001b[43m(\u001b[49m\u001b[38;5;241;43m*\u001b[39;49m\u001b[43margs\u001b[49m\u001b[43m,\u001b[49m\u001b[43m \u001b[49m\u001b[38;5;241;43m*\u001b[39;49m\u001b[38;5;241;43m*\u001b[39;49m\u001b[43mkwargs\u001b[49m\u001b[43m)\u001b[49m\n",
      "File \u001b[0;32m~/miniconda3/envs/ml-dl/lib/python3.9/site-packages/torch/optim/adam.py:157\u001b[0m, in \u001b[0;36mAdam.step\u001b[0;34m(self, closure)\u001b[0m\n\u001b[1;32m    153\u001b[0m                 max_exp_avg_sqs\u001b[38;5;241m.\u001b[39mappend(state[\u001b[38;5;124m'\u001b[39m\u001b[38;5;124mmax_exp_avg_sq\u001b[39m\u001b[38;5;124m'\u001b[39m])\n\u001b[1;32m    155\u001b[0m             state_steps\u001b[38;5;241m.\u001b[39mappend(state[\u001b[38;5;124m'\u001b[39m\u001b[38;5;124mstep\u001b[39m\u001b[38;5;124m'\u001b[39m])\n\u001b[0;32m--> 157\u001b[0m     \u001b[43madam\u001b[49m\u001b[43m(\u001b[49m\u001b[43mparams_with_grad\u001b[49m\u001b[43m,\u001b[49m\n\u001b[1;32m    158\u001b[0m \u001b[43m         \u001b[49m\u001b[43mgrads\u001b[49m\u001b[43m,\u001b[49m\n\u001b[1;32m    159\u001b[0m \u001b[43m         \u001b[49m\u001b[43mexp_avgs\u001b[49m\u001b[43m,\u001b[49m\n\u001b[1;32m    160\u001b[0m \u001b[43m         \u001b[49m\u001b[43mexp_avg_sqs\u001b[49m\u001b[43m,\u001b[49m\n\u001b[1;32m    161\u001b[0m \u001b[43m         \u001b[49m\u001b[43mmax_exp_avg_sqs\u001b[49m\u001b[43m,\u001b[49m\n\u001b[1;32m    162\u001b[0m \u001b[43m         \u001b[49m\u001b[43mstate_steps\u001b[49m\u001b[43m,\u001b[49m\n\u001b[1;32m    163\u001b[0m \u001b[43m         \u001b[49m\u001b[43mamsgrad\u001b[49m\u001b[38;5;241;43m=\u001b[39;49m\u001b[43mgroup\u001b[49m\u001b[43m[\u001b[49m\u001b[38;5;124;43m'\u001b[39;49m\u001b[38;5;124;43mamsgrad\u001b[39;49m\u001b[38;5;124;43m'\u001b[39;49m\u001b[43m]\u001b[49m\u001b[43m,\u001b[49m\n\u001b[1;32m    164\u001b[0m \u001b[43m         \u001b[49m\u001b[43mbeta1\u001b[49m\u001b[38;5;241;43m=\u001b[39;49m\u001b[43mbeta1\u001b[49m\u001b[43m,\u001b[49m\n\u001b[1;32m    165\u001b[0m \u001b[43m         \u001b[49m\u001b[43mbeta2\u001b[49m\u001b[38;5;241;43m=\u001b[39;49m\u001b[43mbeta2\u001b[49m\u001b[43m,\u001b[49m\n\u001b[1;32m    166\u001b[0m \u001b[43m         \u001b[49m\u001b[43mlr\u001b[49m\u001b[38;5;241;43m=\u001b[39;49m\u001b[43mgroup\u001b[49m\u001b[43m[\u001b[49m\u001b[38;5;124;43m'\u001b[39;49m\u001b[38;5;124;43mlr\u001b[39;49m\u001b[38;5;124;43m'\u001b[39;49m\u001b[43m]\u001b[49m\u001b[43m,\u001b[49m\n\u001b[1;32m    167\u001b[0m \u001b[43m         \u001b[49m\u001b[43mweight_decay\u001b[49m\u001b[38;5;241;43m=\u001b[39;49m\u001b[43mgroup\u001b[49m\u001b[43m[\u001b[49m\u001b[38;5;124;43m'\u001b[39;49m\u001b[38;5;124;43mweight_decay\u001b[39;49m\u001b[38;5;124;43m'\u001b[39;49m\u001b[43m]\u001b[49m\u001b[43m,\u001b[49m\n\u001b[1;32m    168\u001b[0m \u001b[43m         \u001b[49m\u001b[43meps\u001b[49m\u001b[38;5;241;43m=\u001b[39;49m\u001b[43mgroup\u001b[49m\u001b[43m[\u001b[49m\u001b[38;5;124;43m'\u001b[39;49m\u001b[38;5;124;43meps\u001b[39;49m\u001b[38;5;124;43m'\u001b[39;49m\u001b[43m]\u001b[49m\u001b[43m,\u001b[49m\n\u001b[1;32m    169\u001b[0m \u001b[43m         \u001b[49m\u001b[43mmaximize\u001b[49m\u001b[38;5;241;43m=\u001b[39;49m\u001b[43mgroup\u001b[49m\u001b[43m[\u001b[49m\u001b[38;5;124;43m'\u001b[39;49m\u001b[38;5;124;43mmaximize\u001b[39;49m\u001b[38;5;124;43m'\u001b[39;49m\u001b[43m]\u001b[49m\u001b[43m,\u001b[49m\n\u001b[1;32m    170\u001b[0m \u001b[43m         \u001b[49m\u001b[43mforeach\u001b[49m\u001b[38;5;241;43m=\u001b[39;49m\u001b[43mgroup\u001b[49m\u001b[43m[\u001b[49m\u001b[38;5;124;43m'\u001b[39;49m\u001b[38;5;124;43mforeach\u001b[39;49m\u001b[38;5;124;43m'\u001b[39;49m\u001b[43m]\u001b[49m\u001b[43m,\u001b[49m\n\u001b[1;32m    171\u001b[0m \u001b[43m         \u001b[49m\u001b[43mcapturable\u001b[49m\u001b[38;5;241;43m=\u001b[39;49m\u001b[43mgroup\u001b[49m\u001b[43m[\u001b[49m\u001b[38;5;124;43m'\u001b[39;49m\u001b[38;5;124;43mcapturable\u001b[39;49m\u001b[38;5;124;43m'\u001b[39;49m\u001b[43m]\u001b[49m\u001b[43m)\u001b[49m\n\u001b[1;32m    173\u001b[0m \u001b[38;5;28;01mreturn\u001b[39;00m loss\n",
      "File \u001b[0;32m~/miniconda3/envs/ml-dl/lib/python3.9/site-packages/torch/optim/adam.py:213\u001b[0m, in \u001b[0;36madam\u001b[0;34m(params, grads, exp_avgs, exp_avg_sqs, max_exp_avg_sqs, state_steps, foreach, capturable, amsgrad, beta1, beta2, lr, weight_decay, eps, maximize)\u001b[0m\n\u001b[1;32m    210\u001b[0m \u001b[38;5;28;01melse\u001b[39;00m:\n\u001b[1;32m    211\u001b[0m     func \u001b[38;5;241m=\u001b[39m _single_tensor_adam\n\u001b[0;32m--> 213\u001b[0m \u001b[43mfunc\u001b[49m\u001b[43m(\u001b[49m\u001b[43mparams\u001b[49m\u001b[43m,\u001b[49m\n\u001b[1;32m    214\u001b[0m \u001b[43m     \u001b[49m\u001b[43mgrads\u001b[49m\u001b[43m,\u001b[49m\n\u001b[1;32m    215\u001b[0m \u001b[43m     \u001b[49m\u001b[43mexp_avgs\u001b[49m\u001b[43m,\u001b[49m\n\u001b[1;32m    216\u001b[0m \u001b[43m     \u001b[49m\u001b[43mexp_avg_sqs\u001b[49m\u001b[43m,\u001b[49m\n\u001b[1;32m    217\u001b[0m \u001b[43m     \u001b[49m\u001b[43mmax_exp_avg_sqs\u001b[49m\u001b[43m,\u001b[49m\n\u001b[1;32m    218\u001b[0m \u001b[43m     \u001b[49m\u001b[43mstate_steps\u001b[49m\u001b[43m,\u001b[49m\n\u001b[1;32m    219\u001b[0m \u001b[43m     \u001b[49m\u001b[43mamsgrad\u001b[49m\u001b[38;5;241;43m=\u001b[39;49m\u001b[43mamsgrad\u001b[49m\u001b[43m,\u001b[49m\n\u001b[1;32m    220\u001b[0m \u001b[43m     \u001b[49m\u001b[43mbeta1\u001b[49m\u001b[38;5;241;43m=\u001b[39;49m\u001b[43mbeta1\u001b[49m\u001b[43m,\u001b[49m\n\u001b[1;32m    221\u001b[0m \u001b[43m     \u001b[49m\u001b[43mbeta2\u001b[49m\u001b[38;5;241;43m=\u001b[39;49m\u001b[43mbeta2\u001b[49m\u001b[43m,\u001b[49m\n\u001b[1;32m    222\u001b[0m \u001b[43m     \u001b[49m\u001b[43mlr\u001b[49m\u001b[38;5;241;43m=\u001b[39;49m\u001b[43mlr\u001b[49m\u001b[43m,\u001b[49m\n\u001b[1;32m    223\u001b[0m \u001b[43m     \u001b[49m\u001b[43mweight_decay\u001b[49m\u001b[38;5;241;43m=\u001b[39;49m\u001b[43mweight_decay\u001b[49m\u001b[43m,\u001b[49m\n\u001b[1;32m    224\u001b[0m \u001b[43m     \u001b[49m\u001b[43meps\u001b[49m\u001b[38;5;241;43m=\u001b[39;49m\u001b[43meps\u001b[49m\u001b[43m,\u001b[49m\n\u001b[1;32m    225\u001b[0m \u001b[43m     \u001b[49m\u001b[43mmaximize\u001b[49m\u001b[38;5;241;43m=\u001b[39;49m\u001b[43mmaximize\u001b[49m\u001b[43m,\u001b[49m\n\u001b[1;32m    226\u001b[0m \u001b[43m     \u001b[49m\u001b[43mcapturable\u001b[49m\u001b[38;5;241;43m=\u001b[39;49m\u001b[43mcapturable\u001b[49m\u001b[43m)\u001b[49m\n",
      "File \u001b[0;32m~/miniconda3/envs/ml-dl/lib/python3.9/site-packages/torch/optim/adam.py:264\u001b[0m, in \u001b[0;36m_single_tensor_adam\u001b[0;34m(params, grads, exp_avgs, exp_avg_sqs, max_exp_avg_sqs, state_steps, amsgrad, beta1, beta2, lr, weight_decay, eps, maximize, capturable)\u001b[0m\n\u001b[1;32m    261\u001b[0m     grad \u001b[38;5;241m=\u001b[39m grad\u001b[38;5;241m.\u001b[39madd(param, alpha\u001b[38;5;241m=\u001b[39mweight_decay)\n\u001b[1;32m    263\u001b[0m \u001b[38;5;66;03m# Decay the first and second moment running average coefficient\u001b[39;00m\n\u001b[0;32m--> 264\u001b[0m \u001b[43mexp_avg\u001b[49m\u001b[38;5;241;43m.\u001b[39;49m\u001b[43mmul_\u001b[49m\u001b[43m(\u001b[49m\u001b[43mbeta1\u001b[49m\u001b[43m)\u001b[49m\u001b[38;5;241;43m.\u001b[39;49m\u001b[43madd_\u001b[49m\u001b[43m(\u001b[49m\u001b[43mgrad\u001b[49m\u001b[43m,\u001b[49m\u001b[43m \u001b[49m\u001b[43malpha\u001b[49m\u001b[38;5;241;43m=\u001b[39;49m\u001b[38;5;241;43m1\u001b[39;49m\u001b[43m \u001b[49m\u001b[38;5;241;43m-\u001b[39;49m\u001b[43m \u001b[49m\u001b[43mbeta1\u001b[49m\u001b[43m)\u001b[49m\n\u001b[1;32m    265\u001b[0m exp_avg_sq\u001b[38;5;241m.\u001b[39mmul_(beta2)\u001b[38;5;241m.\u001b[39maddcmul_(grad, grad\u001b[38;5;241m.\u001b[39mconj(), value\u001b[38;5;241m=\u001b[39m\u001b[38;5;241m1\u001b[39m \u001b[38;5;241m-\u001b[39m beta2)\n\u001b[1;32m    267\u001b[0m \u001b[38;5;28;01mif\u001b[39;00m capturable:\n",
      "\u001b[0;31mKeyboardInterrupt\u001b[0m: "
     ]
    }
   ],
   "source": [
    "print(\"Start training VAE...\")\n",
    "model.train()\n",
    "\n",
    "for epoch in range(300):\n",
    "    overall_loss = 0\n",
    "    for batch_idx, (x, _) in enumerate(train_loader):\n",
    "#         x = x.view(batch_size, x_dim)\n",
    "        x = x.to(DEVICE)\n",
    "\n",
    "        optimizer.zero_grad()\n",
    "\n",
    "        x_hat, mean, log_var = model(x.float())\n",
    "        loss = loss_function(x, x_hat, mean, log_var)\n",
    "        \n",
    "        overall_loss += loss.item()\n",
    "        \n",
    "        loss.backward()\n",
    "        optimizer.step()\n",
    "        \n",
    "    # print(\"\\tEpoch\", epoch + 1, \"complete!\", \"\\tAverage Loss: \", overall_loss / (batch_idx*batch_size))\n",
    "    print(\"\\tEpoch\", epoch + 1, \"complete!\", \"\\tAverage Loss: \", overall_loss )\n",
    "    \n",
    "print(\"Finish!!\")\n"
   ]
  },
  {
   "cell_type": "code",
   "execution_count": null,
   "id": "804c9663",
   "metadata": {},
   "outputs": [],
   "source": []
  },
  {
   "cell_type": "code",
   "execution_count": null,
   "id": "c8f0cc03",
   "metadata": {},
   "outputs": [],
   "source": []
  },
  {
   "cell_type": "code",
   "execution_count": 207,
   "id": "c970ad5f",
   "metadata": {},
   "outputs": [],
   "source": [
    "import matplotlib.pyplot as plt\n",
    "import numpy as np"
   ]
  },
  {
   "cell_type": "code",
   "execution_count": 208,
   "id": "ea1ab3d5-5542-4cb1-a8e4-6030c015322b",
   "metadata": {},
   "outputs": [],
   "source": [
    "# var.shape, y.shape, mu.shape"
   ]
  },
  {
   "cell_type": "code",
   "execution_count": 209,
   "id": "2f833186-1bcd-4f7d-bbbf-a2ab07de4efa",
   "metadata": {},
   "outputs": [],
   "source": [
    "# mu"
   ]
  },
  {
   "cell_type": "code",
   "execution_count": 210,
   "id": "ff58be6e",
   "metadata": {},
   "outputs": [],
   "source": [
    "\n",
    "sample_example = 0\n",
    "x = features[sample_example]#.reshape(-1,3).float()\n",
    "y, mu, var = model(x)\n",
    "# y = mu + y*var\n",
    "y = y.reshape(-1,3)"
   ]
  },
  {
   "cell_type": "code",
   "execution_count": 211,
   "id": "7e165e03-a2fc-4480-a22a-c727a28a6d00",
   "metadata": {},
   "outputs": [],
   "source": [
    "# y = features[0].reshape(-1,3)"
   ]
  },
  {
   "cell_type": "code",
   "execution_count": 212,
   "id": "bdcb02f3-7917-4b95-8e39-27f421f4ddc1",
   "metadata": {},
   "outputs": [
    {
     "data": {
      "text/plain": [
       "tensor([nan])"
      ]
     },
     "execution_count": 212,
     "metadata": {},
     "output_type": "execute_result"
    }
   ],
   "source": [
    "(features[:,0] - torch.mean(features[:,0]))/torch.std(features[:,0])"
   ]
  },
  {
   "cell_type": "code",
   "execution_count": 213,
   "id": "a9dd98dd-e153-483d-a947-5399892fc7bd",
   "metadata": {},
   "outputs": [],
   "source": [
    "\n",
    "y[:, 0] = y[:,0]*torch.std(back_features[:,0]) + torch.mean(back_features[:,0])\n",
    "y[:, 1] = y[:,1]*torch.std(back_features[:,1]) + torch.mean(back_features[:,1])\n",
    "y[:, 2] = y[:,2]*torch.std(back_features[:,2]) + torch.mean(back_features[:,2])"
   ]
  },
  {
   "cell_type": "code",
   "execution_count": 214,
   "id": "a38b4c51",
   "metadata": {},
   "outputs": [],
   "source": [
    "# plt.subplot(211)\n",
    "# plt.imshow(x.detach().numpy(), cmap='Greys')\n",
    "# plt.subplot(212)\n",
    "# plt.imshow(y.detach().numpy(), cmap='Greys',  interpolation='nearest')"
   ]
  },
  {
   "cell_type": "code",
   "execution_count": 74,
   "id": "8cea7a20-2d94-49a9-aa8d-060e4613103f",
   "metadata": {},
   "outputs": [],
   "source": [
    "import time"
   ]
  },
  {
   "cell_type": "code",
   "execution_count": 75,
   "id": "31283384",
   "metadata": {},
   "outputs": [],
   "source": [
    "output_file = 'point_cloud_'+time.strftime(\"%Y%m%d-%H%M%S\")+'.xyz'\n",
    "np.savetxt(output_file, ver, delimiter=' ')\n"
   ]
  },
  {
   "cell_type": "code",
   "execution_count": 215,
   "id": "9d3938b9-b927-4889-adc5-128d2a072b77",
   "metadata": {},
   "outputs": [],
   "source": [
    "output_file = 'point_cloud_'+time.strftime(\"%Y%m%d-%H%M%S\")+'.xyz'\n",
    "np.savetxt(output_file, (y).detach().numpy(), delimiter=' ')"
   ]
  },
  {
   "cell_type": "markdown",
   "id": "bfc24cd6",
   "metadata": {},
   "source": [
    "# Generate new samples"
   ]
  },
  {
   "cell_type": "code",
   "execution_count": null,
   "id": "fe5bc420",
   "metadata": {},
   "outputs": [],
   "source": [
    "# now taking decoder we can produce new data samples"
   ]
  },
  {
   "cell_type": "code",
   "execution_count": 218,
   "id": "75a682ae-afda-4b48-acd9-60d824859057",
   "metadata": {},
   "outputs": [
    {
     "data": {
      "text/plain": [
       "40"
      ]
     },
     "execution_count": 218,
     "metadata": {},
     "output_type": "execute_result"
    }
   ],
   "source": [
    "batch_size"
   ]
  },
  {
   "cell_type": "code",
   "execution_count": 216,
   "id": "9eb77db9",
   "metadata": {},
   "outputs": [],
   "source": [
    "with torch.no_grad():\n",
    "    noise = torch.randn(batch_size, latent_dim).to(DEVICE)\n",
    "    generated_sample = decoder(noise)"
   ]
  },
  {
   "cell_type": "code",
   "execution_count": 217,
   "id": "f0eb9e67",
   "metadata": {},
   "outputs": [],
   "source": [
    "output_file = 'point_cloud_'+time.strftime(\"%Y%m%d-%H%M%S\")+'.xyz'\n",
    "np.savetxt(output_file, generated_sample.detach().numpy(), delimiter=' ')"
   ]
  },
  {
   "cell_type": "code",
   "execution_count": 83,
   "id": "230c892f",
   "metadata": {},
   "outputs": [
    {
     "data": {
      "text/plain": [
       "tensor([[0.4630, 0.5272, 0.4812,  ..., 0.4385, 0.4814, 0.4794],\n",
       "        [0.4845, 0.4994, 0.4819,  ..., 0.4960, 0.4870, 0.4888],\n",
       "        [0.4712, 0.5101, 0.5047,  ..., 0.4731, 0.4745, 0.4598],\n",
       "        ...,\n",
       "        [0.5064, 0.5310, 0.4811,  ..., 0.5183, 0.4504, 0.3963],\n",
       "        [0.4912, 0.5714, 0.4627,  ..., 0.4268, 0.3851, 0.4603],\n",
       "        [0.4584, 0.4842, 0.4602,  ..., 0.4917, 0.4606, 0.5198]])"
      ]
     },
     "execution_count": 83,
     "metadata": {},
     "output_type": "execute_result"
    }
   ],
   "source": [
    "generated_sample"
   ]
  },
  {
   "cell_type": "code",
   "execution_count": 79,
   "id": "742d111a",
   "metadata": {},
   "outputs": [
    {
     "data": {
      "text/plain": [
       "torch.Size([37500])"
      ]
     },
     "execution_count": 79,
     "metadata": {},
     "output_type": "execute_result"
    }
   ],
   "source": [
    "generated_sample[0].shape"
   ]
  },
  {
   "cell_type": "code",
   "execution_count": null,
   "id": "8120c328",
   "metadata": {},
   "outputs": [],
   "source": []
  },
  {
   "cell_type": "code",
   "execution_count": 80,
   "id": "9a93a88a",
   "metadata": {},
   "outputs": [
    {
     "data": {
      "text/plain": [
       "<matplotlib.image.AxesImage at 0x7f19d023ee80>"
      ]
     },
     "execution_count": 80,
     "metadata": {},
     "output_type": "execute_result"
    },
    {
     "data": {
      "image/png": "[encoded data removed]",
      "text/plain": [
       "<Figure size 432x288 with 1 Axes>"
      ]
     },
     "metadata": {
      "needs_background": "light"
     },
     "output_type": "display_data"
    }
   ],
   "source": [
    "plt.subplot(212)\n",
    "y = generated_sample[17].reshape(-1,3).float()\n",
    "plt.imshow(y.detach().numpy(), cmap='Greys',  interpolation='nearest')"
   ]
  },
  {
   "cell_type": "code",
   "execution_count": null,
   "id": "f2756b22",
   "metadata": {},
   "outputs": [],
   "source": []
  },
  {
   "cell_type": "code",
   "execution_count": null,
   "id": "3ce86a97",
   "metadata": {},
   "outputs": [],
   "source": [
    "plt.figure(figsize=(15, 12))\n",
    "plt.subplots_adjust(hspace=0.2)\n",
    "plt.suptitle(\"Daily closing prices\", fontsize=18, y=0.95)\n",
    "\n",
    "# set number of columns (use 3 to demonstrate the change)\n",
    "ncols =5\n",
    "# calculate number of rows\n",
    "nrows =batch_size//ncols\n",
    "for idx, sample in enumerate (generated_sample):\n",
    "\n",
    "    ax = plt.subplot(nrows, ncols, idx + 1)\n",
    "    y = sample.reshape(box_siz//2 *2,box_siz//2 *2).float()\n",
    "\n",
    "    plt.imshow(y.detach().numpy(), cmap='Greys',  interpolation='nearest')\n"
   ]
  },
  {
   "cell_type": "code",
   "execution_count": null,
   "id": "adf859f4",
   "metadata": {},
   "outputs": [],
   "source": []
  },
  {
   "cell_type": "markdown",
   "id": "aecfee85",
   "metadata": {},
   "source": [
    "# comment"
   ]
  },
  {
   "cell_type": "code",
   "execution_count": null,
   "id": "f839cebb",
   "metadata": {},
   "outputs": [],
   "source": [
    "#  Based on what the programmer said in: \n",
    "#     https://github.com/Jackson-Kang/Pytorch-VAE-tutorial/blob/master/01_Variational_AutoEncoder.ipynb"
   ]
  },
  {
   "cell_type": "markdown",
   "id": "9c73d72e",
   "metadata": {},
   "source": [
    "\n",
    "\n",
    "Please note that this is not the correct generative process.\n",
    "\n",
    "    Even if we don't know exact p(z|x), we can generate images from noise, since the loss function of training VAE regulates the q(z|x) (simple and tractable posteriors) must close enough to N(0, I). If q(z|x) is close to N(0, I) \"enough\"(but not tightly close due to posterior collapse problem), N(0, I) may replace the encoder of VAE.\n",
    "\n",
    "    To show this, I just tested with a noise vector sampled from N(0, I) similar with Generative Adversarial Network.\n",
    "\n"
   ]
  },
  {
   "cell_type": "code",
   "execution_count": null,
   "id": "1c4f85f2",
   "metadata": {},
   "outputs": [],
   "source": []
  }
 ],
 "metadata": {
  "kernelspec": {
   "display_name": "Python 3",
   "language": "python",
   "name": "python3"
  },
  "language_info": {
   "codemirror_mode": {
    "name": "ipython",
    "version": 3
   },
   "file_extension": ".py",
   "mimetype": "text/x-python",
   "name": "python",
   "nbconvert_exporter": "python",
   "pygments_lexer": "ipython3",
   "version": "3.9.12"
  }
 },
 "nbformat": 4,
 "nbformat_minor": 5
}
