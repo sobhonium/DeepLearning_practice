{
 "cells": [
  {
   "cell_type": "code",
   "execution_count": null,
   "id": "b84c8d81-71b0-4a02-9cf6-f0aedc6c1938",
   "metadata": {},
   "outputs": [],
   "source": []
  },
  {
   "cell_type": "code",
   "execution_count": 2,
   "id": "d43a9014-ccf7-43fa-9700-348e75c4fd21",
   "metadata": {},
   "outputs": [],
   "source": [
    "import torch"
   ]
  },
  {
   "cell_type": "code",
   "execution_count": 3,
   "id": "505ce8b3-bed9-4da9-95e0-74b706300533",
   "metadata": {},
   "outputs": [],
   "source": [
    "from torch import nn"
   ]
  },
  {
   "cell_type": "code",
   "execution_count": null,
   "id": "521bf909-0ba3-44ec-9aae-f3bad91c7c9c",
   "metadata": {},
   "outputs": [],
   "source": []
  },
  {
   "cell_type": "code",
   "execution_count": 31,
   "id": "1e325850-cc57-4a9c-9530-32723969bf17",
   "metadata": {},
   "outputs": [],
   "source": [
    "inp = torch.rand((1, 1,  80,80))"
   ]
  },
  {
   "cell_type": "code",
   "execution_count": 32,
   "id": "39e8206c-1590-443a-bfde-0c935bec404e",
   "metadata": {},
   "outputs": [
    {
     "data": {
      "text/plain": [
       "torch.Size([1, 1, 80, 80])"
      ]
     },
     "execution_count": 32,
     "metadata": {},
     "output_type": "execute_result"
    }
   ],
   "source": [
    "inp.shape"
   ]
  },
  {
   "cell_type": "code",
   "execution_count": 44,
   "id": "189dd1c0-71cc-410e-bc6a-c5ac9c3203c7",
   "metadata": {},
   "outputs": [],
   "source": [
    "conv2d = nn.Sequential(\n",
    "                        nn.Conv2d(in_channels=1, out_channels=1, \n",
    "                                  dilation=2, \n",
    "                                  kernel_size=(1,1), \n",
    "                                  padding=0, \n",
    "                                  padding_mode='circular' )\n",
    "    )"
   ]
  },
  {
   "cell_type": "code",
   "execution_count": 45,
   "id": "c3af6a4d-918e-49d4-bcb9-ccc8e53fec29",
   "metadata": {},
   "outputs": [
    {
     "data": {
      "text/plain": [
       "torch.Size([1, 1, 80, 80])"
      ]
     },
     "execution_count": 45,
     "metadata": {},
     "output_type": "execute_result"
    }
   ],
   "source": [
    "conv2d(inp).shape"
   ]
  },
  {
   "cell_type": "code",
   "execution_count": 10,
   "id": "d991c3fa-ed63-476c-9bc1-b9862f49aa20",
   "metadata": {},
   "outputs": [
    {
     "data": {
      "text/plain": [
       "tensor([[[[-0.2409, -0.1985, -0.2849, -0.3101, -0.1943, -0.2154, -0.1756,\n",
       "           -0.3998],\n",
       "          [-0.1949, -0.2045, -0.1917, -0.2363, -0.2956, -0.0244, -0.2859,\n",
       "           -0.4407],\n",
       "          [-0.1327, -0.2820, -0.0847, -0.3180, -0.1149,  0.0530, -0.4420,\n",
       "           -0.2977],\n",
       "          [-0.3710, -0.3298, -0.1268, -0.4764, -0.1392, -0.0875, -0.6154,\n",
       "           -0.3324],\n",
       "          [-0.1424, -0.1553, -0.0971, -0.0505,  0.1582, -0.3146, -0.3889,\n",
       "            0.0186],\n",
       "          [-0.3148, -0.2503, -0.2263, -0.1499, -0.0861, -0.3181, -0.1216,\n",
       "           -0.1283],\n",
       "          [-0.3469,  0.0033, -0.0277, -0.2676, -0.4867, -0.3218, -0.2261,\n",
       "           -0.0488],\n",
       "          [-0.1188, -0.4074, -0.1821, -0.0679, -0.2864, -0.3824, -0.2885,\n",
       "            0.0307]]]], grad_fn=<ConvolutionBackward0>)"
      ]
     },
     "execution_count": 10,
     "metadata": {},
     "output_type": "execute_result"
    }
   ],
   "source": [
    "conv2d(inp)"
   ]
  },
  {
   "cell_type": "code",
   "execution_count": 11,
   "id": "52f1a369-e6b2-4884-a35e-41e6d6cf2c77",
   "metadata": {},
   "outputs": [
    {
     "data": {
      "text/plain": [
       "OrderedDict([('0.weight',\n",
       "              tensor([[[[-0.1445, -0.2179,  0.1840],\n",
       "                        [-0.2276, -0.2232,  0.0671],\n",
       "                        [-0.0224,  0.2343,  0.0852]]]])),\n",
       "             ('0.bias', tensor([-0.0826]))])"
      ]
     },
     "execution_count": 11,
     "metadata": {},
     "output_type": "execute_result"
    }
   ],
   "source": [
    "conv2d.state_dict()"
   ]
  },
  {
   "cell_type": "code",
   "execution_count": 12,
   "id": "0c48f418-8735-451d-b7d5-c6c4dc2a2cbe",
   "metadata": {},
   "outputs": [
    {
     "data": {
      "text/plain": [
       "tensor([[[[0.6067, 0.2387, 0.4413, 0.9285, 0.3685, 0.4486, 0.8073, 0.8457],\n",
       "          [0.2939, 0.5545, 0.6257, 0.3026, 0.4153, 0.6262, 0.9853, 0.3456],\n",
       "          [0.7584, 0.4015, 0.0971, 0.9699, 0.0205, 0.6516, 0.9001, 0.2926],\n",
       "          [0.7012, 0.2191, 0.8090, 0.2604, 0.4581, 0.7856, 0.7845, 0.5365],\n",
       "          [0.3655, 0.3079, 0.2622, 0.1760, 0.0478, 0.8183, 0.1283, 0.1174],\n",
       "          [0.9791, 0.0372, 0.8825, 0.6632, 0.9589, 0.2325, 0.1535, 0.6547],\n",
       "          [0.6112, 0.3572, 0.0700, 0.9180, 0.8368, 0.6555, 0.6007, 0.0340],\n",
       "          [0.3501, 0.9913, 0.7388, 0.1774, 0.5910, 0.8827, 0.2909, 0.4205]]]])"
      ]
     },
     "execution_count": 12,
     "metadata": {},
     "output_type": "execute_result"
    }
   ],
   "source": [
    "inp"
   ]
  },
  {
   "cell_type": "code",
   "execution_count": 93,
   "id": "b792e245-4f43-4cf1-afce-350879c4f943",
   "metadata": {},
   "outputs": [],
   "source": [
    "a = torch.tensor(\n",
    "[[0.1665, 0.1890, 0.8938], \n",
    " [0.9934, 0.4527, 0.8370], \n",
    " [0.7402, 0.5755, 0.1095]]\n",
    ")"
   ]
  },
  {
   "cell_type": "code",
   "execution_count": 94,
   "id": "618575ba-c49d-4dd6-bbbb-c49b5a04a1cb",
   "metadata": {},
   "outputs": [],
   "source": [
    "w = torch.tensor(\n",
    "    [[-0.1011, -0.1651,  0.0065],\n",
    "                        [ 0.2536,  0.0363, -0.1115],\n",
    "                        [ 0.1152,  0.0192,  0.0655]]\n",
    ")"
   ]
  },
  {
   "cell_type": "code",
   "execution_count": 95,
   "id": "c4513c02-fa54-4717-9339-987e8a12d375",
   "metadata": {},
   "outputs": [
    {
     "data": {
      "text/plain": [
       "tensor(0.3199)"
      ]
     },
     "execution_count": 95,
     "metadata": {},
     "output_type": "execute_result"
    }
   ],
   "source": [
    "torch.sum(a*w)+0.0836"
   ]
  },
  {
   "cell_type": "code",
   "execution_count": null,
   "id": "fc263608-8d69-4c86-9ec2-1e1a68e73c75",
   "metadata": {},
   "outputs": [],
   "source": []
  }
 ],
 "metadata": {
  "kernelspec": {
   "display_name": "Python 3",
   "language": "python",
   "name": "python3"
  },
  "language_info": {
   "codemirror_mode": {
    "name": "ipython",
    "version": 3
   },
   "file_extension": ".py",
   "mimetype": "text/x-python",
   "name": "python",
   "nbconvert_exporter": "python",
   "pygments_lexer": "ipython3",
   "version": "3.9.12"
  }
 },
 "nbformat": 4,
 "nbformat_minor": 5
}
