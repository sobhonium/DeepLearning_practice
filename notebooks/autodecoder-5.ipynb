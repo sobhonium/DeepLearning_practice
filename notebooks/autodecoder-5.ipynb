{
 "cells": [
  {
   "cell_type": "code",
   "execution_count": 1,
   "id": "cf109f6b",
   "metadata": {},
   "outputs": [],
   "source": [
    "# Feb 2023 - freezed\n",
    "# using shapes.py for shapes in seperate python file\n",
    "# optimizing code \n",
    "# conv 3*3 in changed to conv 4*4\n",
    "#"
   ]
  },
  {
   "cell_type": "code",
   "execution_count": null,
   "id": "fe66759c",
   "metadata": {},
   "outputs": [],
   "source": []
  },
  {
   "cell_type": "code",
   "execution_count": 2,
   "id": "d5c35241",
   "metadata": {},
   "outputs": [
    {
     "name": "stderr",
     "output_type": "stream",
     "text": [
      "/home/sobhan/miniconda3/envs/ml-dl/lib/python3.9/site-packages/torch/cuda/__init__.py:83: UserWarning: CUDA initialization: The NVIDIA driver on your system is too old (found version 9010). Please update your GPU driver by downloading and installing a new version from the URL: http://www.nvidia.com/Download/index.aspx Alternatively, go to: https://pytorch.org to install a PyTorch version that has been compiled with your version of the CUDA driver. (Triggered internally at  ../c10/cuda/CUDAFunctions.cpp:109.)\n",
      "  return torch._C._cuda_getDeviceCount() > 0\n"
     ]
    }
   ],
   "source": [
    "import torch\n",
    "import torch.nn as nn\n",
    "import torch.nn.functional as F\n",
    "from torch.utils.data import DataLoader\n",
    "import numpy as np\n",
    "import matplotlib.pyplot as plt\n"
   ]
  },
  {
   "cell_type": "code",
   "execution_count": null,
   "id": "fa7c8d83-8a15-4974-aa5e-102196cb239c",
   "metadata": {},
   "outputs": [],
   "source": []
  },
  {
   "cell_type": "code",
   "execution_count": 3,
   "id": "0beb8e80-e9ba-444e-affd-466e5f3349a1",
   "metadata": {},
   "outputs": [],
   "source": [
    "from shapes import *"
   ]
  },
  {
   "cell_type": "code",
   "execution_count": 4,
   "id": "9ff7877e-a8d2-4c79-bc62-46dfabf5abc3",
   "metadata": {},
   "outputs": [
    {
     "data": {
      "text/plain": [
       "array([[[0., 0., 0., 0., 0., 0., 0., 0.],\n",
       "        [0., 0., 0., 0., 0., 0., 0., 0.],\n",
       "        [0., 0., 0., 0., 0., 0., 0., 0.],\n",
       "        [1., 1., 1., 1., 1., 1., 1., 1.],\n",
       "        [1., 1., 1., 1., 1., 1., 1., 1.],\n",
       "        [0., 0., 0., 0., 0., 0., 0., 0.],\n",
       "        [0., 0., 0., 0., 0., 0., 0., 0.],\n",
       "        [0., 0., 0., 0., 0., 0., 0., 0.]]])"
      ]
     },
     "execution_count": 4,
     "metadata": {},
     "output_type": "execute_result"
    }
   ],
   "source": [
    "Line(line_position=4, box_size=9).get_image()"
   ]
  },
  {
   "cell_type": "markdown",
   "id": "69596c32-db03-4b29-b607-d1ae874c2eb0",
   "metadata": {},
   "source": [
    "# Visualization of exmaples"
   ]
  },
  {
   "cell_type": "code",
   "execution_count": null,
   "id": "84532393-f4bc-42e0-82b9-b251c942fdff",
   "metadata": {},
   "outputs": [],
   "source": []
  },
  {
   "cell_type": "code",
   "execution_count": 5,
   "id": "22a72278",
   "metadata": {},
   "outputs": [],
   "source": [
    "def visualize(inp):\n",
    "    plt.figure(figsize=(15, 12))\n",
    "    plt.subplots_adjust(hspace=0.2)\n",
    "    plt.suptitle(\"sample visualization\", fontsize=18, y=0.95)\n",
    "    plt.subplots_adjust(left=0.1,\n",
    "                        bottom=0.3,\n",
    "                        right=0.9,\n",
    "                        top=1.39,\n",
    "                        wspace=0.4,\n",
    "                        hspace=0.17)\n",
    "\n",
    "    ncols = inp.shape[0]\n",
    "    nrows =1\n",
    "    for idx, inpu in  enumerate(inp):\n",
    "        ax = plt.subplot(nrows, ncols, idx + 1)\n",
    "        ax.title.set_text('input= '+str(idx))\n",
    "        plt.imshow(inpu, cmap='Greys',  interpolation='nearest')\n"
   ]
  },
  {
   "cell_type": "code",
   "execution_count": 6,
   "id": "22f1fe44-fe13-4448-9b2b-9e82aefe0694",
   "metadata": {},
   "outputs": [
    {
     "data": {
      "image/png": "[encoded data removed]",
      "text/plain": [
       "<Figure size 1080x864 with 8 Axes>"
      ]
     },
     "metadata": {
      "needs_background": "light"
     },
     "output_type": "display_data"
    },
    {
     "data": {
      "image/png": "[encoded data removed]",
      "text/plain": [
       "<Figure size 1080x864 with 8 Axes>"
      ]
     },
     "metadata": {
      "needs_background": "light"
     },
     "output_type": "display_data"
    }
   ],
   "source": [
    "box_size=8\n",
    "idx = range(box_size)\n",
    "out1 = Line(line_position=idx, box_size=box_size, line_ori='x').get_image()\n",
    "out2 = Line(line_position=idx, box_size=box_size, line_ori='y').get_image()\n",
    "\n",
    "visualize(out1)\n",
    "visualize(out2)"
   ]
  },
  {
   "cell_type": "code",
   "execution_count": null,
   "id": "aa94b7d6-e68e-419c-9647-cf7968fc1f01",
   "metadata": {},
   "outputs": [],
   "source": []
  },
  {
   "cell_type": "code",
   "execution_count": null,
   "id": "6890d07a-3f59-43c1-9981-b1a0eb3179c1",
   "metadata": {},
   "outputs": [],
   "source": []
  },
  {
   "cell_type": "code",
   "execution_count": null,
   "id": "860443bd-f337-40d1-a23f-8a19884b679f",
   "metadata": {},
   "outputs": [],
   "source": []
  },
  {
   "cell_type": "code",
   "execution_count": 7,
   "id": "1d0aa750",
   "metadata": {},
   "outputs": [],
   "source": [
    "box_siz = 16 # preferably of order 2\n",
    "num_samples = 1024 # preferably of order 2\n",
    "half_box_siz = box_siz//2\n",
    "box_siz = half_box_siz * 2 # updating box size (now it is not an odd number)"
   ]
  },
  {
   "cell_type": "code",
   "execution_count": 8,
   "id": "c967d7b8",
   "metadata": {},
   "outputs": [],
   "source": [
    "def func(num, divider):\n",
    "    return num//divider + 1\n",
    "l1 =  np.arange(num_samples//2)\n",
    "l2 =  np.arange(num_samples//2)"
   ]
  },
  {
   "cell_type": "code",
   "execution_count": null,
   "id": "82ee7a1c-84f7-46e9-8c4b-1c4a8402a7b9",
   "metadata": {},
   "outputs": [],
   "source": []
  },
  {
   "cell_type": "code",
   "execution_count": 9,
   "id": "1d1719c9-17df-49fa-b4f8-fd3b5add0edf",
   "metadata": {},
   "outputs": [
    {
     "data": {
      "text/plain": [
       "array([  0,   1,   2,   3,   4,   5,   6,   7,   8,   9,  10,  11,  12,\n",
       "        13,  14,  15,  16,  17,  18,  19,  20,  21,  22,  23,  24,  25,\n",
       "        26,  27,  28,  29,  30,  31,  32,  33,  34,  35,  36,  37,  38,\n",
       "        39,  40,  41,  42,  43,  44,  45,  46,  47,  48,  49,  50,  51,\n",
       "        52,  53,  54,  55,  56,  57,  58,  59,  60,  61,  62,  63,  64,\n",
       "        65,  66,  67,  68,  69,  70,  71,  72,  73,  74,  75,  76,  77,\n",
       "        78,  79,  80,  81,  82,  83,  84,  85,  86,  87,  88,  89,  90,\n",
       "        91,  92,  93,  94,  95,  96,  97,  98,  99, 100, 101, 102, 103,\n",
       "       104, 105, 106, 107, 108, 109, 110, 111, 112, 113, 114, 115, 116,\n",
       "       117, 118, 119, 120, 121, 122, 123, 124, 125, 126, 127, 128, 129,\n",
       "       130, 131, 132, 133, 134, 135, 136, 137, 138, 139, 140, 141, 142,\n",
       "       143, 144, 145, 146, 147, 148, 149, 150, 151, 152, 153, 154, 155,\n",
       "       156, 157, 158, 159, 160, 161, 162, 163, 164, 165, 166, 167, 168,\n",
       "       169, 170, 171, 172, 173, 174, 175, 176, 177, 178, 179, 180, 181,\n",
       "       182, 183, 184, 185, 186, 187, 188, 189, 190, 191, 192, 193, 194,\n",
       "       195, 196, 197, 198, 199, 200, 201, 202, 203, 204, 205, 206, 207,\n",
       "       208, 209, 210, 211, 212, 213, 214, 215, 216, 217, 218, 219, 220,\n",
       "       221, 222, 223, 224, 225, 226, 227, 228, 229, 230, 231, 232, 233,\n",
       "       234, 235, 236, 237, 238, 239, 240, 241, 242, 243, 244, 245, 246,\n",
       "       247, 248, 249, 250, 251, 252, 253, 254, 255, 256, 257, 258, 259,\n",
       "       260, 261, 262, 263, 264, 265, 266, 267, 268, 269, 270, 271, 272,\n",
       "       273, 274, 275, 276, 277, 278, 279, 280, 281, 282, 283, 284, 285,\n",
       "       286, 287, 288, 289, 290, 291, 292, 293, 294, 295, 296, 297, 298,\n",
       "       299, 300, 301, 302, 303, 304, 305, 306, 307, 308, 309, 310, 311,\n",
       "       312, 313, 314, 315, 316, 317, 318, 319, 320, 321, 322, 323, 324,\n",
       "       325, 326, 327, 328, 329, 330, 331, 332, 333, 334, 335, 336, 337,\n",
       "       338, 339, 340, 341, 342, 343, 344, 345, 346, 347, 348, 349, 350,\n",
       "       351, 352, 353, 354, 355, 356, 357, 358, 359, 360, 361, 362, 363,\n",
       "       364, 365, 366, 367, 368, 369, 370, 371, 372, 373, 374, 375, 376,\n",
       "       377, 378, 379, 380, 381, 382, 383, 384, 385, 386, 387, 388, 389,\n",
       "       390, 391, 392, 393, 394, 395, 396, 397, 398, 399, 400, 401, 402,\n",
       "       403, 404, 405, 406, 407, 408, 409, 410, 411, 412, 413, 414, 415,\n",
       "       416, 417, 418, 419, 420, 421, 422, 423, 424, 425, 426, 427, 428,\n",
       "       429, 430, 431, 432, 433, 434, 435, 436, 437, 438, 439, 440, 441,\n",
       "       442, 443, 444, 445, 446, 447, 448, 449, 450, 451, 452, 453, 454,\n",
       "       455, 456, 457, 458, 459, 460, 461, 462, 463, 464, 465, 466, 467,\n",
       "       468, 469, 470, 471, 472, 473, 474, 475, 476, 477, 478, 479, 480,\n",
       "       481, 482, 483, 484, 485, 486, 487, 488, 489, 490, 491, 492, 493,\n",
       "       494, 495, 496, 497, 498, 499, 500, 501, 502, 503, 504, 505, 506,\n",
       "       507, 508, 509, 510, 511])"
      ]
     },
     "execution_count": 9,
     "metadata": {},
     "output_type": "execute_result"
    }
   ],
   "source": [
    "l1"
   ]
  },
  {
   "cell_type": "code",
   "execution_count": 10,
   "id": "5e842b69-7787-4097-b233-42a9fbf77077",
   "metadata": {},
   "outputs": [
    {
     "data": {
      "text/plain": [
       "array([ 1.,  1.,  1.,  1.,  1.,  1.,  1.,  1.,  1.,  1.,  1.,  1.,  1.,\n",
       "        1.,  1.,  1.,  1.,  1.,  1.,  1.,  1.,  1.,  1.,  1.,  1.,  1.,\n",
       "        1.,  1.,  1.,  1.,  1.,  1.,  2.,  2.,  2.,  2.,  2.,  2.,  2.,\n",
       "        2.,  2.,  2.,  2.,  2.,  2.,  2.,  2.,  2.,  2.,  2.,  2.,  2.,\n",
       "        2.,  2.,  2.,  2.,  2.,  2.,  2.,  2.,  2.,  2.,  2.,  2.,  3.,\n",
       "        3.,  3.,  3.,  3.,  3.,  3.,  3.,  3.,  3.,  3.,  3.,  3.,  3.,\n",
       "        3.,  3.,  3.,  3.,  3.,  3.,  3.,  3.,  3.,  3.,  3.,  3.,  3.,\n",
       "        3.,  3.,  3.,  3.,  3.,  4.,  4.,  4.,  4.,  4.,  4.,  4.,  4.,\n",
       "        4.,  4.,  4.,  4.,  4.,  4.,  4.,  4.,  4.,  4.,  4.,  4.,  4.,\n",
       "        4.,  4.,  4.,  4.,  4.,  4.,  4.,  4.,  4.,  4.,  4.,  5.,  5.,\n",
       "        5.,  5.,  5.,  5.,  5.,  5.,  5.,  5.,  5.,  5.,  5.,  5.,  5.,\n",
       "        5.,  5.,  5.,  5.,  5.,  5.,  5.,  5.,  5.,  5.,  5.,  5.,  5.,\n",
       "        5.,  5.,  5.,  5.,  6.,  6.,  6.,  6.,  6.,  6.,  6.,  6.,  6.,\n",
       "        6.,  6.,  6.,  6.,  6.,  6.,  6.,  6.,  6.,  6.,  6.,  6.,  6.,\n",
       "        6.,  6.,  6.,  6.,  6.,  6.,  6.,  6.,  6.,  6.,  7.,  7.,  7.,\n",
       "        7.,  7.,  7.,  7.,  7.,  7.,  7.,  7.,  7.,  7.,  7.,  7.,  7.,\n",
       "        7.,  7.,  7.,  7.,  7.,  7.,  7.,  7.,  7.,  7.,  7.,  7.,  7.,\n",
       "        7.,  7.,  7.,  8.,  8.,  8.,  8.,  8.,  8.,  8.,  8.,  8.,  8.,\n",
       "        8.,  8.,  8.,  8.,  8.,  8.,  8.,  8.,  8.,  8.,  8.,  8.,  8.,\n",
       "        8.,  8.,  8.,  8.,  8.,  8.,  8.,  8.,  8.,  9.,  9.,  9.,  9.,\n",
       "        9.,  9.,  9.,  9.,  9.,  9.,  9.,  9.,  9.,  9.,  9.,  9.,  9.,\n",
       "        9.,  9.,  9.,  9.,  9.,  9.,  9.,  9.,  9.,  9.,  9.,  9.,  9.,\n",
       "        9.,  9., 10., 10., 10., 10., 10., 10., 10., 10., 10., 10., 10.,\n",
       "       10., 10., 10., 10., 10., 10., 10., 10., 10., 10., 10., 10., 10.,\n",
       "       10., 10., 10., 10., 10., 10., 10., 10., 11., 11., 11., 11., 11.,\n",
       "       11., 11., 11., 11., 11., 11., 11., 11., 11., 11., 11., 11., 11.,\n",
       "       11., 11., 11., 11., 11., 11., 11., 11., 11., 11., 11., 11., 11.,\n",
       "       11., 12., 12., 12., 12., 12., 12., 12., 12., 12., 12., 12., 12.,\n",
       "       12., 12., 12., 12., 12., 12., 12., 12., 12., 12., 12., 12., 12.,\n",
       "       12., 12., 12., 12., 12., 12., 12., 13., 13., 13., 13., 13., 13.,\n",
       "       13., 13., 13., 13., 13., 13., 13., 13., 13., 13., 13., 13., 13.,\n",
       "       13., 13., 13., 13., 13., 13., 13., 13., 13., 13., 13., 13., 13.,\n",
       "       14., 14., 14., 14., 14., 14., 14., 14., 14., 14., 14., 14., 14.,\n",
       "       14., 14., 14., 14., 14., 14., 14., 14., 14., 14., 14., 14., 14.,\n",
       "       14., 14., 14., 14., 14., 14., 15., 15., 15., 15., 15., 15., 15.,\n",
       "       15., 15., 15., 15., 15., 15., 15., 15., 15., 15., 15., 15., 15.,\n",
       "       15., 15., 15., 15., 15., 15., 15., 15., 15., 15., 15., 15., 16.,\n",
       "       16., 16., 16., 16., 16., 16., 16., 16., 16., 16., 16., 16., 16.,\n",
       "       16., 16., 16., 16., 16., 16., 16., 16., 16., 16., 16., 16., 16.,\n",
       "       16., 16., 16., 16., 16.])"
      ]
     },
     "execution_count": 10,
     "metadata": {},
     "output_type": "execute_result"
    }
   ],
   "source": [
    "l1//((num_samples//2)/box_siz)+1"
   ]
  },
  {
   "cell_type": "code",
   "execution_count": 11,
   "id": "1628af4c-1f7c-48e3-ad28-6d1bb95196c3",
   "metadata": {},
   "outputs": [
    {
     "data": {
      "text/plain": [
       "32"
      ]
     },
     "execution_count": 11,
     "metadata": {},
     "output_type": "execute_result"
    }
   ],
   "source": [
    "int((num_samples//2)/box_siz)"
   ]
  },
  {
   "cell_type": "code",
   "execution_count": 12,
   "id": "642b6b73",
   "metadata": {},
   "outputs": [
    {
     "data": {
      "text/plain": [
       "tensor([ 1.,  1.,  1.,  1.,  1.,  1.,  1.,  1.,  1.,  1.,  1.,  1.,  1.,  1.,\n",
       "         1.,  1.,  1.,  1.,  1.,  1.,  1.,  1.,  1.,  1.,  1.,  1.,  1.,  1.,\n",
       "         1.,  1.,  1.,  1.,  2.,  2.,  2.,  2.,  2.,  2.,  2.,  2.,  2.,  2.,\n",
       "         2.,  2.,  2.,  2.,  2.,  2.,  2.,  2.,  2.,  2.,  2.,  2.,  2.,  2.,\n",
       "         2.,  2.,  2.,  2.,  2.,  2.,  2.,  2.,  3.,  3.,  3.,  3.,  3.,  3.,\n",
       "         3.,  3.,  3.,  3.,  3.,  3.,  3.,  3.,  3.,  3.,  3.,  3.,  3.,  3.,\n",
       "         3.,  3.,  3.,  3.,  3.,  3.,  3.,  3.,  3.,  3.,  3.,  3.,  4.,  4.,\n",
       "         4.,  4.,  4.,  4.,  4.,  4.,  4.,  4.,  4.,  4.,  4.,  4.,  4.,  4.,\n",
       "         4.,  4.,  4.,  4.,  4.,  4.,  4.,  4.,  4.,  4.,  4.,  4.,  4.,  4.,\n",
       "         4.,  4.,  5.,  5.,  5.,  5.,  5.,  5.,  5.,  5.,  5.,  5.,  5.,  5.,\n",
       "         5.,  5.,  5.,  5.,  5.,  5.,  5.,  5.,  5.,  5.,  5.,  5.,  5.,  5.,\n",
       "         5.,  5.,  5.,  5.,  5.,  5.,  6.,  6.,  6.,  6.,  6.,  6.,  6.,  6.,\n",
       "         6.,  6.,  6.,  6.,  6.,  6.,  6.,  6.,  6.,  6.,  6.,  6.,  6.,  6.,\n",
       "         6.,  6.,  6.,  6.,  6.,  6.,  6.,  6.,  6.,  6.,  7.,  7.,  7.,  7.,\n",
       "         7.,  7.,  7.,  7.,  7.,  7.,  7.,  7.,  7.,  7.,  7.,  7.,  7.,  7.,\n",
       "         7.,  7.,  7.,  7.,  7.,  7.,  7.,  7.,  7.,  7.,  7.,  7.,  7.,  7.,\n",
       "         8.,  8.,  8.,  8.,  8.,  8.,  8.,  8.,  8.,  8.,  8.,  8.,  8.,  8.,\n",
       "         8.,  8.,  8.,  8.,  8.,  8.,  8.,  8.,  8.,  8.,  8.,  8.,  8.,  8.,\n",
       "         8.,  8.,  8.,  8.,  9.,  9.,  9.,  9.,  9.,  9.,  9.,  9.,  9.,  9.,\n",
       "         9.,  9.,  9.,  9.,  9.,  9.,  9.,  9.,  9.,  9.,  9.,  9.,  9.,  9.,\n",
       "         9.,  9.,  9.,  9.,  9.,  9.,  9.,  9., 10., 10., 10., 10., 10., 10.,\n",
       "        10., 10., 10., 10., 10., 10., 10., 10., 10., 10., 10., 10., 10., 10.,\n",
       "        10., 10., 10., 10., 10., 10., 10., 10., 10., 10., 10., 10., 11., 11.,\n",
       "        11., 11., 11., 11., 11., 11., 11., 11., 11., 11., 11., 11., 11., 11.,\n",
       "        11., 11., 11., 11., 11., 11., 11., 11., 11., 11., 11., 11., 11., 11.,\n",
       "        11., 11., 12., 12., 12., 12., 12., 12., 12., 12., 12., 12., 12., 12.,\n",
       "        12., 12., 12., 12., 12., 12., 12., 12., 12., 12., 12., 12., 12., 12.,\n",
       "        12., 12., 12., 12., 12., 12., 13., 13., 13., 13., 13., 13., 13., 13.,\n",
       "        13., 13., 13., 13., 13., 13., 13., 13., 13., 13., 13., 13., 13., 13.,\n",
       "        13., 13., 13., 13., 13., 13., 13., 13., 13., 13., 14., 14., 14., 14.,\n",
       "        14., 14., 14., 14., 14., 14., 14., 14., 14., 14., 14., 14., 14., 14.,\n",
       "        14., 14., 14., 14., 14., 14., 14., 14., 14., 14., 14., 14., 14., 14.,\n",
       "        15., 15., 15., 15., 15., 15., 15., 15., 15., 15., 15., 15., 15., 15.,\n",
       "        15., 15., 15., 15., 15., 15., 15., 15., 15., 15., 15., 15., 15., 15.,\n",
       "        15., 15., 15., 15., 16., 16., 16., 16., 16., 16., 16., 16., 16., 16.,\n",
       "        16., 16., 16., 16., 16., 16., 16., 16., 16., 16., 16., 16., 16., 16.,\n",
       "        16., 16., 16., 16., 16., 16., 16., 16.], dtype=torch.float64)"
      ]
     },
     "execution_count": 12,
     "metadata": {},
     "output_type": "execute_result"
    }
   ],
   "source": [
    "torch.tensor(list(map(func, l1, [(num_samples//2)/box_siz]*(num_samples//2))))"
   ]
  },
  {
   "cell_type": "code",
   "execution_count": null,
   "id": "ac4f9340-7992-462b-84ca-87a0f42833b1",
   "metadata": {},
   "outputs": [],
   "source": []
  },
  {
   "cell_type": "code",
   "execution_count": null,
   "id": "77951e99-aed0-47fd-8da4-f9a81e282ba6",
   "metadata": {},
   "outputs": [],
   "source": []
  },
  {
   "cell_type": "code",
   "execution_count": null,
   "id": "9e7be5c4-58cf-4c31-a7cf-a8e63e6434ff",
   "metadata": {},
   "outputs": [],
   "source": []
  },
  {
   "cell_type": "code",
   "execution_count": null,
   "id": "9f6e7c12-cd91-45be-a3a4-53627d893f56",
   "metadata": {},
   "outputs": [],
   "source": []
  },
  {
   "cell_type": "code",
   "execution_count": 13,
   "id": "dbc365a9",
   "metadata": {},
   "outputs": [],
   "source": [
    "# you can use each of the followings for seeing how random number of class samples or fix number of\n",
    "# class samples might affect the results. one very import factor for training here is to \n",
    "# have equal number of samples in each class. Just uncomment the line and comment the other one.\n",
    "\n",
    "# rand_radious = torch.randint(1, centralbox_size+1, (num_samples,)) # create a random array of raduis \n",
    "rand_radious1 = torch.tensor(list(map(func, l1, [(num_samples//2)/box_siz]*(num_samples//2))))\n",
    "# rand_radious2 = torch.tensor(list(map(func, l2, [(num_samples)/half_box_siz]*(num_samples//2))))\n",
    "# features1 = circle(radius=rand_radious1, box_size=box_siz)  # data set\n",
    "features1 = torch.from_numpy(Line(line_position=rand_radious1, \n",
    "                                   box_size=box_siz, \n",
    "                                    line_ori='x').get_image())  # data set\n",
    "\n",
    "rand_radious2 = torch.tensor(list(map(func, l2, [(num_samples//2)/box_siz]*(num_samples//2))))\n",
    "# features2 = circle(radius=rand_radious2, box_size=box_siz)  # data set\n",
    "features2 = torch.from_numpy(Line(line_position=rand_radious2, \n",
    "                                   box_size=box_siz, \n",
    "                                    line_ori='y').get_image())  # data set"
   ]
  },
  {
   "cell_type": "code",
   "execution_count": 14,
   "id": "b716b64a",
   "metadata": {},
   "outputs": [],
   "source": [
    "features =  torch.cat((features1, features2), axis=0)"
   ]
  },
  {
   "cell_type": "code",
   "execution_count": 15,
   "id": "dc7c5472",
   "metadata": {},
   "outputs": [
    {
     "data": {
      "text/plain": [
       "(torch.Size([1024, 16, 16]),\n",
       " torch.Size([512, 16, 16]),\n",
       " torch.Size([512, 16, 16]))"
      ]
     },
     "execution_count": 15,
     "metadata": {},
     "output_type": "execute_result"
    }
   ],
   "source": [
    "features.shape, features1.shape, features2.shape"
   ]
  },
  {
   "cell_type": "code",
   "execution_count": 16,
   "id": "637f59b6",
   "metadata": {},
   "outputs": [],
   "source": [
    "# rand_radious1 = torch.tensor([1]*(num_samples//2))\n",
    "# rand_radious2 = torch.tensor([2]*(num_samples//2))\n",
    "# rand_radious = torch.cat((rand_radious1, rand_radious2), axis=0)\n",
    "\n",
    "\n",
    "# features = box(radius=rand_radious, box_size=box_siz)  # data set"
   ]
  },
  {
   "cell_type": "code",
   "execution_count": 17,
   "id": "08701857",
   "metadata": {},
   "outputs": [
    {
     "data": {
      "text/plain": [
       "tensor([ 1.,  1.,  1.,  1.,  1.,  1.,  1.,  1.,  1.,  1.,  1.,  1.,  1.,  1.,\n",
       "         1.,  1.,  1.,  1.,  1.,  1.,  1.,  1.,  1.,  1.,  1.,  1.,  1.,  1.,\n",
       "         1.,  1.,  1.,  1.,  2.,  2.,  2.,  2.,  2.,  2.,  2.,  2.,  2.,  2.,\n",
       "         2.,  2.,  2.,  2.,  2.,  2.,  2.,  2.,  2.,  2.,  2.,  2.,  2.,  2.,\n",
       "         2.,  2.,  2.,  2.,  2.,  2.,  2.,  2.,  3.,  3.,  3.,  3.,  3.,  3.,\n",
       "         3.,  3.,  3.,  3.,  3.,  3.,  3.,  3.,  3.,  3.,  3.,  3.,  3.,  3.,\n",
       "         3.,  3.,  3.,  3.,  3.,  3.,  3.,  3.,  3.,  3.,  3.,  3.,  4.,  4.,\n",
       "         4.,  4.,  4.,  4.,  4.,  4.,  4.,  4.,  4.,  4.,  4.,  4.,  4.,  4.,\n",
       "         4.,  4.,  4.,  4.,  4.,  4.,  4.,  4.,  4.,  4.,  4.,  4.,  4.,  4.,\n",
       "         4.,  4.,  5.,  5.,  5.,  5.,  5.,  5.,  5.,  5.,  5.,  5.,  5.,  5.,\n",
       "         5.,  5.,  5.,  5.,  5.,  5.,  5.,  5.,  5.,  5.,  5.,  5.,  5.,  5.,\n",
       "         5.,  5.,  5.,  5.,  5.,  5.,  6.,  6.,  6.,  6.,  6.,  6.,  6.,  6.,\n",
       "         6.,  6.,  6.,  6.,  6.,  6.,  6.,  6.,  6.,  6.,  6.,  6.,  6.,  6.,\n",
       "         6.,  6.,  6.,  6.,  6.,  6.,  6.,  6.,  6.,  6.,  7.,  7.,  7.,  7.,\n",
       "         7.,  7.,  7.,  7.,  7.,  7.,  7.,  7.,  7.,  7.,  7.,  7.,  7.,  7.,\n",
       "         7.,  7.,  7.,  7.,  7.,  7.,  7.,  7.,  7.,  7.,  7.,  7.,  7.,  7.,\n",
       "         8.,  8.,  8.,  8.,  8.,  8.,  8.,  8.,  8.,  8.,  8.,  8.,  8.,  8.,\n",
       "         8.,  8.,  8.,  8.,  8.,  8.,  8.,  8.,  8.,  8.,  8.,  8.,  8.,  8.,\n",
       "         8.,  8.,  8.,  8.,  9.,  9.,  9.,  9.,  9.,  9.,  9.,  9.,  9.,  9.,\n",
       "         9.,  9.,  9.,  9.,  9.,  9.,  9.,  9.,  9.,  9.,  9.,  9.,  9.,  9.,\n",
       "         9.,  9.,  9.,  9.,  9.,  9.,  9.,  9., 10., 10., 10., 10., 10., 10.,\n",
       "        10., 10., 10., 10., 10., 10., 10., 10., 10., 10., 10., 10., 10., 10.,\n",
       "        10., 10., 10., 10., 10., 10., 10., 10., 10., 10., 10., 10., 11., 11.,\n",
       "        11., 11., 11., 11., 11., 11., 11., 11., 11., 11., 11., 11., 11., 11.,\n",
       "        11., 11., 11., 11., 11., 11., 11., 11., 11., 11., 11., 11., 11., 11.,\n",
       "        11., 11., 12., 12., 12., 12., 12., 12., 12., 12., 12., 12., 12., 12.,\n",
       "        12., 12., 12., 12., 12., 12., 12., 12., 12., 12., 12., 12., 12., 12.,\n",
       "        12., 12., 12., 12., 12., 12., 13., 13., 13., 13., 13., 13., 13., 13.,\n",
       "        13., 13., 13., 13., 13., 13., 13., 13., 13., 13., 13., 13., 13., 13.,\n",
       "        13., 13., 13., 13., 13., 13., 13., 13., 13., 13., 14., 14., 14., 14.,\n",
       "        14., 14., 14., 14., 14., 14., 14., 14., 14., 14., 14., 14., 14., 14.,\n",
       "        14., 14., 14., 14., 14., 14., 14., 14., 14., 14., 14., 14., 14., 14.,\n",
       "        15., 15., 15., 15., 15., 15., 15., 15., 15., 15., 15., 15., 15., 15.,\n",
       "        15., 15., 15., 15., 15., 15., 15., 15., 15., 15., 15., 15., 15., 15.,\n",
       "        15., 15., 15., 15., 16., 16., 16., 16., 16., 16., 16., 16., 16., 16.,\n",
       "        16., 16., 16., 16., 16., 16., 16., 16., 16., 16., 16., 16., 16., 16.,\n",
       "        16., 16., 16., 16., 16., 16., 16., 16.], dtype=torch.float64)"
      ]
     },
     "execution_count": 17,
     "metadata": {},
     "output_type": "execute_result"
    }
   ],
   "source": [
    "rand_radious1"
   ]
  },
  {
   "cell_type": "code",
   "execution_count": 18,
   "id": "bad09f95",
   "metadata": {},
   "outputs": [
    {
     "data": {
      "text/plain": [
       "8"
      ]
     },
     "execution_count": 18,
     "metadata": {},
     "output_type": "execute_result"
    }
   ],
   "source": [
    "half_box_siz\n"
   ]
  },
  {
   "cell_type": "code",
   "execution_count": 19,
   "id": "a5ea080a",
   "metadata": {},
   "outputs": [],
   "source": [
    "# torch.tensor(list(map(func, l1, [(num_samples//2)/half_box_siz]*(num_samples//2))))"
   ]
  },
  {
   "cell_type": "code",
   "execution_count": 20,
   "id": "a82894fb",
   "metadata": {},
   "outputs": [
    {
     "data": {
      "text/plain": [
       "torch.Size([1024, 16, 16])"
      ]
     },
     "execution_count": 20,
     "metadata": {},
     "output_type": "execute_result"
    }
   ],
   "source": [
    "features.shape"
   ]
  },
  {
   "cell_type": "code",
   "execution_count": 21,
   "id": "4a783eb3-f891-4c01-8ba9-183d6e0c64a2",
   "metadata": {},
   "outputs": [
    {
     "data": {
      "text/plain": [
       "tensor([[1., 1., 1., 1., 1., 1., 1., 1., 1., 1., 1., 1., 1., 1., 1., 1.],\n",
       "        [1., 1., 1., 1., 1., 1., 1., 1., 1., 1., 1., 1., 1., 1., 1., 1.],\n",
       "        [0., 0., 0., 0., 0., 0., 0., 0., 0., 0., 0., 0., 0., 0., 0., 0.],\n",
       "        [0., 0., 0., 0., 0., 0., 0., 0., 0., 0., 0., 0., 0., 0., 0., 0.],\n",
       "        [0., 0., 0., 0., 0., 0., 0., 0., 0., 0., 0., 0., 0., 0., 0., 0.],\n",
       "        [0., 0., 0., 0., 0., 0., 0., 0., 0., 0., 0., 0., 0., 0., 0., 0.],\n",
       "        [0., 0., 0., 0., 0., 0., 0., 0., 0., 0., 0., 0., 0., 0., 0., 0.],\n",
       "        [0., 0., 0., 0., 0., 0., 0., 0., 0., 0., 0., 0., 0., 0., 0., 0.],\n",
       "        [0., 0., 0., 0., 0., 0., 0., 0., 0., 0., 0., 0., 0., 0., 0., 0.],\n",
       "        [0., 0., 0., 0., 0., 0., 0., 0., 0., 0., 0., 0., 0., 0., 0., 0.],\n",
       "        [0., 0., 0., 0., 0., 0., 0., 0., 0., 0., 0., 0., 0., 0., 0., 0.],\n",
       "        [0., 0., 0., 0., 0., 0., 0., 0., 0., 0., 0., 0., 0., 0., 0., 0.],\n",
       "        [0., 0., 0., 0., 0., 0., 0., 0., 0., 0., 0., 0., 0., 0., 0., 0.],\n",
       "        [0., 0., 0., 0., 0., 0., 0., 0., 0., 0., 0., 0., 0., 0., 0., 0.],\n",
       "        [0., 0., 0., 0., 0., 0., 0., 0., 0., 0., 0., 0., 0., 0., 0., 0.],\n",
       "        [0., 0., 0., 0., 0., 0., 0., 0., 0., 0., 0., 0., 0., 0., 0., 0.]],\n",
       "       dtype=torch.float64)"
      ]
     },
     "execution_count": 21,
     "metadata": {},
     "output_type": "execute_result"
    }
   ],
   "source": [
    "features[0]"
   ]
  },
  {
   "cell_type": "code",
   "execution_count": 22,
   "id": "b7f8e667",
   "metadata": {},
   "outputs": [],
   "source": [
    "# rand_radious = torch.cat((rand_radious1, rand_radious2), axis=0)"
   ]
  },
  {
   "cell_type": "code",
   "execution_count": 23,
   "id": "463a1236",
   "metadata": {},
   "outputs": [],
   "source": [
    "# rand_radious.shape"
   ]
  },
  {
   "cell_type": "code",
   "execution_count": 24,
   "id": "9888d44d",
   "metadata": {},
   "outputs": [],
   "source": [
    "\n",
    "# l2 =  np.arange(1,box_siz//2)"
   ]
  },
  {
   "cell_type": "code",
   "execution_count": null,
   "id": "445de09e",
   "metadata": {},
   "outputs": [],
   "source": []
  },
  {
   "cell_type": "code",
   "execution_count": 25,
   "id": "a929af13",
   "metadata": {},
   "outputs": [],
   "source": [
    "# rand_radious = torch.tensor(list(map(func, l1, [200//(box_siz//2)]*200)))"
   ]
  },
  {
   "cell_type": "code",
   "execution_count": 26,
   "id": "64391920",
   "metadata": {},
   "outputs": [],
   "source": [
    "# rand_radious"
   ]
  },
  {
   "cell_type": "code",
   "execution_count": 27,
   "id": "56afdb83",
   "metadata": {},
   "outputs": [],
   "source": [
    "#  np.unique(features, axis=0).shape"
   ]
  },
  {
   "cell_type": "code",
   "execution_count": 28,
   "id": "9ced0db0",
   "metadata": {},
   "outputs": [],
   "source": [
    "# select unique data samples only\n",
    "# features = torch.from_numpy(np.unique(features, axis=0))#.shape"
   ]
  },
  {
   "cell_type": "code",
   "execution_count": 29,
   "id": "00b8cc57",
   "metadata": {},
   "outputs": [
    {
     "data": {
      "text/plain": [
       "9"
      ]
     },
     "execution_count": 29,
     "metadata": {},
     "output_type": "execute_result"
    }
   ],
   "source": [
    "half_box_siz+1"
   ]
  },
  {
   "cell_type": "code",
   "execution_count": 30,
   "id": "e9f2ccda",
   "metadata": {},
   "outputs": [],
   "source": [
    "# features.shape"
   ]
  },
  {
   "cell_type": "code",
   "execution_count": null,
   "id": "660e8677",
   "metadata": {},
   "outputs": [],
   "source": []
  },
  {
   "cell_type": "code",
   "execution_count": 31,
   "id": "65909757",
   "metadata": {},
   "outputs": [],
   "source": [
    "# rand_radious"
   ]
  },
  {
   "cell_type": "code",
   "execution_count": 32,
   "id": "320e72d8",
   "metadata": {},
   "outputs": [],
   "source": [
    "# rand_radious/rand_radious.max()"
   ]
  },
  {
   "cell_type": "code",
   "execution_count": null,
   "id": "3d79d41f",
   "metadata": {},
   "outputs": [],
   "source": []
  },
  {
   "cell_type": "code",
   "execution_count": 33,
   "id": "985800c5",
   "metadata": {},
   "outputs": [],
   "source": [
    "# rand_radious[10]/rand_radious.max()"
   ]
  },
  {
   "cell_type": "code",
   "execution_count": 34,
   "id": "91ec21f0",
   "metadata": {},
   "outputs": [
    {
     "data": {
      "text/plain": [
       "tensor([[1., 1., 1., 1., 1., 1., 1., 1., 1., 1., 1., 1., 1., 1., 1., 1.],\n",
       "        [1., 1., 1., 1., 1., 1., 1., 1., 1., 1., 1., 1., 1., 1., 1., 1.],\n",
       "        [0., 0., 0., 0., 0., 0., 0., 0., 0., 0., 0., 0., 0., 0., 0., 0.],\n",
       "        [0., 0., 0., 0., 0., 0., 0., 0., 0., 0., 0., 0., 0., 0., 0., 0.],\n",
       "        [0., 0., 0., 0., 0., 0., 0., 0., 0., 0., 0., 0., 0., 0., 0., 0.],\n",
       "        [0., 0., 0., 0., 0., 0., 0., 0., 0., 0., 0., 0., 0., 0., 0., 0.],\n",
       "        [0., 0., 0., 0., 0., 0., 0., 0., 0., 0., 0., 0., 0., 0., 0., 0.],\n",
       "        [0., 0., 0., 0., 0., 0., 0., 0., 0., 0., 0., 0., 0., 0., 0., 0.],\n",
       "        [0., 0., 0., 0., 0., 0., 0., 0., 0., 0., 0., 0., 0., 0., 0., 0.],\n",
       "        [0., 0., 0., 0., 0., 0., 0., 0., 0., 0., 0., 0., 0., 0., 0., 0.],\n",
       "        [0., 0., 0., 0., 0., 0., 0., 0., 0., 0., 0., 0., 0., 0., 0., 0.],\n",
       "        [0., 0., 0., 0., 0., 0., 0., 0., 0., 0., 0., 0., 0., 0., 0., 0.],\n",
       "        [0., 0., 0., 0., 0., 0., 0., 0., 0., 0., 0., 0., 0., 0., 0., 0.],\n",
       "        [0., 0., 0., 0., 0., 0., 0., 0., 0., 0., 0., 0., 0., 0., 0., 0.],\n",
       "        [0., 0., 0., 0., 0., 0., 0., 0., 0., 0., 0., 0., 0., 0., 0., 0.],\n",
       "        [0., 0., 0., 0., 0., 0., 0., 0., 0., 0., 0., 0., 0., 0., 0., 0.]],\n",
       "       dtype=torch.float64)"
      ]
     },
     "execution_count": 34,
     "metadata": {},
     "output_type": "execute_result"
    }
   ],
   "source": [
    "features[10]"
   ]
  },
  {
   "cell_type": "code",
   "execution_count": 35,
   "id": "fc5b893a",
   "metadata": {},
   "outputs": [
    {
     "data": {
      "text/plain": [
       "torch.Size([1024, 16, 16])"
      ]
     },
     "execution_count": 35,
     "metadata": {},
     "output_type": "execute_result"
    }
   ],
   "source": [
    "features.shape"
   ]
  },
  {
   "cell_type": "code",
   "execution_count": null,
   "id": "d58ae32b",
   "metadata": {},
   "outputs": [],
   "source": []
  },
  {
   "cell_type": "code",
   "execution_count": 36,
   "id": "44ce3058-9b52-451c-9ade-7bd749c1fa7f",
   "metadata": {},
   "outputs": [
    {
     "data": {
      "text/plain": [
       "512"
      ]
     },
     "execution_count": 36,
     "metadata": {},
     "output_type": "execute_result"
    }
   ],
   "source": [
    "num_samples//2"
   ]
  },
  {
   "cell_type": "code",
   "execution_count": 37,
   "id": "277fc741",
   "metadata": {},
   "outputs": [],
   "source": [
    "# Code is 2d and the first col is designated to the first shape family. and the second is for subclass examples.\n",
    "\n",
    "code = torch.zeros((num_samples, 2))\n",
    "\n",
    "code[0             : num_samples//2, 0] = 1\n",
    "code[num_samples//2: num_samples   , 0] = 2\n",
    "\n",
    "code[0             : num_samples//2, 1] = rand_radious1\n",
    "code[num_samples//2: num_samples   , 1] = rand_radious2"
   ]
  },
  {
   "cell_type": "code",
   "execution_count": null,
   "id": "aabed58d-ddcb-4f61-ba5a-c202d16d2377",
   "metadata": {},
   "outputs": [],
   "source": []
  },
  {
   "cell_type": "code",
   "execution_count": null,
   "id": "ac6351af-1224-4d75-ad89-6fe18a98b20a",
   "metadata": {},
   "outputs": [],
   "source": []
  },
  {
   "cell_type": "code",
   "execution_count": 38,
   "id": "a4c4cb96",
   "metadata": {},
   "outputs": [
    {
     "data": {
      "text/plain": [
       "tensor([[ 1.,  1.],\n",
       "        [ 1.,  1.],\n",
       "        [ 1.,  1.],\n",
       "        ...,\n",
       "        [ 2., 16.],\n",
       "        [ 2., 16.],\n",
       "        [ 2., 16.]])"
      ]
     },
     "execution_count": 38,
     "metadata": {},
     "output_type": "execute_result"
    }
   ],
   "source": [
    "code"
   ]
  },
  {
   "cell_type": "code",
   "execution_count": 39,
   "id": "4c7a8797",
   "metadata": {},
   "outputs": [
    {
     "data": {
      "text/plain": [
       "torch.Size([1024, 2])"
      ]
     },
     "execution_count": 39,
     "metadata": {},
     "output_type": "execute_result"
    }
   ],
   "source": [
    "code.shape"
   ]
  },
  {
   "cell_type": "code",
   "execution_count": 40,
   "id": "8696cf22",
   "metadata": {},
   "outputs": [
    {
     "data": {
      "text/plain": [
       "tensor([ 2., 16.])"
      ]
     },
     "execution_count": 40,
     "metadata": {},
     "output_type": "execute_result"
    }
   ],
   "source": [
    "torch.max(code, axis=0).values"
   ]
  },
  {
   "cell_type": "code",
   "execution_count": 41,
   "id": "e0a21df8",
   "metadata": {},
   "outputs": [],
   "source": [
    "code = code/torch.max(code, axis=0).values"
   ]
  },
  {
   "cell_type": "code",
   "execution_count": 42,
   "id": "a1c3b76f",
   "metadata": {},
   "outputs": [],
   "source": [
    "# code"
   ]
  },
  {
   "cell_type": "code",
   "execution_count": 43,
   "id": "95dd79eb",
   "metadata": {},
   "outputs": [],
   "source": [
    "# random code\n",
    "# code = torch.randint(1, 5, (features.shape[0],1))"
   ]
  },
  {
   "cell_type": "code",
   "execution_count": 44,
   "id": "acf1cd2b",
   "metadata": {},
   "outputs": [],
   "source": [
    "# for i in range(features.shape[0]):\n",
    "# code  = rand_radious/rand_radious.max()\n",
    "    \n",
    "#     print(rand_radious[i]/rand_radious.max() )\n",
    "#     code [i, 0] = features[i].sum()\n",
    "#     code [i, 1] = features[i].sum()"
   ]
  },
  {
   "cell_type": "code",
   "execution_count": null,
   "id": "b6757ae3",
   "metadata": {},
   "outputs": [],
   "source": []
  },
  {
   "cell_type": "code",
   "execution_count": 45,
   "id": "3345fa2d",
   "metadata": {},
   "outputs": [
    {
     "data": {
      "text/plain": [
       "torch.Size([1024, 2])"
      ]
     },
     "execution_count": 45,
     "metadata": {},
     "output_type": "execute_result"
    }
   ],
   "source": [
    "code.shape"
   ]
  },
  {
   "cell_type": "code",
   "execution_count": 46,
   "id": "7a1546ef",
   "metadata": {},
   "outputs": [],
   "source": [
    "# code[0:]"
   ]
  },
  {
   "cell_type": "code",
   "execution_count": 47,
   "id": "4e9cc0a8",
   "metadata": {},
   "outputs": [],
   "source": [
    "# features = features/features.shape[1]"
   ]
  },
  {
   "cell_type": "code",
   "execution_count": 48,
   "id": "02b13dfa",
   "metadata": {},
   "outputs": [
    {
     "data": {
      "text/plain": [
       "1024"
      ]
     },
     "execution_count": 48,
     "metadata": {},
     "output_type": "execute_result"
    }
   ],
   "source": [
    "features.shape[0]"
   ]
  },
  {
   "cell_type": "code",
   "execution_count": 49,
   "id": "ad203d2a",
   "metadata": {},
   "outputs": [],
   "source": [
    "# code  = code/code.max()"
   ]
  },
  {
   "cell_type": "code",
   "execution_count": 50,
   "id": "27831a3c-3191-4822-8634-df488023823f",
   "metadata": {},
   "outputs": [],
   "source": [
    "def add_pad(mat, pad_x=0, pad_y=0):\n",
    "    assert(pad_x>=0 and pad_y>=0)\n",
    "    pad_mat = torch.zeros(mat.shape[0]+2*pad_x, mat.shape[1]+2*pad_y)\n",
    "    pad_mat[pad_x:mat.shape[0]+pad_x, pad_y:mat.shape[1]+pad_y] = mat\n",
    "    return pad_mat"
   ]
  },
  {
   "cell_type": "code",
   "execution_count": 51,
   "id": "70f6db7c-9715-4494-98d5-bf95459c9ecf",
   "metadata": {},
   "outputs": [
    {
     "data": {
      "text/plain": [
       "tensor([[0., 0., 0., 0., 0.],\n",
       "        [0., 8., 3., 7., 0.],\n",
       "        [0., 3., 6., 9., 0.],\n",
       "        [0., 8., 7., 7., 0.],\n",
       "        [0., 0., 0., 0., 0.]])"
      ]
     },
     "execution_count": 51,
     "metadata": {},
     "output_type": "execute_result"
    }
   ],
   "source": [
    "a = torch.randint(3, 10, (3, 3))\n",
    "add_pad(a, 1, 1)"
   ]
  },
  {
   "cell_type": "code",
   "execution_count": 52,
   "id": "ef20a72f",
   "metadata": {},
   "outputs": [],
   "source": [
    "def conv(src_matices, filter_mat ):\n",
    "    '''Works on 2d covn\n",
    "       returns conv matrix of the same shape, with zero-padded \n",
    "       filter_mat shape must be (odd,odd)\n",
    "    '''\n",
    "    i_filt = filter_mat.shape[0]\n",
    "    j_filt = filter_mat.shape[1]\n",
    "    \n",
    "    # if only one matrix is given, rather than a bunch\n",
    "    if(src_matices.dim()==2):\n",
    "        # add another dim in 0th\n",
    "        src_matices = torch.unsqueeze(src_matices, dim=0)\n",
    "     \n",
    "    \n",
    "    new_mat = torch.zeros(src_matices.shape)\n",
    "    \n",
    "    for idx, src_mat in enumerate(src_matices):\n",
    "        padded_mat = add_pad(src_mat, i_filt//2, j_filt//2) \n",
    "        \n",
    "        # print(new_mat.shape)\n",
    "\n",
    "        for i in range(i_filt//2,padded_mat.shape[0]-i_filt//2):\n",
    "            for j in range(i_filt//2,padded_mat.shape[1]-j_filt//2):\n",
    "\n",
    "                    s= padded_mat[i-i_filt//2: i+i_filt//2+1, j-j_filt//2: j+j_filt//2+1 ]\n",
    "                    # print()\n",
    "                    new_mat[idx, i-i_filt//2,j-j_filt//2] =  (s.float()@torch.transpose(filter_mat.float(), 0, 1)).sum()/(filter_mat.shape[0]*filter_mat.shape[1])\n",
    "                    \n",
    "    return new_mat/torch.max(new_mat)    "
   ]
  },
  {
   "cell_type": "code",
   "execution_count": 53,
   "id": "67333b41-efb5-42c1-af98-0a19569ee571",
   "metadata": {},
   "outputs": [
    {
     "data": {
      "text/plain": [
       "tensor([[[0.6667, 1.0000, 1.0000, 1.0000, 1.0000, 1.0000, 1.0000, 1.0000,\n",
       "          1.0000, 1.0000, 1.0000, 1.0000, 1.0000, 1.0000, 1.0000, 0.6667],\n",
       "         [0.6667, 1.0000, 1.0000, 1.0000, 1.0000, 1.0000, 1.0000, 1.0000,\n",
       "          1.0000, 1.0000, 1.0000, 1.0000, 1.0000, 1.0000, 1.0000, 0.6667],\n",
       "         [0.3333, 0.5000, 0.5000, 0.5000, 0.5000, 0.5000, 0.5000, 0.5000,\n",
       "          0.5000, 0.5000, 0.5000, 0.5000, 0.5000, 0.5000, 0.5000, 0.3333],\n",
       "         [0.0000, 0.0000, 0.0000, 0.0000, 0.0000, 0.0000, 0.0000, 0.0000,\n",
       "          0.0000, 0.0000, 0.0000, 0.0000, 0.0000, 0.0000, 0.0000, 0.0000],\n",
       "         [0.0000, 0.0000, 0.0000, 0.0000, 0.0000, 0.0000, 0.0000, 0.0000,\n",
       "          0.0000, 0.0000, 0.0000, 0.0000, 0.0000, 0.0000, 0.0000, 0.0000],\n",
       "         [0.0000, 0.0000, 0.0000, 0.0000, 0.0000, 0.0000, 0.0000, 0.0000,\n",
       "          0.0000, 0.0000, 0.0000, 0.0000, 0.0000, 0.0000, 0.0000, 0.0000],\n",
       "         [0.0000, 0.0000, 0.0000, 0.0000, 0.0000, 0.0000, 0.0000, 0.0000,\n",
       "          0.0000, 0.0000, 0.0000, 0.0000, 0.0000, 0.0000, 0.0000, 0.0000],\n",
       "         [0.0000, 0.0000, 0.0000, 0.0000, 0.0000, 0.0000, 0.0000, 0.0000,\n",
       "          0.0000, 0.0000, 0.0000, 0.0000, 0.0000, 0.0000, 0.0000, 0.0000],\n",
       "         [0.0000, 0.0000, 0.0000, 0.0000, 0.0000, 0.0000, 0.0000, 0.0000,\n",
       "          0.0000, 0.0000, 0.0000, 0.0000, 0.0000, 0.0000, 0.0000, 0.0000],\n",
       "         [0.0000, 0.0000, 0.0000, 0.0000, 0.0000, 0.0000, 0.0000, 0.0000,\n",
       "          0.0000, 0.0000, 0.0000, 0.0000, 0.0000, 0.0000, 0.0000, 0.0000],\n",
       "         [0.0000, 0.0000, 0.0000, 0.0000, 0.0000, 0.0000, 0.0000, 0.0000,\n",
       "          0.0000, 0.0000, 0.0000, 0.0000, 0.0000, 0.0000, 0.0000, 0.0000],\n",
       "         [0.0000, 0.0000, 0.0000, 0.0000, 0.0000, 0.0000, 0.0000, 0.0000,\n",
       "          0.0000, 0.0000, 0.0000, 0.0000, 0.0000, 0.0000, 0.0000, 0.0000],\n",
       "         [0.0000, 0.0000, 0.0000, 0.0000, 0.0000, 0.0000, 0.0000, 0.0000,\n",
       "          0.0000, 0.0000, 0.0000, 0.0000, 0.0000, 0.0000, 0.0000, 0.0000],\n",
       "         [0.0000, 0.0000, 0.0000, 0.0000, 0.0000, 0.0000, 0.0000, 0.0000,\n",
       "          0.0000, 0.0000, 0.0000, 0.0000, 0.0000, 0.0000, 0.0000, 0.0000],\n",
       "         [0.0000, 0.0000, 0.0000, 0.0000, 0.0000, 0.0000, 0.0000, 0.0000,\n",
       "          0.0000, 0.0000, 0.0000, 0.0000, 0.0000, 0.0000, 0.0000, 0.0000],\n",
       "         [0.0000, 0.0000, 0.0000, 0.0000, 0.0000, 0.0000, 0.0000, 0.0000,\n",
       "          0.0000, 0.0000, 0.0000, 0.0000, 0.0000, 0.0000, 0.0000, 0.0000]]])"
      ]
     },
     "execution_count": 53,
     "metadata": {},
     "output_type": "execute_result"
    }
   ],
   "source": [
    "a =  torch.randint(1,2, (3,3))\n",
    "conv(features[0], a)"
   ]
  },
  {
   "cell_type": "code",
   "execution_count": null,
   "id": "b2a89165-6cba-4658-b028-a7ef77b89a9e",
   "metadata": {},
   "outputs": [],
   "source": []
  },
  {
   "cell_type": "code",
   "execution_count": null,
   "id": "5b0b0dcf-7888-4a2a-a134-ea3b4741d99e",
   "metadata": {},
   "outputs": [],
   "source": []
  },
  {
   "cell_type": "code",
   "execution_count": 54,
   "id": "b9ffe6a1-2c85-4b4f-afdf-ba070039d702",
   "metadata": {},
   "outputs": [
    {
     "data": {
      "text/plain": [
       "<matplotlib.image.AxesImage at 0x7f9f53befc10>"
      ]
     },
     "execution_count": 54,
     "metadata": {},
     "output_type": "execute_result"
    },
    {
     "data": {
      "image/png": "[encoded data removed]",
      "text/plain": [
       "<Figure size 432x288 with 1 Axes>"
      ]
     },
     "metadata": {
      "needs_background": "light"
     },
     "output_type": "display_data"
    }
   ],
   "source": [
    "a = torch.randint(1, 3, (3, 3))\n",
    "conv(features[0], a)\n",
    "plt.imshow(conv(features[0], a)[0],cmap='Greys', interpolation='none')"
   ]
  },
  {
   "cell_type": "code",
   "execution_count": 55,
   "id": "237d4511-e404-461d-9c7f-40ae9cde8a51",
   "metadata": {},
   "outputs": [
    {
     "data": {
      "text/plain": [
       "<matplotlib.image.AxesImage at 0x7f9f53ec2a00>"
      ]
     },
     "execution_count": 55,
     "metadata": {},
     "output_type": "execute_result"
    },
    {
     "data": {
      "image/png": "[encoded data removed]",
      "text/plain": [
       "<Figure size 432x288 with 1 Axes>"
      ]
     },
     "metadata": {
      "needs_background": "light"
     },
     "output_type": "display_data"
    }
   ],
   "source": [
    "plt.imshow(features[0],cmap='Greys', interpolation='none')\n"
   ]
  },
  {
   "cell_type": "code",
   "execution_count": 56,
   "id": "02a2c28d-7f54-4fa2-b599-ea08daac8c88",
   "metadata": {},
   "outputs": [
    {
     "data": {
      "text/plain": [
       "tensor([[[0.6429, 1.0000, 1.0000, 1.0000, 1.0000, 1.0000, 1.0000, 1.0000,\n",
       "          1.0000, 1.0000, 1.0000, 1.0000, 1.0000, 1.0000, 1.0000, 0.7143],\n",
       "         [0.6429, 1.0000, 1.0000, 1.0000, 1.0000, 1.0000, 1.0000, 1.0000,\n",
       "          1.0000, 1.0000, 1.0000, 1.0000, 1.0000, 1.0000, 1.0000, 0.7143],\n",
       "         [0.3214, 0.5000, 0.5000, 0.5000, 0.5000, 0.5000, 0.5000, 0.5000,\n",
       "          0.5000, 0.5000, 0.5000, 0.5000, 0.5000, 0.5000, 0.5000, 0.3571],\n",
       "         [0.0000, 0.0000, 0.0000, 0.0000, 0.0000, 0.0000, 0.0000, 0.0000,\n",
       "          0.0000, 0.0000, 0.0000, 0.0000, 0.0000, 0.0000, 0.0000, 0.0000],\n",
       "         [0.0000, 0.0000, 0.0000, 0.0000, 0.0000, 0.0000, 0.0000, 0.0000,\n",
       "          0.0000, 0.0000, 0.0000, 0.0000, 0.0000, 0.0000, 0.0000, 0.0000],\n",
       "         [0.0000, 0.0000, 0.0000, 0.0000, 0.0000, 0.0000, 0.0000, 0.0000,\n",
       "          0.0000, 0.0000, 0.0000, 0.0000, 0.0000, 0.0000, 0.0000, 0.0000],\n",
       "         [0.0000, 0.0000, 0.0000, 0.0000, 0.0000, 0.0000, 0.0000, 0.0000,\n",
       "          0.0000, 0.0000, 0.0000, 0.0000, 0.0000, 0.0000, 0.0000, 0.0000],\n",
       "         [0.0000, 0.0000, 0.0000, 0.0000, 0.0000, 0.0000, 0.0000, 0.0000,\n",
       "          0.0000, 0.0000, 0.0000, 0.0000, 0.0000, 0.0000, 0.0000, 0.0000],\n",
       "         [0.0000, 0.0000, 0.0000, 0.0000, 0.0000, 0.0000, 0.0000, 0.0000,\n",
       "          0.0000, 0.0000, 0.0000, 0.0000, 0.0000, 0.0000, 0.0000, 0.0000],\n",
       "         [0.0000, 0.0000, 0.0000, 0.0000, 0.0000, 0.0000, 0.0000, 0.0000,\n",
       "          0.0000, 0.0000, 0.0000, 0.0000, 0.0000, 0.0000, 0.0000, 0.0000],\n",
       "         [0.0000, 0.0000, 0.0000, 0.0000, 0.0000, 0.0000, 0.0000, 0.0000,\n",
       "          0.0000, 0.0000, 0.0000, 0.0000, 0.0000, 0.0000, 0.0000, 0.0000],\n",
       "         [0.0000, 0.0000, 0.0000, 0.0000, 0.0000, 0.0000, 0.0000, 0.0000,\n",
       "          0.0000, 0.0000, 0.0000, 0.0000, 0.0000, 0.0000, 0.0000, 0.0000],\n",
       "         [0.0000, 0.0000, 0.0000, 0.0000, 0.0000, 0.0000, 0.0000, 0.0000,\n",
       "          0.0000, 0.0000, 0.0000, 0.0000, 0.0000, 0.0000, 0.0000, 0.0000],\n",
       "         [0.0000, 0.0000, 0.0000, 0.0000, 0.0000, 0.0000, 0.0000, 0.0000,\n",
       "          0.0000, 0.0000, 0.0000, 0.0000, 0.0000, 0.0000, 0.0000, 0.0000],\n",
       "         [0.0000, 0.0000, 0.0000, 0.0000, 0.0000, 0.0000, 0.0000, 0.0000,\n",
       "          0.0000, 0.0000, 0.0000, 0.0000, 0.0000, 0.0000, 0.0000, 0.0000],\n",
       "         [0.0000, 0.0000, 0.0000, 0.0000, 0.0000, 0.0000, 0.0000, 0.0000,\n",
       "          0.0000, 0.0000, 0.0000, 0.0000, 0.0000, 0.0000, 0.0000, 0.0000]]])"
      ]
     },
     "execution_count": 56,
     "metadata": {},
     "output_type": "execute_result"
    }
   ],
   "source": [
    "conv(features[25], a)"
   ]
  },
  {
   "cell_type": "code",
   "execution_count": 57,
   "id": "2f255dde",
   "metadata": {},
   "outputs": [
    {
     "data": {
      "text/plain": [
       "tensor([[1., 1., 1., 1., 1., 1., 1., 1., 1., 1., 1., 1., 1., 1., 1., 1.],\n",
       "        [1., 1., 1., 1., 1., 1., 1., 1., 1., 1., 1., 1., 1., 1., 1., 1.],\n",
       "        [0., 0., 0., 0., 0., 0., 0., 0., 0., 0., 0., 0., 0., 0., 0., 0.],\n",
       "        [0., 0., 0., 0., 0., 0., 0., 0., 0., 0., 0., 0., 0., 0., 0., 0.],\n",
       "        [0., 0., 0., 0., 0., 0., 0., 0., 0., 0., 0., 0., 0., 0., 0., 0.],\n",
       "        [0., 0., 0., 0., 0., 0., 0., 0., 0., 0., 0., 0., 0., 0., 0., 0.],\n",
       "        [0., 0., 0., 0., 0., 0., 0., 0., 0., 0., 0., 0., 0., 0., 0., 0.],\n",
       "        [0., 0., 0., 0., 0., 0., 0., 0., 0., 0., 0., 0., 0., 0., 0., 0.],\n",
       "        [0., 0., 0., 0., 0., 0., 0., 0., 0., 0., 0., 0., 0., 0., 0., 0.],\n",
       "        [0., 0., 0., 0., 0., 0., 0., 0., 0., 0., 0., 0., 0., 0., 0., 0.],\n",
       "        [0., 0., 0., 0., 0., 0., 0., 0., 0., 0., 0., 0., 0., 0., 0., 0.],\n",
       "        [0., 0., 0., 0., 0., 0., 0., 0., 0., 0., 0., 0., 0., 0., 0., 0.],\n",
       "        [0., 0., 0., 0., 0., 0., 0., 0., 0., 0., 0., 0., 0., 0., 0., 0.],\n",
       "        [0., 0., 0., 0., 0., 0., 0., 0., 0., 0., 0., 0., 0., 0., 0., 0.],\n",
       "        [0., 0., 0., 0., 0., 0., 0., 0., 0., 0., 0., 0., 0., 0., 0., 0.],\n",
       "        [0., 0., 0., 0., 0., 0., 0., 0., 0., 0., 0., 0., 0., 0., 0., 0.]],\n",
       "       dtype=torch.float64)"
      ]
     },
     "execution_count": 57,
     "metadata": {},
     "output_type": "execute_result"
    }
   ],
   "source": [
    "features[0]"
   ]
  },
  {
   "cell_type": "code",
   "execution_count": 58,
   "id": "c5e82cfe-3164-40ce-a6bc-60561cb870d2",
   "metadata": {},
   "outputs": [],
   "source": [
    "# filter_ = torch.randint(3, 10, (3, 3))\n",
    "# conv(features[0], filter_)"
   ]
  },
  {
   "cell_type": "code",
   "execution_count": null,
   "id": "716cc597-546f-42e5-b090-71999f648735",
   "metadata": {},
   "outputs": [],
   "source": []
  },
  {
   "cell_type": "code",
   "execution_count": 59,
   "id": "eb8bde4e-0aa2-4176-9d4b-1b9473e2923c",
   "metadata": {},
   "outputs": [],
   "source": [
    " # torch.randint(3, 10, (3, 3))"
   ]
  },
  {
   "cell_type": "code",
   "execution_count": null,
   "id": "4633cd85-e8c1-46da-9f21-9b87dcd9af6c",
   "metadata": {},
   "outputs": [],
   "source": []
  },
  {
   "cell_type": "code",
   "execution_count": 60,
   "id": "7b274c66-76b7-4b63-ad77-9194d6e03400",
   "metadata": {},
   "outputs": [
    {
     "data": {
      "text/plain": [
       "<matplotlib.image.AxesImage at 0x7f9f53f25c70>"
      ]
     },
     "execution_count": 60,
     "metadata": {},
     "output_type": "execute_result"
    },
    {
     "data": {
      "image/png": "[encoded data removed]",
      "text/plain": [
       "<Figure size 432x288 with 1 Axes>"
      ]
     },
     "metadata": {
      "needs_background": "light"
     },
     "output_type": "display_data"
    }
   ],
   "source": [
    "plt.imshow(features[0],cmap='Greys', interpolation='none')\n",
    "# plt.axis('off');"
   ]
  },
  {
   "cell_type": "code",
   "execution_count": 61,
   "id": "b148b06f-7fbc-424e-a67d-cbcdb8a5a061",
   "metadata": {},
   "outputs": [
    {
     "data": {
      "text/plain": [
       "torch.Size([16, 16])"
      ]
     },
     "execution_count": 61,
     "metadata": {},
     "output_type": "execute_result"
    }
   ],
   "source": [
    "features[0] .shape"
   ]
  },
  {
   "cell_type": "code",
   "execution_count": null,
   "id": "08bd8986",
   "metadata": {},
   "outputs": [],
   "source": []
  },
  {
   "cell_type": "code",
   "execution_count": null,
   "id": "58c3c560-acc4-4444-8557-ad950f7870b7",
   "metadata": {},
   "outputs": [],
   "source": []
  },
  {
   "cell_type": "code",
   "execution_count": null,
   "id": "6d24b5ef-06c1-4713-a577-419f49f2fea9",
   "metadata": {},
   "outputs": [],
   "source": []
  },
  {
   "cell_type": "code",
   "execution_count": 62,
   "id": "8bcfbf10-862a-422b-8c77-ef99c5be945f",
   "metadata": {},
   "outputs": [],
   "source": [
    "temp_features = features"
   ]
  },
  {
   "cell_type": "code",
   "execution_count": 63,
   "id": "5f35e184-58b5-4921-b5e3-49199d67f5b7",
   "metadata": {},
   "outputs": [],
   "source": [
    "# apply conv filter on all dataset\n",
    "# it lets you do average-pooling on data\n",
    "filter_ = torch.randint(1, 5, (5, 5))\n",
    "features = conv(features, filter_)\n",
    "\n",
    "# plt.imshow(conv(features[0], a)[0],cmap='Greys', interpolation='none')"
   ]
  },
  {
   "cell_type": "code",
   "execution_count": 64,
   "id": "d8e40225-8bac-4cd2-a4c2-f5bf1ea7e60a",
   "metadata": {},
   "outputs": [
    {
     "data": {
      "text/plain": [
       "tensor([[3, 3, 4],\n",
       "        [3, 2, 4],\n",
       "        [1, 2, 4]])"
      ]
     },
     "execution_count": 64,
     "metadata": {},
     "output_type": "execute_result"
    }
   ],
   "source": [
    "torch.randint(1, 5, (3, 3))"
   ]
  },
  {
   "cell_type": "code",
   "execution_count": 65,
   "id": "4d8ee35b",
   "metadata": {},
   "outputs": [],
   "source": [
    "# temp_features = features"
   ]
  },
  {
   "cell_type": "code",
   "execution_count": 66,
   "id": "288b9239",
   "metadata": {},
   "outputs": [
    {
     "data": {
      "text/plain": [
       "torch.Size([1024, 16, 16])"
      ]
     },
     "execution_count": 66,
     "metadata": {},
     "output_type": "execute_result"
    }
   ],
   "source": [
    "temp_features.shape"
   ]
  },
  {
   "cell_type": "code",
   "execution_count": 67,
   "id": "71465557",
   "metadata": {},
   "outputs": [
    {
     "data": {
      "text/plain": [
       "tensor([[0.4522, 0.5913, 0.8522, 0.8522, 0.8522, 0.8522, 0.8522, 0.8522, 0.8522,\n",
       "         0.8522, 0.8522, 0.8522, 0.8522, 0.8522, 0.6609, 0.5391],\n",
       "        [0.4522, 0.5913, 0.8522, 0.8522, 0.8522, 0.8522, 0.8522, 0.8522, 0.8522,\n",
       "         0.8522, 0.8522, 0.8522, 0.8522, 0.8522, 0.6609, 0.5391],\n",
       "        [0.4522, 0.5913, 0.8522, 0.8522, 0.8522, 0.8522, 0.8522, 0.8522, 0.8522,\n",
       "         0.8522, 0.8522, 0.8522, 0.8522, 0.8522, 0.6609, 0.5391],\n",
       "        [0.2261, 0.2957, 0.4261, 0.4261, 0.4261, 0.4261, 0.4261, 0.4261, 0.4261,\n",
       "         0.4261, 0.4261, 0.4261, 0.4261, 0.4261, 0.3304, 0.2696],\n",
       "        [0.0000, 0.0000, 0.0000, 0.0000, 0.0000, 0.0000, 0.0000, 0.0000, 0.0000,\n",
       "         0.0000, 0.0000, 0.0000, 0.0000, 0.0000, 0.0000, 0.0000],\n",
       "        [0.0000, 0.0000, 0.0000, 0.0000, 0.0000, 0.0000, 0.0000, 0.0000, 0.0000,\n",
       "         0.0000, 0.0000, 0.0000, 0.0000, 0.0000, 0.0000, 0.0000],\n",
       "        [0.0000, 0.0000, 0.0000, 0.0000, 0.0000, 0.0000, 0.0000, 0.0000, 0.0000,\n",
       "         0.0000, 0.0000, 0.0000, 0.0000, 0.0000, 0.0000, 0.0000],\n",
       "        [0.0000, 0.0000, 0.0000, 0.0000, 0.0000, 0.0000, 0.0000, 0.0000, 0.0000,\n",
       "         0.0000, 0.0000, 0.0000, 0.0000, 0.0000, 0.0000, 0.0000],\n",
       "        [0.0000, 0.0000, 0.0000, 0.0000, 0.0000, 0.0000, 0.0000, 0.0000, 0.0000,\n",
       "         0.0000, 0.0000, 0.0000, 0.0000, 0.0000, 0.0000, 0.0000],\n",
       "        [0.0000, 0.0000, 0.0000, 0.0000, 0.0000, 0.0000, 0.0000, 0.0000, 0.0000,\n",
       "         0.0000, 0.0000, 0.0000, 0.0000, 0.0000, 0.0000, 0.0000],\n",
       "        [0.0000, 0.0000, 0.0000, 0.0000, 0.0000, 0.0000, 0.0000, 0.0000, 0.0000,\n",
       "         0.0000, 0.0000, 0.0000, 0.0000, 0.0000, 0.0000, 0.0000],\n",
       "        [0.0000, 0.0000, 0.0000, 0.0000, 0.0000, 0.0000, 0.0000, 0.0000, 0.0000,\n",
       "         0.0000, 0.0000, 0.0000, 0.0000, 0.0000, 0.0000, 0.0000],\n",
       "        [0.0000, 0.0000, 0.0000, 0.0000, 0.0000, 0.0000, 0.0000, 0.0000, 0.0000,\n",
       "         0.0000, 0.0000, 0.0000, 0.0000, 0.0000, 0.0000, 0.0000],\n",
       "        [0.0000, 0.0000, 0.0000, 0.0000, 0.0000, 0.0000, 0.0000, 0.0000, 0.0000,\n",
       "         0.0000, 0.0000, 0.0000, 0.0000, 0.0000, 0.0000, 0.0000],\n",
       "        [0.0000, 0.0000, 0.0000, 0.0000, 0.0000, 0.0000, 0.0000, 0.0000, 0.0000,\n",
       "         0.0000, 0.0000, 0.0000, 0.0000, 0.0000, 0.0000, 0.0000],\n",
       "        [0.0000, 0.0000, 0.0000, 0.0000, 0.0000, 0.0000, 0.0000, 0.0000, 0.0000,\n",
       "         0.0000, 0.0000, 0.0000, 0.0000, 0.0000, 0.0000, 0.0000]])"
      ]
     },
     "execution_count": 67,
     "metadata": {},
     "output_type": "execute_result"
    }
   ],
   "source": [
    "features[0]"
   ]
  },
  {
   "cell_type": "code",
   "execution_count": 68,
   "id": "f738ccce",
   "metadata": {},
   "outputs": [
    {
     "data": {
      "text/plain": [
       "2"
      ]
     },
     "execution_count": 68,
     "metadata": {},
     "output_type": "execute_result"
    }
   ],
   "source": [
    "code.shape[1]"
   ]
  },
  {
   "cell_type": "code",
   "execution_count": 69,
   "id": "1e5ba700",
   "metadata": {},
   "outputs": [],
   "source": [
    "features = torch.zeros(temp_features.shape[0]*temp_features.shape[1]* temp_features.shape[2], 2+code.shape[1])\n",
    "labels = torch.zeros(temp_features.shape[0]*temp_features.shape[1]* temp_features.shape[2])"
   ]
  },
  {
   "cell_type": "code",
   "execution_count": 70,
   "id": "aa807546",
   "metadata": {},
   "outputs": [
    {
     "data": {
      "text/plain": [
       "torch.Size([262144, 4])"
      ]
     },
     "execution_count": 70,
     "metadata": {},
     "output_type": "execute_result"
    }
   ],
   "source": [
    "features.shape"
   ]
  },
  {
   "cell_type": "code",
   "execution_count": 71,
   "id": "2130100e",
   "metadata": {},
   "outputs": [
    {
     "data": {
      "text/plain": [
       "tensor([1, 2, 3, 1, 2, 3])"
      ]
     },
     "execution_count": 71,
     "metadata": {},
     "output_type": "execute_result"
    }
   ],
   "source": [
    "# how cat function works?\n",
    "x = torch.tensor([1,2,3])\n",
    "torch.cat((x, x), axis=0)"
   ]
  },
  {
   "cell_type": "code",
   "execution_count": 72,
   "id": "4d7029d8",
   "metadata": {},
   "outputs": [
    {
     "data": {
      "text/plain": [
       "16"
      ]
     },
     "execution_count": 72,
     "metadata": {},
     "output_type": "execute_result"
    }
   ],
   "source": [
    "(temp_features.shape[1])"
   ]
  },
  {
   "cell_type": "code",
   "execution_count": 73,
   "id": "149f5f5b",
   "metadata": {},
   "outputs": [
    {
     "name": "stderr",
     "output_type": "stream",
     "text": [
      "<ipython-input-73-ed4df0383927>:6: UserWarning: To copy construct from a tensor, it is recommended to use sourceTensor.clone().detach() or sourceTensor.clone().detach().requires_grad_(True), rather than torch.tensor(sourceTensor).\n",
      "  features[count] = torch.cat((torch.tensor([j,k])/temp_features.shape[1],  torch.tensor(code[i])), axis=0)\n"
     ]
    }
   ],
   "source": [
    "#  building data set: first I needed to put all the cooridates (x, y) of pixels in rows of data set and add colums for its codes\n",
    "count = 0 \n",
    "for i in range(temp_features.shape[0]):\n",
    "    for j in range(temp_features.shape[1]):\n",
    "        for k in range(temp_features.shape[2]):\n",
    "            features[count] = torch.cat((torch.tensor([j,k])/temp_features.shape[1],  torch.tensor(code[i])), axis=0)\n",
    "            labels[count] = temp_features[i][j][k]\n",
    "            count += 1\n",
    "#             print(temp_features[i])\n"
   ]
  },
  {
   "cell_type": "code",
   "execution_count": 74,
   "id": "7c77de81",
   "metadata": {},
   "outputs": [
    {
     "data": {
      "text/plain": [
       "(torch.Size([262144, 4]), torch.Size([262144]))"
      ]
     },
     "execution_count": 74,
     "metadata": {},
     "output_type": "execute_result"
    }
   ],
   "source": [
    "features.shape, labels.shape"
   ]
  },
  {
   "cell_type": "code",
   "execution_count": 75,
   "id": "9b2f39a5",
   "metadata": {},
   "outputs": [
    {
     "data": {
      "text/plain": [
       "(tensor([0.1250, 0.5625, 0.5000, 0.0625]), tensor(0.))"
      ]
     },
     "execution_count": 75,
     "metadata": {},
     "output_type": "execute_result"
    }
   ],
   "source": [
    "features[1065], labels[1065]"
   ]
  },
  {
   "cell_type": "code",
   "execution_count": 76,
   "id": "a78aa3e4",
   "metadata": {},
   "outputs": [],
   "source": [
    "# for feature in features:\n",
    "#     print(feature)\n",
    "    \n"
   ]
  },
  {
   "cell_type": "code",
   "execution_count": 77,
   "id": "e3563c91",
   "metadata": {},
   "outputs": [],
   "source": [
    "# labels[1450]"
   ]
  },
  {
   "cell_type": "code",
   "execution_count": null,
   "id": "ff89751d",
   "metadata": {},
   "outputs": [],
   "source": []
  },
  {
   "cell_type": "code",
   "execution_count": 78,
   "id": "3819c283",
   "metadata": {},
   "outputs": [],
   "source": [
    "# from itertools import permutations\n",
    "# for i,j, k  in permutations(range(0, 3)):\n",
    "#     print(i,j,k)"
   ]
  },
  {
   "cell_type": "code",
   "execution_count": 79,
   "id": "3e576811",
   "metadata": {},
   "outputs": [],
   "source": [
    "# m = nn.LogSoftmax(dim=1)\n"
   ]
  },
  {
   "cell_type": "code",
   "execution_count": null,
   "id": "0027dabe-fc7d-4645-961e-8ad3ae7413c6",
   "metadata": {},
   "outputs": [],
   "source": []
  },
  {
   "cell_type": "code",
   "execution_count": null,
   "id": "35ba5e16-1620-4480-95ee-db87c95fcca1",
   "metadata": {},
   "outputs": [],
   "source": []
  },
  {
   "cell_type": "code",
   "execution_count": 80,
   "id": "e18b879c",
   "metadata": {},
   "outputs": [],
   "source": [
    "input_dim = 2  # x, y poisitons of one pixel\n",
    "hidden_dim = 40 # this one is so decisive"
   ]
  },
  {
   "cell_type": "code",
   "execution_count": null,
   "id": "9aa20142-b323-4911-9151-ab901792825f",
   "metadata": {},
   "outputs": [],
   "source": []
  },
  {
   "cell_type": "code",
   "execution_count": 81,
   "id": "014d6032",
   "metadata": {},
   "outputs": [],
   "source": [
    "# defining dropout_layer\n",
    "def dropout_layer(X, dropout):\n",
    "    assert 0 <= dropout <= 1\n",
    "    # In this case, all elements are dropped out\n",
    "    if dropout == 1:\n",
    "        return torch.zeros_like(X)\n",
    "    # In this case, all elements are kept\n",
    "    if dropout == 0:\n",
    "        return X\n",
    "    mask = (torch.rand(X.shape) > dropout).float()\n",
    "    return mask * X / (1.0 - dropout)"
   ]
  },
  {
   "cell_type": "code",
   "execution_count": null,
   "id": "e18ce418",
   "metadata": {},
   "outputs": [],
   "source": []
  },
  {
   "cell_type": "code",
   "execution_count": 82,
   "id": "978facae",
   "metadata": {},
   "outputs": [],
   "source": [
    "class Model(nn.Module):\n",
    "    def __init__(self):\n",
    "        super(Model, self).__init__()\n",
    "        is_training = True\n",
    "#         self.func1 = nn.Linear(input_dim + code.shape[1], hidden_dim)\n",
    "        self.func1 = nn.Linear(input_dim + 2, hidden_dim)\n",
    "\n",
    "        self.func2 = nn.Linear(hidden_dim, hidden_dim)\n",
    "        self.func3 = nn.Linear(hidden_dim, hidden_dim)\n",
    "        self.func4 = nn.Linear(hidden_dim, hidden_dim)\n",
    "        self.func5 = nn.Linear(hidden_dim, 1)\n",
    "        \n",
    "        self.outp = nn.ReLU()\n",
    "        \n",
    "                \n",
    "                \n",
    "    def forward(self, x):\n",
    "#         z = torch.cat((x, code_), axis=0)\n",
    "        z = nn.functional.relu(self.func1(x.float()))\n",
    "#         return self.outp(self.func5(z))\n",
    "            # Use dropout only when training the model\n",
    "        if self.training == True:\n",
    "            # Add a dropout layer after the first fully connected layer\n",
    "            z = dropout_layer(z, dropout=0.080)\n",
    "#         return self.outp(self.func5(z))    \n",
    "        z = nn.functional.relu(self.func2(z.float()))\n",
    "        \n",
    "        if self.training == True:\n",
    "            # Add a dropout layer after the first fully connected layer\n",
    "            z = dropout_layer(z, dropout=0.10)\n",
    "        \n",
    "        z = nn.functional.relu(self.func3(z))\n",
    "        \n",
    "        if self.training == True:\n",
    "            # Add a dropout layer after the first fully connected layer\n",
    "            z = dropout_layer(z, dropout=0.10)\n",
    "        \n",
    "        z = nn.functional.relu(self.func4(z))\n",
    "        \n",
    "        if self.training == True:\n",
    "            # Add a dropout layer after the first fully connected layer\n",
    "            z = dropout_layer(z, dropout=0.10)\n",
    "        \n",
    "        z = self.func5(z)\n",
    "#         z = self.func5(z)\n",
    "        \n",
    "        \n",
    "        return self.outp(z)"
   ]
  },
  {
   "cell_type": "code",
   "execution_count": 83,
   "id": "8ca4771f",
   "metadata": {},
   "outputs": [],
   "source": [
    "model = Model()"
   ]
  },
  {
   "cell_type": "code",
   "execution_count": null,
   "id": "10cbeda5",
   "metadata": {},
   "outputs": [],
   "source": []
  },
  {
   "cell_type": "code",
   "execution_count": 84,
   "id": "71388c8e",
   "metadata": {},
   "outputs": [],
   "source": [
    "a = torch.tensor([1,2,3, 4])\n",
    "b = torch.tensor([1,2,3])"
   ]
  },
  {
   "cell_type": "code",
   "execution_count": 85,
   "id": "5287d4be",
   "metadata": {},
   "outputs": [
    {
     "data": {
      "text/plain": [
       "tensor([0.5000, 0.0625])"
      ]
     },
     "execution_count": 85,
     "metadata": {},
     "output_type": "execute_result"
    }
   ],
   "source": [
    "code[0]"
   ]
  },
  {
   "cell_type": "code",
   "execution_count": 86,
   "id": "7a290b59",
   "metadata": {},
   "outputs": [],
   "source": [
    "# features[1250]"
   ]
  },
  {
   "cell_type": "code",
   "execution_count": 87,
   "id": "884a5beb",
   "metadata": {},
   "outputs": [
    {
     "data": {
      "text/plain": [
       "tensor([0.0676], grad_fn=<ReluBackward0>)"
      ]
     },
     "execution_count": 87,
     "metadata": {},
     "output_type": "execute_result"
    }
   ],
   "source": [
    "model(features[1])"
   ]
  },
  {
   "cell_type": "code",
   "execution_count": 88,
   "id": "6076a80d",
   "metadata": {},
   "outputs": [
    {
     "data": {
      "text/plain": [
       "tensor([1, 2, 3, 4, 1, 2, 3])"
      ]
     },
     "execution_count": 88,
     "metadata": {},
     "output_type": "execute_result"
    }
   ],
   "source": [
    "torch.cat((a, b), axis=0)"
   ]
  },
  {
   "cell_type": "code",
   "execution_count": 89,
   "id": "ecebf1bf",
   "metadata": {},
   "outputs": [],
   "source": [
    "from torch.utils import data\n",
    "\n",
    "def load_array(data_arrays, batch_size, is_train=True): #@save\n",
    "    \"\"\"Construct a PyTorch data iterator.\"\"\"\n",
    "    dataset = data.TensorDataset(*data_arrays)\n",
    "    return data.DataLoader(dataset, batch_size, shuffle=is_train)"
   ]
  },
  {
   "cell_type": "code",
   "execution_count": 90,
   "id": "b648b321",
   "metadata": {},
   "outputs": [],
   "source": [
    "# for i in range(features[0].shape[0]):\n",
    "#     for j in range(features[0].shape[1]):\n",
    "#         print(model(features[0][i][j]))"
   ]
  },
  {
   "cell_type": "code",
   "execution_count": 91,
   "id": "1017c76f",
   "metadata": {},
   "outputs": [
    {
     "name": "stdout",
     "output_type": "stream",
     "text": [
      "train size= torch.Size([209715, 4]), test size= torch.Size([52429, 4]), batch size= 52429\n",
      "train size= torch.Size([209715]), test size= torch.Size([52429]), batch size= 52429\n"
     ]
    }
   ],
   "source": [
    "train_x = features[:-features.shape[0]*20//100]\n",
    "test_x  = features[-features.shape[0]*20//100:]\n",
    "train_y = labels[:-labels.shape[0]*20//100]\n",
    "test_y  = labels[-labels.shape[0]*20//100:]\n",
    "\n",
    "batch_size = test_x.shape[0]\n",
    "\n",
    "print(f'train size= {train_x.shape}, test size= {test_x.shape}, batch size= {batch_size}')\n",
    "print(f'train size= {train_y.shape}, test size= {test_y.shape}, batch size= {batch_size}')\n",
    "train_loader = load_array((train_x, train_y), batch_size)\n",
    "test_loader  = load_array((test_x, test_y), batch_size)"
   ]
  },
  {
   "cell_type": "code",
   "execution_count": 92,
   "id": "9434e3d0",
   "metadata": {},
   "outputs": [
    {
     "data": {
      "text/plain": [
       "<generator object Module.parameters at 0x7f9f53bc0a50>"
      ]
     },
     "execution_count": 92,
     "metadata": {},
     "output_type": "execute_result"
    }
   ],
   "source": [
    "model.parameters()"
   ]
  },
  {
   "cell_type": "code",
   "execution_count": null,
   "id": "d1e21d94",
   "metadata": {},
   "outputs": [],
   "source": []
  },
  {
   "cell_type": "code",
   "execution_count": 93,
   "id": "9a975063",
   "metadata": {},
   "outputs": [],
   "source": [
    "# hyperparameters\n",
    "\n",
    "lr = 2e-2\n",
    "\n",
    "epochs = 300\n",
    "DEVICE = 'cpu'\n",
    "print_step = 50"
   ]
  },
  {
   "cell_type": "code",
   "execution_count": null,
   "id": "efd46e82",
   "metadata": {},
   "outputs": [],
   "source": []
  },
  {
   "cell_type": "code",
   "execution_count": null,
   "id": "c2577a9e",
   "metadata": {},
   "outputs": [],
   "source": []
  },
  {
   "cell_type": "code",
   "execution_count": 94,
   "id": "32ecc351",
   "metadata": {},
   "outputs": [],
   "source": [
    "# features[:-20].shape, features[-20:].shape"
   ]
  },
  {
   "cell_type": "code",
   "execution_count": 95,
   "id": "ad9a5f42",
   "metadata": {},
   "outputs": [
    {
     "data": {
      "text/plain": [
       "52428"
      ]
     },
     "execution_count": 95,
     "metadata": {},
     "output_type": "execute_result"
    }
   ],
   "source": [
    "# we want to allow only 20% of data for test and the rest on training data\n",
    "features.shape[0]*20//100"
   ]
  },
  {
   "cell_type": "code",
   "execution_count": null,
   "id": "db4828c9",
   "metadata": {},
   "outputs": [],
   "source": []
  },
  {
   "cell_type": "code",
   "execution_count": 96,
   "id": "2e371feb",
   "metadata": {},
   "outputs": [],
   "source": [
    "# 80% for traning test, and 20% for test\n"
   ]
  },
  {
   "cell_type": "code",
   "execution_count": 97,
   "id": "03280d1f",
   "metadata": {},
   "outputs": [
    {
     "data": {
      "text/plain": [
       "(torch.Size([209715, 4]), torch.Size([52429, 4]))"
      ]
     },
     "execution_count": 97,
     "metadata": {},
     "output_type": "execute_result"
    }
   ],
   "source": [
    "train_x.shape, test_x.shape"
   ]
  },
  {
   "cell_type": "code",
   "execution_count": null,
   "id": "f398357e",
   "metadata": {},
   "outputs": [],
   "source": []
  },
  {
   "cell_type": "code",
   "execution_count": null,
   "id": "d3d505fb",
   "metadata": {},
   "outputs": [],
   "source": []
  },
  {
   "cell_type": "markdown",
   "id": "1a012aa7",
   "metadata": {},
   "source": [
    "# Defining loss function"
   ]
  },
  {
   "cell_type": "code",
   "execution_count": 98,
   "id": "949572bb",
   "metadata": {},
   "outputs": [],
   "source": [
    "def clamp(a, b):\n",
    "#     a = torch.tensor(x)\n",
    "#     b = torch.tensor(delta)\n",
    "    return torch.min(b, torch.max(-b, a))"
   ]
  },
  {
   "cell_type": "code",
   "execution_count": 99,
   "id": "eb64a987",
   "metadata": {},
   "outputs": [
    {
     "data": {
      "text/plain": [
       "tensor([-1.0000,  1.2000,  1.2000,  1.2000])"
      ]
     },
     "execution_count": 99,
     "metadata": {},
     "output_type": "execute_result"
    }
   ],
   "source": [
    "a = torch.tensor([-1, 5, 1.2, 2])\n",
    "b = torch.tensor([1.2])\n",
    "clamp(a, b)"
   ]
  },
  {
   "cell_type": "code",
   "execution_count": 100,
   "id": "2c2ebfb1",
   "metadata": {},
   "outputs": [
    {
     "data": {
      "text/plain": [
       "tensor([1.2000, 5.0000, 1.2000, 2.0000])"
      ]
     },
     "execution_count": 100,
     "metadata": {},
     "output_type": "execute_result"
    }
   ],
   "source": [
    "torch.max(b, a)"
   ]
  },
  {
   "cell_type": "code",
   "execution_count": null,
   "id": "9ab9af4f",
   "metadata": {},
   "outputs": [],
   "source": []
  },
  {
   "cell_type": "markdown",
   "id": "6b855420",
   "metadata": {},
   "source": [
    "# Training"
   ]
  },
  {
   "cell_type": "code",
   "execution_count": 101,
   "id": "f3b0bca6",
   "metadata": {},
   "outputs": [],
   "source": [
    "optimizer = torch.optim.Adam(model.parameters(), lr=0.03)"
   ]
  },
  {
   "cell_type": "code",
   "execution_count": 102,
   "id": "3833a4f7",
   "metadata": {},
   "outputs": [],
   "source": [
    "# torch.randn(3, 5).softmax(dim=1), torch.randn(3, 5)"
   ]
  },
  {
   "cell_type": "code",
   "execution_count": 103,
   "id": "87caabee",
   "metadata": {},
   "outputs": [],
   "source": [
    "# loss = nn.CrossEntropyLoss(reduction='none')\n",
    "# def loss(y_hat, y):\n",
    "#     return (y_hat-y).sum()\n",
    "loss = nn.MSELoss()\n",
    "# loss = nn.CrossEntropyLoss()\n",
    "# loss = nn.BCEWithLogitsLoss()\n"
   ]
  },
  {
   "cell_type": "code",
   "execution_count": 104,
   "id": "c904c937",
   "metadata": {},
   "outputs": [],
   "source": [
    "# num_epochs = 30\n",
    "# for epoch in range(num_epochs):\n",
    "#     for X,Y in train_loader:\n",
    "#     #     print(X,Y)\n",
    "# #         x = X.T\n",
    "# #         y = Y\n",
    "#         print(X.shape,Y.shape, model(X.float()).shape)\n",
    "#         l = loss(model(X.float())[:,0], Y.float())\n",
    "#         optimizer.zero_grad()\n",
    "#         l.backward()\n",
    "#         optimizer.step() #optimizer\n",
    "# #     l = loss(model(x_truth.float()), y_truth.float())\n",
    "# #     print(f'epoch {epoch + 1}, loss {l:f}')"
   ]
  },
  {
   "cell_type": "code",
   "execution_count": 105,
   "id": "05ce2476",
   "metadata": {},
   "outputs": [
    {
     "data": {
      "text/plain": [
       "512"
      ]
     },
     "execution_count": 105,
     "metadata": {},
     "output_type": "execute_result"
    }
   ],
   "source": [
    "num_samples//2"
   ]
  },
  {
   "cell_type": "code",
   "execution_count": 107,
   "id": "3b6cbce4",
   "metadata": {},
   "outputs": [
    {
     "name": "stdout",
     "output_type": "stream",
     "text": [
      "Start training ...\n",
      "\tEpoch 1 complete! \tAverage Loss:  1.313341790201117e-06\n",
      "0.20657159015536308\n",
      "\tEpoch 2 complete! \tAverage Loss:  1.113562543466138e-06\n",
      "0.17514891177415848\n",
      "\tEpoch 3 complete! \tAverage Loss:  1.0400515645862735e-06\n",
      "0.1635865904390812\n",
      "\tEpoch 4 complete! \tAverage Loss:  1.0848517052959199e-06\n",
      "0.17063307017087936\n",
      "\tEpoch 5 complete! \tAverage Loss:  1.4086749690755906e-06\n",
      "0.22156625986099243\n",
      "\tEpoch 6 complete! \tAverage Loss:  1.1304617905803661e-06\n",
      "0.17780694365501404\n",
      "\tEpoch 7 complete! \tAverage Loss:  9.638423336451324e-07\n",
      "0.15159986913204193\n",
      "\tEpoch 8 complete! \tAverage Loss:  8.914447946695254e-07\n",
      "0.14021267741918564\n",
      "\tEpoch 9 complete! \tAverage Loss:  8.213517264731929e-07\n",
      "0.1291879490017891\n",
      "\tEpoch 10 complete! \tAverage Loss:  7.161114288147804e-07\n",
      "0.11263501830399036\n",
      "\tEpoch 11 complete! \tAverage Loss:  6.608072801729713e-07\n",
      "0.10393639467656612\n",
      "\tEpoch 12 complete! \tAverage Loss:  5.968762163954107e-07\n",
      "0.09388086944818497\n",
      "\tEpoch 13 complete! \tAverage Loss:  5.856140622562903e-07\n",
      "0.09210947901010513\n",
      "\tEpoch 14 complete! \tAverage Loss:  5.069334546839399e-07\n",
      "0.07973404228687286\n",
      "\tEpoch 15 complete! \tAverage Loss:  4.812181466792352e-07\n",
      "0.07568935863673687\n",
      "\tEpoch 16 complete! \tAverage Loss:  4.454192928023184e-07\n",
      "0.07005866430699825\n",
      "\tEpoch 17 complete! \tAverage Loss:  4.157130354260389e-07\n",
      "0.06538625620305538\n",
      "\tEpoch 18 complete! \tAverage Loss:  4.0619105894162814e-07\n",
      "0.06388857308775187\n",
      "\tEpoch 19 complete! \tAverage Loss:  3.80695852552083e-07\n",
      "0.05987850856035948\n",
      "\tEpoch 20 complete! \tAverage Loss:  3.5422187135656843e-07\n",
      "0.05571449548006058\n",
      "\tEpoch 21 complete! \tAverage Loss:  3.3963839260801675e-07\n",
      "0.05342070385813713\n",
      "\tEpoch 22 complete! \tAverage Loss:  3.533257086708698e-07\n",
      "0.0555735407397151\n"
     ]
    },
    {
     "ename": "KeyboardInterrupt",
     "evalue": "",
     "output_type": "error",
     "traceback": [
      "\u001b[0;31m---------------------------------------------------------------------------\u001b[0m",
      "\u001b[0;31mKeyboardInterrupt\u001b[0m                         Traceback (most recent call last)",
      "Input \u001b[0;32mIn [107]\u001b[0m, in \u001b[0;36m<cell line: 4>\u001b[0;34m()\u001b[0m\n\u001b[1;32m      4\u001b[0m \u001b[38;5;28;01mfor\u001b[39;00m epoch \u001b[38;5;129;01min\u001b[39;00m \u001b[38;5;28mrange\u001b[39m(\u001b[38;5;241m30\u001b[39m):\n\u001b[1;32m      5\u001b[0m     overall_loss \u001b[38;5;241m=\u001b[39m \u001b[38;5;241m0\u001b[39m\n\u001b[0;32m----> 6\u001b[0m     \u001b[38;5;28;01mfor\u001b[39;00m batch_idx, (x, y) \u001b[38;5;129;01min\u001b[39;00m \u001b[38;5;28menumerate\u001b[39m(train_loader):\n\u001b[1;32m      7\u001b[0m         optimizer\u001b[38;5;241m.\u001b[39mzero_grad()\n\u001b[1;32m      8\u001b[0m         y_hat \u001b[38;5;241m=\u001b[39m model(x\u001b[38;5;241m.\u001b[39mfloat())\u001b[38;5;241m.\u001b[39mfloat()\n",
      "File \u001b[0;32m~/miniconda3/envs/ml-dl/lib/python3.9/site-packages/torch/utils/data/dataloader.py:652\u001b[0m, in \u001b[0;36m_BaseDataLoaderIter.__next__\u001b[0;34m(self)\u001b[0m\n\u001b[1;32m    649\u001b[0m \u001b[38;5;28;01mif\u001b[39;00m \u001b[38;5;28mself\u001b[39m\u001b[38;5;241m.\u001b[39m_sampler_iter \u001b[38;5;129;01mis\u001b[39;00m \u001b[38;5;28;01mNone\u001b[39;00m:\n\u001b[1;32m    650\u001b[0m     \u001b[38;5;66;03m# TODO(https://github.com/pytorch/pytorch/issues/76750)\u001b[39;00m\n\u001b[1;32m    651\u001b[0m     \u001b[38;5;28mself\u001b[39m\u001b[38;5;241m.\u001b[39m_reset()  \u001b[38;5;66;03m# type: ignore[call-arg]\u001b[39;00m\n\u001b[0;32m--> 652\u001b[0m data \u001b[38;5;241m=\u001b[39m \u001b[38;5;28;43mself\u001b[39;49m\u001b[38;5;241;43m.\u001b[39;49m\u001b[43m_next_data\u001b[49m\u001b[43m(\u001b[49m\u001b[43m)\u001b[49m\n\u001b[1;32m    653\u001b[0m \u001b[38;5;28mself\u001b[39m\u001b[38;5;241m.\u001b[39m_num_yielded \u001b[38;5;241m+\u001b[39m\u001b[38;5;241m=\u001b[39m \u001b[38;5;241m1\u001b[39m\n\u001b[1;32m    654\u001b[0m \u001b[38;5;28;01mif\u001b[39;00m \u001b[38;5;28mself\u001b[39m\u001b[38;5;241m.\u001b[39m_dataset_kind \u001b[38;5;241m==\u001b[39m _DatasetKind\u001b[38;5;241m.\u001b[39mIterable \u001b[38;5;129;01mand\u001b[39;00m \\\n\u001b[1;32m    655\u001b[0m         \u001b[38;5;28mself\u001b[39m\u001b[38;5;241m.\u001b[39m_IterableDataset_len_called \u001b[38;5;129;01mis\u001b[39;00m \u001b[38;5;129;01mnot\u001b[39;00m \u001b[38;5;28;01mNone\u001b[39;00m \u001b[38;5;129;01mand\u001b[39;00m \\\n\u001b[1;32m    656\u001b[0m         \u001b[38;5;28mself\u001b[39m\u001b[38;5;241m.\u001b[39m_num_yielded \u001b[38;5;241m>\u001b[39m \u001b[38;5;28mself\u001b[39m\u001b[38;5;241m.\u001b[39m_IterableDataset_len_called:\n",
      "File \u001b[0;32m~/miniconda3/envs/ml-dl/lib/python3.9/site-packages/torch/utils/data/dataloader.py:692\u001b[0m, in \u001b[0;36m_SingleProcessDataLoaderIter._next_data\u001b[0;34m(self)\u001b[0m\n\u001b[1;32m    690\u001b[0m \u001b[38;5;28;01mdef\u001b[39;00m \u001b[38;5;21m_next_data\u001b[39m(\u001b[38;5;28mself\u001b[39m):\n\u001b[1;32m    691\u001b[0m     index \u001b[38;5;241m=\u001b[39m \u001b[38;5;28mself\u001b[39m\u001b[38;5;241m.\u001b[39m_next_index()  \u001b[38;5;66;03m# may raise StopIteration\u001b[39;00m\n\u001b[0;32m--> 692\u001b[0m     data \u001b[38;5;241m=\u001b[39m \u001b[38;5;28;43mself\u001b[39;49m\u001b[38;5;241;43m.\u001b[39;49m\u001b[43m_dataset_fetcher\u001b[49m\u001b[38;5;241;43m.\u001b[39;49m\u001b[43mfetch\u001b[49m\u001b[43m(\u001b[49m\u001b[43mindex\u001b[49m\u001b[43m)\u001b[49m  \u001b[38;5;66;03m# may raise StopIteration\u001b[39;00m\n\u001b[1;32m    693\u001b[0m     \u001b[38;5;28;01mif\u001b[39;00m \u001b[38;5;28mself\u001b[39m\u001b[38;5;241m.\u001b[39m_pin_memory:\n\u001b[1;32m    694\u001b[0m         data \u001b[38;5;241m=\u001b[39m _utils\u001b[38;5;241m.\u001b[39mpin_memory\u001b[38;5;241m.\u001b[39mpin_memory(data, \u001b[38;5;28mself\u001b[39m\u001b[38;5;241m.\u001b[39m_pin_memory_device)\n",
      "File \u001b[0;32m~/miniconda3/envs/ml-dl/lib/python3.9/site-packages/torch/utils/data/_utils/fetch.py:49\u001b[0m, in \u001b[0;36m_MapDatasetFetcher.fetch\u001b[0;34m(self, possibly_batched_index)\u001b[0m\n\u001b[1;32m     47\u001b[0m \u001b[38;5;28;01mdef\u001b[39;00m \u001b[38;5;21mfetch\u001b[39m(\u001b[38;5;28mself\u001b[39m, possibly_batched_index):\n\u001b[1;32m     48\u001b[0m     \u001b[38;5;28;01mif\u001b[39;00m \u001b[38;5;28mself\u001b[39m\u001b[38;5;241m.\u001b[39mauto_collation:\n\u001b[0;32m---> 49\u001b[0m         data \u001b[38;5;241m=\u001b[39m [\u001b[38;5;28mself\u001b[39m\u001b[38;5;241m.\u001b[39mdataset[idx] \u001b[38;5;28;01mfor\u001b[39;00m idx \u001b[38;5;129;01min\u001b[39;00m possibly_batched_index]\n\u001b[1;32m     50\u001b[0m     \u001b[38;5;28;01melse\u001b[39;00m:\n\u001b[1;32m     51\u001b[0m         data \u001b[38;5;241m=\u001b[39m \u001b[38;5;28mself\u001b[39m\u001b[38;5;241m.\u001b[39mdataset[possibly_batched_index]\n",
      "File \u001b[0;32m~/miniconda3/envs/ml-dl/lib/python3.9/site-packages/torch/utils/data/_utils/fetch.py:49\u001b[0m, in \u001b[0;36m<listcomp>\u001b[0;34m(.0)\u001b[0m\n\u001b[1;32m     47\u001b[0m \u001b[38;5;28;01mdef\u001b[39;00m \u001b[38;5;21mfetch\u001b[39m(\u001b[38;5;28mself\u001b[39m, possibly_batched_index):\n\u001b[1;32m     48\u001b[0m     \u001b[38;5;28;01mif\u001b[39;00m \u001b[38;5;28mself\u001b[39m\u001b[38;5;241m.\u001b[39mauto_collation:\n\u001b[0;32m---> 49\u001b[0m         data \u001b[38;5;241m=\u001b[39m [\u001b[38;5;28;43mself\u001b[39;49m\u001b[38;5;241;43m.\u001b[39;49m\u001b[43mdataset\u001b[49m\u001b[43m[\u001b[49m\u001b[43midx\u001b[49m\u001b[43m]\u001b[49m \u001b[38;5;28;01mfor\u001b[39;00m idx \u001b[38;5;129;01min\u001b[39;00m possibly_batched_index]\n\u001b[1;32m     50\u001b[0m     \u001b[38;5;28;01melse\u001b[39;00m:\n\u001b[1;32m     51\u001b[0m         data \u001b[38;5;241m=\u001b[39m \u001b[38;5;28mself\u001b[39m\u001b[38;5;241m.\u001b[39mdataset[possibly_batched_index]\n",
      "File \u001b[0;32m~/miniconda3/envs/ml-dl/lib/python3.9/site-packages/torch/utils/data/dataset.py:188\u001b[0m, in \u001b[0;36mTensorDataset.__getitem__\u001b[0;34m(self, index)\u001b[0m\n\u001b[1;32m    187\u001b[0m \u001b[38;5;28;01mdef\u001b[39;00m \u001b[38;5;21m__getitem__\u001b[39m(\u001b[38;5;28mself\u001b[39m, index):\n\u001b[0;32m--> 188\u001b[0m     \u001b[38;5;28;01mreturn\u001b[39;00m \u001b[38;5;28;43mtuple\u001b[39;49m\u001b[43m(\u001b[49m\u001b[43mtensor\u001b[49m\u001b[43m[\u001b[49m\u001b[43mindex\u001b[49m\u001b[43m]\u001b[49m\u001b[43m \u001b[49m\u001b[38;5;28;43;01mfor\u001b[39;49;00m\u001b[43m \u001b[49m\u001b[43mtensor\u001b[49m\u001b[43m \u001b[49m\u001b[38;5;129;43;01min\u001b[39;49;00m\u001b[43m \u001b[49m\u001b[38;5;28;43mself\u001b[39;49m\u001b[38;5;241;43m.\u001b[39;49m\u001b[43mtensors\u001b[49m\u001b[43m)\u001b[49m\n",
      "File \u001b[0;32m~/miniconda3/envs/ml-dl/lib/python3.9/site-packages/torch/utils/data/dataset.py:188\u001b[0m, in \u001b[0;36m<genexpr>\u001b[0;34m(.0)\u001b[0m\n\u001b[1;32m    187\u001b[0m \u001b[38;5;28;01mdef\u001b[39;00m \u001b[38;5;21m__getitem__\u001b[39m(\u001b[38;5;28mself\u001b[39m, index):\n\u001b[0;32m--> 188\u001b[0m     \u001b[38;5;28;01mreturn\u001b[39;00m \u001b[38;5;28mtuple\u001b[39m(\u001b[43mtensor\u001b[49m\u001b[43m[\u001b[49m\u001b[43mindex\u001b[49m\u001b[43m]\u001b[49m \u001b[38;5;28;01mfor\u001b[39;00m tensor \u001b[38;5;129;01min\u001b[39;00m \u001b[38;5;28mself\u001b[39m\u001b[38;5;241m.\u001b[39mtensors)\n",
      "\u001b[0;31mKeyboardInterrupt\u001b[0m: "
     ]
    }
   ],
   "source": [
    "\n",
    "print(\"Start training ...\")\n",
    "model.train()\n",
    "\n",
    "for epoch in range(30):\n",
    "    overall_loss = 0\n",
    "    for batch_idx, (x, y) in enumerate(train_loader):\n",
    "        optimizer.zero_grad()\n",
    "        y_hat = model(x.float()).float()\n",
    "        ll = loss(y_hat.flatten(), y.float().flatten())\n",
    "        overall_loss += ll.item()\n",
    "        ll.backward()\n",
    "        optimizer.step()\n",
    "        \n",
    "    print(\"\\tEpoch\", epoch + 1, \"complete!\", \"\\tAverage Loss: \", overall_loss / (batch_idx*batch_size))\n",
    "    print(overall_loss)\n",
    "    \n",
    "print(\"Finish!!\")\n"
   ]
  },
  {
   "cell_type": "code",
   "execution_count": null,
   "id": "a7466acb-fc08-4591-8760-25a465fb1d5f",
   "metadata": {},
   "outputs": [],
   "source": []
  },
  {
   "cell_type": "code",
   "execution_count": null,
   "id": "d40b32b5-146a-457e-98a0-4712af521067",
   "metadata": {},
   "outputs": [],
   "source": []
  },
  {
   "cell_type": "code",
   "execution_count": null,
   "id": "01188bee-a512-4605-b3f9-1752a73999ce",
   "metadata": {},
   "outputs": [],
   "source": []
  },
  {
   "cell_type": "code",
   "execution_count": null,
   "id": "0acbfcc4-0338-46c1-9c5a-b5130dfe2a5f",
   "metadata": {},
   "outputs": [],
   "source": []
  },
  {
   "cell_type": "code",
   "execution_count": 108,
   "id": "0bb69b9a-54d7-4e63-9c13-a47105f77bca",
   "metadata": {},
   "outputs": [],
   "source": [
    "# for p in model.parameters():\n",
    "#     print(p)"
   ]
  },
  {
   "cell_type": "code",
   "execution_count": 109,
   "id": "38d6f66b-44d9-4bc9-9de4-d366fa3d30cc",
   "metadata": {},
   "outputs": [
    {
     "name": "stdout",
     "output_type": "stream",
     "text": [
      "('func1', Linear(in_features=4, out_features=40, bias=True))\n",
      "('func2', Linear(in_features=40, out_features=40, bias=True))\n",
      "('func3', Linear(in_features=40, out_features=40, bias=True))\n",
      "('func4', Linear(in_features=40, out_features=40, bias=True))\n",
      "('func5', Linear(in_features=40, out_features=1, bias=True))\n",
      "('outp', ReLU())\n"
     ]
    }
   ],
   "source": [
    "for m in model.named_children():\n",
    "    print(m)"
   ]
  },
  {
   "cell_type": "code",
   "execution_count": null,
   "id": "804c9663",
   "metadata": {},
   "outputs": [],
   "source": []
  },
  {
   "cell_type": "code",
   "execution_count": 110,
   "id": "5bd867a2-5a89-482a-9285-029481e8718f",
   "metadata": {},
   "outputs": [],
   "source": [
    "model.func1.weight.requires_grad = False\n",
    "model.func1.bias.requires_grad = False\n",
    "\n",
    "model.func2.weight.requires_grad = False\n",
    "model.func2.bias.requires_grad = False\n",
    "\n",
    "model.func3.weight.requires_grad = False\n",
    "model.func3.bias.requires_grad = False\n",
    "\n",
    "model.func4.weight.requires_grad = False\n",
    "model.func4.bias.requires_grad = False\n",
    "\n",
    "model.func5.weight.requires_grad = False\n",
    "model.func5.bias.requires_grad = False\n"
   ]
  },
  {
   "cell_type": "code",
   "execution_count": null,
   "id": "1ec9aca3-d08c-4ca5-88be-37b9180b8ee4",
   "metadata": {},
   "outputs": [],
   "source": []
  },
  {
   "cell_type": "code",
   "execution_count": 111,
   "id": "8cf27117-a6d6-430b-b585-d84a2d1bb098",
   "metadata": {},
   "outputs": [
    {
     "data": {
      "text/plain": [
       "False"
      ]
     },
     "execution_count": 111,
     "metadata": {},
     "output_type": "execute_result"
    }
   ],
   "source": [
    "model.func1.weight.requires_grad"
   ]
  },
  {
   "cell_type": "code",
   "execution_count": 112,
   "id": "379b1b62-60e7-41e8-b246-99ea66d7b912",
   "metadata": {},
   "outputs": [
    {
     "data": {
      "text/plain": [
       "512"
      ]
     },
     "execution_count": 112,
     "metadata": {},
     "output_type": "execute_result"
    }
   ],
   "source": [
    "num_samples//2"
   ]
  },
  {
   "cell_type": "code",
   "execution_count": 113,
   "id": "bdad8dbe-07fe-4d14-9ec8-7a6861011e3d",
   "metadata": {},
   "outputs": [
    {
     "name": "stderr",
     "output_type": "stream",
     "text": [
      "<ipython-input-113-127521b8eb62>:1: UserWarning: To copy construct from a tensor, it is recommended to use sourceTensor.clone().detach() or sourceTensor.clone().detach().requires_grad_(True), rather than torch.tensor(sourceTensor).\n",
      "  torch.tensor(code [0], requires_grad=True)\n"
     ]
    },
    {
     "data": {
      "text/plain": [
       "tensor([0.5000, 0.0625], requires_grad=True)"
      ]
     },
     "execution_count": 113,
     "metadata": {},
     "output_type": "execute_result"
    }
   ],
   "source": [
    "torch.tensor(code [0], requires_grad=True)"
   ]
  },
  {
   "cell_type": "code",
   "execution_count": 114,
   "id": "f349b4c5-5dc8-4286-a3b5-f919a1a79c4c",
   "metadata": {},
   "outputs": [
    {
     "data": {
      "text/plain": [
       "torch.Size([4])"
      ]
     },
     "execution_count": 114,
     "metadata": {},
     "output_type": "execute_result"
    }
   ],
   "source": [
    "features[0].shape"
   ]
  },
  {
   "cell_type": "code",
   "execution_count": 115,
   "id": "50bf18c5-ba50-4ac9-9380-bb4a6fd2494a",
   "metadata": {},
   "outputs": [
    {
     "name": "stdout",
     "output_type": "stream",
     "text": [
      "torch.Size([2]) torch.Size([2])\n"
     ]
    },
    {
     "name": "stderr",
     "output_type": "stream",
     "text": [
      "<ipython-input-115-91d5b2e7d1cb>:1: UserWarning: To copy construct from a tensor, it is recommended to use sourceTensor.clone().detach() or sourceTensor.clone().detach().requires_grad_(True), rather than torch.tensor(sourceTensor).\n",
      "  x = torch.tensor(features[0][:2])\n",
      "<ipython-input-115-91d5b2e7d1cb>:2: UserWarning: To copy construct from a tensor, it is recommended to use sourceTensor.clone().detach() or sourceTensor.clone().detach().requires_grad_(True), rather than torch.tensor(sourceTensor).\n",
      "  codee = torch.tensor(code [0], requires_grad=True)\n"
     ]
    },
    {
     "data": {
      "text/plain": [
       "tensor([0.0111], grad_fn=<ReluBackward0>)"
      ]
     },
     "execution_count": 115,
     "metadata": {},
     "output_type": "execute_result"
    }
   ],
   "source": [
    "x = torch.tensor(features[0][:2])\n",
    "codee = torch.tensor(code [0], requires_grad=True)\n",
    "print(x.shape, codee.shape)\n",
    "j = torch.cat((x, codee), axis=0)\n",
    "j\n",
    "model(j)"
   ]
  },
  {
   "cell_type": "code",
   "execution_count": null,
   "id": "2b827610-a1e5-4956-ba4f-47ce6cd0f3f1",
   "metadata": {},
   "outputs": [],
   "source": []
  },
  {
   "cell_type": "code",
   "execution_count": 116,
   "id": "1658aeb2-3850-4d0e-9a15-03ce07ff621d",
   "metadata": {},
   "outputs": [
    {
     "data": {
      "text/plain": [
       "<bound method Module.parameters of Model(\n",
       "  (func1): Linear(in_features=4, out_features=40, bias=True)\n",
       "  (func2): Linear(in_features=40, out_features=40, bias=True)\n",
       "  (func3): Linear(in_features=40, out_features=40, bias=True)\n",
       "  (func4): Linear(in_features=40, out_features=40, bias=True)\n",
       "  (func5): Linear(in_features=40, out_features=1, bias=True)\n",
       "  (outp): ReLU()\n",
       ")>"
      ]
     },
     "execution_count": 116,
     "metadata": {},
     "output_type": "execute_result"
    }
   ],
   "source": [
    "model.parameters"
   ]
  },
  {
   "cell_type": "code",
   "execution_count": 117,
   "id": "3de0fe69-7bdc-4098-b2f6-bc36e44ec104",
   "metadata": {},
   "outputs": [
    {
     "data": {
      "text/plain": [
       "tensor([[0.0000, 0.0000, 0.5000, 0.0625],\n",
       "        [0.0000, 0.0625, 0.5000, 0.0625],\n",
       "        [0.0000, 0.1250, 0.5000, 0.0625],\n",
       "        ...,\n",
       "        [0.9375, 0.8125, 1.0000, 1.0000],\n",
       "        [0.9375, 0.8750, 1.0000, 1.0000],\n",
       "        [0.9375, 0.9375, 1.0000, 1.0000]])"
      ]
     },
     "execution_count": 117,
     "metadata": {},
     "output_type": "execute_result"
    }
   ],
   "source": [
    "features"
   ]
  },
  {
   "cell_type": "code",
   "execution_count": 118,
   "id": "aa8e0c28-17bf-4712-8d61-bcefeba22221",
   "metadata": {},
   "outputs": [],
   "source": [
    "# code"
   ]
  },
  {
   "cell_type": "code",
   "execution_count": 119,
   "id": "6d27cbec-69b3-4883-ab59-0b587909cbcc",
   "metadata": {},
   "outputs": [
    {
     "data": {
      "text/plain": [
       "64.0"
      ]
     },
     "execution_count": 119,
     "metadata": {},
     "output_type": "execute_result"
    }
   ],
   "source": [
    "(num_samples)/box_siz"
   ]
  },
  {
   "cell_type": "code",
   "execution_count": 120,
   "id": "108deb8f-60d3-40c8-a122-6af20b11896d",
   "metadata": {},
   "outputs": [
    {
     "data": {
      "text/plain": [
       "(tensor([0.0000, 0.0000, 0.5000, 0.0625]),\n",
       " tensor([0.4375, 0.7500, 0.5000, 0.0625]),\n",
       " tensor([0.9375, 0.6250, 0.5000, 0.0625]))"
      ]
     },
     "execution_count": 120,
     "metadata": {},
     "output_type": "execute_result"
    }
   ],
   "source": [
    "features[0], features[124], features[250]"
   ]
  },
  {
   "cell_type": "code",
   "execution_count": null,
   "id": "80d6691e-48d8-4042-a35d-99c25d8d8a8b",
   "metadata": {},
   "outputs": [],
   "source": []
  },
  {
   "cell_type": "code",
   "execution_count": 121,
   "id": "76ec0c4a-d601-4099-b940-448692b72702",
   "metadata": {},
   "outputs": [],
   "source": [
    "step = int((num_samples//2)/box_siz)\n",
    "num_distic_codes = step"
   ]
  },
  {
   "cell_type": "code",
   "execution_count": 122,
   "id": "7209e7ce-abf4-4edd-b0cf-45d86dd42fa1",
   "metadata": {},
   "outputs": [
    {
     "data": {
      "text/plain": [
       "[0]"
      ]
     },
     "execution_count": 122,
     "metadata": {},
     "output_type": "execute_result"
    }
   ],
   "source": [
    "list(range(0, 20, step))"
   ]
  },
  {
   "cell_type": "code",
   "execution_count": 123,
   "id": "08b316e3-dd60-47be-bfa2-5cd92af0db20",
   "metadata": {},
   "outputs": [
    {
     "data": {
      "text/plain": [
       "torch.Size([1024, 2])"
      ]
     },
     "execution_count": 123,
     "metadata": {},
     "output_type": "execute_result"
    }
   ],
   "source": [
    "optim_code = torch.empty(code.shape)\n",
    "optim_code.shape"
   ]
  },
  {
   "cell_type": "code",
   "execution_count": null,
   "id": "06f64edc-f83d-4092-81dd-0488f125853b",
   "metadata": {},
   "outputs": [],
   "source": []
  },
  {
   "cell_type": "code",
   "execution_count": 124,
   "id": "946f3bd5-9297-4d90-9c9e-e31ce52a283f",
   "metadata": {},
   "outputs": [
    {
     "data": {
      "text/plain": [
       "tensor([0.5000, 0.0625])"
      ]
     },
     "execution_count": 124,
     "metadata": {},
     "output_type": "execute_result"
    }
   ],
   "source": [
    "code[1]"
   ]
  },
  {
   "cell_type": "code",
   "execution_count": 125,
   "id": "ae4fcd3d-6531-4ab8-9e27-b356685f875a",
   "metadata": {},
   "outputs": [
    {
     "name": "stderr",
     "output_type": "stream",
     "text": [
      "<ipython-input-125-ad7e4a74ec10>:3: UserWarning: To copy construct from a tensor, it is recommended to use sourceTensor.clone().detach() or sourceTensor.clone().detach().requires_grad_(True), rather than torch.tensor(sourceTensor).\n",
      "  codee = torch.tensor(code [k], requires_grad=True)\n",
      "<ipython-input-125-ad7e4a74ec10>:10: UserWarning: To copy construct from a tensor, it is recommended to use sourceTensor.clone().detach() or sourceTensor.clone().detach().requires_grad_(True), rather than torch.tensor(sourceTensor).\n",
      "  x = torch.tensor(features[i])\n",
      "/home/sobhan/miniconda3/envs/ml-dl/lib/python3.9/site-packages/torch/nn/modules/loss.py:530: UserWarning: Using a target size (torch.Size([])) that is different to the input size (torch.Size([1])). This will likely lead to incorrect results due to broadcasting. Please ensure they have the same size.\n",
      "  return F.mse_loss(input, target, reduction=self.reduction)\n"
     ]
    },
    {
     "name": "stdout",
     "output_type": "stream",
     "text": [
      "before: tensor([0.5000, 0.0625], requires_grad=True)\n",
      "after: tensor([0.5001, 0.0627], requires_grad=True)\n",
      "========================================\n",
      "before: tensor([0.5000, 0.1250], requires_grad=True)\n",
      "after: tensor([0.5031, 0.0093], requires_grad=True)\n",
      "========================================\n",
      "before: tensor([0.5000, 0.1875], requires_grad=True)\n",
      "after: tensor([0.4944, 0.1471], requires_grad=True)\n",
      "========================================\n",
      "before: tensor([0.5000, 0.2500], requires_grad=True)\n",
      "after: tensor([0.4948, 0.2395], requires_grad=True)\n",
      "========================================\n",
      "before: tensor([0.5000, 0.3125], requires_grad=True)\n",
      "after: tensor([0.4995, 0.3105], requires_grad=True)\n",
      "========================================\n",
      "before: tensor([0.5000, 0.3750], requires_grad=True)\n",
      "after: tensor([0.4994, 0.3745], requires_grad=True)\n",
      "========================================\n",
      "before: tensor([0.5000, 0.4375], requires_grad=True)\n",
      "after: tensor([0.4979, 0.4360], requires_grad=True)\n",
      "========================================\n",
      "before: tensor([0.5000, 0.5000], requires_grad=True)\n",
      "after: tensor([0.4957, 0.4968], requires_grad=True)\n",
      "========================================\n",
      "before: tensor([0.5000, 0.5625], requires_grad=True)\n",
      "after: tensor([0.5000, 0.5625], requires_grad=True)\n",
      "========================================\n",
      "before: tensor([0.5000, 0.6250], requires_grad=True)\n",
      "after: tensor([0.4991, 0.6250], requires_grad=True)\n",
      "========================================\n",
      "before: tensor([0.5000, 0.6875], requires_grad=True)\n",
      "after: tensor([0.4965, 0.6924], requires_grad=True)\n",
      "========================================\n",
      "before: tensor([0.5000, 0.7500], requires_grad=True)\n",
      "after: tensor([0.4982, 0.7620], requires_grad=True)\n",
      "========================================\n",
      "before: tensor([0.5000, 0.8125], requires_grad=True)\n",
      "after: tensor([0.4965, 0.8188], requires_grad=True)\n",
      "========================================\n",
      "before: tensor([0.5000, 0.8750], requires_grad=True)\n",
      "after: tensor([0.4834, 0.8924], requires_grad=True)\n",
      "========================================\n",
      "before: tensor([0.5000, 0.9375], requires_grad=True)\n",
      "after: tensor([0.5002, 0.9834], requires_grad=True)\n",
      "========================================\n",
      "before: tensor([0.5000, 1.0000], requires_grad=True)\n",
      "after: tensor([0.5029, 1.1022], requires_grad=True)\n",
      "========================================\n",
      "before: tensor([1.0000, 0.0625], requires_grad=True)\n",
      "after: tensor([1.1444, 0.0660], requires_grad=True)\n",
      "========================================\n",
      "before: tensor([1.0000, 0.1250], requires_grad=True)\n",
      "after: tensor([0.9171, 0.0879], requires_grad=True)\n",
      "========================================\n",
      "before: tensor([1.0000, 0.1875], requires_grad=True)\n",
      "after: tensor([0.9513, 0.2077], requires_grad=True)\n",
      "========================================\n",
      "before: tensor([1.0000, 0.2500], requires_grad=True)\n",
      "after: tensor([0.9603, 0.2795], requires_grad=True)\n",
      "========================================\n",
      "before: tensor([1.0000, 0.3125], requires_grad=True)\n",
      "after: tensor([0.9234, 0.2968], requires_grad=True)\n",
      "========================================\n",
      "before: tensor([1.0000, 0.3750], requires_grad=True)\n",
      "after: tensor([0.7805, 0.1941], requires_grad=True)\n",
      "========================================\n",
      "before: tensor([1.0000, 0.4375], requires_grad=True)\n",
      "after: tensor([0.9243, 0.4807], requires_grad=True)\n",
      "========================================\n",
      "before: tensor([1.0000, 0.5000], requires_grad=True)\n",
      "after: tensor([0.9353, 0.6707], requires_grad=True)\n",
      "========================================\n",
      "before: tensor([1.0000, 0.5625], requires_grad=True)\n",
      "after: tensor([1.0806, 0.5499], requires_grad=True)\n",
      "========================================\n",
      "before: tensor([1.0000, 0.6250], requires_grad=True)\n",
      "after: tensor([0.9709, 0.7115], requires_grad=True)\n",
      "========================================\n",
      "before: tensor([1.0000, 0.6875], requires_grad=True)\n",
      "after: tensor([0.9816, 0.7053], requires_grad=True)\n",
      "========================================\n",
      "before: tensor([1.0000, 0.7500], requires_grad=True)\n",
      "after: tensor([0.9802, 0.7599], requires_grad=True)\n",
      "========================================\n",
      "before: tensor([1.0000, 0.8125], requires_grad=True)\n",
      "after: tensor([0.9846, 0.8177], requires_grad=True)\n",
      "========================================\n",
      "before: tensor([1.0000, 0.8750], requires_grad=True)\n",
      "after: tensor([0.9758, 0.8714], requires_grad=True)\n",
      "========================================\n",
      "before: tensor([1.0000, 0.9375], requires_grad=True)\n",
      "after: tensor([1.0377, 1.0544], requires_grad=True)\n",
      "========================================\n",
      "before: tensor([1., 1.], requires_grad=True)\n",
      "after: tensor([1.0218, 1.0358], requires_grad=True)\n",
      "========================================\n",
      "Finish!!\n"
     ]
    }
   ],
   "source": [
    "for k in range(0, num_samples, step):\n",
    "    # for each code\n",
    "    codee = torch.tensor(code [k], requires_grad=True)      \n",
    "    print('before:', codee)\n",
    "    for epoch in range(100):\n",
    "        overall_loss = 0\n",
    "        # int((num_samples//2)/box_siz)\n",
    "        for i in range(k, k+step):\n",
    "            optimizer.zero_grad()\n",
    "            x = torch.tensor(features[i])\n",
    "            \n",
    "            # print(x.shape, codee.shape)\n",
    "            # X = torch.cat((x, codee), axis=0)\n",
    "            # X = torch.tensor([x[0], x[1], codee[0], codee[1]], requires_grad=True )\n",
    "            X = torch.tensor([x[0], x[1], codee[0], codee[1]], requires_grad=True )\n",
    "            # print(features[i])\n",
    "            # print(X.shape)\n",
    "            # features[i].requires_grad = True\n",
    "            y_hat = model(X.float()).float()\n",
    "            l = loss(y_hat, labels[i].float())\n",
    "            # print(l)\n",
    "            overall_loss += l.item()\n",
    "            l.backward()\n",
    "            # print('x grad=',X.grad)\n",
    "            # optimizer.step()\n",
    "            # print(X.grad)\n",
    "            # print(X)\n",
    "            X = X -X.grad*0.02/100\n",
    "            # print(X)\n",
    "            codee = torch.tensor([X[2], X[3]], requires_grad=True )\n",
    "\n",
    "            # print(features[i])\n",
    "            # codee = torch.tensor([X[2], x[3]], requires_grad=True)\n",
    "            # codee = X[2:3] # only one\n",
    "            # print('*'*100)\n",
    "        # print(\"\\tEpoch\", epoch + 1, \"complete!\", \"\\tAverage Loss: \", overall_loss / (batch_idx*batch_size))\n",
    "        # print(overall_loss)\n",
    "    print('after:', codee)\n",
    "    print('='*40)\n",
    "    optim_code[k:k+step] = codee\n",
    "print(\"Finish!!\")"
   ]
  },
  {
   "cell_type": "code",
   "execution_count": null,
   "id": "cc031255-714a-4996-bd01-816bcb401488",
   "metadata": {},
   "outputs": [],
   "source": []
  },
  {
   "cell_type": "code",
   "execution_count": 126,
   "id": "f53dd1e4-0cb3-454a-82a0-35c7dd3f2fab",
   "metadata": {},
   "outputs": [
    {
     "data": {
      "image/png": "[encoded data removed]",
      "text/plain": [
       "<Figure size 432x288 with 2 Axes>"
      ]
     },
     "metadata": {
      "needs_background": "light"
     },
     "output_type": "display_data"
    }
   ],
   "source": [
    "from matplotlib import pyplot\n",
    "dif = code.detach().numpy()\n",
    "fig, axs = plt.subplots(1, 2, sharey=True, tight_layout=True)\n",
    "# We can set the number of bins with the *bins* keyword argument.\n",
    "_ = axs[0].hist(dif[:,0], bins=30)\n",
    "_ = axs[1].hist(dif[:,1], bins=num_distic_codes*2)"
   ]
  },
  {
   "cell_type": "code",
   "execution_count": 127,
   "id": "86e7a42b-3e6d-4134-adf7-8c30399731e6",
   "metadata": {},
   "outputs": [
    {
     "data": {
      "image/png": "[encoded data removed]",
      "text/plain": [
       "<Figure size 432x288 with 2 Axes>"
      ]
     },
     "metadata": {
      "needs_background": "light"
     },
     "output_type": "display_data"
    }
   ],
   "source": [
    "from matplotlib import pyplot\n",
    "dif = optim_code.detach().numpy()\n",
    "fig, axs = plt.subplots(1, 2, sharey=True, tight_layout=True)\n",
    "# We can set the number of bins with the *bins* keyword argument.\n",
    "_ = axs[0].hist(dif[:,0], bins=100)\n",
    "_ = axs[1].hist(dif[:,1], bins=num_distic_codes*2)"
   ]
  },
  {
   "cell_type": "code",
   "execution_count": null,
   "id": "0c17361f-b445-43d8-8bea-e01422612d33",
   "metadata": {},
   "outputs": [],
   "source": []
  },
  {
   "cell_type": "code",
   "execution_count": 128,
   "id": "59cf0e5c-993c-43b9-b9f9-808dd2fe9689",
   "metadata": {},
   "outputs": [
    {
     "data": {
      "text/plain": [
       "torch.return_types.min(\n",
       "values=tensor([0.4834, 0.0093], grad_fn=<MinBackward0>),\n",
       "indices=tensor([416,  32]))"
      ]
     },
     "execution_count": 128,
     "metadata": {},
     "output_type": "execute_result"
    }
   ],
   "source": [
    "torch.min(optim_code, axis=0)"
   ]
  },
  {
   "cell_type": "code",
   "execution_count": 129,
   "id": "931ce7bc-e8c6-46b1-bd60-4adbd5ae66f0",
   "metadata": {},
   "outputs": [],
   "source": [
    "opt_min, _ = optim_code.min(axis=0)\n",
    "opt_max, _ = optim_code.max(axis=0)"
   ]
  },
  {
   "cell_type": "code",
   "execution_count": 130,
   "id": "05f91c47-c559-48a3-8254-1427bbf1279a",
   "metadata": {},
   "outputs": [
    {
     "data": {
      "text/plain": [
       "(tensor([0.4834, 0.0093], grad_fn=<MinBackward0>),\n",
       " tensor([1.1444, 1.1022], grad_fn=<MaxBackward0>))"
      ]
     },
     "execution_count": 130,
     "metadata": {},
     "output_type": "execute_result"
    }
   ],
   "source": [
    "opt_min, opt_max"
   ]
  },
  {
   "cell_type": "code",
   "execution_count": 131,
   "id": "7e55acf3-1ab6-4bf1-a1f6-bb92bd8b15ba",
   "metadata": {},
   "outputs": [
    {
     "data": {
      "text/plain": [
       "tensor([[0.5001, 0.0627],\n",
       "        [0.5001, 0.0627],\n",
       "        [0.5001, 0.0627],\n",
       "        ...,\n",
       "        [1.0218, 1.0358],\n",
       "        [1.0218, 1.0358],\n",
       "        [1.0218, 1.0358]], grad_fn=<CopySlices>)"
      ]
     },
     "execution_count": 131,
     "metadata": {},
     "output_type": "execute_result"
    }
   ],
   "source": [
    "optim_code"
   ]
  },
  {
   "cell_type": "code",
   "execution_count": null,
   "id": "a93f5ebc-e84c-4ec4-80e2-efeac4ad70b5",
   "metadata": {},
   "outputs": [],
   "source": []
  },
  {
   "cell_type": "code",
   "execution_count": 132,
   "id": "c8f0cc03",
   "metadata": {},
   "outputs": [],
   "source": [
    "# list(model.named_parameters())"
   ]
  },
  {
   "cell_type": "code",
   "execution_count": 133,
   "id": "520ea683",
   "metadata": {},
   "outputs": [],
   "source": [
    "# a = torch.tensor([0.01, 0.12, 0.72, 0.74])\n",
    "# model(a)"
   ]
  },
  {
   "cell_type": "code",
   "execution_count": 134,
   "id": "c2627db1",
   "metadata": {},
   "outputs": [
    {
     "data": {
      "text/plain": [
       "tensor([[0.5001, 0.0627],\n",
       "        [0.5001, 0.0627],\n",
       "        [0.5001, 0.0627],\n",
       "        ...,\n",
       "        [1.0218, 1.0358],\n",
       "        [1.0218, 1.0358],\n",
       "        [1.0218, 1.0358]], grad_fn=<CopySlices>)"
      ]
     },
     "execution_count": 134,
     "metadata": {},
     "output_type": "execute_result"
    }
   ],
   "source": [
    "optim_code"
   ]
  },
  {
   "cell_type": "code",
   "execution_count": 135,
   "id": "c1b72c59",
   "metadata": {},
   "outputs": [],
   "source": [
    "test_sample1 = torch.zeros((box_siz, box_siz))\n",
    "test_sample2 = torch.zeros((box_siz, box_siz))"
   ]
  },
  {
   "cell_type": "code",
   "execution_count": 136,
   "id": "98f9c797",
   "metadata": {},
   "outputs": [
    {
     "data": {
      "text/plain": [
       "(torch.Size([16, 16]),\n",
       " torch.Size([16, 16]),\n",
       " tensor([0.0000, 0.0000, 0.5000, 0.0625]))"
      ]
     },
     "execution_count": 136,
     "metadata": {},
     "output_type": "execute_result"
    }
   ],
   "source": [
    "test_sample1.shape, temp_features[0].shape, features[0]"
   ]
  },
  {
   "cell_type": "code",
   "execution_count": 137,
   "id": "1fb27715-1282-4755-b9b6-9822a259b480",
   "metadata": {},
   "outputs": [],
   "source": [
    "tes_sam = 0"
   ]
  },
  {
   "cell_type": "code",
   "execution_count": null,
   "id": "28878f42-8367-4df9-b980-54ccaea6f94a",
   "metadata": {},
   "outputs": [],
   "source": []
  },
  {
   "cell_type": "code",
   "execution_count": 138,
   "id": "e9421e15",
   "metadata": {},
   "outputs": [],
   "source": [
    "for i in range(box_siz):\n",
    "    for j in range(box_siz):\n",
    "        # with code\n",
    "        test_sample1 [i,j] = model(torch.tensor([i/box_siz, j/box_siz, \n",
    "                                                 code[tes_sam][0], \n",
    "                                                 code[tes_sam][1]]))\n",
    "        \n",
    "        # with optim code\n",
    "        test_sample2 [i,j] = model(torch.tensor([i/box_siz, j/box_siz, \n",
    "                                                 optim_code[tes_sam][0], \n",
    "                                                 optim_code[tes_sam][1]]))\n",
    "#      "
   ]
  },
  {
   "cell_type": "code",
   "execution_count": 139,
   "id": "e84ebb3e",
   "metadata": {},
   "outputs": [
    {
     "data": {
      "text/plain": [
       "<matplotlib.image.AxesImage at 0x7f9f47f7be80>"
      ]
     },
     "execution_count": 139,
     "metadata": {},
     "output_type": "execute_result"
    },
    {
     "data": {
      "image/png": "[encoded data removed]",
      "text/plain": [
       "<Figure size 432x288 with 1 Axes>"
      ]
     },
     "metadata": {
      "needs_background": "light"
     },
     "output_type": "display_data"
    }
   ],
   "source": [
    "# ground truth\n",
    "plt.subplot(211)\n",
    "plt.imshow(temp_features[tes_sam].detach().numpy(), cmap='Greys')"
   ]
  },
  {
   "cell_type": "code",
   "execution_count": 140,
   "id": "7f1770dc",
   "metadata": {},
   "outputs": [
    {
     "data": {
      "text/plain": [
       "<matplotlib.image.AxesImage at 0x7f9f47ed50a0>"
      ]
     },
     "execution_count": 140,
     "metadata": {},
     "output_type": "execute_result"
    },
    {
     "data": {
      "image/png": "[encoded data removed]",
      "text/plain": [
       "<Figure size 432x288 with 1 Axes>"
      ]
     },
     "metadata": {
      "needs_background": "light"
     },
     "output_type": "display_data"
    }
   ],
   "source": [
    "# with code\n",
    "plt.subplot(222)\n",
    "plt.imshow(test_sample1.detach().numpy(), cmap='Greys')"
   ]
  },
  {
   "cell_type": "code",
   "execution_count": 141,
   "id": "db1aa426-88eb-4ed8-bb9e-bcef96a90393",
   "metadata": {},
   "outputs": [
    {
     "data": {
      "text/plain": [
       "<matplotlib.image.AxesImage at 0x7f9f47ea1d90>"
      ]
     },
     "execution_count": 141,
     "metadata": {},
     "output_type": "execute_result"
    },
    {
     "data": {
      "image/png": "[encoded data removed]",
      "text/plain": [
       "<Figure size 432x288 with 1 Axes>"
      ]
     },
     "metadata": {
      "needs_background": "light"
     },
     "output_type": "display_data"
    }
   ],
   "source": [
    "# with optim_code\n",
    "plt.subplot(222)\n",
    "plt.imshow(test_sample2.detach().numpy(), cmap='Greys')"
   ]
  },
  {
   "cell_type": "code",
   "execution_count": 142,
   "id": "1c12f161",
   "metadata": {},
   "outputs": [],
   "source": [
    "# test_sample.shape, test_sample2.shape"
   ]
  },
  {
   "cell_type": "code",
   "execution_count": null,
   "id": "842e2f75",
   "metadata": {},
   "outputs": [],
   "source": []
  },
  {
   "cell_type": "code",
   "execution_count": 143,
   "id": "db0c0f9a",
   "metadata": {},
   "outputs": [],
   "source": [
    "# test_sample.shape, temp_features.shape"
   ]
  },
  {
   "cell_type": "code",
   "execution_count": 144,
   "id": "d90c7187",
   "metadata": {},
   "outputs": [],
   "source": [
    "# this one down:"
   ]
  },
  {
   "cell_type": "code",
   "execution_count": 145,
   "id": "c970ad5f",
   "metadata": {},
   "outputs": [],
   "source": [
    "# count = 0\n",
    "# generated_sample = torch.empty((optim_code.shape[0], box_siz ** 2))\n",
    "# print(generated_sample.shape)\n",
    "# for c in optim_code:\n",
    "#     for i in range(box_siz):\n",
    "#         for j in range(box_siz):\n",
    "#             test_sample [i,j] = model(torch.cat((torch.tensor([i/box_siz, j/box_siz]), c)))\n",
    "    \n",
    "# #     print(test_sample.shape, test_sample.flatten().shape)\n",
    "#     generated_sample[count] = test_sample.flatten()\n",
    "#     count += 1"
   ]
  },
  {
   "cell_type": "code",
   "execution_count": 146,
   "id": "200bf0f5",
   "metadata": {},
   "outputs": [],
   "source": [
    "# plt.figure(figsize=(15, 12))\n",
    "# plt.subplots_adjust(hspace=0.2)\n",
    "# plt.suptitle(\"---\", fontsize=18, y=0.95)\n",
    "# plt.subplots_adjust(left=0.1,\n",
    "#                     bottom=0.3,\n",
    "#                     right=0.9,\n",
    "#                     top=2.9,\n",
    "#                     wspace=0.4,\n",
    "#                     hspace=0.7)\n",
    "# # set number of columns (use 3 to demonstrate the change)\n",
    "# ncols =5\n",
    "\n",
    "# nrows = optim_code.shape[0]//ncols +1\n",
    "# if (nrows==0):\n",
    "#     nrows =1\n",
    "    \n",
    "# for idx, sample in enumerate (generated_sample):\n",
    "# #     print(sample.shape)\n",
    "#     ax = plt.subplot(nrows, ncols, idx + 1)\n",
    "#     ax.title.set_text(str(optim_code[idx]))\n",
    "# #     print([idx])\n",
    "#     y = sample.reshape(box_siz, box_siz).float()\n",
    "\n",
    "#     plt.imshow(y.detach().numpy(), cmap='Greys',  interpolation='nearest')"
   ]
  },
  {
   "cell_type": "code",
   "execution_count": 147,
   "id": "97ded53d",
   "metadata": {},
   "outputs": [],
   "source": [
    "# this one up"
   ]
  },
  {
   "cell_type": "code",
   "execution_count": null,
   "id": "31283384",
   "metadata": {},
   "outputs": [],
   "source": []
  },
  {
   "cell_type": "markdown",
   "id": "bfc24cd6",
   "metadata": {},
   "source": [
    "# Generate new samples"
   ]
  },
  {
   "cell_type": "code",
   "execution_count": 148,
   "id": "fe5bc420",
   "metadata": {},
   "outputs": [],
   "source": [
    "# now taking decoder we can produce new data samples"
   ]
  },
  {
   "cell_type": "code",
   "execution_count": null,
   "id": "d1f9f8f8-1d3d-44d3-8c38-e2d082120b1c",
   "metadata": {},
   "outputs": [],
   "source": []
  },
  {
   "cell_type": "code",
   "execution_count": 149,
   "id": "80e5fbf7-d8f1-4155-875e-dd5e64ecf664",
   "metadata": {},
   "outputs": [],
   "source": [
    "st = rand_radious1.min()/ rand_radious1.max()"
   ]
  },
  {
   "cell_type": "code",
   "execution_count": 150,
   "id": "1dcc278f-c186-4e85-b6c8-3c8c40c8fd56",
   "metadata": {},
   "outputs": [
    {
     "data": {
      "text/plain": [
       "0.48340916633605957"
      ]
     },
     "execution_count": 150,
     "metadata": {},
     "output_type": "execute_result"
    }
   ],
   "source": [
    "float(opt_min[0].float())"
   ]
  },
  {
   "cell_type": "code",
   "execution_count": 151,
   "id": "a45c291f-c6b3-4daa-a99d-0665ba2e1219",
   "metadata": {},
   "outputs": [],
   "source": [
    "test_sample = torch.zeros((box_siz, box_siz))"
   ]
  },
  {
   "cell_type": "code",
   "execution_count": 152,
   "id": "9eb77db9",
   "metadata": {},
   "outputs": [],
   "source": [
    "num_test = 10\n",
    "with torch.no_grad():\n",
    "#     new_code = torch.linspace(0.5, 1, steps=50)\n",
    "    tia_class = torch.linspace(float(opt_min[0]), float(opt_max[0]), steps=num_test).reshape(-1,1)\n",
    "    tia_sample = torch.linspace(float(opt_min[1]), float(opt_max[1]), steps=num_test).reshape(-1,1)\n",
    "    new_code = torch.cat((tia_class, tia_sample), axis=1)\n",
    "#     noise = torch.rand(10, 1).to(DEVICE)\n",
    "#     model(torch.tensor())\n",
    "#     generated_sample = model(noise)"
   ]
  },
  {
   "cell_type": "code",
   "execution_count": 153,
   "id": "7da8efb7",
   "metadata": {},
   "outputs": [],
   "source": [
    "# new_code = new_code.reshape(-1, 1)"
   ]
  },
  {
   "cell_type": "code",
   "execution_count": 154,
   "id": "e68c85ee",
   "metadata": {},
   "outputs": [],
   "source": [
    "import itertools\n",
    "# list(itertools.product(tia, tia))"
   ]
  },
  {
   "cell_type": "code",
   "execution_count": 155,
   "id": "2248114b",
   "metadata": {},
   "outputs": [],
   "source": [
    "new_code = torch.tensor(list(itertools.product(tia_class, tia_sample)))"
   ]
  },
  {
   "cell_type": "code",
   "execution_count": 156,
   "id": "a9ff6f67",
   "metadata": {},
   "outputs": [],
   "source": [
    "#  torch.cartesian_prod(tia, tia)"
   ]
  },
  {
   "cell_type": "code",
   "execution_count": null,
   "id": "fb49d999",
   "metadata": {},
   "outputs": [],
   "source": []
  },
  {
   "cell_type": "code",
   "execution_count": 157,
   "id": "cb031094",
   "metadata": {},
   "outputs": [
    {
     "data": {
      "text/plain": [
       "torch.Size([100, 2])"
      ]
     },
     "execution_count": 157,
     "metadata": {},
     "output_type": "execute_result"
    }
   ],
   "source": [
    "new_code.shape"
   ]
  },
  {
   "cell_type": "code",
   "execution_count": 158,
   "id": "f0eb9e67",
   "metadata": {},
   "outputs": [],
   "source": [
    "# new_code"
   ]
  },
  {
   "cell_type": "code",
   "execution_count": 159,
   "id": "99c54be0",
   "metadata": {},
   "outputs": [
    {
     "data": {
      "text/plain": [
       "16"
      ]
     },
     "execution_count": 159,
     "metadata": {},
     "output_type": "execute_result"
    }
   ],
   "source": [
    "box_siz//2 * 2"
   ]
  },
  {
   "cell_type": "code",
   "execution_count": null,
   "id": "22a4793f",
   "metadata": {},
   "outputs": [],
   "source": []
  },
  {
   "cell_type": "code",
   "execution_count": 160,
   "id": "38612736",
   "metadata": {},
   "outputs": [
    {
     "name": "stdout",
     "output_type": "stream",
     "text": [
      "torch.Size([100, 256])\n"
     ]
    }
   ],
   "source": [
    "count = 0\n",
    "generated_sample = torch.empty((new_code.shape[0], box_siz ** 2))\n",
    "print(generated_sample.shape)\n",
    "for c in new_code:\n",
    "    for i in range(box_siz):\n",
    "        for j in range(box_siz):\n",
    "            test_sample [i,j] = model(torch.cat((torch.tensor([i/box_siz, j/box_siz]), c)))\n",
    "    \n",
    "#     print(test_sample.shape, test_sample.flatten().shape)\n",
    "    generated_sample[count] = test_sample.flatten()\n",
    "    count += 1\n",
    "#     generated_sample = torch.cat((generated_sample, test_sample.flatten()), axis=0)"
   ]
  },
  {
   "cell_type": "code",
   "execution_count": 161,
   "id": "8a8d616b",
   "metadata": {},
   "outputs": [],
   "source": [
    "# noise.shape"
   ]
  },
  {
   "cell_type": "code",
   "execution_count": 162,
   "id": "5c8db1bc",
   "metadata": {},
   "outputs": [
    {
     "data": {
      "text/plain": [
       "torch.Size([100, 256])"
      ]
     },
     "execution_count": 162,
     "metadata": {},
     "output_type": "execute_result"
    }
   ],
   "source": [
    "generated_sample.shape"
   ]
  },
  {
   "cell_type": "code",
   "execution_count": 163,
   "id": "230c892f",
   "metadata": {},
   "outputs": [
    {
     "data": {
      "text/plain": [
       "7.0"
      ]
     },
     "execution_count": 163,
     "metadata": {},
     "output_type": "execute_result"
    }
   ],
   "source": [
    "203/29"
   ]
  },
  {
   "cell_type": "code",
   "execution_count": 164,
   "id": "742d111a",
   "metadata": {},
   "outputs": [],
   "source": [
    "# generated_sample[0]"
   ]
  },
  {
   "cell_type": "code",
   "execution_count": 165,
   "id": "8120c328",
   "metadata": {},
   "outputs": [
    {
     "data": {
      "text/plain": [
       "16"
      ]
     },
     "execution_count": 165,
     "metadata": {},
     "output_type": "execute_result"
    }
   ],
   "source": [
    "box_siz//2 *2"
   ]
  },
  {
   "cell_type": "code",
   "execution_count": null,
   "id": "b76ff86b",
   "metadata": {},
   "outputs": [],
   "source": []
  },
  {
   "cell_type": "code",
   "execution_count": 166,
   "id": "9a93a88a",
   "metadata": {},
   "outputs": [],
   "source": [
    "# plt.subplot(212)\n",
    "# y = generated_sample[2].reshape(box_siz//2 *2,box_siz//2 *2).float()\n",
    "# plt.imshow(y.detach().numpy(), cmap='Greys',  interpolation='nearest')"
   ]
  },
  {
   "cell_type": "code",
   "execution_count": 167,
   "id": "f2756b22",
   "metadata": {},
   "outputs": [
    {
     "data": {
      "text/plain": [
       "tensor([1, 2])"
      ]
     },
     "execution_count": 167,
     "metadata": {},
     "output_type": "execute_result"
    }
   ],
   "source": [
    "torch.tensor([1,2])"
   ]
  },
  {
   "cell_type": "code",
   "execution_count": null,
   "id": "1cbeee42",
   "metadata": {},
   "outputs": [],
   "source": []
  },
  {
   "cell_type": "code",
   "execution_count": 168,
   "id": "3ce86a97",
   "metadata": {},
   "outputs": [
    {
     "data": {
      "image/png": "[encoded data removed]",
      "text/plain": [
       "<Figure size 1080x864 with 100 Axes>"
      ]
     },
     "metadata": {
      "needs_background": "light"
     },
     "output_type": "display_data"
    }
   ],
   "source": [
    "plt.figure(figsize=(15, 12))\n",
    "plt.subplots_adjust(hspace=0.2)\n",
    "plt.suptitle(\"---\", fontsize=18, y=0.95)\n",
    "plt.subplots_adjust(left=0.1,\n",
    "                    bottom=0.3,\n",
    "                    right=0.9,\n",
    "                    top=2.9,\n",
    "                    wspace=0.4,\n",
    "                    hspace=0.7)\n",
    "# set number of columns (use 3 to demonstrate the change)\n",
    "ncols =5\n",
    "\n",
    "nrows = new_code.shape[0]//ncols +1\n",
    "if (nrows==0):\n",
    "    nrows =1\n",
    "    \n",
    "for idx, sample in enumerate (generated_sample):\n",
    "#     print(sample.shape)\n",
    "    ax = plt.subplot(nrows, ncols, idx + 1)\n",
    "    ax.title.set_text(str(new_code[idx]))\n",
    "#     print([idx])\n",
    "    y = sample.reshape(box_siz, box_siz).float()\n",
    "\n",
    "    plt.imshow(y.detach().numpy(), cmap='Greys',  interpolation='nearest')\n",
    "    \n"
   ]
  },
  {
   "cell_type": "code",
   "execution_count": null,
   "id": "adf859f4",
   "metadata": {},
   "outputs": [],
   "source": []
  },
  {
   "cell_type": "markdown",
   "id": "aecfee85",
   "metadata": {},
   "source": [
    "# comment"
   ]
  },
  {
   "cell_type": "code",
   "execution_count": null,
   "id": "4ecfa268",
   "metadata": {},
   "outputs": [],
   "source": [
    "# dataset should be evenly splited with samples from each class. Random setting is not good, as you might\n",
    "# not providing equal (sufficient) samples of one specefic class and over provide for another class.\n",
    "# This produces bias for the training. To see this go up and uncomment the line.\n",
    "\n",
    "# if you like to produce black square or circles you only need to edit box function on the top of \n",
    "# this notebook file.\n",
    "\n",
    "# Adding more sample data was the best practice for accuracy. \n",
    "# For seeing the results it was best to choose a larger box size.\n",
    "\n",
    "# adding dropout was a good practice.\n",
    "\n",
    "# there are more than one loss functions I tested here. loss = nn.MSELoss() is the best\n",
    "# loss = nn.BCEWithLogitsLoss() was not good. Don't know why.\n",
    "\n",
    "# sometimes you need to run this notebook file more than once to have a good result\n",
    "\n",
    "# sometimes you should play with hidden layers numbers and ... to fine tune the results.\n",
    "\n",
    "# when I incresed box size, it produces more zerots in the plane and ones. sometimes it is not good\n",
    "# as it only thinks that majority of pixels are zero and trains zero planes.\n"
   ]
  },
  {
   "cell_type": "code",
   "execution_count": null,
   "id": "adea12a5",
   "metadata": {},
   "outputs": [],
   "source": []
  },
  {
   "cell_type": "code",
   "execution_count": null,
   "id": "70caae38",
   "metadata": {},
   "outputs": [],
   "source": []
  },
  {
   "cell_type": "code",
   "execution_count": null,
   "id": "bf579d79",
   "metadata": {},
   "outputs": [],
   "source": []
  },
  {
   "cell_type": "code",
   "execution_count": null,
   "id": "02530fcd",
   "metadata": {},
   "outputs": [],
   "source": []
  },
  {
   "cell_type": "code",
   "execution_count": null,
   "id": "ceb9f8b2",
   "metadata": {},
   "outputs": [],
   "source": []
  },
  {
   "cell_type": "code",
   "execution_count": null,
   "id": "184e89fb",
   "metadata": {},
   "outputs": [],
   "source": []
  },
  {
   "cell_type": "code",
   "execution_count": null,
   "id": "be40769c",
   "metadata": {},
   "outputs": [],
   "source": []
  }
 ],
 "metadata": {
  "kernelspec": {
   "display_name": "Python 3",
   "language": "python",
   "name": "python3"
  },
  "language_info": {
   "codemirror_mode": {
    "name": "ipython",
    "version": 3
   },
   "file_extension": ".py",
   "mimetype": "text/x-python",
   "name": "python",
   "nbconvert_exporter": "python",
   "pygments_lexer": "ipython3",
   "version": "3.9.12"
  }
 },
 "nbformat": 4,
 "nbformat_minor": 5
}
