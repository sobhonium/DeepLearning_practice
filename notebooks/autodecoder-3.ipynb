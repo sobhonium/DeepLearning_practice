{
 "cells": [
  {
   "cell_type": "code",
   "execution_count": 1,
   "id": "cf109f6b",
   "metadata": {},
   "outputs": [],
   "source": [
    "# Feb 2023 \n",
    "# freezed version\n",
    "# Auto-Decoder --> This auto decoder trains 2 classes where each have their own subclasses. I considered a 2d code for code part and \n",
    "# fixed first column of code for 2 classed then the second column goes to the subclasses of each. as an exmaple [1, 1], [1, 2], [1, 3] are\n",
    "# showing square with different sizes and [2, 1], [2, 2], [2, 3] show the cicles of differnt sizes. But instead in here as apposed to the\n",
    "# previous notebook, where I trained squares and circles, I trained vertical and horizonal lines. \n"
   ]
  },
  {
   "cell_type": "code",
   "execution_count": null,
   "id": "fe66759c",
   "metadata": {},
   "outputs": [],
   "source": []
  },
  {
   "cell_type": "code",
   "execution_count": 2,
   "id": "d5c35241",
   "metadata": {},
   "outputs": [
    {
     "name": "stderr",
     "output_type": "stream",
     "text": [
      "/home/sobhan/miniconda3/envs/ml-dl/lib/python3.9/site-packages/torch/cuda/__init__.py:83: UserWarning: CUDA initialization: The NVIDIA driver on your system is too old (found version 9010). Please update your GPU driver by downloading and installing a new version from the URL: http://www.nvidia.com/Download/index.aspx Alternatively, go to: https://pytorch.org to install a PyTorch version that has been compiled with your version of the CUDA driver. (Triggered internally at  ../c10/cuda/CUDAFunctions.cpp:109.)\n",
      "  return torch._C._cuda_getDeviceCount() > 0\n"
     ]
    }
   ],
   "source": [
    "import torch\n",
    "import torch.nn as nn\n",
    "import torch.nn.functional as F\n",
    "from torch.utils.data import DataLoader\n",
    "import numpy as np\n",
    "import matplotlib.pyplot as plt\n"
   ]
  },
  {
   "cell_type": "code",
   "execution_count": null,
   "id": "8801356f",
   "metadata": {},
   "outputs": [],
   "source": []
  },
  {
   "cell_type": "code",
   "execution_count": null,
   "id": "f0887ed6",
   "metadata": {},
   "outputs": [],
   "source": []
  },
  {
   "cell_type": "code",
   "execution_count": 3,
   "id": "d6baf523",
   "metadata": {},
   "outputs": [],
   "source": [
    "from math import sqrt, floor\n",
    "\n",
    "def circle(radius=2, box_size=28):\n",
    "    '''\n",
    "    to put some solid boxes in plain white images\n",
    "    returns image(s) with boxes on them with the radius defined for them\n",
    "    Comment: radius is a misnormer here. I wanted to show a scale thing for box in image\n",
    "    firstly I wrote a cricle function (not a box) that is why I left radius like this \n",
    "    '''\n",
    "    box_siz = (box_size//2) * 2\n",
    "    if isinstance(radius, int):\n",
    "        radius = np.array([radius])\n",
    "    \n",
    "    elif isinstance(radius, float):\n",
    "        radius = np.array([floor(radius)])\n",
    "        \n",
    "    elif not isinstance(radius, np.ndarray):\n",
    "        rads = np.array(radius)\n",
    "        \n",
    "    rads = np.array(radius)\n",
    "\n",
    "    position = np.zeros((rads.size, box_size//2 * 2, box_size//2 * 2))\n",
    "#     print(rads)\n",
    "\n",
    "    for i, r in enumerate(rads-1):\n",
    "\n",
    "        for  x in range(-box_size//2, box_size//2):\n",
    "            for y in range(-box_size//2, box_size//2):\n",
    "                if (x**2+y**2 - r**2 <0.1):\n",
    "                    position[i, x+box_size//2 , y+box_size//2] =  1    \n",
    "                \n",
    "\n",
    "                \n",
    "    return   torch.from_numpy(position)\n",
    "#     return  torch.from_numpy(position).flatten(start_dim=1)"
   ]
  },
  {
   "cell_type": "code",
   "execution_count": null,
   "id": "6c1af28c",
   "metadata": {},
   "outputs": [],
   "source": []
  },
  {
   "cell_type": "code",
   "execution_count": 4,
   "id": "42be7e71",
   "metadata": {},
   "outputs": [],
   "source": [
    "from math import sqrt, floor\n",
    "\n",
    "def line(radius=2, box_size=28, line_ori = 'x'):\n",
    "    '''\n",
    "    to put some solid boxes in plain white images\n",
    "    returns image(s) with boxes on them with the radius defined for them\n",
    "    Comment: radius is a misnormer here. I wanted to show a scale thing for box in image\n",
    "    firstly I wrote a cricle function (not a box) that is why I left radius like this \n",
    "    '''\n",
    "    box_siz = (box_size//2) * 2\n",
    "    if isinstance(radius, int):\n",
    "        radius = np.array([radius])\n",
    "    \n",
    "    elif isinstance(radius, float):\n",
    "        radius = np.array([floor(radius)])\n",
    "        \n",
    "    elif not isinstance(radius, np.ndarray):\n",
    "        rads = np.array(radius)\n",
    "        \n",
    "    rads = np.array(radius)\n",
    "\n",
    "    position = np.zeros((rads.size, box_size//2 * 2, box_size//2 * 2))\n",
    "#     print(rads)\n",
    "\n",
    "    for i, r in enumerate(rads-1):\n",
    "\n",
    "        for  x in range(box_siz):\n",
    "            for y in range(box_siz):\n",
    "                \n",
    "                if (x>=r and (x<=r+1) and line_ori=='x') :\n",
    "                    position[i, x , y] = 1\n",
    "                \n",
    "                if (y>=r and (y<=r+1) and line_ori=='y') :\n",
    "                    position[i, x , y] = 1    \n",
    "                \n",
    "\n",
    "                \n",
    "    return   torch.from_numpy(position)\n",
    "#     return  torch.from_numpy(position).flatten(start_dim=1)"
   ]
  },
  {
   "cell_type": "code",
   "execution_count": null,
   "id": "2418cd28",
   "metadata": {},
   "outputs": [],
   "source": []
  },
  {
   "cell_type": "code",
   "execution_count": 5,
   "id": "0244552c",
   "metadata": {},
   "outputs": [
    {
     "data": {
      "text/plain": [
       "tensor([[[0., 0., 0., 0., 1., 1., 0., 0.],\n",
       "         [0., 0., 0., 0., 1., 1., 0., 0.],\n",
       "         [0., 0., 0., 0., 1., 1., 0., 0.],\n",
       "         [0., 0., 0., 0., 1., 1., 0., 0.],\n",
       "         [0., 0., 0., 0., 1., 1., 0., 0.],\n",
       "         [0., 0., 0., 0., 1., 1., 0., 0.],\n",
       "         [0., 0., 0., 0., 1., 1., 0., 0.],\n",
       "         [0., 0., 0., 0., 1., 1., 0., 0.]]], dtype=torch.float64)"
      ]
     },
     "execution_count": 5,
     "metadata": {},
     "output_type": "execute_result"
    }
   ],
   "source": [
    "line(radius=5, box_size=9, line_ori='y')"
   ]
  },
  {
   "cell_type": "code",
   "execution_count": null,
   "id": "7952896c",
   "metadata": {},
   "outputs": [],
   "source": []
  },
  {
   "cell_type": "code",
   "execution_count": null,
   "id": "c5ee652f",
   "metadata": {},
   "outputs": [],
   "source": []
  },
  {
   "cell_type": "code",
   "execution_count": 6,
   "id": "f2d66b34",
   "metadata": {},
   "outputs": [],
   "source": [
    "from math import sqrt, floor\n",
    "\n",
    "def box(radius=2, box_size=28):\n",
    "    '''\n",
    "    to put some solid boxes in plain white images\n",
    "    returns image(s) with boxes on them with the radius defined for them\n",
    "    Comment: radius is a misnormer here. I wanted to show a scale thing for box in image\n",
    "    firstly I wrote a cricle function (not a box) that is why I left radius like this \n",
    "    '''\n",
    "    box_siz = (box_size//2) * 2\n",
    "    if isinstance(radius, int):\n",
    "        radius = np.array([radius])\n",
    "    \n",
    "    elif isinstance(radius, float):\n",
    "        radius = np.array([floor(radius)])\n",
    "        \n",
    "    elif not isinstance(radius, np.ndarray):\n",
    "        rads = np.array(radius)\n",
    "        \n",
    "    rads = np.array(radius)\n",
    "\n",
    "    position = np.zeros((rads.size, box_size//2 * 2, box_size//2 * 2))\n",
    "#     print(rads)\n",
    "\n",
    "    for i, r in enumerate(rads-1):\n",
    "#         for  x in range(0, box_siz):\n",
    "#             for  y in range(0, box_siz):\n",
    "#                 if (x<=r or x+r>=box_siz-1): #and   (y>=r and y+r<box_siz) :\n",
    "#                     position[i, x , y] = 1\n",
    "#                 elif (y<=r or y+r>=box_siz-1): # and (x>=r and x+r<box_siz) :\n",
    "#                     position[i, x , y] = 1\n",
    "                    \n",
    "                    \n",
    "#                 elif (y==r or y+r==(box_size//2)*2-1) and (x>=r and x+r<(box_size//2)*2) :\n",
    "#                     position[i, x , y] = 1 \n",
    "\n",
    "        for  x in range(-box_size//2, box_size//2):\n",
    "            for y in range(-box_size//2, box_size//2):\n",
    "#                 if (x**2+y**2 - r**2 <0.1):\n",
    "#                     position[i, x+box_size//2 , y+box_size//2] =  1    \n",
    "                \n",
    "                if ((abs(x) - r) < 0.01 and (abs(y) - r) < 0.01 ):\n",
    "                    position[i, x+box_size//2 , y+box_size//2] = 1\n",
    "\n",
    "\n",
    "#                 if ((abs(x) - r) < 1 and (abs(y) - r) < 0.01 ):\n",
    "#                     position[i, x+box_size//2 , y+box_size//2] = 1\n",
    "                \n",
    "    return   torch.from_numpy(position)\n",
    "#     return  torch.from_numpy(position).flatten(start_dim=1)\n",
    "    "
   ]
  },
  {
   "cell_type": "code",
   "execution_count": 7,
   "id": "6e06b544",
   "metadata": {},
   "outputs": [
    {
     "data": {
      "text/plain": [
       "tensor([[[0., 0., 0., 0., 0., 0., 0., 0.],\n",
       "         [0., 0., 0., 0., 1., 0., 0., 0.],\n",
       "         [0., 0., 1., 1., 1., 1., 1., 0.],\n",
       "         [0., 0., 1., 1., 1., 1., 1., 0.],\n",
       "         [0., 1., 1., 1., 1., 1., 1., 1.],\n",
       "         [0., 0., 1., 1., 1., 1., 1., 0.],\n",
       "         [0., 0., 1., 1., 1., 1., 1., 0.],\n",
       "         [0., 0., 0., 0., 1., 0., 0., 0.]]], dtype=torch.float64)"
      ]
     },
     "execution_count": 7,
     "metadata": {},
     "output_type": "execute_result"
    }
   ],
   "source": [
    "circle(radius=4, box_size=9)"
   ]
  },
  {
   "cell_type": "code",
   "execution_count": 8,
   "id": "ad78f110",
   "metadata": {},
   "outputs": [
    {
     "data": {
      "text/plain": [
       "tensor([[[0., 0., 0., 0., 0., 0., 0., 0.],\n",
       "         [0., 1., 1., 1., 1., 1., 1., 1.],\n",
       "         [0., 1., 1., 1., 1., 1., 1., 1.],\n",
       "         [0., 1., 1., 1., 1., 1., 1., 1.],\n",
       "         [0., 1., 1., 1., 1., 1., 1., 1.],\n",
       "         [0., 1., 1., 1., 1., 1., 1., 1.],\n",
       "         [0., 1., 1., 1., 1., 1., 1., 1.],\n",
       "         [0., 1., 1., 1., 1., 1., 1., 1.]]], dtype=torch.float64)"
      ]
     },
     "execution_count": 8,
     "metadata": {},
     "output_type": "execute_result"
    }
   ],
   "source": [
    "box(radius=4, box_size=9)"
   ]
  },
  {
   "cell_type": "code",
   "execution_count": 9,
   "id": "cc367a8c",
   "metadata": {},
   "outputs": [
    {
     "data": {
      "text/plain": [
       "tensor([[[0., 0., 0., 0., 0., 0., 0., 0.],\n",
       "         [0., 0., 0., 0., 0., 0., 0., 0.],\n",
       "         [0., 0., 0., 0., 0., 0., 0., 0.],\n",
       "         [1., 1., 1., 1., 1., 1., 1., 1.],\n",
       "         [1., 1., 1., 1., 1., 1., 1., 1.],\n",
       "         [0., 0., 0., 0., 0., 0., 0., 0.],\n",
       "         [0., 0., 0., 0., 0., 0., 0., 0.],\n",
       "         [0., 0., 0., 0., 0., 0., 0., 0.]]], dtype=torch.float64)"
      ]
     },
     "execution_count": 9,
     "metadata": {},
     "output_type": "execute_result"
    }
   ],
   "source": [
    "line(radius=4, box_size=9)"
   ]
  },
  {
   "cell_type": "code",
   "execution_count": null,
   "id": "0beb8e80-e9ba-444e-affd-466e5f3349a1",
   "metadata": {},
   "outputs": [],
   "source": []
  },
  {
   "cell_type": "code",
   "execution_count": null,
   "id": "9ff7877e-a8d2-4c79-bc62-46dfabf5abc3",
   "metadata": {},
   "outputs": [],
   "source": []
  },
  {
   "cell_type": "markdown",
   "id": "69596c32-db03-4b29-b607-d1ae874c2eb0",
   "metadata": {},
   "source": [
    "# Visualization of exmaples"
   ]
  },
  {
   "cell_type": "code",
   "execution_count": null,
   "id": "84532393-f4bc-42e0-82b9-b251c942fdff",
   "metadata": {},
   "outputs": [],
   "source": []
  },
  {
   "cell_type": "code",
   "execution_count": 10,
   "id": "22a72278",
   "metadata": {},
   "outputs": [
    {
     "data": {
      "image/png": "[encoded data removed]",
      "text/plain": [
       "<Figure size 1080x864 with 7 Axes>"
      ]
     },
     "metadata": {
      "needs_background": "light"
     },
     "output_type": "display_data"
    }
   ],
   "source": [
    "plt.figure(figsize=(15, 12))\n",
    "plt.subplots_adjust(hspace=0.2)\n",
    "plt.suptitle(\"---\", fontsize=18, y=0.95)\n",
    "plt.subplots_adjust(left=0.1,\n",
    "                    bottom=0.3,\n",
    "                    right=0.9,\n",
    "                    top=1.39,\n",
    "                    wspace=0.4,\n",
    "                    hspace=0.17)\n",
    "# set number of columns (use 3 to demonstrate the change)\n",
    "\n",
    "box_size = 8\n",
    "half_box_size = box_size//2\n",
    "box_size = half_box_size* 2  # updated\n",
    "\n",
    "ncols = box_size\n",
    "nrows =1\n",
    "for idx in range (1, box_size):\n",
    "    ax = plt.subplot(nrows, ncols, idx + 1)\n",
    "    ax.title.set_text('input= '+str(idx))\n",
    "    y = line(radius=idx, box_size=box_size, line_ori='x').float()\n",
    "    plt.imshow(y.reshape(box_size,box_size).detach().numpy(), cmap='Greys',  interpolation='nearest')\n"
   ]
  },
  {
   "cell_type": "code",
   "execution_count": 11,
   "id": "f597d782",
   "metadata": {},
   "outputs": [
    {
     "data": {
      "image/png": "[encoded data removed]",
      "text/plain": [
       "<Figure size 432x288 with 8 Axes>"
      ]
     },
     "metadata": {
      "needs_background": "light"
     },
     "output_type": "display_data"
    }
   ],
   "source": [
    "for idx in range (box_size, box_size + box_size):    \n",
    "    ax = plt.subplot(nrows+1 , ncols, idx+1 )\n",
    "    ax.title.set_text('input= '+str(idx))\n",
    "    y = line(radius=idx-box_size, box_size=box_size, line_ori='y').float()\n",
    "    plt.imshow(y.reshape(box_size,box_size).detach().numpy(), cmap='Greys',  interpolation='nearest')"
   ]
  },
  {
   "cell_type": "code",
   "execution_count": 12,
   "id": "1d0aa750",
   "metadata": {},
   "outputs": [],
   "source": [
    "box_siz = 8\n",
    "num_samples = 4000\n",
    "half_box_siz = box_siz//2\n",
    "box_siz = half_box_siz * 2 # updating box size (now it is not an odd number)"
   ]
  },
  {
   "cell_type": "code",
   "execution_count": 13,
   "id": "c967d7b8",
   "metadata": {},
   "outputs": [],
   "source": [
    "def func(num, divider):\n",
    "    return num//divider + 1\n",
    "l1 =  np.arange(num_samples//2)\n",
    "l2 =  np.arange(num_samples//2)"
   ]
  },
  {
   "cell_type": "code",
   "execution_count": null,
   "id": "82ee7a1c-84f7-46e9-8c4b-1c4a8402a7b9",
   "metadata": {},
   "outputs": [],
   "source": []
  },
  {
   "cell_type": "code",
   "execution_count": 14,
   "id": "1d1719c9-17df-49fa-b4f8-fd3b5add0edf",
   "metadata": {},
   "outputs": [
    {
     "data": {
      "text/plain": [
       "array([   0,    1,    2, ..., 1997, 1998, 1999])"
      ]
     },
     "execution_count": 14,
     "metadata": {},
     "output_type": "execute_result"
    }
   ],
   "source": [
    "l1"
   ]
  },
  {
   "cell_type": "code",
   "execution_count": 15,
   "id": "5e842b69-7787-4097-b233-42a9fbf77077",
   "metadata": {},
   "outputs": [
    {
     "data": {
      "text/plain": [
       "500.0"
      ]
     },
     "execution_count": 15,
     "metadata": {},
     "output_type": "execute_result"
    }
   ],
   "source": [
    "(num_samples)/box_siz"
   ]
  },
  {
   "cell_type": "code",
   "execution_count": 16,
   "id": "642b6b73",
   "metadata": {},
   "outputs": [
    {
     "data": {
      "text/plain": [
       "tensor([1., 1., 1.,  ..., 8., 8., 8.], dtype=torch.float64)"
      ]
     },
     "execution_count": 16,
     "metadata": {},
     "output_type": "execute_result"
    }
   ],
   "source": [
    "torch.tensor(list(map(func, l1, [(num_samples//2)/box_siz]*(num_samples//2))))\n"
   ]
  },
  {
   "cell_type": "code",
   "execution_count": 17,
   "id": "dbc365a9",
   "metadata": {},
   "outputs": [],
   "source": [
    "# you can use each of the followings for seeing how random number of class samples or fix number of\n",
    "# class samples might affect the results. one very import factor for training here is to \n",
    "# have equal number of samples in each class. Just uncomment the line and comment the other one.\n",
    "\n",
    "# rand_radious = torch.randint(1, centralbox_size+1, (num_samples,)) # create a random array of raduis \n",
    "rand_radious1 = torch.tensor(list(map(func, l1, [(num_samples)/half_box_siz]*(num_samples//2))))\n",
    "rand_radious1 = torch.tensor(list(map(func, l1, [(num_samples//2)/box_siz]*(num_samples//2))))\n",
    "features1 = line(radius=rand_radious1, box_size=box_siz, line_ori='x')  # data set\n",
    "\n",
    "rand_radious2 = torch.tensor(list(map(func, l2, [(num_samples//2)/box_siz]*(num_samples//2))))\n",
    "# features2 = circle(radius=rand_radious1, box_size=box_siz)  # data set\n",
    "features2 = line(radius=rand_radious2, box_size=box_siz, line_ori='y')  # data set"
   ]
  },
  {
   "cell_type": "code",
   "execution_count": 18,
   "id": "b716b64a",
   "metadata": {},
   "outputs": [],
   "source": [
    "features =  torch.cat((features1, features2), axis=0)"
   ]
  },
  {
   "cell_type": "code",
   "execution_count": 19,
   "id": "dc7c5472",
   "metadata": {},
   "outputs": [
    {
     "data": {
      "text/plain": [
       "(torch.Size([4000, 8, 8]), torch.Size([2000, 8, 8]), torch.Size([2000, 8, 8]))"
      ]
     },
     "execution_count": 19,
     "metadata": {},
     "output_type": "execute_result"
    }
   ],
   "source": [
    "features.shape, features1.shape, features2.shape"
   ]
  },
  {
   "cell_type": "code",
   "execution_count": 20,
   "id": "637f59b6",
   "metadata": {},
   "outputs": [],
   "source": [
    "# rand_radious1 = torch.tensor([1]*(num_samples//2))\n",
    "# rand_radious2 = torch.tensor([2]*(num_samples//2))\n",
    "# rand_radious = torch.cat((rand_radious1, rand_radious2), axis=0)\n",
    "\n",
    "\n",
    "# features = box(radius=rand_radious, box_size=box_siz)  # data set"
   ]
  },
  {
   "cell_type": "code",
   "execution_count": 21,
   "id": "08701857",
   "metadata": {},
   "outputs": [
    {
     "data": {
      "text/plain": [
       "tensor([1., 1., 1.,  ..., 8., 8., 8.], dtype=torch.float64)"
      ]
     },
     "execution_count": 21,
     "metadata": {},
     "output_type": "execute_result"
    }
   ],
   "source": [
    "rand_radious1"
   ]
  },
  {
   "cell_type": "code",
   "execution_count": 22,
   "id": "bad09f95",
   "metadata": {},
   "outputs": [
    {
     "data": {
      "text/plain": [
       "4"
      ]
     },
     "execution_count": 22,
     "metadata": {},
     "output_type": "execute_result"
    }
   ],
   "source": [
    "half_box_siz\n"
   ]
  },
  {
   "cell_type": "code",
   "execution_count": 23,
   "id": "a5ea080a",
   "metadata": {},
   "outputs": [],
   "source": [
    "# torch.tensor(list(map(func, l1, [(num_samples//2)/half_box_siz]*(num_samples//2))))"
   ]
  },
  {
   "cell_type": "code",
   "execution_count": 24,
   "id": "a82894fb",
   "metadata": {},
   "outputs": [
    {
     "data": {
      "text/plain": [
       "torch.Size([4000, 8, 8])"
      ]
     },
     "execution_count": 24,
     "metadata": {},
     "output_type": "execute_result"
    }
   ],
   "source": [
    "features.shape"
   ]
  },
  {
   "cell_type": "code",
   "execution_count": 25,
   "id": "4a783eb3-f891-4c01-8ba9-183d6e0c64a2",
   "metadata": {},
   "outputs": [
    {
     "data": {
      "text/plain": [
       "tensor([[1., 1., 1., 1., 1., 1., 1., 1.],\n",
       "        [1., 1., 1., 1., 1., 1., 1., 1.],\n",
       "        [0., 0., 0., 0., 0., 0., 0., 0.],\n",
       "        [0., 0., 0., 0., 0., 0., 0., 0.],\n",
       "        [0., 0., 0., 0., 0., 0., 0., 0.],\n",
       "        [0., 0., 0., 0., 0., 0., 0., 0.],\n",
       "        [0., 0., 0., 0., 0., 0., 0., 0.],\n",
       "        [0., 0., 0., 0., 0., 0., 0., 0.]], dtype=torch.float64)"
      ]
     },
     "execution_count": 25,
     "metadata": {},
     "output_type": "execute_result"
    }
   ],
   "source": [
    "features[38]"
   ]
  },
  {
   "cell_type": "code",
   "execution_count": 26,
   "id": "b7f8e667",
   "metadata": {},
   "outputs": [],
   "source": [
    "# rand_radious = torch.cat((rand_radious1, rand_radious2), axis=0)"
   ]
  },
  {
   "cell_type": "code",
   "execution_count": 27,
   "id": "463a1236",
   "metadata": {},
   "outputs": [],
   "source": [
    "# rand_radious.shape"
   ]
  },
  {
   "cell_type": "code",
   "execution_count": 28,
   "id": "9888d44d",
   "metadata": {},
   "outputs": [],
   "source": [
    "\n",
    "# l2 =  np.arange(1,box_siz//2)"
   ]
  },
  {
   "cell_type": "code",
   "execution_count": null,
   "id": "445de09e",
   "metadata": {},
   "outputs": [],
   "source": []
  },
  {
   "cell_type": "code",
   "execution_count": 29,
   "id": "a929af13",
   "metadata": {},
   "outputs": [],
   "source": [
    "# rand_radious = torch.tensor(list(map(func, l1, [200//(box_siz//2)]*200)))"
   ]
  },
  {
   "cell_type": "code",
   "execution_count": 30,
   "id": "64391920",
   "metadata": {},
   "outputs": [],
   "source": [
    "# rand_radious"
   ]
  },
  {
   "cell_type": "code",
   "execution_count": 31,
   "id": "56afdb83",
   "metadata": {},
   "outputs": [],
   "source": [
    "#  np.unique(features, axis=0).shape"
   ]
  },
  {
   "cell_type": "code",
   "execution_count": 32,
   "id": "9ced0db0",
   "metadata": {},
   "outputs": [],
   "source": [
    "# select unique data samples only\n",
    "# features = torch.from_numpy(np.unique(features, axis=0))#.shape"
   ]
  },
  {
   "cell_type": "code",
   "execution_count": 33,
   "id": "00b8cc57",
   "metadata": {},
   "outputs": [
    {
     "data": {
      "text/plain": [
       "5"
      ]
     },
     "execution_count": 33,
     "metadata": {},
     "output_type": "execute_result"
    }
   ],
   "source": [
    "half_box_siz+1"
   ]
  },
  {
   "cell_type": "code",
   "execution_count": 34,
   "id": "e9f2ccda",
   "metadata": {},
   "outputs": [],
   "source": [
    "# features.shape"
   ]
  },
  {
   "cell_type": "code",
   "execution_count": null,
   "id": "660e8677",
   "metadata": {},
   "outputs": [],
   "source": []
  },
  {
   "cell_type": "code",
   "execution_count": 35,
   "id": "65909757",
   "metadata": {},
   "outputs": [],
   "source": [
    "# rand_radious"
   ]
  },
  {
   "cell_type": "code",
   "execution_count": 36,
   "id": "320e72d8",
   "metadata": {},
   "outputs": [],
   "source": [
    "# rand_radious/rand_radious.max()"
   ]
  },
  {
   "cell_type": "code",
   "execution_count": null,
   "id": "3d79d41f",
   "metadata": {},
   "outputs": [],
   "source": []
  },
  {
   "cell_type": "code",
   "execution_count": 37,
   "id": "985800c5",
   "metadata": {},
   "outputs": [],
   "source": [
    "# rand_radious[10]/rand_radious.max()"
   ]
  },
  {
   "cell_type": "code",
   "execution_count": 38,
   "id": "91ec21f0",
   "metadata": {},
   "outputs": [
    {
     "data": {
      "text/plain": [
       "tensor([[1., 1., 1., 1., 1., 1., 1., 1.],\n",
       "        [1., 1., 1., 1., 1., 1., 1., 1.],\n",
       "        [0., 0., 0., 0., 0., 0., 0., 0.],\n",
       "        [0., 0., 0., 0., 0., 0., 0., 0.],\n",
       "        [0., 0., 0., 0., 0., 0., 0., 0.],\n",
       "        [0., 0., 0., 0., 0., 0., 0., 0.],\n",
       "        [0., 0., 0., 0., 0., 0., 0., 0.],\n",
       "        [0., 0., 0., 0., 0., 0., 0., 0.]], dtype=torch.float64)"
      ]
     },
     "execution_count": 38,
     "metadata": {},
     "output_type": "execute_result"
    }
   ],
   "source": [
    "features[10]"
   ]
  },
  {
   "cell_type": "code",
   "execution_count": 39,
   "id": "fc5b893a",
   "metadata": {},
   "outputs": [
    {
     "data": {
      "text/plain": [
       "torch.Size([4000, 8, 8])"
      ]
     },
     "execution_count": 39,
     "metadata": {},
     "output_type": "execute_result"
    }
   ],
   "source": [
    "features.shape"
   ]
  },
  {
   "cell_type": "code",
   "execution_count": 42,
   "id": "d58ae32b",
   "metadata": {},
   "outputs": [],
   "source": []
  },
  {
   "cell_type": "code",
   "execution_count": 43,
   "id": "277fc741",
   "metadata": {},
   "outputs": [],
   "source": [
    "# Code is 2d and the first col is designated to the first shape family. and the second is for subclass examples.\n",
    "\n",
    "code = torch.zeros((num_samples, 2))\n",
    "\n",
    "code[0             : num_samples//2, 0] = 1\n",
    "code[num_samples//2: num_samples   , 0] = 2\n",
    "\n",
    "code[0             : num_samples//2, 1] = rand_radious1\n",
    "code[num_samples//2: num_samples   , 1] = rand_radious2"
   ]
  },
  {
   "cell_type": "code",
   "execution_count": 44,
   "id": "a4c4cb96",
   "metadata": {},
   "outputs": [
    {
     "data": {
      "text/plain": [
       "tensor([[1., 1.],\n",
       "        [1., 1.],\n",
       "        [1., 1.],\n",
       "        ...,\n",
       "        [2., 8.],\n",
       "        [2., 8.],\n",
       "        [2., 8.]])"
      ]
     },
     "execution_count": 44,
     "metadata": {},
     "output_type": "execute_result"
    }
   ],
   "source": [
    "code"
   ]
  },
  {
   "cell_type": "code",
   "execution_count": 45,
   "id": "4c7a8797",
   "metadata": {},
   "outputs": [
    {
     "data": {
      "text/plain": [
       "torch.Size([4000, 2])"
      ]
     },
     "execution_count": 45,
     "metadata": {},
     "output_type": "execute_result"
    }
   ],
   "source": [
    "code.shape"
   ]
  },
  {
   "cell_type": "code",
   "execution_count": 46,
   "id": "8696cf22",
   "metadata": {},
   "outputs": [
    {
     "data": {
      "text/plain": [
       "tensor([2., 8.])"
      ]
     },
     "execution_count": 46,
     "metadata": {},
     "output_type": "execute_result"
    }
   ],
   "source": [
    "torch.max(code, axis=0).values"
   ]
  },
  {
   "cell_type": "code",
   "execution_count": 47,
   "id": "e0a21df8",
   "metadata": {},
   "outputs": [],
   "source": [
    "code = code/torch.max(code, axis=0).values"
   ]
  },
  {
   "cell_type": "code",
   "execution_count": 48,
   "id": "a1c3b76f",
   "metadata": {},
   "outputs": [
    {
     "data": {
      "text/plain": [
       "tensor([[0.5000, 0.1250],\n",
       "        [0.5000, 0.1250],\n",
       "        [0.5000, 0.1250],\n",
       "        ...,\n",
       "        [1.0000, 1.0000],\n",
       "        [1.0000, 1.0000],\n",
       "        [1.0000, 1.0000]])"
      ]
     },
     "execution_count": 48,
     "metadata": {},
     "output_type": "execute_result"
    }
   ],
   "source": [
    "code"
   ]
  },
  {
   "cell_type": "code",
   "execution_count": 49,
   "id": "95dd79eb",
   "metadata": {},
   "outputs": [],
   "source": [
    "# random code\n",
    "# code = torch.randint(1, 5, (features.shape[0],1))"
   ]
  },
  {
   "cell_type": "code",
   "execution_count": 50,
   "id": "acf1cd2b",
   "metadata": {},
   "outputs": [],
   "source": [
    "# for i in range(features.shape[0]):\n",
    "# code  = rand_radious/rand_radious.max()\n",
    "    \n",
    "#     print(rand_radious[i]/rand_radious.max() )\n",
    "#     code [i, 0] = features[i].sum()\n",
    "#     code [i, 1] = features[i].sum()"
   ]
  },
  {
   "cell_type": "code",
   "execution_count": null,
   "id": "b6757ae3",
   "metadata": {},
   "outputs": [],
   "source": []
  },
  {
   "cell_type": "code",
   "execution_count": 51,
   "id": "3345fa2d",
   "metadata": {},
   "outputs": [
    {
     "data": {
      "text/plain": [
       "torch.Size([4000, 2])"
      ]
     },
     "execution_count": 51,
     "metadata": {},
     "output_type": "execute_result"
    }
   ],
   "source": [
    "code.shape"
   ]
  },
  {
   "cell_type": "code",
   "execution_count": 52,
   "id": "7a1546ef",
   "metadata": {},
   "outputs": [],
   "source": [
    "# code[0:]"
   ]
  },
  {
   "cell_type": "code",
   "execution_count": 53,
   "id": "4e9cc0a8",
   "metadata": {},
   "outputs": [],
   "source": [
    "# features = features/features.shape[1]"
   ]
  },
  {
   "cell_type": "code",
   "execution_count": 54,
   "id": "02b13dfa",
   "metadata": {},
   "outputs": [
    {
     "data": {
      "text/plain": [
       "4000"
      ]
     },
     "execution_count": 54,
     "metadata": {},
     "output_type": "execute_result"
    }
   ],
   "source": [
    "features.shape[0]"
   ]
  },
  {
   "cell_type": "code",
   "execution_count": 55,
   "id": "ad203d2a",
   "metadata": {},
   "outputs": [],
   "source": [
    "# code  = code/code.max()"
   ]
  },
  {
   "cell_type": "code",
   "execution_count": 56,
   "id": "ef20a72f",
   "metadata": {},
   "outputs": [],
   "source": [
    "# code"
   ]
  },
  {
   "cell_type": "code",
   "execution_count": 57,
   "id": "2f255dde",
   "metadata": {},
   "outputs": [
    {
     "data": {
      "text/plain": [
       "tensor([[1., 1., 1., 1., 1., 1., 1., 1.],\n",
       "        [1., 1., 1., 1., 1., 1., 1., 1.],\n",
       "        [0., 0., 0., 0., 0., 0., 0., 0.],\n",
       "        [0., 0., 0., 0., 0., 0., 0., 0.],\n",
       "        [0., 0., 0., 0., 0., 0., 0., 0.],\n",
       "        [0., 0., 0., 0., 0., 0., 0., 0.],\n",
       "        [0., 0., 0., 0., 0., 0., 0., 0.],\n",
       "        [0., 0., 0., 0., 0., 0., 0., 0.]], dtype=torch.float64)"
      ]
     },
     "execution_count": 57,
     "metadata": {},
     "output_type": "execute_result"
    }
   ],
   "source": [
    "features[0]"
   ]
  },
  {
   "cell_type": "code",
   "execution_count": 58,
   "id": "4d8ee35b",
   "metadata": {},
   "outputs": [],
   "source": [
    "temp_features = features"
   ]
  },
  {
   "cell_type": "code",
   "execution_count": 59,
   "id": "288b9239",
   "metadata": {},
   "outputs": [
    {
     "data": {
      "text/plain": [
       "torch.Size([4000, 8, 8])"
      ]
     },
     "execution_count": 59,
     "metadata": {},
     "output_type": "execute_result"
    }
   ],
   "source": [
    "temp_features.shape"
   ]
  },
  {
   "cell_type": "code",
   "execution_count": 60,
   "id": "71465557",
   "metadata": {},
   "outputs": [
    {
     "data": {
      "text/plain": [
       "tensor([[1., 1., 1., 1., 1., 1., 1., 1.],\n",
       "        [1., 1., 1., 1., 1., 1., 1., 1.],\n",
       "        [0., 0., 0., 0., 0., 0., 0., 0.],\n",
       "        [0., 0., 0., 0., 0., 0., 0., 0.],\n",
       "        [0., 0., 0., 0., 0., 0., 0., 0.],\n",
       "        [0., 0., 0., 0., 0., 0., 0., 0.],\n",
       "        [0., 0., 0., 0., 0., 0., 0., 0.],\n",
       "        [0., 0., 0., 0., 0., 0., 0., 0.]], dtype=torch.float64)"
      ]
     },
     "execution_count": 60,
     "metadata": {},
     "output_type": "execute_result"
    }
   ],
   "source": [
    "features[0]"
   ]
  },
  {
   "cell_type": "code",
   "execution_count": 61,
   "id": "f738ccce",
   "metadata": {},
   "outputs": [
    {
     "data": {
      "text/plain": [
       "2"
      ]
     },
     "execution_count": 61,
     "metadata": {},
     "output_type": "execute_result"
    }
   ],
   "source": [
    "code.shape[1]"
   ]
  },
  {
   "cell_type": "code",
   "execution_count": 62,
   "id": "1e5ba700",
   "metadata": {},
   "outputs": [],
   "source": [
    "features = torch.zeros(temp_features.shape[0]*temp_features.shape[1]* temp_features.shape[2], 2+code.shape[1])\n",
    "labels = torch.zeros(temp_features.shape[0]*temp_features.shape[1]* temp_features.shape[2])"
   ]
  },
  {
   "cell_type": "code",
   "execution_count": 63,
   "id": "aa807546",
   "metadata": {},
   "outputs": [
    {
     "data": {
      "text/plain": [
       "torch.Size([256000, 4])"
      ]
     },
     "execution_count": 63,
     "metadata": {},
     "output_type": "execute_result"
    }
   ],
   "source": [
    "features.shape"
   ]
  },
  {
   "cell_type": "code",
   "execution_count": 64,
   "id": "2130100e",
   "metadata": {},
   "outputs": [
    {
     "data": {
      "text/plain": [
       "tensor([1, 2, 3, 1, 2, 3])"
      ]
     },
     "execution_count": 64,
     "metadata": {},
     "output_type": "execute_result"
    }
   ],
   "source": [
    "# how cat function works?\n",
    "x = torch.tensor([1,2,3])\n",
    "torch.cat((x, x), axis=0)"
   ]
  },
  {
   "cell_type": "code",
   "execution_count": 65,
   "id": "4d7029d8",
   "metadata": {},
   "outputs": [
    {
     "data": {
      "text/plain": [
       "8"
      ]
     },
     "execution_count": 65,
     "metadata": {},
     "output_type": "execute_result"
    }
   ],
   "source": [
    "(temp_features.shape[1])"
   ]
  },
  {
   "cell_type": "code",
   "execution_count": 66,
   "id": "149f5f5b",
   "metadata": {},
   "outputs": [
    {
     "name": "stderr",
     "output_type": "stream",
     "text": [
      "<ipython-input-66-d9c35d743150>:5: UserWarning: To copy construct from a tensor, it is recommended to use sourceTensor.clone().detach() or sourceTensor.clone().detach().requires_grad_(True), rather than torch.tensor(sourceTensor).\n",
      "  features[count] = torch.cat((torch.tensor([j,k])/temp_features.shape[1],  torch.tensor(code[i])), axis=0)\n"
     ]
    }
   ],
   "source": [
    "#  building data set: first I needed to put all the cooridates (x, y) of pixels in rows of data set and add colums for its codes\n",
    "count = 0 \n",
    "for i in range(temp_features.shape[0]):\n",
    "    for j in range(temp_features.shape[1]):\n",
    "        for k in range(temp_features.shape[2]):\n",
    "            features[count] = torch.cat((torch.tensor([j,k])/temp_features.shape[1],  torch.tensor(code[i])), axis=0)\n",
    "            labels[count] = temp_features[i][j][k]\n",
    "            count += 1\n",
    "#             print(temp_features[i])\n"
   ]
  },
  {
   "cell_type": "code",
   "execution_count": 67,
   "id": "7c77de81",
   "metadata": {},
   "outputs": [
    {
     "data": {
      "text/plain": [
       "(torch.Size([256000, 4]), torch.Size([256000]))"
      ]
     },
     "execution_count": 67,
     "metadata": {},
     "output_type": "execute_result"
    }
   ],
   "source": [
    "features.shape, labels.shape"
   ]
  },
  {
   "cell_type": "code",
   "execution_count": 68,
   "id": "9b2f39a5",
   "metadata": {},
   "outputs": [
    {
     "data": {
      "text/plain": [
       "(tensor([0.6250, 0.1250, 0.5000, 0.1250]), tensor(0.))"
      ]
     },
     "execution_count": 68,
     "metadata": {},
     "output_type": "execute_result"
    }
   ],
   "source": [
    "features[1065], labels[1065]"
   ]
  },
  {
   "cell_type": "code",
   "execution_count": 69,
   "id": "a78aa3e4",
   "metadata": {},
   "outputs": [],
   "source": [
    "# for feature in features:\n",
    "#     print(feature)\n",
    "    \n"
   ]
  },
  {
   "cell_type": "code",
   "execution_count": 70,
   "id": "e3563c91",
   "metadata": {},
   "outputs": [],
   "source": [
    "# labels[1450]"
   ]
  },
  {
   "cell_type": "code",
   "execution_count": null,
   "id": "ff89751d",
   "metadata": {},
   "outputs": [],
   "source": []
  },
  {
   "cell_type": "code",
   "execution_count": 71,
   "id": "3819c283",
   "metadata": {},
   "outputs": [],
   "source": [
    "# from itertools import permutations\n",
    "# for i,j, k  in permutations(range(0, 3)):\n",
    "#     print(i,j,k)"
   ]
  },
  {
   "cell_type": "code",
   "execution_count": 72,
   "id": "3e576811",
   "metadata": {},
   "outputs": [],
   "source": [
    "# m = nn.LogSoftmax(dim=1)\n"
   ]
  },
  {
   "cell_type": "code",
   "execution_count": 73,
   "id": "08bd8986",
   "metadata": {},
   "outputs": [],
   "source": [
    "# dict(code,features)"
   ]
  },
  {
   "cell_type": "code",
   "execution_count": 74,
   "id": "e18b879c",
   "metadata": {},
   "outputs": [],
   "source": [
    "input_dim = 2  # x, y poisitons of one pixel\n",
    "hidden_dim = 40 # this one is so decisive"
   ]
  },
  {
   "cell_type": "code",
   "execution_count": 75,
   "id": "014d6032",
   "metadata": {},
   "outputs": [],
   "source": [
    "# defining dropout_layer\n",
    "def dropout_layer(X, dropout):\n",
    "    assert 0 <= dropout <= 1\n",
    "    # In this case, all elements are dropped out\n",
    "    if dropout == 1:\n",
    "        return torch.zeros_like(X)\n",
    "    # In this case, all elements are kept\n",
    "    if dropout == 0:\n",
    "        return X\n",
    "    mask = (torch.rand(X.shape) > dropout).float()\n",
    "    return mask * X / (1.0 - dropout)"
   ]
  },
  {
   "cell_type": "code",
   "execution_count": null,
   "id": "e18ce418",
   "metadata": {},
   "outputs": [],
   "source": []
  },
  {
   "cell_type": "code",
   "execution_count": 76,
   "id": "978facae",
   "metadata": {},
   "outputs": [],
   "source": [
    "class Model(nn.Module):\n",
    "    def __init__(self):\n",
    "        super(Model, self).__init__()\n",
    "        is_training = True\n",
    "#         self.func1 = nn.Linear(input_dim + code.shape[1], hidden_dim)\n",
    "        self.func1 = nn.Linear(input_dim + 2, hidden_dim)\n",
    "\n",
    "        self.func2 = nn.Linear(hidden_dim, hidden_dim)\n",
    "        self.func3 = nn.Linear(hidden_dim, hidden_dim)\n",
    "        self.func4 = nn.Linear(hidden_dim, hidden_dim)\n",
    "        self.func5 = nn.Linear(hidden_dim, 1)\n",
    "        \n",
    "        self.outp = nn.ReLU()\n",
    "        \n",
    "                \n",
    "                \n",
    "    def forward(self, x):\n",
    "#         z = torch.cat((x, code_), axis=0)\n",
    "        z = nn.functional.relu(self.func1(x.float()))\n",
    "#         return self.outp(self.func5(z))\n",
    "            # Use dropout only when training the model\n",
    "        if self.training == True:\n",
    "            # Add a dropout layer after the first fully connected layer\n",
    "            z = dropout_layer(z, dropout=0.080)\n",
    "#         return self.outp(self.func5(z))    \n",
    "        z = nn.functional.relu(self.func2(z.float()))\n",
    "        \n",
    "        if self.training == True:\n",
    "            # Add a dropout layer after the first fully connected layer\n",
    "            z = dropout_layer(z, dropout=0.10)\n",
    "        \n",
    "        z = nn.functional.relu(self.func3(z))\n",
    "        \n",
    "        if self.training == True:\n",
    "            # Add a dropout layer after the first fully connected layer\n",
    "            z = dropout_layer(z, dropout=0.10)\n",
    "        \n",
    "        z = nn.functional.relu(self.func4(z))\n",
    "        \n",
    "        if self.training == True:\n",
    "            # Add a dropout layer after the first fully connected layer\n",
    "            z = dropout_layer(z, dropout=0.10)\n",
    "        \n",
    "        z = self.func5(z)\n",
    "#         z = self.func5(z)\n",
    "        \n",
    "        \n",
    "        return self.outp(z)"
   ]
  },
  {
   "cell_type": "code",
   "execution_count": 77,
   "id": "8ca4771f",
   "metadata": {},
   "outputs": [],
   "source": [
    "model = Model()"
   ]
  },
  {
   "cell_type": "code",
   "execution_count": null,
   "id": "10cbeda5",
   "metadata": {},
   "outputs": [],
   "source": []
  },
  {
   "cell_type": "code",
   "execution_count": 78,
   "id": "71388c8e",
   "metadata": {},
   "outputs": [],
   "source": [
    "a = torch.tensor([1,2,3, 4])\n",
    "b = torch.tensor([1,2,3])"
   ]
  },
  {
   "cell_type": "code",
   "execution_count": 79,
   "id": "5287d4be",
   "metadata": {},
   "outputs": [
    {
     "data": {
      "text/plain": [
       "tensor([0.5000, 0.1250])"
      ]
     },
     "execution_count": 79,
     "metadata": {},
     "output_type": "execute_result"
    }
   ],
   "source": [
    "code[0]"
   ]
  },
  {
   "cell_type": "code",
   "execution_count": 80,
   "id": "7a290b59",
   "metadata": {},
   "outputs": [],
   "source": [
    "# features[1250]"
   ]
  },
  {
   "cell_type": "code",
   "execution_count": 81,
   "id": "884a5beb",
   "metadata": {},
   "outputs": [
    {
     "data": {
      "text/plain": [
       "tensor([0.0701], grad_fn=<ReluBackward0>)"
      ]
     },
     "execution_count": 81,
     "metadata": {},
     "output_type": "execute_result"
    }
   ],
   "source": [
    "model(features[1])"
   ]
  },
  {
   "cell_type": "code",
   "execution_count": 82,
   "id": "6076a80d",
   "metadata": {},
   "outputs": [
    {
     "data": {
      "text/plain": [
       "tensor([1, 2, 3, 4, 1, 2, 3])"
      ]
     },
     "execution_count": 82,
     "metadata": {},
     "output_type": "execute_result"
    }
   ],
   "source": [
    "torch.cat((a, b), axis=0)"
   ]
  },
  {
   "cell_type": "code",
   "execution_count": 83,
   "id": "ecebf1bf",
   "metadata": {},
   "outputs": [],
   "source": [
    "from torch.utils import data\n",
    "\n",
    "def load_array(data_arrays, batch_size, is_train=True): #@save\n",
    "    \"\"\"Construct a PyTorch data iterator.\"\"\"\n",
    "    dataset = data.TensorDataset(*data_arrays)\n",
    "    return data.DataLoader(dataset, batch_size, shuffle=is_train)"
   ]
  },
  {
   "cell_type": "code",
   "execution_count": 84,
   "id": "b648b321",
   "metadata": {},
   "outputs": [],
   "source": [
    "# for i in range(features[0].shape[0]):\n",
    "#     for j in range(features[0].shape[1]):\n",
    "#         print(model(features[0][i][j]))"
   ]
  },
  {
   "cell_type": "code",
   "execution_count": 85,
   "id": "1017c76f",
   "metadata": {},
   "outputs": [
    {
     "name": "stdout",
     "output_type": "stream",
     "text": [
      "train size= torch.Size([204800, 4]), test size= torch.Size([51200, 4]), batch size= 51200\n",
      "train size= torch.Size([204800]), test size= torch.Size([51200]), batch size= 51200\n"
     ]
    }
   ],
   "source": [
    "train_x = features[:-features.shape[0]*20//100]\n",
    "test_x  = features[-features.shape[0]*20//100:]\n",
    "train_y = labels[:-labels.shape[0]*20//100]\n",
    "test_y  = labels[-labels.shape[0]*20//100:]\n",
    "\n",
    "batch_size = test_x.shape[0]\n",
    "\n",
    "print(f'train size= {train_x.shape}, test size= {test_x.shape}, batch size= {batch_size}')\n",
    "print(f'train size= {train_y.shape}, test size= {test_y.shape}, batch size= {batch_size}')\n",
    "train_loader = load_array((train_x, train_y), batch_size)\n",
    "test_loader  = load_array((test_x, test_y), batch_size)"
   ]
  },
  {
   "cell_type": "code",
   "execution_count": 86,
   "id": "9434e3d0",
   "metadata": {},
   "outputs": [
    {
     "data": {
      "text/plain": [
       "<generator object Module.parameters at 0x7f83d5269510>"
      ]
     },
     "execution_count": 86,
     "metadata": {},
     "output_type": "execute_result"
    }
   ],
   "source": [
    "model.parameters()"
   ]
  },
  {
   "cell_type": "code",
   "execution_count": null,
   "id": "d1e21d94",
   "metadata": {},
   "outputs": [],
   "source": []
  },
  {
   "cell_type": "code",
   "execution_count": 87,
   "id": "9a975063",
   "metadata": {},
   "outputs": [],
   "source": [
    "# hyperparameters\n",
    "\n",
    "lr = 2e-2\n",
    "\n",
    "epochs = 300\n",
    "DEVICE = 'cpu'\n",
    "print_step = 50"
   ]
  },
  {
   "cell_type": "code",
   "execution_count": null,
   "id": "efd46e82",
   "metadata": {},
   "outputs": [],
   "source": []
  },
  {
   "cell_type": "code",
   "execution_count": null,
   "id": "c2577a9e",
   "metadata": {},
   "outputs": [],
   "source": []
  },
  {
   "cell_type": "code",
   "execution_count": 88,
   "id": "32ecc351",
   "metadata": {},
   "outputs": [],
   "source": [
    "# features[:-20].shape, features[-20:].shape"
   ]
  },
  {
   "cell_type": "code",
   "execution_count": 89,
   "id": "ad9a5f42",
   "metadata": {},
   "outputs": [
    {
     "data": {
      "text/plain": [
       "51200"
      ]
     },
     "execution_count": 89,
     "metadata": {},
     "output_type": "execute_result"
    }
   ],
   "source": [
    "# we want to allow only 20% of data for test and the rest on training data\n",
    "features.shape[0]*20//100"
   ]
  },
  {
   "cell_type": "code",
   "execution_count": null,
   "id": "db4828c9",
   "metadata": {},
   "outputs": [],
   "source": []
  },
  {
   "cell_type": "code",
   "execution_count": 90,
   "id": "2e371feb",
   "metadata": {},
   "outputs": [],
   "source": [
    "# 80% for traning test, and 20% for test\n"
   ]
  },
  {
   "cell_type": "code",
   "execution_count": 91,
   "id": "03280d1f",
   "metadata": {},
   "outputs": [
    {
     "data": {
      "text/plain": [
       "(torch.Size([204800, 4]), torch.Size([51200, 4]))"
      ]
     },
     "execution_count": 91,
     "metadata": {},
     "output_type": "execute_result"
    }
   ],
   "source": [
    "train_x.shape, test_x.shape"
   ]
  },
  {
   "cell_type": "code",
   "execution_count": null,
   "id": "f398357e",
   "metadata": {},
   "outputs": [],
   "source": []
  },
  {
   "cell_type": "code",
   "execution_count": null,
   "id": "d3d505fb",
   "metadata": {},
   "outputs": [],
   "source": []
  },
  {
   "cell_type": "markdown",
   "id": "1a012aa7",
   "metadata": {},
   "source": [
    "# Defining loss function"
   ]
  },
  {
   "cell_type": "code",
   "execution_count": 92,
   "id": "949572bb",
   "metadata": {},
   "outputs": [],
   "source": [
    "def clamp(a, b):\n",
    "#     a = torch.tensor(x)\n",
    "#     b = torch.tensor(delta)\n",
    "    return torch.min(b, torch.max(-b, a))"
   ]
  },
  {
   "cell_type": "code",
   "execution_count": 93,
   "id": "eb64a987",
   "metadata": {},
   "outputs": [
    {
     "data": {
      "text/plain": [
       "tensor([-1.0000,  1.2000,  1.2000,  1.2000])"
      ]
     },
     "execution_count": 93,
     "metadata": {},
     "output_type": "execute_result"
    }
   ],
   "source": [
    "a = torch.tensor([-1, 5, 1.2, 2])\n",
    "b = torch.tensor([1.2])\n",
    "clamp(a, b)"
   ]
  },
  {
   "cell_type": "code",
   "execution_count": 94,
   "id": "2c2ebfb1",
   "metadata": {},
   "outputs": [
    {
     "data": {
      "text/plain": [
       "tensor([1.2000, 5.0000, 1.2000, 2.0000])"
      ]
     },
     "execution_count": 94,
     "metadata": {},
     "output_type": "execute_result"
    }
   ],
   "source": [
    "torch.max(b, a)"
   ]
  },
  {
   "cell_type": "code",
   "execution_count": null,
   "id": "9ab9af4f",
   "metadata": {},
   "outputs": [],
   "source": []
  },
  {
   "cell_type": "markdown",
   "id": "6b855420",
   "metadata": {},
   "source": [
    "# Training"
   ]
  },
  {
   "cell_type": "code",
   "execution_count": 95,
   "id": "f3b0bca6",
   "metadata": {},
   "outputs": [],
   "source": [
    "optimizer = torch.optim.Adam(model.parameters(), lr=0.03)"
   ]
  },
  {
   "cell_type": "code",
   "execution_count": 96,
   "id": "3833a4f7",
   "metadata": {},
   "outputs": [],
   "source": [
    "# torch.randn(3, 5).softmax(dim=1), torch.randn(3, 5)"
   ]
  },
  {
   "cell_type": "code",
   "execution_count": 97,
   "id": "87caabee",
   "metadata": {},
   "outputs": [],
   "source": [
    "# loss = nn.CrossEntropyLoss(reduction='none')\n",
    "# def loss(y_hat, y):\n",
    "#     return (y_hat-y).sum()\n",
    "loss = nn.MSELoss()\n",
    "# loss = nn.CrossEntropyLoss()\n",
    "# loss = nn.BCEWithLogitsLoss()\n"
   ]
  },
  {
   "cell_type": "code",
   "execution_count": 98,
   "id": "c904c937",
   "metadata": {},
   "outputs": [],
   "source": [
    "# num_epochs = 30\n",
    "# for epoch in range(num_epochs):\n",
    "#     for X,Y in train_loader:\n",
    "#     #     print(X,Y)\n",
    "# #         x = X.T\n",
    "# #         y = Y\n",
    "#         print(X.shape,Y.shape, model(X.float()).shape)\n",
    "#         l = loss(model(X.float())[:,0], Y.float())\n",
    "#         optimizer.zero_grad()\n",
    "#         l.backward()\n",
    "#         optimizer.step() #optimizer\n",
    "# #     l = loss(model(x_truth.float()), y_truth.float())\n",
    "# #     print(f'epoch {epoch + 1}, loss {l:f}')"
   ]
  },
  {
   "cell_type": "code",
   "execution_count": null,
   "id": "05ce2476",
   "metadata": {},
   "outputs": [],
   "source": []
  },
  {
   "cell_type": "code",
   "execution_count": 99,
   "id": "3b6cbce4",
   "metadata": {},
   "outputs": [
    {
     "name": "stdout",
     "output_type": "stream",
     "text": [
      "Start training ...\n",
      "\tEpoch 1 complete! \tAverage Loss:  6.029610037027548e-06\n",
      "0.9261481016874313\n",
      "\tEpoch 2 complete! \tAverage Loss:  4.989887917569528e-06\n",
      "0.7664467841386795\n",
      "\tEpoch 3 complete! \tAverage Loss:  4.7993878251872954e-06\n",
      "0.7371859699487686\n",
      "\tEpoch 4 complete! \tAverage Loss:  4.72760439151898e-06\n",
      "0.7261600345373154\n",
      "\tEpoch 5 complete! \tAverage Loss:  4.563190547438959e-06\n",
      "0.7009060680866241\n",
      "\tEpoch 6 complete! \tAverage Loss:  4.246381286066025e-06\n",
      "0.6522441655397415\n",
      "\tEpoch 7 complete! \tAverage Loss:  3.9088269113563e-06\n",
      "0.6003958135843277\n",
      "\tEpoch 8 complete! \tAverage Loss:  3.512663048847268e-06\n",
      "0.5395450443029404\n",
      "\tEpoch 9 complete! \tAverage Loss:  3.1568001334865886e-06\n",
      "0.48488450050354004\n",
      "\tEpoch 10 complete! \tAverage Loss:  2.9079859571841858e-06\n",
      "0.4466666430234909\n",
      "\tEpoch 11 complete! \tAverage Loss:  2.7184859209228306e-06\n",
      "0.4175594374537468\n",
      "\tEpoch 12 complete! \tAverage Loss:  2.2307404530389857e-06\n",
      "0.3426417335867882\n",
      "\tEpoch 13 complete! \tAverage Loss:  1.882039214251563e-06\n",
      "0.28908122330904007\n",
      "\tEpoch 14 complete! \tAverage Loss:  1.6844168324799587e-06\n",
      "0.25872642546892166\n",
      "\tEpoch 15 complete! \tAverage Loss:  1.64840663880265e-06\n",
      "0.25319525972008705\n",
      "\tEpoch 16 complete! \tAverage Loss:  1.377095904899761e-06\n",
      "0.2115219309926033\n",
      "\tEpoch 17 complete! \tAverage Loss:  1.1991227559822922e-06\n",
      "0.18418525531888008\n",
      "\tEpoch 18 complete! \tAverage Loss:  1.0856139366903032e-06\n",
      "0.16675030067563057\n",
      "\tEpoch 19 complete! \tAverage Loss:  9.825082573418817e-07\n",
      "0.150913268327713\n",
      "\tEpoch 20 complete! \tAverage Loss:  8.830931377209102e-07\n",
      "0.1356431059539318\n",
      "\tEpoch 21 complete! \tAverage Loss:  7.809118930405627e-07\n",
      "0.11994806677103043\n",
      "\tEpoch 22 complete! \tAverage Loss:  6.802698044339195e-07\n",
      "0.10448944196105003\n",
      "\tEpoch 23 complete! \tAverage Loss:  6.27212515003824e-07\n",
      "0.09633984230458736\n",
      "\tEpoch 24 complete! \tAverage Loss:  5.514127406058833e-07\n",
      "0.08469699695706367\n",
      "\tEpoch 25 complete! \tAverage Loss:  5.037613421639738e-07\n",
      "0.07737774215638638\n",
      "\tEpoch 26 complete! \tAverage Loss:  4.542018238377447e-07\n",
      "0.06976540014147758\n",
      "\tEpoch 27 complete! \tAverage Loss:  4.2624446602227785e-07\n",
      "0.06547114998102188\n",
      "\tEpoch 28 complete! \tAverage Loss:  3.83921827354546e-07\n",
      "0.05897039268165827\n",
      "\tEpoch 29 complete! \tAverage Loss:  3.556225722907887e-07\n",
      "0.05462362710386515\n",
      "\tEpoch 30 complete! \tAverage Loss:  3.3494125091237946e-07\n",
      "0.05144697614014149\n",
      "Finish!!\n"
     ]
    }
   ],
   "source": [
    "\n",
    "print(\"Start training ...\")\n",
    "model.train()\n",
    "\n",
    "for epoch in range(30):\n",
    "    overall_loss = 0\n",
    "    for batch_idx, (x, y) in enumerate(train_loader):\n",
    "#         x = x.view(batch_size, x_dim)\n",
    "        x = x.to(DEVICE)\n",
    "\n",
    "        optimizer.zero_grad()\n",
    "\n",
    "#         x_hat, mean, log_var = \n",
    "        y_hat = model(x.float()).float()\n",
    "#         y_hat = y_hat.reshape(-1)\n",
    "#         y = y.reshape(-1)\n",
    "#         print(x.shape, y_hat.shape, y.shape)\n",
    "#         print(y_hat, y)\n",
    "#         y_hat = y_hat.type(torch.LongTensor)\n",
    "\n",
    "        l = loss(y_hat.flatten(), y.float().flatten())\n",
    "#         l = torch.sum(torch.abs(clamp(y_hat.flatten(), torch.tensor([1])) - clamp(y.float().flatten(), torch.tensor([1]))))\n",
    "#         print(l)\n",
    "        overall_loss += l.item()\n",
    "        \n",
    "        l.backward()\n",
    "        optimizer.step()\n",
    "        \n",
    "    print(\"\\tEpoch\", epoch + 1, \"complete!\", \"\\tAverage Loss: \", overall_loss / (batch_idx*batch_size))\n",
    "    print(overall_loss)\n",
    "    \n",
    "print(\"Finish!!\")\n"
   ]
  },
  {
   "cell_type": "code",
   "execution_count": null,
   "id": "804c9663",
   "metadata": {},
   "outputs": [],
   "source": []
  },
  {
   "cell_type": "code",
   "execution_count": 100,
   "id": "c8f0cc03",
   "metadata": {},
   "outputs": [],
   "source": [
    "# list(model.named_parameters())"
   ]
  },
  {
   "cell_type": "code",
   "execution_count": 101,
   "id": "520ea683",
   "metadata": {},
   "outputs": [],
   "source": [
    "# a = torch.tensor([0.01, 0.12, 0.72, 0.74])\n",
    "# model(a)"
   ]
  },
  {
   "cell_type": "code",
   "execution_count": null,
   "id": "c2627db1",
   "metadata": {},
   "outputs": [],
   "source": []
  },
  {
   "cell_type": "code",
   "execution_count": 102,
   "id": "c1b72c59",
   "metadata": {},
   "outputs": [],
   "source": [
    "test_sample = torch.zeros((box_siz, box_siz))"
   ]
  },
  {
   "cell_type": "code",
   "execution_count": 103,
   "id": "98f9c797",
   "metadata": {},
   "outputs": [
    {
     "data": {
      "text/plain": [
       "(torch.Size([8, 8]),\n",
       " torch.Size([8, 8]),\n",
       " tensor([0.0000, 0.0000, 0.5000, 0.1250]))"
      ]
     },
     "execution_count": 103,
     "metadata": {},
     "output_type": "execute_result"
    }
   ],
   "source": [
    "test_sample.shape, temp_features[0].shape, features[0]"
   ]
  },
  {
   "cell_type": "code",
   "execution_count": 104,
   "id": "e9421e15",
   "metadata": {},
   "outputs": [],
   "source": [
    "for i in range(box_siz):\n",
    "    for j in range(box_siz):\n",
    "#         test_sample [i,j] = torch.tensor([i/10, j/10, 0.25,0.25])\n",
    "        test_sample [i,j] = model(torch.tensor([i/box_siz, j/box_siz, 0.5002667, 0.165]))\n",
    "#         model(torch.tensor([i, j, 0.8, 0.6]))"
   ]
  },
  {
   "cell_type": "code",
   "execution_count": 105,
   "id": "e84ebb3e",
   "metadata": {},
   "outputs": [
    {
     "data": {
      "text/plain": [
       "<matplotlib.image.AxesImage at 0x7f83d524db20>"
      ]
     },
     "execution_count": 105,
     "metadata": {},
     "output_type": "execute_result"
    },
    {
     "data": {
      "image/png": "[encoded data removed]",
      "text/plain": [
       "<Figure size 432x288 with 1 Axes>"
      ]
     },
     "metadata": {
      "needs_background": "light"
     },
     "output_type": "display_data"
    }
   ],
   "source": [
    "plt.subplot(211)\n",
    "plt.imshow(temp_features[0].detach().numpy(), cmap='Greys')"
   ]
  },
  {
   "cell_type": "code",
   "execution_count": 106,
   "id": "7f1770dc",
   "metadata": {},
   "outputs": [
    {
     "data": {
      "text/plain": [
       "<matplotlib.image.AxesImage at 0x7f83d5ae9850>"
      ]
     },
     "execution_count": 106,
     "metadata": {},
     "output_type": "execute_result"
    },
    {
     "data": {
      "image/png": "[encoded data removed]",
      "text/plain": [
       "<Figure size 432x288 with 1 Axes>"
      ]
     },
     "metadata": {
      "needs_background": "light"
     },
     "output_type": "display_data"
    }
   ],
   "source": [
    "plt.subplot(222)\n",
    "plt.imshow(test_sample.detach().numpy(), cmap='Greys')"
   ]
  },
  {
   "cell_type": "code",
   "execution_count": 107,
   "id": "1c12f161",
   "metadata": {},
   "outputs": [
    {
     "data": {
      "text/plain": [
       "tensor([[0.6629, 0.8484, 0.9500, 0.7806, 0.7019, 0.8382, 0.8989, 0.0000],\n",
       "        [0.9361, 1.0414, 0.9861, 1.0312, 0.8563, 0.9476, 0.9425, 0.7696],\n",
       "        [0.0000, 0.1166, 0.0000, 0.0000, 0.0000, 0.0000, 0.8551, 0.0721],\n",
       "        [0.0000, 0.0000, 0.0000, 0.0000, 0.0000, 0.0000, 0.0000, 0.0000],\n",
       "        [0.0000, 0.0000, 0.0000, 0.0000, 0.0000, 0.0000, 0.0000, 0.0000],\n",
       "        [0.0000, 0.0000, 0.0000, 0.0000, 0.0000, 0.0000, 0.0000, 0.0000],\n",
       "        [0.0000, 0.0000, 0.0000, 0.0000, 0.0000, 0.0000, 0.0000, 0.0000],\n",
       "        [0.0000, 0.0000, 0.0000, 0.0000, 0.0000, 0.0000, 0.0000, 0.0000]],\n",
       "       grad_fn=<CopySlices>)"
      ]
     },
     "execution_count": 107,
     "metadata": {},
     "output_type": "execute_result"
    }
   ],
   "source": [
    "test_sample"
   ]
  },
  {
   "cell_type": "code",
   "execution_count": null,
   "id": "842e2f75",
   "metadata": {},
   "outputs": [],
   "source": []
  },
  {
   "cell_type": "code",
   "execution_count": 108,
   "id": "db0c0f9a",
   "metadata": {},
   "outputs": [],
   "source": [
    "# test_sample.shape, temp_features.shape"
   ]
  },
  {
   "cell_type": "code",
   "execution_count": 109,
   "id": "d90c7187",
   "metadata": {},
   "outputs": [],
   "source": [
    "# plt.subplot(211)\n",
    "# plt.imshow(test_sample.detach().numpy(), cmap='Greys')"
   ]
  },
  {
   "cell_type": "code",
   "execution_count": null,
   "id": "c970ad5f",
   "metadata": {},
   "outputs": [],
   "source": []
  },
  {
   "cell_type": "code",
   "execution_count": null,
   "id": "200bf0f5",
   "metadata": {},
   "outputs": [],
   "source": []
  },
  {
   "cell_type": "code",
   "execution_count": 110,
   "id": "97ded53d",
   "metadata": {},
   "outputs": [],
   "source": [
    "for i in range(box_siz):\n",
    "    for j in range(box_siz):\n",
    "#         test_sample [i,j] = model(torch.tensor([i/10, j/10, 0.25,0.25]))\n",
    "        test_sample [i,j] = model(torch.tensor([i/box_siz, j/box_siz, 0.51, 0.86]))"
   ]
  },
  {
   "cell_type": "code",
   "execution_count": 111,
   "id": "d473ecca",
   "metadata": {},
   "outputs": [
    {
     "data": {
      "text/plain": [
       "torch.Size([8, 8])"
      ]
     },
     "execution_count": 111,
     "metadata": {},
     "output_type": "execute_result"
    }
   ],
   "source": [
    "test_sample.shape"
   ]
  },
  {
   "cell_type": "code",
   "execution_count": 112,
   "id": "98c4486c",
   "metadata": {},
   "outputs": [
    {
     "data": {
      "text/plain": [
       "torch.Size([8, 8])"
      ]
     },
     "execution_count": 112,
     "metadata": {},
     "output_type": "execute_result"
    }
   ],
   "source": [
    "test_sample.shape"
   ]
  },
  {
   "cell_type": "code",
   "execution_count": 113,
   "id": "d398c951",
   "metadata": {},
   "outputs": [
    {
     "data": {
      "text/plain": [
       "torch.Size([256000, 4])"
      ]
     },
     "execution_count": 113,
     "metadata": {},
     "output_type": "execute_result"
    }
   ],
   "source": [
    "features.shape"
   ]
  },
  {
   "cell_type": "code",
   "execution_count": null,
   "id": "ff58be6e",
   "metadata": {},
   "outputs": [],
   "source": []
  },
  {
   "cell_type": "code",
   "execution_count": 114,
   "id": "a38b4c51",
   "metadata": {},
   "outputs": [
    {
     "data": {
      "text/plain": [
       "<matplotlib.image.AxesImage at 0x7f83d5b78ee0>"
      ]
     },
     "execution_count": 114,
     "metadata": {},
     "output_type": "execute_result"
    },
    {
     "data": {
      "image/png": "[encoded data removed]",
      "text/plain": [
       "<Figure size 432x288 with 1 Axes>"
      ]
     },
     "metadata": {
      "needs_background": "light"
     },
     "output_type": "display_data"
    }
   ],
   "source": [
    "plt.subplot(211)\n",
    "plt.imshow(test_sample.detach().numpy(), cmap='Greys')\n"
   ]
  },
  {
   "cell_type": "code",
   "execution_count": null,
   "id": "31283384",
   "metadata": {},
   "outputs": [],
   "source": []
  },
  {
   "cell_type": "markdown",
   "id": "bfc24cd6",
   "metadata": {},
   "source": [
    "# Generate new samples"
   ]
  },
  {
   "cell_type": "code",
   "execution_count": 115,
   "id": "fe5bc420",
   "metadata": {},
   "outputs": [],
   "source": [
    "# now taking decoder we can produce new data samples"
   ]
  },
  {
   "cell_type": "code",
   "execution_count": null,
   "id": "d1f9f8f8-1d3d-44d3-8c38-e2d082120b1c",
   "metadata": {},
   "outputs": [],
   "source": []
  },
  {
   "cell_type": "code",
   "execution_count": 116,
   "id": "80e5fbf7-d8f1-4155-875e-dd5e64ecf664",
   "metadata": {},
   "outputs": [],
   "source": [
    "st = rand_radious1.min()/ rand_radious1.max()"
   ]
  },
  {
   "cell_type": "code",
   "execution_count": null,
   "id": "1dcc278f-c186-4e85-b6c8-3c8c40c8fd56",
   "metadata": {},
   "outputs": [],
   "source": []
  },
  {
   "cell_type": "code",
   "execution_count": null,
   "id": "a45c291f-c6b3-4daa-a99d-0665ba2e1219",
   "metadata": {},
   "outputs": [],
   "source": []
  },
  {
   "cell_type": "code",
   "execution_count": 117,
   "id": "9eb77db9",
   "metadata": {},
   "outputs": [],
   "source": [
    "num_test = 8\n",
    "with torch.no_grad():\n",
    "#     new_code = torch.linspace(0.5, 1, steps=50)\n",
    "    tia_class = torch.linspace(0.5, 1, steps=num_test).reshape(-1,1)\n",
    "    tia_sample = torch.linspace(st, 1, steps=num_test).reshape(-1,1)\n",
    "    new_code = torch.cat((tia_class, tia_sample), axis=1)\n",
    "#     noise = torch.rand(10, 1).to(DEVICE)\n",
    "#     model(torch.tensor())\n",
    "#     generated_sample = model(noise)"
   ]
  },
  {
   "cell_type": "code",
   "execution_count": 118,
   "id": "7da8efb7",
   "metadata": {},
   "outputs": [],
   "source": [
    "# new_code = new_code.reshape(-1, 1)"
   ]
  },
  {
   "cell_type": "code",
   "execution_count": 119,
   "id": "e68c85ee",
   "metadata": {},
   "outputs": [],
   "source": [
    "import itertools\n",
    "# list(itertools.product(tia, tia))"
   ]
  },
  {
   "cell_type": "code",
   "execution_count": 120,
   "id": "2248114b",
   "metadata": {},
   "outputs": [],
   "source": [
    "new_code = torch.tensor(list(itertools.product(tia_class, tia_sample)))"
   ]
  },
  {
   "cell_type": "code",
   "execution_count": 121,
   "id": "a9ff6f67",
   "metadata": {},
   "outputs": [],
   "source": [
    "#  torch.cartesian_prod(tia, tia)"
   ]
  },
  {
   "cell_type": "code",
   "execution_count": null,
   "id": "fb49d999",
   "metadata": {},
   "outputs": [],
   "source": []
  },
  {
   "cell_type": "code",
   "execution_count": 122,
   "id": "cb031094",
   "metadata": {},
   "outputs": [
    {
     "data": {
      "text/plain": [
       "torch.Size([64, 2])"
      ]
     },
     "execution_count": 122,
     "metadata": {},
     "output_type": "execute_result"
    }
   ],
   "source": [
    "new_code.shape"
   ]
  },
  {
   "cell_type": "code",
   "execution_count": 123,
   "id": "f0eb9e67",
   "metadata": {},
   "outputs": [
    {
     "data": {
      "text/plain": [
       "tensor([[0.5000, 0.1250],\n",
       "        [0.5000, 0.2500],\n",
       "        [0.5000, 0.3750],\n",
       "        [0.5000, 0.5000],\n",
       "        [0.5000, 0.6250],\n",
       "        [0.5000, 0.7500],\n",
       "        [0.5000, 0.8750],\n",
       "        [0.5000, 1.0000],\n",
       "        [0.5714, 0.1250],\n",
       "        [0.5714, 0.2500],\n",
       "        [0.5714, 0.3750],\n",
       "        [0.5714, 0.5000],\n",
       "        [0.5714, 0.6250],\n",
       "        [0.5714, 0.7500],\n",
       "        [0.5714, 0.8750],\n",
       "        [0.5714, 1.0000],\n",
       "        [0.6429, 0.1250],\n",
       "        [0.6429, 0.2500],\n",
       "        [0.6429, 0.3750],\n",
       "        [0.6429, 0.5000],\n",
       "        [0.6429, 0.6250],\n",
       "        [0.6429, 0.7500],\n",
       "        [0.6429, 0.8750],\n",
       "        [0.6429, 1.0000],\n",
       "        [0.7143, 0.1250],\n",
       "        [0.7143, 0.2500],\n",
       "        [0.7143, 0.3750],\n",
       "        [0.7143, 0.5000],\n",
       "        [0.7143, 0.6250],\n",
       "        [0.7143, 0.7500],\n",
       "        [0.7143, 0.8750],\n",
       "        [0.7143, 1.0000],\n",
       "        [0.7857, 0.1250],\n",
       "        [0.7857, 0.2500],\n",
       "        [0.7857, 0.3750],\n",
       "        [0.7857, 0.5000],\n",
       "        [0.7857, 0.6250],\n",
       "        [0.7857, 0.7500],\n",
       "        [0.7857, 0.8750],\n",
       "        [0.7857, 1.0000],\n",
       "        [0.8571, 0.1250],\n",
       "        [0.8571, 0.2500],\n",
       "        [0.8571, 0.3750],\n",
       "        [0.8571, 0.5000],\n",
       "        [0.8571, 0.6250],\n",
       "        [0.8571, 0.7500],\n",
       "        [0.8571, 0.8750],\n",
       "        [0.8571, 1.0000],\n",
       "        [0.9286, 0.1250],\n",
       "        [0.9286, 0.2500],\n",
       "        [0.9286, 0.3750],\n",
       "        [0.9286, 0.5000],\n",
       "        [0.9286, 0.6250],\n",
       "        [0.9286, 0.7500],\n",
       "        [0.9286, 0.8750],\n",
       "        [0.9286, 1.0000],\n",
       "        [1.0000, 0.1250],\n",
       "        [1.0000, 0.2500],\n",
       "        [1.0000, 0.3750],\n",
       "        [1.0000, 0.5000],\n",
       "        [1.0000, 0.6250],\n",
       "        [1.0000, 0.7500],\n",
       "        [1.0000, 0.8750],\n",
       "        [1.0000, 1.0000]])"
      ]
     },
     "execution_count": 123,
     "metadata": {},
     "output_type": "execute_result"
    }
   ],
   "source": [
    "new_code"
   ]
  },
  {
   "cell_type": "code",
   "execution_count": 124,
   "id": "99c54be0",
   "metadata": {},
   "outputs": [
    {
     "data": {
      "text/plain": [
       "8"
      ]
     },
     "execution_count": 124,
     "metadata": {},
     "output_type": "execute_result"
    }
   ],
   "source": [
    "box_siz//2 * 2"
   ]
  },
  {
   "cell_type": "code",
   "execution_count": null,
   "id": "22a4793f",
   "metadata": {},
   "outputs": [],
   "source": []
  },
  {
   "cell_type": "code",
   "execution_count": 125,
   "id": "38612736",
   "metadata": {},
   "outputs": [
    {
     "name": "stdout",
     "output_type": "stream",
     "text": [
      "torch.Size([64, 64])\n"
     ]
    }
   ],
   "source": [
    "count = 0\n",
    "generated_sample = torch.empty((new_code.shape[0], box_siz ** 2))\n",
    "print(generated_sample.shape)\n",
    "for c in new_code:\n",
    "    for i in range(box_siz):\n",
    "        for j in range(box_siz):\n",
    "            test_sample [i,j] = model(torch.cat((torch.tensor([i/box_siz, j/box_siz]), c)))\n",
    "    \n",
    "#     print(test_sample.shape, test_sample.flatten().shape)\n",
    "    generated_sample[count] = test_sample.flatten()\n",
    "    count += 1\n",
    "#     generated_sample = torch.cat((generated_sample, test_sample.flatten()), axis=0)"
   ]
  },
  {
   "cell_type": "code",
   "execution_count": 126,
   "id": "8a8d616b",
   "metadata": {},
   "outputs": [],
   "source": [
    "# noise.shape"
   ]
  },
  {
   "cell_type": "code",
   "execution_count": 127,
   "id": "5c8db1bc",
   "metadata": {},
   "outputs": [
    {
     "data": {
      "text/plain": [
       "torch.Size([64, 64])"
      ]
     },
     "execution_count": 127,
     "metadata": {},
     "output_type": "execute_result"
    }
   ],
   "source": [
    "generated_sample.shape"
   ]
  },
  {
   "cell_type": "code",
   "execution_count": 128,
   "id": "230c892f",
   "metadata": {},
   "outputs": [
    {
     "data": {
      "text/plain": [
       "7.0"
      ]
     },
     "execution_count": 128,
     "metadata": {},
     "output_type": "execute_result"
    }
   ],
   "source": [
    "203/29"
   ]
  },
  {
   "cell_type": "code",
   "execution_count": 129,
   "id": "742d111a",
   "metadata": {},
   "outputs": [],
   "source": [
    "# generated_sample[0]"
   ]
  },
  {
   "cell_type": "code",
   "execution_count": 130,
   "id": "8120c328",
   "metadata": {},
   "outputs": [
    {
     "data": {
      "text/plain": [
       "8"
      ]
     },
     "execution_count": 130,
     "metadata": {},
     "output_type": "execute_result"
    }
   ],
   "source": [
    "box_siz//2 *2"
   ]
  },
  {
   "cell_type": "code",
   "execution_count": null,
   "id": "b76ff86b",
   "metadata": {},
   "outputs": [],
   "source": []
  },
  {
   "cell_type": "code",
   "execution_count": 131,
   "id": "9a93a88a",
   "metadata": {},
   "outputs": [],
   "source": [
    "# plt.subplot(212)\n",
    "# y = generated_sample[2].reshape(box_siz//2 *2,box_siz//2 *2).float()\n",
    "# plt.imshow(y.detach().numpy(), cmap='Greys',  interpolation='nearest')"
   ]
  },
  {
   "cell_type": "code",
   "execution_count": 132,
   "id": "f2756b22",
   "metadata": {},
   "outputs": [
    {
     "data": {
      "text/plain": [
       "tensor([1, 2])"
      ]
     },
     "execution_count": 132,
     "metadata": {},
     "output_type": "execute_result"
    }
   ],
   "source": [
    "torch.tensor([1,2])"
   ]
  },
  {
   "cell_type": "code",
   "execution_count": null,
   "id": "1cbeee42",
   "metadata": {},
   "outputs": [],
   "source": []
  },
  {
   "cell_type": "code",
   "execution_count": 133,
   "id": "3ce86a97",
   "metadata": {},
   "outputs": [
    {
     "data": {
      "image/png": "[encoded data removed]",
      "text/plain": [
       "<Figure size 1080x864 with 64 Axes>"
      ]
     },
     "metadata": {
      "needs_background": "light"
     },
     "output_type": "display_data"
    }
   ],
   "source": [
    "plt.figure(figsize=(15, 12))\n",
    "plt.subplots_adjust(hspace=0.2)\n",
    "plt.suptitle(\"---\", fontsize=18, y=0.95)\n",
    "plt.subplots_adjust(left=0.1,\n",
    "                    bottom=0.3,\n",
    "                    right=0.9,\n",
    "                    top=2.9,\n",
    "                    wspace=0.4,\n",
    "                    hspace=0.7)\n",
    "# set number of columns (use 3 to demonstrate the change)\n",
    "ncols =5\n",
    "\n",
    "nrows = new_code.shape[0]//ncols +1\n",
    "if (nrows==0):\n",
    "    nrows =1\n",
    "    \n",
    "for idx, sample in enumerate (generated_sample):\n",
    "#     print(sample.shape)\n",
    "    ax = plt.subplot(nrows, ncols, idx + 1)\n",
    "    ax.title.set_text(str(new_code[idx]))\n",
    "#     print([idx])\n",
    "    y = sample.reshape(box_siz, box_siz).float()\n",
    "\n",
    "    plt.imshow(y.detach().numpy(), cmap='Greys',  interpolation='nearest')\n",
    "    \n"
   ]
  },
  {
   "cell_type": "code",
   "execution_count": null,
   "id": "adf859f4",
   "metadata": {},
   "outputs": [],
   "source": []
  },
  {
   "cell_type": "markdown",
   "id": "aecfee85",
   "metadata": {},
   "source": [
    "# comment"
   ]
  },
  {
   "cell_type": "code",
   "execution_count": 134,
   "id": "4ecfa268",
   "metadata": {},
   "outputs": [],
   "source": [
    "# dataset should be evenly splited with samples from each class. Random setting is not good, as you might\n",
    "# not providing equal (sufficient) samples of one specefic class and over provide for another class.\n",
    "# This produces bias for the training. To see this go up and uncomment the line.\n",
    "\n",
    "# if you like to produce black square or circles you only need to edit box function on the top of \n",
    "# this notebook file.\n",
    "\n",
    "# Adding more sample data was the best practice for accuracy. \n",
    "# For seeing the results it was best to choose a larger box size.\n",
    "\n",
    "# adding dropout was a good practice.\n",
    "\n",
    "# there are more than one loss functions I tested here. loss = nn.MSELoss() is the best\n",
    "# loss = nn.BCEWithLogitsLoss() was not good. Don't know why.\n",
    "\n",
    "# sometimes you need to run this notebook file more than once to have a good result\n",
    "\n",
    "# sometimes you should play with hidden layers numbers and ... to fine tune the results.\n",
    "\n",
    "# when I incresed box size, it produces more zerots in the plane and ones. sometimes it is not good\n",
    "# as it only thinks that majority of pixels are zero and trains zero planes.\n",
    "\n",
    "# Here, I believed that if as  [1, 1], [1, 2], [1, 3] represent class 1's subclasses and [2, 1], \n",
    "# [2, 2], [2, 3] represent class 2's subclasses, the example [1.5, 1], [1.5, 2] are interpolated\n",
    "# shapes between class and  [1, 1.5], [1, 1.6] are representing an interpolation between\n",
    "# examples of subclasses (here class 1 has two subclasses 1 and 2 and 1.5 and 1.6 are between \n",
    "# 1 and 2)."
   ]
  },
  {
   "cell_type": "code",
   "execution_count": null,
   "id": "adea12a5",
   "metadata": {},
   "outputs": [],
   "source": []
  },
  {
   "cell_type": "code",
   "execution_count": null,
   "id": "70caae38",
   "metadata": {},
   "outputs": [],
   "source": []
  },
  {
   "cell_type": "code",
   "execution_count": null,
   "id": "bf579d79",
   "metadata": {},
   "outputs": [],
   "source": []
  },
  {
   "cell_type": "code",
   "execution_count": null,
   "id": "02530fcd",
   "metadata": {},
   "outputs": [],
   "source": []
  },
  {
   "cell_type": "code",
   "execution_count": null,
   "id": "ceb9f8b2",
   "metadata": {},
   "outputs": [],
   "source": []
  },
  {
   "cell_type": "code",
   "execution_count": null,
   "id": "184e89fb",
   "metadata": {},
   "outputs": [],
   "source": []
  },
  {
   "cell_type": "code",
   "execution_count": null,
   "id": "be40769c",
   "metadata": {},
   "outputs": [],
   "source": []
  }
 ],
 "metadata": {
  "kernelspec": {
   "display_name": "Python 3",
   "language": "python",
   "name": "python3"
  },
  "language_info": {
   "codemirror_mode": {
    "name": "ipython",
    "version": 3
   },
   "file_extension": ".py",
   "mimetype": "text/x-python",
   "name": "python",
   "nbconvert_exporter": "python",
   "pygments_lexer": "ipython3",
   "version": "3.9.12"
  }
 },
 "nbformat": 4,
 "nbformat_minor": 5
}
