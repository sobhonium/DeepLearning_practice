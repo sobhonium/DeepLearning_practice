{
 "cells": [
  {
   "cell_type": "code",
   "execution_count": null,
   "id": "2af93b64-4bd3-4341-8b2b-b10d184df44d",
   "metadata": {},
   "outputs": [],
   "source": []
  },
  {
   "cell_type": "markdown",
   "id": "00302bd6-b392-44c4-88cb-bf17bb81c8fb",
   "metadata": {},
   "source": [
    "# Structuring Your Project"
   ]
  },
  {
   "cell_type": "raw",
   "id": "6d36b57b-f7b0-4e0f-8c49-a75c8c508f25",
   "metadata": {},
   "source": [
    "In practical terms, “structure” means making clean code whose logic and dependencies are clear as well as how the files and folders are organized in the filesystem"
   ]
  },
  {
   "cell_type": "raw",
   "id": "c5d57aa8-58fb-46f4-87f8-8baecfc6f547",
   "metadata": {},
   "source": [
    "Which functions should go into which modules? How does data flow through the project? What features and functions can be grouped together and isolated? By answering questions like these you can begin to plan, in a broad sense, what your finished product will look like."
   ]
  },
  {
   "cell_type": "raw",
   "id": "b63b559b-d1f9-45b2-813c-8466e91d443b",
   "metadata": {},
   "source": [
    " Repository structure is a crucial part of your project’s architecture"
   ]
  },
  {
   "cell_type": "raw",
   "id": "fd11e186-2ea0-4f1b-a87d-b3d5a2caed7f",
   "metadata": {},
   "source": []
  },
  {
   "cell_type": "raw",
   "id": "1f8ec18d-60c8-4880-a3c4-ca25a204ebb3",
   "metadata": {},
   "source": [
    "tl;dr: This is what Kenneth Reitz recommended in 2013.\n",
    "\n",
    "This repository is available on GitHub:"
   ]
  },
  {
   "cell_type": "raw",
   "id": "5657b21e-52db-4c3c-9d16-cf582fc9e333",
   "metadata": {},
   "source": [
    "README.rst\n",
    "LICENSE\n",
    "setup.py\n",
    "requirements.txt\n",
    "sample/__init__.py\n",
    "sample/core.py\n",
    "sample/helpers.py\n",
    "docs/conf.py\n",
    "docs/index.rst\n",
    "tests/test_basic.py\n",
    "tests/test_advanced.py"
   ]
  },
  {
   "cell_type": "raw",
   "id": "335fdd59-06f8-4767-8ef1-fe329d6a3e0d",
   "metadata": {},
   "source": []
  },
  {
   "cell_type": "raw",
   "id": "65fd8f78-9f36-4306-9d69-fabf32bf562e",
   "metadata": {},
   "source": []
  },
  {
   "cell_type": "code",
   "execution_count": null,
   "id": "409a0eb9-2815-4db7-9cb6-f8548d696564",
   "metadata": {},
   "outputs": [],
   "source": []
  },
  {
   "cell_type": "code",
   "execution_count": null,
   "id": "0e57fa04-7bbb-4b87-8bdb-bd2ee774015a",
   "metadata": {},
   "outputs": [],
   "source": []
  },
  {
   "cell_type": "code",
   "execution_count": 1,
   "id": "18a6e82f-9970-4736-bf6a-dd8928a0518d",
   "metadata": {},
   "outputs": [],
   "source": [
    "from shapes import *"
   ]
  },
  {
   "cell_type": "code",
   "execution_count": 2,
   "id": "af87a94c-35e9-4ff8-a8c1-5539bba9d1e3",
   "metadata": {},
   "outputs": [],
   "source": [
    "# Circle(radius_size=[2,1,3], box_size=5).get_image()"
   ]
  },
  {
   "cell_type": "code",
   "execution_count": 3,
   "id": "7cdf68d2-9f51-4637-bdcd-869c98789e95",
   "metadata": {},
   "outputs": [
    {
     "data": {
      "text/plain": [
       "array([[[0., 0., 0., 0.],\n",
       "        [0., 1., 1., 1.],\n",
       "        [0., 1., 1., 1.],\n",
       "        [0., 1., 1., 1.]],\n",
       "\n",
       "       [[0., 0., 0., 0.],\n",
       "        [0., 0., 0., 0.],\n",
       "        [0., 0., 1., 0.],\n",
       "        [0., 0., 0., 0.]],\n",
       "\n",
       "       [[1., 1., 1., 1.],\n",
       "        [1., 1., 1., 1.],\n",
       "        [1., 1., 1., 1.],\n",
       "        [1., 1., 1., 1.]]])"
      ]
     },
     "execution_count": 3,
     "metadata": {},
     "output_type": "execute_result"
    }
   ],
   "source": [
    "Square(square_size=[2,1,3], box_size=5).get_image()"
   ]
  },
  {
   "cell_type": "code",
   "execution_count": 4,
   "id": "9be88b6c-6964-425a-970e-465075fad97e",
   "metadata": {},
   "outputs": [
    {
     "data": {
      "text/plain": [
       "array([[[0., 0., 0., 0.],\n",
       "        [0., 0., 0., 0.],\n",
       "        [0., 0., 0., 0.],\n",
       "        [1., 1., 1., 1.]]])"
      ]
     },
     "execution_count": 4,
     "metadata": {},
     "output_type": "execute_result"
    }
   ],
   "source": [
    "Line(line_position=4, box_size=5, line_ori='x').get_image()"
   ]
  },
  {
   "cell_type": "code",
   "execution_count": null,
   "id": "7ab9e32d-c38d-421b-b6c2-259147ca9ab4",
   "metadata": {},
   "outputs": [],
   "source": []
  },
  {
   "cell_type": "code",
   "execution_count": null,
   "id": "ebae1906-9a2a-4b7d-bf0d-12d1857abd44",
   "metadata": {},
   "outputs": [],
   "source": []
  }
 ],
 "metadata": {
  "kernelspec": {
   "display_name": "Python 3",
   "language": "python",
   "name": "python3"
  },
  "language_info": {
   "codemirror_mode": {
    "name": "ipython",
    "version": 3
   },
   "file_extension": ".py",
   "mimetype": "text/x-python",
   "name": "python",
   "nbconvert_exporter": "python",
   "pygments_lexer": "ipython3",
   "version": "3.9.12"
  }
 },
 "nbformat": 4,
 "nbformat_minor": 5
}
